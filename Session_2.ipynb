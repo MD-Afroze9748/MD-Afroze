{
 "cells": [
  {
   "cell_type": "code",
   "execution_count": 1,
   "id": "71779313-f30a-42b9-afae-0d85f9802af3",
   "metadata": {},
   "outputs": [
    {
     "data": {
      "text/plain": [
       "'C:\\\\Users\\\\mdafroze\\\\Documents\\\\NareshiT\\\\python_sessions'"
      ]
     },
     "execution_count": 1,
     "metadata": {},
     "output_type": "execute_result"
    }
   ],
   "source": [
    "import os\n",
    "os.getcwd()\n",
    "# get current working directory"
   ]
  },
  {
   "cell_type": "code",
   "execution_count": null,
   "id": "2eea6c2c-3337-420a-ab8c-b58d36e1cc83",
   "metadata": {},
   "outputs": [],
   "source": [
    "# checkpoint-1:\n",
    "# empty square bracket before the code cell\n",
    "# indicates we did not run the cell\n",
    "\n",
    "# checkpoint-2:\n",
    "# if we see a * mark inside square bracket\n",
    "# do not run the next code cell\n",
    "\n",
    "# start mark indicates kernel is busy\n",
    "# the same we can observe the top left corner black dot"
   ]
  },
  {
   "cell_type": "code",
   "execution_count": 4,
   "id": "a2eebe61-44bc-47ed-bcc1-ed2ace641eef",
   "metadata": {},
   "outputs": [],
   "source": [
    "number1=100"
   ]
  },
  {
   "cell_type": "code",
   "execution_count": 5,
   "id": "b14c1e06-20e3-4555-ad33-019d2d0e02bb",
   "metadata": {},
   "outputs": [
    {
     "data": {
      "text/plain": [
       "100"
      ]
     },
     "execution_count": 5,
     "metadata": {},
     "output_type": "execute_result"
    }
   ],
   "source": [
    "number1"
   ]
  },
  {
   "cell_type": "code",
   "execution_count": 6,
   "id": "0d91e64d-a801-49a9-9340-34f6f4a5867c",
   "metadata": {},
   "outputs": [],
   "source": [
    "number2=200"
   ]
  },
  {
   "cell_type": "code",
   "execution_count": 7,
   "id": "272f69ac-df24-4551-81fa-b895d63bbdbc",
   "metadata": {},
   "outputs": [
    {
     "data": {
      "text/plain": [
       "200"
      ]
     },
     "execution_count": 7,
     "metadata": {},
     "output_type": "execute_result"
    }
   ],
   "source": [
    "number2"
   ]
  },
  {
   "cell_type": "code",
   "execution_count": 9,
   "id": "b27bacf6-eeb1-47ff-a705-842f0cc9fdc3",
   "metadata": {},
   "outputs": [],
   "source": [
    "name=\"MD Afroze\""
   ]
  },
  {
   "cell_type": "code",
   "execution_count": 10,
   "id": "848024e9-6f43-43d5-bc75-7f0dd9d22aa9",
   "metadata": {},
   "outputs": [
    {
     "data": {
      "text/plain": [
       "'MD Afroze'"
      ]
     },
     "execution_count": 10,
     "metadata": {},
     "output_type": "execute_result"
    }
   ],
   "source": [
    "name"
   ]
  },
  {
   "cell_type": "markdown",
   "id": "c8d1b846-d678-49f6-9cdd-9109aea2054c",
   "metadata": {},
   "source": [
    "hello today im learning python\n",
    "\n",
    "square bracket is there : yes\n",
    "\n",
    "code mode is there : yes\n",
    "\n",
    "if these two are there which indicates this current cell used for to write code only\n",
    "\n",
    "if you write english i will throw error\n",
    "\n",
    "go to top code mode after a drop down symbol is there\n",
    "\n",
    "click on that\n",
    "\n",
    "we can see markdown option\n",
    "\n",
    "select  it then we can not see any square bracket"
   ]
  },
  {
   "cell_type": "markdown",
   "id": "63eab3d6-e928-4146-b275-9f5f412c9323",
   "metadata": {},
   "source": [
    "# python\n",
    "\n",
    "- esc+m will change code mode to markdowm mode\n",
    "\n",
    "- esc+y will change markdown mode to code mode\n",
    "\n",
    "- shift+enter"
   ]
  },
  {
   "cell_type": "markdown",
   "id": "5c16b747-b28d-41ab-8108-ba4ca67da071",
   "metadata": {},
   "source": [
    "# python\n",
    "## python\n",
    "### python\n",
    "#### python"
   ]
  },
  {
   "cell_type": "markdown",
   "id": "083a191f-d9ef-4ca1-a1dd-cb8d32788152",
   "metadata": {},
   "source": [
    "- Hi MD Afroze\n",
    "\n",
    "- how are you\n",
    "\n",
    "- how do you do"
   ]
  },
  {
   "cell_type": "markdown",
   "id": "81af9315-3362-4c94-a558-ce649e0ad223",
   "metadata": {},
   "source": [
    "**now i will show how to upload image**\n",
    "\n",
    "- but this will works for only some people\n",
    "\n",
    "- dont worry"
   ]
  },
  {
   "cell_type": "markdown",
   "id": "7a18f706-c50e-46dc-9be1-d966940732db",
   "metadata": {},
   "source": [
    "<div class=\"holder\" id=\"yui_3_5_1_1_1736156580037_780\"><div class=\"grad left\"></div><div class=\"iholder\" id=\"yui_3_5_1_1_1736156580037_779\"><img src=\"https://icon-library.com/images/python-icon-png/python-icon-png-2.jpg\" id=\"img\" style=\"width: 238px; height: 169px;\"></div><div class=\"grad right\"></div></div>"
   ]
  },
  {
   "cell_type": "code",
   "execution_count": null,
   "id": "ccea14c2-735a-4158-835c-29844f0ece37",
   "metadata": {},
   "outputs": [],
   "source": [
    "CTRL+A\n",
    "CTRL+C\n",
    "CTRL+V\n",
    "ESC+M\n",
    "SHIFT+ENTER"
   ]
  }
 ],
 "metadata": {
  "kernelspec": {
   "display_name": "Python 3 (ipykernel)",
   "language": "python",
   "name": "python3"
  },
  "language_info": {
   "codemirror_mode": {
    "name": "ipython",
    "version": 3
   },
   "file_extension": ".py",
   "mimetype": "text/x-python",
   "name": "python",
   "nbconvert_exporter": "python",
   "pygments_lexer": "ipython3",
   "version": "3.12.7"
  }
 },
 "nbformat": 4,
 "nbformat_minor": 5
}
