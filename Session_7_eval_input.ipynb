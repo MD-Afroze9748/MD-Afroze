{
 "cells": [
  {
   "cell_type": "code",
   "execution_count": null,
   "id": "7aaebddc-d7bb-4dde-932e-0e659550b375",
   "metadata": {},
   "outputs": [],
   "source": [
    "# 1)wap take the radius of a circle calculate area of the circle\n",
    "# var: radius   var: pi=3.14\n",
    "# formula: pi*radius*radius\n",
    "# print the answers using f string and format\n",
    "\n",
    "# 2)wap take the breadth and height of a right angle triangle\n",
    "# calculate the area\n",
    "# var1: breadth   var2: height\n",
    "# formula: 0.5*breadth*height\n",
    "\n",
    "# 3)wap take the bill amount and tip amount\n",
    "# calculate total bill\n",
    "# var1: bill amount   var2: tip amount\n",
    "# formula\n",
    "\n",
    "# 4)wap take the length and breadth of a rectangle calculate area\n",
    "# var1: length   var2: breadth\n",
    "# formula: length*breadth"
   ]
  },
  {
   "cell_type": "code",
   "execution_count": null,
   "id": "02635111-cc12-46ee-bb02-e043251556d3",
   "metadata": {},
   "outputs": [],
   "source": [
    "# if you are not able to do\n",
    "# take pen and book\n",
    "# 3rd\n",
    "# 0n the notes you need write that"
   ]
  },
  {
   "cell_type": "code",
   "execution_count": 2,
   "id": "063aaf01-a566-4901-bb44-5d241979c42e",
   "metadata": {},
   "outputs": [
    {
     "name": "stdout",
     "output_type": "stream",
     "text": [
      "The area of circle is: 1256.0\n",
      "The area of circle is: 1256.0\n"
     ]
    }
   ],
   "source": [
    "# 1)wap take the radius of a circle calculate area of the circle\n",
    "# var: radius   var: pi=3.14\n",
    "# formula: pi*radius*radius\n",
    "# print the answers using f string and format\n",
    "\n",
    "radius=20\n",
    "pi=3.14\n",
    "area=pi*radius*radius\n",
    "print(f'The area of circle is: {area}')\n",
    "print('The area of circle is: {}'.format(area))"
   ]
  },
  {
   "cell_type": "code",
   "execution_count": 3,
   "id": "1edc1232-a0b5-4442-90a8-97087e3a4007",
   "metadata": {},
   "outputs": [
    {
     "name": "stdout",
     "output_type": "stream",
     "text": [
      "The area of a right angle triangle is: 400.0\n",
      "The area of a right angle triangle is: 400.0\n"
     ]
    }
   ],
   "source": [
    "# 2)wap take the breadth and height of a right angle triangle\n",
    "# calculate the area\n",
    "# var1: breadth   var2: height\n",
    "# formula: 0.5*breadth*height\n",
    "\n",
    "breadth=20\n",
    "height=40\n",
    "area=0.5*breadth*height\n",
    "print(f'The area of a right angle triangle is: {area}')\n",
    "print('The area of a right angle triangle is: {}'.format(area))"
   ]
  },
  {
   "cell_type": "code",
   "execution_count": 4,
   "id": "95e6bcbb-609f-4658-9cb2-c1147c1e4236",
   "metadata": {},
   "outputs": [
    {
     "name": "stdout",
     "output_type": "stream",
     "text": [
      "The total bill amount is: 1200\n",
      "The total bill amount is: 1200\n"
     ]
    }
   ],
   "source": [
    "# 3)wap take the bill amount and tip amount\n",
    "# calculate total bill\n",
    "# var1: bill amount   var2: tip amount\n",
    "# formula\n",
    "\n",
    "bill_amount=1000\n",
    "tip_amount=200\n",
    "total_amount=bill_amount+tip_amount\n",
    "print(f'The total bill amount is: {total_amount}')\n",
    "print('The total bill amount is: {}'.format(total_amount))"
   ]
  },
  {
   "cell_type": "code",
   "execution_count": 5,
   "id": "c9f91c10-7870-43d9-93aa-34a1d10f27a4",
   "metadata": {},
   "outputs": [
    {
     "name": "stdout",
     "output_type": "stream",
     "text": [
      "The area of rectangle is: 800\n",
      "The area of rectangle is: 800\n"
     ]
    }
   ],
   "source": [
    "# 4)wap take the length and breadth of a rectangle calculate area\n",
    "# var1: length   var2: breadth\n",
    "# formula: length*breadth\n",
    "\n",
    "length=20\n",
    "breadth=40\n",
    "area=length*breadth\n",
    "print(f'The area of rectangle is: {area}')\n",
    "print('The area of rectangle is: {}'.format(area))"
   ]
  },
  {
   "cell_type": "code",
   "execution_count": null,
   "id": "97d7a655-2891-487f-9f85-1dfafa32b2d5",
   "metadata": {},
   "outputs": [],
   "source": [
    "radius=20\n",
    "pi=3.14\n",
    "\n",
    "breadth=20\n",
    "height=40\n",
    "\n",
    "bill_amount=1000\n",
    "tip_amount=200"
   ]
  },
  {
   "cell_type": "markdown",
   "id": "e940170f-8695-4c50-8f21-208fdde93ea0",
   "metadata": {},
   "source": [
    "**input**\n",
    "\n",
    "- in above we provided the value\n",
    "\n",
    "- input is the inbuilt function\n",
    "\n",
    "- using input the user can provide any value"
   ]
  },
  {
   "cell_type": "code",
   "execution_count": 6,
   "id": "5be71673-0c4d-4242-97dc-0a0669c582ce",
   "metadata": {},
   "outputs": [
    {
     "data": {
      "text/plain": [
       "<bound method Kernel.raw_input of <ipykernel.ipkernel.IPythonKernel object at 0x000002059FB3EC60>>"
      ]
     },
     "execution_count": 6,
     "metadata": {},
     "output_type": "execute_result"
    }
   ],
   "source": [
    "input"
   ]
  },
  {
   "cell_type": "markdown",
   "id": "dda597fb-6cfa-4720-ae3e-b916ad0c45dc",
   "metadata": {},
   "source": [
    "**Note: whenever if we see bound method or function which indicates we forgot the brackets**"
   ]
  },
  {
   "cell_type": "code",
   "execution_count": 7,
   "id": "e454ea96-66cf-4ac9-90a0-b934d161d73b",
   "metadata": {},
   "outputs": [
    {
     "name": "stdin",
     "output_type": "stream",
     "text": [
      " 100\n"
     ]
    },
    {
     "data": {
      "text/plain": [
       "'100'"
      ]
     },
     "execution_count": 7,
     "metadata": {},
     "output_type": "execute_result"
    }
   ],
   "source": [
    "input()"
   ]
  },
  {
   "cell_type": "code",
   "execution_count": 8,
   "id": "a64a61c4-a3e7-4ba6-921c-e56760679a0e",
   "metadata": {},
   "outputs": [
    {
     "name": "stdin",
     "output_type": "stream",
     "text": [
      " python\n"
     ]
    },
    {
     "data": {
      "text/plain": [
       "'python'"
      ]
     },
     "execution_count": 8,
     "metadata": {},
     "output_type": "execute_result"
    }
   ],
   "source": [
    "input()"
   ]
  },
  {
   "cell_type": "code",
   "execution_count": 1,
   "id": "a1c7ead8-9bea-46a1-8965-66a79e32a2a2",
   "metadata": {},
   "outputs": [
    {
     "data": {
      "text/plain": [
       "int"
      ]
     },
     "execution_count": 1,
     "metadata": {},
     "output_type": "execute_result"
    }
   ],
   "source": [
    "a=100\n",
    "type(a)"
   ]
  },
  {
   "cell_type": "code",
   "execution_count": 2,
   "id": "7b296344-6611-4e79-9f08-eb4f4d5c4214",
   "metadata": {},
   "outputs": [
    {
     "name": "stdin",
     "output_type": "stream",
     "text": [
      " b\n"
     ]
    }
   ],
   "source": [
    "b=input()"
   ]
  },
  {
   "cell_type": "code",
   "execution_count": 4,
   "id": "89df93c7-33c0-4a8e-a39f-9f0403b7464e",
   "metadata": {},
   "outputs": [
    {
     "data": {
      "text/plain": [
       "'python'"
      ]
     },
     "execution_count": 4,
     "metadata": {},
     "output_type": "execute_result"
    }
   ],
   "source": [
    "name=\"python\"\n",
    "name"
   ]
  },
  {
   "cell_type": "code",
   "execution_count": 1,
   "id": "dd2a8b9a-8a41-49c2-abb1-c5554bb2f218",
   "metadata": {},
   "outputs": [
    {
     "name": "stdin",
     "output_type": "stream",
     "text": [
      " nareshit\n"
     ]
    }
   ],
   "source": [
    "name=input()"
   ]
  },
  {
   "cell_type": "code",
   "execution_count": 3,
   "id": "be3a835f-d8b3-456f-85b1-ca59d26febce",
   "metadata": {},
   "outputs": [
    {
     "name": "stdin",
     "output_type": "stream",
     "text": [
      " 100\n",
      " 200\n",
      " 300\n"
     ]
    }
   ],
   "source": [
    "n1=input() # n1='100'\n",
    "n2=input() # n2='200'\n",
    "n3=input() # n3='300'"
   ]
  },
  {
   "cell_type": "code",
   "execution_count": 4,
   "id": "f7d2517e-a3bd-492f-a5dc-c697d77ee38e",
   "metadata": {},
   "outputs": [
    {
     "data": {
      "text/plain": [
       "('100', '200', '300')"
      ]
     },
     "execution_count": 4,
     "metadata": {},
     "output_type": "execute_result"
    }
   ],
   "source": [
    "n1,n2,n3"
   ]
  },
  {
   "cell_type": "code",
   "execution_count": null,
   "id": "0a9bf6f9-808a-4fc8-a74e-60ff9b86cfc4",
   "metadata": {},
   "outputs": [],
   "source": [
    "n1=input(\"enter the number1: \")\n",
    "n2=input(\"enter the number2: \")\n",
    "\n",
    "#n1='100'\n",
    "#n2='200'"
   ]
  },
  {
   "cell_type": "code",
   "execution_count": 6,
   "id": "d8ac5731-38e8-4c95-a711-58e7269e599c",
   "metadata": {},
   "outputs": [
    {
     "name": "stdin",
     "output_type": "stream",
     "text": [
      "enter the number1:  500\n",
      "enter the number2:  600\n"
     ]
    },
    {
     "data": {
      "text/plain": [
       "'500600'"
      ]
     },
     "execution_count": 6,
     "metadata": {},
     "output_type": "execute_result"
    }
   ],
   "source": [
    "n1=input(\"enter the number1: \")  # n1='500'\n",
    "n2=input(\"enter the number2: \")  # n2='600'\n",
    "n1+n2  #'500'+'600'='500600'"
   ]
  },
  {
   "cell_type": "markdown",
   "id": "56f438be-eb50-40e7-8a60-5678e9556a09",
   "metadata": {},
   "source": [
    "**input values by default string type**"
   ]
  },
  {
   "cell_type": "code",
   "execution_count": 7,
   "id": "9bb17358-c733-46fe-94f7-263e08cd8743",
   "metadata": {},
   "outputs": [
    {
     "data": {
      "text/plain": [
       "'100200'"
      ]
     },
     "execution_count": 7,
     "metadata": {},
     "output_type": "execute_result"
    }
   ],
   "source": [
    "'100'+'200'"
   ]
  },
  {
   "cell_type": "code",
   "execution_count": 8,
   "id": "d98ab6fc-c767-4166-a05e-a9ff6b33f86f",
   "metadata": {},
   "outputs": [
    {
     "data": {
      "text/plain": [
       "300"
      ]
     },
     "execution_count": 8,
     "metadata": {},
     "output_type": "execute_result"
    }
   ],
   "source": [
    "100+200"
   ]
  },
  {
   "cell_type": "code",
   "execution_count": 10,
   "id": "9a9c4f7a-2925-43e5-9a62-2240b6176c21",
   "metadata": {},
   "outputs": [
    {
     "data": {
      "text/plain": [
       "'appleisfruit'"
      ]
     },
     "execution_count": 10,
     "metadata": {},
     "output_type": "execute_result"
    }
   ],
   "source": [
    "str1='apple'\n",
    "str2='is'\n",
    "str3='fruit'\n",
    "str1+str2+str3"
   ]
  },
  {
   "cell_type": "code",
   "execution_count": 13,
   "id": "38e60717-70a5-408f-91d6-de9521b02d6e",
   "metadata": {},
   "outputs": [
    {
     "name": "stdin",
     "output_type": "stream",
     "text": [
      "enter a string1: apple\n",
      "enter a string2: is\n",
      "enter a string3: fruit\n"
     ]
    },
    {
     "data": {
      "text/plain": [
       "'appleisfruit'"
      ]
     },
     "execution_count": 13,
     "metadata": {},
     "output_type": "execute_result"
    }
   ],
   "source": [
    "str1=input(\"enter a string1:\")\n",
    "str2=input(\"enter a string2:\")\n",
    "str3=input(\"enter a string3:\")\n",
    "str1+str2+str3"
   ]
  },
  {
   "cell_type": "code",
   "execution_count": 14,
   "id": "ea1c067a-4f31-4071-8856-4e2e1a351d77",
   "metadata": {},
   "outputs": [
    {
     "name": "stdin",
     "output_type": "stream",
     "text": [
      "enter the number1: 500\n",
      "enter the number2: 600\n"
     ]
    },
    {
     "data": {
      "text/plain": [
       "1100"
      ]
     },
     "execution_count": 14,
     "metadata": {},
     "output_type": "execute_result"
    }
   ],
   "source": [
    "n1=int(input(\"enter the number1:\")) # n1=int('500')=500\n",
    "n2=int(input(\"enter the number2:\")) # n2=int('600')=600\n",
    "n1+n2  # 500+600=1100"
   ]
  },
  {
   "cell_type": "code",
   "execution_count": 15,
   "id": "0f9fdc2a-dc1c-438f-b86c-b2b7135bd5f6",
   "metadata": {},
   "outputs": [
    {
     "data": {
      "text/plain": [
       "1100"
      ]
     },
     "execution_count": 15,
     "metadata": {},
     "output_type": "execute_result"
    }
   ],
   "source": [
    "n1=int('500')\n",
    "n2=int('600')\n",
    "n1+n2"
   ]
  },
  {
   "cell_type": "code",
   "execution_count": 16,
   "id": "bca50960-278c-4f1c-b504-15726adcb520",
   "metadata": {},
   "outputs": [
    {
     "name": "stdin",
     "output_type": "stream",
     "text": [
      "enter the number1: 500\n",
      "enter the number2: 600\n"
     ]
    },
    {
     "data": {
      "text/plain": [
       "1100"
      ]
     },
     "execution_count": 16,
     "metadata": {},
     "output_type": "execute_result"
    }
   ],
   "source": [
    "n1=input(\"enter the number1:\")  # n1='500'\n",
    "n2=input(\"enter the number2:\")  # n2='600'\n",
    "int(n1)+int(n2)  # int('500')+int('600')=500+600=1100"
   ]
  },
  {
   "cell_type": "code",
   "execution_count": null,
   "id": "a6e438f7-ac13-49a3-8502-a4fcf9230d0f",
   "metadata": {},
   "outputs": [],
   "source": [
    "n1=int(input(\"enter the number1:\"))  # n1=int('500')=500\n",
    "n2=int(input(\"enter the number2:\"))  # n2=int('600')=600\n",
    "n1+n2  # 500+600=1100\n",
    "\n",
    "n1=input(\"enter the number1:\")  # n1='500'\n",
    "n2=input(\"enter the number2:\")  # n2='600'\n",
    "int(n1)+int(n2)  # int('500')+int('600')=500+600=1100"
   ]
  },
  {
   "cell_type": "code",
   "execution_count": 17,
   "id": "7275d40e-f88e-4483-aec8-aa34c0b7b06b",
   "metadata": {},
   "outputs": [
    {
     "name": "stdin",
     "output_type": "stream",
     "text": [
      "enter the number1: 0.5\n",
      "enter the number2: 20\n"
     ]
    },
    {
     "data": {
      "text/plain": [
       "20.5"
      ]
     },
     "execution_count": 17,
     "metadata": {},
     "output_type": "execute_result"
    }
   ],
   "source": [
    "n1=float(input(\"enter the number1:\"))\n",
    "n2=int(input(\"enter the number2:\"))\n",
    "n1+n2"
   ]
  },
  {
   "cell_type": "markdown",
   "id": "8f1b7a9e-3608-45b5-888f-2059ba36f076",
   "metadata": {},
   "source": [
    "**eval**\n",
    "\n",
    "- eval means evaluate\n",
    "\n",
    "- it is related to math family\n",
    "\n",
    "- which means it works only number represent as strings\n",
    "\n",
    "- it will not works on english letters\n",
    "\n",
    "- eval will convert the respective data type which is user enter\n",
    "\n",
    "- if user enter 10 in quotes it will convert into 10\n",
    "\n",
    "- if user enter 10.5 in quotes it will convert into 10.5"
   ]
  },
  {
   "cell_type": "code",
   "execution_count": null,
   "id": "d6b48419-aac5-4596-b22c-ff9fb2eefcb5",
   "metadata": {},
   "outputs": [],
   "source": [
    "int('10')    # 10\n",
    "int('10.5')  # error\n",
    "\n",
    "float('10')    # 10.0\n",
    "float('10.5')  #10.5"
   ]
  },
  {
   "cell_type": "code",
   "execution_count": 18,
   "id": "716f207c-8a46-40b5-837f-6ce24bf33709",
   "metadata": {},
   "outputs": [
    {
     "data": {
      "text/plain": [
       "(10, 10.5)"
      ]
     },
     "execution_count": 18,
     "metadata": {},
     "output_type": "execute_result"
    }
   ],
   "source": [
    "eval('10'),eval('10.5')"
   ]
  },
  {
   "cell_type": "code",
   "execution_count": 1,
   "id": "870ef525-3e61-416e-b58c-6e3dffc215c0",
   "metadata": {},
   "outputs": [
    {
     "name": "stdin",
     "output_type": "stream",
     "text": [
      "enter the number1: 0.5\n",
      "enter the number2: 30\n"
     ]
    },
    {
     "data": {
      "text/plain": [
       "30.5"
      ]
     },
     "execution_count": 1,
     "metadata": {},
     "output_type": "execute_result"
    }
   ],
   "source": [
    "n1=eval(input(\"enter the number1:\"))\n",
    "n2=eval(input(\"enter the number2:\"))\n",
    "\n",
    "n1+n2"
   ]
  },
  {
   "cell_type": "code",
   "execution_count": null,
   "id": "8258d521-09d8-44ce-8133-4eb742fdcd96",
   "metadata": {},
   "outputs": [],
   "source": [
    "# 1)wap ask the user enter 3 numbers n1,n2,n3 from keyboard\n",
    "# calculate average\n",
    "\n",
    "# 2)wap ask the user enter name age city\n",
    "# print my name is python im 10 years old and came from hyd\n",
    "\n",
    "# 3)wap ask the user to enter radius of a circle calculate area of the circle\n",
    "# var: radius   var: pi=3.14\n",
    "# formula: pi*radius*radius\n",
    "# print the answers using f string and format\n",
    "\n",
    "# 4)wap ask the user enter breadth and height of a right angle triangle\n",
    "# calculate the area\n",
    "# var1: breadth   var2: height\n",
    "# formula: 0.5*breadth*height\n",
    "\n",
    "# 5)wap ask the user enter the bill amount and tip amount\n",
    "# calculate total bill\n",
    "# var1: bill amount   var2: tip amount\n",
    "# formula\n",
    "\n",
    "# 6)wap ask the user enter the bill amount and tip percentage\n",
    "# take tip percentage as 10\n",
    "# calculate total bill= bill amount+bill amount*tip per/100\n",
    "# var1: bill amount   var2: tip amount\n",
    "# formula\n",
    "\n",
    "# 7)wap ask the user enter the length and breadth of a rectangle calculate area\n",
    "# var1: length   var2: breadth\n",
    "# formula: length*breadth\n",
    "\n",
    "# 8)wap ask the user take the radius and calculate volume of sphere\n",
    "# formula: pi*r**3(pi*r*r*r)\n",
    "\n",
    "# 9)wap ask the user enter amount in dollars convert into rupees\n",
    "# 1$=85rs\n",
    "\n",
    "# 10)wap ask the user enter weight in kgs convert into pounds\n",
    "# 1kg=2.2pounds"
   ]
  },
  {
   "cell_type": "markdown",
   "id": "50cbb726-9968-4835-8229-c95152494e65",
   "metadata": {},
   "source": [
    "- strings or english does not require eval\n",
    "\n",
    "- avg=eval(n1+n2+n3)"
   ]
  }
 ],
 "metadata": {
  "kernelspec": {
   "display_name": "Python 3 (ipykernel)",
   "language": "python",
   "name": "python3"
  },
  "language_info": {
   "codemirror_mode": {
    "name": "ipython",
    "version": 3
   },
   "file_extension": ".py",
   "mimetype": "text/x-python",
   "name": "python",
   "nbconvert_exporter": "python",
   "pygments_lexer": "ipython3",
   "version": "3.12.7"
  }
 },
 "nbformat": 4,
 "nbformat_minor": 5
}
