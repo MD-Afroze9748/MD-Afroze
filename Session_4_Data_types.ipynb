{
 "cells": [
  {
   "cell_type": "markdown",
   "id": "50db234c-ec96-4fde-aaa2-4517fad65e9b",
   "metadata": {},
   "source": [
    "## Data Type"
   ]
  },
  {
   "cell_type": "markdown",
   "id": "f7477f4f-120b-4a1e-84f0-bf205158df2d",
   "metadata": {},
   "source": [
    "- integer :int\n",
    "\n",
    "- float\n",
    "\n",
    "- string\n",
    "\n",
    "- list\n",
    "\n",
    "- tuple\n",
    "\n",
    "- set\n",
    "\n",
    "    - frozen set\n",
    "\n",
    "- dictionary\n",
    "\n",
    "- bool\n",
    "\n",
    "- complex\n",
    "\n",
    "- range\n",
    "\n",
    "- byte\n",
    "\n",
    "- byte array\n",
    "\n",
    "- memory view\n",
    "\n",
    "- None type "
   ]
  },
  {
   "cell_type": "markdown",
   "id": "6978a8c4-2e95-4cdd-8051-7d88a222566f",
   "metadata": {},
   "source": [
    "- myth\n",
    "    - only 14-15 data type available"
   ]
  },
  {
   "cell_type": "markdown",
   "id": "90ca815d-0bfa-45d0-96b7-e7805a3fb3cc",
   "metadata": {},
   "source": [
    "$integer$"
   ]
  },
  {
   "cell_type": "code",
   "execution_count": 1,
   "id": "92bfa7b1-e4f2-4579-80db-9922726ec544",
   "metadata": {},
   "outputs": [
    {
     "data": {
      "text/plain": [
       "100"
      ]
     },
     "execution_count": 1,
     "metadata": {},
     "output_type": "execute_result"
    }
   ],
   "source": [
    "number=100\n",
    "number"
   ]
  },
  {
   "cell_type": "code",
   "execution_count": 2,
   "id": "6ccca21d-f2db-4316-b6f2-25c58d7a42ac",
   "metadata": {},
   "outputs": [
    {
     "data": {
      "text/plain": [
       "int"
      ]
     },
     "execution_count": 2,
     "metadata": {},
     "output_type": "execute_result"
    }
   ],
   "source": [
    "type(number)"
   ]
  },
  {
   "cell_type": "markdown",
   "id": "3876854a-7e43-48da-887e-c8ea55e5cbca",
   "metadata": {},
   "source": [
    "**number system**\n",
    "\n",
    "- Binary number system\n",
    "\n",
    "- Decimal number system\n",
    "\n",
    "- octal number system\n",
    "\n",
    "- Hexa number system"
   ]
  },
  {
   "cell_type": "code",
   "execution_count": 1,
   "id": "217d3a5c-6fa2-437a-a658-780c6989ab23",
   "metadata": {},
   "outputs": [
    {
     "data": {
      "text/plain": [
       "2025"
      ]
     },
     "execution_count": 1,
     "metadata": {},
     "output_type": "execute_result"
    }
   ],
   "source": [
    "9*9\n",
    "5*5\n",
    "81*25"
   ]
  },
  {
   "cell_type": "code",
   "execution_count": 2,
   "id": "a3e70072-a348-4e1c-b263-c034bca0508c",
   "metadata": {},
   "outputs": [
    {
     "data": {
      "text/plain": [
       "2025"
      ]
     },
     "execution_count": 2,
     "metadata": {},
     "output_type": "execute_result"
    }
   ],
   "source": [
    "40*40+20*20+5*5"
   ]
  },
  {
   "cell_type": "code",
   "execution_count": 3,
   "id": "a5aadf06-ea32-4d75-9059-697f540d41c2",
   "metadata": {},
   "outputs": [
    {
     "data": {
      "text/plain": [
       "2025"
      ]
     },
     "execution_count": 3,
     "metadata": {},
     "output_type": "execute_result"
    }
   ],
   "source": [
    "sum([i**3 for i in range(1,10)])"
   ]
  },
  {
   "cell_type": "markdown",
   "id": "9fda66c5-0ca6-47f8-852a-7692ae372360",
   "metadata": {},
   "source": [
    "**Binary number system**\n",
    "- it is denoted with **0b** or **0B**\n",
    "\n",
    "- Binary means two\n",
    "\n",
    "- we have generally 0 to 9 digits available\n",
    "\n",
    "- binary means only twi digits allowed : 0 and 1\n",
    "\n",
    "- ex : 0b101b1110b000\n",
    "\n",
    "- not valid : 0b1230B100012"
   ]
  },
  {
   "cell_type": "code",
   "execution_count": 5,
   "id": "bf6b6cb1-7d1b-4230-b1ff-c93e00ea6067",
   "metadata": {},
   "outputs": [
    {
     "data": {
      "text/plain": [
       "(7, 5)"
      ]
     },
     "execution_count": 5,
     "metadata": {},
     "output_type": "execute_result"
    }
   ],
   "source": [
    "0b111,0b101"
   ]
  },
  {
   "cell_type": "code",
   "execution_count": 3,
   "id": "e2694c9a-96e3-454f-a1f0-798b103b5a94",
   "metadata": {},
   "outputs": [
    {
     "data": {
      "text/plain": [
       "29"
      ]
     },
     "execution_count": 3,
     "metadata": {},
     "output_type": "execute_result"
    }
   ],
   "source": [
    "0b11101"
   ]
  },
  {
   "cell_type": "code",
   "execution_count": null,
   "id": "db925031-386b-4a60-9354-55e4b57093e8",
   "metadata": {},
   "outputs": [],
   "source": [
    "2^2    2^1    2^0\n",
    "4       2       1\n",
    "##############################\n",
    "0       0       0       0\n",
    "0       0       1       1\n",
    "0       1       0       2\n",
    "0       1       1       3\n",
    "1       0       0       4\n",
    "1       0       1       5         \n",
    "1       1       0       6\n",
    "1       1       1       7"
   ]
  },
  {
   "cell_type": "code",
   "execution_count": null,
   "id": "f2b4622c-882a-4f95-a1d6-11cf229fab6b",
   "metadata": {},
   "outputs": [],
   "source": [
    "2^3    2^2     2^1     2^0\n",
    "8       4       2       1  \n",
    "######################################\n",
    "0       0       0       0       0\n",
    "0       0       0       1       1\n",
    "0       0       1       0       2\n",
    "0       0       1       1       3\n",
    "0       1       0       0       4\n",
    "0       1       0       1       5\n",
    "0       1       1       0       6\n",
    "0       1       1       1       7\n",
    "1       0       0       0       8\n",
    "1       0       0       1       9\n",
    "1       0       1       0       10\n",
    "1       0       1       1       11\n",
    "1       1       0       0       12       \n",
    "1       1       0       1       13\n",
    "1       1       1       0       14\n",
    "1       1       1       1       15"
   ]
  },
  {
   "cell_type": "markdown",
   "id": "0021c52a-5669-487b-b8fb-e7450c36e000",
   "metadata": {},
   "source": [
    "**octal number system**\n",
    "\n",
    "- it is denoted with **0o** or **0O**\n",
    "\n",
    "- octal means 8\n",
    "\n",
    "- we have generally 0 to 9 digital available\n",
    "\n",
    "- octal means only twi digits allowed:0 1 2 3 4 5 6 7\n",
    "\n",
    "- ex: 0o567,0o111,0o001,0o672\n",
    "\n",
    "- not valid : 0o768,0o169"
   ]
  },
  {
   "cell_type": "code",
   "execution_count": 5,
   "id": "ec967993-7818-483d-90bf-cee9fbef43cd",
   "metadata": {},
   "outputs": [
    {
     "data": {
      "text/plain": [
       "83"
      ]
     },
     "execution_count": 5,
     "metadata": {},
     "output_type": "execute_result"
    }
   ],
   "source": [
    "0o123"
   ]
  },
  {
   "cell_type": "markdown",
   "id": "15d2bc9a-eced-4e52-a2d1-b5c4839d795b",
   "metadata": {},
   "source": [
    "**hexa number system**\n",
    "\n",
    "- it is denoted with 0x or 0X\n",
    "\n",
    "- hexa means 16\n",
    "\n",
    "- we have generally 0 to 9 digits available \n",
    "\n",
    "- hexa means only twi digits allowed:0 to 9,A tO F\n",
    "\n",
    "- A:10 B:11 C:12 D:13 E:14 F:15\n",
    "\n",
    "- ex:0xabc 0XA1\n",
    "\n",
    "- not valid:0xefg"
   ]
  },
  {
   "cell_type": "code",
   "execution_count": 1,
   "id": "d5bc411d-fc71-4d53-abd0-f3579a40f155",
   "metadata": {},
   "outputs": [
    {
     "data": {
      "text/plain": [
       "2748"
      ]
     },
     "execution_count": 1,
     "metadata": {},
     "output_type": "execute_result"
    }
   ],
   "source": [
    "0xabc"
   ]
  },
  {
   "cell_type": "markdown",
   "id": "caade02c-d0be-4c67-9541-9d724b527593",
   "metadata": {},
   "source": [
    "**2025**"
   ]
  },
  {
   "cell_type": "markdown",
   "id": "0e0af7d9-9ad9-4add-a929-9d6c87cdde78",
   "metadata": {},
   "source": [
    "- Binary"
   ]
  },
  {
   "cell_type": "code",
   "execution_count": 2,
   "id": "7bc5ddec-1657-4c96-84e3-45454c094af5",
   "metadata": {},
   "outputs": [
    {
     "data": {
      "text/plain": [
       "2025"
      ]
     },
     "execution_count": 2,
     "metadata": {},
     "output_type": "execute_result"
    }
   ],
   "source": [
    "0b11111101001"
   ]
  },
  {
   "cell_type": "markdown",
   "id": "df6004d1-3447-47b1-b7a7-50799f036d2e",
   "metadata": {},
   "source": [
    "- Octal"
   ]
  },
  {
   "cell_type": "code",
   "execution_count": 3,
   "id": "740df0be-09b4-4171-99c9-53da2094e16d",
   "metadata": {},
   "outputs": [
    {
     "data": {
      "text/plain": [
       "2025"
      ]
     },
     "execution_count": 3,
     "metadata": {},
     "output_type": "execute_result"
    }
   ],
   "source": [
    "0o3751"
   ]
  },
  {
   "cell_type": "markdown",
   "id": "7e172359-e5ae-468d-ba07-2ca5817f91ef",
   "metadata": {},
   "source": [
    "- hexa"
   ]
  },
  {
   "cell_type": "code",
   "execution_count": 4,
   "id": "f7d0f4f6-9422-4d70-96e2-0f9a66b31441",
   "metadata": {},
   "outputs": [
    {
     "data": {
      "text/plain": [
       "2025"
      ]
     },
     "execution_count": 4,
     "metadata": {},
     "output_type": "execute_result"
    }
   ],
   "source": [
    "0X7E9"
   ]
  },
  {
   "cell_type": "markdown",
   "id": "be7bebb2-06a2-481a-be29-efe89388cda3",
   "metadata": {},
   "source": [
    "**float**"
   ]
  },
  {
   "cell_type": "code",
   "execution_count": 5,
   "id": "30a48b8f-cdda-4373-88cf-886eb65035dc",
   "metadata": {},
   "outputs": [
    {
     "data": {
      "text/plain": [
       "float"
      ]
     },
     "execution_count": 5,
     "metadata": {},
     "output_type": "execute_result"
    }
   ],
   "source": [
    "number=10.5\n",
    "type(number)"
   ]
  },
  {
   "cell_type": "markdown",
   "id": "a4055c09-ee45-4d87-8dce-607a2cdd0f4b",
   "metadata": {},
   "source": [
    "**e representation**"
   ]
  },
  {
   "cell_type": "code",
   "execution_count": 6,
   "id": "386dfe1b-59c9-4747-964c-02d164179103",
   "metadata": {},
   "outputs": [
    {
     "data": {
      "text/plain": [
       "10.0"
      ]
     },
     "execution_count": 6,
     "metadata": {},
     "output_type": "execute_result"
    }
   ],
   "source": [
    "1e1"
   ]
  },
  {
   "cell_type": "code",
   "execution_count": 6,
   "id": "0463790d-e792-4dcb-8541-cfdd0e54eb83",
   "metadata": {},
   "outputs": [
    {
     "data": {
      "text/plain": [
       "100.0"
      ]
     },
     "execution_count": 6,
     "metadata": {},
     "output_type": "execute_result"
    }
   ],
   "source": [
    "1e2"
   ]
  },
  {
   "cell_type": "code",
   "execution_count": 7,
   "id": "8c757d71-c70e-4b71-b3da-5ab51c6cb474",
   "metadata": {},
   "outputs": [
    {
     "data": {
      "text/plain": [
       "1000.0"
      ]
     },
     "execution_count": 7,
     "metadata": {},
     "output_type": "execute_result"
    }
   ],
   "source": [
    "1e3  # 1*1000"
   ]
  },
  {
   "cell_type": "code",
   "execution_count": 8,
   "id": "427b246b-ed65-4fd3-a071-6223ad862ec3",
   "metadata": {},
   "outputs": [
    {
     "data": {
      "text/plain": [
       "20000.0"
      ]
     },
     "execution_count": 8,
     "metadata": {},
     "output_type": "execute_result"
    }
   ],
   "source": [
    "2e4  # 2*10000"
   ]
  },
  {
   "cell_type": "code",
   "execution_count": null,
   "id": "b53b8f76-34af-4c33-b00a-46e8aa271b6d",
   "metadata": {},
   "outputs": [],
   "source": [
    "1e1  # 1*10=10\n",
    "1e2  # 1*100=100\n",
    "2e3  # 2*1000=2000\n",
    "4e4  # 4*10000=40000"
   ]
  },
  {
   "cell_type": "code",
   "execution_count": 10,
   "id": "e802849d-67a6-4361-9b2a-bb9622e9a21b",
   "metadata": {},
   "outputs": [
    {
     "name": "stdout",
     "output_type": "stream",
     "text": [
      "0.1\n",
      "0.01\n",
      "0.002\n",
      "0.0004\n"
     ]
    }
   ],
   "source": [
    "print(1e-1)  #1/10=0.1\n",
    "print(1e-2)  #1/100=0.01\n",
    "print(2e-3)  #2/1000=0.002\n",
    "print(4e-4)  #4/10000=0.0004"
   ]
  },
  {
   "cell_type": "code",
   "execution_count": null,
   "id": "a47eaaf6-700a-4648-bd12-2d6e4abf38c5",
   "metadata": {},
   "outputs": [],
   "source": [
    "# integer data type\n",
    "# float data type"
   ]
  },
  {
   "cell_type": "markdown",
   "id": "5035ffb1-6fc1-427f-8367-12851c359c80",
   "metadata": {},
   "source": [
    "**boolean**"
   ]
  },
  {
   "cell_type": "code",
   "execution_count": 9,
   "id": "00fb9c7c-f914-4390-b649-33384aa6f224",
   "metadata": {},
   "outputs": [
    {
     "data": {
      "text/plain": [
       "True"
      ]
     },
     "execution_count": 9,
     "metadata": {},
     "output_type": "execute_result"
    }
   ],
   "source": [
    "val=True\n",
    "val"
   ]
  },
  {
   "cell_type": "code",
   "execution_count": 10,
   "id": "c710ae49-4685-4f7f-b839-36acbf341f41",
   "metadata": {},
   "outputs": [
    {
     "data": {
      "text/plain": [
       "bool"
      ]
     },
     "execution_count": 10,
     "metadata": {},
     "output_type": "execute_result"
    }
   ],
   "source": [
    "type(val)"
   ]
  },
  {
   "cell_type": "code",
   "execution_count": 11,
   "id": "cf00b632-3f45-48b7-9129-9c2ac76e5ea3",
   "metadata": {},
   "outputs": [
    {
     "data": {
      "text/plain": [
       "bool"
      ]
     },
     "execution_count": 11,
     "metadata": {},
     "output_type": "execute_result"
    }
   ],
   "source": [
    "val1=False\n",
    "type(val1)"
   ]
  },
  {
   "cell_type": "markdown",
   "id": "22fa170c-e017-4fb5-8a68-9ea6bd6fee79",
   "metadata": {},
   "source": [
    "**String**\n",
    "\n",
    "- English format representation\n",
    "\n",
    "- strings represent with quotes\n",
    "\n",
    "- we can use single quotes, double quotes also triple quotes"
   ]
  },
  {
   "cell_type": "code",
   "execution_count": 12,
   "id": "55f84991-a9f3-493d-9e86-f166ac3f0823",
   "metadata": {},
   "outputs": [
    {
     "data": {
      "text/plain": [
       "'python'"
      ]
     },
     "execution_count": 12,
     "metadata": {},
     "output_type": "execute_result"
    }
   ],
   "source": [
    "name='python'\n",
    "name"
   ]
  },
  {
   "cell_type": "code",
   "execution_count": 13,
   "id": "ae2ef8f9-1c85-42c0-8e37-4dd534a39898",
   "metadata": {},
   "outputs": [
    {
     "data": {
      "text/plain": [
       "str"
      ]
     },
     "execution_count": 13,
     "metadata": {},
     "output_type": "execute_result"
    }
   ],
   "source": [
    "type(name)"
   ]
  },
  {
   "cell_type": "code",
   "execution_count": 14,
   "id": "ccf9eddd-732b-455c-83a0-12922913af19",
   "metadata": {},
   "outputs": [
    {
     "name": "stdout",
     "output_type": "stream",
     "text": [
      "python\n"
     ]
    }
   ],
   "source": [
    "print(name)\n",
    "# when we print we will not able to see the quotes"
   ]
  },
  {
   "cell_type": "code",
   "execution_count": 15,
   "id": "311e9513-ebaa-4a4d-8975-d5f84a0b5562",
   "metadata": {},
   "outputs": [
    {
     "data": {
      "text/plain": [
       "str"
      ]
     },
     "execution_count": 15,
     "metadata": {},
     "output_type": "execute_result"
    }
   ],
   "source": [
    "val='10'\n",
    "type(val)"
   ]
  },
  {
   "cell_type": "code",
   "execution_count": 16,
   "id": "bd35bd93-7a65-49f3-b00f-010cdf94d1f3",
   "metadata": {},
   "outputs": [
    {
     "data": {
      "text/plain": [
       "int"
      ]
     },
     "execution_count": 16,
     "metadata": {},
     "output_type": "execute_result"
    }
   ],
   "source": [
    "val1=10\n",
    "type(val1)"
   ]
  },
  {
   "cell_type": "code",
   "execution_count": 17,
   "id": "002e0d18-cb01-4cd7-ad63-3c04db5292bf",
   "metadata": {},
   "outputs": [
    {
     "data": {
      "text/plain": [
       "'naresh it'"
      ]
     },
     "execution_count": 17,
     "metadata": {},
     "output_type": "execute_result"
    }
   ],
   "source": [
    "name=\"naresh it\"\n",
    "name\n",
    "# but the output displayed as single quotes"
   ]
  },
  {
   "cell_type": "code",
   "execution_count": 18,
   "id": "eedaed91-d5e4-4bca-b9db-64b986f5fcea",
   "metadata": {},
   "outputs": [
    {
     "data": {
      "text/plain": [
       "str"
      ]
     },
     "execution_count": 18,
     "metadata": {},
     "output_type": "execute_result"
    }
   ],
   "source": [
    "type(name)"
   ]
  },
  {
   "cell_type": "code",
   "execution_count": 19,
   "id": "c54b2de7-259a-4e5f-8c0b-1ef668d38c51",
   "metadata": {},
   "outputs": [
    {
     "name": "stdout",
     "output_type": "stream",
     "text": [
      "naresh it\n"
     ]
    }
   ],
   "source": [
    "print(name)"
   ]
  },
  {
   "cell_type": "code",
   "execution_count": 20,
   "id": "00603a01-c5dd-427a-a462-6eb86d33a70c",
   "metadata": {},
   "outputs": [
    {
     "name": "stdout",
     "output_type": "stream",
     "text": [
      "i love 'python'\n"
     ]
    }
   ],
   "source": [
    "str1=\"i love 'python'\"\n",
    "print(str1)"
   ]
  },
  {
   "cell_type": "code",
   "execution_count": 21,
   "id": "3f2992a6-1e91-42ed-8e4d-5d8253b0022a",
   "metadata": {},
   "outputs": [
    {
     "name": "stdout",
     "output_type": "stream",
     "text": [
      "i love \"python\"\n"
     ]
    }
   ],
   "source": [
    "str1='i love \"python\"'\n",
    "print(str1)"
   ]
  },
  {
   "cell_type": "markdown",
   "id": "8aeeeae2-3d0e-4da1-a60c-f55a740ee920",
   "metadata": {},
   "source": [
    "- keep entire string in Double quotes then highlite the word with single quote vice versa"
   ]
  },
  {
   "cell_type": "markdown",
   "id": "7d97a1c9-870e-4052-8f75-da91d9202194",
   "metadata": {},
   "source": [
    "**triple quotes**\n",
    "\n",
    "- triple quotes can not use in coding part \n",
    "\n",
    "- triple quotes means conveying the information\n",
    "\n",
    "- this is process is called as **Doc string**\n",
    "\n",
    "- in jupyter notebook we have markdown option\n",
    "\n",
    "- but in vscode or pycharm there is no markdown option \n",
    "\n",
    "- so user will convey the information by providing triple quotes"
   ]
  },
  {
   "cell_type": "code",
   "execution_count": null,
   "id": "50eb0c94-62cb-4c3f-841e-6d9f004c8839",
   "metadata": {},
   "outputs": [],
   "source": [
    "\"\"\"hai\n",
    "today im learning python\n",
    "its easy\"\"\""
   ]
  },
  {
   "cell_type": "code",
   "execution_count": null,
   "id": "f161b10a-21e6-4422-a944-d270a7453538",
   "metadata": {},
   "outputs": [],
   "source": [
    "true=True   #  W\n",
    "true='True' #  W\n",
    "true=10.5   #  W\n",
    "True=10     #  F\n",
    "True=True   #  F"
   ]
  },
  {
   "cell_type": "code",
   "execution_count": 1,
   "id": "1ef0c8be-5729-4d76-9f62-3fda8ad250ff",
   "metadata": {},
   "outputs": [
    {
     "ename": "SyntaxError",
     "evalue": "cannot assign to True (2941772833.py, line 1)",
     "output_type": "error",
     "traceback": [
      "\u001b[1;36m  Cell \u001b[1;32mIn[1], line 1\u001b[1;36m\u001b[0m\n\u001b[1;33m    True=10\u001b[0m\n\u001b[1;37m    ^\u001b[0m\n\u001b[1;31mSyntaxError\u001b[0m\u001b[1;31m:\u001b[0m cannot assign to True\n"
     ]
    }
   ],
   "source": [
    "True=10"
   ]
  },
  {
   "cell_type": "code",
   "execution_count": 2,
   "id": "d2e1d5f1-ec9f-4021-a228-9001de25cf2a",
   "metadata": {},
   "outputs": [
    {
     "ename": "SyntaxError",
     "evalue": "cannot assign to True (2826156406.py, line 1)",
     "output_type": "error",
     "traceback": [
      "\u001b[1;36m  Cell \u001b[1;32mIn[2], line 1\u001b[1;36m\u001b[0m\n\u001b[1;33m    True=True\u001b[0m\n\u001b[1;37m    ^\u001b[0m\n\u001b[1;31mSyntaxError\u001b[0m\u001b[1;31m:\u001b[0m cannot assign to True\n"
     ]
    }
   ],
   "source": [
    "True=True"
   ]
  },
  {
   "cell_type": "code",
   "execution_count": null,
   "id": "b8d432ac-0855-4184-9e32-2d391b4b1c91",
   "metadata": {},
   "outputs": [],
   "source": []
  }
 ],
 "metadata": {
  "kernelspec": {
   "display_name": "Python 3 (ipykernel)",
   "language": "python",
   "name": "python3"
  },
  "language_info": {
   "codemirror_mode": {
    "name": "ipython",
    "version": 3
   },
   "file_extension": ".py",
   "mimetype": "text/x-python",
   "name": "python",
   "nbconvert_exporter": "python",
   "pygments_lexer": "ipython3",
   "version": "3.12.7"
  }
 },
 "nbformat": 4,
 "nbformat_minor": 5
}
