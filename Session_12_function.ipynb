{
 "cells": [
  {
   "cell_type": "markdown",
   "id": "0f18b10e-15a7-4138-8a88-4469d2936cbb",
   "metadata": {},
   "source": [
    "## Function\n",
    "\n",
    "- Reuse of the code block\n",
    "\n",
    "- Function also called as method\n",
    "\n",
    "- Function with out arguments\n",
    "\n",
    "- Function with arguments\n",
    "\n",
    "- Function with defaul arguments\n",
    "\n",
    "- Function with keyword arguments (kwargs)\n",
    "\n",
    "- Function with global and local variable\n",
    "\n",
    "- Function with return\n",
    "\n",
    "- Function in Function "
   ]
  },
  {
   "cell_type": "code",
   "execution_count": 3,
   "id": "efda7747-bb88-4c9e-8736-7fa434c0324c",
   "metadata": {},
   "outputs": [
    {
     "name": "stdin",
     "output_type": "stream",
     "text": [
      "enter the income: 100000\n",
      "enter the tax percentage: 5\n"
     ]
    },
    {
     "name": "stdout",
     "output_type": "stream",
     "text": [
      "5000.0\n"
     ]
    }
   ],
   "source": [
    "income=eval(input('enter the income:'))\n",
    "tax=eval(input('enter the tax percentage:'))\n",
    "tax_pay=income*tax/100\n",
    "print(tax_pay)"
   ]
  },
  {
   "cell_type": "code",
   "execution_count": null,
   "id": "c01567b2-6d0e-4962-9ba6-00aeaab06bd3",
   "metadata": {},
   "outputs": [],
   "source": [
    "# 4 lines of code is there\n",
    "# 100 employess\n",
    "#   for each employee will use this 4 lines of code\n",
    "#   100*4=400 lines\n",
    "# we will make these 4 lines as single call that is function\n",
    "# we will call these line 100 employee 100 times"
   ]
  },
  {
   "cell_type": "markdown",
   "id": "5b03b9cc-459f-4abe-a21f-701b7972c604",
   "metadata": {},
   "source": [
    "**Functions without arguments** "
   ]
  },
  {
   "cell_type": "code",
   "execution_count": null,
   "id": "ef660eb3-1dfa-4600-a31a-4d9185fa48e6",
   "metadata": {},
   "outputs": [],
   "source": [
    "# syntax \n",
    "\n",
    "def <function name>():\n",
    "    <write your lines here>"
   ]
  },
  {
   "cell_type": "code",
   "execution_count": 4,
   "id": "746c66a3-41e5-47ec-8746-ff953f9387ec",
   "metadata": {},
   "outputs": [
    {
     "name": "stdin",
     "output_type": "stream",
     "text": [
      "enter a num1:  100\n",
      "enter a num2:  200\n"
     ]
    },
    {
     "name": "stdout",
     "output_type": "stream",
     "text": [
      "the addition of 100 and 200 is: 300\n"
     ]
    }
   ],
   "source": [
    "num1=eval(input(\"enter a num1: \"))\n",
    "num2=eval(input(\"enter a num2: \"))\n",
    "add=num1+num2\n",
    "print(f\"the addition of {num1} and {num2} is: {add}\")"
   ]
  },
  {
   "cell_type": "code",
   "execution_count": 7,
   "id": "53e069e7-99c7-456e-80af-20cd572fddf0",
   "metadata": {},
   "outputs": [],
   "source": [
    "def addition():\n",
    "    num1=eval(input(\"enter a num1: \"))\n",
    "    num2=eval(input(\"enter a num2: \"))\n",
    "    add=num1+num2\n",
    "    print(f\"the addition of {num1} and {num2} is: {add}\")    "
   ]
  },
  {
   "cell_type": "markdown",
   "id": "9c09d234-4021-4b70-b31e-537efa8b203a",
   "metadata": {},
   "source": [
    "**Call the Function**"
   ]
  },
  {
   "cell_type": "code",
   "execution_count": 8,
   "id": "f393c63c-e8c4-4e06-9e3b-c25d765ccf8f",
   "metadata": {},
   "outputs": [
    {
     "name": "stdin",
     "output_type": "stream",
     "text": [
      "enter a num1:  100\n",
      "enter a num2:  200\n"
     ]
    },
    {
     "name": "stdout",
     "output_type": "stream",
     "text": [
      "the addition of 100 and 200 is: 300\n"
     ]
    }
   ],
   "source": [
    "addition()"
   ]
  },
  {
   "cell_type": "code",
   "execution_count": 7,
   "id": "1280b2c9-9836-4ad5-8cb0-cb927e76a5f7",
   "metadata": {},
   "outputs": [
    {
     "data": {
      "text/plain": [
       "<bound method Random.randint of <random.Random object at 0x000001D1195032E0>>"
      ]
     },
     "execution_count": 7,
     "metadata": {},
     "output_type": "execute_result"
    }
   ],
   "source": [
    "import random\n",
    "random.randint"
   ]
  },
  {
   "cell_type": "code",
   "execution_count": null,
   "id": "9893128a-284a-457c-829a-43b300205a08",
   "metadata": {},
   "outputs": [],
   "source": [
    "def addition():\n",
    "    num1=eval(input(\"enter a num1: \"))\n",
    "    num2=eval(input(\"enter a num2: \"))\n",
    "    add=num1+num2\n",
    "    print(f\"the addition of {num1} and {num2} is: {add}\")\n",
    "\n",
    "addition()"
   ]
  },
  {
   "cell_type": "markdown",
   "id": "7f3592f2-5032-4dd7-9008-4dee14cb9f05",
   "metadata": {},
   "source": [
    "**Note**\n",
    "\n",
    "- Function name rules same as variable rules\n",
    "\n",
    "    - No special characters\n",
    "\n",
    "    - No numbers before\n",
    "\n",
    "    - No space between words etc\n",
    "\n",
    "- Function name should not be any keywords\n",
    "\n",
    "- Function name should not be any package names\n",
    "\n",
    "- Function name should not be any your notebook name\n",
    "\n",
    "- Function name should not be any variable which is using inside that function"
   ]
  },
  {
   "cell_type": "code",
   "execution_count": 8,
   "id": "3846521e-6f8d-493e-a81e-2104aeda3473",
   "metadata": {},
   "outputs": [],
   "source": [
    "def addition1():\n",
    "    n1=eval(input(\"enter a num1: \"))\n",
    "    n2=eval(input(\"enter a num2: \"))\n",
    "    add1=n11+n2\n",
    "    print(f\"the addition of {n1} and {n2} is: {add1}\")    "
   ]
  },
  {
   "cell_type": "code",
   "execution_count": 9,
   "id": "e2b27d5b-3c7e-4775-a394-53f210491805",
   "metadata": {},
   "outputs": [
    {
     "name": "stdin",
     "output_type": "stream",
     "text": [
      "enter a num1:  1000\n",
      "enter a num2:  200\n"
     ]
    },
    {
     "ename": "NameError",
     "evalue": "name 'n11' is not defined",
     "output_type": "error",
     "traceback": [
      "\u001b[1;31m---------------------------------------------------------------------------\u001b[0m",
      "\u001b[1;31mNameError\u001b[0m                                 Traceback (most recent call last)",
      "Cell \u001b[1;32mIn[9], line 1\u001b[0m\n\u001b[1;32m----> 1\u001b[0m \u001b[43maddition1\u001b[49m\u001b[43m(\u001b[49m\u001b[43m)\u001b[49m\n",
      "Cell \u001b[1;32mIn[8], line 4\u001b[0m, in \u001b[0;36maddition1\u001b[1;34m()\u001b[0m\n\u001b[0;32m      2\u001b[0m n1\u001b[38;5;241m=\u001b[39m\u001b[38;5;28meval\u001b[39m(\u001b[38;5;28minput\u001b[39m(\u001b[38;5;124m\"\u001b[39m\u001b[38;5;124menter a num1: \u001b[39m\u001b[38;5;124m\"\u001b[39m))\n\u001b[0;32m      3\u001b[0m n2\u001b[38;5;241m=\u001b[39m\u001b[38;5;28meval\u001b[39m(\u001b[38;5;28minput\u001b[39m(\u001b[38;5;124m\"\u001b[39m\u001b[38;5;124menter a num2: \u001b[39m\u001b[38;5;124m\"\u001b[39m))\n\u001b[1;32m----> 4\u001b[0m add1\u001b[38;5;241m=\u001b[39m\u001b[43mn11\u001b[49m\u001b[38;5;241m+\u001b[39mn2\n\u001b[0;32m      5\u001b[0m \u001b[38;5;28mprint\u001b[39m(\u001b[38;5;124mf\u001b[39m\u001b[38;5;124m\"\u001b[39m\u001b[38;5;124mthe addition of \u001b[39m\u001b[38;5;132;01m{\u001b[39;00mn1\u001b[38;5;132;01m}\u001b[39;00m\u001b[38;5;124m and \u001b[39m\u001b[38;5;132;01m{\u001b[39;00mn2\u001b[38;5;132;01m}\u001b[39;00m\u001b[38;5;124m is: \u001b[39m\u001b[38;5;132;01m{\u001b[39;00madd1\u001b[38;5;132;01m}\u001b[39;00m\u001b[38;5;124m\"\u001b[39m)\n",
      "\u001b[1;31mNameError\u001b[0m: name 'n11' is not defined"
     ]
    }
   ],
   "source": [
    "addition1()"
   ]
  },
  {
   "cell_type": "markdown",
   "id": "3d09e570-55a3-4419-b640-841777cf4d4f",
   "metadata": {},
   "source": [
    "- while define the function we does not know whether the error is there or not\n",
    "\n",
    "- for that we need to call the function"
   ]
  },
  {
   "cell_type": "code",
   "execution_count": null,
   "id": "2b85ea5f-f031-4c3e-b0d9-5c5aa1d2438a",
   "metadata": {},
   "outputs": [],
   "source": [
    "try:\n",
    "    def addition1():\n",
    "        n1=eval(input(\"enter a num1: \"))\n",
    "        n2=eval(input(\"enter a num2: \"))\n",
    "        add1=n11+n2\n",
    "        print(f\"the addition of {n1} and {n2} is: {add1}\")\n",
    "except Exception as e:\n",
    "    print(e)"
   ]
  },
  {
   "cell_type": "code",
   "execution_count": 10,
   "id": "4639b177-5c64-474c-9151-f8d292a1bf5b",
   "metadata": {},
   "outputs": [
    {
     "name": "stdin",
     "output_type": "stream",
     "text": [
      "enter a num1:  200\n",
      "enter a num2:  300\n"
     ]
    },
    {
     "ename": "NameError",
     "evalue": "name 'n11' is not defined",
     "output_type": "error",
     "traceback": [
      "\u001b[1;31m---------------------------------------------------------------------------\u001b[0m",
      "\u001b[1;31mNameError\u001b[0m                                 Traceback (most recent call last)",
      "Cell \u001b[1;32mIn[10], line 10\u001b[0m\n\u001b[0;32m      7\u001b[0m \u001b[38;5;28;01mexcept\u001b[39;00m Excepion \u001b[38;5;28;01mas\u001b[39;00m e:\n\u001b[0;32m      8\u001b[0m     \u001b[38;5;28mprint\u001b[39m(e)\n\u001b[1;32m---> 10\u001b[0m \u001b[43maddition2\u001b[49m\u001b[43m(\u001b[49m\u001b[43m)\u001b[49m\n",
      "Cell \u001b[1;32mIn[10], line 5\u001b[0m, in \u001b[0;36maddition2\u001b[1;34m()\u001b[0m\n\u001b[0;32m      3\u001b[0m n1\u001b[38;5;241m=\u001b[39m\u001b[38;5;28meval\u001b[39m(\u001b[38;5;28minput\u001b[39m(\u001b[38;5;124m\"\u001b[39m\u001b[38;5;124menter a num1: \u001b[39m\u001b[38;5;124m\"\u001b[39m))\n\u001b[0;32m      4\u001b[0m n2\u001b[38;5;241m=\u001b[39m\u001b[38;5;28meval\u001b[39m(\u001b[38;5;28minput\u001b[39m(\u001b[38;5;124m\"\u001b[39m\u001b[38;5;124menter a num2: \u001b[39m\u001b[38;5;124m\"\u001b[39m))\n\u001b[1;32m----> 5\u001b[0m add1\u001b[38;5;241m=\u001b[39m\u001b[43mn11\u001b[49m\u001b[38;5;241m+\u001b[39mn2\n\u001b[0;32m      6\u001b[0m \u001b[38;5;28mprint\u001b[39m(\u001b[38;5;124mf\u001b[39m\u001b[38;5;124m\"\u001b[39m\u001b[38;5;124mthe addition of \u001b[39m\u001b[38;5;132;01m{\u001b[39;00mn1\u001b[38;5;132;01m}\u001b[39;00m\u001b[38;5;124m and \u001b[39m\u001b[38;5;132;01m{\u001b[39;00mn2\u001b[38;5;132;01m}\u001b[39;00m\u001b[38;5;124m is: \u001b[39m\u001b[38;5;132;01m{\u001b[39;00madd1\u001b[38;5;132;01m}\u001b[39;00m\u001b[38;5;124m\"\u001b[39m)\n",
      "\u001b[1;31mNameError\u001b[0m: name 'n11' is not defined"
     ]
    }
   ],
   "source": [
    "try:\n",
    "    def addition2():\n",
    "        n1=eval(input(\"enter a num1: \"))\n",
    "        n2=eval(input(\"enter a num2: \"))\n",
    "        add1=n11+n2\n",
    "        print(f\"the addition of {n1} and {n2} is: {add1}\")\n",
    "except Exception as e:\n",
    "    print(e)\n",
    "\n",
    "addition2()"
   ]
  },
  {
   "cell_type": "code",
   "execution_count": 12,
   "id": "99025cad-8a63-4746-ad88-445b95d208d4",
   "metadata": {},
   "outputs": [
    {
     "name": "stdin",
     "output_type": "stream",
     "text": [
      "enter a num1:  500\n",
      "enter a num2:  300\n"
     ]
    },
    {
     "name": "stdout",
     "output_type": "stream",
     "text": [
      "name 'n11' is not defined\n"
     ]
    }
   ],
   "source": [
    "def addition3():\n",
    "    try:\n",
    "        n1=eval(input(\"enter a num1: \"))\n",
    "        n2=eval(input(\"enter a num2: \"))\n",
    "        add1=n11+n2\n",
    "        print(f\"the addition of {n1} and {n2} is: {add1}\")\n",
    "    except Exception as e:\n",
    "        print(e)\n",
    "\n",
    "addition3()"
   ]
  },
  {
   "cell_type": "markdown",
   "id": "6c0de48b-96b7-4056-bfc1-e8e1644c4891",
   "metadata": {},
   "source": [
    "- try-except should write inside the function "
   ]
  },
  {
   "cell_type": "code",
   "execution_count": null,
   "id": "f8af5a90-71e2-426a-a195-a03e592ebb75",
   "metadata": {},
   "outputs": [],
   "source": [
    "# 1)wap ask the user enter 3 numbers n1,n2,n3 from keyboard\n",
    "# calculate average\n",
    "\n",
    "# 2)wap ask the user enter name age city\n",
    "# print my name is python im 10 years old and came from hyd\n",
    "\n",
    "# 3)wap ask the user to enter radius of a circle calculate area of the circle\n",
    "# var: radius   var: pi=3.14\n",
    "# formula: pi*radius*radius\n",
    "# print the answers using f string and format\n",
    "\n",
    "# 4)wap ask the user enter breadth and height of a right angle triangle\n",
    "# calculate the area\n",
    "# var1: breadth   var2: height\n",
    "# formula: 0.5*breadth*height\n",
    "\n",
    "# 5)wap ask the user enter the bill amount and tip amount\n",
    "# calculate total bill\n",
    "# var1: bill amount   var2: tip amount\n",
    "# formula\n",
    "\n",
    "# 6)wap ask the user enter the bill amount and tip percentage\n",
    "# take tip percentage as 10\n",
    "# calculate total bill= bill amount+bill amount*tip per/100\n",
    "# var1: bill amount   var2: tip amount\n",
    "# formula\n",
    "\n",
    "# 7)wap ask the user enter the length and breadth of a rectangle calculate area\n",
    "# var1: length   var2: breadth\n",
    "# formula: length*breadth\n",
    "\n",
    "# 8)wap ask the user take the radius and calculate volume of sphere\n",
    "# formula: pi*r**3(pi*r*r*r)\n",
    "\n",
    "# 9)wap ask the user enter amount in dollars convert into rupees\n",
    "# 1$=85rs\n",
    "\n",
    "# 10)wap ask the user enter weight in kgs convert into pounds\n",
    "# 1kg=2.2pounds"
   ]
  },
  {
   "cell_type": "code",
   "execution_count": 5,
   "id": "8f62cb46-2355-4a66-a99f-0b28e8c9dc35",
   "metadata": {},
   "outputs": [
    {
     "name": "stdin",
     "output_type": "stream",
     "text": [
      "Enter the first number:  20\n",
      "Enter the second number:  22\n",
      "Enter the third number:  35\n"
     ]
    },
    {
     "name": "stdout",
     "output_type": "stream",
     "text": [
      "The Average of 20,22 and 35 is: 25.67\n"
     ]
    }
   ],
   "source": [
    "# 1) wap ask the user enter 3 numbers n1,n2,n3 from keyboard\n",
    "# calculate average\n",
    "\n",
    "def AVG():\n",
    "    n1=eval(input(\"Enter the first number: \"))\n",
    "    n2=eval(input(\"Enter the second number: \"))\n",
    "    n3=eval(input(\"Enter the third number: \"))\n",
    "    avg=(n1+n2+n3)/3\n",
    "    avg1=round(avg,2)\n",
    "    print(f\"The Average of {n1},{n2} and {n3} is: {avg1}\")\n",
    "    \n",
    "AVG()        "
   ]
  },
  {
   "cell_type": "code",
   "execution_count": 6,
   "id": "d92ffe86-de2d-42f6-b9d7-a1287b28b6cb",
   "metadata": {},
   "outputs": [
    {
     "name": "stdin",
     "output_type": "stream",
     "text": [
      "Enter your name:  Rizwan\n",
      "Enter your age:  20\n",
      "Enter your city:  Ahmedabad\n"
     ]
    },
    {
     "name": "stdout",
     "output_type": "stream",
     "text": [
      "my name is Rizwan i am 20 years old and came from Ahmedabad\n"
     ]
    }
   ],
   "source": [
    "# 2)wap ask the user enter name age city\n",
    "# print my name is python im 10 years old and came from hyd\n",
    "\n",
    "def intro():\n",
    "    name=input(\"Enter your name: \")\n",
    "    age=eval(input(\"Enter your age: \"))\n",
    "    city=input(\"Enter your city: \")\n",
    "    print(f\"my name is {name} i am {age} years old and came from {city}\")\n",
    "\n",
    "intro()"
   ]
  },
  {
   "cell_type": "code",
   "execution_count": 10,
   "id": "27a097a0-84df-4311-9dbe-acadd3d087ef",
   "metadata": {},
   "outputs": [
    {
     "name": "stdout",
     "output_type": "stream",
     "text": [
      "The area of a circle for radius 14 is: 615.44\n"
     ]
    }
   ],
   "source": [
    "# 3)wap ask the user to enter radius of a circle calculate area of the circle\n",
    "# var: radius   var: pi=3.14\n",
    "# formula: pi*radius*radius\n",
    "# print the answers using f string and format\n",
    "\n",
    "import random\n",
    "\n",
    "def area_of_circle():\n",
    "    radius=random.randint(1,20)\n",
    "    pi=3.14\n",
    "    area=pi*radius*radius\n",
    "    print(f\"The area of a circle for radius {radius} is: {area}\")\n",
    "\n",
    "area_of_circle()"
   ]
  },
  {
   "cell_type": "code",
   "execution_count": 11,
   "id": "31517e78-a734-421e-8fce-442fade20db8",
   "metadata": {},
   "outputs": [
    {
     "name": "stdout",
     "output_type": "stream",
     "text": [
      "The area of a right angle triangle for breadth 10 and height 10 is: 50.0\n"
     ]
    }
   ],
   "source": [
    "# 4)wap ask the user enter breadth and height of a right angle triangle\n",
    "# calculate the area\n",
    "# var1: breadth   var2: height\n",
    "# formula: 0.5*breadth*height\n",
    "\n",
    "def area_of_triangle():\n",
    "    breadth=random.randint(1,20)\n",
    "    height=random.randint(1,10)\n",
    "    area=0.5*breadth*height\n",
    "    print(f\"The area of a right angle triangle for breadth {breadth} and height {height} is: {area}\")\n",
    "\n",
    "area_of_triangle()"
   ]
  },
  {
   "cell_type": "code",
   "execution_count": 12,
   "id": "a8775044-72ab-4329-8ff4-0856077f069d",
   "metadata": {},
   "outputs": [
    {
     "name": "stdout",
     "output_type": "stream",
     "text": [
      "The total bill is: 856\n"
     ]
    }
   ],
   "source": [
    "# 5)wap ask the user enter the bill amount and tip amount\n",
    "# calculate total bill\n",
    "# var1: bill amount   var2: tip amount\n",
    "# formula\n",
    "\n",
    "def BILL():\n",
    "    bill_amount=random.randint(500,1000)\n",
    "    tip_amount=random.randint(20,100)\n",
    "    total_bill=bill_amount+tip_amount\n",
    "    print(f\"The total bill is: {total_bill}\")\n",
    "\n",
    "BILL()"
   ]
  },
  {
   "cell_type": "code",
   "execution_count": 13,
   "id": "aaecc713-8ecb-4ebd-a6a5-afa34367f21d",
   "metadata": {},
   "outputs": [
    {
     "name": "stdout",
     "output_type": "stream",
     "text": [
      "The total amount is: 615\n",
      "The tip percentage is: 7\n",
      "The total bill is: 658.05\n"
     ]
    }
   ],
   "source": [
    "# 6)wap ask the user enter the bill amount and tip percentage\n",
    "# take tip percentage as 10\n",
    "# calculate total bill= bill amount+bill amount*tip per/100\n",
    "# var1: bill amount   var2: tip amount\n",
    "# formula\n",
    "\n",
    "def BILL_AMOUNT():\n",
    "    bill_amount=random.randint(500,1000)\n",
    "    tip_per=random.randint(1,10)\n",
    "    tip_amount=bill_amount*tip_per/100\n",
    "    total_bill=bill_amount+tip_amount\n",
    "    print(f\"The total amount is: {bill_amount}\")\n",
    "    print(f\"The tip percentage is: {tip_per}\")\n",
    "    print(f\"The total bill is: {total_bill}\")\n",
    "\n",
    "BILL_AMOUNT()"
   ]
  },
  {
   "cell_type": "code",
   "execution_count": 14,
   "id": "d5d13764-bbbf-47b2-8cfc-a443cbc2ae34",
   "metadata": {},
   "outputs": [
    {
     "name": "stdout",
     "output_type": "stream",
     "text": [
      "The area of rectangle for breadth 8 and length 10 is: 80\n"
     ]
    }
   ],
   "source": [
    "# 7)wap ask the user enter the length and breadth of a rectangle calculate area\n",
    "# var1: length   var2: breadth\n",
    "# formula: length*breadth\n",
    "\n",
    "def area_of_rectangle():\n",
    "    length=random.randint(1,20)\n",
    "    breadth=random.randint(1,10)\n",
    "    area=length*breadth\n",
    "    print(f\"The area of rectangle for breadth {breadth} and length {length} is: {area}\")\n",
    "\n",
    "area_of_rectangle()"
   ]
  },
  {
   "cell_type": "code",
   "execution_count": 15,
   "id": "1e4f556e-273a-4211-84df-7433c287573b",
   "metadata": {},
   "outputs": [
    {
     "name": "stdout",
     "output_type": "stream",
     "text": [
      "The volume of a sphere for radius 96 is: 3704094.7199999997\n"
     ]
    }
   ],
   "source": [
    "# 8)wap ask the user take the radius and calculate volume of sphere\n",
    "# formula: pi*r**3(pi*r*r*r)\n",
    "\n",
    "def sphere():\n",
    "    radius=random.randint(1,100)\n",
    "    pi=3.14\n",
    "    volume=4/3*pi*radius**3\n",
    "    print(f\"The volume of a sphere for radius {radius} is: {volume}\")\n",
    "\n",
    "sphere()"
   ]
  },
  {
   "cell_type": "code",
   "execution_count": 16,
   "id": "0ba2bef6-3513-4ca3-a0f1-ddcd39c71f9b",
   "metadata": {},
   "outputs": [
    {
     "name": "stdout",
     "output_type": "stream",
     "text": [
      "The Amount in dollar 21 and rupees is 1785 INR\n"
     ]
    }
   ],
   "source": [
    "# 9)wap ask the user enter amount in dollars convert into rupees\n",
    "# 1$=85rs\n",
    "\n",
    "def money_convert():\n",
    "    dollar=random.randint(1,100)\n",
    "    rupees=dollar*85\n",
    "    print(f\"The Amount in dollar {dollar} and rupees is {rupees} INR\")\n",
    "\n",
    "money_convert()"
   ]
  },
  {
   "cell_type": "code",
   "execution_count": 17,
   "id": "37e44e1a-c776-4ab3-bc92-ef93af1e9b81",
   "metadata": {},
   "outputs": [
    {
     "name": "stdout",
     "output_type": "stream",
     "text": [
      "The weight in kg 54 and pound is 118.80000000000001\n"
     ]
    }
   ],
   "source": [
    "# 10)wap ask the user enter weight in kgs convert into pounds\n",
    "# 1kg=2.2pounds\n",
    "\n",
    "def weight_convert():\n",
    "    kg=random.randint(1,100)\n",
    "    pounds=kg*2.2\n",
    "    print(f\"The weight in kg {kg} and pound is {pounds}\")\n",
    "\n",
    "weight_convert()"
   ]
  },
  {
   "cell_type": "code",
   "execution_count": 18,
   "id": "cc562c7f-0e9f-40d9-8cd4-8c8932771602",
   "metadata": {},
   "outputs": [
    {
     "name": "stdin",
     "output_type": "stream",
     "text": [
      "enter a num1:  200\n",
      "enter a num2:  400\n"
     ]
    },
    {
     "name": "stdout",
     "output_type": "stream",
     "text": [
      "the addition of 200 and 400 is: 600\n"
     ]
    },
    {
     "name": "stdin",
     "output_type": "stream",
     "text": [
      "Enter the first number:  20\n",
      "Enter the second number:  30\n",
      "Enter the third number:  40\n"
     ]
    },
    {
     "name": "stdout",
     "output_type": "stream",
     "text": [
      "The Average of 20,30 and 40 is: 30.0\n"
     ]
    },
    {
     "name": "stdin",
     "output_type": "stream",
     "text": [
      "Enter your name:  MD Afroze\n",
      "Enter your age:  20\n",
      "Enter your city:  Hyderabad\n"
     ]
    },
    {
     "name": "stdout",
     "output_type": "stream",
     "text": [
      "my name is MD Afroze i am 20 years old and came from Hyderabad\n",
      "The area of a circle for radius 8 is: 200.96\n",
      "The area of a right angle triangle for breadth 13 and height 6 is: 39.0\n",
      "The total bill is: 1004\n",
      "The total amount is: 989\n",
      "The tip percentage is: 10\n",
      "The total bill is: 1087.9\n",
      "The area of rectangle for breadth 5 and length 14 is: 70\n",
      "The volume of a sphere for radius 52 is: 588678.8266666667\n",
      "The Amount in dollar 47 and rupees is 3995 INR\n",
      "The weight in kg 17 and pound is 37.400000000000006\n"
     ]
    }
   ],
   "source": [
    "addition()\n",
    "AVG()\n",
    "intro()\n",
    "area_of_circle()\n",
    "area_of_triangle()\n",
    "BILL()\n",
    "BILL_AMOUNT()\n",
    "area_of_rectangle()\n",
    "sphere()\n",
    "money_convert()\n",
    "weight_convert()"
   ]
  },
  {
   "cell_type": "markdown",
   "id": "b07d9ac0-1339-496f-bdd4-8a675d4722b6",
   "metadata": {},
   "source": [
    "**Function with arguments**"
   ]
  },
  {
   "cell_type": "code",
   "execution_count": null,
   "id": "3d2d8168-999b-4943-993e-16bd1bb86d12",
   "metadata": {},
   "outputs": [],
   "source": [
    "def AVG():\n",
    "        n1=eval(input(\"enter a num1:\"))\n",
    "        n2=eval(input(\"enter a num2:\"))\n",
    "        n3=eval(input(\"enter a num3:\"))\n",
    "        avg=(n1+n2+n3)/3\n",
    "        avg1=round(avg,2)\n",
    "        print(f\"The Average of {n1},{n2} and {n3}is: {avg1}\")\n",
    "\n",
    "AVG()"
   ]
  },
  {
   "cell_type": "code",
   "execution_count": 19,
   "id": "54f470e3-18a9-4eae-81cc-b1a0ac7e9296",
   "metadata": {},
   "outputs": [
    {
     "name": "stdin",
     "output_type": "stream",
     "text": [
      "enter a num1:  100\n",
      "enter a num2:  300\n"
     ]
    },
    {
     "name": "stdout",
     "output_type": "stream",
     "text": [
      "the addition of 100 and 300 is: 400\n"
     ]
    }
   ],
   "source": [
    "def addition():\n",
    "    n1=eval(input(\"enter a num1: \"))\n",
    "    n2=eval(input(\"enter a num2: \"))\n",
    "    add=n1+n2\n",
    "    print(f\"the addition of {n1} and {n2} is: {add}\")\n",
    "\n",
    "addition()"
   ]
  },
  {
   "cell_type": "code",
   "execution_count": null,
   "id": "178baea2-3c7b-47ce-a1af-0de618a8439b",
   "metadata": {},
   "outputs": [],
   "source": [
    "addition()"
   ]
  },
  {
   "cell_type": "code",
   "execution_count": 20,
   "id": "6dc6f2ef-d3d3-481e-bc3c-4b1023147242",
   "metadata": {},
   "outputs": [
    {
     "ename": "TypeError",
     "evalue": "Random.randint() missing 2 required positional arguments: 'a' and 'b'",
     "output_type": "error",
     "traceback": [
      "\u001b[1;31m---------------------------------------------------------------------------\u001b[0m",
      "\u001b[1;31mTypeError\u001b[0m                                 Traceback (most recent call last)",
      "Cell \u001b[1;32mIn[20], line 2\u001b[0m\n\u001b[0;32m      1\u001b[0m \u001b[38;5;28;01mfrom\u001b[39;00m \u001b[38;5;21;01mrandom\u001b[39;00m \u001b[38;5;28;01mimport\u001b[39;00m randint\n\u001b[1;32m----> 2\u001b[0m \u001b[43mrandint\u001b[49m\u001b[43m(\u001b[49m\u001b[43m)\u001b[49m\n",
      "\u001b[1;31mTypeError\u001b[0m: Random.randint() missing 2 required positional arguments: 'a' and 'b'"
     ]
    }
   ],
   "source": [
    "from random import randint\n",
    "randint()"
   ]
  },
  {
   "cell_type": "code",
   "execution_count": null,
   "id": "89e67c5c-e88c-43e9-b788-2d823e80727e",
   "metadata": {},
   "outputs": [],
   "source": [
    "def addition():\n",
    "    n1=eval(input(\"enter a num1: \"))\n",
    "    n2=eval(input(\"enter a num2: \"))\n",
    "    add=n1+n2\n",
    "    print(f\"the addition of {n1} and {n2} is: {add}\")\n",
    "\n",
    "addition()"
   ]
  },
  {
   "cell_type": "markdown",
   "id": "3dd2041b-2318-46e9-877e-eb709f2f4ceb",
   "metadata": {},
   "source": [
    "- How many variables are there inside the function\n",
    "\n",
    "    - in above **addition** function 3 variables are there : **n1,n2,add**\n",
    "\n",
    "- How many input variables are there\n",
    "\n",
    "    - input variables means the variable access the values from user as input: **n1,n2**\n",
    "\n",
    "- How many output variables are there\n",
    "\n",
    "    - output variables means the variable  created because of some operation: **add**\n",
    "\n",
    "- **Dont touch the output variable**"
   ]
  },
  {
   "cell_type": "code",
   "execution_count": 5,
   "id": "b38bc74f-1c30-44b9-b255-a7ee7b27e0b7",
   "metadata": {},
   "outputs": [],
   "source": [
    " def addition1(n1,n2):\n",
    "    print('n1:',n1)\n",
    "    print('n2:',n2)\n",
    "    add=n1+n2\n",
    "    print(f\"the addition of {n1} and {n2} is: {add}\")"
   ]
  },
  {
   "cell_type": "code",
   "execution_count": 6,
   "id": "54b503ec-5d85-4cb9-951c-b09b4ddb30fd",
   "metadata": {},
   "outputs": [
    {
     "name": "stdout",
     "output_type": "stream",
     "text": [
      "n1: 1000\n",
      "n2: 2000\n",
      "the addition of 1000 and 2000 is: 3000\n"
     ]
    }
   ],
   "source": [
    "addition1(1000,2000)"
   ]
  },
  {
   "cell_type": "code",
   "execution_count": 21,
   "id": "ead4a137-0ce0-4e8a-b785-bf26dde05d98",
   "metadata": {},
   "outputs": [
    {
     "ename": "NameError",
     "evalue": "name 'addition1' is not defined",
     "output_type": "error",
     "traceback": [
      "\u001b[1;31m---------------------------------------------------------------------------\u001b[0m",
      "\u001b[1;31mNameError\u001b[0m                                 Traceback (most recent call last)",
      "Cell \u001b[1;32mIn[21], line 1\u001b[0m\n\u001b[1;32m----> 1\u001b[0m \u001b[43maddition1\u001b[49m(\u001b[38;5;241m500\u001b[39m)\n",
      "\u001b[1;31mNameError\u001b[0m: name 'addition1' is not defined"
     ]
    }
   ],
   "source": [
    "addition1(500)"
   ]
  },
  {
   "cell_type": "code",
   "execution_count": 22,
   "id": "2b530b5a-961e-46e8-89e1-1c7a85f63df4",
   "metadata": {},
   "outputs": [],
   "source": [
    " def addition2(n1):\n",
    "    n2=eval(input('enter a num2:'))\n",
    "    add=n1+n2\n",
    "    print(f\"the addition of {n1} and {n2} is: {add}\")"
   ]
  },
  {
   "cell_type": "code",
   "execution_count": 23,
   "id": "1fe344b0-ffef-4cd7-9164-4c76388923d1",
   "metadata": {},
   "outputs": [
    {
     "name": "stdin",
     "output_type": "stream",
     "text": [
      "enter a num2: 20\n"
     ]
    },
    {
     "name": "stdout",
     "output_type": "stream",
     "text": [
      "the addition of 1000 and 20 is: 1020\n"
     ]
    }
   ],
   "source": [
    "addition2(1000)"
   ]
  },
  {
   "cell_type": "code",
   "execution_count": null,
   "id": "b4483b1f-2906-4204-90a7-cf9d7bb2b707",
   "metadata": {},
   "outputs": [],
   "source": [
    "def addition():\n",
    "    n1=eval(input(\"enter a num1: \"))\n",
    "    n2=eval(input(\"enter a num2: \"))\n",
    "    add1=n1+n2\n",
    "    print(f\"the addition of {n1} and {n2} is: {add1}\")\n",
    "\n",
    "\n",
    "def addition1(n1,n2):\n",
    "    add1=n1+n2\n",
    "    print(f\"the addition of {n1} and {n2} is: {add1}\")\n",
    "\n",
    "\n",
    "def addition2(n1):\n",
    "    n2=eval(input(\"enter a num2: \"))\n",
    "    add1=n1+n2\n",
    "    print(f\"the addition of {n1} and {n2} is: {add1}\")"
   ]
  },
  {
   "cell_type": "code",
   "execution_count": 25,
   "id": "c0d5e16f-af98-447d-bbb6-72dcd583877e",
   "metadata": {},
   "outputs": [
    {
     "name": "stdout",
     "output_type": "stream",
     "text": [
      "==============AVG function starts==============\n"
     ]
    },
    {
     "name": "stdin",
     "output_type": "stream",
     "text": [
      "Enter the first number:  100\n",
      "Enter the second number:  200\n",
      "Enter the third number:  300\n"
     ]
    },
    {
     "name": "stdout",
     "output_type": "stream",
     "text": [
      "The Average of 100,200 and 300 is: 200.0\n",
      "==============AVG1 function starts==============\n",
      "n1: 100\n"
     ]
    },
    {
     "name": "stdin",
     "output_type": "stream",
     "text": [
      "Enter the second number:  200\n",
      "Enter the third number:  300\n"
     ]
    },
    {
     "name": "stdout",
     "output_type": "stream",
     "text": [
      "The Average of 100,200 and 300 is: 200.0\n",
      "==============AVG2 function starts==============\n",
      "n1: 20\n",
      "n2: 30\n"
     ]
    },
    {
     "name": "stdin",
     "output_type": "stream",
     "text": [
      "Enter the third number:  300\n"
     ]
    },
    {
     "name": "stdout",
     "output_type": "stream",
     "text": [
      "The Average of 20,30 and 300 is: 116.67\n",
      "==============AVG3 function starts==============\n",
      "n1: 10\n",
      "n2: 20\n",
      "n3: 30\n",
      "The Average of 10,20 and 30 is: 20.0\n"
     ]
    }
   ],
   "source": [
    "print('==============AVG function starts==============')\n",
    "def AVG():\n",
    "    n1=eval(input(\"Enter the first number: \"))\n",
    "    n2=eval(input(\"Enter the second number: \"))\n",
    "    n3=eval(input(\"Enter the third number: \"))\n",
    "    avg=(n1+n2+n3)/3\n",
    "    avg1=round(avg,2)\n",
    "    print(f\"The Average of {n1},{n2} and {n3} is: {avg1}\")\n",
    "\n",
    "AVG()\n",
    "\n",
    "print('==============AVG1 function starts==============')\n",
    "def AVG1(n1):\n",
    "    print('n1:',n1)\n",
    "    n2=eval(input(\"Enter the second number: \"))\n",
    "    n3=eval(input(\"Enter the third number: \"))\n",
    "    avg=(n1+n2+n3)/3\n",
    "    avg1=round(avg,2)\n",
    "    print(f\"The Average of {n1},{n2} and {n3} is: {avg1}\")\n",
    "\n",
    "AVG1(100)\n",
    "\n",
    "print('==============AVG2 function starts==============')\n",
    "def AVG2(n1,n2):\n",
    "    print('n1:',n1)\n",
    "    print('n2:',n2)\n",
    "    n3=eval(input(\"Enter the third number: \"))\n",
    "    avg=(n1+n2+n3)/3\n",
    "    avg1=round(avg,2)\n",
    "    print(f\"The Average of {n1},{n2} and {n3} is: {avg1}\")\n",
    "\n",
    "AVG2(20,30)\n",
    "\n",
    "\n",
    "print('==============AVG3 function starts==============')\n",
    "def AVG3(n1,n2,n3):\n",
    "    print('n1:',n1)\n",
    "    print('n2:',n2)\n",
    "    print('n3:',n3)\n",
    "    avg=(n1+n2+n3)/3\n",
    "    avg1=round(avg,2)\n",
    "    print(f\"The Average of {n1},{n2} and {n3} is: {avg1}\")\n",
    "\n",
    "AVG3(10,20,30)"
   ]
  },
  {
   "cell_type": "code",
   "execution_count": null,
   "id": "5718d0cb-0ffc-490d-9470-597347243eb5",
   "metadata": {},
   "outputs": [],
   "source": [
    "# 1)wap ask the user enter 3 numbers n1,n2,n3 from keyboard\n",
    "# calculate average\n",
    "\n",
    "# 2)wap ask the user enter name age city\n",
    "# print my name is python im 10 years old and came from hyd\n",
    "\n",
    "# 3)wap ask the user to enter radius of a circle calculate area of the circle\n",
    "# var: radius   var: pi=3.14\n",
    "# formula: pi*radius*radius\n",
    "# print the answers using f string and format\n",
    "\n",
    "# 4)wap ask the user enter breadth and height of a right angle triangle\n",
    "# calculate the area\n",
    "# var1: breadth   var2: height\n",
    "# formula: 0.5*breadth*height\n",
    "\n",
    "# 5)wap ask the user enter the bill amount and tip amount\n",
    "# calculate total bill\n",
    "# var1: bill amount   var2: tip amount\n",
    "# formula\n",
    "\n",
    "# 6)wap ask the user enter the bill amount and tip percentage\n",
    "# take tip percentage as 10\n",
    "# calculate total bill= bill amount+bill amount*tip per/100\n",
    "# var1: bill amount   var2: tip amount\n",
    "# formula\n",
    "\n",
    "# 7)wap ask the user enter the length and breadth of a rectangle calculate area\n",
    "# var1: length   var2: breadth\n",
    "# formula: length*breadth\n",
    "\n",
    "# 8)wap ask the user take the radius and calculate volume of sphere\n",
    "# formula: pi*r**3(pi*r*r*r)\n",
    "\n",
    "# 9)wap ask the user enter amount in dollars convert into rupees\n",
    "# 1$=85rs\n",
    "\n",
    "# 10)wap ask the user enter weight in kgs convert into pounds\n",
    "# 1kg=2.2pounds"
   ]
  },
  {
   "cell_type": "code",
   "execution_count": 9,
   "id": "0c122959-6536-46b0-b495-cd8fe8b35249",
   "metadata": {},
   "outputs": [
    {
     "name": "stdout",
     "output_type": "stream",
     "text": [
      "n1: 100\n",
      "n2: 200\n",
      "n3: 300\n",
      "The Average of three number is 200\n"
     ]
    }
   ],
   "source": [
    "# 1)wap ask the user enter 3 numbers n1,n2,n3 from keyboard\n",
    "# calculate average\n",
    "\n",
    "def AVG(n1,n2,n3):\n",
    "    print('n1:',n1)\n",
    "    print('n2:',n2)\n",
    "    print('n3:',n3)\n",
    "    avg=(n1+n2+n3)/3\n",
    "    avg1=round(avg)\n",
    "    print(f'The Average of three number is {avg1}')\n",
    "\n",
    "AVG(100,200,300)"
   ]
  },
  {
   "cell_type": "code",
   "execution_count": 10,
   "id": "546256d8-0d6f-4688-8316-9af21dfc7692",
   "metadata": {},
   "outputs": [
    {
     "name": "stdout",
     "output_type": "stream",
     "text": [
      "my name is python im 10 years old and came from hyd\n"
     ]
    }
   ],
   "source": [
    "# 2)wap ask the user enter name age city\n",
    "# print my name is python im 10 years old and came from hyd\n",
    "\n",
    "def intro(name,age,city):\n",
    "    print(f'my name is {name} im {age} years old and came from {city}')\n",
    "\n",
    "intro('python',10,'hyd')"
   ]
  },
  {
   "cell_type": "code",
   "execution_count": 11,
   "id": "4d4cb2cf-c8db-48c0-8747-fcf85db36c0c",
   "metadata": {},
   "outputs": [
    {
     "name": "stdout",
     "output_type": "stream",
     "text": [
      "The area of circle is 314.0\n"
     ]
    }
   ],
   "source": [
    "# 3)wap ask the user to enter radius of a circle calculate area of the circle\n",
    "# var: radius   var: pi=3.14\n",
    "# formula: pi*radius*radius\n",
    "# print the answers using f string and format\n",
    "\n",
    "def area_of_circle(radius,pi):\n",
    "    area=pi*radius*radius\n",
    "    print(f'The area of circle is {area}')\n",
    "\n",
    "area_of_circle(10,3.14)"
   ]
  },
  {
   "cell_type": "code",
   "execution_count": 12,
   "id": "0e7d2be9-ca9a-43ce-be41-5c7210f45310",
   "metadata": {},
   "outputs": [
    {
     "name": "stdout",
     "output_type": "stream",
     "text": [
      "The area of triangle is 100.0\n"
     ]
    }
   ],
   "source": [
    "# 4)wap ask the user enter breadth and height of a right angle triangle\n",
    "# calculate the area\n",
    "# var1: breadth   var2: height\n",
    "# formula: 0.5*breadth*height\n",
    "\n",
    "def area_of_triangle(breadth,height):\n",
    "    area=0.5*breadth*height\n",
    "    print(f'The area of triangle is {area}')\n",
    "\n",
    "area_of_triangle(10,20)"
   ]
  },
  {
   "cell_type": "code",
   "execution_count": 26,
   "id": "fbda455f-830b-49aa-a047-a2c3ecf295f3",
   "metadata": {},
   "outputs": [
    {
     "name": "stdout",
     "output_type": "stream",
     "text": [
      "The total bill is: 600\n"
     ]
    }
   ],
   "source": [
    "# 5)wap ask the user enter the bill amount and tip amount\n",
    "# calculate total bill\n",
    "# var1: bill amount   var2: tip amount\n",
    "# formula\n",
    "\n",
    "def BILL(bill_amount,tip_amount):\n",
    "    total_bill=bill_amount+tip_amount\n",
    "    print(f\"The total bill is: {total_bill}\")\n",
    "\n",
    "BILL(500,100)"
   ]
  },
  {
   "cell_type": "code",
   "execution_count": 27,
   "id": "6da2a1e6-2c55-4c16-b300-3b836a693b3e",
   "metadata": {},
   "outputs": [
    {
     "name": "stdout",
     "output_type": "stream",
     "text": [
      "The total amount is: 1000\n",
      "The tip percentage is: 20\n",
      "The total bill is: 1200.0\n"
     ]
    }
   ],
   "source": [
    "# 6)wap ask the user enter the bill amount and tip percentage\n",
    "# take tip percentage as 10\n",
    "# calculate total bill= bill amount+bill amount*tip per/100\n",
    "# var1: bill amount   var2: tip amount\n",
    "# formula\n",
    "\n",
    "def BILL_AMOUNT(bill_amount,tip_per):\n",
    "    tip_amount=bill_amount*tip_per/100\n",
    "    total_bill=bill_amount+tip_amount\n",
    "    print(f\"The total amount is: {bill_amount}\")\n",
    "    print(f\"The tip percentage is: {tip_per}\")\n",
    "    print(f\"The total bill is: {total_bill}\")\n",
    "\n",
    "BILL_AMOUNT(1000,20)"
   ]
  },
  {
   "cell_type": "code",
   "execution_count": 28,
   "id": "6a0a21a2-9924-4ae9-9923-12cb6879d609",
   "metadata": {},
   "outputs": [
    {
     "name": "stdout",
     "output_type": "stream",
     "text": [
      "The area of rectangle for breadth 6 and length 10 is: 60\n"
     ]
    }
   ],
   "source": [
    "# 7)wap ask the user enter the length and breadth of a rectangle calculate area\n",
    "# var1: length   var2: breadth\n",
    "# formula: length*breadth\n",
    "\n",
    "def area_of_rectangle(length,breadth):\n",
    "    area=length*breadth\n",
    "    print(f\"The area of rectangle for breadth {breadth} and length {length} is: {area}\")\n",
    "\n",
    "area_of_rectangle(10,6)"
   ]
  },
  {
   "cell_type": "code",
   "execution_count": 29,
   "id": "969dc1b6-a923-4aaf-a20c-6e23753fe0e8",
   "metadata": {},
   "outputs": [
    {
     "name": "stdout",
     "output_type": "stream",
     "text": [
      "The volume of a sphere for radius 12 is: 7234.5599999999995\n"
     ]
    }
   ],
   "source": [
    "# 8)wap ask the user take the radius and calculate volume of sphere\n",
    "# formula: pi*r**3(pi*r*r*r)\n",
    "\n",
    "def sphere(radius,pi):\n",
    "    volume=4/3*pi*radius**3\n",
    "    print(f\"The volume of a sphere for radius {radius} is: {volume}\")\n",
    "\n",
    "sphere(12,3.14)"
   ]
  },
  {
   "cell_type": "code",
   "execution_count": 30,
   "id": "fb222b01-7dd4-4011-a956-745b2790211c",
   "metadata": {},
   "outputs": [
    {
     "name": "stdout",
     "output_type": "stream",
     "text": [
      "The Amount in dollar 50 and rupees is: 4250 INR\n"
     ]
    }
   ],
   "source": [
    "# 9)wap ask the user enter amount in dollars convert into rupees\n",
    "# 1$=85rs\n",
    "\n",
    "def money_convert(dollar):\n",
    "    rupees=dollar*85\n",
    "    print(f\"The Amount in dollar {dollar} and rupees is: {rupees} INR\")\n",
    "\n",
    "money_convert(50)"
   ]
  },
  {
   "cell_type": "code",
   "execution_count": 31,
   "id": "df7c8050-8777-46c0-8d64-be1ff4da4839",
   "metadata": {},
   "outputs": [
    {
     "name": "stdout",
     "output_type": "stream",
     "text": [
      "The weight in kg 20 and pound is: 44.0\n"
     ]
    }
   ],
   "source": [
    "# 10)wap ask the user enter weight in kgs convert into pounds\n",
    "# 1kg=2.2pounds\n",
    "\n",
    "def weight_convert(kg):\n",
    "    pounds=kg*2.2\n",
    "    print(f\"The weight in kg {kg} and pound is: {pounds}\")\n",
    "\n",
    "weight_convert(20)"
   ]
  },
  {
   "cell_type": "code",
   "execution_count": 41,
   "id": "f9e1f3e9-452e-4afe-bbd2-f942a997c82d",
   "metadata": {},
   "outputs": [
    {
     "name": "stdin",
     "output_type": "stream",
     "text": [
      "enter the dollars: 100\n",
      "enter the rupees for one dollar: 85\n"
     ]
    },
    {
     "name": "stdout",
     "output_type": "stream",
     "text": [
      "The Amount in dollar 100 and rupees is: 8500 INR\n"
     ]
    }
   ],
   "source": [
    "dollars=eval(input('enter the dollars:'))\n",
    "rate=eval(input('enter the rupees for one dollar:'))\n",
    "rupees=dollars*rate\n",
    "print(f\"The Amount in dollar {dollars} and rupees is: {rupees} INR\")"
   ]
  },
  {
   "cell_type": "markdown",
   "id": "907aa375-8247-491a-b099-741966ee3cd8",
   "metadata": {},
   "source": [
    "**Function with Default arguments**"
   ]
  },
  {
   "cell_type": "code",
   "execution_count": 36,
   "id": "7fd04a53-d16a-4379-860e-3e0de98193ad",
   "metadata": {},
   "outputs": [
    {
     "data": {
      "text/plain": [
       "5"
      ]
     },
     "execution_count": 36,
     "metadata": {},
     "output_type": "execute_result"
    }
   ],
   "source": [
    "n1=12345//10\n",
    "d1=12345%10\n",
    "d1"
   ]
  },
  {
   "cell_type": "code",
   "execution_count": 37,
   "id": "d1cd53e3-0f1c-49f8-8d80-9771299dcdcc",
   "metadata": {},
   "outputs": [
    {
     "data": {
      "text/plain": [
       "4"
      ]
     },
     "execution_count": 37,
     "metadata": {},
     "output_type": "execute_result"
    }
   ],
   "source": [
    "n2=n1//10\n",
    "d2=n1%10\n",
    "d2"
   ]
  },
  {
   "cell_type": "code",
   "execution_count": 38,
   "id": "d787467e-f473-4ff9-be2f-64bea0e3e2fd",
   "metadata": {},
   "outputs": [
    {
     "data": {
      "text/plain": [
       "'54'"
      ]
     },
     "execution_count": 38,
     "metadata": {},
     "output_type": "execute_result"
    }
   ],
   "source": [
    "str(d1)+str(d2)"
   ]
  },
  {
   "cell_type": "code",
   "execution_count": null,
   "id": "dc698ca6-2849-425d-aff8-36ec719a652c",
   "metadata": {},
   "outputs": [],
   "source": [
    "In future we will learn easy methods\n",
    "then you will understand what is the use of method\n",
    "\n",
    "the same question i have done lengthy way\n",
    "this time im doing in simple way"
   ]
  },
  {
   "cell_type": "code",
   "execution_count": 39,
   "id": "6b81e611-c969-412d-bb17-d1433274cc10",
   "metadata": {},
   "outputs": [
    {
     "data": {
      "text/plain": [
       "'54321'"
      ]
     },
     "execution_count": 39,
     "metadata": {},
     "output_type": "execute_result"
    }
   ],
   "source": [
    "n1=12345\n",
    "str(n1)[::-1]"
   ]
  },
  {
   "cell_type": "code",
   "execution_count": 43,
   "id": "b95842bc-9fb4-4f91-9f95-473dd511b80b",
   "metadata": {},
   "outputs": [
    {
     "name": "stdin",
     "output_type": "stream",
     "text": [
      "Enter the bill amount:  1000\n",
      "Enter the tip percentage:  10\n"
     ]
    },
    {
     "name": "stdout",
     "output_type": "stream",
     "text": [
      "The total bill is: 1100.0\n"
     ]
    }
   ],
   "source": [
    "def bill_amount():\n",
    "    bill=eval(input(\"Enter the bill amount: \"))\n",
    "    tip_per=eval(input(\"Enter the tip percentage: \"))\n",
    "    tip_amount=bill*tip_per/100\n",
    "    total_bill=bill+tip_amount\n",
    "    print(f\"The total bill is: {total_bill}\")\n",
    "\n",
    "bill_amount()"
   ]
  },
  {
   "cell_type": "code",
   "execution_count": 47,
   "id": "d9b38537-823a-4bc7-8669-b707993e8e40",
   "metadata": {},
   "outputs": [
    {
     "name": "stdout",
     "output_type": "stream",
     "text": [
      "The total bill is: 1100.0\n"
     ]
    }
   ],
   "source": [
    "def bill_amount2(bill,tip_per):\n",
    "    tip_amount=bill*tip_per/100\n",
    "    total_bill=bill+tip_amount\n",
    "    print(f\"The total bill is: {total_bill}\")\n",
    "\n",
    "bill_amount2(1000,10)"
   ]
  },
  {
   "cell_type": "code",
   "execution_count": 48,
   "id": "2e978bed-3b79-46c5-b907-dfdbfb04db8f",
   "metadata": {},
   "outputs": [
    {
     "name": "stdout",
     "output_type": "stream",
     "text": [
      "The total bill is: 1200.0\n"
     ]
    }
   ],
   "source": [
    "def bill_amount1(bill,tip_per=20):\n",
    "    tip_amount=bill*tip_per/100\n",
    "    total_bill=bill+tip_amount\n",
    "    print(f\"The total bill is: {total_bill}\")\n",
    "\n",
    "bill_amount1(1000)"
   ]
  },
  {
   "cell_type": "markdown",
   "id": "a6b8a4f9-04ac-48da-b557-469971113ec6",
   "metadata": {},
   "source": [
    "- In above function the tip_per is fixed as 20\n",
    "\n",
    "- this is called default arguments\n",
    "\n",
    "- while calling the function no need to provide tip_per again\n",
    "\n",
    "- if you provide again the value will be change "
   ]
  },
  {
   "cell_type": "code",
   "execution_count": 49,
   "id": "c6548927-37ef-4bfa-89da-b7f545935f10",
   "metadata": {},
   "outputs": [
    {
     "name": "stdout",
     "output_type": "stream",
     "text": [
      "The total bill is: 1300.0\n"
     ]
    }
   ],
   "source": [
    "def bill_amount1(bill,tip_per=20):\n",
    "    tip_amount=bill*tip_per/100\n",
    "    total_bill=bill+tip_amount\n",
    "    print(f\"The total bill is: {total_bill}\")\n",
    "\n",
    "bill_amount2(1000,30)"
   ]
  },
  {
   "cell_type": "code",
   "execution_count": 50,
   "id": "2e4cd2d8-bcb0-4f1f-9255-07696c164529",
   "metadata": {},
   "outputs": [
    {
     "name": "stdout",
     "output_type": "stream",
     "text": [
      "n1: 10\n",
      "n2: 20\n",
      "n3: 30\n",
      "The Average of 10,20 and 30 is: 20.0\n"
     ]
    }
   ],
   "source": [
    "def AVG3(n1,n2,n3=30):\n",
    "    print('n1:',n1)\n",
    "    print('n2:',n2)\n",
    "    print('n3:',n3)\n",
    "    avg=(n1+n2+n3)/3\n",
    "    avg1=round(avg,2)\n",
    "    print(f\"The Average of {n1},{n2} and {n3} is: {avg1}\")\n",
    "\n",
    "AVG3(10,20)"
   ]
  },
  {
   "cell_type": "code",
   "execution_count": 51,
   "id": "c4812b01-ad54-46a0-a199-1811f738ec27",
   "metadata": {},
   "outputs": [
    {
     "name": "stdout",
     "output_type": "stream",
     "text": [
      "n1: 10\n",
      "n2: 20\n",
      "n3: 30\n",
      "The Average of 10,20 and 30 is: 20.0\n"
     ]
    }
   ],
   "source": [
    "def AVG3(n1,n2=20,n3=30):\n",
    "    print('n1:',n1)\n",
    "    print('n2:',n2)\n",
    "    print('n3:',n3)\n",
    "    avg=(n1+n2+n3)/3\n",
    "    avg1=round(avg,2)\n",
    "    print(f\"The Average of {n1},{n2} and {n3} is: {avg1}\")\n",
    "\n",
    "AVG3(10)"
   ]
  },
  {
   "cell_type": "code",
   "execution_count": 52,
   "id": "219626a1-5d36-4e54-aef2-d0c1c54cb09b",
   "metadata": {},
   "outputs": [
    {
     "ename": "SyntaxError",
     "evalue": "parameter without a default follows parameter with a default (4075214293.py, line 1)",
     "output_type": "error",
     "traceback": [
      "\u001b[1;36m  Cell \u001b[1;32mIn[52], line 1\u001b[1;36m\u001b[0m\n\u001b[1;33m    def AVG3(n1,n2=20,n3):\u001b[0m\n\u001b[1;37m                      ^\u001b[0m\n\u001b[1;31mSyntaxError\u001b[0m\u001b[1;31m:\u001b[0m parameter without a default follows parameter with a default\n"
     ]
    }
   ],
   "source": [
    "def AVG3(n1,n2=20,n3):\n",
    "    print('n1:',n1)\n",
    "    print('n2:',n2)\n",
    "    print('n3:',n3)\n",
    "    avg=(n1+n2+n3)/3\n",
    "    avg1=round(avg,2)\n",
    "    print(f\"The Average of {n1},{n2} and {n3} is: {avg1}\")\n",
    "\n",
    "AVG3(100,200)"
   ]
  },
  {
   "cell_type": "markdown",
   "id": "5d6bcf12-e2b8-4601-ae20-874e4c77db42",
   "metadata": {},
   "source": [
    "**Note: Default arguments always at last**"
   ]
  },
  {
   "cell_type": "code",
   "execution_count": 53,
   "id": "fbae35c1-e916-4c0f-a21a-96a3828cccd9",
   "metadata": {},
   "outputs": [
    {
     "name": "stdout",
     "output_type": "stream",
     "text": [
      "n1: 100\n",
      "n2: 20\n",
      "n3: 200\n",
      "The Average of 100,20 and 200 is: 106.67\n"
     ]
    }
   ],
   "source": [
    "def AVG3(n1,n3,n2=20):\n",
    "    print('n1:',n1)\n",
    "    print('n2:',n2)\n",
    "    print('n3:',n3)\n",
    "    avg=(n1+n2+n3)/3\n",
    "    avg1=round(avg,2)\n",
    "    print(f\"The Average of {n1},{n2} and {n3} is: {avg1}\")\n",
    "\n",
    "AVG3(100,200)"
   ]
  },
  {
   "cell_type": "code",
   "execution_count": null,
   "id": "19419537-01d8-4e19-af40-78804407cbe1",
   "metadata": {},
   "outputs": [],
   "source": [
    "n1,n2,n3=100          # W\n",
    "n1,n2=100,n3          # F\n",
    "n1=100,n2,n3          # F\n",
    "n1,n2=100,n3=100      # W\n",
    "n1=100,n2,n3=100      # F\n",
    "n1=100,n2=100,n3      # F\n",
    "n1=100,n2=100,n3=100  # W"
   ]
  },
  {
   "cell_type": "markdown",
   "id": "9501200c-8f4c-4c5f-a73b-57c604ccd4a8",
   "metadata": {},
   "source": [
    "- Function with arguments\n",
    "\n",
    "- Function without arguments\n",
    "\n",
    "- Function with Default arguments"
   ]
  },
  {
   "cell_type": "code",
   "execution_count": 54,
   "id": "dcedcd5a-3c3d-4a5e-b966-e0f6fcd7bde0",
   "metadata": {},
   "outputs": [
    {
     "name": "stdout",
     "output_type": "stream",
     "text": [
      "Function Without arguments\n"
     ]
    },
    {
     "name": "stdin",
     "output_type": "stream",
     "text": [
      "enter the salary: 100000\n",
      "enter the tax: 10\n"
     ]
    },
    {
     "name": "stdout",
     "output_type": "stream",
     "text": [
      "The total tax pay: 10000.0\n",
      "Function With arguments\n",
      "The total tax pay: 20000.0\n",
      "Function With default arguments\n",
      "The total tax pay: 5000.0\n"
     ]
    }
   ],
   "source": [
    "print(\"Function Without arguments\")\n",
    "def tax_cal():\n",
    "    salary=eval(input('enter the salary:'))\n",
    "    tax_per=eval(input('enter the tax:'))\n",
    "    tax_pay=salary*tax_per/100\n",
    "    print(\"The total tax pay:\",tax_pay)\n",
    "\n",
    "tax_cal()\n",
    "\n",
    "print(\"Function With arguments\")\n",
    "def tax_cal1(salary,tax_per):\n",
    "    tax_pay=salary*tax_per/100\n",
    "    print(\"The total tax pay:\",tax_pay)\n",
    "\n",
    "tax_cal1(100000,20)\n",
    "\n",
    "print(\"Function With default arguments\")\n",
    "def tax_cal2(salary,tax_per=10):\n",
    "    tax_pay=salary*tax_per/100\n",
    "    print(\"The total tax pay:\",tax_pay)\n",
    "\n",
    "tax_cal2(50000)"
   ]
  },
  {
   "cell_type": "markdown",
   "id": "919ffcd8-92d5-4358-a5fc-279874226eb2",
   "metadata": {},
   "source": [
    "**analogy with the packages**"
   ]
  },
  {
   "cell_type": "code",
   "execution_count": null,
   "id": "7304b9ea-ae78-490c-a9bd-f4fe2da15e4e",
   "metadata": {},
   "outputs": [],
   "source": [
    "from random import randint,random"
   ]
  },
  {
   "cell_type": "code",
   "execution_count": null,
   "id": "2de01f36-50e9-416b-8f0d-fc08efc87b69",
   "metadata": {},
   "outputs": [],
   "source": [
    "random()\n",
    "tax_cal()\n",
    "randint()\n",
    "tax_cal1()"
   ]
  },
  {
   "cell_type": "code",
   "execution_count": 1,
   "id": "e4304b4d-084c-4a75-984a-088f7962df95",
   "metadata": {},
   "outputs": [
    {
     "data": {
      "text/plain": [
       "(3+4j)"
      ]
     },
     "execution_count": 1,
     "metadata": {},
     "output_type": "execute_result"
    }
   ],
   "source": [
    "complex(3,4)  # real=3  imag=4  3+4j"
   ]
  },
  {
   "cell_type": "code",
   "execution_count": 2,
   "id": "fcc1ce74-58d1-43c9-a809-7484291c9bee",
   "metadata": {},
   "outputs": [
    {
     "data": {
      "text/plain": [
       "(3+0j)"
      ]
     },
     "execution_count": 2,
     "metadata": {},
     "output_type": "execute_result"
    }
   ],
   "source": [
    "complex(3)  # real=3  imag=0  3+0j"
   ]
  },
  {
   "cell_type": "code",
   "execution_count": 3,
   "id": "47ef0d5c-b426-42bb-ad5d-491163faab81",
   "metadata": {},
   "outputs": [
    {
     "data": {
      "text/plain": [
       "0j"
      ]
     },
     "execution_count": 3,
     "metadata": {},
     "output_type": "execute_result"
    }
   ],
   "source": [
    "complex()  # real=0  imag=0  0+0j"
   ]
  },
  {
   "cell_type": "markdown",
   "id": "15fb476f-9c98-4df9-83f5-8422538fdebe",
   "metadata": {},
   "source": [
    "- Now onwards whenever you see any package\n",
    "\n",
    "- always do shift+tab inside the brackets and observe\n",
    "\n",
    "- with or without or default"
   ]
  },
  {
   "cell_type": "code",
   "execution_count": 55,
   "id": "0eed3adb-d72a-41aa-a0da-d7b7089b4c6c",
   "metadata": {},
   "outputs": [
    {
     "name": "stdout",
     "output_type": "stream",
     "text": [
      "a: 100\n",
      "b: 200\n",
      "c: 300\n",
      "the summation of 100,200 and 300 is: 600\n"
     ]
    }
   ],
   "source": [
    "def add(a,b,c):\n",
    "    print('a:',a)\n",
    "    print('b:',b)\n",
    "    print('c:',c)\n",
    "    summ=a+b+c\n",
    "    print(f'the summation of {a},{b} and {c} is: {summ}')\n",
    "\n",
    "add(100,200,300)"
   ]
  },
  {
   "cell_type": "markdown",
   "id": "9a2866da-2b8b-4666-a47e-b6d8bf638bc8",
   "metadata": {},
   "source": [
    "**case-1**"
   ]
  },
  {
   "cell_type": "code",
   "execution_count": 56,
   "id": "ef1038c3-d8d9-4b31-8d18-d4bb3ab75f93",
   "metadata": {},
   "outputs": [
    {
     "name": "stdout",
     "output_type": "stream",
     "text": [
      "a: 100\n",
      "b: 200\n",
      "c: 400\n",
      "the summation of 100,200 and 400 is: 700\n"
     ]
    }
   ],
   "source": [
    "def add(a,b,c=400):\n",
    "    print('a:',a)\n",
    "    print('b:',b)\n",
    "    print('c:',c)\n",
    "    summ=a+b+c\n",
    "    print(f'the summation of {a},{b} and {c} is: {summ}')\n",
    "\n",
    "add(100,200)"
   ]
  },
  {
   "cell_type": "markdown",
   "id": "d25771af-571b-42a8-ba0d-765627a66744",
   "metadata": {},
   "source": [
    "**case-2**"
   ]
  },
  {
   "cell_type": "code",
   "execution_count": 57,
   "id": "c4eeb16c-88aa-469c-9354-d045cb0090d3",
   "metadata": {},
   "outputs": [
    {
     "name": "stdout",
     "output_type": "stream",
     "text": [
      "a: 100\n",
      "b: 200\n",
      "c: 600\n",
      "the summation of 100,200 and 600 is: 900\n"
     ]
    }
   ],
   "source": [
    "def add(a,b,c=400):\n",
    "    print('a:',a)\n",
    "    print('b:',b)\n",
    "    print('c:',c)\n",
    "    summ=a+b+c\n",
    "    print(f'the summation of {a},{b} and {c} is: {summ}')\n",
    "\n",
    "add(100,200,600)"
   ]
  },
  {
   "cell_type": "markdown",
   "id": "d1e3be4b-2711-4787-a7c2-0ee0d5121cc5",
   "metadata": {},
   "source": [
    "- In above case we already provided default value c=400\n",
    "\n",
    "- but while we call the function c value become=600\n",
    "\n",
    "- step-1: Define the function: while define what is the value 400\n",
    "\n",
    "- step-2: call the function: while call the function what is the value 600\n",
    "\n",
    "- step-3: Running the function: while running what is the value: 600 "
   ]
  },
  {
   "cell_type": "code",
   "execution_count": 59,
   "id": "ea4c3d32-6657-464c-b88c-42a37c776626",
   "metadata": {},
   "outputs": [
    {
     "ename": "NameError",
     "evalue": "name 'add1' is not defined",
     "output_type": "error",
     "traceback": [
      "\u001b[1;31m---------------------------------------------------------------------------\u001b[0m",
      "\u001b[1;31mNameError\u001b[0m                                 Traceback (most recent call last)",
      "Cell \u001b[1;32mIn[59], line 1\u001b[0m\n\u001b[1;32m----> 1\u001b[0m \u001b[43madd1\u001b[49m(\u001b[38;5;241m100\u001b[39m,\u001b[38;5;241m200\u001b[39m,\u001b[38;5;241m600\u001b[39m)\n\u001b[0;32m      3\u001b[0m \u001b[38;5;28;01mdef\u001b[39;00m \u001b[38;5;21madd1\u001b[39m(a,b,c\u001b[38;5;241m=\u001b[39m\u001b[38;5;241m400\u001b[39m):\n\u001b[0;32m      4\u001b[0m     \u001b[38;5;28mprint\u001b[39m(\u001b[38;5;124m'\u001b[39m\u001b[38;5;124ma:\u001b[39m\u001b[38;5;124m'\u001b[39m,a)\n",
      "\u001b[1;31mNameError\u001b[0m: name 'add1' is not defined"
     ]
    }
   ],
   "source": [
    "add1(100,200,600)\n",
    "\n",
    "def add1(a,b,c=400):\n",
    "    print('a:',a)\n",
    "    print('b:',b)\n",
    "    print('c:',c)\n",
    "    summ=a+b+c\n",
    "    print(f'the summation of {a},{b} and {c} is: {summ}')"
   ]
  },
  {
   "cell_type": "code",
   "execution_count": null,
   "id": "d55372bf-afea-44a4-8546-628a4d668312",
   "metadata": {},
   "outputs": [],
   "source": [
    "def add(a,b,c=400):\n",
    "    c=1000\n",
    "    print('a:',a)\n",
    "    print('b:',b)\n",
    "    print('c:',c)\n",
    "    summ=a+b+ccccc\n",
    "    print(f'the summation of {a},{b} and {c} is: {summ}')"
   ]
  },
  {
   "cell_type": "code",
   "execution_count": 60,
   "id": "78740107-8b89-46db-8fa4-fbe3d4116455",
   "metadata": {},
   "outputs": [
    {
     "name": "stdout",
     "output_type": "stream",
     "text": [
      "a: 100\n",
      "b: 200\n",
      "c: 1000\n",
      "the summation of 100,200 and 1000 is: 1300\n"
     ]
    }
   ],
   "source": [
    "def add(a,b,c=400):\n",
    "    c=1000\n",
    "    print('a:',a)\n",
    "    print('b:',b)\n",
    "    print('c:',c)\n",
    "    summ=a+b+c\n",
    "    print(f'the summation of {a},{b} and {c} is: {summ}')\n",
    "\n",
    "add(100,200,600)\n",
    "\n",
    "# while define c=400\n",
    "# while calling c=600\n",
    "# while running c=1000"
   ]
  },
  {
   "cell_type": "code",
   "execution_count": 5,
   "id": "0670cedb-bdba-43a4-9b46-2252f46ded43",
   "metadata": {},
   "outputs": [
    {
     "name": "stdout",
     "output_type": "stream",
     "text": [
      "a: 100\n",
      "b: 200\n",
      "c: 1000\n",
      "the summation of 100,200 and 1000 is: 1300\n"
     ]
    }
   ],
   "source": [
    "def add(a,b,c):\n",
    "    c=1000\n",
    "    print('a:',a)\n",
    "    print('b:',b)\n",
    "    print('c:',c)\n",
    "    summ=a+b+c\n",
    "    print(f'the summation of {a},{b} and {c} is: {summ}')\n",
    "\n",
    "add(100,200,600)"
   ]
  },
  {
   "cell_type": "code",
   "execution_count": 61,
   "id": "9a59602d-eb0c-4916-b722-ad902baf75a7",
   "metadata": {},
   "outputs": [
    {
     "name": "stdout",
     "output_type": "stream",
     "text": [
      "a: 100\n",
      "b: 200\n",
      "c: 1000\n",
      "the summation of 100,200 and 1000 is: 1300\n"
     ]
    }
   ],
   "source": [
    "c=3000\n",
    "\n",
    "def add(a,b,c=600):\n",
    "    c=1000\n",
    "    print('a:',a)\n",
    "    print('b:',b)\n",
    "    print('c:',c)\n",
    "    summ=a+b+c\n",
    "    print(f'the summation of {a},{b} and {c} is: {summ}')\n",
    "c=2000\n",
    "add(100,200,800)"
   ]
  },
  {
   "cell_type": "code",
   "execution_count": 62,
   "id": "f05d6d33-3a7b-4e83-9c96-8f9fceb60462",
   "metadata": {},
   "outputs": [
    {
     "name": "stdout",
     "output_type": "stream",
     "text": [
      "a: 100\n",
      "b: 200\n",
      "c: 3000\n",
      "the summation of 100,200 and 3000 is: 3300\n"
     ]
    }
   ],
   "source": [
    "c=3000\n",
    "\n",
    "def add(a,b):\n",
    "    print('a:',a)\n",
    "    print('b:',b)\n",
    "    print('c:',c)\n",
    "    summ=a+b+c\n",
    "    print(f'the summation of {a},{b} and {c} is: {summ}')\n",
    "add(100,200)\n",
    "\n",
    "# c=3000\n",
    "# add() there is no c  :  c=3000\n",
    "# call   no  c         :  c=3000\n",
    "# inside the any c     :  c=3000"
   ]
  },
  {
   "cell_type": "markdown",
   "id": "d390fdbe-dba9-4717-8802-f9510d4b9197",
   "metadata": {},
   "source": [
    "**global variable vs Local variable**\n",
    "\n",
    "- The variables outside the function is called as **Global variable**\n",
    "\n",
    "    - Global variables can use anywhere\n",
    "\n",
    "    - global variable can be use inside the function also outside the function\n",
    "\n",
    "- The variables inside the function is called as **Local variable**\n",
    "\n",
    "    - local variables can be use only inside function\n",
    "\n",
    "    - local variables can not be use outside the function"
   ]
  },
  {
   "cell_type": "code",
   "execution_count": 63,
   "id": "0df161d7-a593-48e3-b613-24782e2d6885",
   "metadata": {},
   "outputs": [
    {
     "name": "stdout",
     "output_type": "stream",
     "text": [
      "the summation of 100,200 is : 300\n"
     ]
    }
   ],
   "source": [
    "def addition():\n",
    "    n1=100\n",
    "    n2=200\n",
    "    summ=n1+n2\n",
    "    print(f'the summation of {n1},{n2} is : {summ}')\n",
    "addition()"
   ]
  },
  {
   "cell_type": "code",
   "execution_count": 1,
   "id": "72d216b3-49ff-4115-ae1d-cdec1b08cd3f",
   "metadata": {},
   "outputs": [
    {
     "ename": "NameError",
     "evalue": "name 'n1' is not defined",
     "output_type": "error",
     "traceback": [
      "\u001b[1;31m---------------------------------------------------------------------------\u001b[0m",
      "\u001b[1;31mNameError\u001b[0m                                 Traceback (most recent call last)",
      "Cell \u001b[1;32mIn[1], line 1\u001b[0m\n\u001b[1;32m----> 1\u001b[0m \u001b[43mn1\u001b[49m\n",
      "\u001b[1;31mNameError\u001b[0m: name 'n1' is not defined"
     ]
    }
   ],
   "source": [
    "n1"
   ]
  },
  {
   "cell_type": "code",
   "execution_count": 66,
   "id": "413fe099-ea66-4cac-a615-15453e49975b",
   "metadata": {},
   "outputs": [
    {
     "name": "stdout",
     "output_type": "stream",
     "text": [
      "the summation of 1000,2000 is : 3000\n"
     ]
    }
   ],
   "source": [
    "n1=1000\n",
    "n2=2000\n",
    "def addition():\n",
    "    summ=n1+n2\n",
    "    print(f'the summation of {n1},{n2} is : {summ}')\n",
    "addition()"
   ]
  },
  {
   "cell_type": "code",
   "execution_count": 67,
   "id": "188d6d41-5efa-4e06-aedf-2699e3d22631",
   "metadata": {},
   "outputs": [
    {
     "data": {
      "text/plain": [
       "1000"
      ]
     },
     "execution_count": 67,
     "metadata": {},
     "output_type": "execute_result"
    }
   ],
   "source": [
    "n1"
   ]
  },
  {
   "cell_type": "markdown",
   "id": "88e2c4a3-c20c-47c3-b97a-5f345b42eff6",
   "metadata": {},
   "source": [
    "**How to convert local variable to Global variable**\n",
    "\n",
    "- if we want to use summ variable outside the function\n",
    "\n",
    "- Then intialise summ as global also using **global** keyword"
   ]
  },
  {
   "cell_type": "code",
   "execution_count": 68,
   "id": "aadcb6ec-0e2b-44f5-9689-abbd569c705a",
   "metadata": {},
   "outputs": [
    {
     "name": "stdout",
     "output_type": "stream",
     "text": [
      "the summation of 1000,2000 is : 3000\n"
     ]
    }
   ],
   "source": [
    "n1=1000\n",
    "n2=2000\n",
    "def addition():\n",
    "    global summ\n",
    "    summ=n1+n2\n",
    "    print(f'the summation of {n1},{n2} is : {summ}')\n",
    "addition()"
   ]
  },
  {
   "cell_type": "code",
   "execution_count": 69,
   "id": "a546f2ad-e4b3-4465-b774-7b6a0c754d59",
   "metadata": {},
   "outputs": [
    {
     "data": {
      "text/plain": [
       "3000"
      ]
     },
     "execution_count": 69,
     "metadata": {},
     "output_type": "execute_result"
    }
   ],
   "source": [
    "summ"
   ]
  },
  {
   "cell_type": "markdown",
   "id": "5c454db3-37fb-418b-b55d-fb5332db0455",
   "metadata": {},
   "source": [
    "**unbound local error**"
   ]
  },
  {
   "cell_type": "markdown",
   "id": "0f495573-3f45-412c-a3a9-3916f584cdcd",
   "metadata": {},
   "source": [
    "- In below example s is not initialised\n",
    "\n",
    "- we might think name error will come\n",
    "\n",
    "- but inside function we will get **unbound local error**"
   ]
  },
  {
   "cell_type": "code",
   "execution_count": 70,
   "id": "d31b77ac-3a69-469b-a359-9cadb0c0c358",
   "metadata": {},
   "outputs": [
    {
     "ename": "UnboundLocalError",
     "evalue": "cannot access local variable 'summ1' where it is not associated with a value",
     "output_type": "error",
     "traceback": [
      "\u001b[1;31m---------------------------------------------------------------------------\u001b[0m",
      "\u001b[1;31mUnboundLocalError\u001b[0m                         Traceback (most recent call last)",
      "Cell \u001b[1;32mIn[70], line 5\u001b[0m\n\u001b[0;32m      3\u001b[0m     summ1\u001b[38;5;241m=\u001b[39msumm1\u001b[38;5;241m+\u001b[39mn1\n\u001b[0;32m      4\u001b[0m     \u001b[38;5;28mprint\u001b[39m(s1)\n\u001b[1;32m----> 5\u001b[0m \u001b[43madd1\u001b[49m\u001b[43m(\u001b[49m\u001b[43m)\u001b[49m    \n",
      "Cell \u001b[1;32mIn[70], line 3\u001b[0m, in \u001b[0;36madd1\u001b[1;34m()\u001b[0m\n\u001b[0;32m      1\u001b[0m \u001b[38;5;28;01mdef\u001b[39;00m \u001b[38;5;21madd1\u001b[39m():\n\u001b[0;32m      2\u001b[0m     n1\u001b[38;5;241m=\u001b[39m\u001b[38;5;241m100\u001b[39m\n\u001b[1;32m----> 3\u001b[0m     summ1\u001b[38;5;241m=\u001b[39m\u001b[43msumm1\u001b[49m\u001b[38;5;241m+\u001b[39mn1\n\u001b[0;32m      4\u001b[0m     \u001b[38;5;28mprint\u001b[39m(s1)\n",
      "\u001b[1;31mUnboundLocalError\u001b[0m: cannot access local variable 'summ1' where it is not associated with a value"
     ]
    }
   ],
   "source": [
    "def add1():\n",
    "    n1=100\n",
    "    summ1=summ1+n1\n",
    "    print(s1)\n",
    "add1()    "
   ]
  },
  {
   "cell_type": "code",
   "execution_count": 71,
   "id": "f71f0590-6b6a-4362-a80b-fd319109d178",
   "metadata": {},
   "outputs": [
    {
     "ename": "NameError",
     "evalue": "name 'summ1' is not defined",
     "output_type": "error",
     "traceback": [
      "\u001b[1;31m---------------------------------------------------------------------------\u001b[0m",
      "\u001b[1;31mNameError\u001b[0m                                 Traceback (most recent call last)",
      "Cell \u001b[1;32mIn[71], line 5\u001b[0m\n\u001b[0;32m      3\u001b[0m     s1\u001b[38;5;241m=\u001b[39msumm1\u001b[38;5;241m+\u001b[39mn1\n\u001b[0;32m      4\u001b[0m     \u001b[38;5;28mprint\u001b[39m(s1)\n\u001b[1;32m----> 5\u001b[0m \u001b[43madd1\u001b[49m\u001b[43m(\u001b[49m\u001b[43m)\u001b[49m\n",
      "Cell \u001b[1;32mIn[71], line 3\u001b[0m, in \u001b[0;36madd1\u001b[1;34m()\u001b[0m\n\u001b[0;32m      1\u001b[0m \u001b[38;5;28;01mdef\u001b[39;00m \u001b[38;5;21madd1\u001b[39m():\n\u001b[0;32m      2\u001b[0m     n1\u001b[38;5;241m=\u001b[39m\u001b[38;5;241m100\u001b[39m\n\u001b[1;32m----> 3\u001b[0m     s1\u001b[38;5;241m=\u001b[39m\u001b[43msumm1\u001b[49m\u001b[38;5;241m+\u001b[39mn1\n\u001b[0;32m      4\u001b[0m     \u001b[38;5;28mprint\u001b[39m(s1)\n",
      "\u001b[1;31mNameError\u001b[0m: name 'summ1' is not defined"
     ]
    }
   ],
   "source": [
    "def add1():\n",
    "    n1=100\n",
    "    s1=summ1+n1\n",
    "    print(s1)\n",
    "add1()"
   ]
  },
  {
   "cell_type": "code",
   "execution_count": null,
   "id": "53a2c138-ef9f-4783-911b-f056879410e8",
   "metadata": {},
   "outputs": [],
   "source": [
    "def add1():\n",
    "    n1=100\n",
    "    s1=summ1+n1\n",
    "    print(s1)  \n",
    "add1()             # Name error summ1\n",
    "##########################################\n",
    "def add1():\n",
    "    n1=100\n",
    "    summ1=summ1+n1\n",
    "    print(s1)\n",
    "add1()             # unbound local\n",
    "##########################################\n",
    "def add1():\n",
    "    summ1=0\n",
    "    n1=100\n",
    "    s1=summ1+n1\n",
    "    print(s1)\n",
    "add1()\n",
    "##########################################\n",
    "def add1():\n",
    "    n1=100\n",
    "    summ1=0\n",
    "    summ1=summ1+n1\n",
    "    print(s1)\n",
    "add1()"
   ]
  },
  {
   "cell_type": "code",
   "execution_count": 3,
   "id": "5f979199-417e-41a5-be0d-a2e90e5805db",
   "metadata": {},
   "outputs": [
    {
     "name": "stdout",
     "output_type": "stream",
     "text": [
      "100\n"
     ]
    }
   ],
   "source": [
    "def add1():\n",
    "    summ1=0\n",
    "    n1=100\n",
    "    s1=summ1+n1\n",
    "    print(s1)\n",
    "add1()"
   ]
  },
  {
   "cell_type": "code",
   "execution_count": 4,
   "id": "e72b3fdc-0789-4af6-95d2-4a0b2385a0a2",
   "metadata": {},
   "outputs": [
    {
     "ename": "NameError",
     "evalue": "name 's1' is not defined",
     "output_type": "error",
     "traceback": [
      "\u001b[1;31m---------------------------------------------------------------------------\u001b[0m",
      "\u001b[1;31mNameError\u001b[0m                                 Traceback (most recent call last)",
      "Cell \u001b[1;32mIn[4], line 6\u001b[0m\n\u001b[0;32m      4\u001b[0m     summ1\u001b[38;5;241m=\u001b[39msumm1\u001b[38;5;241m+\u001b[39mn1\n\u001b[0;32m      5\u001b[0m     \u001b[38;5;28mprint\u001b[39m(s1)\n\u001b[1;32m----> 6\u001b[0m \u001b[43madd2\u001b[49m\u001b[43m(\u001b[49m\u001b[43m)\u001b[49m\n",
      "Cell \u001b[1;32mIn[4], line 5\u001b[0m, in \u001b[0;36madd2\u001b[1;34m()\u001b[0m\n\u001b[0;32m      3\u001b[0m summ1\u001b[38;5;241m=\u001b[39m\u001b[38;5;241m0\u001b[39m\n\u001b[0;32m      4\u001b[0m summ1\u001b[38;5;241m=\u001b[39msumm1\u001b[38;5;241m+\u001b[39mn1\n\u001b[1;32m----> 5\u001b[0m \u001b[38;5;28mprint\u001b[39m(\u001b[43ms1\u001b[49m)\n",
      "\u001b[1;31mNameError\u001b[0m: name 's1' is not defined"
     ]
    }
   ],
   "source": [
    "def add2():\n",
    "    n1=100\n",
    "    summ1=0\n",
    "    summ1=summ1+n1\n",
    "    print(s1)\n",
    "add2()"
   ]
  },
  {
   "cell_type": "code",
   "execution_count": 5,
   "id": "0311faed-2e64-4951-9542-f4bf76292453",
   "metadata": {},
   "outputs": [
    {
     "name": "stdout",
     "output_type": "stream",
     "text": [
      "200\n"
     ]
    }
   ],
   "source": [
    "def add3():\n",
    "    n1=100\n",
    "    summ2=100\n",
    "    summ2=summ2+n1\n",
    "    print(summ2)\n",
    "add3()"
   ]
  },
  {
   "cell_type": "code",
   "execution_count": 6,
   "id": "f428939a-0ef3-497e-a873-701e5cf6235d",
   "metadata": {},
   "outputs": [
    {
     "name": "stdout",
     "output_type": "stream",
     "text": [
      "60 20.0\n"
     ]
    }
   ],
   "source": [
    "def avg(a,b,c):\n",
    "    global ADD,AVG1\n",
    "    ADD=a+b+c\n",
    "    AVG1=ADD/3\n",
    "    print(ADD,AVG1)\n",
    "\n",
    "avg(10,20,30)"
   ]
  },
  {
   "cell_type": "code",
   "execution_count": 7,
   "id": "4d016f35-dc2f-41b7-a975-a7fefa0e0d54",
   "metadata": {},
   "outputs": [
    {
     "data": {
      "text/plain": [
       "(60, 20.0)"
      ]
     },
     "execution_count": 7,
     "metadata": {},
     "output_type": "execute_result"
    }
   ],
   "source": [
    "ADD,AVG1"
   ]
  },
  {
   "cell_type": "code",
   "execution_count": 8,
   "id": "96f2debd-e1df-437b-af6c-b40b277771ce",
   "metadata": {},
   "outputs": [
    {
     "name": "stdout",
     "output_type": "stream",
     "text": [
      "a: 100\n",
      "b: 200\n",
      "c: 5000\n",
      "the summation of 100,200 and 5000 is: 5300\n"
     ]
    }
   ],
   "source": [
    "c=3000\n",
    "def add(a,b):\n",
    "    print('a:',a)\n",
    "    print('b:',b)\n",
    "    print('c:',c)\n",
    "    summ=a+b+c\n",
    "    print(f'the summation of {a},{b} and {c} is: {summ}')\n",
    "c=5000\n",
    "add(100,200)\n",
    "\n",
    "# step-1: c=3000\n",
    "# step-2: def\n",
    "# step-3: c=5000\n",
    "# step-4: call\n",
    "# step-5: run"
   ]
  },
  {
   "cell_type": "code",
   "execution_count": 9,
   "id": "69376abf-1d54-4a18-a665-eab8b18b59a9",
   "metadata": {},
   "outputs": [
    {
     "name": "stdout",
     "output_type": "stream",
     "text": [
      "a: 100\n",
      "b: 200\n",
      "c: 7000\n",
      "the summation of 100,200 and 8000 is: 7300\n"
     ]
    }
   ],
   "source": [
    "c=3000\n",
    "def add(a,b):\n",
    "    c=7000\n",
    "    print('a:',a)\n",
    "    print('b:',b)\n",
    "    print('c:',c)\n",
    "    summ=a+b+c\n",
    "    c=8000\n",
    "    print(f'the summation of {a},{b} and {c} is: {summ}')\n",
    "c=5000\n",
    "add(100,200)"
   ]
  },
  {
   "cell_type": "code",
   "execution_count": 10,
   "id": "891bc65f-5d4b-4e7b-9245-2809b0dba9b7",
   "metadata": {},
   "outputs": [
    {
     "name": "stdout",
     "output_type": "stream",
     "text": [
      "a: 100\n",
      "b: 200\n",
      "c: 9000\n",
      "the summation of 100,200 and 8000 is: 9300\n"
     ]
    }
   ],
   "source": [
    "c=3000\n",
    "def add(a,b,c=10000):\n",
    "    print('a:',a)\n",
    "    print('b:',b)\n",
    "    print('c:',c)\n",
    "    summ=a+b+c\n",
    "    c=8000\n",
    "    print(f'the summation of {a},{b} and {c} is: {summ}')\n",
    "c=5000\n",
    "add(100,200,9000)"
   ]
  },
  {
   "cell_type": "code",
   "execution_count": 11,
   "id": "b2137806-9e83-40a3-b15f-e95c5b110043",
   "metadata": {},
   "outputs": [
    {
     "name": "stdout",
     "output_type": "stream",
     "text": [
      "20\n",
      "10\n"
     ]
    }
   ],
   "source": [
    "a=10\n",
    "b=20\n",
    "a,b=b,a\n",
    "print(a)\n",
    "print(b)"
   ]
  },
  {
   "cell_type": "markdown",
   "id": "01c245c0-a9e4-4ff4-bddd-3243c4697539",
   "metadata": {},
   "source": [
    "- Function without arguments\n",
    "\n",
    "- Function with arguments\n",
    "\n",
    "- Function default arguments\n",
    "\n",
    "- Local vs global variable"
   ]
  },
  {
   "cell_type": "code",
   "execution_count": 12,
   "id": "d8661139-b6bb-425f-8d4b-2ed744bd9f6d",
   "metadata": {},
   "outputs": [
    {
     "name": "stdin",
     "output_type": "stream",
     "text": [
      "enter a num: 20\n"
     ]
    },
    {
     "name": "stdout",
     "output_type": "stream",
     "text": [
      "20 is an even\n"
     ]
    }
   ],
   "source": [
    "# wap ask the user enter a number\n",
    "# print it is an even or odd\n",
    "# Function without aeguments\n",
    "\n",
    "def even_odd():\n",
    "    num=eval(input('enter a num:'))\n",
    "    if num%2==0:\n",
    "        print(f'{num} is an even')\n",
    "    else:\n",
    "        print(f'{num} is an odd')\n",
    "\n",
    "even_odd()"
   ]
  },
  {
   "cell_type": "code",
   "execution_count": 13,
   "id": "fc28a8ed-c482-4157-9c7f-a94a0ff88d8d",
   "metadata": {},
   "outputs": [
    {
     "name": "stdout",
     "output_type": "stream",
     "text": [
      "101 is an odd\n"
     ]
    }
   ],
   "source": [
    "# print it is an even or odd\n",
    "# Function with aeguments\n",
    "\n",
    "def even_odd1(num):\n",
    "    if num%2==0:\n",
    "        print(f'{num} is an even')\n",
    "    else:\n",
    "        print(f'{num} is an odd')\n",
    "\n",
    "even_odd1(101)"
   ]
  },
  {
   "cell_type": "code",
   "execution_count": 16,
   "id": "f8157819-881a-428a-9be0-e836e48e3f64",
   "metadata": {},
   "outputs": [
    {
     "ename": "SyntaxError",
     "evalue": "name 'num1' is parameter and global (1973557622.py, line 5)",
     "output_type": "error",
     "traceback": [
      "\u001b[1;36m  Cell \u001b[1;32mIn[16], line 5\u001b[1;36m\u001b[0m\n\u001b[1;33m    global num1\u001b[0m\n\u001b[1;37m    ^\u001b[0m\n\u001b[1;31mSyntaxError\u001b[0m\u001b[1;31m:\u001b[0m name 'num1' is parameter and global\n"
     ]
    }
   ],
   "source": [
    "# print it is an even or odd\n",
    "# Function default aeguments\n",
    "\n",
    "def even_odd2(num1=202):\n",
    "    global num1\n",
    "    if num%2==0:\n",
    "        print(f'{num1} is an even')\n",
    "    else:\n",
    "        print(f'{num1} is an odd')\n",
    "\n",
    "even_odd2()"
   ]
  },
  {
   "cell_type": "code",
   "execution_count": 17,
   "id": "6d6fbd10-3273-42db-89cd-4ee608d2fb73",
   "metadata": {},
   "outputs": [
    {
     "ename": "NameError",
     "evalue": "name 'num1' is not defined",
     "output_type": "error",
     "traceback": [
      "\u001b[1;31m---------------------------------------------------------------------------\u001b[0m",
      "\u001b[1;31mNameError\u001b[0m                                 Traceback (most recent call last)",
      "Cell \u001b[1;32mIn[17], line 1\u001b[0m\n\u001b[1;32m----> 1\u001b[0m \u001b[43mnum1\u001b[49m\n",
      "\u001b[1;31mNameError\u001b[0m: name 'num1' is not defined"
     ]
    }
   ],
   "source": [
    "num1"
   ]
  },
  {
   "cell_type": "code",
   "execution_count": 19,
   "id": "c3851c71-2fc4-4688-967e-f981119384de",
   "metadata": {},
   "outputs": [
    {
     "name": "stdin",
     "output_type": "stream",
     "text": [
      "enter a num: 205\n"
     ]
    },
    {
     "name": "stdout",
     "output_type": "stream",
     "text": [
      "205 is an odd\n"
     ]
    }
   ],
   "source": [
    "def even_odd():\n",
    "    global num2\n",
    "    num2=eval(input('enter a num:'))\n",
    "    if num2%2==0:\n",
    "        print(f'{num2} is an even')\n",
    "    else:\n",
    "        print(f'{num2} is an odd')\n",
    "\n",
    "even_odd()"
   ]
  },
  {
   "cell_type": "code",
   "execution_count": 20,
   "id": "12e73f52-f251-4cde-9c96-44ed64490447",
   "metadata": {},
   "outputs": [
    {
     "data": {
      "text/plain": [
       "205"
      ]
     },
     "execution_count": 20,
     "metadata": {},
     "output_type": "execute_result"
    }
   ],
   "source": [
    "num2"
   ]
  },
  {
   "cell_type": "code",
   "execution_count": null,
   "id": "45b00db2-97fa-48e9-ac51-c82acdab5b30",
   "metadata": {},
   "outputs": [],
   "source": [
    "def even_odd2(num1=202):\n",
    "    global num1\n",
    "    if num1%2==0:\n",
    "        print(f'{num1} is an even')\n",
    "    else:\n",
    "        print(f'{num1} is an odd')\n",
    "\n",
    "even_odd2()\n",
    "\n",
    "def even_odd():\n",
    "    global num2\n",
    "    num2=eval(input('enter a num:'))\n",
    "    if num2%2==0:\n",
    "        print(f'{num2} is an even')\n",
    "    else:\n",
    "        print(f'{num2} is an odd')\n",
    "\n",
    "even_odd()"
   ]
  },
  {
   "cell_type": "markdown",
   "id": "eba987cf-ae91-4c7b-8170-c4aa1751d62f",
   "metadata": {},
   "source": [
    "**parameter vs variable**"
   ]
  },
  {
   "cell_type": "markdown",
   "id": "45f8afba-6527-4760-9b34-117284b4a702",
   "metadata": {},
   "source": [
    "- Parameters also called as Arguments\n",
    "\n",
    "    - This always inside the function brackets\n",
    "\n",
    "- Variables either outside the function or inside the function"
   ]
  },
  {
   "cell_type": "markdown",
   "id": "f951d57a-c77a-4b7b-a38d-f89771f78113",
   "metadata": {},
   "source": [
    "**return**\n",
    "\n",
    "- return means function is giving something\n",
    "\n",
    "- we know that local variables can not use outside the function\n",
    "\n",
    "- in order to use local variables outside the function , we have two methods\n",
    "\n",
    "    - global\n",
    "\n",
    "    - return"
   ]
  },
  {
   "cell_type": "code",
   "execution_count": 21,
   "id": "e67b0644-2509-481b-ba63-a562821cb45d",
   "metadata": {},
   "outputs": [],
   "source": [
    "def add():\n",
    "    a=10\n",
    "    b=20\n",
    "    c=a+b\n",
    "    return (c)\n",
    "\n",
    "c=add()"
   ]
  },
  {
   "cell_type": "code",
   "execution_count": 23,
   "id": "9a4c8a36-5647-4c6b-9b7a-e937822cd15b",
   "metadata": {},
   "outputs": [
    {
     "data": {
      "text/plain": [
       "30"
      ]
     },
     "execution_count": 23,
     "metadata": {},
     "output_type": "execute_result"
    }
   ],
   "source": [
    "c"
   ]
  },
  {
   "cell_type": "code",
   "execution_count": 3,
   "id": "f9eece4c-7864-4316-9d16-f73a934e9618",
   "metadata": {},
   "outputs": [],
   "source": [
    "value=10,20      # conf\n",
    "val1,val2=10,20  # works\n",
    "val11,val12=10   # fail"
   ]
  },
  {
   "cell_type": "code",
   "execution_count": 24,
   "id": "a22af646-1c89-4cce-9fe7-dbcf4527949b",
   "metadata": {},
   "outputs": [
    {
     "data": {
      "text/plain": [
       "(10, 20)"
      ]
     },
     "execution_count": 24,
     "metadata": {},
     "output_type": "execute_result"
    }
   ],
   "source": [
    "value=10,20\n",
    "value        # tuple"
   ]
  },
  {
   "cell_type": "code",
   "execution_count": 25,
   "id": "ed7b9a72-9eb2-4218-9235-1622fa21d5b1",
   "metadata": {},
   "outputs": [
    {
     "data": {
      "text/plain": [
       "10"
      ]
     },
     "execution_count": 25,
     "metadata": {},
     "output_type": "execute_result"
    }
   ],
   "source": [
    "val1,val2=10,20\n",
    "val1"
   ]
  },
  {
   "cell_type": "code",
   "execution_count": 26,
   "id": "68a79d42-d204-4f07-a941-081106917ebd",
   "metadata": {},
   "outputs": [
    {
     "data": {
      "text/plain": [
       "20"
      ]
     },
     "execution_count": 26,
     "metadata": {},
     "output_type": "execute_result"
    }
   ],
   "source": [
    "val2"
   ]
  },
  {
   "cell_type": "code",
   "execution_count": 27,
   "id": "6d1714cb-3230-4416-b2c5-aa3bceebb306",
   "metadata": {},
   "outputs": [
    {
     "ename": "TypeError",
     "evalue": "cannot unpack non-iterable int object",
     "output_type": "error",
     "traceback": [
      "\u001b[1;31m---------------------------------------------------------------------------\u001b[0m",
      "\u001b[1;31mTypeError\u001b[0m                                 Traceback (most recent call last)",
      "Cell \u001b[1;32mIn[27], line 1\u001b[0m\n\u001b[1;32m----> 1\u001b[0m val1,val2\u001b[38;5;241m=\u001b[39m\u001b[38;5;241m10\u001b[39m\n",
      "\u001b[1;31mTypeError\u001b[0m: cannot unpack non-iterable int object"
     ]
    }
   ],
   "source": [
    "val1,val2=10"
   ]
  },
  {
   "cell_type": "code",
   "execution_count": 4,
   "id": "d74137dc-568c-47bb-938f-1e72f8ffe55e",
   "metadata": {},
   "outputs": [
    {
     "name": "stdout",
     "output_type": "stream",
     "text": [
      "10\n",
      "30\n"
     ]
    }
   ],
   "source": [
    "def add():\n",
    "    a=10\n",
    "    b=20\n",
    "    c=a+b\n",
    "    return (a,c)\n",
    "\n",
    "a,c=add()\n",
    "print(a)\n",
    "print(c)"
   ]
  },
  {
   "cell_type": "code",
   "execution_count": 5,
   "id": "f6b14d1e-4195-4953-bc94-39f5fa4489d8",
   "metadata": {},
   "outputs": [
    {
     "name": "stdout",
     "output_type": "stream",
     "text": [
      "60\n",
      "20.0\n"
     ]
    }
   ],
   "source": [
    "def avg(a,b,c):\n",
    "    summ=a+b+c\n",
    "    AVG=summ/3\n",
    "    return(summ,AVG)\n",
    "\n",
    "summ,AVG=avg(10,20,30)\n",
    "print(summ)\n",
    "print(AVG)"
   ]
  },
  {
   "cell_type": "code",
   "execution_count": 28,
   "id": "2eaeecfd-8192-4eae-8d8d-4cd3d2b65dcb",
   "metadata": {},
   "outputs": [
    {
     "name": "stdin",
     "output_type": "stream",
     "text": [
      "enter a num: 1000\n"
     ]
    },
    {
     "name": "stdout",
     "output_type": "stream",
     "text": [
      "1000 is an even\n",
      "1010\n"
     ]
    }
   ],
   "source": [
    "def even_odd():\n",
    "    num2=eval(input('enter a num:'))\n",
    "    if num2%2==0:\n",
    "        val=10\n",
    "        print(f'{num2} is an even')\n",
    "        return(num2+10)\n",
    "    else:\n",
    "        val=20\n",
    "        print(f'{num2} is an odd')\n",
    "        return(num2+20)\n",
    "\n",
    "output=even_odd()\n",
    "print(output)"
   ]
  },
  {
   "cell_type": "code",
   "execution_count": null,
   "id": "91b9bf00-6610-4451-a780-26c44a83dead",
   "metadata": {},
   "outputs": [],
   "source": [
    "def even_odd():\n",
    "    num2=eval(input('enter a num:'))\n",
    "    if num2%2==0:\n",
    "        val=10\n",
    "        print(f'{num2} is an even')\n",
    "    else:\n",
    "        val=20\n",
    "        print(f'{num2} is an odd')\n",
    "        return(num2)\n",
    "\n",
    "output=even_odd()\n",
    "print(output)"
   ]
  },
  {
   "cell_type": "code",
   "execution_count": 29,
   "id": "fc4ffa29-0c62-4514-9693-593c4356c1c8",
   "metadata": {},
   "outputs": [],
   "source": [
    "def func_even_odd2(n1):\n",
    "    \n",
    "    # n1=eval(input('Enter the number :'))\n",
    "    if n1%2==0:\n",
    "        return('Even Number')\n",
    "    else:\n",
    "        return('odd Number')\n",
    "\n",
    "Even_odd = func_even_odd2(80)"
   ]
  },
  {
   "cell_type": "code",
   "execution_count": 30,
   "id": "e05f62e0-1432-4287-b4c3-fee99666a23c",
   "metadata": {},
   "outputs": [
    {
     "ename": "SyntaxError",
     "evalue": "Missing parentheses in call to 'print'. Did you mean print(...)? (29656697.py, line 1)",
     "output_type": "error",
     "traceback": [
      "\u001b[1;36m  Cell \u001b[1;32mIn[30], line 1\u001b[1;36m\u001b[0m\n\u001b[1;33m    print Even_odd\u001b[0m\n\u001b[1;37m    ^\u001b[0m\n\u001b[1;31mSyntaxError\u001b[0m\u001b[1;31m:\u001b[0m Missing parentheses in call to 'print'. Did you mean print(...)?\n"
     ]
    }
   ],
   "source": [
    "print Even_odd"
   ]
  },
  {
   "cell_type": "markdown",
   "id": "f9d5af57-d79a-40f0-80d5-a178be86624c",
   "metadata": {},
   "source": [
    "**function in function**"
   ]
  },
  {
   "cell_type": "code",
   "execution_count": 6,
   "id": "e318f8e1-5c83-4de6-ba80-d2400795042b",
   "metadata": {},
   "outputs": [
    {
     "name": "stdout",
     "output_type": "stream",
     "text": [
      "hello good morning\n",
      "hello good night\n"
     ]
    }
   ],
   "source": [
    "def greet1():\n",
    "    print('hello good morning')\n",
    "\n",
    "def greet2():\n",
    "    print('hello good night')\n",
    "\n",
    "greet1()\n",
    "greet2()    "
   ]
  },
  {
   "cell_type": "code",
   "execution_count": 9,
   "id": "de73637c-431f-473d-926a-9039112da890",
   "metadata": {},
   "outputs": [
    {
     "name": "stdout",
     "output_type": "stream",
     "text": [
      "hello good night\n",
      "hello good morning\n"
     ]
    }
   ],
   "source": [
    "def greet1():\n",
    "    print('hello good morning')\n",
    "\n",
    "def greet2():\n",
    "    print('hello good night')\n",
    "    greet1()\n",
    "\n",
    "greet2()    "
   ]
  },
  {
   "cell_type": "code",
   "execution_count": 31,
   "id": "de0bced4-6b86-4b33-b2a9-fb0150d2267e",
   "metadata": {},
   "outputs": [
    {
     "name": "stdout",
     "output_type": "stream",
     "text": [
      "hello good morning\n",
      "hello good night\n"
     ]
    }
   ],
   "source": [
    "def greet11():\n",
    "    print('hello good morning')\n",
    "    greet22()                    # first time seeing error\n",
    "\n",
    "def greet22():\n",
    "    print('hello good night')\n",
    "\n",
    "greet11()    "
   ]
  },
  {
   "cell_type": "code",
   "execution_count": null,
   "id": "51b6fbfd-a2b6-48e3-87ae-af3235d6dabd",
   "metadata": {},
   "outputs": [],
   "source": [
    "def greet11():\n",
    "    print('hello good morning')\n",
    "    greet22()                    # first time seeing error\n",
    "\n",
    "def greet22():\n",
    "    print('hello good night')\n",
    "    greet11()\n",
    "\n",
    "greet11()    "
   ]
  },
  {
   "cell_type": "code",
   "execution_count": null,
   "id": "d98146a4-6ced-4aab-8380-8ce38d9e16c7",
   "metadata": {},
   "outputs": [],
   "source": [
    "def greet3():\n",
    "    print('i dont know what im doing')\n",
    "    greet3()\n",
    "\n",
    "greet3()"
   ]
  },
  {
   "cell_type": "code",
   "execution_count": null,
   "id": "fa9e698e-5bff-488e-8bf6-1880ed6b453b",
   "metadata": {},
   "outputs": [],
   "source": [
    "5\n",
    "5+4 ======= 5+(5-1)\n",
    "5+4+3 ===== 5+4+(4-1)\n",
    "5+4+3+2\n",
    "5+4+3+2+1\n",
    "5+4+3+2+1+0\n",
    "\n",
    "n+n-1"
   ]
  },
  {
   "cell_type": "code",
   "execution_count": null,
   "id": "f70d9f56-926b-4a96-846c-89a4a7d9bdbc",
   "metadata": {},
   "outputs": [],
   "source": [
    "def add(n):\n",
    "    if n==0:\n",
    "        return(0)\n",
    "    else:\n",
    "        return(n+add(n-1))\n",
    "\n",
    "add(5)\n",
    "\n",
    "step-1:  n=5  if  F  else  5+add(4)\n",
    "                           5+4+add(3)\n",
    "                           5+4+3+add(2)\n",
    "                           5+4+3+2+add(1)\n",
    "                           5+4+3+2+1+add(0)\n",
    "                           5+4+3+2+1+0"
   ]
  },
  {
   "cell_type": "code",
   "execution_count": null,
   "id": "01cfb5be-663b-4af0-b39c-c94d145f74ff",
   "metadata": {},
   "outputs": [],
   "source": [
    "def ad"
   ]
  },
  {
   "cell_type": "code",
   "execution_count": null,
   "id": "962ef0c2-f5df-4d7f-b906-7058b04617aa",
   "metadata": {},
   "outputs": [],
   "source": [
    "# Q1) Factorial recursion 5! = 5*4*3*2*1\n",
    "# Q2) calculator\n",
    "\n",
    "# step-1: create 4 functions \n",
    "# def add(a,b)\n",
    "#  return(a+b)\n",
    "# def sub\n",
    "# def mul\n",
    "# def div\n",
    "\n",
    "\n",
    "# print('enter 1 for add 2 sub so on')\n",
    "\n",
    " def main():\n",
    "     option=eval(input('enter between 1 to 4'))\n",
    "     if option==1:\n",
    "         a= \n",
    "         b=\n",
    "         add()\n",
    "         return\n",
    "     elif option==2:\n",
    "         a=\n",
    "         b=\n",
    "         mul()\n",
    "         return\n",
    "    "
   ]
  },
  {
   "cell_type": "code",
   "execution_count": 2,
   "id": "db3df41e-2f9f-4830-8786-56933051e37b",
   "metadata": {},
   "outputs": [
    {
     "data": {
      "text/plain": [
       "120"
      ]
     },
     "execution_count": 2,
     "metadata": {},
     "output_type": "execute_result"
    }
   ],
   "source": [
    "# Q1) Factorial recursion 5! = 5*4*3*2*1\n",
    "\n",
    "def Factorial(n):\n",
    "    if n==0:\n",
    "        return(1)\n",
    "    else:\n",
    "        return(n*Factorial(n-1))\n",
    "\n",
    "Factorial(5)"
   ]
  },
  {
   "cell_type": "code",
   "execution_count": 4,
   "id": "703145e5-35b5-4b8a-801b-713a82ae284f",
   "metadata": {},
   "outputs": [
    {
     "name": "stdout",
     "output_type": "stream",
     "text": [
      "Enter 1 for addition\n",
      "Enter 2 for subtraction\n",
      "Enter 3 for multiplication\n",
      "Enter 4 for division\n"
     ]
    },
    {
     "name": "stdin",
     "output_type": "stream",
     "text": [
      "Enter option between 1 to 4: 4\n",
      "Enter the value for first number: 20\n",
      "Enter the value for second number: 2\n"
     ]
    },
    {
     "data": {
      "text/plain": [
       "10.0"
      ]
     },
     "execution_count": 4,
     "metadata": {},
     "output_type": "execute_result"
    }
   ],
   "source": [
    "# Q2) calculator\n",
    "\n",
    "print('Enter 1 for addition\\nEnter 2 for subtraction\\nEnter 3 for multiplication\\nEnter 4 for division')\n",
    "option=eval(input('Enter option between 1 to 4:'))\n",
    "\n",
    "\n",
    "def add(a,b):\n",
    "    return(a+b)\n",
    "def sub(a,b):\n",
    "    return(a-b)\n",
    "def mul(a,b):\n",
    "    return(a*b)\n",
    "def div(a,b):\n",
    "    return(a/b)\n",
    "\n",
    "\n",
    "def main():\n",
    "    try:\n",
    "        if option==1:\n",
    "            a=eval(input('Enter the value for first number:'))\n",
    "            b=eval(input('Enter the value for second number:'))\n",
    "            return(add(a,b))\n",
    "        elif option==2:\n",
    "            a=eval(input('Enter the value for first number:'))\n",
    "            b=eval(input('Enter the value for second number:'))\n",
    "            return(sub(a,b))\n",
    "        elif option==3:\n",
    "            a=eval(input('Enter the value for first number:'))\n",
    "            b=eval(input('Enter the value for second number:'))\n",
    "            return(mul(a,b))\n",
    "        else:\n",
    "            a=eval(input('Enter the value for first number:'))\n",
    "            b=eval(input('Enter the value for second number:'))\n",
    "            return(div(a,b))\n",
    "    except Exception as e:\n",
    "        print(e)\n",
    "\n",
    "main()"
   ]
  },
  {
   "cell_type": "code",
   "execution_count": null,
   "id": "e26c25f3-6c0b-478b-88e4-fd8929494e37",
   "metadata": {},
   "outputs": [],
   "source": []
  }
 ],
 "metadata": {
  "kernelspec": {
   "display_name": "Python 3 (ipykernel)",
   "language": "python",
   "name": "python3"
  },
  "language_info": {
   "codemirror_mode": {
    "name": "ipython",
    "version": 3
   },
   "file_extension": ".py",
   "mimetype": "text/x-python",
   "name": "python",
   "nbconvert_exporter": "python",
   "pygments_lexer": "ipython3",
   "version": "3.12.7"
  }
 },
 "nbformat": 4,
 "nbformat_minor": 5
}
