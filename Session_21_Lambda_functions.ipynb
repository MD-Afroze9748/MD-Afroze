{
 "cells": [
  {
   "cell_type": "code",
   "execution_count": null,
   "id": "778d2b1c-07da-40e9-a95b-5dd8dc5cec24",
   "metadata": {},
   "outputs": [],
   "source": [
    "**List Comprehension 4 methods**\n",
    "\n",
    "# Method1: [output forloop]\n",
    "# Method2: [output forloop ifcondition]\n",
    "# Method3: [ifout ifcond else elseout forloop]\n",
    "# Method4: [ifout ifcond else elifout elifcond else elseout forloop]"
   ]
  },
  {
   "cell_type": "markdown",
   "id": "bc2214d2-ff35-4659-97e1-34ec189f2df3",
   "metadata": {},
   "source": [
    "**Lambda functions**\n",
    "\n",
    "- lambda functions represents functions in a single line\n",
    "\n",
    "- it is similar analogy to list comprehension\n",
    "\n",
    "- to reduce the time complexity will go for lambda functions"
   ]
  },
  {
   "cell_type": "markdown",
   "id": "c9231e1b-3aa4-4be8-8c90-16176dee9528",
   "metadata": {},
   "source": [
    "$pattern-1$: **function with one argument**"
   ]
  },
  {
   "cell_type": "code",
   "execution_count": 1,
   "id": "54f03ec1-6716-4d27-b732-954b3f101771",
   "metadata": {},
   "outputs": [
    {
     "data": {
      "text/plain": [
       "100"
      ]
     },
     "execution_count": 1,
     "metadata": {},
     "output_type": "execute_result"
    }
   ],
   "source": [
    "def mul(a):\n",
    "    return(a*a)\n",
    "ans=mul(10)\n",
    "ans"
   ]
  },
  {
   "cell_type": "code",
   "execution_count": null,
   "id": "e20d8ffd-02dc-4063-bc79-0b5dfe8e5bef",
   "metadata": {},
   "outputs": [],
   "source": [
    "# syntax\n",
    "# function_name=lambda <argument>:<return output>\n",
    "# in the above\n",
    "# function_name=mul\n",
    "# argument name=a\n",
    "# return output=a*a"
   ]
  },
  {
   "cell_type": "code",
   "execution_count": 2,
   "id": "92aee33c-1315-47c1-8886-c38da648f93e",
   "metadata": {},
   "outputs": [
    {
     "data": {
      "text/plain": [
       "400"
      ]
     },
     "execution_count": 2,
     "metadata": {},
     "output_type": "execute_result"
    }
   ],
   "source": [
    "mul=lambda a:a*a\n",
    "mul(20)"
   ]
  },
  {
   "cell_type": "code",
   "execution_count": 1,
   "id": "a9c2b2de-841f-4164-8a69-897d7468dda9",
   "metadata": {},
   "outputs": [
    {
     "data": {
      "text/plain": [
       "1000000"
      ]
     },
     "execution_count": 1,
     "metadata": {},
     "output_type": "execute_result"
    }
   ],
   "source": [
    "def cube(a):\n",
    "    return(a*a*a)\n",
    "cube(100)    "
   ]
  },
  {
   "cell_type": "code",
   "execution_count": 2,
   "id": "a792e161-68e7-4881-a0f6-fdd723aae235",
   "metadata": {},
   "outputs": [
    {
     "data": {
      "text/plain": [
       "8000"
      ]
     },
     "execution_count": 2,
     "metadata": {},
     "output_type": "execute_result"
    }
   ],
   "source": [
    "cube=lambda a:a*a*a\n",
    "cube(20)"
   ]
  },
  {
   "cell_type": "markdown",
   "id": "47f18c5c-c557-451f-b8ce-4434c68366e1",
   "metadata": {},
   "source": [
    "$pattern-2$: **function with two arguments**"
   ]
  },
  {
   "cell_type": "code",
   "execution_count": 3,
   "id": "075aa046-dae4-4491-94eb-bccd82889c6f",
   "metadata": {},
   "outputs": [
    {
     "data": {
      "text/plain": [
       "30"
      ]
     },
     "execution_count": 3,
     "metadata": {},
     "output_type": "execute_result"
    }
   ],
   "source": [
    "def add(a,b):\n",
    "    return(a+b)\n",
    "\n",
    "add(10,20)"
   ]
  },
  {
   "cell_type": "code",
   "execution_count": null,
   "id": "ee03c504-0fdd-42b1-98ba-8f28a7e3feca",
   "metadata": {},
   "outputs": [],
   "source": [
    "# syntax\n",
    "# function name=lambda arg1,arg2:return_statement"
   ]
  },
  {
   "cell_type": "code",
   "execution_count": 3,
   "id": "071fea2d-6075-45fd-8773-ae0168c428ca",
   "metadata": {},
   "outputs": [
    {
     "data": {
      "text/plain": [
       "110"
      ]
     },
     "execution_count": 3,
     "metadata": {},
     "output_type": "execute_result"
    }
   ],
   "source": [
    "add=lambda a,b:a+b\n",
    "add(10,100)"
   ]
  },
  {
   "cell_type": "markdown",
   "id": "766f44e5-ca4d-4004-9134-9f12089eb192",
   "metadata": {},
   "source": [
    "$pattern-3$: **function with Three arguments**"
   ]
  },
  {
   "cell_type": "code",
   "execution_count": 4,
   "id": "d9b7d840-4fd7-429b-bf2c-484860e26418",
   "metadata": {},
   "outputs": [
    {
     "data": {
      "text/plain": [
       "(18, 2)"
      ]
     },
     "execution_count": 4,
     "metadata": {},
     "output_type": "execute_result"
    }
   ],
   "source": [
    "def avg(a,b,c):\n",
    "    return(round((a+b+c)/3),2)\n",
    "\n",
    "avg(9,23,21)"
   ]
  },
  {
   "cell_type": "code",
   "execution_count": 4,
   "id": "75529d6d-8e47-4de8-bdf1-20520cefa647",
   "metadata": {},
   "outputs": [
    {
     "data": {
      "text/plain": [
       "150.67"
      ]
     },
     "execution_count": 4,
     "metadata": {},
     "output_type": "execute_result"
    }
   ],
   "source": [
    "avg=lambda a,b,c:round((a+b+c)/3,2)\n",
    "avg(199,232,21)"
   ]
  },
  {
   "cell_type": "markdown",
   "id": "58606eb7-c20e-4494-b997-fb12cee5c57a",
   "metadata": {},
   "source": [
    "$pattern-4$: **Default arguments**"
   ]
  },
  {
   "cell_type": "code",
   "execution_count": 5,
   "id": "3785fcc7-4fbf-45b5-b80c-60caf2127e49",
   "metadata": {},
   "outputs": [
    {
     "data": {
      "text/plain": [
       "150.67"
      ]
     },
     "execution_count": 5,
     "metadata": {},
     "output_type": "execute_result"
    }
   ],
   "source": [
    "avg=lambda a,b,c=21:round((a+b+c)/3,2)\n",
    "avg(199,232)"
   ]
  },
  {
   "cell_type": "code",
   "execution_count": null,
   "id": "a640b70c-07e9-4d2a-9e94-a25f63c29ffa",
   "metadata": {},
   "outputs": [],
   "source": [
    "mul=lambda a:a*a\n",
    "add=lambda a,b:a+b\n",
    "avg=lambda a,b,c:round((a+b+c)/3,2)\n",
    "avg=lambda a,b,c=21:round((a+b+c)/3,2)"
   ]
  },
  {
   "cell_type": "markdown",
   "id": "2817af2f-0b57-4fb5-b856-e6f991fc2d4a",
   "metadata": {},
   "source": [
    "**Pattern-5**\n",
    "\n",
    "- list cases"
   ]
  },
  {
   "cell_type": "code",
   "execution_count": 14,
   "id": "cb0eef77-7a79-4b08-9e1e-7d4ff078f1f9",
   "metadata": {},
   "outputs": [
    {
     "data": {
      "text/plain": [
       "['Hyd', 'Benguluru', 'Mumbai', 'Pune']"
      ]
     },
     "execution_count": 14,
     "metadata": {},
     "output_type": "execute_result"
    }
   ],
   "source": [
    "# input=['hyd','benguluru','mumbai','pune']\n",
    "# output=['Hyd','Benguluru','Mumbai','Pune']\n",
    "\n",
    "\n",
    "input=['hyd','benguluru','mumbai','pune']\n",
    "output=[]\n",
    "for i in input:\n",
    "    output.append(i.capitalize())\n",
    "output"
   ]
  },
  {
   "cell_type": "code",
   "execution_count": 13,
   "id": "687ef891-d074-45c6-99f8-4d1ab4f6f7f9",
   "metadata": {},
   "outputs": [
    {
     "data": {
      "text/plain": [
       "['Hyd', 'Benguluru', 'Mumbai', 'Pune']"
      ]
     },
     "execution_count": 13,
     "metadata": {},
     "output_type": "execute_result"
    }
   ],
   "source": [
    "# input=['hyd','benguluru','mumbai','pune']\n",
    "# output=['Hyd','Benguluru','Mumbai','Pune']\n",
    "\n",
    "\n",
    "input=['hyd','benguluru','mumbai','pune']\n",
    "output=[i.capitalize() for i in input]\n",
    "output"
   ]
  },
  {
   "cell_type": "code",
   "execution_count": 15,
   "id": "811738a7-1eb9-44b3-9e14-8733074d98bd",
   "metadata": {},
   "outputs": [
    {
     "data": {
      "text/plain": [
       "<function __main__.<lambda>(i)>"
      ]
     },
     "execution_count": 15,
     "metadata": {},
     "output_type": "execute_result"
    }
   ],
   "source": [
    "# step-1: lambda <variable>:<output>\n",
    "lambda i:i.capitalize()"
   ]
  },
  {
   "cell_type": "code",
   "execution_count": 16,
   "id": "0c6949cc-cfc8-4ac3-870c-b72f55442813",
   "metadata": {},
   "outputs": [
    {
     "data": {
      "text/plain": [
       "(<function __main__.<lambda>(i)>, ['hyd', 'benguluru', 'mumbai', 'pune'])"
      ]
     },
     "execution_count": 16,
     "metadata": {},
     "output_type": "execute_result"
    }
   ],
   "source": [
    "# Qn: from where we are getting the i\n",
    "# ans: we are retriving i from a list : iterator\n",
    "\n",
    "# step-2: lambda <variable>:<output>,<iterator>\n",
    "lambda i:i.capitalize(),input"
   ]
  },
  {
   "cell_type": "markdown",
   "id": "7e43b13e-23db-4d22-939d-4259af1945c6",
   "metadata": {},
   "source": [
    "**map**"
   ]
  },
  {
   "cell_type": "code",
   "execution_count": 17,
   "id": "1f4b9636-be38-44ed-84ad-1df7c90f70e1",
   "metadata": {},
   "outputs": [
    {
     "data": {
      "text/plain": [
       "<map at 0x205c05b50c0>"
      ]
     },
     "execution_count": 17,
     "metadata": {},
     "output_type": "execute_result"
    }
   ],
   "source": [
    "# step-1: lambda <variable>:<output>\n",
    "# step-2: lambda <variable>:<output>,<iterator>\n",
    "# step-3: map(lambda <variable>:<output>,<iterator>)\n",
    "map(lambda i:i.capitalize(),input)"
   ]
  },
  {
   "cell_type": "code",
   "execution_count": 18,
   "id": "fc7bc732-06d2-4787-abda-cf5e0c111f90",
   "metadata": {},
   "outputs": [
    {
     "data": {
      "text/plain": [
       "['Hyd', 'Benguluru', 'Mumbai', 'Pune']"
      ]
     },
     "execution_count": 18,
     "metadata": {},
     "output_type": "execute_result"
    }
   ],
   "source": [
    "# step-1: lambda <variable>:<output>\n",
    "# step-2: lambda <variable>:<output>,<iterator>\n",
    "# step-3: map(lambda <variable>:<output>,<iterator>)\n",
    "# step-4: list(map(lambda <variable>:<output>,<iterator>))\n",
    "list(map(lambda i:i.capitalize(),input))"
   ]
  },
  {
   "cell_type": "code",
   "execution_count": 19,
   "id": "4ff34066-52eb-4deb-851b-62d000831596",
   "metadata": {},
   "outputs": [
    {
     "data": {
      "text/plain": [
       "['Hyd', 'Benguluru', 'Mumbai', 'Pune']"
      ]
     },
     "execution_count": 19,
     "metadata": {},
     "output_type": "execute_result"
    }
   ],
   "source": [
    "lambda i:i.capitalize()\n",
    "lambda i:i.capitalize(),input\n",
    "map(lambda i:i.capitalize(),input)\n",
    "list(map(lambda i:i.capitalize(),input))"
   ]
  },
  {
   "cell_type": "code",
   "execution_count": null,
   "id": "5e3dfa6b-83a7-479e-8255-ae43c288ae07",
   "metadata": {},
   "outputs": [],
   "source": [
    "# input=['hyd','benguluru','mumbai','pune']\n",
    "# output=['HYD','BENGULURU','MUMBAI','PUNE']\n",
    "\n",
    "# input=['hyd','benguluru','mumbai','pune']\n",
    "# output=[0,1,2,3]\n",
    "\n",
    "# input='hello how are you'\n",
    "# output=['Hello','How','Are','You']\n",
    "\n",
    "# input=['hyd','beng#uluru','mumbai','pu#ne']\n",
    "# output=['beng#uluru','Pu#ne']\n",
    "\n",
    "# input=[''hyd','beng#uluru','mumbai','pu#ne']\n",
    "# output=['hyd','mumbai']"
   ]
  },
  {
   "cell_type": "code",
   "execution_count": 21,
   "id": "8a5b02a2-404b-4181-ade1-3e0e1d83a098",
   "metadata": {},
   "outputs": [
    {
     "data": {
      "text/plain": [
       "['HYD', 'BENGULURU', 'MUMBAI', 'PUNE']"
      ]
     },
     "execution_count": 21,
     "metadata": {},
     "output_type": "execute_result"
    }
   ],
   "source": [
    "# input=['hyd','benguluru','mumbai','pune']\n",
    "# output=['HYD','BENGULURU','MUMBAI','PUNE']\n",
    "\n",
    "input=['hyd','benguluru','mumbai','pune']\n",
    "list(map(lambda i:i.upper(),input))"
   ]
  },
  {
   "cell_type": "code",
   "execution_count": 22,
   "id": "ec093498-58d0-4254-bbba-4609d188c018",
   "metadata": {},
   "outputs": [
    {
     "data": {
      "text/plain": [
       "[0, 1, 2, 3]"
      ]
     },
     "execution_count": 22,
     "metadata": {},
     "output_type": "execute_result"
    }
   ],
   "source": [
    "# input=['hyd','benguluru','mumbai','pune']\n",
    "# output=[0,1,2,3]\n",
    "\n",
    "input=['hyd','benguluru','mumbai','pune']\n",
    "list(map(lambda i:input.index(i),input))"
   ]
  },
  {
   "cell_type": "code",
   "execution_count": 25,
   "id": "ce27dc3e-eeae-4601-b369-b8a6b7b10f5e",
   "metadata": {},
   "outputs": [
    {
     "data": {
      "text/plain": [
       "['Hello', 'How', 'Are', 'You']"
      ]
     },
     "execution_count": 25,
     "metadata": {},
     "output_type": "execute_result"
    }
   ],
   "source": [
    "# input='hello how are you'\n",
    "# output=['Hello','How','Are','You']\n",
    "\n",
    "input='hello how are you'\n",
    "list(map(lambda i:i.capitalize(),input.split()))"
   ]
  },
  {
   "cell_type": "code",
   "execution_count": 26,
   "id": "833a8f1e-6fbe-4d4f-9690-e42dafdac1de",
   "metadata": {},
   "outputs": [
    {
     "name": "stdout",
     "output_type": "stream",
     "text": [
      "beng#uluru\n",
      "pu#ne\n"
     ]
    }
   ],
   "source": [
    "# input=['hyd','beng#uluru','mumbai','pu#ne']\n",
    "# output=['beng#uluru','Pu#ne']\n",
    "\n",
    "input=['hyd','beng#uluru','mumbai','pu#ne']\n",
    "for i in input:\n",
    "    if '#' in i:\n",
    "        print(i)"
   ]
  },
  {
   "cell_type": "code",
   "execution_count": 27,
   "id": "c62d1d29-ed0a-421c-bd0b-10a6a19e181c",
   "metadata": {},
   "outputs": [
    {
     "data": {
      "text/plain": [
       "[False, True, False, True]"
      ]
     },
     "execution_count": 27,
     "metadata": {},
     "output_type": "execute_result"
    }
   ],
   "source": [
    "# lambda arg:condition,iterator\n",
    "input=['hyd','beng#uluru','mumbai','pu#ne']\n",
    "list(map(lambda i:'#' in i,input))"
   ]
  },
  {
   "cell_type": "markdown",
   "id": "651ce504-989a-440d-be98-3d954c868807",
   "metadata": {},
   "source": [
    "**filter**\n",
    "\n",
    "- filter is apply on lambda functions to retrive the True output\n",
    "\n",
    "- map will just map the function and iterator\n",
    "\n",
    "- when we apply condition map will give True False\n",
    "\n",
    "- filter will use instaed of map  "
   ]
  },
  {
   "cell_type": "code",
   "execution_count": 28,
   "id": "ca705729-dff0-4ef8-a225-80c89fba1dc4",
   "metadata": {},
   "outputs": [
    {
     "data": {
      "text/plain": [
       "['beng#uluru', 'pu#ne']"
      ]
     },
     "execution_count": 28,
     "metadata": {},
     "output_type": "execute_result"
    }
   ],
   "source": [
    "# input=['hyd','beng#uluru','mumbai','pu#ne']\n",
    "# output=['beng#uluru','Pu#ne']\n",
    "\n",
    "input=['hyd','beng#uluru','mumbai','pu#ne']\n",
    "list(filter(lambda i:'#' in i,input))"
   ]
  },
  {
   "cell_type": "code",
   "execution_count": 29,
   "id": "b089c2ea-7f74-4483-9919-d3f1d89d88e0",
   "metadata": {},
   "outputs": [
    {
     "data": {
      "text/plain": [
       "['hyd', 'mumbai']"
      ]
     },
     "execution_count": 29,
     "metadata": {},
     "output_type": "execute_result"
    }
   ],
   "source": [
    "# input=[''hyd','beng#uluru','mumbai','pu#ne']\n",
    "# output=['hyd','mumbai']\n",
    "\n",
    "input=['hyd','beng#uluru','mumbai','pu#ne']\n",
    "list(filter(lambda i:'#' not in i,input))"
   ]
  },
  {
   "cell_type": "markdown",
   "id": "925439a9-9bc1-4900-82fa-b13770b9fe81",
   "metadata": {},
   "source": [
    "**reduce**\n",
    "\n",
    "- reduce will helpful to perform math operations using lambda functions\n",
    "\n",
    "- it is a method under a package called:**functools** "
   ]
  },
  {
   "cell_type": "code",
   "execution_count": 32,
   "id": "a168ad58-9037-467b-9ac9-895f35d8f321",
   "metadata": {},
   "outputs": [
    {
     "data": {
      "text/plain": [
       "15"
      ]
     },
     "execution_count": 32,
     "metadata": {},
     "output_type": "execute_result"
    }
   ],
   "source": [
    "list1=[1,2,3,4,5]\n",
    "sum(list1)"
   ]
  },
  {
   "cell_type": "code",
   "execution_count": 33,
   "id": "d31cbbf9-8544-4c7f-93e1-859ab3cc6f03",
   "metadata": {},
   "outputs": [
    {
     "name": "stdout",
     "output_type": "stream",
     "text": [
      "15\n",
      "15\n"
     ]
    }
   ],
   "source": [
    "list1=[1,2,3,4,5]\n",
    "summ=0\n",
    "for i in list1:\n",
    "    summ=summ+i\n",
    "print(summ)\n",
    "\n",
    "########################################\n",
    "summ=0\n",
    "[summ:=summ+i for i in list1]\n",
    "print(summ)"
   ]
  },
  {
   "cell_type": "code",
   "execution_count": null,
   "id": "1aa661e9-f877-445f-bd2b-97736e80e38f",
   "metadata": {},
   "outputs": [],
   "source": [
    "# reduce(lambda arg:output,iterator)"
   ]
  },
  {
   "cell_type": "code",
   "execution_count": 34,
   "id": "1740e50b-a6bc-45a4-bc2c-2e6710064531",
   "metadata": {},
   "outputs": [
    {
     "data": {
      "text/plain": [
       "['GenericAlias',\n",
       " 'RLock',\n",
       " 'WRAPPER_ASSIGNMENTS',\n",
       " 'WRAPPER_UPDATES',\n",
       " '_CacheInfo',\n",
       " '_HashedSeq',\n",
       " '_NOT_FOUND',\n",
       " '__all__',\n",
       " '__builtins__',\n",
       " '__cached__',\n",
       " '__doc__',\n",
       " '__file__',\n",
       " '__loader__',\n",
       " '__name__',\n",
       " '__package__',\n",
       " '__spec__',\n",
       " '_c3_merge',\n",
       " '_c3_mro',\n",
       " '_compose_mro',\n",
       " '_convert',\n",
       " '_find_impl',\n",
       " '_ge_from_gt',\n",
       " '_ge_from_le',\n",
       " '_ge_from_lt',\n",
       " '_gt_from_ge',\n",
       " '_gt_from_le',\n",
       " '_gt_from_lt',\n",
       " '_initial_missing',\n",
       " '_le_from_ge',\n",
       " '_le_from_gt',\n",
       " '_le_from_lt',\n",
       " '_lru_cache_wrapper',\n",
       " '_lt_from_ge',\n",
       " '_lt_from_gt',\n",
       " '_lt_from_le',\n",
       " '_make_key',\n",
       " '_unwrap_partial',\n",
       " 'cache',\n",
       " 'cached_property',\n",
       " 'cmp_to_key',\n",
       " 'get_cache_token',\n",
       " 'lru_cache',\n",
       " 'namedtuple',\n",
       " 'partial',\n",
       " 'partialmethod',\n",
       " 'recursive_repr',\n",
       " 'reduce',\n",
       " 'singledispatch',\n",
       " 'singledispatchmethod',\n",
       " 'total_ordering',\n",
       " 'update_wrapper',\n",
       " 'wraps']"
      ]
     },
     "execution_count": 34,
     "metadata": {},
     "output_type": "execute_result"
    }
   ],
   "source": [
    "import functools\n",
    "dir(functools) "
   ]
  },
  {
   "cell_type": "code",
   "execution_count": null,
   "id": "2420dd9a-25ae-4ae9-917b-d448ad7b1b5e",
   "metadata": {},
   "outputs": [],
   "source": [
    "import functools\n",
    "functools.reduce()\n",
    "########################################\n",
    "from functools import reduce\n",
    "########################################\n",
    "import functools as ft\n",
    "ft.reduce()"
   ]
  },
  {
   "cell_type": "code",
   "execution_count": null,
   "id": "f919dd46-3d42-42df-81a9-e83286c3dd4e",
   "metadata": {},
   "outputs": [],
   "source": [
    "from functools import reduce\n",
    "# reduce(lambda arg:output,iterator)\n",
    "reduce(lambda summ,i:summ+i,list1)\n",
    "\n",
    "# list1=[1,2,3,4,5]\n",
    "# summ=0\n",
    "# for i in list1:\n",
    "#     summ=summ+i\n",
    "# print(summ)"
   ]
  },
  {
   "cell_type": "code",
   "execution_count": 35,
   "id": "aa6a9939-f929-4bf3-905f-c5826afa5390",
   "metadata": {},
   "outputs": [
    {
     "data": {
      "text/plain": [
       "15"
      ]
     },
     "execution_count": 35,
     "metadata": {},
     "output_type": "execute_result"
    }
   ],
   "source": [
    "from functools import reduce\n",
    "lambda summ,i:summ+i\n",
    "lambda summ,i:summ+i,list1\n",
    "reduce(lambda summ,i:summ+i,list1)\n",
    "\n",
    "# by default summ=0"
   ]
  },
  {
   "cell_type": "code",
   "execution_count": 36,
   "id": "a52d712c-5228-42db-bffa-58476d8f64f0",
   "metadata": {},
   "outputs": [
    {
     "name": "stdout",
     "output_type": "stream",
     "text": [
      "215\n"
     ]
    }
   ],
   "source": [
    "list1=[1,2,3,4,5]\n",
    "summ=200\n",
    "for i in list1:\n",
    "    summ=summ+i\n",
    "print(summ)"
   ]
  },
  {
   "cell_type": "code",
   "execution_count": 38,
   "id": "52b03459-add2-4069-919d-0ac41fa82674",
   "metadata": {},
   "outputs": [
    {
     "data": {
      "text/plain": [
       "215"
      ]
     },
     "execution_count": 38,
     "metadata": {},
     "output_type": "execute_result"
    }
   ],
   "source": [
    "from functools import reduce\n",
    "lambda summ,i:summ+i\n",
    "lambda summ,i:summ+i,list1  # by default 0\n",
    "lambda summ,i:summ+i,list1,200\n",
    "reduce(lambda summ,i:summ+i,list1,200)"
   ]
  },
  {
   "cell_type": "code",
   "execution_count": null,
   "id": "182539d1-2811-4039-b73d-d676a66054b4",
   "metadata": {},
   "outputs": [],
   "source": []
  }
 ],
 "metadata": {
  "kernelspec": {
   "display_name": "Python 3 (ipykernel)",
   "language": "python",
   "name": "python3"
  },
  "language_info": {
   "codemirror_mode": {
    "name": "ipython",
    "version": 3
   },
   "file_extension": ".py",
   "mimetype": "text/x-python",
   "name": "python",
   "nbconvert_exporter": "python",
   "pygments_lexer": "ipython3",
   "version": "3.12.7"
  }
 },
 "nbformat": 4,
 "nbformat_minor": 5
}
