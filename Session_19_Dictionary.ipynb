{
 "cells": [
  {
   "cell_type": "code",
   "execution_count": null,
   "id": "dd8abd9a-fea1-4295-b811-edcbe19194ea",
   "metadata": {},
   "outputs": [],
   "source": [
    "names=['Ramesh','Suresh','Sathish']\n",
    "age=[20,25,30]\n",
    "# 'Ramesh age is 20'\n",
    "# 'Suresh age is 25'\n",
    "# 'Sathish age is 30'"
   ]
  },
  {
   "cell_type": "code",
   "execution_count": 3,
   "id": "43ffa8e3-fdcc-4f54-9d41-032e4746630b",
   "metadata": {},
   "outputs": [
    {
     "name": "stdout",
     "output_type": "stream",
     "text": [
      "Ramesh age is 20\n",
      "Suresh age is 25\n",
      "Sathish age is 30\n"
     ]
    }
   ],
   "source": [
    "names=['Ramesh','Suresh','Sathish']\n",
    "age=[20,25,30]\n",
    "for i in range(len(names)):\n",
    "    print(f'{name[i]} age is {age[i]}')"
   ]
  },
  {
   "cell_type": "markdown",
   "id": "99048d64-726c-4c12-854c-b329803aa52f",
   "metadata": {},
   "source": [
    "**zip**"
   ]
  },
  {
   "cell_type": "code",
   "execution_count": 1,
   "id": "c6999290-7aae-457d-94d6-34827255262b",
   "metadata": {},
   "outputs": [
    {
     "name": "stdout",
     "output_type": "stream",
     "text": [
      "Ramesh 20\n",
      "Ramesh age is 20\n",
      "Suresh 25\n",
      "Suresh age is 25\n",
      "Sathish 30\n",
      "Sathish age is 30\n"
     ]
    }
   ],
   "source": [
    "names=['Ramesh','Suresh','Sathish']\n",
    "age=[20,25,30]\n",
    "for i,j in zip(names,age):\n",
    "    print(i,j)\n",
    "    print(f'{i} age is {j}')"
   ]
  },
  {
   "cell_type": "code",
   "execution_count": 2,
   "id": "e850e017-7679-408c-adaf-1dc78489394c",
   "metadata": {},
   "outputs": [
    {
     "name": "stdout",
     "output_type": "stream",
     "text": [
      "20\n",
      "25\n",
      "30\n"
     ]
    }
   ],
   "source": [
    "names=['Ramesh','Suresh','Sathish']\n",
    "age=[20,25,30]\n",
    "for i,j in zip(names,age):\n",
    "    print(j)"
   ]
  },
  {
   "cell_type": "markdown",
   "id": "7d94d4b9-82e6-4c59-a4eb-ff35c20c25c7",
   "metadata": {},
   "source": [
    "**Dictionart**\n",
    "\n",
    "- in above example names and age both are together\n",
    "\n",
    "- when both are together we can pair them\n",
    "\n",
    "- This can happen using Dictionary\n",
    "\n",
    "- Dictionary is calles as **key-value** pair\n",
    "\n",
    "- it represents with curly braces : **{key:value}**\n",
    "\n",
    "- Ramesh and 20 years both are pair : {'Ramesh':20}"
   ]
  },
  {
   "cell_type": "code",
   "execution_count": 1,
   "id": "db1471c8-151d-4ab2-8b7c-feb0623c0a50",
   "metadata": {},
   "outputs": [
    {
     "data": {
      "text/plain": [
       "{'Ramesh': 20, 'Suresh': 25, 'Sathish': 30}"
      ]
     },
     "execution_count": 1,
     "metadata": {},
     "output_type": "execute_result"
    }
   ],
   "source": [
    "d1={'Ramesh':20,'Suresh':25,'Sathish':30}\n",
    "d1"
   ]
  },
  {
   "cell_type": "code",
   "execution_count": 3,
   "id": "be7f8c17-57c1-47fb-941f-c752343af864",
   "metadata": {},
   "outputs": [
    {
     "data": {
      "text/plain": [
       "{20: 'Ramesh', 25: 'Suresh', 30: 'Sathish'}"
      ]
     },
     "execution_count": 3,
     "metadata": {},
     "output_type": "execute_result"
    }
   ],
   "source": [
    "d2={20:'Ramesh',25:'Suresh',30:'Sathish'}\n",
    "d2"
   ]
  },
  {
   "cell_type": "code",
   "execution_count": 7,
   "id": "ad21bf17-32c8-4faa-8bdb-06cbfd304c02",
   "metadata": {},
   "outputs": [],
   "source": [
    "# start your imagination make a dictionary with many ways\n",
    "d1={'Ramesh':20,'Suresh':25,'Sathish':30}\n",
    "d2={20:'Ramesh',25:'Suresh',30:'Sathish'}\n",
    "d3={'Ramesh':'20','Suresh':'25','Sathish':'30'}\n",
    "d4={'20':'Ramesh','25':'Suresh','30':'Sathish'}\n",
    "d5={'Ramesh':20,'Ramesh':30}\n",
    "# If both keys are same it will take the latest value\n",
    "# Dictionarys kind database\n",
    "d6={'Ramesh':20,'Ramesh':20}\n",
    "# Dictionarys does not allow duplicates\n",
    "d7={'Ramesh':20,'Suresh':20}\n",
    "# In dictionary keys pays vital role\n",
    "# keys can not be duplicate but values can be duplicate\n",
    "d8={20:'Ramesh',20:'Suresh'}\n",
    "d9={True:'true'}\n",
    "d10={'fruits':['Apple','Banana']}  # list is value\n",
    "# d11={['Apple','Banana']:'fruits'}  # list is key\n",
    "d12={'fruits':('Apple','Banana')}  # list is value\n",
    "d13={('Apple','Banana'):'fruits'}  # list is key\n",
    "d14={'Fruits':{'Apple':20}}"
   ]
  },
  {
   "cell_type": "code",
   "execution_count": null,
   "id": "66f2c496-03f8-4c1c-8e48-d634d3c23b4b",
   "metadata": {},
   "outputs": [],
   "source": [
    "d10={'fruits':['Apple','Banana']}  # W\n",
    "d11={'fruits':('Apple','Banana')}  # W\n",
    "d12={['Apple','Banana']:'fruits'}  # Fail\n",
    "d13={('Apple','Banana'):'fruits'}  # W"
   ]
  },
  {
   "cell_type": "markdown",
   "id": "849e5b8f-8094-41da-8a35-5b75582b4db0",
   "metadata": {},
   "source": [
    "**list as keys fails because list has a mutable behaviour**\n",
    "\n",
    "**tuple as keys works because tuple has a immutable behaviour**\n",
    "\n",
    "**In dictionary keys are very important**\n",
    "\n",
    "**keys does not change so when we apply list is failing**"
   ]
  },
  {
   "cell_type": "markdown",
   "id": "cd994eb1-9a59-44a8-a093-2e0c269c77bd",
   "metadata": {},
   "source": [
    "- if both keys are same it will take the latest value\n",
    "\n",
    "- Dictionarys does not allow duplicates\n",
    "\n",
    "- in dictionary keys pays vital rols\n",
    "\n",
    "- keys can not be duplicate but values can be duplicate"
   ]
  },
  {
   "cell_type": "code",
   "execution_count": 2,
   "id": "efed146d-f54a-4756-adaa-14d8ded5aca9",
   "metadata": {},
   "outputs": [
    {
     "ename": "TypeError",
     "evalue": "unhashable type: 'dict'",
     "output_type": "error",
     "traceback": [
      "\u001b[1;31m------------------------------------------------\u001b[0m",
      "\u001b[1;31mTypeError\u001b[0m      Traceback (most recent call last)",
      "Cell \u001b[1;32mIn[2], line 2\u001b[0m\n\u001b[0;32m      1\u001b[0m d14\u001b[38;5;241m=\u001b[39m{\u001b[38;5;124m'\u001b[39m\u001b[38;5;124mFruits\u001b[39m\u001b[38;5;124m'\u001b[39m:{\u001b[38;5;124m'\u001b[39m\u001b[38;5;124mApple\u001b[39m\u001b[38;5;124m'\u001b[39m:\u001b[38;5;241m20\u001b[39m}}  \u001b[38;5;66;03m# W\u001b[39;00m\n\u001b[1;32m----> 2\u001b[0m di5\u001b[38;5;241m=\u001b[39m{{\u001b[38;5;124m'\u001b[39m\u001b[38;5;124mApple\u001b[39m\u001b[38;5;124m'\u001b[39m:\u001b[38;5;241m20\u001b[39m}:\u001b[38;5;124m'\u001b[39m\u001b[38;5;124mFruits\u001b[39m\u001b[38;5;124m'\u001b[39m}  \u001b[38;5;66;03m# Fail\u001b[39;00m\n",
      "\u001b[1;31mTypeError\u001b[0m: unhashable type: 'dict'"
     ]
    }
   ],
   "source": [
    "d14={'Fruits':{'Apple':20}}  # W\n",
    "di5={{'Apple':20}:'Fruits'}  # Fail"
   ]
  },
  {
   "cell_type": "code",
   "execution_count": 3,
   "id": "83cbf029-c9fc-4e26-ba42-b70148a335bd",
   "metadata": {},
   "outputs": [],
   "source": [
    "dict1={'Apple':20,'Banana':30,'Cherry':50}\n",
    "dict2={'Apple':20,'apple':30}\n",
    "dict3={20:'Apple',30:'Banana',50:'Cherry'}\n",
    "# apply min max sum sorted reversed"
   ]
  },
  {
   "cell_type": "code",
   "execution_count": 11,
   "id": "f06eb534-2e82-41cc-b4e1-b4e28f531406",
   "metadata": {},
   "outputs": [
    {
     "data": {
      "text/plain": [
       "('Apple', 'Apple', 20)"
      ]
     },
     "execution_count": 11,
     "metadata": {},
     "output_type": "execute_result"
    }
   ],
   "source": [
    "dict1={'Apple':20,'Banana':30,'Cherry':50}\n",
    "dict2={'Apple':20,'apple':30}\n",
    "dict3={20:'Apple',30:'Banana',50:'Cherry'}\n",
    "min(dict1),min(dict2),min(dict3)"
   ]
  },
  {
   "cell_type": "code",
   "execution_count": 12,
   "id": "e3166e3d-6d4e-4178-94af-0cb0e6e7000b",
   "metadata": {},
   "outputs": [
    {
     "data": {
      "text/plain": [
       "('Cherry', 'apple', 50)"
      ]
     },
     "execution_count": 12,
     "metadata": {},
     "output_type": "execute_result"
    }
   ],
   "source": [
    "dict1={'Apple':20,'Banana':30,'Cherry':50}\n",
    "dict2={'Apple':20,'apple':30}\n",
    "dict3={20:'Apple',30:'Banana',50:'Cherry'}\n",
    "max(dict1),max(dict2),max(dict3)"
   ]
  },
  {
   "cell_type": "code",
   "execution_count": 13,
   "id": "de3430ca-0d9f-4015-91fe-998783db5459",
   "metadata": {},
   "outputs": [
    {
     "ename": "TypeError",
     "evalue": "unsupported operand type(s) for +: 'int' and 'str'",
     "output_type": "error",
     "traceback": [
      "\u001b[1;31m------------------------------------------------\u001b[0m",
      "\u001b[1;31mTypeError\u001b[0m      Traceback (most recent call last)",
      "Cell \u001b[1;32mIn[13], line 2\u001b[0m\n\u001b[0;32m      1\u001b[0m dict1\u001b[38;5;241m=\u001b[39m{\u001b[38;5;124m'\u001b[39m\u001b[38;5;124mApple\u001b[39m\u001b[38;5;124m'\u001b[39m:\u001b[38;5;241m20\u001b[39m,\u001b[38;5;124m'\u001b[39m\u001b[38;5;124mBanana\u001b[39m\u001b[38;5;124m'\u001b[39m:\u001b[38;5;241m30\u001b[39m,\u001b[38;5;124m'\u001b[39m\u001b[38;5;124mCherry\u001b[39m\u001b[38;5;124m'\u001b[39m:\u001b[38;5;241m50\u001b[39m}\n\u001b[1;32m----> 2\u001b[0m \u001b[38;5;28;43msum\u001b[39;49m\u001b[43m(\u001b[49m\u001b[43mdict1\u001b[49m\u001b[43m)\u001b[49m\n",
      "\u001b[1;31mTypeError\u001b[0m: unsupported operand type(s) for +: 'int' and 'str'"
     ]
    }
   ],
   "source": [
    "dict1={'Apple':20,'Banana':30,'Cherry':50}\n",
    "sum(dict1)"
   ]
  },
  {
   "cell_type": "code",
   "execution_count": 14,
   "id": "685dc837-b52f-4b0d-adb7-96b37bde5328",
   "metadata": {},
   "outputs": [
    {
     "ename": "TypeError",
     "evalue": "unsupported operand type(s) for +: 'int' and 'str'",
     "output_type": "error",
     "traceback": [
      "\u001b[1;31m------------------------------------------------\u001b[0m",
      "\u001b[1;31mTypeError\u001b[0m      Traceback (most recent call last)",
      "Cell \u001b[1;32mIn[14], line 2\u001b[0m\n\u001b[0;32m      1\u001b[0m dict2\u001b[38;5;241m=\u001b[39m{\u001b[38;5;124m'\u001b[39m\u001b[38;5;124mApple\u001b[39m\u001b[38;5;124m'\u001b[39m:\u001b[38;5;241m20\u001b[39m,\u001b[38;5;124m'\u001b[39m\u001b[38;5;124mapple\u001b[39m\u001b[38;5;124m'\u001b[39m:\u001b[38;5;241m30\u001b[39m}\n\u001b[1;32m----> 2\u001b[0m \u001b[38;5;28;43msum\u001b[39;49m\u001b[43m(\u001b[49m\u001b[43mdict2\u001b[49m\u001b[43m)\u001b[49m\n",
      "\u001b[1;31mTypeError\u001b[0m: unsupported operand type(s) for +: 'int' and 'str'"
     ]
    }
   ],
   "source": [
    "dict2={'Apple':20,'apple':30}\n",
    "sum(dict2)"
   ]
  },
  {
   "cell_type": "code",
   "execution_count": 15,
   "id": "9594cce2-6542-4ed3-b2d8-860152a9ef0d",
   "metadata": {},
   "outputs": [
    {
     "data": {
      "text/plain": [
       "100"
      ]
     },
     "execution_count": 15,
     "metadata": {},
     "output_type": "execute_result"
    }
   ],
   "source": [
    "dict3={20:'Apple',30:'Banana',50:'Cherry'}\n",
    "sum(dict3)"
   ]
  },
  {
   "cell_type": "code",
   "execution_count": 16,
   "id": "98cf5afd-1398-4d5c-ae61-61cf6ddc7fba",
   "metadata": {},
   "outputs": [
    {
     "data": {
      "text/plain": [
       "(['Apple', 'Banana', 'Cherry'], ['Apple', 'apple'], [20, 30, 50])"
      ]
     },
     "execution_count": 16,
     "metadata": {},
     "output_type": "execute_result"
    }
   ],
   "source": [
    "dict1={'Apple':20,'Banana':30,'Cherry':50}\n",
    "dict2={'Apple':20,'apple':30}\n",
    "dict3={20:'Apple',30:'Banana',50:'Cherry'}\n",
    "sorted(dict1),sorted(dict2),sorted(dict3)"
   ]
  },
  {
   "cell_type": "code",
   "execution_count": 9,
   "id": "53b4373a-adff-4a3d-ad4f-e7d61032b78d",
   "metadata": {},
   "outputs": [
    {
     "data": {
      "text/plain": [
       "(['Cherry', 'Banana', 'Apple'], ['apple', 'Apple'], [50, 30, 20])"
      ]
     },
     "execution_count": 9,
     "metadata": {},
     "output_type": "execute_result"
    }
   ],
   "source": [
    "dict1={'Apple':20,'Banana':30,'Cherry':50}\n",
    "dict2={'Apple':20,'apple':30,}\n",
    "dict3={20:'Apple',30:'Banana',50:'Cherry'}\n",
    "list(reversed(dict1)),list(reversed(dict2)),list(reversed(dict3))"
   ]
  },
  {
   "cell_type": "code",
   "execution_count": 17,
   "id": "ff78d434-5b53-4e02-9e60-ddbeb6222d0d",
   "metadata": {},
   "outputs": [
    {
     "data": {
      "text/plain": [
       "(3, 2, 3)"
      ]
     },
     "execution_count": 17,
     "metadata": {},
     "output_type": "execute_result"
    }
   ],
   "source": [
    "dict1={'Apple':20,'Banana':30,'Cherry':50}\n",
    "dict2={'Apple':20,'apple':30}\n",
    "dict3={20:'Apple',30:'Banana',50:'Cherry'}\n",
    "len(dict1),len(dict2),len(dict3)"
   ]
  },
  {
   "cell_type": "code",
   "execution_count": null,
   "id": "57a75b76-4485-4b51-8dc3-fa73bb548293",
   "metadata": {},
   "outputs": [],
   "source": [
    "dict1={'Apple':20,'Banana':30,'Cherry':10}\n",
    "'Apple' in dict1 # T\n",
    "20 in dict1  # F\n",
    "'Apple':20 in dict1 # E"
   ]
  },
  {
   "cell_type": "code",
   "execution_count": 23,
   "id": "99508736-0e20-437b-8235-7a185fa6b53b",
   "metadata": {},
   "outputs": [],
   "source": [
    "dict1={'Apple':20,'Banana':30,'Cherry':10}\n",
    "'Apple' in dict1\n",
    "'Banana' in dict1\n",
    "'Cherry' in dict1\n",
    "\n",
    "# i in dict1"
   ]
  },
  {
   "cell_type": "code",
   "execution_count": 5,
   "id": "a2a5673f-3070-4197-879a-995912185aad",
   "metadata": {},
   "outputs": [
    {
     "name": "stdout",
     "output_type": "stream",
     "text": [
      "Apple\n",
      "Banana\n",
      "Cherry\n"
     ]
    }
   ],
   "source": [
    "dict1={'Apple':20,'Banana':30,'Cherry':10}\n",
    "for i in dict1:\n",
    "    print(i)"
   ]
  },
  {
   "cell_type": "markdown",
   "id": "36bf5c45-17ed-4439-b044-3917716597da",
   "metadata": {},
   "source": [
    "**index**"
   ]
  },
  {
   "cell_type": "code",
   "execution_count": 19,
   "id": "352c8203-347f-4ae0-9cd2-17bd00df4a6d",
   "metadata": {},
   "outputs": [
    {
     "data": {
      "text/plain": [
       "10"
      ]
     },
     "execution_count": 19,
     "metadata": {},
     "output_type": "execute_result"
    }
   ],
   "source": [
    "l1=[10,20,30]\n",
    "l1[0]"
   ]
  },
  {
   "cell_type": "code",
   "execution_count": 20,
   "id": "cba442a8-d6dc-4128-b51b-dbb39460ca29",
   "metadata": {},
   "outputs": [
    {
     "data": {
      "text/plain": [
       "'p'"
      ]
     },
     "execution_count": 20,
     "metadata": {},
     "output_type": "execute_result"
    }
   ],
   "source": [
    "str1='python'\n",
    "str1[0]"
   ]
  },
  {
   "cell_type": "code",
   "execution_count": 21,
   "id": "fe953eed-ac40-4590-8c6e-64f6bab6a6a0",
   "metadata": {},
   "outputs": [
    {
     "ename": "KeyError",
     "evalue": "0",
     "output_type": "error",
     "traceback": [
      "\u001b[1;31m------------------------------------------------\u001b[0m",
      "\u001b[1;31mKeyError\u001b[0m       Traceback (most recent call last)",
      "Cell \u001b[1;32mIn[21], line 2\u001b[0m\n\u001b[0;32m      1\u001b[0m dict1\u001b[38;5;241m=\u001b[39m{\u001b[38;5;124m'\u001b[39m\u001b[38;5;124mApple\u001b[39m\u001b[38;5;124m'\u001b[39m:\u001b[38;5;241m20\u001b[39m,\u001b[38;5;124m'\u001b[39m\u001b[38;5;124mBanana\u001b[39m\u001b[38;5;124m'\u001b[39m:\u001b[38;5;241m30\u001b[39m,\u001b[38;5;124m'\u001b[39m\u001b[38;5;124mCherry\u001b[39m\u001b[38;5;124m'\u001b[39m:\u001b[38;5;241m10\u001b[39m}\n\u001b[1;32m----> 2\u001b[0m \u001b[43mdict1\u001b[49m\u001b[43m[\u001b[49m\u001b[38;5;241;43m0\u001b[39;49m\u001b[43m]\u001b[49m\n\u001b[0;32m      4\u001b[0m \u001b[38;5;66;03m# 'Apple':20 in dict1\u001b[39;00m\n",
      "\u001b[1;31mKeyError\u001b[0m: 0"
     ]
    }
   ],
   "source": [
    "dict1={'Apple':20,'Banana':30,'Cherry':10}\n",
    "dict1[0]\n",
    "\n",
    "# 'Apple':20 in dict1"
   ]
  },
  {
   "cell_type": "markdown",
   "id": "7894f896-0059-4c82-b809-b6ee69f7330c",
   "metadata": {},
   "source": [
    "**how to extract the values**\n",
    "\n",
    "- in dictionary we have a concept key:value pair\n",
    "\n",
    "- keys are very important\n",
    "\n",
    "- in order to get the values we need to take keys help"
   ]
  },
  {
   "cell_type": "code",
   "execution_count": 24,
   "id": "3256479e-d758-47ad-8145-b9cb92f0db1a",
   "metadata": {},
   "outputs": [],
   "source": [
    "dict1={'Apple':20,'Banana':30,'Cherry':10}\n",
    "dict1['Apple']\n",
    "dict1['Banana']\n",
    "dict1['Cherry']\n",
    "\n",
    "# dict1[i]"
   ]
  },
  {
   "cell_type": "code",
   "execution_count": 22,
   "id": "e03340c7-256b-4cf5-a4c2-e3ae088cc4ba",
   "metadata": {},
   "outputs": [
    {
     "name": "stdout",
     "output_type": "stream",
     "text": [
      "Apple 20\n",
      "Banana 30\n",
      "Cherry 10\n"
     ]
    }
   ],
   "source": [
    "dict1={'Apple':20,'Banana':30,'Cherry':10}\n",
    "for i in dict1:\n",
    "    print(i,dict1[i])"
   ]
  },
  {
   "cell_type": "code",
   "execution_count": 13,
   "id": "420c9470-2f86-4e23-9b44-f5b8ed140a4b",
   "metadata": {},
   "outputs": [
    {
     "name": "stdout",
     "output_type": "stream",
     "text": [
      "Ramesh age is 20\n",
      "Suresh age is 25\n",
      "Sathish age is 30\n"
     ]
    }
   ],
   "source": [
    "# names=['Ramesh','Suresh','Sathish']\n",
    "# age=[20,25,30]\n",
    "# 'Ramesh age is 20'\n",
    "# 'Suresh age is 25'\n",
    "# 'Sathish age is 30'\n",
    "\n",
    "\n",
    "names={'Ramesh':20,'Suresh':25,'Sathish':30}\n",
    "for key in names:\n",
    "    value=names[key]\n",
    "    print(f'{key} age is {value}')"
   ]
  },
  {
   "cell_type": "code",
   "execution_count": null,
   "id": "b863a21e-163c-4171-80ed-2b92613d84be",
   "metadata": {},
   "outputs": [],
   "source": [
    "# range means only numbers will come\n",
    "# number is not useful its pair"
   ]
  },
  {
   "cell_type": "code",
   "execution_count": 26,
   "id": "923efc21-403d-4718-88db-d16988ba1b15",
   "metadata": {},
   "outputs": [
    {
     "data": {
      "text/plain": [
       "'Cherry'"
      ]
     },
     "execution_count": 26,
     "metadata": {},
     "output_type": "execute_result"
    }
   ],
   "source": [
    "d={'Fruits':['Apple','Banana','Cherry']}\n",
    "# get cherry\n",
    "d['Fruits'][2]"
   ]
  },
  {
   "cell_type": "code",
   "execution_count": 29,
   "id": "7805bc1b-fe41-4920-804b-bcb9742bb882",
   "metadata": {},
   "outputs": [
    {
     "data": {
      "text/plain": [
       "'green'"
      ]
     },
     "execution_count": 29,
     "metadata": {},
     "output_type": "execute_result"
    }
   ],
   "source": [
    "d={'Fruits':{'Apple':['sweet','sour','green']}}\n",
    "d\n",
    "# identify how many key-value pairs\n",
    "d['Fruits']  # dictionary\n",
    "d['Fruits']['Apple']  # list\n",
    "d['Fruits']['Apple'][2]"
   ]
  },
  {
   "cell_type": "code",
   "execution_count": 30,
   "id": "75fb8efd-c799-432a-bf0b-b99d5bb532e2",
   "metadata": {},
   "outputs": [
    {
     "data": {
      "text/plain": [
       "50"
      ]
     },
     "execution_count": 30,
     "metadata": {},
     "output_type": "execute_result"
    }
   ],
   "source": [
    "d={'Fruits':[{'Cost':[50]}]}\n",
    "d['Fruits']  # list\n",
    "d['Fruits'][0]  # dict\n",
    "d['Fruits'][0]['Cost'] # list\n",
    "d['Fruits'][0]['Cost'][0]"
   ]
  },
  {
   "cell_type": "code",
   "execution_count": 16,
   "id": "94767ea6-6b18-4a21-ba2d-739adb19684b",
   "metadata": {},
   "outputs": [
    {
     "data": {
      "text/plain": [
       "40"
      ]
     },
     "execution_count": 16,
     "metadata": {},
     "output_type": "execute_result"
    }
   ],
   "source": [
    "d={'Fruits':['Apple'],'Cost':[{'1kg':[20,30,40],'2kg':None}]}\n",
    "d['Cost'][0]['2kg']\n",
    "d['Cost'][0]['1kg'][2]"
   ]
  },
  {
   "cell_type": "code",
   "execution_count": 8,
   "id": "27be49c1-eb6d-4382-8945-5a64e34b1e2e",
   "metadata": {},
   "outputs": [
    {
     "data": {
      "text/plain": [
       "{'Shambaji'}"
      ]
     },
     "execution_count": 8,
     "metadata": {},
     "output_type": "execute_result"
    }
   ],
   "source": [
    "d={'Fruits':{'Orange':{'Nagpur':{'MH':{'King':{'Shivaji':{'Shambaji'}}}}}}}\n",
    "d['Fruits']['Orange']['Nagpur']['MH']['King']['Shivaji']"
   ]
  },
  {
   "cell_type": "markdown",
   "id": "d1b597d0-6db5-4f83-9485-ef479be0feef",
   "metadata": {},
   "source": [
    "**how to create an empty dictionary**\n",
    "\n",
    "- Now onwards focus on creation of empty list , strings and dictionary\n",
    "\n",
    "- we will take empty list will use append operation\n",
    "\n",
    "- we will take empty string will use concatenation\n",
    "\n",
    "- we will take empty dictionary will use key:value pair concept    "
   ]
  },
  {
   "cell_type": "code",
   "execution_count": 17,
   "id": "85940008-a4b5-4606-b5b8-468722132217",
   "metadata": {},
   "outputs": [
    {
     "data": {
      "text/plain": [
       "[10, 20]"
      ]
     },
     "execution_count": 17,
     "metadata": {},
     "output_type": "execute_result"
    }
   ],
   "source": [
    "# list\n",
    "l=[]\n",
    "l.append(10)\n",
    "l.append(20)\n",
    "l"
   ]
  },
  {
   "cell_type": "code",
   "execution_count": 18,
   "id": "5abca18b-087c-4bab-a27e-a6948c4f3161",
   "metadata": {},
   "outputs": [
    {
     "data": {
      "text/plain": [
       "'py'"
      ]
     },
     "execution_count": 18,
     "metadata": {},
     "output_type": "execute_result"
    }
   ],
   "source": [
    "# strings\n",
    "s=''\n",
    "s=s+'p'  # ''+'p'\n",
    "s=s+'y'  # 'p'+'y'='py'\n",
    "s"
   ]
  },
  {
   "cell_type": "code",
   "execution_count": 19,
   "id": "128d9dad-2241-47c4-b668-8761a8d482cd",
   "metadata": {},
   "outputs": [
    {
     "data": {
      "text/plain": [
       "{'Ramesh': 20, 'Suresh': 25, 'Sathish': 30}"
      ]
     },
     "execution_count": 19,
     "metadata": {},
     "output_type": "execute_result"
    }
   ],
   "source": [
    "# dictionary\n",
    "d={}\n",
    "d['Ramesh']=20\n",
    "d['Suresh']=25\n",
    "d['Sathish']=30\n",
    "d"
   ]
  },
  {
   "cell_type": "code",
   "execution_count": null,
   "id": "6f5fe827-7bd2-45f9-b44e-7680eded037d",
   "metadata": {},
   "outputs": [],
   "source": [
    "# dictionary\n",
    "d={}\n",
    "d['Ramesh']=20\n",
    "d['Suresh']=25\n",
    "d['Sathish']=30\n",
    "# d[key]=value\n",
    "# d[i]=j"
   ]
  },
  {
   "cell_type": "markdown",
   "id": "32528672-9fe5-4701-a9a5-48a9a2a58c52",
   "metadata": {},
   "source": [
    "**how to convert list to dictionary**"
   ]
  },
  {
   "cell_type": "code",
   "execution_count": 20,
   "id": "24808495-f549-488c-8ef0-3ec953cb4f2a",
   "metadata": {},
   "outputs": [
    {
     "data": {
      "text/plain": [
       "{'Ramesh': 20, 'Suresh': 25, 'Sathish': 30}"
      ]
     },
     "execution_count": 20,
     "metadata": {},
     "output_type": "execute_result"
    }
   ],
   "source": [
    "names=['Ramesh','Suresh','Sathish']  # i\n",
    "age=[20,25,30]  # j\n",
    "dict1={}\n",
    "for i,j in zip(names,age):\n",
    "    dict1[i]=j\n",
    "dict1    "
   ]
  },
  {
   "cell_type": "markdown",
   "id": "9cbb1e77-f3d2-4921-99c3-1b897c888276",
   "metadata": {},
   "source": [
    "**dictionary comprehension**"
   ]
  },
  {
   "cell_type": "markdown",
   "id": "81ec2f48-32db-4858-8753-777919139b72",
   "metadata": {},
   "source": [
    "- for list comprehension we written everything inside list\n",
    "\n",
    "- for dictt comprehension we should write everything inside dictionary"
   ]
  },
  {
   "cell_type": "code",
   "execution_count": null,
   "id": "5c1f2270-e6d0-4e3c-81fc-f6b57a703776",
   "metadata": {},
   "outputs": [],
   "source": [
    "# list comprehension: [<output> <forloop>]\n",
    "# t comprehension: [<output> <forloop>]"
   ]
  },
  {
   "cell_type": "code",
   "execution_count": 31,
   "id": "7afba20d-d004-4108-890a-006516021fe7",
   "metadata": {},
   "outputs": [
    {
     "data": {
      "text/plain": [
       "{'Ramesh': 20, 'Suresh': 25, 'Sathish': 30}"
      ]
     },
     "execution_count": 31,
     "metadata": {},
     "output_type": "execute_result"
    }
   ],
   "source": [
    "names=['Ramesh','Suresh','Sathish']\n",
    "age=[20,25,30]\n",
    "{i:j for i,j in zip(names,age)}"
   ]
  },
  {
   "cell_type": "markdown",
   "id": "4ef231cd-6757-4e5f-b550-b4717c7f60d8",
   "metadata": {},
   "source": [
    "**mutable-immutable**\n",
    "\n",
    "- lists are mutable\n",
    "\n",
    "- dictionarys are also mutable\n",
    "\n",
    "- Strings are immutable\n",
    "\n",
    "- tuple are immutable\n",
    "\n",
    "- in dictionarys we can change the values using keys "
   ]
  },
  {
   "cell_type": "code",
   "execution_count": 32,
   "id": "9069e8fc-bcff-4946-8e3c-7265af98b13a",
   "metadata": {},
   "outputs": [
    {
     "data": {
      "text/plain": [
       "{'Ramesh': 30, 'Suresh': 25, 'Sathish': 30}"
      ]
     },
     "execution_count": 32,
     "metadata": {},
     "output_type": "execute_result"
    }
   ],
   "source": [
    "d={'Ramesh':20,'Suresh':25,'Sathish':30}\n",
    "d['Ramesh']=30\n",
    "d"
   ]
  },
  {
   "cell_type": "markdown",
   "id": "c0a884aa-5da9-4150-9cd0-ab3b3496e03b",
   "metadata": {},
   "source": [
    "**methods**"
   ]
  },
  {
   "cell_type": "code",
   "execution_count": 33,
   "id": "9dc2f80a-e98a-462d-b902-9e5b595271be",
   "metadata": {},
   "outputs": [
    {
     "data": {
      "text/plain": [
       "['__class__',\n",
       " '__class_getitem__',\n",
       " '__contains__',\n",
       " '__delattr__',\n",
       " '__delitem__',\n",
       " '__dir__',\n",
       " '__doc__',\n",
       " '__eq__',\n",
       " '__format__',\n",
       " '__ge__',\n",
       " '__getattribute__',\n",
       " '__getitem__',\n",
       " '__getstate__',\n",
       " '__gt__',\n",
       " '__hash__',\n",
       " '__init__',\n",
       " '__init_subclass__',\n",
       " '__ior__',\n",
       " '__iter__',\n",
       " '__le__',\n",
       " '__len__',\n",
       " '__lt__',\n",
       " '__ne__',\n",
       " '__new__',\n",
       " '__or__',\n",
       " '__reduce__',\n",
       " '__reduce_ex__',\n",
       " '__repr__',\n",
       " '__reversed__',\n",
       " '__ror__',\n",
       " '__setattr__',\n",
       " '__setitem__',\n",
       " '__sizeof__',\n",
       " '__str__',\n",
       " '__subclasshook__',\n",
       " 'clear',\n",
       " 'copy',\n",
       " 'fromkeys',\n",
       " 'get',\n",
       " 'items',\n",
       " 'keys',\n",
       " 'pop',\n",
       " 'popitem',\n",
       " 'setdefault',\n",
       " 'update',\n",
       " 'values']"
      ]
     },
     "execution_count": 33,
     "metadata": {},
     "output_type": "execute_result"
    }
   ],
   "source": [
    "dir({})"
   ]
  },
  {
   "cell_type": "markdown",
   "id": "107c9d03-1fe4-4ae1-b4a0-404284d67f00",
   "metadata": {},
   "source": [
    "- clear\n",
    "\n",
    "- copy\n",
    "\n",
    "- keys\n",
    "\n",
    "- values\n",
    "\n",
    "- items"
   ]
  },
  {
   "cell_type": "code",
   "execution_count": 34,
   "id": "7c363026-131b-475e-bd50-8556175735bd",
   "metadata": {},
   "outputs": [
    {
     "name": "stdout",
     "output_type": "stream",
     "text": [
      "d1 before clear i should see the output: {'Ramesh': 20, 'Suresh': 25, 'Sathish': 30}\n",
      "d1 after apply clear method empty dictionary: {}\n"
     ]
    }
   ],
   "source": [
    "d1={'Ramesh':20,'Suresh':25,'Sathish':30}\n",
    "print('d1 before clear i should see the output:',d1)\n",
    "d1.clear()\n",
    "print('d1 after apply clear method empty dictionary:',d1)"
   ]
  },
  {
   "cell_type": "code",
   "execution_count": 35,
   "id": "47381531-550b-4d1a-b3a9-2202fa315043",
   "metadata": {},
   "outputs": [
    {
     "name": "stdout",
     "output_type": "stream",
     "text": [
      "{'Ramesh': 20, 'Suresh': 25, 'Sathish': 30}\n",
      "{'Ramesh': 20, 'Suresh': 25, 'Sathish': 30}\n"
     ]
    }
   ],
   "source": [
    "d1={'Ramesh':20,'Suresh':25,'Sathish':30}\n",
    "d2=d1.copy() \n",
    "print(d1)\n",
    "print(d2)"
   ]
  },
  {
   "cell_type": "code",
   "execution_count": 4,
   "id": "010df6c6-316c-4e23-a3de-8182547ed2b5",
   "metadata": {},
   "outputs": [
    {
     "data": {
      "text/plain": [
       "dict_values([20, 25, 30])"
      ]
     },
     "execution_count": 4,
     "metadata": {},
     "output_type": "execute_result"
    }
   ],
   "source": [
    "d1={'Ramesh':20,'Suresh':25,'Sathish':30}\n",
    "d1.values()"
   ]
  },
  {
   "cell_type": "code",
   "execution_count": 5,
   "id": "1703c7a0-d1e5-4c32-bd36-dbd59b78cc0b",
   "metadata": {},
   "outputs": [
    {
     "data": {
      "text/plain": [
       "dict_items([('Ramesh', 20), ('Suresh', 25), ('Sathish', 30)])"
      ]
     },
     "execution_count": 5,
     "metadata": {},
     "output_type": "execute_result"
    }
   ],
   "source": [
    "d1={'Ramesh':20,'Suresh':25,'Sathish':30}\n",
    "d1.items()"
   ]
  },
  {
   "cell_type": "markdown",
   "id": "2b92bd64-82a5-472d-91e4-b5c17a8700db",
   "metadata": {},
   "source": [
    "**keys**"
   ]
  },
  {
   "cell_type": "code",
   "execution_count": 2,
   "id": "1ea78da1-cdde-4d58-807f-8441d8410d1d",
   "metadata": {},
   "outputs": [
    {
     "data": {
      "text/plain": [
       "dict_keys(['Ramesh', 'Suresh', 'Sathish'])"
      ]
     },
     "execution_count": 2,
     "metadata": {},
     "output_type": "execute_result"
    }
   ],
   "source": [
    "d1={'Ramesh':20,'Suresh':25,'Sathish':30}\n",
    "keys=d1.keys()\n",
    "keys"
   ]
  },
  {
   "cell_type": "code",
   "execution_count": 4,
   "id": "6ec04a32-cbf3-4017-8695-3b1d795e98af",
   "metadata": {},
   "outputs": [
    {
     "data": {
      "text/plain": [
       "dict_keys"
      ]
     },
     "execution_count": 4,
     "metadata": {},
     "output_type": "execute_result"
    }
   ],
   "source": [
    "type(keys)"
   ]
  },
  {
   "cell_type": "code",
   "execution_count": 3,
   "id": "137c581d-fcbb-4506-9f05-129fb5ed0ebc",
   "metadata": {},
   "outputs": [
    {
     "ename": "AttributeError",
     "evalue": "'dict_keys' object has no attribute 'count'",
     "output_type": "error",
     "traceback": [
      "\u001b[1;31m---------------------------------------------------------------------\u001b[0m",
      "\u001b[1;31mAttributeError\u001b[0m                      Traceback (most recent call last)",
      "Cell \u001b[1;32mIn[3], line 2\u001b[0m\n\u001b[0;32m      1\u001b[0m \u001b[38;5;66;03m# i got mistaken im assuming this is list type\u001b[39;00m\n\u001b[1;32m----> 2\u001b[0m \u001b[43mkeys\u001b[49m\u001b[38;5;241;43m.\u001b[39;49m\u001b[43mcount\u001b[49m(\u001b[38;5;124m'\u001b[39m\u001b[38;5;124mRamesh\u001b[39m\u001b[38;5;124m'\u001b[39m)\n",
      "\u001b[1;31mAttributeError\u001b[0m: 'dict_keys' object has no attribute 'count'"
     ]
    }
   ],
   "source": [
    "# i got mistaken im assuming this is list type\n",
    "keys.count('Ramesh')"
   ]
  },
  {
   "cell_type": "markdown",
   "id": "8591c98b-f362-4584-bb1d-6766c330d591",
   "metadata": {},
   "source": [
    "**Convert dictionary to list**\n",
    "\n",
    "- in order to convert dictionary to list\n",
    "\n",
    "- first we need to separate keys and values\n",
    "\n",
    "- then apply list type casting"
   ]
  },
  {
   "cell_type": "code",
   "execution_count": 9,
   "id": "1bed9baa-ef8a-40ad-ac63-b302c62cd854",
   "metadata": {},
   "outputs": [
    {
     "data": {
      "text/plain": [
       "['Ramesh', 'Suresh', 'Sathish']"
      ]
     },
     "execution_count": 9,
     "metadata": {},
     "output_type": "execute_result"
    }
   ],
   "source": [
    "d1={'Ramesh':20,'Suresh':25,'Sathish':30}\n",
    "keys=d1.keys()\n",
    "keys_list=list(keys)\n",
    "keys_list"
   ]
  },
  {
   "cell_type": "code",
   "execution_count": 10,
   "id": "cb4cadbd-85ac-4552-add0-b13624c3c910",
   "metadata": {},
   "outputs": [
    {
     "data": {
      "text/plain": [
       "[20, 25, 30]"
      ]
     },
     "execution_count": 10,
     "metadata": {},
     "output_type": "execute_result"
    }
   ],
   "source": [
    "d={'Ramesh':20,'Suresh':25,'Sathish':30}\n",
    "values=d.values()\n",
    "values_list=list(values)\n",
    "values_list"
   ]
  },
  {
   "cell_type": "code",
   "execution_count": 11,
   "id": "76bff111-8315-4f66-9dd6-6de11d1f79f0",
   "metadata": {},
   "outputs": [
    {
     "data": {
      "text/plain": [
       "[('Ramesh', 20), ('Suresh', 25), ('Sathish', 30)]"
      ]
     },
     "execution_count": 11,
     "metadata": {},
     "output_type": "execute_result"
    }
   ],
   "source": [
    "d={'Ramesh':20,'Suresh':25,'Sathish':30}\n",
    "items=d.items()\n",
    "items_list=list(items)\n",
    "items_list"
   ]
  },
  {
   "cell_type": "code",
   "execution_count": 12,
   "id": "fa05ec11-6750-4b01-af25-75f5e4044da2",
   "metadata": {},
   "outputs": [
    {
     "data": {
      "text/plain": [
       "(list, dict_keys)"
      ]
     },
     "execution_count": 12,
     "metadata": {},
     "output_type": "execute_result"
    }
   ],
   "source": [
    "type(keys_list),type(keys)"
   ]
  },
  {
   "cell_type": "code",
   "execution_count": 13,
   "id": "443b341e-76a6-4479-9724-b1dd2011d1fe",
   "metadata": {},
   "outputs": [
    {
     "data": {
      "text/plain": [
       "1"
      ]
     },
     "execution_count": 13,
     "metadata": {},
     "output_type": "execute_result"
    }
   ],
   "source": [
    "keys_list.count('Ramesh')"
   ]
  },
  {
   "cell_type": "code",
   "execution_count": null,
   "id": "79fc8d8d-b82b-4d22-ae4b-366606d58ba3",
   "metadata": {},
   "outputs": [],
   "source": [
    "list ==== string  using join\n",
    "string ==== list  using split\n",
    "list ==== dict    zip\n",
    "dict ==== list    typecasting"
   ]
  },
  {
   "cell_type": "code",
   "execution_count": 15,
   "id": "2ff22a2a-430d-49b3-b492-328b07d55df9",
   "metadata": {},
   "outputs": [
    {
     "data": {
      "text/plain": [
       "{'Fname': ['virat', 'rohit', 'ms'],\n",
       " 'Sname': ['kohli', 'sharma', 'dhoni'],\n",
       " 'Cname': ['rcb', 'mi', 'csk']}"
      ]
     },
     "execution_count": 15,
     "metadata": {},
     "output_type": "execute_result"
    }
   ],
   "source": [
    "# input='virat.kohli@rcb.com;rohit.sharma@mi.com;ms.dhoni@csk.com'\n",
    "# output={'Firstname':['virat','rohit','ms'],\n",
    "#         'Secondname':['kohli','sharma','dhoni'],\n",
    "#         'cname':['rcb','mi','csk']}\n",
    "\n",
    "# idea : first convert string to list\n",
    "#        from there extract 3 lists\n",
    "#        1) fname  2) sname  3) cname\n",
    "#        from 3 lists create dictionary\n",
    "\n",
    "\n",
    "input='virat.kohli@rcb.com;rohit.sharma@mi.com;ms.dhoni@csk.com'\n",
    "l1=input.split(';')\n",
    "##################################################\n",
    "fname,sname,cname=[],[],[]\n",
    "d={}\n",
    "for i in l1:\n",
    "    first_dot=i.index('.')\n",
    "    second_dot=i.index('.',first_dot+1)\n",
    "    at_the_rate=i.index('@')\n",
    "    fname.append(i[:first_dot])\n",
    "    sname.append(i[first_dot+1:at_the_rate])\n",
    "    cname.append(i[at_the_rate+1:second_dot])\n",
    "##################################################\n",
    "d['Fname']=fname\n",
    "d['Sname']=sname\n",
    "d['Cname']=cname\n",
    "d"
   ]
  },
  {
   "cell_type": "markdown",
   "id": "e7afef6d-1ced-4427-8358-639591daf070",
   "metadata": {},
   "source": [
    "- pop\n",
    "\n",
    "- popitem"
   ]
  },
  {
   "cell_type": "code",
   "execution_count": 10,
   "id": "86657fc4-a22f-4dc8-a86e-7940bc951421",
   "metadata": {},
   "outputs": [
    {
     "data": {
      "text/plain": [
       "20"
      ]
     },
     "execution_count": 10,
     "metadata": {},
     "output_type": "execute_result"
    }
   ],
   "source": [
    "d={'Ramesh':20,'Suresh':25,'Sathish':30}\n",
    "d.pop('Ramesh')"
   ]
  },
  {
   "cell_type": "code",
   "execution_count": 11,
   "id": "dff19fe1-3222-4047-81f5-2cf03bdc923c",
   "metadata": {},
   "outputs": [
    {
     "data": {
      "text/plain": [
       "{'Suresh': 25, 'Sathish': 30}"
      ]
     },
     "execution_count": 11,
     "metadata": {},
     "output_type": "execute_result"
    }
   ],
   "source": [
    "d"
   ]
  },
  {
   "cell_type": "code",
   "execution_count": 12,
   "id": "3305e301-3936-43d7-a029-29abf921a9d1",
   "metadata": {},
   "outputs": [
    {
     "data": {
      "text/plain": [
       "['Suresh', 'Sathish']"
      ]
     },
     "execution_count": 12,
     "metadata": {},
     "output_type": "execute_result"
    }
   ],
   "source": [
    "l1=['Ramesh','Suresh','Sathish']\n",
    "l1.remove('Ramesh')\n",
    "l1"
   ]
  },
  {
   "cell_type": "code",
   "execution_count": 16,
   "id": "b07d12e6-1a32-4969-90f8-bac5cf6b6d59",
   "metadata": {},
   "outputs": [
    {
     "data": {
      "text/plain": [
       "('Sathish', 30)"
      ]
     },
     "execution_count": 16,
     "metadata": {},
     "output_type": "execute_result"
    }
   ],
   "source": [
    "d={'Ramesh':20,'Suresh':25,'Sathish':30}\n",
    "d.popitem()"
   ]
  },
  {
   "cell_type": "code",
   "execution_count": 17,
   "id": "6620e73b-e51b-43d3-b6f7-edecdd975969",
   "metadata": {},
   "outputs": [
    {
     "data": {
      "text/plain": [
       "{'Ramesh': 20, 'Suresh': 25}"
      ]
     },
     "execution_count": 17,
     "metadata": {},
     "output_type": "execute_result"
    }
   ],
   "source": [
    "d"
   ]
  },
  {
   "cell_type": "code",
   "execution_count": 18,
   "id": "f040c29c-cfec-418b-ba78-c62ec6033701",
   "metadata": {},
   "outputs": [
    {
     "data": {
      "text/plain": [
       "['Ramesh', 'Suresh']"
      ]
     },
     "execution_count": 18,
     "metadata": {},
     "output_type": "execute_result"
    }
   ],
   "source": [
    "l1=['Ramesh','Suresh','Sathish']\n",
    "l1.pop()\n",
    "l1"
   ]
  },
  {
   "cell_type": "markdown",
   "id": "9e00bde4-44e6-4990-b7bd-204ac53f6a44",
   "metadata": {},
   "source": [
    "- **pop** in dictionary, similar analogy **remove** in list\n",
    "\n",
    "- **pop item** in dictionary, similar analogy **pop** in list"
   ]
  },
  {
   "cell_type": "markdown",
   "id": "eeb08a69-0506-415f-9b83-e8cc7ac6097d",
   "metadata": {},
   "source": [
    "**get**"
   ]
  },
  {
   "cell_type": "code",
   "execution_count": 16,
   "id": "d5f86628-b7c7-4a2a-9f2b-01fb484b7a6f",
   "metadata": {},
   "outputs": [
    {
     "data": {
      "text/plain": [
       "20"
      ]
     },
     "execution_count": 16,
     "metadata": {},
     "output_type": "execute_result"
    }
   ],
   "source": [
    "d={'Ramesh':20,'Suresh':25,'Sathish':30}\n",
    "d.get('Ramesh')"
   ]
  },
  {
   "cell_type": "code",
   "execution_count": 17,
   "id": "37ccf950-e3ab-4985-9a40-5b4a0fd993d1",
   "metadata": {},
   "outputs": [
    {
     "data": {
      "text/plain": [
       "20"
      ]
     },
     "execution_count": 17,
     "metadata": {},
     "output_type": "execute_result"
    }
   ],
   "source": [
    "d['Ramesh']  # key as an index"
   ]
  },
  {
   "cell_type": "markdown",
   "id": "ef016799-595f-412e-8aa8-251599685646",
   "metadata": {},
   "source": [
    "**update**"
   ]
  },
  {
   "cell_type": "markdown",
   "id": "06c75624-328c-40ca-b4f9-312e7b6c2ad5",
   "metadata": {},
   "source": [
    "- update is similar analogy **list extend**\n",
    "\n",
    "- take two dictionarys and apply update method"
   ]
  },
  {
   "cell_type": "code",
   "execution_count": 19,
   "id": "b711f744-0639-4563-b864-06ec2c4c9425",
   "metadata": {},
   "outputs": [
    {
     "data": {
      "text/plain": [
       "{'Ramesh': 20,\n",
       " 'Suresh': 25,\n",
       " 'Sathish': 30,\n",
       " 'Manish': 20,\n",
       " 'Mahesh': 25,\n",
       " 'Sareshh': 30}"
      ]
     },
     "execution_count": 19,
     "metadata": {},
     "output_type": "execute_result"
    }
   ],
   "source": [
    "d1={'Ramesh':20,'Suresh':25,'Sathish':30}\n",
    "d2={'Manish':20,'Mahesh':25,'Sareshh':30}\n",
    "d1.update(d2)\n",
    "d1"
   ]
  },
  {
   "cell_type": "code",
   "execution_count": 20,
   "id": "5bc836dc-0eb8-4e55-860f-5e233dd8523d",
   "metadata": {},
   "outputs": [
    {
     "data": {
      "text/plain": [
       "['Ramesh', 'Suresh', 'Sathish', 20, 30, 40]"
      ]
     },
     "execution_count": 20,
     "metadata": {},
     "output_type": "execute_result"
    }
   ],
   "source": [
    "l1=['Ramesh','Suresh','Sathish']\n",
    "l2=[20,30,40]\n",
    "l1.extend(l2)\n",
    "l1"
   ]
  },
  {
   "cell_type": "markdown",
   "id": "a0207939-dd7f-4ae8-84e6-daff55264a93",
   "metadata": {},
   "source": [
    "- **update in dictionary**, similar analogy **list extend**"
   ]
  },
  {
   "cell_type": "markdown",
   "id": "3ebad0bb-ff9c-49aa-9c8e-3d601fcda068",
   "metadata": {},
   "source": [
    "**setdefault**\n",
    "\n",
    "- suppose an already existed dictionary available\n",
    "\n",
    "- we can update the dictionary with new key:value pair"
   ]
  },
  {
   "cell_type": "code",
   "execution_count": 19,
   "id": "3e00516c-8d03-4365-b8b3-4c8c83712154",
   "metadata": {},
   "outputs": [
    {
     "data": {
      "text/plain": [
       "{'Ramesh': 20, 'Suresh': 25, 'Sathish': 30, 'Manish': None, 'Mahesh': 35}"
      ]
     },
     "execution_count": 19,
     "metadata": {},
     "output_type": "execute_result"
    }
   ],
   "source": [
    "d1={'Ramesh':20,'Suresh':25,'Sathish':30}\n",
    "d1.setdefault('Manish')\n",
    "d1.setdefault('Mahesh',35)\n",
    "d1"
   ]
  },
  {
   "cell_type": "markdown",
   "id": "820947e1-553a-4519-a9aa-72340876a56c",
   "metadata": {},
   "source": [
    "- **setdefault** in dictionary, similar analogy **list append**\n",
    "\n",
    "- always remember dictionary is a key:value pair concept\n",
    "\n",
    "- it never involves index operations\n",
    "\n",
    "- thats why we dont have any index or find methods\n",
    "\n",
    "- we have get method to extract values using key"
   ]
  },
  {
   "cell_type": "markdown",
   "id": "4ecb72fe-0218-4bbc-bc67-8eb7b8f0ffac",
   "metadata": {},
   "source": [
    "**fromkeys**\n",
    "\n",
    "- create a dictionary with different keys but same value\n",
    "\n",
    "- fromkeys will take an argument **iterable**\n",
    "\n",
    "- try to provide an iterator i.e string,list,tuple"
   ]
  },
  {
   "cell_type": "code",
   "execution_count": 21,
   "id": "86f6021e-763c-4c2d-ae90-588f4a615e1c",
   "metadata": {},
   "outputs": [
    {
     "data": {
      "text/plain": [
       "{'Ramesh': 'NareshIT', 'Suresh': 'NareshIT', 'Sathish': 'NareshIT'}"
      ]
     },
     "execution_count": 21,
     "metadata": {},
     "output_type": "execute_result"
    }
   ],
   "source": [
    "d={}\n",
    "names=['Ramesh','Suresh','Sathish']\n",
    "d.fromkeys(names,'NareshIT')"
   ]
  },
  {
   "cell_type": "code",
   "execution_count": 22,
   "id": "39de33f7-e9c0-4777-81f8-e9a1a690acda",
   "metadata": {},
   "outputs": [
    {
     "data": {
      "text/plain": [
       "{'p': None, 'y': None, 't': None, 'h': None, 'o': None, 'n': None}"
      ]
     },
     "execution_count": 22,
     "metadata": {},
     "output_type": "execute_result"
    }
   ],
   "source": [
    "d={}\n",
    "d.fromkeys('python')"
   ]
  },
  {
   "cell_type": "markdown",
   "id": "9f78ae18-6bfc-49c9-84d4-1a90bc712b6b",
   "metadata": {},
   "source": [
    "- **pop** in dictionary, similar analogy **remove** in list\n",
    "\n",
    "- **pop item** in dictionary, similar analogy **pop** in list\n",
    "\n",
    "- **update in dictionary**, similar analogy **list extend**\n",
    "\n",
    "- **setdefault** in dictionary, similar analogy **list append**\n",
    "\n",
    "- **get** in dictionary, similar analogy **list index**\n",
    "\n",
    "- list has count, string has count and tuple also has count\n",
    "\n",
    "    - but dictionarys does not have **count**\n",
    "\n",
    "    - because dictionary does not allow **duplicates**\n",
    "\n",
    "- string has find but list does not have"
   ]
  },
  {
   "cell_type": "code",
   "execution_count": null,
   "id": "d86c2414-2d45-484d-9cc9-e8ffccdcca7f",
   "metadata": {},
   "outputs": [],
   "source": []
  }
 ],
 "metadata": {
  "kernelspec": {
   "display_name": "Python 3 (ipykernel)",
   "language": "python",
   "name": "python3"
  },
  "language_info": {
   "codemirror_mode": {
    "name": "ipython",
    "version": 3
   },
   "file_extension": ".py",
   "mimetype": "text/x-python",
   "name": "python",
   "nbconvert_exporter": "python",
   "pygments_lexer": "ipython3",
   "version": "3.12.7"
  }
 },
 "nbformat": 4,
 "nbformat_minor": 5
}
