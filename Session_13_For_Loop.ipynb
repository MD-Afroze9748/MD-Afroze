{
 "cells": [
  {
   "cell_type": "code",
   "execution_count": 1,
   "id": "1af0d0dd-7afc-438d-8a47-f7652fdf6393",
   "metadata": {},
   "outputs": [
    {
     "name": "stdin",
     "output_type": "stream",
     "text": [
      "enter the salary: 100000\n",
      "tax percentage: 10\n"
     ]
    },
    {
     "name": "stdout",
     "output_type": "stream",
     "text": [
      "10000.0\n"
     ]
    }
   ],
   "source": [
    "salary=eval(input('enter the salary:'))\n",
    "tax_per=eval(input('tax percentage:'))\n",
    "tax_pay=salary*tax_per/100\n",
    "print(tax_pay)"
   ]
  },
  {
   "cell_type": "code",
   "execution_count": null,
   "id": "55c5f51a-d77d-4f4a-9a30-ce8927d30d15",
   "metadata": {},
   "outputs": [],
   "source": [
    "firm 500*4=2000\n",
    "\n",
    "def TAX_PAY():\n",
    "    salary=eval(input('enter the salary:'))\n",
    "    tax_per=eval(input('tax percentage:'))\n",
    "    tax_pay=salary*tax_per/100\n",
    "    print(tax_pay)\n",
    "\n",
    "TAX_PAY ====== 500"
   ]
  },
  {
   "cell_type": "markdown",
   "id": "f23e0df1-e3f9-4a64-a7ec-e38f281db4b8",
   "metadata": {},
   "source": [
    "**Loops**\n",
    "\n",
    "- Loops are used to iterate the code multiple times\n",
    "\n",
    "- functions are used to reuse the code block\n",
    "\n",
    "- that code block can be repeated multiple times\n",
    "\n",
    "- whenever YOU are doing same task multiple times then think about loop\n",
    "\n",
    "- we have two loops\n",
    "\n",
    "    - for loop\n",
    "\n",
    "    - while loop\n",
    "\n",
    "- Any loop we need three things\n",
    "\n",
    "    - Initialization (start point)\n",
    "\n",
    "    - increment or decrement\n",
    "\n",
    "    - Condition to stop"
   ]
  },
  {
   "cell_type": "markdown",
   "id": "03f49920-320f-480a-8908-983ce5da00c4",
   "metadata": {},
   "source": [
    "**For loop**"
   ]
  },
  {
   "cell_type": "code",
   "execution_count": null,
   "id": "146381dd-a67d-4da8-8f67-2c0dc4f2cbe9",
   "metadata": {},
   "outputs": [],
   "source": [
    "for <variable> in range(<number>):\n",
    "    <write your code here>"
   ]
  },
  {
   "cell_type": "code",
   "execution_count": 1,
   "id": "3a4ee806-eb7e-437e-98aa-9923fcd3f599",
   "metadata": {},
   "outputs": [
    {
     "name": "stdout",
     "output_type": "stream",
     "text": [
      "0\n",
      "1\n",
      "2\n",
      "3\n",
      "4\n"
     ]
    }
   ],
   "source": [
    "for i in range(5):\n",
    "    print(i)"
   ]
  },
  {
   "cell_type": "code",
   "execution_count": 2,
   "id": "dddfad08-9eb1-470a-9809-5a860c0c3d61",
   "metadata": {},
   "outputs": [
    {
     "name": "stdout",
     "output_type": "stream",
     "text": [
      "0\n",
      "1\n",
      "2\n"
     ]
    }
   ],
   "source": [
    "# print(0)\n",
    "# print(1)\n",
    "# print(2)\n",
    "\n",
    "for trump in range(3):\n",
    "    print(trump)"
   ]
  },
  {
   "cell_type": "code",
   "execution_count": 3,
   "id": "537c6725-b7de-4ead-8eed-c0c702409176",
   "metadata": {},
   "outputs": [
    {
     "name": "stdout",
     "output_type": "stream",
     "text": [
      "0 1 2 "
     ]
    }
   ],
   "source": [
    "#  print(0,end=' ')\n",
    "# print(1,end=' ')\n",
    "# print(2)\n",
    "\n",
    "for i in range(3):\n",
    "    print(i,end=' ')"
   ]
  },
  {
   "cell_type": "markdown",
   "id": "47944e49-8ec7-40c2-b9a2-94a4631e9ec4",
   "metadata": {},
   "source": [
    "**case-1: range(stop)**\n",
    "\n",
    "- start=0 : python index always starts with zero\n",
    "\n",
    "- increment by 1\n",
    "\n",
    "- last=stop-1 "
   ]
  },
  {
   "cell_type": "code",
   "execution_count": 4,
   "id": "bd504399-3a54-439f-be4d-ded4a464a9f8",
   "metadata": {},
   "outputs": [
    {
     "name": "stdout",
     "output_type": "stream",
     "text": [
      "0 1 2 3 4 5 6 7 8 9 "
     ]
    }
   ],
   "source": [
    "for i in range(10):\n",
    "    print(i,end=' ')"
   ]
  },
  {
   "cell_type": "code",
   "execution_count": 5,
   "id": "c5e291fd-fa9d-449d-a7b8-d1eeb9a635ac",
   "metadata": {},
   "outputs": [
    {
     "name": "stdout",
     "output_type": "stream",
     "text": [
      "good night\n",
      "good night\n",
      "good night\n"
     ]
    }
   ],
   "source": [
    "print('good night')\n",
    "print('good night')\n",
    "print('good night')"
   ]
  },
  {
   "cell_type": "code",
   "execution_count": 6,
   "id": "f3fa6acd-c056-4f7e-a9c1-78aeb0e8e9ce",
   "metadata": {},
   "outputs": [
    {
     "name": "stdout",
     "output_type": "stream",
     "text": [
      "good night\n",
      "good night\n",
      "good night\n"
     ]
    }
   ],
   "source": [
    "for i in range(3):\n",
    "    print('good night')"
   ]
  },
  {
   "cell_type": "markdown",
   "id": "5e99f34f-cf04-494b-a247-b28bd57a2dd9",
   "metadata": {},
   "source": [
    "**Case-2: range(start,stop)**\n",
    "\n",
    "- Suppose I want to start my loop with a particular number\n",
    "\n",
    "- then add start also inside range\n",
    "\n",
    "- start=start\n",
    "\n",
    "- increment by 1\n",
    "\n",
    "- last=stop-1\n",
    "\n",
    "- range(10.20)\n",
    "\n",
    "- start=10,increment by 1,last=20-1=19"
   ]
  },
  {
   "cell_type": "code",
   "execution_count": 7,
   "id": "a5d6a61b-a7d0-4652-947d-f82580bc3da2",
   "metadata": {},
   "outputs": [
    {
     "name": "stdout",
     "output_type": "stream",
     "text": [
      "10 11 12 13 14 15 16 17 18 19 "
     ]
    }
   ],
   "source": [
    "for i in range(10,20):\n",
    "    print(i,end=' ')"
   ]
  },
  {
   "cell_type": "code",
   "execution_count": 10,
   "id": "2a716ebc-6c61-4cee-8cf2-43d91a03c8f3",
   "metadata": {},
   "outputs": [
    {
     "name": "stdout",
     "output_type": "stream",
     "text": [
      "the square of 1 is: 1\n",
      "the square of 2 is: 4\n",
      "the square of 3 is: 9\n",
      "the square of 4 is: 16\n",
      "the square of 5 is: 25\n"
     ]
    }
   ],
   "source": [
    "# wap ask the user print the square first 5 number\n",
    "# square of 1 is 1\n",
    "# square of 2 is 4\n",
    "# so on\n",
    "\n",
    "for i in range(1,6):\n",
    "    print(f'the square of {i} is: {i*i}')"
   ]
  },
  {
   "cell_type": "code",
   "execution_count": 11,
   "id": "5d9f21c7-570b-42f0-8d55-115cb72e32f8",
   "metadata": {},
   "outputs": [
    {
     "name": "stdin",
     "output_type": "stream",
     "text": [
      "enter the number: 20\n"
     ]
    },
    {
     "name": "stdout",
     "output_type": "stream",
     "text": [
      "the square of 20 is: 400\n"
     ]
    },
    {
     "name": "stdin",
     "output_type": "stream",
     "text": [
      "enter the number: 30\n"
     ]
    },
    {
     "name": "stdout",
     "output_type": "stream",
     "text": [
      "the square of 30 is: 900\n"
     ]
    },
    {
     "name": "stdin",
     "output_type": "stream",
     "text": [
      "enter the number: 40\n"
     ]
    },
    {
     "name": "stdout",
     "output_type": "stream",
     "text": [
      "the square of 40 is: 1600\n"
     ]
    },
    {
     "name": "stdin",
     "output_type": "stream",
     "text": [
      "enter the number: 50\n"
     ]
    },
    {
     "name": "stdout",
     "output_type": "stream",
     "text": [
      "the square of 50 is: 2500\n"
     ]
    },
    {
     "name": "stdin",
     "output_type": "stream",
     "text": [
      "enter the number: 60\n"
     ]
    },
    {
     "name": "stdout",
     "output_type": "stream",
     "text": [
      "the square of 60 is: 3600\n"
     ]
    }
   ],
   "source": [
    "# wap ask the user enter a number the prompt should happen 5 times\n",
    "# and print the square of the number\n",
    "\n",
    "for i in range(5):\n",
    "    num=eval(input('enter the number:'))\n",
    "    print(f'the square of {num} is: {num*num}')"
   ]
  },
  {
   "cell_type": "code",
   "execution_count": 12,
   "id": "b7b0d8b0-ef79-4a3a-8f28-39a67fd7234c",
   "metadata": {},
   "outputs": [
    {
     "name": "stdin",
     "output_type": "stream",
     "text": [
      "enter the number: 30\n"
     ]
    },
    {
     "name": "stdout",
     "output_type": "stream",
     "text": [
      "the square of 30 is: 900\n"
     ]
    },
    {
     "name": "stdin",
     "output_type": "stream",
     "text": [
      "enter the number: 50\n"
     ]
    },
    {
     "name": "stdout",
     "output_type": "stream",
     "text": [
      "the square of 50 is: 2500\n"
     ]
    }
   ],
   "source": [
    "def square():\n",
    "    num=eval(input('enter the number:'))\n",
    "    print(f'the square of {num} is: {num*num}')\n",
    "\n",
    "for i in range(2):\n",
    "    square()"
   ]
  },
  {
   "cell_type": "code",
   "execution_count": 13,
   "id": "70b7b9d5-280e-41f6-86ce-e5176287aa23",
   "metadata": {},
   "outputs": [
    {
     "name": "stdin",
     "output_type": "stream",
     "text": [
      "enter the number: 4\n"
     ]
    },
    {
     "name": "stdout",
     "output_type": "stream",
     "text": [
      "the square of 4 is: 16\n"
     ]
    },
    {
     "name": "stdin",
     "output_type": "stream",
     "text": [
      "enter the number: 5\n"
     ]
    },
    {
     "name": "stdout",
     "output_type": "stream",
     "text": [
      "the square of 5 is: 25\n"
     ]
    },
    {
     "name": "stdin",
     "output_type": "stream",
     "text": [
      "enter the number: 6\n"
     ]
    },
    {
     "name": "stdout",
     "output_type": "stream",
     "text": [
      "the square of 6 is: 36\n"
     ]
    }
   ],
   "source": [
    "for i in range(133,136):\n",
    "    num=eval(input('enter the number:'))\n",
    "    print(f'the square of {num} is: {num*num}')"
   ]
  },
  {
   "cell_type": "markdown",
   "id": "e156529b-db92-4fea-90de-137253ee9f6e",
   "metadata": {},
   "source": [
    "**Case-3: range(start,stop,step)**\n",
    "\n",
    "- start=start only\n",
    "\n",
    "- step:\n",
    "\n",
    "    - look about step sign is it provide or negative sign\n",
    "\n",
    "    - positive means increment\n",
    "\n",
    "        - last: stop-1\n",
    "\n",
    "    - negative means decrement\n",
    "\n",
    "       - last: stop+1"
   ]
  },
  {
   "cell_type": "code",
   "execution_count": 15,
   "id": "8ce9941d-96ef-4998-93d2-a8dece64b9c1",
   "metadata": {},
   "outputs": [
    {
     "name": "stdout",
     "output_type": "stream",
     "text": [
      "3 5 7 9 11 13 15 17 "
     ]
    }
   ],
   "source": [
    "# example1: range (3,19,2)\n",
    "# start=3\n",
    "# step=+2 postive direction\n",
    "# last = 19-1=18\n",
    "# 3,5,7,9,11,13,15,17\n",
    "\n",
    "for i in range(3,19,2):\n",
    "    print(i,end=' ')"
   ]
  },
  {
   "cell_type": "code",
   "execution_count": 17,
   "id": "c1435fe4-053c-4dc5-a9ef-1f270e1654c0",
   "metadata": {},
   "outputs": [],
   "source": [
    "# example2: range (3,19,-2)\n",
    "# start=3\n",
    "# step=-2 negative direction\n",
    "# last = 19+1=20\n",
    "\n",
    "for i in range(3,19,-2):\n",
    "    print(i)"
   ]
  },
  {
   "cell_type": "code",
   "execution_count": 18,
   "id": "8dd0c3e8-6436-4f4a-b9e7-dae9fef930b5",
   "metadata": {},
   "outputs": [
    {
     "name": "stdout",
     "output_type": "stream",
     "text": [
      "3 1 -1 -3 -5 -7 -9 -11 -13 -15 -17 "
     ]
    }
   ],
   "source": [
    "for i in range(3,-19,-2):\n",
    "    print(i,end=' ')\n",
    "\n",
    "# start=3  direction=negative  last=stop+1  -19+1=-18"
   ]
  },
  {
   "cell_type": "code",
   "execution_count": 19,
   "id": "5400ec28-9b8e-4c10-983c-15ac9ed54d91",
   "metadata": {},
   "outputs": [],
   "source": [
    "for i in range(3,-19,2):\n",
    "    print(i,end=' ')"
   ]
  },
  {
   "cell_type": "code",
   "execution_count": null,
   "id": "ff3b3418-6c2b-46f5-8dfb-a521a9978937",
   "metadata": {},
   "outputs": [],
   "source": [
    "range(3,15,3)     # p\n",
    "range(3,15,-3)    # np\n",
    "range(3,-15,3)    # np\n",
    "range(-3,15,3)    # p\n",
    "range(3,-15,-3)   # p\n",
    "range(-3,-15,3)   # np\n",
    "range(-3,15,-3)   # np\n",
    "range(15,3,3)     # np\n",
    "range(15,3,-3)    # p\n",
    "range(15,-3,3)    # np\n",
    "range(-15,3,3)    # p\n",
    "range(-15,3,-3)   # np\n",
    "range(-15,-3,3)   # p\n",
    "range(-15,-3,-3)  # np"
   ]
  },
  {
   "cell_type": "code",
   "execution_count": 1,
   "id": "346c8fa2-b670-4226-9cad-b68d593390ef",
   "metadata": {},
   "outputs": [
    {
     "name": "stdout",
     "output_type": "stream",
     "text": [
      "20\n",
      "10\n",
      "0\n",
      "-10\n"
     ]
    }
   ],
   "source": [
    "for i in range(20,-20,-10):\n",
    "    print(i)\n",
    "\n",
    "# start = 20\n",
    "# step=-10 negative direction\n",
    "# last = -20+1=-19\n",
    "# 20 10 0 -10"
   ]
  },
  {
   "cell_type": "code",
   "execution_count": 3,
   "id": "d0410f95-dd33-4725-92bf-6ceec7833de4",
   "metadata": {},
   "outputs": [
    {
     "name": "stdin",
     "output_type": "stream",
     "text": [
      "enter the table number: 7\n"
     ]
    },
    {
     "name": "stdout",
     "output_type": "stream",
     "text": [
      "7X1=7\n",
      "7X2=14\n",
      "7X3=21\n",
      "7X4=28\n",
      "7X5=35\n",
      "7X6=42\n",
      "7X7=49\n",
      "7X8=56\n",
      "7X9=63\n",
      "7X10=70\n"
     ]
    }
   ],
   "source": [
    "# Q4) print the 7th table\n",
    "# 7x1=7\n",
    "# 7x2=14\n",
    "# 7x3=21\n",
    "\n",
    "# 7xi=num*i\n",
    "\n",
    "\n",
    "num=eval(input('enter the table number:'))\n",
    "for i in range(1,11):\n",
    "    print(f'{num}X{i}={num*i}')"
   ]
  },
  {
   "cell_type": "code",
   "execution_count": 4,
   "id": "dae76d57-1e82-496e-8de2-180c39cf17e1",
   "metadata": {},
   "outputs": [
    {
     "name": "stdin",
     "output_type": "stream",
     "text": [
      "which number divisors you want: 75\n"
     ]
    },
    {
     "name": "stdout",
     "output_type": "stream",
     "text": [
      "1 is a divisor of 75\n",
      "3 is a divisor of 75\n",
      "5 is a divisor of 75\n",
      "15 is a divisor of 75\n",
      "25 is a divisor of 75\n",
      "75 is a divisor of 75\n"
     ]
    }
   ],
   "source": [
    "# Q5) Find the number of divisors of 75\n",
    "# if you divide 75 with any number the remainder should be zero\n",
    "# 75%1==0  True then print 1\n",
    "# 75%2==0  False\n",
    "# 75%3==0  True then print 3\n",
    "# 75%4==0  False\n",
    "# 75%5==0  True then print 5\n",
    "#\n",
    "# 75%15==0  True then print 15\n",
    "# \n",
    "# 75%25==0  True then print 25\n",
    "#\n",
    "# 75%75==0  True then print 75\n",
    "\n",
    "# if 75%i==0\n",
    "\n",
    "\n",
    "num=eval(input('which number divisors you want:'))\n",
    "for i in range(1,num+1):\n",
    "    if num%i==0:\n",
    "        print(f'{i} is a divisor of {num}')"
   ]
  },
  {
   "cell_type": "code",
   "execution_count": 1,
   "id": "4d95b0f2-17bb-48f2-a07c-fbe17b2c53a4",
   "metadata": {},
   "outputs": [
    {
     "name": "stdout",
     "output_type": "stream",
     "text": [
      "The sum of first 10 natural number is: 55\n"
     ]
    }
   ],
   "source": [
    "# Q6) sum of first 10 natural numbers\n",
    "# natural : starts from 1\n",
    "# 1+2+3+4+5+6+7+8+9+10=55\n",
    "# n(n+1)/2\n",
    "\n",
    "\n",
    "n=10\n",
    "n*(n+1)/2\n",
    "\n",
    "\n",
    "sum=0\n",
    "for i in range(1,11):\n",
    "    sum=sum+i\n",
    "print(f'The sum of first 10 natural number is: {sum}')    "
   ]
  },
  {
   "cell_type": "markdown",
   "id": "7a8b88ca-6834-4c2d-8da8-d67eb9366a14",
   "metadata": {},
   "source": [
    "**summation wrapper**\n",
    "\n",
    "- starting we initialise the sum value : summ=0\n",
    "\n",
    "- inside loop we will add a simple line : summ=summ+i\n",
    "\n",
    "- summ=0\n",
    "\n",
    "- for loop\n",
    "\n",
    "    - summ=summ+i"
   ]
  },
  {
   "cell_type": "code",
   "execution_count": null,
   "id": "a2fb641b-dc38-4900-b413-c333a1338689",
   "metadata": {},
   "outputs": [],
   "source": [
    "0+1=1\n",
    "1+2=3\n",
    "3+3=6\n",
    "6+4=10\n",
    "10+5=15\n",
    "15+6=21\n",
    "21+7=28\n",
    "28+8=36\n",
    "36+9=45\n",
    "45+10=55\n",
    "\n",
    "op=0\n",
    "op+i=op === >  op=op+i"
   ]
  },
  {
   "cell_type": "code",
   "execution_count": 6,
   "id": "d92f9a9a-7e4f-410c-90b0-289066efdfce",
   "metadata": {},
   "outputs": [
    {
     "name": "stdout",
     "output_type": "stream",
     "text": [
      "55\n"
     ]
    }
   ],
   "source": [
    "summ=0\n",
    "###########################\n",
    "for i in range(1,11):\n",
    "    summ=summ+i\n",
    "###########################\n",
    "print(summ)"
   ]
  },
  {
   "cell_type": "code",
   "execution_count": 7,
   "id": "63ab3fb2-29e2-46e6-a964-627436851e95",
   "metadata": {},
   "outputs": [
    {
     "name": "stdout",
     "output_type": "stream",
     "text": [
      "0\n",
      "1\n",
      "2\n",
      "3\n"
     ]
    }
   ],
   "source": [
    "for val in range(4):\n",
    "    print(val)"
   ]
  },
  {
   "cell_type": "code",
   "execution_count": 8,
   "id": "42afb658-8e2e-409f-b660-1b227bab757d",
   "metadata": {},
   "outputs": [
    {
     "data": {
      "text/plain": [
       "3"
      ]
     },
     "execution_count": 8,
     "metadata": {},
     "output_type": "execute_result"
    }
   ],
   "source": [
    "val"
   ]
  },
  {
   "cell_type": "code",
   "execution_count": 10,
   "id": "6c6f1f4d-7004-4ccc-8fda-20ab58e8baa7",
   "metadata": {},
   "outputs": [
    {
     "name": "stdin",
     "output_type": "stream",
     "text": [
      "enter the num: 75\n"
     ]
    },
    {
     "name": "stdout",
     "output_type": "stream",
     "text": [
      "1\n",
      "3\n",
      "5\n",
      "15\n",
      "25\n",
      "75\n"
     ]
    },
    {
     "data": {
      "text/plain": [
       "124"
      ]
     },
     "execution_count": 10,
     "metadata": {},
     "output_type": "execute_result"
    }
   ],
   "source": [
    "# Q7) find the sum of divisors of 75\n",
    "# 75 : 1,3,5,15,25,75\n",
    "#      1+3+5+15+25+75\n",
    "\n",
    "summ=0\n",
    "\n",
    "num=eval(input('enter the num:'))\n",
    "for i in range(1,num+1):\n",
    "    if num%i==0:\n",
    "        print(i)\n",
    "        summ=summ+i\n",
    "summ        "
   ]
  },
  {
   "cell_type": "markdown",
   "id": "0ca2b804-b942-4684-8db9-f4fa1b4d5518",
   "metadata": {},
   "source": [
    "**counter wrapper**\n",
    "\n",
    "- counter means counting the success ones\n",
    "\n",
    "- count=0\n",
    "\n",
    "- for loop\n",
    "\n",
    "    - count=count+1"
   ]
  },
  {
   "cell_type": "code",
   "execution_count": 11,
   "id": "8950c914-66eb-4e0b-9ccb-1107387a43ea",
   "metadata": {},
   "outputs": [
    {
     "name": "stdin",
     "output_type": "stream",
     "text": [
      "enter the num: 75\n"
     ]
    },
    {
     "name": "stdout",
     "output_type": "stream",
     "text": [
      "1\n",
      "3\n",
      "5\n",
      "15\n",
      "25\n",
      "75\n",
      "the number of divisors are: 6\n"
     ]
    }
   ],
   "source": [
    "# Q7) Find the number of divisors of 75\n",
    "\n",
    "count=0\n",
    "num=eval(input('enter the num:'))\n",
    "for i in range(1,num+1):\n",
    "    if num%i==0:\n",
    "        print(i)\n",
    "        count=count+1\n",
    "print('the number of divisors are:',count)"
   ]
  },
  {
   "cell_type": "code",
   "execution_count": 2,
   "id": "6797ce7e-6ddd-42ad-b010-813696ac0f50",
   "metadata": {},
   "outputs": [
    {
     "name": "stdout",
     "output_type": "stream",
     "text": [
      "22 is an even\n",
      "38 is an even\n",
      "68 is an even\n",
      "71 is an odd\n",
      "95 is an odd\n",
      "number of evens are: 3\n",
      "number of odds are: 2\n",
      "sum of evens are: 128\n",
      "sum of odds are: 166\n"
     ]
    }
   ],
   "source": [
    "# Q8) \n",
    "# ask the get 5 random numbers\n",
    "# means you need a get a random number inside for loop\n",
    "# the loop should run 5 times\n",
    "# now perform the even and odd operation\n",
    "# 1) even count  2) sum of even number  3) odd count  4) sum of odd numbers\n",
    "\n",
    "# even_count=0\n",
    "# odd_count=0\n",
    "# even_sum=0\n",
    "# odd_sum=0\n",
    "# for loop\n",
    "#   random\n",
    "#   if even\n",
    "#     summ\n",
    "#     counter\n",
    "# else\n",
    "#    summ\n",
    "#    count\n",
    "\n",
    "\n",
    "import random\n",
    "even_count,odd_count=0,0\n",
    "even_sum,odd_sum=0,0\n",
    "for i in range(5):\n",
    "    num=random.randint(1,100)\n",
    "    if num%2==0:\n",
    "        print(f'{num} is an even')\n",
    "        even_count=even_count+1\n",
    "        even_sum=even_sum+num\n",
    "    else:\n",
    "        print(f'{num} is an odd')\n",
    "        odd_count=odd_count+1\n",
    "        odd_sum=odd_sum+num\n",
    "print('number of evens are:',even_count)\n",
    "print('number of odds are:',odd_count)\n",
    "print('sum of evens are:',even_sum)\n",
    "print('sum of odds are:',odd_sum)"
   ]
  },
  {
   "cell_type": "code",
   "execution_count": 14,
   "id": "af37556b-8569-4a22-86d9-b83c1269ad2f",
   "metadata": {},
   "outputs": [
    {
     "name": "stdin",
     "output_type": "stream",
     "text": [
      "enter a num: 3\n"
     ]
    },
    {
     "name": "stdout",
     "output_type": "stream",
     "text": [
      "better luck next time\n"
     ]
    },
    {
     "name": "stdin",
     "output_type": "stream",
     "text": [
      "enter a num: 2\n"
     ]
    },
    {
     "name": "stdout",
     "output_type": "stream",
     "text": [
      "better luck next time\n"
     ]
    },
    {
     "name": "stdin",
     "output_type": "stream",
     "text": [
      "enter a num: 5\n"
     ]
    },
    {
     "name": "stdout",
     "output_type": "stream",
     "text": [
      "better luck next time\n"
     ]
    }
   ],
   "source": [
    "# Q9) Game program\n",
    "# user enter one num\n",
    "# another number will generate randomly\n",
    "# if both numbers are equal then you won\n",
    "# otherwise you lost\n",
    "# i want to give 3 chances\n",
    "\n",
    "# for loop\n",
    "#    num1=random\n",
    "#    num2=user keyboard\n",
    "#    if num1==num2\n",
    "#       print won\n",
    "#    else\n",
    "#       print fail\n",
    "\n",
    "\n",
    "for i in range(3):\n",
    "    n1=random.randint(1,10)\n",
    "    n2=eval(input('enter a num:'))\n",
    "    if n1==n2:\n",
    "        print('you won')\n",
    "    else:\n",
    "        print('better luck next time')"
   ]
  },
  {
   "cell_type": "code",
   "execution_count": 15,
   "id": "23a9c41f-a978-4fd7-945b-06ad5bae853f",
   "metadata": {},
   "outputs": [
    {
     "name": "stdout",
     "output_type": "stream",
     "text": [
      "7\n"
     ]
    },
    {
     "name": "stdin",
     "output_type": "stream",
     "text": [
      "enter a num: 4\n"
     ]
    },
    {
     "name": "stdout",
     "output_type": "stream",
     "text": [
      "better luck next time\n",
      "2\n"
     ]
    },
    {
     "name": "stdin",
     "output_type": "stream",
     "text": [
      "enter a num: 2\n"
     ]
    },
    {
     "name": "stdout",
     "output_type": "stream",
     "text": [
      "you won\n"
     ]
    }
   ],
   "source": [
    "for i in range(3):\n",
    "    n1=random.randint(1,10)\n",
    "    print(n1)\n",
    "    n2=eval(input('enter a num:'))\n",
    "    if n1==n2:\n",
    "        print('you won')\n",
    "        break\n",
    "    else:\n",
    "        print('better luck next time')"
   ]
  },
  {
   "cell_type": "code",
   "execution_count": 8,
   "id": "42dbda4f-3501-4b6f-bd2d-e563e0e4c5e7",
   "metadata": {},
   "outputs": [
    {
     "name": "stdout",
     "output_type": "stream",
     "text": [
      "you have three chances\n"
     ]
    },
    {
     "name": "stdin",
     "output_type": "stream",
     "text": [
      "enter a num: 4\n"
     ]
    },
    {
     "name": "stdout",
     "output_type": "stream",
     "text": [
      "better luck next time\n",
      "chances you left are: 2\n"
     ]
    },
    {
     "name": "stdin",
     "output_type": "stream",
     "text": [
      "enter a num: 8\n"
     ]
    },
    {
     "name": "stdout",
     "output_type": "stream",
     "text": [
      "better luck next time\n",
      "chances you left are: 1\n"
     ]
    },
    {
     "name": "stdin",
     "output_type": "stream",
     "text": [
      "enter a num: 2\n"
     ]
    },
    {
     "name": "stdout",
     "output_type": "stream",
     "text": [
      "better luck next time\n",
      "chances you left are: 0\n",
      "try after 24 hours time\n"
     ]
    }
   ],
   "source": [
    "# case-1: we apply the break === completed\n",
    "# case-2: whenever the user enter the wrong answer\n",
    "#         better luck next time\n",
    "#         how many chances you are left\n",
    "# case-3: if you lost all the chances\n",
    "#         print try after 24 hours time\n",
    "#         dont give time.sleep 24 hours khatam your zindagi\n",
    "\n",
    "\n",
    "import random\n",
    "print('you have three chances')\n",
    "count=3\n",
    "for i in range(3):\n",
    "    n1=random.randint(1,10)\n",
    "    n2=eval(input('enter a num:'))\n",
    "    if n1==n2:\n",
    "        print('you won')\n",
    "        break\n",
    "    else:\n",
    "        print('better luck next time')\n",
    "        count=count-1\n",
    "        print(f'chances you left are: {count}')\n",
    "print('try after 24 hours time')        "
   ]
  },
  {
   "cell_type": "markdown",
   "id": "54a58b70-8d42-4da6-95c8-8ea48c55c047",
   "metadata": {},
   "source": [
    "**in**"
   ]
  },
  {
   "cell_type": "markdown",
   "id": "4e946e47-e017-4824-ad2b-d68398efd5c4",
   "metadata": {},
   "source": [
    "- in for loop we have range and in operators\n",
    "\n",
    "- range is a math related word, whenever we use range it expects a number inside range\n",
    "\n",
    "- in operator expects a string "
   ]
  },
  {
   "cell_type": "code",
   "execution_count": 1,
   "id": "50aff54b-a5b7-4691-8e1b-290309875d89",
   "metadata": {},
   "outputs": [
    {
     "name": "stdout",
     "output_type": "stream",
     "text": [
      "0 1 2 3 4 5 6 7 8 9 "
     ]
    }
   ],
   "source": [
    "for i in range(10):\n",
    "    print(i,end=' ')"
   ]
  },
  {
   "cell_type": "code",
   "execution_count": 2,
   "id": "ad2b847b-1dbf-47d5-ad41-9e135ba60af5",
   "metadata": {},
   "outputs": [
    {
     "ename": "TypeError",
     "evalue": "'str' object cannot be interpreted as an integer",
     "output_type": "error",
     "traceback": [
      "\u001b[1;31m---------------------------------------------------------------------------\u001b[0m",
      "\u001b[1;31mTypeError\u001b[0m                                 Traceback (most recent call last)",
      "Cell \u001b[1;32mIn[2], line 1\u001b[0m\n\u001b[1;32m----> 1\u001b[0m \u001b[38;5;28;01mfor\u001b[39;00m i \u001b[38;5;129;01min\u001b[39;00m \u001b[38;5;28;43mrange\u001b[39;49m\u001b[43m(\u001b[49m\u001b[38;5;124;43m'\u001b[39;49m\u001b[38;5;124;43mpython\u001b[39;49m\u001b[38;5;124;43m'\u001b[39;49m\u001b[43m)\u001b[49m:\n\u001b[0;32m      2\u001b[0m     \u001b[38;5;28mprint\u001b[39m(i,end\u001b[38;5;241m=\u001b[39m\u001b[38;5;124m'\u001b[39m\u001b[38;5;124m \u001b[39m\u001b[38;5;124m'\u001b[39m)\n",
      "\u001b[1;31mTypeError\u001b[0m: 'str' object cannot be interpreted as an integer"
     ]
    }
   ],
   "source": [
    "for i in range('python'):\n",
    "    print(i,end=' ')"
   ]
  },
  {
   "cell_type": "code",
   "execution_count": 3,
   "id": "32398427-09ef-46b5-8b4f-46f6408f406f",
   "metadata": {},
   "outputs": [
    {
     "name": "stdout",
     "output_type": "stream",
     "text": [
      "p y t h o n "
     ]
    }
   ],
   "source": [
    "for i in 'python':\n",
    "    print(i,end=' ')"
   ]
  },
  {
   "cell_type": "code",
   "execution_count": null,
   "id": "6777dd6a-fedf-430f-8437-83f0f45ff094",
   "metadata": {},
   "outputs": [],
   "source": [
    "'p' in 'python'\n",
    "\n",
    "'y' in 'python'\n",
    "\n",
    "'t' in 'python'\n",
    "\n",
    "'h' in 'python'\n",
    "\n",
    "'o' in 'python'\n",
    "\n",
    "'n' in 'python'\n",
    "\n",
    "i in 'python'"
   ]
  },
  {
   "cell_type": "code",
   "execution_count": null,
   "id": "179655f0-93b8-42ae-90e3-4762ba5cdff8",
   "metadata": {},
   "outputs": [],
   "source": [
    "'A'=='a'  # F\n",
    "'A'>'a'   # F\n",
    "'A'<'a'   # T"
   ]
  },
  {
   "cell_type": "markdown",
   "id": "d93f25df-956b-4b10-a25c-e012a349fa6a",
   "metadata": {},
   "source": [
    "**ASCII**\n",
    "\n",
    "- AMERICAN STANDARD CODE FOR INFORMATION INTERCHANGE"
   ]
  },
  {
   "cell_type": "code",
   "execution_count": 1,
   "id": "3916b594-2f39-4dfe-afcf-5bedb118f4e7",
   "metadata": {},
   "outputs": [
    {
     "data": {
      "text/plain": [
       "False"
      ]
     },
     "execution_count": 1,
     "metadata": {},
     "output_type": "execute_result"
    }
   ],
   "source": [
    "# 'A' ==== 65\n",
    "# 'a' ==== 97\n",
    "\n",
    "'A'>'a'   # 65>97"
   ]
  },
  {
   "cell_type": "markdown",
   "id": "d800676c-3297-4d7d-9888-05c538ec4276",
   "metadata": {},
   "source": [
    "- How to convert char to number\n",
    "\n",
    "- How to convert number to char"
   ]
  },
  {
   "cell_type": "markdown",
   "id": "9e8f4d94-d0eb-4d52-a651-cd77a0fe5bc7",
   "metadata": {},
   "source": [
    "**char-ord**"
   ]
  },
  {
   "cell_type": "code",
   "execution_count": 4,
   "id": "89c58c96-9dc9-4050-9ca3-e5aeb24f8cd8",
   "metadata": {},
   "outputs": [
    {
     "data": {
      "text/plain": [
       "65"
      ]
     },
     "execution_count": 4,
     "metadata": {},
     "output_type": "execute_result"
    }
   ],
   "source": [
    "ord('A')"
   ]
  },
  {
   "cell_type": "code",
   "execution_count": 5,
   "id": "b51dd901-bf5f-406c-97b6-711fdde7b85f",
   "metadata": {},
   "outputs": [
    {
     "data": {
      "text/plain": [
       "'A'"
      ]
     },
     "execution_count": 5,
     "metadata": {},
     "output_type": "execute_result"
    }
   ],
   "source": [
    "chr(65)"
   ]
  },
  {
   "cell_type": "markdown",
   "id": "809a4bfd-aa8b-4f68-9ae2-4c649d9b3215",
   "metadata": {},
   "source": [
    "- so **ord** converting char to number\n",
    "\n",
    "- **chr** converting number to char"
   ]
  },
  {
   "cell_type": "code",
   "execution_count": 3,
   "id": "348f38d4-8e4d-4386-ae62-7cff36e129cb",
   "metadata": {},
   "outputs": [
    {
     "data": {
      "text/plain": [
       "66"
      ]
     },
     "execution_count": 3,
     "metadata": {},
     "output_type": "execute_result"
    }
   ],
   "source": [
    "# wap ask the user get the ASCII number A to Z\n",
    "# print: A:65\n",
    "#        B:66\n",
    "\n",
    "ord('A')\n",
    "ord('B')\n",
    "\n",
    "ord(i)\n",
    "\n",
    "# i will pass the letter you tell me number\n",
    "# you are doing i will pass the number and give letter to you"
   ]
  },
  {
   "cell_type": "code",
   "execution_count": 4,
   "id": "7aee1a67-7c78-421d-b409-56d28fd01541",
   "metadata": {},
   "outputs": [
    {
     "name": "stdout",
     "output_type": "stream",
     "text": [
      "65:A\n",
      "66:B\n",
      "67:C\n",
      "68:D\n",
      "69:E\n",
      "70:F\n",
      "71:G\n",
      "72:H\n",
      "73:I\n",
      "74:J\n",
      "75:K\n",
      "76:L\n",
      "77:M\n",
      "78:N\n",
      "79:O\n",
      "80:P\n",
      "81:Q\n",
      "82:R\n",
      "83:S\n",
      "84:T\n",
      "85:U\n",
      "86:V\n",
      "87:W\n",
      "88:X\n",
      "89:Y\n",
      "90:Z\n",
      "91:[\n",
      "92:\\\n",
      "93:]\n",
      "94:^\n",
      "95:_\n",
      "96:`\n"
     ]
    }
   ],
   "source": [
    "for i in range(65,97):\n",
    "    print(f'{i}:{chr(i)}')"
   ]
  },
  {
   "cell_type": "code",
   "execution_count": 5,
   "id": "9301166d-9cb4-41c5-9508-6c3ee7627b66",
   "metadata": {},
   "outputs": [
    {
     "name": "stdout",
     "output_type": "stream",
     "text": [
      "A:65\n",
      "B:66\n",
      "C:67\n",
      "D:68\n",
      "E:69\n",
      "F:70\n",
      "G:71\n",
      "H:72\n",
      "I:73\n",
      "J:74\n",
      "K:75\n",
      "L:76\n",
      "M:77\n",
      "N:78\n",
      "O:79\n",
      "P:80\n",
      "Q:81\n",
      "R:82\n",
      "S:83\n",
      "T:84\n",
      "U:85\n",
      "V:86\n",
      "W:87\n",
      "X:88\n",
      "Y:89\n",
      "Z:90\n"
     ]
    }
   ],
   "source": [
    "for i in 'ABCDEFGHIJKLMNOPQRSTUVWXYZ':\n",
    "    print(f'{i}:{ord(i)}')"
   ]
  },
  {
   "cell_type": "markdown",
   "id": "d1e54009-d121-4e03-91f4-d89a5f5281a8",
   "metadata": {},
   "source": [
    "**package: sring**"
   ]
  },
  {
   "cell_type": "code",
   "execution_count": null,
   "id": "4c60080a-b602-4753-9f3a-036b41f83b44",
   "metadata": {},
   "outputs": [],
   "source": [
    "import <packagename>\n",
    "dir(<packagename>)\n",
    "in that A to Z will be given by one method tell me that"
   ]
  },
  {
   "cell_type": "code",
   "execution_count": 9,
   "id": "353e9c3e-15b2-4515-82e7-8e731951151c",
   "metadata": {},
   "outputs": [
    {
     "data": {
      "text/plain": [
       "['Formatter',\n",
       " 'Template',\n",
       " '_ChainMap',\n",
       " '__all__',\n",
       " '__builtins__',\n",
       " '__cached__',\n",
       " '__doc__',\n",
       " '__file__',\n",
       " '__loader__',\n",
       " '__name__',\n",
       " '__package__',\n",
       " '__spec__',\n",
       " '_re',\n",
       " '_sentinel_dict',\n",
       " '_string',\n",
       " 'ascii_letters',\n",
       " 'ascii_lowercase',\n",
       " 'ascii_uppercase',\n",
       " 'capwords',\n",
       " 'digits',\n",
       " 'hexdigits',\n",
       " 'octdigits',\n",
       " 'printable',\n",
       " 'punctuation',\n",
       " 'whitespace']"
      ]
     },
     "execution_count": 9,
     "metadata": {},
     "output_type": "execute_result"
    }
   ],
   "source": [
    "import string\n",
    "dir(string)"
   ]
  },
  {
   "cell_type": "code",
   "execution_count": 10,
   "id": "ac0ed8ef-2db2-4aa9-893b-3a0088641330",
   "metadata": {},
   "outputs": [
    {
     "data": {
      "text/plain": [
       "'abcdefghijklmnopqrstuvwxyzABCDEFGHIJKLMNOPQRSTUVWXYZ'"
      ]
     },
     "execution_count": 10,
     "metadata": {},
     "output_type": "execute_result"
    }
   ],
   "source": [
    "string.ascii_letters"
   ]
  },
  {
   "cell_type": "code",
   "execution_count": 11,
   "id": "d35dbac9-a963-4df0-bedd-f83b464eb7f7",
   "metadata": {},
   "outputs": [
    {
     "data": {
      "text/plain": [
       "'abcdefghijklmnopqrstuvwxyz'"
      ]
     },
     "execution_count": 11,
     "metadata": {},
     "output_type": "execute_result"
    }
   ],
   "source": [
    "string.ascii_lowercase"
   ]
  },
  {
   "cell_type": "code",
   "execution_count": 12,
   "id": "fa557638-dae0-4e02-bcc2-e7349a95f022",
   "metadata": {},
   "outputs": [
    {
     "data": {
      "text/plain": [
       "'ABCDEFGHIJKLMNOPQRSTUVWXYZ'"
      ]
     },
     "execution_count": 12,
     "metadata": {},
     "output_type": "execute_result"
    }
   ],
   "source": [
    "string.ascii_uppercase"
   ]
  },
  {
   "cell_type": "code",
   "execution_count": 13,
   "id": "66ed720e-843c-4a46-9bbc-6cca2f788f2b",
   "metadata": {},
   "outputs": [
    {
     "data": {
      "text/plain": [
       "'!\"#$%&\\'()*+,-./:;<=>?@[\\\\]^_`{|}~'"
      ]
     },
     "execution_count": 13,
     "metadata": {},
     "output_type": "execute_result"
    }
   ],
   "source": [
    "string.punctuation"
   ]
  },
  {
   "cell_type": "code",
   "execution_count": 14,
   "id": "f95055b1-7ea1-4b72-86c9-ace8e2e4d284",
   "metadata": {},
   "outputs": [
    {
     "data": {
      "text/plain": [
       "'0123456789'"
      ]
     },
     "execution_count": 14,
     "metadata": {},
     "output_type": "execute_result"
    }
   ],
   "source": [
    "string.digits"
   ]
  },
  {
   "cell_type": "code",
   "execution_count": 7,
   "id": "479dc91b-9726-4231-a472-76d0f23371d8",
   "metadata": {},
   "outputs": [
    {
     "name": "stdout",
     "output_type": "stream",
     "text": [
      "A:65 B:66 C:67 D:68 E:69 F:70 G:71 H:72 I:73 J:74 K:75 L:76 M:77 N:78 O:79 P:80 Q:81 R:82 S:83 T:84 U:85 V:86 W:87 X:88 Y:89 Z:90 "
     ]
    }
   ],
   "source": [
    "for i in string.ascii_uppercase:\n",
    "    print(f'{i}:{ord(i)}',end=' ')"
   ]
  },
  {
   "cell_type": "code",
   "execution_count": 16,
   "id": "4b15bb92-6d69-4499-954f-2ce5bee9f104",
   "metadata": {},
   "outputs": [
    {
     "name": "stdout",
     "output_type": "stream",
     "text": [
      "a:97 b:98 c:99 d:100 e:101 f:102 g:103 h:104 i:105 j:106 k:107 l:108 m:109 n:110 o:111 p:112 q:113 r:114 s:115 t:116 u:117 v:118 w:119 x:120 y:121 z:122 "
     ]
    }
   ],
   "source": [
    "for i in string.ascii_lowercase:\n",
    "    print(f'{i}:{ord(i)}',end=' ')"
   ]
  },
  {
   "cell_type": "code",
   "execution_count": 17,
   "id": "38264308-61f4-4292-af62-ea64a49d974f",
   "metadata": {},
   "outputs": [
    {
     "name": "stdout",
     "output_type": "stream",
     "text": [
      "!:33 \":34 #:35 $:36 %:37 &:38 ':39 (:40 ):41 *:42 +:43 ,:44 -:45 .:46 /:47 ::58 ;:59 <:60 =:61 >:62 ?:63 @:64 [:91 \\:92 ]:93 ^:94 _:95 `:96 {:123 |:124 }:125 ~:126 "
     ]
    }
   ],
   "source": [
    "for i in string.punctuation:\n",
    "    print(f'{i}:{ord(i)}',end=' ')"
   ]
  },
  {
   "cell_type": "code",
   "execution_count": 18,
   "id": "83dafae4-8d0f-4023-8ff0-f3504b7c7969",
   "metadata": {},
   "outputs": [
    {
     "name": "stdout",
     "output_type": "stream",
     "text": [
      "33:! 34:\" 35:# 36:$ 37:% 38:& 39:' 40:( 41:) 42:* 43:+ 44:, 45:- 46:. 47:/ 48:0 49:1 50:2 51:3 52:4 53:5 54:6 55:7 56:8 57:9 58:: 59:; 60:< 61:= 62:> 63:? 64:@ 65:A 66:B 67:C 68:D 69:E 70:F 71:G 72:H 73:I 74:J 75:K 76:L 77:M 78:N 79:O 80:P 81:Q 82:R 83:S 84:T 85:U 86:V 87:W 88:X 89:Y 90:Z 91:[ 92:\\ 93:] 94:^ 95:_ 96:` 97:a 98:b 99:c 100:d 101:e 102:f 103:g 104:h 105:i 106:j 107:k 108:l 109:m 110:n 111:o 112:p 113:q 114:r 115:s 116:t 117:u 118:v 119:w 120:x 121:y 122:z 123:{ 124:| 125:} 126:~ "
     ]
    }
   ],
   "source": [
    "for i in range(33,127):\n",
    "    print(f'{i}:{chr(i)}',end=' ')"
   ]
  },
  {
   "cell_type": "code",
   "execution_count": 19,
   "id": "59ba2eb1-4766-41b0-ae33-ad7dcc6786d3",
   "metadata": {},
   "outputs": [
    {
     "name": "stdout",
     "output_type": "stream",
     "text": [
      "1:\u0001 2:\u0002 3:\u0003 4:\u0004 5:\u0005 6:\u0006 7:\u0007 8 9:\t 10:\n",
      " 14:\u000e 15:\u000f 16:\u0010 17:\u0011 18:\u0012 19:\u0013 20:\u0014 21:\u0015 22:\u0016 23:\u0017 24:\u0018 25:\u0019 26:\u001a 27:\u001b 28:\u001c",
      " 29:\u001d",
      " 30:\u001e",
      " 31:\u001f 32:  "
     ]
    }
   ],
   "source": [
    "for i in range(1,33):\n",
    "    print(f'{i}:{chr(i)}',end=' ')"
   ]
  },
  {
   "cell_type": "code",
   "execution_count": 20,
   "id": "d66321c1-0bdd-4d0f-92f7-98f1acf23609",
   "metadata": {},
   "outputs": [
    {
     "name": "stdout",
     "output_type": "stream",
     "text": [
      "127: 128: 129: 130: 131: 132: 133:",
      " 134: 135: 136: 137: 138: 139: 140: 141: 142: 143: 144: 145: 146: 147: 148: 149: 150: 151: 152: 153: 154: 155: 156: 157: 158: 159: 160:  161:¡ 162:¢ 163:£ 164:¤ 165:¥ 166:¦ 167:§ 168:¨ 169:© 170:ª 171:« 172:¬ 173:­ 174:® 175:¯ 176:° 177:± 178:² 179:³ 180:´ 181:µ 182:¶ 183:· 184:¸ 185:¹ 186:º 187:» 188:¼ 189:½ 190:¾ 191:¿ 192:À 193:Á 194:Â 195:Ã 196:Ä 197:Å 198:Æ 199:Ç 200:È 201:É 202:Ê 203:Ë 204:Ì 205:Í 206:Î 207:Ï 208:Ð 209:Ñ 210:Ò 211:Ó 212:Ô 213:Õ 214:Ö 215:× 216:Ø 217:Ù 218:Ú 219:Û 220:Ü 221:Ý 222:Þ 223:ß 224:à 225:á 226:â 227:ã 228:ä 229:å 230:æ 231:ç 232:è 233:é 234:ê 235:ë 236:ì 237:í 238:î 239:ï 240:ð 241:ñ 242:ò 243:ó 244:ô 245:õ 246:ö 247:÷ 248:ø 249:ù "
     ]
    }
   ],
   "source": [
    "for i in range(127,250):\n",
    "    print(f'{i}:{chr(i)}',end=' ')"
   ]
  },
  {
   "cell_type": "code",
   "execution_count": 22,
   "id": "d93b7309-9c7f-4ef8-9b0f-7b3be9b7c3cd",
   "metadata": {},
   "outputs": [
    {
     "name": "stdout",
     "output_type": "stream",
     "text": [
      "1632:٠ 1633:١ 1634:٢ 1635:٣ 1636:٤ 1637:٥ 1638:٦ 1639:٧ 1640:٨ 1641:٩ 1642:٪ 1643:٫ 1644:٬ 1645:٭ 1646:ٮ 1647:ٯ 1648:ٰ 1649:ٱ 1650:ٲ 1651:ٳ 1652:ٴ 1653:ٵ 1654:ٶ 1655:ٷ 1656:ٸ 1657:ٹ 1658:ٺ 1659:ٻ 1660:ټ 1661:ٽ 1662:پ 1663:ٿ 1664:ڀ 1665:ځ 1666:ڂ 1667:ڃ 1668:ڄ 1669:څ 1670:چ 1671:ڇ 1672:ڈ 1673:ډ 1674:ڊ 1675:ڋ 1676:ڌ 1677:ڍ 1678:ڎ 1679:ڏ 1680:ڐ 1681:ڑ 1682:ڒ 1683:ړ 1684:ڔ 1685:ڕ 1686:ږ 1687:ڗ 1688:ژ 1689:ڙ 1690:ښ 1691:ڛ 1692:ڜ 1693:ڝ 1694:ڞ 1695:ڟ 1696:ڠ 1697:ڡ 1698:ڢ 1699:ڣ "
     ]
    }
   ],
   "source": [
    "for i in range(1632,1700):\n",
    "    print(f'{i}:{chr(i)}',end=' ')"
   ]
  },
  {
   "cell_type": "code",
   "execution_count": 23,
   "id": "25bd5f83-9aea-49d7-b1f3-51d572c83b8e",
   "metadata": {},
   "outputs": [
    {
     "name": "stdout",
     "output_type": "stream",
     "text": [
      "2308:ऄ 2309:अ 2310:आ 2311:इ 2312:ई 2313:उ 2314:ऊ 2315:ऋ 2316:ऌ 2317:ऍ 2318:ऎ 2319:ए 2320:ऐ 2321:ऑ 2322:ऒ 2323:ओ 2324:औ 2325:क 2326:ख 2327:ग 2328:घ 2329:ङ 2330:च 2331:छ 2332:ज 2333:झ 2334:ञ 2335:ट 2336:ठ 2337:ड 2338:ढ 2339:ण 2340:त 2341:थ 2342:द 2343:ध 2344:न 2345:ऩ 2346:प 2347:फ 2348:ब 2349:भ 2350:म 2351:य 2352:र 2353:ऱ 2354:ल 2355:ळ 2356:ऴ 2357:व 2358:श 2359:ष 2360:स 2361:ह 2362:ऺ 2363:ऻ 2364:़ 2365:ऽ 2366:ा 2367:ि 2368:ी 2369:ु 2370:ू 2371:ृ 2372:ॄ 2373:ॅ 2374:ॆ 2375:े 2376:ै 2377:ॉ 2378:ॊ 2379:ो 2380:ौ 2381:् 2382:ॎ 2383:ॏ 2384:ॐ 2385:॑ 2386:॒ 2387:॓ 2388:॔ 2389:ॕ 2390:ॖ 2391:ॗ 2392:क़ 2393:ख़ 2394:ग़ 2395:ज़ 2396:ड़ 2397:ढ़ 2398:फ़ 2399:य़ "
     ]
    }
   ],
   "source": [
    "for i in range(2308,2400):\n",
    "    print(f'{i}:{chr(i)}',end=' ')"
   ]
  },
  {
   "cell_type": "code",
   "execution_count": 24,
   "id": "a5642ae4-9799-4e18-8873-fb435399abe8",
   "metadata": {},
   "outputs": [
    {
     "name": "stdout",
     "output_type": "stream",
     "text": [
      "2693:અ 2694:આ 2695:ઇ 2696:ઈ 2697:ઉ 2698:ઊ 2699:ઋ 2700:ઌ 2701:ઍ 2702:઎ 2703:એ 2704:ઐ 2705:ઑ 2706:઒ 2707:ઓ 2708:ઔ 2709:ક 2710:ખ 2711:ગ 2712:ઘ 2713:ઙ 2714:ચ 2715:છ 2716:જ 2717:ઝ 2718:ઞ 2719:ટ 2720:ઠ 2721:ડ 2722:ઢ 2723:ણ 2724:ત 2725:થ 2726:દ 2727:ધ 2728:ન 2729:઩ 2730:પ 2731:ફ 2732:બ 2733:ભ 2734:મ 2735:ય 2736:ર 2737:઱ 2738:લ 2739:ળ 2740:઴ 2741:વ 2742:શ 2743:ષ 2744:સ 2745:હ 2746:઺ 2747:઻ 2748:઼ 2749:ઽ "
     ]
    }
   ],
   "source": [
    "for i in range(2693,2750):\n",
    "    print(f'{i}:{chr(i)}',end=' ')"
   ]
  },
  {
   "cell_type": "code",
   "execution_count": 25,
   "id": "c6118791-a3bf-4e02-b7c1-0975d36c2731",
   "metadata": {},
   "outputs": [
    {
     "name": "stdout",
     "output_type": "stream",
     "text": [
      "3077:అ 3078:ఆ 3079:ఇ 3080:ఈ 3081:ఉ 3082:ఊ 3083:ఋ 3084:ఌ 3085:఍ 3086:ఎ 3087:ఏ 3088:ఐ 3089:఑ 3090:ఒ 3091:ఓ 3092:ఔ 3093:క 3094:ఖ 3095:గ 3096:ఘ 3097:ఙ 3098:చ 3099:ఛ 3100:జ 3101:ఝ 3102:ఞ 3103:ట 3104:ఠ 3105:డ 3106:ఢ 3107:ణ 3108:త 3109:థ 3110:ద 3111:ధ 3112:న 3113:఩ 3114:ప 3115:ఫ 3116:బ 3117:భ 3118:మ 3119:య 3120:ర 3121:ఱ 3122:ల 3123:ళ 3124:ఴ 3125:వ 3126:శ 3127:ష 3128:స 3129:హ 3130:఺ 3131:఻ 3132:఼ 3133:ఽ 3134:ా 3135:ి 3136:ీ 3137:ు 3138:ూ 3139:ృ 3140:ౄ 3141:౅ 3142:ె 3143:ే 3144:ై 3145:౉ 3146:ొ 3147:ో 3148:ౌ 3149:్ "
     ]
    }
   ],
   "source": [
    "for i in range(3077,3150):\n",
    "    print(f'{i}:{chr(i)}',end=' ')"
   ]
  },
  {
   "cell_type": "code",
   "execution_count": null,
   "id": "65a5bf07-29f3-44e7-8877-99cf2a513558",
   "metadata": {},
   "outputs": [],
   "source": []
  }
 ],
 "metadata": {
  "kernelspec": {
   "display_name": "Python 3 (ipykernel)",
   "language": "python",
   "name": "python3"
  },
  "language_info": {
   "codemirror_mode": {
    "name": "ipython",
    "version": 3
   },
   "file_extension": ".py",
   "mimetype": "text/x-python",
   "name": "python",
   "nbconvert_exporter": "python",
   "pygments_lexer": "ipython3",
   "version": "3.12.7"
  }
 },
 "nbformat": 4,
 "nbformat_minor": 5
}
