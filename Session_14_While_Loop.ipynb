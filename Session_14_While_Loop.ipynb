{
 "cells": [
  {
   "cell_type": "markdown",
   "id": "609baa7a-47b5-42b5-828d-12bec71a90f3",
   "metadata": {},
   "source": [
    "**While loop**\n",
    "\n",
    "- intialization to start\n",
    "\n",
    "- increment or decrement\n",
    "\n",
    "- condition to stop"
   ]
  },
  {
   "cell_type": "code",
   "execution_count": null,
   "id": "5634661a-7814-40c8-be99-d4198a812972",
   "metadata": {},
   "outputs": [],
   "source": [
    "for i in range(1,10)\n",
    "in a single line we have start=1  increment +1  stop 10-1=9  "
   ]
  },
  {
   "cell_type": "code",
   "execution_count": null,
   "id": "fbec244c-2747-4c71-9199-80fc0d839244",
   "metadata": {},
   "outputs": [],
   "source": [
    "<intialization>\n",
    "\n",
    "while <condition>:\n",
    "    <write your code here>\n",
    "\n",
    "    increment/decrement"
   ]
  },
  {
   "cell_type": "code",
   "execution_count": 1,
   "id": "3383937e-be41-4230-a991-d7f254a331ed",
   "metadata": {},
   "outputs": [
    {
     "name": "stdout",
     "output_type": "stream",
     "text": [
      "1 2 3 4 5 6 7 8 9 "
     ]
    }
   ],
   "source": [
    "for i in range(1,10):\n",
    "    print(i,end=' ')"
   ]
  },
  {
   "cell_type": "code",
   "execution_count": null,
   "id": "8917c14d-4e60-4ff0-8306-30a6a11115bc",
   "metadata": {},
   "outputs": [],
   "source": [
    "#for i in range(1,10) ===== > 3 lines\n",
    "\n",
    "i=1\n",
    "while <con>:\n",
    "    i=i+1\n",
    "\n",
    "Rule:1\n",
    "tell me the condition that become True\n",
    "then only i can enter inside the while loop\n",
    "\n",
    "Rule:2\n",
    "  valid condition\n",
    "i<10   True  yes\n",
    "i<11   True  No\n",
    "i<12\n",
    "i<13"
   ]
  },
  {
   "cell_type": "code",
   "execution_count": 2,
   "id": "95907a20-3628-407f-9e92-fc81b057cb39",
   "metadata": {},
   "outputs": [
    {
     "name": "stdout",
     "output_type": "stream",
     "text": [
      "1 2 "
     ]
    }
   ],
   "source": [
    "#for i in range(1,10):\n",
    "#    print(i,end=' ')\n",
    "\n",
    "i=1\n",
    "while i<3:\n",
    "    print(i,end=' ')\n",
    "    i=i+1\n",
    "\n",
    "# step-1: i=1  while 1<3  True  print(1)  i=1+1=2\n",
    "# step-2: i=2  while 2<3  True  print(2)  i=2+1=3\n",
    "# step-3: i=3  while 3<3  False"
   ]
  },
  {
   "cell_type": "code",
   "execution_count": null,
   "id": "df1dc0f9-2ef4-4c7e-939a-ca879fe808ef",
   "metadata": {},
   "outputs": [],
   "source": [
    "# Q1) print 1 to 10\n",
    "# Q2) Print 10 to 1\n",
    "# Q3) Print -1 to -10\n",
    "# Q4) print -10 to -1\n",
    "\n",
    "# write intialization first\n",
    "# dont write condition now\n",
    "# write increment or decrement\n",
    "# then think about condition"
   ]
  },
  {
   "cell_type": "code",
   "execution_count": 3,
   "id": "35234ee2-8511-4edf-a331-f169955e3f4f",
   "metadata": {},
   "outputs": [
    {
     "name": "stdout",
     "output_type": "stream",
     "text": [
      "1\n",
      "2\n",
      "3\n",
      "4\n",
      "5\n",
      "6\n",
      "7\n",
      "8\n",
      "9\n",
      "10\n"
     ]
    }
   ],
   "source": [
    "# Q1) print 1 to 10\n",
    "\n",
    "i=1\n",
    "while i<11:\n",
    "    print(i)\n",
    "    i=i+1"
   ]
  },
  {
   "cell_type": "code",
   "execution_count": 4,
   "id": "ec17cd74-78d1-4561-9a6d-bf395c351f5a",
   "metadata": {},
   "outputs": [
    {
     "name": "stdout",
     "output_type": "stream",
     "text": [
      "10\n",
      "9\n",
      "8\n",
      "7\n",
      "6\n",
      "5\n",
      "4\n",
      "3\n",
      "2\n",
      "1\n"
     ]
    }
   ],
   "source": [
    "# Q2) Print 10 to 1\n",
    "\n",
    "i=10\n",
    "while i>=1:\n",
    "    print(i)\n",
    "    i=i-1"
   ]
  },
  {
   "cell_type": "code",
   "execution_count": 5,
   "id": "363cd26f-4a9a-42ea-b0dc-a79dfad02d60",
   "metadata": {},
   "outputs": [
    {
     "name": "stdout",
     "output_type": "stream",
     "text": [
      "10\n",
      "9\n",
      "8\n",
      "7\n",
      "6\n",
      "5\n",
      "4\n",
      "3\n",
      "2\n",
      "1\n"
     ]
    }
   ],
   "source": [
    "i=10\n",
    "while True:\n",
    "    print(i)\n",
    "    i=i-1\n",
    "    if i==0:\n",
    "        break"
   ]
  },
  {
   "cell_type": "code",
   "execution_count": null,
   "id": "f21c7031-2547-4b12-9aa5-1cabd8ce0229",
   "metadata": {},
   "outputs": [],
   "source": [
    "i=10\n",
    "while i>=1:\n",
    "    print(i)\n",
    "    i=i-1\n",
    "\n",
    "i=10\n",
    "while True:\n",
    "    print(i)\n",
    "    i=i-1\n",
    "    if i==0:\n",
    "        break"
   ]
  },
  {
   "cell_type": "code",
   "execution_count": 8,
   "id": "01adb232-57e2-47ce-8684-8eb4d1de0e14",
   "metadata": {},
   "outputs": [
    {
     "name": "stdout",
     "output_type": "stream",
     "text": [
      "-1\n",
      "-2\n",
      "-3\n",
      "-4\n",
      "-5\n",
      "-6\n",
      "-7\n",
      "-8\n",
      "-9\n",
      "-10\n"
     ]
    }
   ],
   "source": [
    "# Q3) Print -1 to -10\n",
    "\n",
    "i=-1\n",
    "while i>=-10:\n",
    "    print(i)\n",
    "    i=i-1"
   ]
  },
  {
   "cell_type": "code",
   "execution_count": 10,
   "id": "11b5a01a-abca-4249-850e-09f72c758e2e",
   "metadata": {},
   "outputs": [
    {
     "name": "stdout",
     "output_type": "stream",
     "text": [
      "-10\n",
      "-9\n",
      "-8\n",
      "-7\n",
      "-6\n",
      "-5\n",
      "-4\n",
      "-3\n",
      "-2\n",
      "-1\n"
     ]
    }
   ],
   "source": [
    "# Q4) print -10 to -1\n",
    "\n",
    "i=-10\n",
    "while i<=-1:\n",
    "    print(i)\n",
    "    i=i+1"
   ]
  },
  {
   "cell_type": "code",
   "execution_count": 6,
   "id": "95f572b6-dc59-4455-a951-434cd8493e1e",
   "metadata": {},
   "outputs": [
    {
     "name": "stdin",
     "output_type": "stream",
     "text": [
      " 2\n"
     ]
    },
    {
     "name": "stdout",
     "output_type": "stream",
     "text": [
      "fail\n"
     ]
    },
    {
     "name": "stdin",
     "output_type": "stream",
     "text": [
      " 4\n"
     ]
    },
    {
     "name": "stdout",
     "output_type": "stream",
     "text": [
      "fail\n"
     ]
    },
    {
     "name": "stdin",
     "output_type": "stream",
     "text": [
      " 5\n"
     ]
    },
    {
     "name": "stdout",
     "output_type": "stream",
     "text": [
      "fail\n"
     ]
    },
    {
     "name": "stdin",
     "output_type": "stream",
     "text": [
      " 9\n"
     ]
    },
    {
     "name": "stdout",
     "output_type": "stream",
     "text": [
      "fail\n"
     ]
    },
    {
     "name": "stdin",
     "output_type": "stream",
     "text": [
      " 7\n"
     ]
    },
    {
     "name": "stdout",
     "output_type": "stream",
     "text": [
      "fail\n"
     ]
    },
    {
     "name": "stdin",
     "output_type": "stream",
     "text": [
      " 1\n"
     ]
    },
    {
     "name": "stdout",
     "output_type": "stream",
     "text": [
      "fail\n"
     ]
    },
    {
     "name": "stdin",
     "output_type": "stream",
     "text": [
      " 2\n"
     ]
    },
    {
     "name": "stdout",
     "output_type": "stream",
     "text": [
      "fail\n"
     ]
    },
    {
     "name": "stdin",
     "output_type": "stream",
     "text": [
      " 3\n"
     ]
    },
    {
     "name": "stdout",
     "output_type": "stream",
     "text": [
      "fail\n"
     ]
    },
    {
     "name": "stdin",
     "output_type": "stream",
     "text": [
      " 6\n"
     ]
    },
    {
     "name": "stdout",
     "output_type": "stream",
     "text": [
      "fail\n"
     ]
    },
    {
     "name": "stdin",
     "output_type": "stream",
     "text": [
      " 8\n"
     ]
    },
    {
     "name": "stdout",
     "output_type": "stream",
     "text": [
      "fail\n"
     ]
    },
    {
     "name": "stdin",
     "output_type": "stream",
     "text": [
      " 5\n"
     ]
    },
    {
     "name": "stdout",
     "output_type": "stream",
     "text": [
      "fail\n"
     ]
    },
    {
     "name": "stdin",
     "output_type": "stream",
     "text": [
      " 4\n"
     ]
    },
    {
     "name": "stdout",
     "output_type": "stream",
     "text": [
      "fail\n"
     ]
    },
    {
     "name": "stdin",
     "output_type": "stream",
     "text": [
      " 2\n"
     ]
    },
    {
     "name": "stdout",
     "output_type": "stream",
     "text": [
      "fail\n"
     ]
    },
    {
     "name": "stdin",
     "output_type": "stream",
     "text": [
      " 2\n"
     ]
    },
    {
     "name": "stdout",
     "output_type": "stream",
     "text": [
      "fail\n"
     ]
    },
    {
     "name": "stdin",
     "output_type": "stream",
     "text": [
      " 2\n"
     ]
    },
    {
     "name": "stdout",
     "output_type": "stream",
     "text": [
      "fail\n"
     ]
    },
    {
     "name": "stdin",
     "output_type": "stream",
     "text": [
      " 2\n"
     ]
    },
    {
     "name": "stdout",
     "output_type": "stream",
     "text": [
      "fail\n"
     ]
    },
    {
     "name": "stdin",
     "output_type": "stream",
     "text": [
      " 2\n"
     ]
    },
    {
     "name": "stdout",
     "output_type": "stream",
     "text": [
      "fail\n"
     ]
    },
    {
     "name": "stdin",
     "output_type": "stream",
     "text": [
      " 2\n"
     ]
    },
    {
     "name": "stdout",
     "output_type": "stream",
     "text": [
      "fail\n"
     ]
    },
    {
     "name": "stdin",
     "output_type": "stream",
     "text": [
      " 2\n"
     ]
    },
    {
     "name": "stdout",
     "output_type": "stream",
     "text": [
      "fail\n"
     ]
    },
    {
     "name": "stdin",
     "output_type": "stream",
     "text": [
      " 2\n"
     ]
    },
    {
     "name": "stdout",
     "output_type": "stream",
     "text": [
      "fail\n"
     ]
    },
    {
     "name": "stdin",
     "output_type": "stream",
     "text": [
      " 2\n"
     ]
    },
    {
     "name": "stdout",
     "output_type": "stream",
     "text": [
      "fail\n"
     ]
    },
    {
     "name": "stdin",
     "output_type": "stream",
     "text": [
      " 2\n"
     ]
    },
    {
     "name": "stdout",
     "output_type": "stream",
     "text": [
      "fail\n"
     ]
    },
    {
     "name": "stdin",
     "output_type": "stream",
     "text": [
      " 2\n"
     ]
    },
    {
     "name": "stdout",
     "output_type": "stream",
     "text": [
      "fail\n"
     ]
    },
    {
     "name": "stdin",
     "output_type": "stream",
     "text": [
      " 2\n"
     ]
    },
    {
     "name": "stdout",
     "output_type": "stream",
     "text": [
      "won\n"
     ]
    }
   ],
   "source": [
    "import random\n",
    "while True:\n",
    "    num1=random.randint(1,10)\n",
    "    num2=eval(input())\n",
    "    if num1==num2:\n",
    "        print('won')\n",
    "        break\n",
    "    else:\n",
    "        print('fail')"
   ]
  },
  {
   "cell_type": "code",
   "execution_count": 7,
   "id": "cae9ecc1-f5ce-4e2e-aa91-300cb77d15c6",
   "metadata": {},
   "outputs": [
    {
     "name": "stdin",
     "output_type": "stream",
     "text": [
      " 2\n"
     ]
    },
    {
     "name": "stdout",
     "output_type": "stream",
     "text": [
      "fail\n"
     ]
    },
    {
     "name": "stdin",
     "output_type": "stream",
     "text": [
      " 4\n"
     ]
    },
    {
     "name": "stdout",
     "output_type": "stream",
     "text": [
      "fail\n"
     ]
    },
    {
     "name": "stdin",
     "output_type": "stream",
     "text": [
      " 6\n"
     ]
    },
    {
     "name": "stdout",
     "output_type": "stream",
     "text": [
      "fail\n"
     ]
    }
   ],
   "source": [
    "import random\n",
    "i=1\n",
    "while i<=3:\n",
    "    num1=random.randint(1,10)\n",
    "    num2=eval(input())\n",
    "    if num1==num2:\n",
    "        print('won')\n",
    "        break\n",
    "    else:\n",
    "        print('fail')\n",
    "    i=i+1    "
   ]
  },
  {
   "cell_type": "code",
   "execution_count": null,
   "id": "82e1b9e8-c73f-4d78-96f9-439ba4f26c1f",
   "metadata": {},
   "outputs": [],
   "source": []
  },
  {
   "cell_type": "code",
   "execution_count": null,
   "id": "b332ade0-9179-4240-8b6d-8996e12afb36",
   "metadata": {},
   "outputs": [],
   "source": []
  }
 ],
 "metadata": {
  "kernelspec": {
   "display_name": "Python 3 (ipykernel)",
   "language": "python",
   "name": "python3"
  },
  "language_info": {
   "codemirror_mode": {
    "name": "ipython",
    "version": 3
   },
   "file_extension": ".py",
   "mimetype": "text/x-python",
   "name": "python",
   "nbconvert_exporter": "python",
   "pygments_lexer": "ipython3",
   "version": "3.12.7"
  }
 },
 "nbformat": 4,
 "nbformat_minor": 5
}
