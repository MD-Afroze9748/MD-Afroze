{
 "cells": [
  {
   "cell_type": "code",
   "execution_count": 2,
   "id": "0535e98c-ce00-470c-ba48-ab90cf2583f8",
   "metadata": {},
   "outputs": [
    {
     "data": {
      "text/plain": [
       "20"
      ]
     },
     "execution_count": 2,
     "metadata": {},
     "output_type": "execute_result"
    }
   ],
   "source": [
    "a=10\n",
    "b=20\n",
    "a\n",
    "b"
   ]
  },
  {
   "cell_type": "code",
   "execution_count": 3,
   "id": "f8fc725c-12d4-4300-8274-b26d715b4d0c",
   "metadata": {},
   "outputs": [
    {
     "name": "stdout",
     "output_type": "stream",
     "text": [
      "10\n",
      "20\n"
     ]
    }
   ],
   "source": [
    "a=10\n",
    "b=20\n",
    "print(a)\n",
    "print(b)"
   ]
  },
  {
   "cell_type": "code",
   "execution_count": 4,
   "id": "4aeb0335-00f6-4d33-898a-7431c45d6e10",
   "metadata": {},
   "outputs": [
    {
     "name": "stdout",
     "output_type": "stream",
     "text": [
      "10\n",
      "20\n"
     ]
    }
   ],
   "source": [
    "print(10)\n",
    "print(20)"
   ]
  },
  {
   "cell_type": "code",
   "execution_count": 5,
   "id": "e4ed77c3-5074-4ad4-81a9-eae90d84762e",
   "metadata": {},
   "outputs": [
    {
     "name": "stdout",
     "output_type": "stream",
     "text": [
      "10\n",
      "20\n"
     ]
    },
    {
     "data": {
      "text/plain": [
       "(None, None)"
      ]
     },
     "execution_count": 5,
     "metadata": {},
     "output_type": "execute_result"
    }
   ],
   "source": [
    "print(10),print(20)"
   ]
  },
  {
   "cell_type": "code",
   "execution_count": 6,
   "id": "814e8e66-4db6-4535-b9b9-4b8a01e6dd72",
   "metadata": {},
   "outputs": [
    {
     "data": {
      "text/plain": [
       "(10, 20)"
      ]
     },
     "execution_count": 6,
     "metadata": {},
     "output_type": "execute_result"
    }
   ],
   "source": [
    "10,20"
   ]
  },
  {
   "cell_type": "code",
   "execution_count": 7,
   "id": "dfe4d8e1-19a5-478a-b7aa-fa87f61cc736",
   "metadata": {},
   "outputs": [
    {
     "name": "stdout",
     "output_type": "stream",
     "text": [
      "10 20\n"
     ]
    }
   ],
   "source": [
    "print(a,b)"
   ]
  },
  {
   "cell_type": "code",
   "execution_count": 7,
   "id": "8a2f9be4-1052-469e-b877-7ec190e22683",
   "metadata": {},
   "outputs": [
    {
     "name": "stdout",
     "output_type": "stream",
     "text": [
      "30 Nareshit Hyd\n"
     ]
    }
   ],
   "source": [
    "print(30,'Nareshit','Hyd')\n",
    "# 3 values"
   ]
  },
  {
   "cell_type": "code",
   "execution_count": 14,
   "id": "c3e303b9-943f-4e27-b504-959fea0962ab",
   "metadata": {},
   "outputs": [
    {
     "name": "stdout",
     "output_type": "stream",
     "text": [
      "the addition of 100 and 200 is 300\n",
      "the addition of num1 and num2 is 300\n",
      "the addition of 1000 and 200 is 1200\n"
     ]
    }
   ],
   "source": [
    "num1=1000\n",
    "num2=200\n",
    "add=num1+num2\n",
    "# the addition of 100 and 200 is 300\n",
    "print(\"the addition of 100 and 200 is 300\")\n",
    "print(\"the addition of num1 and num2 is 300\")\n",
    "print(\"the addition of\",num1,\"and\",num2,\"is\",add)"
   ]
  },
  {
   "cell_type": "code",
   "execution_count": 10,
   "id": "65e92dc5-99de-4ea0-952b-efe9b86f3684",
   "metadata": {},
   "outputs": [
    {
     "name": "stdout",
     "output_type": "stream",
     "text": [
      "my name is python im 10 years old and came from hyd\n",
      "my name is name im age years old and came from city\n",
      "my name is python im 10 years old and came from hyd\n"
     ]
    }
   ],
   "source": [
    "name=\"python\"\n",
    "age=10\n",
    "city=\"hyd\"\n",
    "# my name is python im 10 years old and came from hyd\n",
    "print(\"my name is python im 10 years old and came from hyd\")\n",
    "print(\"my name is name im age years old and came from city\")\n",
    "print(\"my name is\",name,\"im\",age,\"years old and came from\",city)"
   ]
  },
  {
   "cell_type": "markdown",
   "id": "6788a132-af47-4760-b0e5-b2595ccaf0fa",
   "metadata": {},
   "source": [
    "**Formate**"
   ]
  },
  {
   "cell_type": "code",
   "execution_count": 14,
   "id": "b8354c5b-bf51-433c-9068-6bb6743d623e",
   "metadata": {},
   "outputs": [
    {
     "name": "stdout",
     "output_type": "stream",
     "text": [
      "my name is python im 10 years old and came from hyd\n"
     ]
    }
   ],
   "source": [
    "name=\"python\"\n",
    "age=10\n",
    "city=\"hyd\"\n",
    "print(\"my name is {} im {} years old and came from {}\".format(name,age,city))"
   ]
  },
  {
   "cell_type": "code",
   "execution_count": null,
   "id": "4d646043-b249-4297-b607-10883f814010",
   "metadata": {},
   "outputs": [],
   "source": [
    "name=\"python\"\n",
    "age=10\n",
    "city=\"hyd\"\n",
    "print(\"my name is {} im {} years old and came from {}\".format(city,age,name))"
   ]
  },
  {
   "cell_type": "code",
   "execution_count": 13,
   "id": "eff859cf-dcc2-4e5c-9ee7-5229b6a46c60",
   "metadata": {},
   "outputs": [
    {
     "name": "stdout",
     "output_type": "stream",
     "text": [
      "the addition of 100 and 200 is 300\n",
      "the addition of 1000 and 200 is 1200\n"
     ]
    }
   ],
   "source": [
    "num1=1000\n",
    "num2=200\n",
    "add=num1+num2\n",
    "# the addition of 100 and 200 is 300\n",
    "print(\"the addition of 100 and 200 is 300\")\n",
    "print(\"the addition of {} and {} is {}\".format(num1,num2,add))"
   ]
  },
  {
   "cell_type": "code",
   "execution_count": null,
   "id": "22e64d57-54a3-438f-a140-af6501d38086",
   "metadata": {},
   "outputs": [],
   "source": [
    "# wap take two numbers performs the\n",
    "# subtraction\n",
    "# multiplication\n",
    "# division\n",
    "# print the statement as follows\n",
    "\n",
    "# the subtraction of 100 and 200 is -100\n",
    "# the multiplication of 100 and 200 is 20000\n",
    "# the division of 100 and 200 is 0.5"
   ]
  },
  {
   "cell_type": "code",
   "execution_count": null,
   "id": "427e5a37-7137-4d9c-993d-aa0f11a3e757",
   "metadata": {},
   "outputs": [],
   "source": [
    "# wap take three number performs the average\n",
    "# a,b,c\n",
    "# avg = (a+b+c)/3\n",
    "# print the statement \n",
    "# the avg of a,b,c is : avg"
   ]
  },
  {
   "cell_type": "markdown",
   "id": "b6390e48-b1b0-4993-a227-d56cad110eb1",
   "metadata": {},
   "source": [
    "**mistake-1**"
   ]
  },
  {
   "cell_type": "code",
   "execution_count": 15,
   "id": "8f5424e7-bf06-4a72-b4a7-e595a6efda8e",
   "metadata": {},
   "outputs": [
    {
     "ename": "TypeError",
     "evalue": "'sub' is an invalid keyword argument for print()",
     "output_type": "error",
     "traceback": [
      "\u001b[1;31m---------------------------------------------------------------------------\u001b[0m",
      "\u001b[1;31mTypeError\u001b[0m                                 Traceback (most recent call last)",
      "Cell \u001b[1;32mIn[15], line 3\u001b[0m\n\u001b[0;32m      1\u001b[0m num1\u001b[38;5;241m=\u001b[39m\u001b[38;5;241m100\u001b[39m\n\u001b[0;32m      2\u001b[0m num2\u001b[38;5;241m=\u001b[39m\u001b[38;5;241m200\u001b[39m\n\u001b[1;32m----> 3\u001b[0m \u001b[38;5;28;43mprint\u001b[39;49m\u001b[43m(\u001b[49m\u001b[43msub\u001b[49m\u001b[38;5;241;43m=\u001b[39;49m\u001b[43mnum1\u001b[49m\u001b[38;5;241;43m-\u001b[39;49m\u001b[43mnum2\u001b[49m\u001b[43m)\u001b[49m\n\u001b[0;32m      4\u001b[0m \u001b[38;5;66;03m# print is used for to see the output\u001b[39;00m\n",
      "\u001b[1;31mTypeError\u001b[0m: 'sub' is an invalid keyword argument for print()"
     ]
    }
   ],
   "source": [
    "num1=100\n",
    "num2=200\n",
    "print(sub=num1-num2)\n",
    "# print is used for to see the output"
   ]
  },
  {
   "cell_type": "markdown",
   "id": "159b9547-3350-4191-ae4d-163acf584749",
   "metadata": {},
   "source": [
    "**mistake-2**"
   ]
  },
  {
   "cell_type": "code",
   "execution_count": 19,
   "id": "8ddd2a23-fe0a-4499-96ae-8753bef266d1",
   "metadata": {},
   "outputs": [
    {
     "data": {
      "text/plain": [
       "-100"
      ]
     },
     "execution_count": 19,
     "metadata": {},
     "output_type": "execute_result"
    }
   ],
   "source": [
    "num1=100\n",
    "num2=200\n",
    "sub=num1-num2\n",
    "print(\"the subtraction of num1 and num2 is sub.format\")"
   ]
  },
  {
   "cell_type": "code",
   "execution_count": 20,
   "id": "70e602fc-26fa-482d-8720-4588db9767ef",
   "metadata": {},
   "outputs": [
    {
     "name": "stdout",
     "output_type": "stream",
     "text": [
      "the subtraction of num1 and num2 is sub\n",
      "the subtraction of 100 and 200 is -100\n"
     ]
    }
   ],
   "source": [
    "num1=100\n",
    "num2=200\n",
    "sub=num1-num2\n",
    "print(\"the subtraction of num1 and num2 is sub\")\n",
    "print(\"the subtraction of {} and {} is {}\".format(num1,num2,sub))"
   ]
  },
  {
   "cell_type": "code",
   "execution_count": 21,
   "id": "3e55ceb5-1965-45bb-a2d3-e2720145db11",
   "metadata": {},
   "outputs": [
    {
     "name": "stdout",
     "output_type": "stream",
     "text": [
      "the multiplication of num1 and num2 is mul\n",
      "the multiplication of 100 and 200 is 20000\n"
     ]
    }
   ],
   "source": [
    "num1=100\n",
    "num2=200\n",
    "mul=num1*num2\n",
    "print(\"the multiplication of num1 and num2 is mul\")\n",
    "print(\"the multiplication of {} and {} is {}\".format(num1,num2,mul))"
   ]
  },
  {
   "cell_type": "code",
   "execution_count": 22,
   "id": "6e6c74d3-e799-4de7-a28c-507d1d75d961",
   "metadata": {},
   "outputs": [
    {
     "name": "stdout",
     "output_type": "stream",
     "text": [
      "the division of num1 and num2 is div\n",
      "the division of 100 and 200 is 0.5\n"
     ]
    }
   ],
   "source": [
    "num1=100\n",
    "num2=200\n",
    "div=num1/num2\n",
    "print(\"the division of num1 and num2 is div\")\n",
    "print(\"the division of {} and {} is {}\".format(num1,num2,div))"
   ]
  },
  {
   "cell_type": "code",
   "execution_count": 24,
   "id": "2f6eb139-2c11-4196-8e17-e87cb8690bc0",
   "metadata": {},
   "outputs": [
    {
     "name": "stdout",
     "output_type": "stream",
     "text": [
      "the average of a,b,c is : avg\n",
      "the average of 10,20,30 is : 20.0\n"
     ]
    }
   ],
   "source": [
    "a=10\n",
    "b=20\n",
    "c=30\n",
    "avg=(a+b+c)/3\n",
    "print(\"the average of a,b,c is : avg\")\n",
    "print(\"the average of {},{},{} is : {}\".format(a,b,c,avg))"
   ]
  },
  {
   "cell_type": "code",
   "execution_count": 35,
   "id": "eae7c51e-0ff7-46ab-98bf-b686a6673001",
   "metadata": {},
   "outputs": [
    {
     "name": "stdout",
     "output_type": "stream",
     "text": [
      "==============================ADDITION==============================\n",
      "the addition of 100 and 200 is 300\n",
      "the addition of 100 and 200 is 300\n",
      "==============================SUBTRACTION==============================\n",
      "the subtraction of 100 and 200 is -100\n",
      "the subtraction of 100 and 200 is -100\n",
      "==============================MULTIPLICATION==============================\n",
      "the multiplication of 100 and 200 is 2000\n",
      "the multiplication of 100 and 200 is 20000\n",
      "==============================DIVISION==============================\n",
      "the division of 100 and 200 is 0.5\n",
      "the division of 100 and 200 is 0.5\n",
      "==============================AVERAGE==============================\n",
      "the average of 10,20,30 is 20\n",
      "the average of 100 and 200 is 20.0\n"
     ]
    }
   ],
   "source": [
    "print(\"==============================ADDITION==============================\")\n",
    "num1=100\n",
    "num2=200\n",
    "add=num1+num2\n",
    "# the addition of 100 and 200 is 300 \n",
    "print(\"the addition of 100 and 200 is 300\")\n",
    "print(\"the addition of {} and {} is {}\".format(num1,num2,add))\n",
    "\n",
    "print(\"==============================SUBTRACTION==============================\")\n",
    "\n",
    "num1=100\n",
    "num2=200\n",
    "sub=num1-num2\n",
    "# the subtraction of 100 and 200 is -100\n",
    "print(\"the subtraction of 100 and 200 is -100\")\n",
    "print(\"the subtraction of {} and {} is {}\".format(num1,num2,sub))\n",
    "\n",
    "print(\"==============================MULTIPLICATION==============================\")\n",
    "\n",
    "num1=100\n",
    "num2=200\n",
    "mul=num1*num2\n",
    "# the multiplication of 100 and 200 is 2000\n",
    "print(\"the multiplication of 100 and 200 is 2000\")\n",
    "print(\"the multiplication of {} and {} is {}\".format(num1,num2,mul))\n",
    "\n",
    "print(\"==============================DIVISION==============================\")\n",
    "\n",
    "num1=100\n",
    "num2=200\n",
    "div=num1/num2\n",
    "# the division of 100 and 200 is 0.5\n",
    "print(\"the division of 100 and 200 is 0.5\")\n",
    "print(\"the division of {} and {} is {}\".format(num1,num2,div))\n",
    "\n",
    "print(\"==============================AVERAGE==============================\")\n",
    "\n",
    "a=10\n",
    "b=20\n",
    "c=30\n",
    "avg=(a+b+c)/3\n",
    "# the average of 10,20,30 is 20\n",
    "print(\"the average of 10,20,30 is 20\")\n",
    "print(\"the average of {} and {} is {}\".format(num1,num2,avg))"
   ]
  },
  {
   "cell_type": "markdown",
   "id": "c65535ed-bf0c-402f-9bfd-abbfa8a0e581",
   "metadata": {},
   "source": [
    "**f string: formatted string method**"
   ]
  },
  {
   "cell_type": "code",
   "execution_count": 26,
   "id": "38c83e7f-d448-47d0-8a0e-c0d7838655e5",
   "metadata": {},
   "outputs": [
    {
     "name": "stdout",
     "output_type": "stream",
     "text": [
      "the addition of 100 and 200 is 300\n",
      "the addition of 100 and 200 is 300\n",
      "the addition of 100 and 200 is 300\n"
     ]
    }
   ],
   "source": [
    "num1=100\n",
    "num2=200\n",
    "add=num1+num2\n",
    "print(\"the addition of 100 and 200 is 300\")\n",
    "print(\"the addition of {} and {} is {}\".format(num1,num2,add))\n",
    "print(f\"the addition of {num1} and {num2} is {add}\")"
   ]
  },
  {
   "cell_type": "code",
   "execution_count": 28,
   "id": "0a938db6-780d-4471-a304-c45ae9faf273",
   "metadata": {},
   "outputs": [
    {
     "name": "stdout",
     "output_type": "stream",
     "text": [
      "the substraction of 100 and 200 is -100\n",
      "the substraction of 100 and 200 is -100\n",
      "the substraction of 100 and 200 is -100\n"
     ]
    }
   ],
   "source": [
    "num1=100\n",
    "num2=200\n",
    "sub=num1-num2\n",
    "print(\"the substraction of 100 and 200 is -100\")\n",
    "print(\"the substraction of {} and {} is {}\".format(num1,num2,sub))\n",
    "print(f\"the substraction of {num1} and {num2} is {sub}\")"
   ]
  },
  {
   "cell_type": "code",
   "execution_count": 31,
   "id": "ed8fcf9a-d364-40f9-8ab2-7b978cc1f31a",
   "metadata": {},
   "outputs": [
    {
     "name": "stdout",
     "output_type": "stream",
     "text": [
      "the multiplication of 100 and 200 is 2000\n",
      "the multiplication of 100 and 200 is 20000\n",
      "the multiplication of 100 and 200 is 20000\n"
     ]
    }
   ],
   "source": [
    "num1=100\n",
    "num2=200\n",
    "mul=num1*num2\n",
    "print(\"the multiplication of 100 and 200 is 2000\")\n",
    "print(\"the multiplication of {} and {} is {}\".format(num1,num2,mul))\n",
    "print(f\"the multiplication of {num1} and {num2} is {mul}\")"
   ]
  },
  {
   "cell_type": "code",
   "execution_count": 32,
   "id": "9dd76c47-7ca1-4398-9c48-f91a655c71ff",
   "metadata": {},
   "outputs": [
    {
     "name": "stdout",
     "output_type": "stream",
     "text": [
      "the division of 100 and 200 is 0.5\n",
      "the division of 100 and 200 is 0.5\n",
      "the division of 100 and 200 is 0.5\n"
     ]
    }
   ],
   "source": [
    "num1=100\n",
    "num2=200\n",
    "div=num1/num2\n",
    "print(\"the division of 100 and 200 is 0.5\")\n",
    "print(\"the division of {} and {} is {}\".format(num1,num2,div))\n",
    "print(f\"the division of {num1} and {num2} is {div}\")"
   ]
  },
  {
   "cell_type": "code",
   "execution_count": 36,
   "id": "e1e4c281-3997-4c06-b727-86e22f50eed7",
   "metadata": {},
   "outputs": [
    {
     "name": "stdout",
     "output_type": "stream",
     "text": [
      "the average of 10,20,30 is 20\n",
      "the average of 10,20,30 is 20.0\n",
      "the average of 10,20,30 is 20.0\n"
     ]
    }
   ],
   "source": [
    "a=10\n",
    "b=20\n",
    "c=30\n",
    "avg=(a+b+c)/3\n",
    "print(\"the average of 10,20,30 is 20\")\n",
    "print(\"the average of {},{},{} is {}\".format(a,b,c,avg))\n",
    "print(f\"the average of {a},{b},{c} is {avg}\")"
   ]
  },
  {
   "cell_type": "code",
   "execution_count": 37,
   "id": "61eac683-921d-459e-ab4c-fb9f5bcfd7ba",
   "metadata": {},
   "outputs": [
    {
     "name": "stdout",
     "output_type": "stream",
     "text": [
      "==============================ADDITION==============================\n",
      "the addition of 100 and 200 is 300\n",
      "the addition of 100 and 200 is 300\n",
      "the addition of 100 and 200 is 300\n",
      "==============================SUBTRACTION==============================\n",
      "the subtraction of 100 and 200 is -100\n",
      "the subtraction of 100 and 200 is -100\n",
      "the subtraction of 100 and 200 is -100\n",
      "==============================MULTIPLICATION==============================\n",
      "the multiplication of 100 and 200 is 2000\n",
      "the multiplication of 100 and 200 is 20000\n",
      "the multiplication of 100 and 200 is 20000\n",
      "==============================DIVISION==============================\n",
      "the division of 100 and 200 is 0.5\n",
      "the division of 100 and 200 is 0.5\n",
      "the division of 100 and 200 is 0.5\n",
      "==============================AVERAGE==============================\n",
      "the average of 10,20,30 is 20\n",
      "the average of 10,20,30 is 20.0\n",
      "the average of 10,20,30is 20.0\n"
     ]
    }
   ],
   "source": [
    "print(\"==============================ADDITION==============================\")\n",
    "num1=100\n",
    "num2=200\n",
    "add=num1+num2\n",
    "# the addition of 100 and 200 is 300 \n",
    "print(\"the addition of 100 and 200 is 300\")\n",
    "print(\"the addition of {} and {} is {}\".format(num1,num2,add))\n",
    "print(f\"the addition of {num1} and {num2} is {add}\")\n",
    "\n",
    "print(\"==============================SUBTRACTION==============================\")\n",
    "\n",
    "num1=100\n",
    "num2=200\n",
    "sub=num1-num2\n",
    "# the subtraction of 100 and 200 is -100\n",
    "print(\"the subtraction of 100 and 200 is -100\")\n",
    "print(\"the subtraction of {} and {} is {}\".format(num1,num2,sub))\n",
    "print(f\"the subtraction of {num1} and {num2} is {sub}\")\n",
    "\n",
    "print(\"==============================MULTIPLICATION==============================\")\n",
    "\n",
    "num1=100\n",
    "num2=200\n",
    "mul=num1*num2\n",
    "# the multiplication of 100 and 200 is 2000\n",
    "print(\"the multiplication of 100 and 200 is 2000\")\n",
    "print(\"the multiplication of {} and {} is {}\".format(num1,num2,mul))\n",
    "print(f\"the multiplication of {num1} and {num2} is {mul}\")\n",
    "\n",
    "print(\"==============================DIVISION==============================\")\n",
    "\n",
    "num1=100\n",
    "num2=200\n",
    "div=num1/num2\n",
    "# the division of 100 and 200 is 0.5\n",
    "print(\"the division of 100 and 200 is 0.5\")\n",
    "print(\"the division of {} and {} is {}\".format(num1,num2,div))\n",
    "print(f\"the division of {num1} and {num2} is {div}\")\n",
    "\n",
    "print(\"==============================AVERAGE==============================\")\n",
    "\n",
    "a=10\n",
    "b=20\n",
    "c=30\n",
    "avg=(a+b+c)/3\n",
    "# the average of 10,20,30 is 20\n",
    "print(\"the average of 10,20,30 is 20\")\n",
    "print(\"the average of {},{},{} is {}\".format(a,b,c,avg))\n",
    "print(f\"the average of {a},{b},{c}is {avg}\")"
   ]
  },
  {
   "cell_type": "code",
   "execution_count": 38,
   "id": "0f0c18e7-2d96-41bd-a4ed-85e28ed1fc1f",
   "metadata": {},
   "outputs": [
    {
     "name": "stdout",
     "output_type": "stream",
     "text": [
      "20.333333333333332\n"
     ]
    }
   ],
   "source": [
    "a=11\n",
    "b=20\n",
    "c=30\n",
    "avg=(a+b+c)/3\n",
    "print(avg)"
   ]
  },
  {
   "cell_type": "markdown",
   "id": "424c3fd1-3755-49f3-8f74-88c0f2255487",
   "metadata": {},
   "source": [
    "**round**"
   ]
  },
  {
   "cell_type": "code",
   "execution_count": null,
   "id": "5cbfb9a7-aeba-4d27-90ba-99dbbe621c6f",
   "metadata": {},
   "outputs": [],
   "source": [
    "# print()\n",
    "# type()\n",
    "# int()\n",
    "# float()\n",
    "# str()\n",
    "# bool()\n",
    "# round()\n",
    "\n",
    "#CTRL+A\n",
    "#CTRL+/"
   ]
  },
  {
   "cell_type": "code",
   "execution_count": 39,
   "id": "290c5523-e4be-42ac-a6c7-a634d156d8a9",
   "metadata": {},
   "outputs": [
    {
     "data": {
      "text/plain": [
       "11"
      ]
     },
     "execution_count": 39,
     "metadata": {},
     "output_type": "execute_result"
    }
   ],
   "source": [
    "round(10.77777)  # 10.7 ===> 11"
   ]
  },
  {
   "cell_type": "code",
   "execution_count": 40,
   "id": "d86d9f0b-c6d2-440b-b940-76693145cbf7",
   "metadata": {},
   "outputs": [
    {
     "data": {
      "text/plain": [
       "10.78"
      ]
     },
     "execution_count": 40,
     "metadata": {},
     "output_type": "execute_result"
    }
   ],
   "source": [
    "round(10.77777,2)"
   ]
  },
  {
   "cell_type": "code",
   "execution_count": 41,
   "id": "5f429da5-7e9c-4dbb-8ba7-cb0ee6cbd203",
   "metadata": {},
   "outputs": [
    {
     "data": {
      "text/plain": [
       "10.778"
      ]
     },
     "execution_count": 41,
     "metadata": {},
     "output_type": "execute_result"
    }
   ],
   "source": [
    "round(10.77777,3)"
   ]
  },
  {
   "cell_type": "code",
   "execution_count": 21,
   "id": "f13c7dfc-41ab-4f2f-af32-14c7c451cf8d",
   "metadata": {},
   "outputs": [
    {
     "name": "stdout",
     "output_type": "stream",
     "text": [
      "11\n",
      "10.78\n",
      "10.778\n"
     ]
    }
   ],
   "source": [
    "print(round(10.77777))\n",
    "print(round(10.77777,2))\n",
    "print(round(10.77777,3))"
   ]
  },
  {
   "cell_type": "code",
   "execution_count": 42,
   "id": "1fb1f767-d193-4c29-aaec-48750b184774",
   "metadata": {},
   "outputs": [
    {
     "name": "stdout",
     "output_type": "stream",
     "text": [
      "20.33\n",
      "20.33\n"
     ]
    }
   ],
   "source": [
    "a=11\n",
    "b=20\n",
    "c=30\n",
    "avg=(a+b+c)/3\n",
    "avg1=round(avg,2)\n",
    "print(avg1)\n",
    "print(round(avg,2))"
   ]
  },
  {
   "cell_type": "code",
   "execution_count": 43,
   "id": "22252460-aef2-49d6-9494-e0618e6b680c",
   "metadata": {},
   "outputs": [
    {
     "data": {
      "text/plain": [
       "10.78"
      ]
     },
     "execution_count": 43,
     "metadata": {},
     "output_type": "execute_result"
    }
   ],
   "source": [
    "round(10.778,2)"
   ]
  },
  {
   "cell_type": "markdown",
   "id": "198b8f03-d72c-4d42-a55f-2d9dbc95ffc6",
   "metadata": {},
   "source": [
    "**I have multiple print statements but i want to show in single line**"
   ]
  },
  {
   "cell_type": "code",
   "execution_count": 44,
   "id": "28746318-5fd6-41f8-9b08-fdb88fb0002d",
   "metadata": {},
   "outputs": [
    {
     "name": "stdout",
     "output_type": "stream",
     "text": [
      "10\n",
      "20\n"
     ]
    }
   ],
   "source": [
    "print(10)\n",
    "print(20)"
   ]
  },
  {
   "cell_type": "code",
   "execution_count": 45,
   "id": "3ca6a6f3-d68d-48d6-9c9b-a93a5af29a78",
   "metadata": {},
   "outputs": [
    {
     "data": {
      "text/plain": [
       "(10, 20)"
      ]
     },
     "execution_count": 45,
     "metadata": {},
     "output_type": "execute_result"
    }
   ],
   "source": [
    "10,20"
   ]
  },
  {
   "cell_type": "code",
   "execution_count": 46,
   "id": "c8bb0927-aeee-472a-ba15-0a9a8562c05c",
   "metadata": {},
   "outputs": [
    {
     "name": "stdout",
     "output_type": "stream",
     "text": [
      "10 20\n"
     ]
    }
   ],
   "source": [
    "print(10,20)"
   ]
  },
  {
   "cell_type": "markdown",
   "id": "e5a0e790-8249-47c4-8238-7071e8f991c8",
   "metadata": {},
   "source": [
    "**end**"
   ]
  },
  {
   "cell_type": "code",
   "execution_count": 49,
   "id": "79edb74c-7be0-43c1-a3b1-ad68e2f8483d",
   "metadata": {},
   "outputs": [
    {
     "name": "stdout",
     "output_type": "stream",
     "text": [
      "10====>20\n"
     ]
    }
   ],
   "source": [
    "print(10,end=\"====>\")\n",
    "print(20)"
   ]
  },
  {
   "cell_type": "code",
   "execution_count": 50,
   "id": "0f891ef2-75b3-40e9-82bb-74c05950f896",
   "metadata": {},
   "outputs": [
    {
     "name": "stdout",
     "output_type": "stream",
     "text": [
      "10 20 30\n"
     ]
    }
   ],
   "source": [
    "print(10,end=\" \")\n",
    "print(20,end=\" \")\n",
    "print(30)"
   ]
  },
  {
   "cell_type": "code",
   "execution_count": 51,
   "id": "2951bf32-0bce-48bd-b568-703ef02bceec",
   "metadata": {},
   "outputs": [
    {
     "name": "stdout",
     "output_type": "stream",
     "text": [
      "hello how are you\n"
     ]
    }
   ],
   "source": [
    "print(\"hello\",end=\" \")\n",
    "print(\"how\",end=\" \")\n",
    "print(\"are\",end=\" \")\n",
    "print(\"you\")"
   ]
  },
  {
   "cell_type": "markdown",
   "id": "e7d5922b-3e8e-43cf-8d09-372361b5bb9c",
   "metadata": {},
   "source": [
    "**I have multiple values in a single print statement**"
   ]
  },
  {
   "cell_type": "markdown",
   "id": "899f9588-fdd7-4022-b6cf-d902ce4ac283",
   "metadata": {},
   "source": [
    "**I want print them with some seperation**"
   ]
  },
  {
   "cell_type": "code",
   "execution_count": 54,
   "id": "0f935893-c4b3-4cc8-bbbd-3b8babde862d",
   "metadata": {},
   "outputs": [
    {
     "name": "stdout",
     "output_type": "stream",
     "text": [
      "10 20 30\n"
     ]
    }
   ],
   "source": [
    "print(10,20,30)\n",
    "# 10 ===> 20 ===>30"
   ]
  },
  {
   "cell_type": "markdown",
   "id": "bf296b8f-321c-44d5-ad64-4e8a04f4c08c",
   "metadata": {},
   "source": [
    "**sep**"
   ]
  },
  {
   "cell_type": "code",
   "execution_count": 26,
   "id": "604cdedd-ca1c-437a-880c-52b6f2069c15",
   "metadata": {},
   "outputs": [
    {
     "name": "stdout",
     "output_type": "stream",
     "text": [
      "10====>20====>30\n"
     ]
    }
   ],
   "source": [
    "print(10,20,30,sep='====>')"
   ]
  },
  {
   "cell_type": "markdown",
   "id": "27296f9b-4940-4364-939a-13ff1369168a",
   "metadata": {},
   "source": [
    "- basic print statement\n",
    "\n",
    "- we learn format method\n",
    "\n",
    "- we learn f string method\n",
    "\n",
    "- we learn round\n",
    "\n",
    "- we learn end operator\n",
    "\n",
    "- we learn sep operator"
   ]
  },
  {
   "cell_type": "code",
   "execution_count": null,
   "id": "c0300233-73e8-47be-9242-9c9ad289f0eb",
   "metadata": {},
   "outputs": [],
   "source": [
    "# wap take the radius of a circle calculate area of the circle\n",
    "# var1 : radius  var2 : pi=3.14\n",
    "# formula : pi*radius*radius\n",
    "# print the answers using f string and format\n",
    "\n",
    "# wap take the breadth and height of a right angle triangle\n",
    "# calculate the area\n",
    "# var1 : breadth  var2 : height\n",
    "# formula : 0.5*breadth*height\n",
    "\n",
    "# wap take the bill amount and tip amount\n",
    "# calculate total bill\n",
    "# var1 : bill amount  var2 : tip amount\n",
    "# formula:\n",
    "\n",
    "# wap take the length and breadth of a rectangle calculate area \n",
    "# var1 : length  var2 : breadth\n",
    "# formula : length*breadth"
   ]
  }
 ],
 "metadata": {
  "kernelspec": {
   "display_name": "Python 3 (ipykernel)",
   "language": "python",
   "name": "python3"
  },
  "language_info": {
   "codemirror_mode": {
    "name": "ipython",
    "version": 3
   },
   "file_extension": ".py",
   "mimetype": "text/x-python",
   "name": "python",
   "nbconvert_exporter": "python",
   "pygments_lexer": "ipython3",
   "version": "3.12.7"
  }
 },
 "nbformat": 4,
 "nbformat_minor": 5
}
