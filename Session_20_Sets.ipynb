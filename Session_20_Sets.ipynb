{
 "cells": [
  {
   "cell_type": "markdown",
   "id": "0cc722af-9bee-426a-b84f-e9d7c2cd5e7d",
   "metadata": {},
   "source": [
    "- Basic representations\n",
    "\n",
    "- inbuilt functions\n",
    "\n",
    "    - type\n",
    "\n",
    "    - print\n",
    "\n",
    "    - min\n",
    "\n",
    "    - max\n",
    "\n",
    "    - len\n",
    "\n",
    "    - sum\n",
    "\n",
    "    - reversed\n",
    "\n",
    "    - sorted\n",
    "\n",
    "    - concatenation\n",
    "\n",
    "    - index\n",
    "\n",
    "    - in \n",
    "\n",
    "    - difference between index and in\n",
    "\n",
    "    - mutable vs immutable\n",
    "\n",
    "    - slice\n",
    "\n",
    "    - Methods    "
   ]
  },
  {
   "cell_type": "markdown",
   "id": "fb6c0013-68ef-4beb-ad18-ce6846fa782b",
   "metadata": {},
   "source": [
    "**Basic Representation**"
   ]
  },
  {
   "cell_type": "markdown",
   "id": "75734f67-0383-4232-b210-c0d16bf60adf",
   "metadata": {},
   "source": [
    "- Strings elements is in quotes\n",
    "\n",
    "- List elements is in square brackets\n",
    "\n",
    "- Tuple elements is in parentheses\n",
    "\n",
    "- sets elements is in curly braces"
   ]
  },
  {
   "cell_type": "code",
   "execution_count": 7,
   "id": "e0b2edfe-be0c-4ce7-afc3-e7aaf5df896e",
   "metadata": {},
   "outputs": [
    {
     "data": {
      "text/plain": [
       "{10, 20, 30, 40, 50}"
      ]
     },
     "execution_count": 7,
     "metadata": {},
     "output_type": "execute_result"
    }
   ],
   "source": [
    "set1={10,20,30,40,50}\n",
    "set1"
   ]
  },
  {
   "cell_type": "code",
   "execution_count": 8,
   "id": "71d7bc7a-565a-4aa4-9323-bbb2109cc7cb",
   "metadata": {},
   "outputs": [
    {
     "data": {
      "text/plain": [
       "set"
      ]
     },
     "execution_count": 8,
     "metadata": {},
     "output_type": "execute_result"
    }
   ],
   "source": [
    "type(set1)\n",
    "# for strings ===== str\n",
    "# we will say strings ===== but type is str\n",
    "# we will say list ===== type also list\n",
    "# we will say tuple ===== type also tuple\n",
    "# we will say set ===== type also set"
   ]
  },
  {
   "cell_type": "code",
   "execution_count": 4,
   "id": "d4f56f08-10fd-4727-8b73-7c28c1a46b9b",
   "metadata": {},
   "outputs": [
    {
     "data": {
      "text/plain": [
       "{'A', 'B', 'C'}"
      ]
     },
     "execution_count": 4,
     "metadata": {},
     "output_type": "execute_result"
    }
   ],
   "source": [
    "set2={'A','B','C'}\n",
    "set2"
   ]
  },
  {
   "cell_type": "code",
   "execution_count": 9,
   "id": "81478927-71c5-4bbe-bd05-7305179c8ae7",
   "metadata": {},
   "outputs": [
    {
     "data": {
      "text/plain": [
       "{10, 20, 30, 40, 50, 'A', 'B', 'C'}"
      ]
     },
     "execution_count": 9,
     "metadata": {},
     "output_type": "execute_result"
    }
   ],
   "source": [
    "set3={10,20,30,40,50,'A','B','C'}\n",
    "set3"
   ]
  },
  {
   "cell_type": "code",
   "execution_count": 10,
   "id": "ff3fabf0-b110-4b01-bfa3-925e974a5a28",
   "metadata": {},
   "outputs": [
    {
     "data": {
      "text/plain": [
       "{(20+30j), 10, 10.5, 20, 30, 40, 50, 'Apple', 'Banana', 'Cherry', False, True}"
      ]
     },
     "execution_count": 10,
     "metadata": {},
     "output_type": "execute_result"
    }
   ],
   "source": [
    "set4={10,20,30,40,50,'Apple','Banana','Cherry',True,False,10.5,20+30j}\n",
    "set4"
   ]
  },
  {
   "cell_type": "code",
   "execution_count": 11,
   "id": "8560fce4-5a91-4ec6-bef2-fe1c4760e2fb",
   "metadata": {},
   "outputs": [
    {
     "data": {
      "text/plain": [
       "6"
      ]
     },
     "execution_count": 11,
     "metadata": {},
     "output_type": "execute_result"
    }
   ],
   "source": [
    "set1=(10,20,30,40,50,75)\n",
    "len(set1)"
   ]
  },
  {
   "cell_type": "code",
   "execution_count": 12,
   "id": "4f9c0614-98f2-455a-a266-ec2cf25ca0e7",
   "metadata": {},
   "outputs": [
    {
     "data": {
      "text/plain": [
       "4"
      ]
     },
     "execution_count": 12,
     "metadata": {},
     "output_type": "execute_result"
    }
   ],
   "source": [
    "set2=('Apple','apple','Cherry','banana')\n",
    "len(set2)"
   ]
  },
  {
   "cell_type": "code",
   "execution_count": 13,
   "id": "ae6126fa-d74e-4339-bc37-0ae2ec954a67",
   "metadata": {},
   "outputs": [
    {
     "data": {
      "text/plain": [
       "10"
      ]
     },
     "execution_count": 13,
     "metadata": {},
     "output_type": "execute_result"
    }
   ],
   "source": [
    "set3={10,20,30,40,50,75,'Apple','apple','Cherry','banana'}\n",
    "len(set3)"
   ]
  },
  {
   "cell_type": "code",
   "execution_count": 14,
   "id": "56e10ff7-f3c5-497a-9448-73f5a3b9cd70",
   "metadata": {},
   "outputs": [
    {
     "data": {
      "text/plain": [
       "(10, 'APple')"
      ]
     },
     "execution_count": 14,
     "metadata": {},
     "output_type": "execute_result"
    }
   ],
   "source": [
    "set1={10,20,30,40,50,75}\n",
    "set2=('Apple','APple','Cherry','banana')\n",
    "#       65,112   65,80     67       98\n",
    "min(set1),min(set2)"
   ]
  },
  {
   "cell_type": "code",
   "execution_count": 16,
   "id": "33594a47-d44d-4e7e-a536-c53bda2cb5b5",
   "metadata": {},
   "outputs": [
    {
     "ename": "TypeError",
     "evalue": "'<' not supported between instances of 'str' and 'int'",
     "output_type": "error",
     "traceback": [
      "\u001b[1;31m------------------------------------------------\u001b[0m",
      "\u001b[1;31mTypeError\u001b[0m      Traceback (most recent call last)",
      "Cell \u001b[1;32mIn[16], line 2\u001b[0m\n\u001b[0;32m      1\u001b[0m set3\u001b[38;5;241m=\u001b[39m{\u001b[38;5;241m10\u001b[39m,\u001b[38;5;241m20\u001b[39m,\u001b[38;5;241m30\u001b[39m,\u001b[38;5;241m40\u001b[39m,\u001b[38;5;241m50\u001b[39m,\u001b[38;5;241m75\u001b[39m,\u001b[38;5;124m'\u001b[39m\u001b[38;5;124mApple\u001b[39m\u001b[38;5;124m'\u001b[39m,\u001b[38;5;124m'\u001b[39m\u001b[38;5;124mapple\u001b[39m\u001b[38;5;124m'\u001b[39m,\u001b[38;5;124m'\u001b[39m\u001b[38;5;124mCherry\u001b[39m\u001b[38;5;124m'\u001b[39m,\u001b[38;5;124m'\u001b[39m\u001b[38;5;124mbanana\u001b[39m\u001b[38;5;124m'\u001b[39m}\n\u001b[1;32m----> 2\u001b[0m \u001b[38;5;28;43mmin\u001b[39;49m\u001b[43m(\u001b[49m\u001b[43mset3\u001b[49m\u001b[43m)\u001b[49m\n",
      "\u001b[1;31mTypeError\u001b[0m: '<' not supported between instances of 'str' and 'int'"
     ]
    }
   ],
   "source": [
    "set3={10,20,30,40,50,75,'Apple','apple','Cherry','banana'}\n",
    "min(set3)"
   ]
  },
  {
   "cell_type": "code",
   "execution_count": 1,
   "id": "6c551882-a19d-4af1-bbef-ac9cb57bb571",
   "metadata": {},
   "outputs": [
    {
     "data": {
      "text/plain": [
       "(75, 'banana')"
      ]
     },
     "execution_count": 1,
     "metadata": {},
     "output_type": "execute_result"
    }
   ],
   "source": [
    "set1={10,20,30,40,50,75}\n",
    "set2={'Apple','apple','Cherry','banana'}\n",
    "set3={10,20,2,50,75,'Apple','apple','Cherry','banana'}\n",
    "max(set1),max(set2)\n",
    "# max(tuple3)"
   ]
  },
  {
   "cell_type": "code",
   "execution_count": 19,
   "id": "155ace15-7304-4672-9813-ac4c877188b9",
   "metadata": {},
   "outputs": [
    {
     "data": {
      "text/plain": [
       "225"
      ]
     },
     "execution_count": 19,
     "metadata": {},
     "output_type": "execute_result"
    }
   ],
   "source": [
    "set1=(10,20,30,40,50,75)\n",
    "sum(set1)"
   ]
  },
  {
   "cell_type": "code",
   "execution_count": 20,
   "id": "e16db0a5-2923-4eac-8101-700b2e850c4e",
   "metadata": {},
   "outputs": [
    {
     "ename": "TypeError",
     "evalue": "unsupported operand type(s) for +: 'int' and 'str'",
     "output_type": "error",
     "traceback": [
      "\u001b[1;31m------------------------------------------------\u001b[0m",
      "\u001b[1;31mTypeError\u001b[0m      Traceback (most recent call last)",
      "Cell \u001b[1;32mIn[20], line 2\u001b[0m\n\u001b[0;32m      1\u001b[0m set2\u001b[38;5;241m=\u001b[39m(\u001b[38;5;124m'\u001b[39m\u001b[38;5;124mApple\u001b[39m\u001b[38;5;124m'\u001b[39m,\u001b[38;5;124m'\u001b[39m\u001b[38;5;124mapple\u001b[39m\u001b[38;5;124m'\u001b[39m,\u001b[38;5;124m'\u001b[39m\u001b[38;5;124mCherry\u001b[39m\u001b[38;5;124m'\u001b[39m,\u001b[38;5;124m'\u001b[39m\u001b[38;5;124mbanana\u001b[39m\u001b[38;5;124m'\u001b[39m)\n\u001b[1;32m----> 2\u001b[0m \u001b[38;5;28;43msum\u001b[39;49m\u001b[43m(\u001b[49m\u001b[43mset2\u001b[49m\u001b[43m)\u001b[49m\n",
      "\u001b[1;31mTypeError\u001b[0m: unsupported operand type(s) for +: 'int' and 'str'"
     ]
    }
   ],
   "source": [
    "set2=('Apple','apple','Cherry','banana')\n",
    "sum(set2)"
   ]
  },
  {
   "cell_type": "code",
   "execution_count": 1,
   "id": "1c65dffc-fb6b-4f00-82f1-c5ea4a886c2d",
   "metadata": {},
   "outputs": [
    {
     "data": {
      "text/plain": [
       "[10, 20, 30, 40, 50, 75]"
      ]
     },
     "execution_count": 1,
     "metadata": {},
     "output_type": "execute_result"
    }
   ],
   "source": [
    "set1={10,20,30,40,50,75}\n",
    "sorted(set1)"
   ]
  },
  {
   "cell_type": "code",
   "execution_count": 22,
   "id": "4614bb0c-764d-419b-98ce-2b3e8ff40a09",
   "metadata": {},
   "outputs": [
    {
     "data": {
      "text/plain": [
       "['Apple', 'Cherry', 'apple', 'banana']"
      ]
     },
     "execution_count": 22,
     "metadata": {},
     "output_type": "execute_result"
    }
   ],
   "source": [
    "set2={'Apple','apple','Cherry','banana'}\n",
    "sorted(set2)"
   ]
  },
  {
   "cell_type": "code",
   "execution_count": 23,
   "id": "b9f009be-88e2-41fb-8a7a-596456a3fe72",
   "metadata": {},
   "outputs": [
    {
     "ename": "TypeError",
     "evalue": "'<' not supported between instances of 'str' and 'int'",
     "output_type": "error",
     "traceback": [
      "\u001b[1;31m------------------------------------------------\u001b[0m",
      "\u001b[1;31mTypeError\u001b[0m      Traceback (most recent call last)",
      "Cell \u001b[1;32mIn[23], line 2\u001b[0m\n\u001b[0;32m      1\u001b[0m set3\u001b[38;5;241m=\u001b[39m{\u001b[38;5;241m10\u001b[39m,\u001b[38;5;241m20\u001b[39m,\u001b[38;5;241m30\u001b[39m,\u001b[38;5;241m40\u001b[39m,\u001b[38;5;241m50\u001b[39m,\u001b[38;5;241m75\u001b[39m,\u001b[38;5;124m'\u001b[39m\u001b[38;5;124mApple\u001b[39m\u001b[38;5;124m'\u001b[39m,\u001b[38;5;124m'\u001b[39m\u001b[38;5;124mapple\u001b[39m\u001b[38;5;124m'\u001b[39m,\u001b[38;5;124m'\u001b[39m\u001b[38;5;124mCherry\u001b[39m\u001b[38;5;124m'\u001b[39m,\u001b[38;5;124m'\u001b[39m\u001b[38;5;124mbanana\u001b[39m\u001b[38;5;124m'\u001b[39m}\n\u001b[1;32m----> 2\u001b[0m \u001b[38;5;28;43msorted\u001b[39;49m\u001b[43m(\u001b[49m\u001b[43mset3\u001b[49m\u001b[43m)\u001b[49m  \u001b[38;5;66;03m# fail\u001b[39;00m\n",
      "\u001b[1;31mTypeError\u001b[0m: '<' not supported between instances of 'str' and 'int'"
     ]
    }
   ],
   "source": [
    "set3={10,20,30,40,50,75,'Apple','apple','Cherry','banana'}\n",
    "sorted(set3)  # fail"
   ]
  },
  {
   "cell_type": "code",
   "execution_count": 24,
   "id": "1bff3e28-8669-4b78-901e-67adcb958119",
   "metadata": {},
   "outputs": [
    {
     "data": {
      "text/plain": [
       "([10, 20, 30, 40, 50, 75], [75, 50, 40, 30, 20, 10])"
      ]
     },
     "execution_count": 24,
     "metadata": {},
     "output_type": "execute_result"
    }
   ],
   "source": [
    "sorted(set1),sorted(set1,reverse=True)"
   ]
  },
  {
   "cell_type": "code",
   "execution_count": 2,
   "id": "2abd9266-1566-478a-98a6-85b28225af8e",
   "metadata": {},
   "outputs": [
    {
     "ename": "TypeError",
     "evalue": "'set' object is not reversible",
     "output_type": "error",
     "traceback": [
      "\u001b[1;31m---------------------------------------------------------------------------\u001b[0m",
      "\u001b[1;31mTypeError\u001b[0m                                 Traceback (most recent call last)",
      "Cell \u001b[1;32mIn[2], line 2\u001b[0m\n\u001b[0;32m      1\u001b[0m \u001b[38;5;66;03m# method-1 : apply set\u001b[39;00m\n\u001b[1;32m----> 2\u001b[0m \u001b[38;5;28mlist\u001b[39m(\u001b[38;5;28;43mreversed\u001b[39;49m\u001b[43m(\u001b[49m\u001b[43mset1\u001b[49m\u001b[43m)\u001b[49m)\n",
      "\u001b[1;31mTypeError\u001b[0m: 'set' object is not reversible"
     ]
    }
   ],
   "source": [
    "set1={10,20,30,40,50,75}\n",
    "list(reversed(set1))"
   ]
  },
  {
   "cell_type": "markdown",
   "id": "1f888d92-41ef-4c7b-b470-01e04a2da37e",
   "metadata": {},
   "source": [
    "- sets are unordered, so cannot directly reversed a set"
   ]
  },
  {
   "cell_type": "code",
   "execution_count": 8,
   "id": "9abffc7a-79e0-4ec2-89ee-4fc68f8b9cf4",
   "metadata": {},
   "outputs": [
    {
     "data": {
      "text/plain": [
       "[30, 75, 10, 40, 20, 50]"
      ]
     },
     "execution_count": 8,
     "metadata": {},
     "output_type": "execute_result"
    }
   ],
   "source": [
    "set1={10,20,30,40,50,75}\n",
    "l1=list(reversed(list(set1)))\n",
    "l1"
   ]
  },
  {
   "cell_type": "markdown",
   "id": "597f89f6-b396-4728-9da6-f123f880deaa",
   "metadata": {},
   "source": [
    "**Concatenation**"
   ]
  },
  {
   "cell_type": "code",
   "execution_count": 31,
   "id": "ec3c7a3d-ec7e-42bb-8684-27b6232270c4",
   "metadata": {},
   "outputs": [
    {
     "data": {
      "text/plain": [
       "(10, 20, 30, 40, 'A', 'B', 'C', 'D')"
      ]
     },
     "execution_count": 31,
     "metadata": {},
     "output_type": "execute_result"
    }
   ],
   "source": [
    "set1=(10,20,30,40)\n",
    "set2=('A','B','C','D')\n",
    "set1+set2"
   ]
  },
  {
   "cell_type": "code",
   "execution_count": 32,
   "id": "9b02fc17-01b4-4aad-bd90-2facff13b0fc",
   "metadata": {},
   "outputs": [
    {
     "name": "stdout",
     "output_type": "stream",
     "text": [
      "pythonpython\n",
      "pythonpython\n"
     ]
    }
   ],
   "source": [
    "print('python'*2)\n",
    "print('python'+'python')"
   ]
  },
  {
   "cell_type": "code",
   "execution_count": 33,
   "id": "1cae7479-30ae-4422-9385-d36ab33174f5",
   "metadata": {},
   "outputs": [
    {
     "name": "stdout",
     "output_type": "stream",
     "text": [
      "(10, 20, 30, 40, 10, 20, 30, 40)\n",
      "(10, 20, 30, 40, 10, 20, 30, 40)\n"
     ]
    }
   ],
   "source": [
    "print(set1+set1)\n",
    "print(set1*2)"
   ]
  },
  {
   "cell_type": "code",
   "execution_count": null,
   "id": "58645962-92a9-4ad5-b388-9bea77f94455",
   "metadata": {},
   "outputs": [],
   "source": [
    "set1*set1  # Fail different error\n",
    "set1-set1  # Fail unsupported operand\n",
    "set1/set1  # Fail unsupported operand"
   ]
  },
  {
   "cell_type": "markdown",
   "id": "9095861d-ffa8-46b1-ad2e-4d1c1b17f9a5",
   "metadata": {},
   "source": [
    "**in**"
   ]
  },
  {
   "cell_type": "code",
   "execution_count": 38,
   "id": "814a919c-f4b0-420b-9fbe-a62faf67a277",
   "metadata": {},
   "outputs": [
    {
     "name": "stdout",
     "output_type": "stream",
     "text": [
      "p\n",
      "o\n",
      "y\n",
      "h\n",
      "n\n",
      "t\n"
     ]
    }
   ],
   "source": [
    "'p' in str1\n",
    "'p' in list1\n",
    "'p' in tuple1\n",
    "'p' in set1\n",
    "\n",
    "for i  in set1:\n",
    "    print(i)"
   ]
  },
  {
   "cell_type": "code",
   "execution_count": 10,
   "id": "49bc23b0-8c54-44bd-aaf2-43d58f617ad7",
   "metadata": {},
   "outputs": [
    {
     "name": "stdout",
     "output_type": "stream",
     "text": [
      "50\n",
      "20\n",
      "40\n",
      "10\n",
      "75\n",
      "30\n"
     ]
    }
   ],
   "source": [
    "set1={10,20,30,40,50,75}\n",
    "for i in set1:\n",
    "    print(i)"
   ]
  },
  {
   "cell_type": "markdown",
   "id": "41ed476e-5350-4b9e-9f5c-b1ced58226fd",
   "metadata": {},
   "source": [
    "**mutable vs immutable**"
   ]
  },
  {
   "cell_type": "code",
   "execution_count": 11,
   "id": "f651673b-b5bb-4359-9d0e-a39f22ff57d1",
   "metadata": {},
   "outputs": [
    {
     "ename": "TypeError",
     "evalue": "'set' object does not support item assignment",
     "output_type": "error",
     "traceback": [
      "\u001b[1;31m---------------------------------------------------------------------------\u001b[0m",
      "\u001b[1;31mTypeError\u001b[0m                                 Traceback (most recent call last)",
      "Cell \u001b[1;32mIn[11], line 2\u001b[0m\n\u001b[0;32m      1\u001b[0m set1\u001b[38;5;241m=\u001b[39m{\u001b[38;5;241m100\u001b[39m,\u001b[38;5;241m200\u001b[39m,\u001b[38;5;241m300\u001b[39m,\u001b[38;5;241m400\u001b[39m}\n\u001b[1;32m----> 2\u001b[0m \u001b[43mset1\u001b[49m\u001b[43m[\u001b[49m\u001b[38;5;241;43m0\u001b[39;49m\u001b[43m]\u001b[49m\u001b[38;5;241m=\u001b[39m\u001b[38;5;241m20\u001b[39m\n\u001b[0;32m      3\u001b[0m set1\n",
      "\u001b[1;31mTypeError\u001b[0m: 'set' object does not support item assignment"
     ]
    }
   ],
   "source": [
    "set1={100,200,300,400}\n",
    "set1[0]=20\n",
    "set1"
   ]
  },
  {
   "cell_type": "code",
   "execution_count": 12,
   "id": "618cff55-7c26-40c1-81cd-4f580c15c8b7",
   "metadata": {},
   "outputs": [
    {
     "data": {
      "text/plain": [
       "{20, 100, 200, 300, 400}"
      ]
     },
     "execution_count": 12,
     "metadata": {},
     "output_type": "execute_result"
    }
   ],
   "source": [
    "set1={100,200,300,400}\n",
    "set1.add(20)\n",
    "set1"
   ]
  },
  {
   "cell_type": "markdown",
   "id": "8fcd8dc5-f44f-4367-84a1-3ccd25da8ede",
   "metadata": {},
   "source": [
    "**sets are mutable**"
   ]
  },
  {
   "cell_type": "markdown",
   "id": "5cca19d2-35b7-4f53-81d4-bfc2b7bad706",
   "metadata": {},
   "source": [
    "**slice**"
   ]
  },
  {
   "cell_type": "code",
   "execution_count": 40,
   "id": "aeb4f8f3-a16c-4b8b-ba5a-9b94bf250c9e",
   "metadata": {},
   "outputs": [
    {
     "ename": "TypeError",
     "evalue": "'set' object is not subscriptable",
     "output_type": "error",
     "traceback": [
      "\u001b[1;31m------------------------------------------------\u001b[0m",
      "\u001b[1;31mTypeError\u001b[0m      Traceback (most recent call last)",
      "Cell \u001b[1;32mIn[40], line 2\u001b[0m\n\u001b[0;32m      1\u001b[0m s1\u001b[38;5;241m=\u001b[39m{\u001b[38;5;241m10\u001b[39m,\u001b[38;5;241m20\u001b[39m,\u001b[38;5;241m30\u001b[39m,\u001b[38;5;241m40\u001b[39m,\u001b[38;5;241m50\u001b[39m,\u001b[38;5;124m'\u001b[39m\u001b[38;5;124mA\u001b[39m\u001b[38;5;124m'\u001b[39m,\u001b[38;5;124m'\u001b[39m\u001b[38;5;124mB\u001b[39m\u001b[38;5;124m'\u001b[39m,\u001b[38;5;124m'\u001b[39m\u001b[38;5;124mC\u001b[39m\u001b[38;5;124m'\u001b[39m,\u001b[38;5;124m'\u001b[39m\u001b[38;5;124mD\u001b[39m\u001b[38;5;124m'\u001b[39m,\u001b[38;5;124m'\u001b[39m\u001b[38;5;124mE\u001b[39m\u001b[38;5;124m'\u001b[39m,\u001b[38;5;124m'\u001b[39m\u001b[38;5;124mapple\u001b[39m\u001b[38;5;124m'\u001b[39m,\u001b[38;5;124m'\u001b[39m\u001b[38;5;124mbanana\u001b[39m\u001b[38;5;124m'\u001b[39m}\n\u001b[1;32m----> 2\u001b[0m \u001b[43ms1\u001b[49m\u001b[43m[\u001b[49m\u001b[43m:\u001b[49m\u001b[43m]\u001b[49m\n",
      "\u001b[1;31mTypeError\u001b[0m: 'set' object is not subscriptable"
     ]
    }
   ],
   "source": [
    "s1={10,20,30,40,50,'A','B','C','D','E','apple','banana'}\n",
    "s1[:]"
   ]
  },
  {
   "cell_type": "markdown",
   "id": "9ece691d-3c58-4314-a774-daac02503725",
   "metadata": {},
   "source": [
    "- slice is not supported in sets, so convert set into list,tuple"
   ]
  },
  {
   "cell_type": "code",
   "execution_count": 13,
   "id": "6fca7368-545a-4870-aa8e-08b3859420c9",
   "metadata": {},
   "outputs": [
    {
     "data": {
      "text/plain": [
       "[10, 20, 30, 40, 50, 'A', 'B', 'C', 'D', 'E', 'apple', 'banana']"
      ]
     },
     "execution_count": 13,
     "metadata": {},
     "output_type": "execute_result"
    }
   ],
   "source": [
    "s1=(10,20,30,40,50,'A','B','C','D','E','apple','banana')\n",
    "l1=list(s1)\n",
    "l1[::]"
   ]
  },
  {
   "cell_type": "markdown",
   "id": "e4eeb86a-9497-4554-a492-0c020e0641fe",
   "metadata": {},
   "source": [
    "**methods**"
   ]
  },
  {
   "cell_type": "markdown",
   "id": "0bd7803d-076a-458a-a9aa-f3e17fb238d7",
   "metadata": {},
   "source": [
    "- if we wants to know the sets method"
   ]
  },
  {
   "cell_type": "code",
   "execution_count": 36,
   "id": "590ddf81-fdc3-4065-864e-be3083b02c63",
   "metadata": {},
   "outputs": [
    {
     "data": {
      "text/plain": [
       "['__class__',\n",
       " '__class_getitem__',\n",
       " '__contains__',\n",
       " '__delattr__',\n",
       " '__delitem__',\n",
       " '__dir__',\n",
       " '__doc__',\n",
       " '__eq__',\n",
       " '__format__',\n",
       " '__ge__',\n",
       " '__getattribute__',\n",
       " '__getitem__',\n",
       " '__getstate__',\n",
       " '__gt__',\n",
       " '__hash__',\n",
       " '__init__',\n",
       " '__init_subclass__',\n",
       " '__ior__',\n",
       " '__iter__',\n",
       " '__le__',\n",
       " '__len__',\n",
       " '__lt__',\n",
       " '__ne__',\n",
       " '__new__',\n",
       " '__or__',\n",
       " '__reduce__',\n",
       " '__reduce_ex__',\n",
       " '__repr__',\n",
       " '__reversed__',\n",
       " '__ror__',\n",
       " '__setattr__',\n",
       " '__setitem__',\n",
       " '__sizeof__',\n",
       " '__str__',\n",
       " '__subclasshook__',\n",
       " 'clear',\n",
       " 'copy',\n",
       " 'fromkeys',\n",
       " 'get',\n",
       " 'items',\n",
       " 'keys',\n",
       " 'pop',\n",
       " 'popitem',\n",
       " 'setdefault',\n",
       " 'update',\n",
       " 'values']"
      ]
     },
     "execution_count": 36,
     "metadata": {},
     "output_type": "execute_result"
    }
   ],
   "source": [
    "dir({})"
   ]
  },
  {
   "cell_type": "code",
   "execution_count": null,
   "id": "4842fb52-365c-460c-89ca-3606a5aa2b26",
   "metadata": {},
   "outputs": [],
   "source": [
    " 'clear'\n",
    " 'copy'\n",
    " 'fromkeys'\n",
    " 'get'\n",
    " 'items'\n",
    " 'keys'\n",
    " 'pop'\n",
    " 'popitem'\n",
    " 'setdefault'\n",
    " 'update'\n",
    " 'values'"
   ]
  },
  {
   "cell_type": "markdown",
   "id": "03e748ad-812f-4cac-80fe-8d73daa4e1e5",
   "metadata": {},
   "source": [
    "- clear\n",
    "\n",
    "- copy\n",
    "\n",
    "- keys\n",
    "\n",
    "- values\n",
    "\n",
    "- items"
   ]
  },
  {
   "cell_type": "code",
   "execution_count": 42,
   "id": "9efd46ea-3cfb-4a0d-91ba-153cfcb1db1c",
   "metadata": {},
   "outputs": [
    {
     "name": "stdout",
     "output_type": "stream",
     "text": [
      "s1 before clear i should see the output: {'B', 40, 10, 'D', 20, 'C', 'A', 30}\n",
      "s1 after apply clear method empty set: set()\n"
     ]
    }
   ],
   "source": [
    "s1={10,20,30,40,'A','B','C','D'}\n",
    "print('s1 before clear i should see the output:',s1)\n",
    "s1.clear()\n",
    "print('s1 after apply clear method empty set:',s1)"
   ]
  },
  {
   "cell_type": "code",
   "execution_count": 46,
   "id": "ebdc3323-91aa-4655-8010-bf92ef6e16dc",
   "metadata": {},
   "outputs": [
    {
     "name": "stdout",
     "output_type": "stream",
     "text": [
      "{'B', 40, 10, 'D', 20, 'C', 'A', 30}\n",
      "{'B', 40, 10, 'D', 20, 'C', 'A', 30}\n"
     ]
    }
   ],
   "source": [
    "s1={10,20,30,40,'A','B','C','D'}\n",
    "s2=s1.copy() \n",
    "print(s1)\n",
    "print(s2)"
   ]
  },
  {
   "cell_type": "code",
   "execution_count": 18,
   "id": "8723997c-311f-4be7-95e4-63d3155ab8b2",
   "metadata": {},
   "outputs": [
    {
     "data": {
      "text/plain": [
       "'C'"
      ]
     },
     "execution_count": 18,
     "metadata": {},
     "output_type": "execute_result"
    }
   ],
   "source": [
    "s1={10,20,30,40,'A','B','C','D'}\n",
    "s1.pop()"
   ]
  },
  {
   "cell_type": "code",
   "execution_count": 19,
   "id": "6d1e2137-e3f5-4708-b4e1-acd5f8b265c4",
   "metadata": {},
   "outputs": [
    {
     "data": {
      "text/plain": [
       "{10, 20, 30, 40, 'A', 'B', 'D'}"
      ]
     },
     "execution_count": 19,
     "metadata": {},
     "output_type": "execute_result"
    }
   ],
   "source": [
    "s1"
   ]
  },
  {
   "cell_type": "code",
   "execution_count": 23,
   "id": "215ac0e4-da23-4dbd-88c9-f298c00c9319",
   "metadata": {},
   "outputs": [
    {
     "data": {
      "text/plain": [
       "{10, 20, 30, 40, 'A', 'Apple', 'B', 'C', 'D', 'banana'}"
      ]
     },
     "execution_count": 23,
     "metadata": {},
     "output_type": "execute_result"
    }
   ],
   "source": [
    "s1={10,20,30,40,'A','B','C','D'}\n",
    "s2={'Apple','banana'}\n",
    "s1.update(s2)\n",
    "s1"
   ]
  },
  {
   "cell_type": "code",
   "execution_count": null,
   "id": "c065e892-4489-4037-b4b4-d543b58c3f11",
   "metadata": {},
   "outputs": [],
   "source": []
  }
 ],
 "metadata": {
  "kernelspec": {
   "display_name": "Python 3 (ipykernel)",
   "language": "python",
   "name": "python3"
  },
  "language_info": {
   "codemirror_mode": {
    "name": "ipython",
    "version": 3
   },
   "file_extension": ".py",
   "mimetype": "text/x-python",
   "name": "python",
   "nbconvert_exporter": "python",
   "pygments_lexer": "ipython3",
   "version": "3.12.7"
  }
 },
 "nbformat": 4,
 "nbformat_minor": 5
}
