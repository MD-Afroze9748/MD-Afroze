{
 "cells": [
  {
   "cell_type": "code",
   "execution_count": null,
   "id": "d3b9a4f7-d8b6-468f-b76a-9b68204dfcdb",
   "metadata": {},
   "outputs": [],
   "source": [
    "import packagename\n",
    "dir(packagename)\n",
    "help(packagename.methodname)"
   ]
  },
  {
   "cell_type": "code",
   "execution_count": 1,
   "id": "c203ac33-eb57-4a12-87af-fe78899a57ee",
   "metadata": {},
   "outputs": [
    {
     "data": {
      "text/plain": [
       "<bound method Random.randint of <random.Random object at 0x0000016E404887F0>>"
      ]
     },
     "execution_count": 1,
     "metadata": {},
     "output_type": "execute_result"
    }
   ],
   "source": [
    "import random\n",
    "random.randint"
   ]
  },
  {
   "cell_type": "code",
   "execution_count": null,
   "id": "84967cb3-93ed-4e8d-a341-e6ce4c670059",
   "metadata": {},
   "outputs": [],
   "source": [
    "import random\n",
    "random.randint  # attribute error"
   ]
  },
  {
   "cell_type": "code",
   "execution_count": null,
   "id": "f59d691a-9e23-4f57-80f3-f5bb018fc418",
   "metadata": {},
   "outputs": [],
   "source": [
    "import 9ambatch  # Module not found error"
   ]
  },
  {
   "cell_type": "code",
   "execution_count": null,
   "id": "f81152e6-5b7f-4827-b9f2-3f6d0f1db328",
   "metadata": {},
   "outputs": [],
   "source": [
    "import random \n",
    "random.randint\n",
    "\n",
    "from random import randint\n",
    "\n",
    "from random import randint as virat"
   ]
  },
  {
   "cell_type": "code",
   "execution_count": null,
   "id": "d1ea0494-4481-437d-ba4e-544d3602d6d1",
   "metadata": {},
   "outputs": [],
   "source": [
    "# 1)wap ask the user enter 3 numbers n1,n2,n3 from keyboard\n",
    "# calculate average\n",
    "\n",
    "# 2)wap ask the user enter name age city\n",
    "# print my name is python im 10 years old and came from hyd\n",
    "\n",
    "# 3)wap ask the user to enter radius of a circle calculate area of the circle\n",
    "# var: radius   var: pi=3.14\n",
    "# formula: pi*radius*radius\n",
    "# print the answers using f string and format\n",
    "\n",
    "# 4)wap ask the user enter breadth and height of a right angle triangle\n",
    "# calculate the area\n",
    "# var1: breadth   var2: height\n",
    "# formula: 0.5*breadth*height\n",
    "\n",
    "# 5)wap ask the user enter the bill amount and tip amount\n",
    "# calculate total bill\n",
    "# var1: bill amount   var2: tip amount\n",
    "# formula\n",
    "\n",
    "# 6)wap ask the user enter the bill amount and tip percentage\n",
    "# take tip percentage as 10\n",
    "# calculate total bill= bill amount+bill amount*tip per/100\n",
    "# var1: bill amount   var2: tip amount\n",
    "# formula\n",
    "\n",
    "# 7)wap ask the user enter the length and breadth of a rectangle calculate area\n",
    "# var1: length   var2: breadth\n",
    "# formula: length*breadth\n",
    "\n",
    "# 8)wap ask the user take the radius and calculate volume of sphere\n",
    "# formula: pi*r**3(pi*r*r*r)\n",
    "\n",
    "# 9)wap ask the user enter amount in dollars convert into rupees\n",
    "# 1$=85rs\n",
    "\n",
    "# 10)wap ask the user enter weight in kgs convert into pounds\n",
    "# 1kg=2.2pounds"
   ]
  },
  {
   "cell_type": "code",
   "execution_count": 5,
   "id": "99c2244a-53a1-4e12-a70a-46a1a2d7d336",
   "metadata": {},
   "outputs": [
    {
     "name": "stdout",
     "output_type": "stream",
     "text": [
      "The Average of 18,67 and 40 is: 42\n"
     ]
    }
   ],
   "source": [
    "# 1)wap ask the user enter 3 numbers n1,n2,n3 from keyboard\n",
    "# calculate average\n",
    "\n",
    "import random\n",
    "import math\n",
    "n1=random.randint(1,100)\n",
    "n2=random.randint(1,100)\n",
    "n3=random.randint(1,100)\n",
    "avg=(n1+n2+n3)/3\n",
    "avg1=math.ceil(avg)\n",
    "print(f\"The Average of {n1},{n2} and {n3} is: {avg1}\")"
   ]
  },
  {
   "cell_type": "code",
   "execution_count": 2,
   "id": "59340324-6d3d-4a4a-96d2-9dc972fe68ff",
   "metadata": {},
   "outputs": [
    {
     "name": "stdin",
     "output_type": "stream",
     "text": [
      "Enter your name:  python\n",
      "Enter your city:  hyd\n"
     ]
    },
    {
     "name": "stdout",
     "output_type": "stream",
     "text": [
      "my name is python im 84 years old and came from hyd\n"
     ]
    }
   ],
   "source": [
    "# 2)wap ask the user enter name age city\n",
    "# print my name is python im 10 years old and came from hyd\n",
    "\n",
    "name=input(\"Enter your name: \")\n",
    "age=random.randint(1,100)\n",
    "city=input(\"Enter your city: \")\n",
    "print(f\"my name is {name} im {age} years old and came from {city}\")"
   ]
  },
  {
   "cell_type": "code",
   "execution_count": 3,
   "id": "67443eae-314a-4b8b-bd88-6723eb351593",
   "metadata": {},
   "outputs": [
    {
     "name": "stdout",
     "output_type": "stream",
     "text": [
      "The area of a circle for radius 50 is: 7850.0\n"
     ]
    }
   ],
   "source": [
    "# 3)wap ask the user to enter radius of a circle calculate area of the circle\n",
    "# var: radius   var: pi=3.14\n",
    "# formula: pi*radius*radius\n",
    "# print the answers using f string and format\n",
    "\n",
    "radius=random.randint(1,100)\n",
    "pi=3.14\n",
    "area=pi*radius*radius\n",
    "print(f\"The area of a circle for radius {radius} is: {area}\")"
   ]
  },
  {
   "cell_type": "code",
   "execution_count": 4,
   "id": "7c14fc4a-d195-4cc6-ad47-631990cf929a",
   "metadata": {},
   "outputs": [
    {
     "name": "stdout",
     "output_type": "stream",
     "text": [
      "The area of a right angle triangle for breadth 14 and height 7 is: 49.0\n"
     ]
    }
   ],
   "source": [
    "# 4)wap ask the user enter breadth and height of a right angle triangle\n",
    "# calculate the area\n",
    "# var1: breadth   var2: height\n",
    "# formula: 0.5*breadth*height\n",
    "\n",
    "breadth=random.randint(1,20)\n",
    "height=random.randint(1,10)\n",
    "area=0.5*breadth*height\n",
    "print(f\"The area of a right angle triangle for breadth {breadth} and height {height} is: {area}\")"
   ]
  },
  {
   "cell_type": "code",
   "execution_count": 7,
   "id": "61db2619-0411-417a-a233-7bb509f9445e",
   "metadata": {},
   "outputs": [
    {
     "name": "stdout",
     "output_type": "stream",
     "text": [
      "The total bill is:  828\n"
     ]
    }
   ],
   "source": [
    "# 5)wap ask the user enter the bill amount and tip amount\n",
    "# calculate total bill\n",
    "# var1: bill amount   var2: tip amount\n",
    "# formula\n",
    "\n",
    "bill_amount=random.randint(500,1000)\n",
    "tip_amount=random.randint(20,100)\n",
    "total_bill=bill_amount+tip_amount\n",
    "print(\"The total bill is: \",total_bill)"
   ]
  },
  {
   "cell_type": "code",
   "execution_count": 8,
   "id": "1eceffb6-28c3-4f6e-ad55-04c0db95e3f6",
   "metadata": {},
   "outputs": [
    {
     "name": "stdout",
     "output_type": "stream",
     "text": [
      "The bill amount is: 517\n",
      "The tip percentage is: 10\n",
      "The total bill is: 568.7\n"
     ]
    }
   ],
   "source": [
    "# 6)wap ask the user enter the bill amount and tip percentage\n",
    "# take tip percentage as 10\n",
    "# calculate total bill= bill amount+bill amount*tip per/100\n",
    "# var1: bill amount   var2: tip amount\n",
    "# formula\n",
    "\n",
    "bill_amount=random.randint(500,1000)\n",
    "tip_per=random.randint(1,10)\n",
    "tip_amount=bill_amount*tip_per/100\n",
    "total_bill=bill_amount+tip_amount\n",
    "print(\"The bill amount is:\",bill_amount)\n",
    "print(\"The tip percentage is:\",tip_per)\n",
    "print(\"The total bill is:\",total_bill)"
   ]
  },
  {
   "cell_type": "code",
   "execution_count": 10,
   "id": "b9bf0029-08d9-400b-a55e-f4dc6b543ad1",
   "metadata": {},
   "outputs": [
    {
     "name": "stdout",
     "output_type": "stream",
     "text": [
      "The area of rectangle for breadth 6 and length 2 is: 12\n"
     ]
    }
   ],
   "source": [
    "# 7)wap ask the user enter the length and breadth of a rectangle calculate area\n",
    "# var1: length   var2: breadth\n",
    "# formula: length*breadth\n",
    "\n",
    "length=random.randint(1,20)\n",
    "breadth=random.randint(1,10)\n",
    "area=length*breadth\n",
    "print(f\"The area of rectangle for breadth {breadth} and length {length} is: {area}\")"
   ]
  },
  {
   "cell_type": "code",
   "execution_count": 14,
   "id": "0cbc2937-bd54-40b3-a44f-8e2b64308ae3",
   "metadata": {},
   "outputs": [
    {
     "name": "stdout",
     "output_type": "stream",
     "text": [
      "The volume of a sphere for radius 9 is: 3052.08\n"
     ]
    }
   ],
   "source": [
    "# 8)wap ask the user take the radius and calculate volume of sphere\n",
    "# formula: pi*r**3(pi*r*r*r)\n",
    "\n",
    "radius=random.randint(1,100)\n",
    "pi=3.14\n",
    "volume=4/3*pi*radius**3\n",
    "print(f\"The volume of a sphere for radius {radius} is: {volume}\")"
   ]
  },
  {
   "cell_type": "code",
   "execution_count": 16,
   "id": "916af54b-4c98-4fac-bff0-31e59f997472",
   "metadata": {},
   "outputs": [
    {
     "name": "stdout",
     "output_type": "stream",
     "text": [
      "The Amount in dollar 17 and rupees is 1445 INR\n"
     ]
    }
   ],
   "source": [
    "# 9)wap ask the user enter amount in dollars convert into rupees\n",
    "# 1$=85rs\n",
    "\n",
    "dollar=random.randint(1,100)\n",
    "rupees=dollar*85\n",
    "print(f\"The Amount in dollar {dollar} and rupees is {rupees} INR\")"
   ]
  },
  {
   "cell_type": "code",
   "execution_count": 18,
   "id": "0e63973f-d5e4-4ad2-a428-3392e2100c85",
   "metadata": {},
   "outputs": [
    {
     "name": "stdout",
     "output_type": "stream",
     "text": [
      "The weight in kg 75 and pound is 165.0\n"
     ]
    }
   ],
   "source": [
    "# 10)wap ask the user enter weight in kgs convert into pounds\n",
    "# 1kg=2.2pounds\n",
    "\n",
    "kg=random.randint(1,100)\n",
    "pounds=kg*2.2\n",
    "print(f\"The weight in kg {kg} and pound is {pounds}\")"
   ]
  },
  {
   "cell_type": "code",
   "execution_count": null,
   "id": "075a869a-9434-4f0a-b5c5-ddcbffd15880",
   "metadata": {},
   "outputs": [],
   "source": [
    "# story between papa and son\n",
    "\n",
    "# son : hi papa\n",
    "# fa  : hi beta\n",
    "# son : im going to school\n",
    "# fa  : okay beta, i heared your results came out\n",
    "# son : yes papa\n",
    "# fa  : then what about the result\n",
    "# son : lets play a game i will give the marks you tell me the percentage\n",
    "# fa  : exited\n",
    "# Telugu= random\n",
    "# hindi\n",
    "# eng\n",
    "# maths\n",
    "# sci\n",
    "# soc\n",
    "# avg\n",
    "# display the avg\n"
   ]
  },
  {
   "cell_type": "code",
   "execution_count": 19,
   "id": "38accb46-feac-4fe3-8d57-a8d87e94d4d1",
   "metadata": {},
   "outputs": [
    {
     "name": "stdout",
     "output_type": "stream",
     "text": [
      "son : hi papa\n",
      "fa  : hi beta\n",
      "son : im going to school\n",
      "fa  : okay beta, i heared your results came out\n",
      "son : yes papa\n",
      "fa  : then what about the result\n",
      "son : lets play a game i will give the marks you tell me the percentage\n",
      "fa  : exited\n"
     ]
    }
   ],
   "source": [
    "print('son : hi papa')\n",
    "print('fa  : hi beta')\n",
    "print('son : im going to school')\n",
    "print('fa  : okay beta, i heared your results came out')\n",
    "print('son : yes papa')\n",
    "print('fa  : then what about the result')\n",
    "print('son : lets play a game i will give the marks you tell me the percentage')\n",
    "print('fa  : exited')"
   ]
  },
  {
   "cell_type": "code",
   "execution_count": 6,
   "id": "776fee58-13db-4d74-b54e-14e3070b6d09",
   "metadata": {},
   "outputs": [
    {
     "name": "stdout",
     "output_type": "stream",
     "text": [
      "son : hi papa\n",
      "fa  : hi beta\n",
      "son : im going to school\n",
      "fa  : okay beta, i heared your results came out\n",
      "son : yes papa\n",
      "fa  : then what about the result\n",
      "son : lets play a game i will give the marks you tell me the percentage\n",
      "fa  : exited\n",
      "Telugu: 69\n",
      "Hindi: 75\n",
      "Maths: 80\n",
      "Sci: 94\n",
      "Soc: 77\n",
      "percentage secure in exam: 79.0\n",
      "avg secure in exam: 79.0\n"
     ]
    }
   ],
   "source": [
    "import random\n",
    "import time\n",
    "\n",
    "print('son : hi papa')\n",
    "time.sleep(2)\n",
    "print('fa  : hi beta')\n",
    "time.sleep(2)\n",
    "print('son : im going to school')\n",
    "time.sleep(2)\n",
    "print('fa  : okay beta, i heared your results came out')\n",
    "time.sleep(2)\n",
    "print('son : yes papa')\n",
    "time.sleep(2)\n",
    "print('fa  : then what about the result')\n",
    "time.sleep(2)\n",
    "print('son : lets play a game i will give the marks you tell me the percentage')\n",
    "time.sleep(2)\n",
    "print('fa  : exited')\n",
    "time.sleep(2)\n",
    "\n",
    "Telugu=random.randrange(60,70)\n",
    "print(\"Telugu:\",Telugu)\n",
    "Hindi=random.randrange(70,80)\n",
    "print(\"Hindi:\",Hindi)\n",
    "Maths=random.randrange(80,90)\n",
    "print(\"Maths:\",Maths)\n",
    "Sci=random.randrange(90,100)\n",
    "print(\"Sci:\",Sci)\n",
    "Soc=random.randrange(75,80)\n",
    "print(\"Soc:\",Soc)\n",
    "time.sleep(5)\n",
    "per=(Telugu+Hindi+Maths+Sci+Soc)*100/500\n",
    "print(f\"percentage secure in exam: {per}\")\n",
    "avg=(Telugu+Hindi+Maths+Sci+Soc)/5\n",
    "print(f\"avg secure in exam: {avg}\")"
   ]
  },
  {
   "cell_type": "code",
   "execution_count": null,
   "id": "39593cf8-eed4-4430-a978-979e177c5f00",
   "metadata": {},
   "outputs": [
    {
     "name": "stdin",
     "output_type": "stream",
     "text": [
      "son : hi papa\n",
      "father : hi beta\n",
      "son : im going to school\n",
      "father : okay beta, i heared your results came out\n",
      "son : yes papa\n",
      "father : then what about the result\n"
     ]
    }
   ],
   "source": [
    "# conversation between father and son\n",
    "start = time.time()\n",
    "input(\"son :\")\n",
    "input(\"father :\") \n",
    "input(\"son :\")\n",
    "input(\"father :\")\n",
    "input(\"son :\")\n",
    "input(\"father :\")\n",
    "input(\"son :\")\n",
    "input(\"father :\")\n",
    "\n",
    "# providing marks\n",
    "marathi =random.randint(35,100)\n",
    "hindi =random.randint(35,100)\n",
    "eng =random.randint(35,100)\n",
    "maths =random.randint(35,100)\n",
    "soc =random.randint(35,100)\n",
    "\n",
    "print(f\"marks got in each subject : Marathi : {marathi}, Hindi : {hindi}, Eng : {eng}, Maths : {maths}, Soc : {soc}\")\n",
    "\n",
    "time.sleep(5)\n",
    "\n",
    "total_marks = 100+100+100+100+100\n",
    "total_marks_got = marathi+hindi+eng+maths+soc\n",
    "marks_in_percentage = total_marks_got*100/total_marks\n",
    "print(f\"Son got {marks_in_percentage}%.\")\n",
    "print(f\"son got {math.ceil(marks_in_percentage)}%.\")\n",
    "\n",
    "end = time.time()\n",
    "reqd_time = end - start\n",
    "print(f\"Elapsed time : {reqd_time}\")"
   ]
  },
  {
   "cell_type": "code",
   "execution_count": null,
   "id": "8625e142-dc93-44b6-bcac-996dbf93e092",
   "metadata": {},
   "outputs": [],
   "source": []
  }
 ],
 "metadata": {
  "kernelspec": {
   "display_name": "Python 3 (ipykernel)",
   "language": "python",
   "name": "python3"
  },
  "language_info": {
   "codemirror_mode": {
    "name": "ipython",
    "version": 3
   },
   "file_extension": ".py",
   "mimetype": "text/x-python",
   "name": "python",
   "nbconvert_exporter": "python",
   "pygments_lexer": "ipython3",
   "version": "3.12.7"
  }
 },
 "nbformat": 4,
 "nbformat_minor": 5
}
