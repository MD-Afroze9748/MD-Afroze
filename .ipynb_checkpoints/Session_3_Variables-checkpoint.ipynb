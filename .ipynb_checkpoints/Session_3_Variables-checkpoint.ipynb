{
 "cells": [
  {
   "cell_type": "markdown",
   "id": "de66d4bd-0d52-4de2-ad2d-eea59630a514",
   "metadata": {},
   "source": [
    "**Variables**"
   ]
  },
  {
   "cell_type": "markdown",
   "id": "49c8584d-cc43-4cde-a0e0-c995da166954",
   "metadata": {},
   "source": [
    "- dont do overaction\n",
    "\n",
    "- only action\n",
    "\n",
    "- listen the class properly\n",
    "\n",
    "- chat with chatGPT"
   ]
  },
  {
   "cell_type": "markdown",
   "id": "6e18de42-f608-4acc-96fc-b945a65bbac2",
   "metadata": {},
   "source": [
    "- Variables are used to store the data\n",
    "\n",
    "- The Data can be change\n",
    "\n",
    "- These Variables can be used to manipulate python code"
   ]
  },
  {
   "cell_type": "code",
   "execution_count": 1,
   "id": "f9eec7e8-dc2d-47b0-baf5-a4fb51e2f1eb",
   "metadata": {},
   "outputs": [
    {
     "data": {
      "text/plain": [
       "100"
      ]
     },
     "execution_count": 1,
     "metadata": {},
     "output_type": "execute_result"
    }
   ],
   "source": [
    "number=100\n",
    "# 100 is stored in a variable called as number\n",
    "number"
   ]
  },
  {
   "cell_type": "code",
   "execution_count": 2,
   "id": "c112d4ba-42f5-41ec-819c-476aae0fb32c",
   "metadata": {},
   "outputs": [
    {
     "data": {
      "text/plain": [
       "200"
      ]
     },
     "execution_count": 2,
     "metadata": {},
     "output_type": "execute_result"
    }
   ],
   "source": [
    "NUMBER=200\n",
    "NUMBER"
   ]
  },
  {
   "cell_type": "code",
   "execution_count": 3,
   "id": "38dfdffd-b7e5-4e8f-a27c-791a44913c8c",
   "metadata": {},
   "outputs": [
    {
     "data": {
      "text/plain": [
       "(100, 200)"
      ]
     },
     "execution_count": 3,
     "metadata": {},
     "output_type": "execute_result"
    }
   ],
   "source": [
    "number,NUMBER"
   ]
  },
  {
   "cell_type": "code",
   "execution_count": 4,
   "id": "f45bf8dd-bd6d-4566-b18b-4a2995f5626a",
   "metadata": {},
   "outputs": [
    {
     "data": {
      "text/plain": [
       "300"
      ]
     },
     "execution_count": 4,
     "metadata": {},
     "output_type": "execute_result"
    }
   ],
   "source": [
    "NUMber=300\n",
    "NUMber"
   ]
  },
  {
   "cell_type": "code",
   "execution_count": 5,
   "id": "4105a428-31a9-4034-a451-2381d6f69b66",
   "metadata": {},
   "outputs": [
    {
     "data": {
      "text/plain": [
       "(100, 200, 300)"
      ]
     },
     "execution_count": 5,
     "metadata": {},
     "output_type": "execute_result"
    }
   ],
   "source": [
    "number,NUMBER,NUMber"
   ]
  },
  {
   "cell_type": "code",
   "execution_count": 6,
   "id": "6e2d8aef-e106-494a-a897-8f12cc30d836",
   "metadata": {},
   "outputs": [
    {
     "data": {
      "text/plain": [
       "400"
      ]
     },
     "execution_count": 6,
     "metadata": {},
     "output_type": "execute_result"
    }
   ],
   "source": [
    "number123=400\n",
    "number123"
   ]
  },
  {
   "cell_type": "code",
   "execution_count": 7,
   "id": "714fbb0a-253f-4e90-84a1-4f7b90041af5",
   "metadata": {},
   "outputs": [
    {
     "ename": "SyntaxError",
     "evalue": "invalid decimal literal (1181908654.py, line 1)",
     "output_type": "error",
     "traceback": [
      "\u001b[1;36m  Cell \u001b[1;32mIn[7], line 1\u001b[1;36m\u001b[0m\n\u001b[1;33m    123number=500\u001b[0m\n\u001b[1;37m      ^\u001b[0m\n\u001b[1;31mSyntaxError\u001b[0m\u001b[1;31m:\u001b[0m invalid decimal literal\n"
     ]
    }
   ],
   "source": [
    "123number=500\n",
    "123number"
   ]
  },
  {
   "cell_type": "code",
   "execution_count": 3,
   "id": "72ea2863-08f1-490f-bde8-eb717e25ed7a",
   "metadata": {},
   "outputs": [
    {
     "ename": "NameError",
     "evalue": "name 'number' is not defined",
     "output_type": "error",
     "traceback": [
      "\u001b[1;31m---------------------------------------------------------------------------\u001b[0m",
      "\u001b[1;31mNameError\u001b[0m                                 Traceback (most recent call last)",
      "Cell \u001b[1;32mIn[3], line 2\u001b[0m\n\u001b[0;32m      1\u001b[0m \u001b[38;5;66;03m# type first two letter enter tab\u001b[39;00m\n\u001b[1;32m----> 2\u001b[0m \u001b[43mnumber\u001b[49m\n",
      "\u001b[1;31mNameError\u001b[0m: name 'number' is not defined"
     ]
    }
   ],
   "source": [
    "# type first two letter enter tab\n",
    "number\n",
    "number123"
   ]
  },
  {
   "cell_type": "markdown",
   "id": "bc216a10-c52f-430a-94ec-bb1e11627371",
   "metadata": {},
   "source": [
    "**Note:**\n",
    "  \n",
    "- Variables generally in black color\n",
    "\n",
    "- Green color should not be a Variables\n",
    "\n",
    "- numbers as suffix can Work\n",
    "\n",
    "- numbers as prefix fail"
   ]
  },
  {
   "cell_type": "code",
   "execution_count": 10,
   "id": "b2ea22c8-a30d-4f5a-a7b8-7cbaf80a6f64",
   "metadata": {},
   "outputs": [
    {
     "ename": "SyntaxError",
     "evalue": "invalid syntax (988349833.py, line 1)",
     "output_type": "error",
     "traceback": [
      "\u001b[1;36m  Cell \u001b[1;32mIn[10], line 1\u001b[1;36m\u001b[0m\n\u001b[1;33m    number$=600\u001b[0m\n\u001b[1;37m          ^\u001b[0m\n\u001b[1;31mSyntaxError\u001b[0m\u001b[1;31m:\u001b[0m invalid syntax\n"
     ]
    }
   ],
   "source": [
    "number$=600\n",
    "number$"
   ]
  },
  {
   "cell_type": "markdown",
   "id": "10b4dd51-74fe-4f21-a64c-dc2a81a4076f",
   "metadata": {},
   "source": [
    "- spl characters does not allowed"
   ]
  },
  {
   "cell_type": "code",
   "execution_count": 11,
   "id": "2d535cd0-c707-4f5b-a599-45f71d56cada",
   "metadata": {},
   "outputs": [
    {
     "ename": "SyntaxError",
     "evalue": "invalid syntax (3486595279.py, line 1)",
     "output_type": "error",
     "traceback": [
      "\u001b[1;36m  Cell \u001b[1;32mIn[11], line 1\u001b[1;36m\u001b[0m\n\u001b[1;33m    number one=200\u001b[0m\n\u001b[1;37m           ^\u001b[0m\n\u001b[1;31mSyntaxError\u001b[0m\u001b[1;31m:\u001b[0m invalid syntax\n"
     ]
    }
   ],
   "source": [
    "number one=200\n",
    "number one"
   ]
  },
  {
   "cell_type": "code",
   "execution_count": 12,
   "id": "09f83d6d-3734-4d65-8434-52eb89bcb65b",
   "metadata": {},
   "outputs": [
    {
     "data": {
      "text/plain": [
       "300"
      ]
     },
     "execution_count": 12,
     "metadata": {},
     "output_type": "execute_result"
    }
   ],
   "source": [
    "number_one=300\n",
    "number_one"
   ]
  },
  {
   "cell_type": "markdown",
   "id": "191c10ba-56e6-4e35-8d1a-acd5576643a1",
   "metadata": {},
   "source": [
    "- underscore can use as variable"
   ]
  },
  {
   "cell_type": "code",
   "execution_count": null,
   "id": "b362cd02-2752-42da-8e84-1f1668812cfb",
   "metadata": {},
   "outputs": [],
   "source": [
    "numberone\n",
    "number_one"
   ]
  },
  {
   "cell_type": "code",
   "execution_count": 14,
   "id": "3c2318cc-24aa-44f2-86fa-46988b2314ff",
   "metadata": {},
   "outputs": [
    {
     "data": {
      "text/plain": [
       "1000"
      ]
     },
     "execution_count": 14,
     "metadata": {},
     "output_type": "execute_result"
    }
   ],
   "source": [
    "_=1000\n",
    "_"
   ]
  },
  {
   "cell_type": "code",
   "execution_count": null,
   "id": "3157ae51-df8a-416f-b172-965eb23ba27d",
   "metadata": {},
   "outputs": [],
   "source": [
    "number=100 # w\n",
    "NUMBER=200 # w\n",
    "NUMber=300 # w\n",
    "number123=400 # w\n",
    "123number=500 # f\n",
    "number%=600 # f\n",
    "number one=700 # f \n",
    "number_one=800 # w\n",
    "_=900 # w"
   ]
  },
  {
   "cell_type": "code",
   "execution_count": 15,
   "id": "41124cd3-1e73-4801-bc8a-2f1c0574aeb6",
   "metadata": {},
   "outputs": [
    {
     "ename": "SyntaxError",
     "evalue": "invalid syntax (4067401087.py, line 1)",
     "output_type": "error",
     "traceback": [
      "\u001b[1;36m  Cell \u001b[1;32mIn[15], line 1\u001b[1;36m\u001b[0m\n\u001b[1;33m    if=1000\u001b[0m\n\u001b[1;37m      ^\u001b[0m\n\u001b[1;31mSyntaxError\u001b[0m\u001b[1;31m:\u001b[0m invalid syntax\n"
     ]
    }
   ],
   "source": [
    "if=1000"
   ]
  },
  {
   "cell_type": "code",
   "execution_count": null,
   "id": "595994ac-2803-46bc-8471-f1561147dc77",
   "metadata": {},
   "outputs": [],
   "source": [
    "for\n",
    "while\n",
    "True\n",
    "False    "
   ]
  },
  {
   "cell_type": "markdown",
   "id": "e6ada1d0-1a71-4c65-8f8b-7ee29e00a3db",
   "metadata": {},
   "source": [
    "**keywords can not use as Variables**"
   ]
  }
 ],
 "metadata": {
  "kernelspec": {
   "display_name": "Python 3 (ipykernel)",
   "language": "python",
   "name": "python3"
  },
  "language_info": {
   "codemirror_mode": {
    "name": "ipython",
    "version": 3
   },
   "file_extension": ".py",
   "mimetype": "text/x-python",
   "name": "python",
   "nbconvert_exporter": "python",
   "pygments_lexer": "ipython3",
   "version": "3.12.7"
  }
 },
 "nbformat": 4,
 "nbformat_minor": 5
}
