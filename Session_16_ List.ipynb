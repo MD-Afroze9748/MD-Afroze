{
 "cells": [
  {
   "cell_type": "markdown",
   "id": "e98e2528-cc66-496b-a354-8b67ac75fe42",
   "metadata": {},
   "source": [
    "- Basic representations\n",
    "\n",
    "- inbuilt functions\n",
    "\n",
    "    - type\n",
    "\n",
    "    - print\n",
    "\n",
    "    - min\n",
    "\n",
    "    - max\n",
    "\n",
    "    - len\n",
    "\n",
    "    - sum\n",
    "\n",
    "    - reversed\n",
    "\n",
    "    - sorted\n",
    "\n",
    "    - concatenation\n",
    "\n",
    "    - index\n",
    "\n",
    "    - in \n",
    "\n",
    "    - difference between index and in\n",
    "\n",
    "    - mutable vs immutable\n",
    "\n",
    "    - slice\n",
    "\n",
    "    - Methods    "
   ]
  },
  {
   "cell_type": "markdown",
   "id": "02d5b623-3964-4f22-b1fc-c7e1b970a084",
   "metadata": {},
   "source": [
    "**Basic Representation**"
   ]
  },
  {
   "cell_type": "markdown",
   "id": "43f4a5bf-b51f-486e-8bce-b3d89438a031",
   "metadata": {},
   "source": [
    "- Strings elements is in quotes\n",
    "\n",
    "- List elements is in square brackets"
   ]
  },
  {
   "cell_type": "code",
   "execution_count": 2,
   "id": "eec93433-b22e-4705-907c-5d1fc377d62c",
   "metadata": {},
   "outputs": [
    {
     "data": {
      "text/plain": [
       "[1, 2, 3, 4]"
      ]
     },
     "execution_count": 2,
     "metadata": {},
     "output_type": "execute_result"
    }
   ],
   "source": [
    "list1=[1,2,3,4]\n",
    "list1"
   ]
  },
  {
   "cell_type": "code",
   "execution_count": 3,
   "id": "56819d35-a214-45e3-9b55-4bca8046e020",
   "metadata": {},
   "outputs": [
    {
     "data": {
      "text/plain": [
       "list"
      ]
     },
     "execution_count": 3,
     "metadata": {},
     "output_type": "execute_result"
    }
   ],
   "source": [
    "type(list1)\n",
    "# for strings ===== str\n",
    "# we will say strings ===== but type is str\n",
    "# we will say list ===== type also list"
   ]
  },
  {
   "cell_type": "code",
   "execution_count": 2,
   "id": "3d6072b1-2803-48b7-a58a-efd9f6d1846a",
   "metadata": {},
   "outputs": [
    {
     "data": {
      "text/plain": [
       "['A', 'B', 'C']"
      ]
     },
     "execution_count": 2,
     "metadata": {},
     "output_type": "execute_result"
    }
   ],
   "source": [
    "list2=['A','B','C']\n",
    "list2"
   ]
  },
  {
   "cell_type": "code",
   "execution_count": 3,
   "id": "df7a6014-36a5-473f-a229-2785a9fd65a0",
   "metadata": {},
   "outputs": [
    {
     "data": {
      "text/plain": [
       "[1, 2, 3, 'A', 'B', 'C']"
      ]
     },
     "execution_count": 3,
     "metadata": {},
     "output_type": "execute_result"
    }
   ],
   "source": [
    "list3=[1,2,3,'A','B','C']\n",
    "list3"
   ]
  },
  {
   "cell_type": "code",
   "execution_count": 19,
   "id": "b70c8c54-52d2-4968-9286-2ac8758fde96",
   "metadata": {},
   "outputs": [
    {
     "data": {
      "text/plain": [
       "[[[[[[[['python']]]]]]]]"
      ]
     },
     "execution_count": 19,
     "metadata": {},
     "output_type": "execute_result"
    }
   ],
   "source": [
    "list1=[1,2,3,4]\n",
    "list2=['A','B','C']\n",
    "list3=[1,2,3,'A','B','C']\n",
    "list4=[10,20,30,'Apple','Banana','Cherry',True,False,10.5,20+30j]\n",
    "list5=[10,10,10]\n",
    "list6=[10,20,30,['Apple','Banana']]\n",
    "list7=[[10]]\n",
    "name='python'\n",
    "list8=[name]\n",
    "list9=[_]\n",
    "list9"
   ]
  },
  {
   "cell_type": "code",
   "execution_count": 22,
   "id": "dde3cd63-0e91-43c6-b7ab-5c5a551bf4c0",
   "metadata": {},
   "outputs": [],
   "source": [
    "list1=[10,20,2,5,75]\n",
    "list2=['Apple','apple','Cherry','banana']\n",
    "list3=[10,20,2,5,75,'Apple','apple','Cherry','banana']\n",
    "# perform all inbuilt functions\n",
    "# len max min sum sorted reversed"
   ]
  },
  {
   "cell_type": "code",
   "execution_count": 23,
   "id": "dd63db08-74fe-41b4-aa43-745df640033e",
   "metadata": {},
   "outputs": [
    {
     "data": {
      "text/plain": [
       "(5, 4, 9)"
      ]
     },
     "execution_count": 23,
     "metadata": {},
     "output_type": "execute_result"
    }
   ],
   "source": [
    "len(list1),len(list2),len(list3)"
   ]
  },
  {
   "cell_type": "code",
   "execution_count": 24,
   "id": "60504bbd-d0c2-4bae-8d25-7cc852ffb1ad",
   "metadata": {},
   "outputs": [
    {
     "data": {
      "text/plain": [
       "(2, 'APple')"
      ]
     },
     "execution_count": 24,
     "metadata": {},
     "output_type": "execute_result"
    }
   ],
   "source": [
    "list1=[10,20,2,5,75]\n",
    "list2=['Apple','APple','Cherry','banana']\n",
    "#      65,112   65,80     67       98\n",
    "min(list1),min(list2)"
   ]
  },
  {
   "cell_type": "code",
   "execution_count": 26,
   "id": "12d25044-cf8e-4629-ad94-645778415df8",
   "metadata": {},
   "outputs": [
    {
     "ename": "TypeError",
     "evalue": "'<' not supported between instances of 'str' and 'int'",
     "output_type": "error",
     "traceback": [
      "\u001b[1;31m---------------------------------------------------------------------------\u001b[0m",
      "\u001b[1;31mTypeError\u001b[0m                                 Traceback (most recent call last)",
      "Cell \u001b[1;32mIn[26], line 2\u001b[0m\n\u001b[0;32m      1\u001b[0m list3\u001b[38;5;241m=\u001b[39m[\u001b[38;5;241m10\u001b[39m,\u001b[38;5;241m20\u001b[39m,\u001b[38;5;241m2\u001b[39m,\u001b[38;5;241m5\u001b[39m,\u001b[38;5;241m75\u001b[39m,\u001b[38;5;124m'\u001b[39m\u001b[38;5;124mApple\u001b[39m\u001b[38;5;124m'\u001b[39m,\u001b[38;5;124m'\u001b[39m\u001b[38;5;124mapple\u001b[39m\u001b[38;5;124m'\u001b[39m,\u001b[38;5;124m'\u001b[39m\u001b[38;5;124mCherry\u001b[39m\u001b[38;5;124m'\u001b[39m,\u001b[38;5;124m'\u001b[39m\u001b[38;5;124mbanana\u001b[39m\u001b[38;5;124m'\u001b[39m]\n\u001b[1;32m----> 2\u001b[0m \u001b[38;5;28;43mmin\u001b[39;49m\u001b[43m(\u001b[49m\u001b[43mlist3\u001b[49m\u001b[43m)\u001b[49m\n",
      "\u001b[1;31mTypeError\u001b[0m: '<' not supported between instances of 'str' and 'int'"
     ]
    }
   ],
   "source": [
    "list3=[10,20,2,5,75,'Apple','apple','Cherry','banana']\n",
    "min(list3)"
   ]
  },
  {
   "cell_type": "code",
   "execution_count": 27,
   "id": "9de65835-2bc6-4e38-a593-b1d9cd6dfc1a",
   "metadata": {},
   "outputs": [
    {
     "data": {
      "text/plain": [
       "(75, 'banana')"
      ]
     },
     "execution_count": 27,
     "metadata": {},
     "output_type": "execute_result"
    }
   ],
   "source": [
    "list1=[10,20,2,5,75]\n",
    "list2=['Apple','apple','Cherry','banana']\n",
    "list3=[10,20,2,5,75,'Apple','apple','Cherry','banana']\n",
    "max(list1),max(list2)\n",
    "# max(list3)"
   ]
  },
  {
   "cell_type": "code",
   "execution_count": 28,
   "id": "e9d75e9a-697c-4779-a4c5-2c7ed3765ac4",
   "metadata": {},
   "outputs": [
    {
     "data": {
      "text/plain": [
       "112"
      ]
     },
     "execution_count": 28,
     "metadata": {},
     "output_type": "execute_result"
    }
   ],
   "source": [
    "list1=[10,20,2,5,75]\n",
    "sum(list1)"
   ]
  },
  {
   "cell_type": "code",
   "execution_count": 29,
   "id": "616f2ed9-de00-4af6-9b31-dbaea166c046",
   "metadata": {},
   "outputs": [
    {
     "ename": "TypeError",
     "evalue": "unsupported operand type(s) for +: 'int' and 'str'",
     "output_type": "error",
     "traceback": [
      "\u001b[1;31m---------------------------------------------------------------------------\u001b[0m",
      "\u001b[1;31mTypeError\u001b[0m                                 Traceback (most recent call last)",
      "Cell \u001b[1;32mIn[29], line 2\u001b[0m\n\u001b[0;32m      1\u001b[0m list2\u001b[38;5;241m=\u001b[39m[\u001b[38;5;124m'\u001b[39m\u001b[38;5;124mApple\u001b[39m\u001b[38;5;124m'\u001b[39m,\u001b[38;5;124m'\u001b[39m\u001b[38;5;124mapple\u001b[39m\u001b[38;5;124m'\u001b[39m,\u001b[38;5;124m'\u001b[39m\u001b[38;5;124mCherry\u001b[39m\u001b[38;5;124m'\u001b[39m,\u001b[38;5;124m'\u001b[39m\u001b[38;5;124mbanana\u001b[39m\u001b[38;5;124m'\u001b[39m]\n\u001b[1;32m----> 2\u001b[0m \u001b[38;5;28;43msum\u001b[39;49m\u001b[43m(\u001b[49m\u001b[43mlist2\u001b[49m\u001b[43m)\u001b[49m\n",
      "\u001b[1;31mTypeError\u001b[0m: unsupported operand type(s) for +: 'int' and 'str'"
     ]
    }
   ],
   "source": [
    "list2=['Apple','apple','Cherry','banana']\n",
    "sum(list2)"
   ]
  },
  {
   "cell_type": "code",
   "execution_count": 9,
   "id": "01506471-fa59-426e-a8fe-3e8996964c21",
   "metadata": {},
   "outputs": [
    {
     "data": {
      "text/plain": [
       "[2, 5, 10, 20, 75]"
      ]
     },
     "execution_count": 9,
     "metadata": {},
     "output_type": "execute_result"
    }
   ],
   "source": [
    "list1=[10,20,2,5,75]\n",
    "sorted(list1)"
   ]
  },
  {
   "cell_type": "code",
   "execution_count": 30,
   "id": "8fa9bde2-e488-49dc-a579-a49a4750c43e",
   "metadata": {},
   "outputs": [
    {
     "data": {
      "text/plain": [
       "['Apple', 'Cherry', 'apple', 'banana']"
      ]
     },
     "execution_count": 30,
     "metadata": {},
     "output_type": "execute_result"
    }
   ],
   "source": [
    "list2=['Apple','apple','Cherry','banana']\n",
    "sorted(list2)"
   ]
  },
  {
   "cell_type": "code",
   "execution_count": 31,
   "id": "f8056b5b-507b-4c70-995e-0a9ba934a99f",
   "metadata": {},
   "outputs": [
    {
     "ename": "TypeError",
     "evalue": "'<' not supported between instances of 'str' and 'int'",
     "output_type": "error",
     "traceback": [
      "\u001b[1;31m---------------------------------------------------------------------------\u001b[0m",
      "\u001b[1;31mTypeError\u001b[0m                                 Traceback (most recent call last)",
      "Cell \u001b[1;32mIn[31], line 2\u001b[0m\n\u001b[0;32m      1\u001b[0m list3\u001b[38;5;241m=\u001b[39m[\u001b[38;5;241m10\u001b[39m,\u001b[38;5;241m20\u001b[39m,\u001b[38;5;241m2\u001b[39m,\u001b[38;5;241m5\u001b[39m,\u001b[38;5;241m75\u001b[39m,\u001b[38;5;124m'\u001b[39m\u001b[38;5;124mApple\u001b[39m\u001b[38;5;124m'\u001b[39m,\u001b[38;5;124m'\u001b[39m\u001b[38;5;124mapple\u001b[39m\u001b[38;5;124m'\u001b[39m,\u001b[38;5;124m'\u001b[39m\u001b[38;5;124mCherry\u001b[39m\u001b[38;5;124m'\u001b[39m,\u001b[38;5;124m'\u001b[39m\u001b[38;5;124mbanana\u001b[39m\u001b[38;5;124m'\u001b[39m]\n\u001b[1;32m----> 2\u001b[0m \u001b[38;5;28;43msorted\u001b[39;49m\u001b[43m(\u001b[49m\u001b[43mlist3\u001b[49m\u001b[43m)\u001b[49m\n",
      "\u001b[1;31mTypeError\u001b[0m: '<' not supported between instances of 'str' and 'int'"
     ]
    }
   ],
   "source": [
    "list3=[10,20,2,5,75,'Apple','apple','Cherry','banana']\n",
    "sorted(list3)  # fail"
   ]
  },
  {
   "cell_type": "code",
   "execution_count": 35,
   "id": "af9b9636-16dc-4e1d-aac3-442c5e250eea",
   "metadata": {},
   "outputs": [
    {
     "data": {
      "text/plain": [
       "([2, 5, 10, 20, 75], [75, 20, 10, 5, 2])"
      ]
     },
     "execution_count": 35,
     "metadata": {},
     "output_type": "execute_result"
    }
   ],
   "source": [
    "sorted(list1),sorted(list1,reverse=True)"
   ]
  },
  {
   "cell_type": "code",
   "execution_count": 32,
   "id": "266b62ee-8e63-43bd-a00a-cace5b352d6a",
   "metadata": {},
   "outputs": [
    {
     "data": {
      "text/plain": [
       "<list_reverseiterator at 0x232af451a80>"
      ]
     },
     "execution_count": 32,
     "metadata": {},
     "output_type": "execute_result"
    }
   ],
   "source": [
    "list1=[10,20,2,5,75]\n",
    "reversed(list1)"
   ]
  },
  {
   "cell_type": "code",
   "execution_count": 33,
   "id": "e351694a-181c-458b-8b94-7080baa9b197",
   "metadata": {},
   "outputs": [
    {
     "data": {
      "text/plain": [
       "[75, 5, 2, 20, 10]"
      ]
     },
     "execution_count": 33,
     "metadata": {},
     "output_type": "execute_result"
    }
   ],
   "source": [
    "# method-1 : apply list\n",
    "list(reversed(list1))"
   ]
  },
  {
   "cell_type": "code",
   "execution_count": 34,
   "id": "590d82ae-220c-4961-8521-2392e86fd94e",
   "metadata": {},
   "outputs": [
    {
     "name": "stdout",
     "output_type": "stream",
     "text": [
      "75\n",
      "5\n",
      "2\n",
      "20\n",
      "10\n"
     ]
    }
   ],
   "source": [
    "# method-2 : iterate though for loop\n",
    "list1=[10,20,2,5,75]\n",
    "for i in reversed(list1):\n",
    "    print(i)"
   ]
  },
  {
   "cell_type": "code",
   "execution_count": null,
   "id": "a66d6def-8926-4075-95ff-7caba43a1a20",
   "metadata": {},
   "outputs": [],
   "source": [
    "# In the interview\n",
    "# list1=[10,20,2,5,75]\n",
    "# Q1) Sort the list without sorted function\n",
    "# Q2) Find the max value without max function\n",
    "# Q3) Find the min value without min function\n",
    "# Q4) Reversed the element without resverd function \n",
    "# Q5) Sum the elements without using sum function\n",
    "# Q6) Find the second max and second min"
   ]
  },
  {
   "cell_type": "markdown",
   "id": "de4df46e-f4db-4b44-9120-071481970b95",
   "metadata": {},
   "source": [
    "**Concatenation**"
   ]
  },
  {
   "cell_type": "code",
   "execution_count": 38,
   "id": "135dfab0-90c0-4d19-9a38-1e2b6bb3d333",
   "metadata": {},
   "outputs": [
    {
     "data": {
      "text/plain": [
       "[1, 2, 3, 4, 'A', 'B', 'C', 'D']"
      ]
     },
     "execution_count": 38,
     "metadata": {},
     "output_type": "execute_result"
    }
   ],
   "source": [
    "list1=[1,2,3,4]\n",
    "list2=['A','B','C','D']\n",
    "list1+list2"
   ]
  },
  {
   "cell_type": "code",
   "execution_count": 36,
   "id": "d2744102-0a22-4b58-a92a-a6d1f01c2767",
   "metadata": {},
   "outputs": [
    {
     "name": "stdout",
     "output_type": "stream",
     "text": [
      "pythonpython\n",
      "pythonpython\n"
     ]
    }
   ],
   "source": [
    "print('python'*2)\n",
    "print('python'+'python')"
   ]
  },
  {
   "cell_type": "code",
   "execution_count": 39,
   "id": "0b6aa790-89ba-4532-8945-50abd2ba296c",
   "metadata": {},
   "outputs": [
    {
     "name": "stdout",
     "output_type": "stream",
     "text": [
      "[1, 2, 3, 4, 1, 2, 3, 4]\n",
      "[1, 2, 3, 4, 1, 2, 3, 4]\n"
     ]
    }
   ],
   "source": [
    "print(list1+list1)\n",
    "print(list1*2)"
   ]
  },
  {
   "cell_type": "code",
   "execution_count": null,
   "id": "2e1327fd-140d-4306-a44e-d5df54d5c6df",
   "metadata": {},
   "outputs": [],
   "source": [
    "list1*list1  # Fail different error\n",
    "list1-list1  # Fail unsupported operand\n",
    "list1/list1  # Fail unsupported operand"
   ]
  },
  {
   "cell_type": "markdown",
   "id": "4dde81c4-fe7a-405f-ae1d-f129be9eee82",
   "metadata": {},
   "source": [
    "**index**"
   ]
  },
  {
   "cell_type": "code",
   "execution_count": 40,
   "id": "493853af-c0d9-4e93-9e8d-ee068f53b5aa",
   "metadata": {},
   "outputs": [
    {
     "data": {
      "text/plain": [
       "(10, 10)"
      ]
     },
     "execution_count": 40,
     "metadata": {},
     "output_type": "execute_result"
    }
   ],
   "source": [
    "# -6 -5 -4  -3  -2  -1\n",
    "# 10 20 30 'A' 'B' 'C'\n",
    "#  0  1  2  3   4   5\n",
    "list1=[10,20,30,'A','B','C']\n",
    "list1[0],list1[-6]"
   ]
  },
  {
   "cell_type": "code",
   "execution_count": null,
   "id": "a8851228-f280-4730-a168-0f8ce8a9a271",
   "metadata": {},
   "outputs": [],
   "source": [
    "# postive index of 10 is 0\n",
    "# negative index of 10 is -6\n",
    "# postive index is 0 and negative is -6 for 10"
   ]
  },
  {
   "cell_type": "code",
   "execution_count": 41,
   "id": "0853561b-f810-4072-9549-750c833c89d2",
   "metadata": {},
   "outputs": [
    {
     "data": {
      "text/plain": [
       "10"
      ]
     },
     "execution_count": 41,
     "metadata": {},
     "output_type": "execute_result"
    }
   ],
   "source": [
    "list1=[10]\n",
    "list1[0]\n",
    "# inside list how many elements are there: 1"
   ]
  },
  {
   "cell_type": "code",
   "execution_count": 42,
   "id": "d02424ef-18ab-4978-8a02-c233527dde7a",
   "metadata": {},
   "outputs": [
    {
     "data": {
      "text/plain": [
       "10"
      ]
     },
     "execution_count": 42,
     "metadata": {},
     "output_type": "execute_result"
    }
   ],
   "source": [
    "list1=[[10]]\n",
    "# inside list how many elements are there: 1\n",
    "# [10]\n",
    "list1[0][0]"
   ]
  },
  {
   "cell_type": "code",
   "execution_count": null,
   "id": "3b15cb79-5f9f-432d-85b3-ffa43a84b62c",
   "metadata": {},
   "outputs": [],
   "source": [
    "list1=[[10,20]]  # package\n",
    "len(list1)"
   ]
  },
  {
   "cell_type": "code",
   "execution_count": 43,
   "id": "08a6277d-5358-42ea-b990-bbef64f9f3d4",
   "metadata": {},
   "outputs": [
    {
     "data": {
      "text/plain": [
       "(1, 2)"
      ]
     },
     "execution_count": 43,
     "metadata": {},
     "output_type": "execute_result"
    }
   ],
   "source": [
    "list1=[[10,20]]\n",
    "list2=[10,20]\n",
    "len(list1),len(list2)"
   ]
  },
  {
   "cell_type": "code",
   "execution_count": 29,
   "id": "d0c7fc7d-934a-42b0-814a-d07474ff3959",
   "metadata": {},
   "outputs": [
    {
     "data": {
      "text/plain": [
       "2"
      ]
     },
     "execution_count": 29,
     "metadata": {},
     "output_type": "execute_result"
    }
   ],
   "source": [
    "list1=[10,[20]]\n",
    "# i want 20\n",
    "len(list1)"
   ]
  },
  {
   "cell_type": "code",
   "execution_count": 30,
   "id": "18096821-01f0-4f0a-9353-f66bb732630e",
   "metadata": {},
   "outputs": [
    {
     "data": {
      "text/plain": [
       "20"
      ]
     },
     "execution_count": 30,
     "metadata": {},
     "output_type": "execute_result"
    }
   ],
   "source": [
    "list1=[10,[20]]\n",
    "list1[1][0]"
   ]
  },
  {
   "cell_type": "code",
   "execution_count": 31,
   "id": "32f95d36-0ef5-4fd3-b180-9d462db968bc",
   "metadata": {},
   "outputs": [
    {
     "data": {
      "text/plain": [
       "'Cherry'"
      ]
     },
     "execution_count": 31,
     "metadata": {},
     "output_type": "execute_result"
    }
   ],
   "source": [
    "list1=[10,20,30,'A',['Banana','Cherry']]\n",
    "list1[4][1]"
   ]
  },
  {
   "cell_type": "code",
   "execution_count": 46,
   "id": "bd628215-26ab-4625-8027-2f8b7ce44601",
   "metadata": {},
   "outputs": [
    {
     "data": {
      "text/plain": [
       "['A', ['Apple', 'B', ['Banana'], 'C', ['Cherry']]]"
      ]
     },
     "execution_count": 46,
     "metadata": {},
     "output_type": "execute_result"
    }
   ],
   "source": [
    "list1=['A',['Apple','B',['Banana'],'C',['Cherry']]]\n",
    "list1"
   ]
  },
  {
   "cell_type": "code",
   "execution_count": 48,
   "id": "650943cf-34f9-40ea-b402-5a81b48f4b50",
   "metadata": {},
   "outputs": [
    {
     "data": {
      "text/plain": [
       "'Cherry'"
      ]
     },
     "execution_count": 48,
     "metadata": {},
     "output_type": "execute_result"
    }
   ],
   "source": [
    "list1[1][4][0]"
   ]
  },
  {
   "cell_type": "code",
   "execution_count": 49,
   "id": "fe40c97e-5f55-44c3-871b-76dfffc91017",
   "metadata": {},
   "outputs": [
    {
     "data": {
      "text/plain": [
       "'Dragon fruit'"
      ]
     },
     "execution_count": 49,
     "metadata": {},
     "output_type": "execute_result"
    }
   ],
   "source": [
    "list1=['A',['Apple','B',['Banana','C',['Cherry','D',['Dragon fruit']]]]]\n",
    "len(list1) # two elements are there 0,1\n",
    "len(list1[1]) # three elements 0,1,2 \n",
    "len(list1[1][2]) # three elements 0,1,2\n",
    "len(list1[1][2][2]) # three elements 0,1,2\n",
    "list1[1][2][2][2][0]"
   ]
  },
  {
   "cell_type": "code",
   "execution_count": 35,
   "id": "baa91a08-763a-4870-a54a-7f65b0749cab",
   "metadata": {},
   "outputs": [
    {
     "data": {
      "text/plain": [
       "'Bat'"
      ]
     },
     "execution_count": 35,
     "metadata": {},
     "output_type": "execute_result"
    }
   ],
   "source": [
    "list1=['Apple',['Kashmir',['India',['Cricket',['Bat']]]]]\n",
    "list1[1][1][1][1][0]"
   ]
  },
  {
   "cell_type": "code",
   "execution_count": 50,
   "id": "060ac1fe-9c43-467c-82d1-a8358941f4ef",
   "metadata": {},
   "outputs": [
    {
     "data": {
      "text/plain": [
       "'Vicky'"
      ]
     },
     "execution_count": 50,
     "metadata": {},
     "output_type": "execute_result"
    }
   ],
   "source": [
    "list1=['Orange',['Nagpur',['MH',['Shivaji',['Shambaji',['Vicky']]]]]]\n",
    "list1[1][1][1][1][1][0]"
   ]
  },
  {
   "cell_type": "code",
   "execution_count": 51,
   "id": "fc69a07a-0758-4807-a7bd-3ec804e2c8a6",
   "metadata": {},
   "outputs": [
    {
     "data": {
      "text/plain": [
       "'Apple'"
      ]
     },
     "execution_count": 51,
     "metadata": {},
     "output_type": "execute_result"
    }
   ],
   "source": [
    "list1=[[[[[[[[['Apple']]]]]]]]]\n",
    "list1[0][0][0][0][0][0][0][0][0]"
   ]
  },
  {
   "cell_type": "code",
   "execution_count": 2,
   "id": "80a76dff-1c4b-4ddf-9ea3-25fa46fec6a1",
   "metadata": {},
   "outputs": [],
   "source": [
    "str1='python'\n",
    "list1=['p','y','t','h','o','n']"
   ]
  },
  {
   "cell_type": "code",
   "execution_count": null,
   "id": "c75354ce-e63a-48d5-b8d3-25a8c2316e6e",
   "metadata": {},
   "outputs": [],
   "source": [
    "#       0   1   2   3   4   5\n",
    "list1=['p','y','t','h','o','n']\n",
    "str1='python'"
   ]
  },
  {
   "cell_type": "markdown",
   "id": "ad44bd6c-bd78-4f5f-911b-e46f98e5cd16",
   "metadata": {},
   "source": [
    "**in**"
   ]
  },
  {
   "cell_type": "code",
   "execution_count": 3,
   "id": "cabceeb0-2a20-46df-b768-9f8f35d4f3ec",
   "metadata": {},
   "outputs": [
    {
     "name": "stdout",
     "output_type": "stream",
     "text": [
      "p\n",
      "y\n",
      "t\n",
      "h\n",
      "o\n",
      "n\n"
     ]
    }
   ],
   "source": [
    "'p' in str1\n",
    "'p' in list1\n",
    "\n",
    "for i  in list1:\n",
    "    print(i)"
   ]
  },
  {
   "cell_type": "markdown",
   "id": "d96e7b22-8a2f-46dd-a025-f69ac5f3729b",
   "metadata": {},
   "source": [
    "**range vs in**\n",
    "\n",
    "- when we have use with index then go for range\n",
    "\n",
    "- when we have use with only element go for in"
   ]
  },
  {
   "cell_type": "markdown",
   "id": "1a6da110-cba6-4f9e-b6c5-d603212d5626",
   "metadata": {},
   "source": [
    "**mutable vs immutable**"
   ]
  },
  {
   "cell_type": "code",
   "execution_count": 1,
   "id": "d8a48bbc-aaca-4ab7-8de7-4f0603a71921",
   "metadata": {},
   "outputs": [
    {
     "data": {
      "text/plain": [
       "[20, 200, 300, 400]"
      ]
     },
     "execution_count": 1,
     "metadata": {},
     "output_type": "execute_result"
    }
   ],
   "source": [
    "list1=[100,200,300,400]\n",
    "list1[0]=20\n",
    "list1"
   ]
  },
  {
   "cell_type": "markdown",
   "id": "71888c77-a7f2-453d-b82a-61f8f21fd864",
   "metadata": {},
   "source": [
    "**list are mutable**"
   ]
  },
  {
   "cell_type": "markdown",
   "id": "c62d7512-3ea0-47a6-a2a2-103d8a1e3364",
   "metadata": {},
   "source": [
    "**slice**"
   ]
  },
  {
   "cell_type": "code",
   "execution_count": 2,
   "id": "11122f87-b6e6-492b-aeea-b60649cf5484",
   "metadata": {},
   "outputs": [
    {
     "data": {
      "text/plain": [
       "[10, 20, 30, 40, 50, 'A', 'B', 'C', 'D', 'E', 'apple', 'banana']"
      ]
     },
     "execution_count": 2,
     "metadata": {},
     "output_type": "execute_result"
    }
   ],
   "source": [
    "l1=[10,20,30,40,50,'A','B','C','D','E','apple','banana']\n",
    "l1[:]"
   ]
  },
  {
   "cell_type": "code",
   "execution_count": 3,
   "id": "f603abee-541d-45dc-a587-2449e26c7748",
   "metadata": {},
   "outputs": [
    {
     "data": {
      "text/plain": [
       "[10, 20, 30, 40, 50, 'A', 'B', 'C', 'D', 'E', 'apple', 'banana']"
      ]
     },
     "execution_count": 3,
     "metadata": {},
     "output_type": "execute_result"
    }
   ],
   "source": [
    "l1=[10,20,30,40,50,'A','B','C','D','E','apple','banana']\n",
    "l1[::]"
   ]
  },
  {
   "cell_type": "code",
   "execution_count": 4,
   "id": "6da7227c-17f8-410d-b239-90636dc25bd9",
   "metadata": {},
   "outputs": [
    {
     "data": {
      "text/plain": [
       "['banana', 'apple', 'E', 'D', 'C', 'B', 'A', 50, 40, 30, 20, 10]"
      ]
     },
     "execution_count": 4,
     "metadata": {},
     "output_type": "execute_result"
    }
   ],
   "source": [
    "l1=[10,20,30,40,50,'A','B','C','D','E','apple','banana']\n",
    "l1[::-1]"
   ]
  },
  {
   "cell_type": "code",
   "execution_count": 5,
   "id": "74225282-7609-4338-a80c-d55d708d7614",
   "metadata": {},
   "outputs": [
    {
     "data": {
      "text/plain": [
       "[30, 50, 'B', 'D']"
      ]
     },
     "execution_count": 5,
     "metadata": {},
     "output_type": "execute_result"
    }
   ],
   "source": [
    "l1=[10,20,30,40,50,'A','B','C','D','E','apple','banana']\n",
    "l1[2:10:2]"
   ]
  },
  {
   "cell_type": "code",
   "execution_count": 6,
   "id": "6a5910b5-3861-41a4-870b-a15a77d4d492",
   "metadata": {},
   "outputs": [
    {
     "data": {
      "text/plain": [
       "[]"
      ]
     },
     "execution_count": 6,
     "metadata": {},
     "output_type": "execute_result"
    }
   ],
   "source": [
    "l1=[10,20,30,40,50,'A','B','C','D','E','apple','banana']\n",
    "l1[2:10:-2]"
   ]
  },
  {
   "cell_type": "code",
   "execution_count": 7,
   "id": "9fc847ff-e2a5-41b5-b79d-4890327df327",
   "metadata": {},
   "outputs": [
    {
     "data": {
      "text/plain": [
       "[]"
      ]
     },
     "execution_count": 7,
     "metadata": {},
     "output_type": "execute_result"
    }
   ],
   "source": [
    "l1=[10,20,30,40,50,'A','B','C','D','E','apple','banana']\n",
    "l1[2:-10:2]"
   ]
  },
  {
   "cell_type": "code",
   "execution_count": 8,
   "id": "0a51f24e-66eb-4f8b-b3fc-a0eb82f76076",
   "metadata": {},
   "outputs": [
    {
     "data": {
      "text/plain": [
       "[]"
      ]
     },
     "execution_count": 8,
     "metadata": {},
     "output_type": "execute_result"
    }
   ],
   "source": [
    "l1=[10,20,30,40,50,'A','B','C','D','E','apple','banana']\n",
    "l1[-2:10:2]"
   ]
  },
  {
   "cell_type": "code",
   "execution_count": 9,
   "id": "cacb60e2-a801-4749-8594-b442ac54829b",
   "metadata": {},
   "outputs": [
    {
     "data": {
      "text/plain": [
       "[]"
      ]
     },
     "execution_count": 9,
     "metadata": {},
     "output_type": "execute_result"
    }
   ],
   "source": [
    "l1=[10,20,30,40,50,'A','B','C','D','E','apple','banana']\n",
    "l1[2:-10:-2]"
   ]
  },
  {
   "cell_type": "code",
   "execution_count": 10,
   "id": "84340456-bc18-4c24-b4a2-9adc4e3981dd",
   "metadata": {},
   "outputs": [
    {
     "data": {
      "text/plain": [
       "[]"
      ]
     },
     "execution_count": 10,
     "metadata": {},
     "output_type": "execute_result"
    }
   ],
   "source": [
    "l1=[10,20,30,40,50,'A','B','C','D','E','apple','banana']\n",
    "l1[-2:10:-2]"
   ]
  },
  {
   "cell_type": "code",
   "execution_count": 11,
   "id": "d4127f66-cfff-4164-8eaf-49a1b11fecec",
   "metadata": {},
   "outputs": [
    {
     "data": {
      "text/plain": [
       "[]"
      ]
     },
     "execution_count": 11,
     "metadata": {},
     "output_type": "execute_result"
    }
   ],
   "source": [
    "l1=[10,20,30,40,50,'A','B','C','D','E','apple','banana']\n",
    "l1[-2:-10:2]"
   ]
  },
  {
   "cell_type": "code",
   "execution_count": 12,
   "id": "7f112129-a543-4251-b138-5ce652fb8e1e",
   "metadata": {},
   "outputs": [
    {
     "data": {
      "text/plain": [
       "['apple', 'D', 'B', 50]"
      ]
     },
     "execution_count": 12,
     "metadata": {},
     "output_type": "execute_result"
    }
   ],
   "source": [
    "l1=[10,20,30,40,50,'A','B','C','D','E','apple','banana']\n",
    "l1[-2:-10:-2]"
   ]
  },
  {
   "cell_type": "code",
   "execution_count": 13,
   "id": "84d4468a-9762-4a4e-a906-557910fd5535",
   "metadata": {},
   "outputs": [
    {
     "data": {
      "text/plain": [
       "[]"
      ]
     },
     "execution_count": 13,
     "metadata": {},
     "output_type": "execute_result"
    }
   ],
   "source": [
    "l1=[10,20,30,40,50,'A','B','C','D','E','apple','banana']\n",
    "l1[10:2:2]"
   ]
  },
  {
   "cell_type": "code",
   "execution_count": 14,
   "id": "a28bdbd1-f6e8-4c05-a94c-127c39a0a354",
   "metadata": {},
   "outputs": [
    {
     "data": {
      "text/plain": [
       "['apple', 'D', 'B', 50]"
      ]
     },
     "execution_count": 14,
     "metadata": {},
     "output_type": "execute_result"
    }
   ],
   "source": [
    "l1=[10,20,30,40,50,'A','B','C','D','E','apple','banana']\n",
    "l1[10:2:-2]"
   ]
  },
  {
   "cell_type": "code",
   "execution_count": 15,
   "id": "4daa8622-2aa4-425c-8b10-1a931d8d4aca",
   "metadata": {},
   "outputs": [
    {
     "data": {
      "text/plain": [
       "[]"
      ]
     },
     "execution_count": 15,
     "metadata": {},
     "output_type": "execute_result"
    }
   ],
   "source": [
    "l1=[10,20,30,40,50,'A','B','C','D','E','apple','banana']\n",
    "l1[10:-2:2]"
   ]
  },
  {
   "cell_type": "code",
   "execution_count": 16,
   "id": "1dc8aa9c-a69c-4893-928e-1d6b02777c65",
   "metadata": {},
   "outputs": [
    {
     "data": {
      "text/plain": [
       "[]"
      ]
     },
     "execution_count": 16,
     "metadata": {},
     "output_type": "execute_result"
    }
   ],
   "source": [
    "l1=[10,20,30,40,50,'A','B','C','D','E','apple','banana']\n",
    "l1[-10:2:-2]"
   ]
  },
  {
   "cell_type": "code",
   "execution_count": 17,
   "id": "7b5eb2cc-1617-4a6d-b441-1fec550cbcf4",
   "metadata": {},
   "outputs": [
    {
     "data": {
      "text/plain": [
       "[]"
      ]
     },
     "execution_count": 17,
     "metadata": {},
     "output_type": "execute_result"
    }
   ],
   "source": [
    "l1=[10,20,30,40,50,'A','B','C','D','E','apple','banana']\n",
    "l1[-10:-2:-2]"
   ]
  },
  {
   "cell_type": "markdown",
   "id": "4084ee11-8979-49d4-8dc8-61dd51011d3e",
   "metadata": {},
   "source": [
    "**methods**"
   ]
  },
  {
   "cell_type": "markdown",
   "id": "396f9515-8b92-447d-a237-672b96c76436",
   "metadata": {},
   "source": [
    "- if we wants to know the list method"
   ]
  },
  {
   "cell_type": "code",
   "execution_count": 7,
   "id": "cba698c9-5aad-459f-85c2-6c3780320b1a",
   "metadata": {
    "scrolled": true
   },
   "outputs": [
    {
     "data": {
      "text/plain": [
       "['__add__',\n",
       " '__class__',\n",
       " '__class_getitem__',\n",
       " '__contains__',\n",
       " '__delattr__',\n",
       " '__delitem__',\n",
       " '__dir__',\n",
       " '__doc__',\n",
       " '__eq__',\n",
       " '__format__',\n",
       " '__ge__',\n",
       " '__getattribute__',\n",
       " '__getitem__',\n",
       " '__getstate__',\n",
       " '__gt__',\n",
       " '__hash__',\n",
       " '__iadd__',\n",
       " '__imul__',\n",
       " '__init__',\n",
       " '__init_subclass__',\n",
       " '__iter__',\n",
       " '__le__',\n",
       " '__len__',\n",
       " '__lt__',\n",
       " '__mul__',\n",
       " '__ne__',\n",
       " '__new__',\n",
       " '__reduce__',\n",
       " '__reduce_ex__',\n",
       " '__repr__',\n",
       " '__reversed__',\n",
       " '__rmul__',\n",
       " '__setattr__',\n",
       " '__setitem__',\n",
       " '__sizeof__',\n",
       " '__str__',\n",
       " '__subclasshook__',\n",
       " 'append',\n",
       " 'clear',\n",
       " 'copy',\n",
       " 'count',\n",
       " 'extend',\n",
       " 'index',\n",
       " 'insert',\n",
       " 'pop',\n",
       " 'remove',\n",
       " 'reverse',\n",
       " 'sort']"
      ]
     },
     "execution_count": 7,
     "metadata": {},
     "output_type": "execute_result"
    }
   ],
   "source": [
    "dir([])"
   ]
  },
  {
   "cell_type": "code",
   "execution_count": null,
   "id": "e897e927-e836-44d3-8056-2e13c1a61230",
   "metadata": {},
   "outputs": [],
   "source": [
    "'append'\n",
    " 'clear'\n",
    " 'copy'\n",
    " 'count'\n",
    " 'extend'\n",
    " 'index'\n",
    " 'insert'\n",
    " 'pop'\n",
    " 'remove'\n",
    " 'reverse'\n",
    " 'sort'"
   ]
  },
  {
   "cell_type": "markdown",
   "id": "0605bf4a-1501-4841-b8ac-8db6e7162fe7",
   "metadata": {},
   "source": [
    "- clear\n",
    "\n",
    "- copy\n",
    "\n",
    "- count\n",
    "\n",
    "- append"
   ]
  },
  {
   "cell_type": "code",
   "execution_count": 17,
   "id": "cc6c0ef2-1154-46e7-a590-4b2fe36f265a",
   "metadata": {},
   "outputs": [
    {
     "name": "stdout",
     "output_type": "stream",
     "text": [
      "l1 before clear i should see the output: [10, 20, 30, 'A', 'B', 'C']\n",
      "l1 after apply clear method empty list: []\n"
     ]
    }
   ],
   "source": [
    "l1=[10,20,30,'A','B','C']\n",
    "print('l1 before clear i should see the output:',l1)\n",
    "l1.clear()\n",
    "print('l1 after apply clear method empty list:',l1)"
   ]
  },
  {
   "cell_type": "code",
   "execution_count": 18,
   "id": "e1a1f3dd-19f2-42f1-8597-bdc5e014e01c",
   "metadata": {},
   "outputs": [
    {
     "name": "stdout",
     "output_type": "stream",
     "text": [
      "[]\n",
      "[10, 20, 30, 'A', 'B', 'C']\n"
     ]
    }
   ],
   "source": [
    "l1=[10,20,30,'A','B','C']\n",
    "l2=l1.copy()\n",
    "# i just wants to show the difference \n",
    "print(l1)\n",
    "print(l2)"
   ]
  },
  {
   "cell_type": "code",
   "execution_count": 19,
   "id": "e5b0b78e-2cc1-427c-b1bc-76d75aadad6d",
   "metadata": {},
   "outputs": [
    {
     "data": {
      "text/plain": [
       "[10, 20, 30, 'A', 'B', 'C']"
      ]
     },
     "execution_count": 19,
     "metadata": {},
     "output_type": "execute_result"
    }
   ],
   "source": [
    "l1=[10,20,30,'A','B','C']\n",
    "l2=l1\n",
    "\n",
    "l2"
   ]
  },
  {
   "cell_type": "code",
   "execution_count": 20,
   "id": "64dbd035-e563-4964-9f14-3d913724cbee",
   "metadata": {},
   "outputs": [
    {
     "data": {
      "text/plain": [
       "[10, 20, 30, 'A', 'B', 'C']"
      ]
     },
     "execution_count": 20,
     "metadata": {},
     "output_type": "execute_result"
    }
   ],
   "source": [
    "l11=[10,20,30,'A','B','C']\n",
    "l22=l11.copy()\n",
    "\n",
    "l22"
   ]
  },
  {
   "cell_type": "code",
   "execution_count": 23,
   "id": "e30c3cd0-edcd-4373-b451-e54f24db8ca9",
   "metadata": {},
   "outputs": [
    {
     "data": {
      "text/plain": [
       "40"
      ]
     },
     "execution_count": 23,
     "metadata": {},
     "output_type": "execute_result"
    }
   ],
   "source": [
    "a=10\n",
    "b=20\n",
    "c=b\n",
    "c\n",
    "d=b+20\n",
    "d"
   ]
  },
  {
   "cell_type": "code",
   "execution_count": 8,
   "id": "0ecb63d0-7043-43b9-9078-db50e2d528f0",
   "metadata": {},
   "outputs": [
    {
     "data": {
      "text/plain": [
       "2"
      ]
     },
     "execution_count": 8,
     "metadata": {},
     "output_type": "execute_result"
    }
   ],
   "source": [
    "l1=[10,20,30,'A','B','C',10]\n",
    "l1.count(10)"
   ]
  },
  {
   "cell_type": "code",
   "execution_count": 9,
   "id": "f71a8c93-99f1-41f1-a268-0df852e24bbe",
   "metadata": {},
   "outputs": [
    {
     "data": {
      "text/plain": [
       "3"
      ]
     },
     "execution_count": 9,
     "metadata": {},
     "output_type": "execute_result"
    }
   ],
   "source": [
    "str1='ola ola ola'\n",
    "str1.count('l')"
   ]
  },
  {
   "cell_type": "markdown",
   "id": "56d77d1f-9b80-497c-967c-61d2ba357715",
   "metadata": {},
   "source": [
    "**append**\n",
    "\n",
    "- append is very very important method in the entire list\n",
    "\n",
    "- in our life we will use this method very very frequently\n",
    "\n",
    "- append means adding an element at last"
   ]
  },
  {
   "cell_type": "code",
   "execution_count": 11,
   "id": "fda3c606-ea9c-4261-a5ae-dab7e74a2ac0",
   "metadata": {},
   "outputs": [
    {
     "data": {
      "text/plain": [
       "[10, 20, 30, 'apple']"
      ]
     },
     "execution_count": 11,
     "metadata": {},
     "output_type": "execute_result"
    }
   ],
   "source": [
    "l1=[10,20,30]\n",
    "l1.append('apple')\n",
    "l1 "
   ]
  },
  {
   "cell_type": "code",
   "execution_count": 24,
   "id": "a34dfb97-6aef-4ed0-b37a-b1179ba3f27d",
   "metadata": {},
   "outputs": [
    {
     "data": {
      "text/plain": [
       "[10, 20, 30, 'apple', 'banana']"
      ]
     },
     "execution_count": 24,
     "metadata": {},
     "output_type": "execute_result"
    }
   ],
   "source": [
    "l1=[10,20,30]\n",
    "l1.append('apple')\n",
    "l1.append('banana')\n",
    "l1"
   ]
  },
  {
   "cell_type": "code",
   "execution_count": 13,
   "id": "fc3504e8-e89b-4ce1-95cc-feedb1a24ab7",
   "metadata": {},
   "outputs": [
    {
     "ename": "TypeError",
     "evalue": "list.append() takes exactly one argument (2 given)",
     "output_type": "error",
     "traceback": [
      "\u001b[1;31m---------------------------------------------------------------------------\u001b[0m",
      "\u001b[1;31mTypeError\u001b[0m                                 Traceback (most recent call last)",
      "Cell \u001b[1;32mIn[13], line 2\u001b[0m\n\u001b[0;32m      1\u001b[0m l1\u001b[38;5;241m=\u001b[39m[\u001b[38;5;241m10\u001b[39m,\u001b[38;5;241m20\u001b[39m,\u001b[38;5;241m30\u001b[39m]\n\u001b[1;32m----> 2\u001b[0m \u001b[43ml1\u001b[49m\u001b[38;5;241;43m.\u001b[39;49m\u001b[43mappend\u001b[49m\u001b[43m(\u001b[49m\u001b[38;5;124;43m'\u001b[39;49m\u001b[38;5;124;43mapple\u001b[39;49m\u001b[38;5;124;43m'\u001b[39;49m\u001b[43m,\u001b[49m\u001b[38;5;124;43m'\u001b[39;49m\u001b[38;5;124;43mbanana\u001b[39;49m\u001b[38;5;124;43m'\u001b[39;49m\u001b[43m)\u001b[49m\n\u001b[0;32m      3\u001b[0m l1\n",
      "\u001b[1;31mTypeError\u001b[0m: list.append() takes exactly one argument (2 given)"
     ]
    }
   ],
   "source": [
    "l1=[10,20,30]\n",
    "l1.append('apple','banana')\n",
    "l1"
   ]
  },
  {
   "cell_type": "code",
   "execution_count": 14,
   "id": "02b36685-6380-4947-9bd4-f2505d02c46d",
   "metadata": {},
   "outputs": [
    {
     "data": {
      "text/plain": [
       "[10, 20, 30, ['apple', 'banana']]"
      ]
     },
     "execution_count": 14,
     "metadata": {},
     "output_type": "execute_result"
    }
   ],
   "source": [
    "l1=[10,20,30]\n",
    "l1.append(['apple','banana'])\n",
    "l1"
   ]
  },
  {
   "cell_type": "markdown",
   "id": "6ab034e0-415b-41d4-bbca-8a5765146f0e",
   "metadata": {},
   "source": [
    "**always recall if you see anywhere multiple values means most of the time we will keep those values in a list**"
   ]
  },
  {
   "cell_type": "code",
   "execution_count": null,
   "id": "fd7ed7ee-f448-4bb7-a1ff-4989a87207a9",
   "metadata": {},
   "outputs": [],
   "source": [
    "l1=[10,20,30]\n",
    "l1.append('apple')\n",
    "l1\n",
    "\n",
    "l1=[10,20,30]\n",
    "l1.append('apple')\n",
    "l1.append('banana')\n",
    "l1\n",
    "\n",
    "l1=[10,20,30]\n",
    "l1.append('apple','banana')\n",
    "l1\n",
    "\n",
    "l1=[10,20,30]\n",
    "l1.append(['apple','banana'])\n",
    "l1"
   ]
  },
  {
   "cell_type": "markdown",
   "id": "4f06b340-9a94-441a-9c15-d479bf4d0f7e",
   "metadata": {},
   "source": [
    "**append method is used to store the outputs**"
   ]
  },
  {
   "cell_type": "code",
   "execution_count": 25,
   "id": "54f3c1f1-2db6-425f-bf1a-c068ed649a7a",
   "metadata": {},
   "outputs": [
    {
     "data": {
      "text/plain": [
       "[1, 2, 3, 4, 5]"
      ]
     },
     "execution_count": 25,
     "metadata": {},
     "output_type": "execute_result"
    }
   ],
   "source": [
    "# For example i want to append a numbers from 1 to 5\n",
    "# l=[1,2,3,4,5]\n",
    "\n",
    "l=[]\n",
    "##############################\n",
    "l.append(1)\n",
    "l.append(2)\n",
    "l.append(3)\n",
    "l.append(4)\n",
    "l.append(5)\n",
    "# l.append(i)\n",
    "##############################\n",
    "l"
   ]
  },
  {
   "cell_type": "code",
   "execution_count": null,
   "id": "eddb0f15-d619-459b-b24d-49011040d38d",
   "metadata": {},
   "outputs": [],
   "source": [
    "l=[]\n",
    "for i in range(1,6):\n",
    "    l.append(i)\n",
    "l"
   ]
  },
  {
   "cell_type": "code",
   "execution_count": null,
   "id": "60d6608f-bfcd-4b8e-a89a-78765ef1096d",
   "metadata": {},
   "outputs": [],
   "source": [
    "# Q1) wap ask the user enter 3 random numbers\n",
    "#     and perform the square of the number, save those squares in a list\n",
    "\n",
    "import random\n",
    "l=[]\n",
    "for i in range(3):\n",
    "    num=random.randint(1,100)\n",
    "    l.append(f'{num}:{num*num}')\n",
    "l    "
   ]
  },
  {
   "cell_type": "code",
   "execution_count": null,
   "id": "ef58ef07-12e8-47ef-be8c-08ce63afff41",
   "metadata": {},
   "outputs": [],
   "source": [
    "# Q2) i already have a list of numbers\n",
    "#     l=[10,47,53,12,27]\n",
    "#     from above list i want to get a even_list and odd_list\n",
    "#     even_list=[10,12]\n",
    "#     odd_list=[47,53,27]\n",
    "\n",
    "\n",
    "l=[10,47,53,12,27]\n",
    "even_list=[]\n",
    "odd_list=[]\n",
    "for i in l:\n",
    "    if i%2==0:\n",
    "        even_list.append(i)\n",
    "    else:\n",
    "        odd_list.append(i)\n",
    "print('The even list is:',even_list) \n",
    "print('The odd list is:',odd_list)"
   ]
  },
  {
   "cell_type": "code",
   "execution_count": null,
   "id": "76a85cd6-deda-4301-aa6f-2b117d4dd5a1",
   "metadata": {},
   "outputs": [],
   "source": [
    "# Q3) input=['hyd','bengaluru','pune','mumbai']\n",
    "#     output=['Hyd','Bengaluru','Pune','Mumbai']\n",
    "\n",
    "# Q4) input=['hyd','bengaluru','pune','mumbai']\n",
    "#     output=['HYD','BENGALURU','PUNE','MUMBAI']\n",
    "\n",
    "# Q5) input=['hyd','ben#galuru','pune','mu#mbai']\n",
    "#     output=[ben#galuru',mu#mbai']\n",
    "\n",
    "# Q6) input=['hyd','ben#galuru','pune','mu#mbai']\n",
    "#     output=[hyd,pune]\n",
    "\n",
    "# Q7) input = 'hai how are you'\n",
    "#     output=['HAI','HOW','ARE','YOU']\n",
    "\n",
    "# Q8) input='virat.kohli@rcb.com;rohit.sharma@mi.com;ms.dhoni@csk.com'\n",
    "#     fname=['virat','rohit'.'ms']\n",
    "#     sname=['kohli','sharma','dhoni']\n",
    "#     cname=['rcb','mi','csk']\n",
    "\n",
    "# Q9) input='can canner can you can not canner with you but you can the canner'\n",
    "#     output=['can'-4,'canner'-3,'you'-3,'not'-1,'with'-1,'but'-1,'the'-1]\n",
    "\n",
    "# Q10) input = 'can canner can you can not canner with you but you can the canner'\n",
    "#      stopwords=['not','you','but','with']\n",
    "#      using stopwords remove those words from input\n",
    "#     output='can canner can can canner can canner'\n",
    "\n",
    "# Q11) take a string find the most repeated word from string\n",
    "\n",
    "# Q12) take a string find the longest length of the word from string\n",
    "\n",
    "# Q13) take a string find the lowest length of the word from string\n",
    "\n",
    "# Q14) you have some qns list is there\n",
    "#      also you have answers list also there\n",
    "#     qns=['who is PM of india',\n",
    "#       'what is the capital of india', who is ICT MENS captain]\n",
    "#    ans=['Modi','Delhi','Rohit']\n",
    "#    whenerver correct answer marks +10\n",
    "#    print you got total"
   ]
  },
  {
   "cell_type": "code",
   "execution_count": 1,
   "id": "eaf23d6f-c565-4c4f-8a03-372ac680668f",
   "metadata": {},
   "outputs": [
    {
     "data": {
      "text/plain": [
       "['Hyd', 'Bengaluru', 'Pune', 'Mumbai']"
      ]
     },
     "execution_count": 1,
     "metadata": {},
     "output_type": "execute_result"
    }
   ],
   "source": [
    "# Q3) input=['hyd','bengaluru','pune','mumbai']\n",
    "#     output=['Hyd','Bengaluru','Pune','Mumbai']\n",
    "\n",
    "\n",
    "input=['hyd','bengaluru','pune','mumbai']\n",
    "output=[]\n",
    "for i in input:\n",
    "    output.append(i.capitalize())\n",
    "output    "
   ]
  },
  {
   "cell_type": "code",
   "execution_count": 2,
   "id": "c844fc65-6e11-4198-9ce5-ad3f4c956b20",
   "metadata": {},
   "outputs": [
    {
     "data": {
      "text/plain": [
       "['HYD', 'BENGALURU', 'PUNE', 'MUMBAI']"
      ]
     },
     "execution_count": 2,
     "metadata": {},
     "output_type": "execute_result"
    }
   ],
   "source": [
    "# Q4) input=['hyd','bengaluru','pune','mumbai']\n",
    "#     output=['HYD','BENGALURU','PUNE','MUMBAI']\n",
    "\n",
    "\n",
    "input=['hyd','bengaluru','pune','mumbai']\n",
    "output=[]\n",
    "for i in input:\n",
    "    output.append(i.upper())\n",
    "output "
   ]
  },
  {
   "cell_type": "code",
   "execution_count": 3,
   "id": "23644c52-5112-4cee-8b6d-de0256e026ef",
   "metadata": {},
   "outputs": [
    {
     "data": {
      "text/plain": [
       "['ben#galuru', 'mu#mbai']"
      ]
     },
     "execution_count": 3,
     "metadata": {},
     "output_type": "execute_result"
    }
   ],
   "source": [
    "# Q5) input=['hyd','ben#galuru','pune','mu#mbai']\n",
    "#     output=[ben#galuru',mu#mbai']\n",
    "\n",
    "\n",
    "input=['hyd','ben#galuru','pune','mu#mbai']\n",
    "# we need the elements which are having #\n",
    "output=[]\n",
    "for i in input:\n",
    "    if '#' in i:\n",
    "        output.append(i)\n",
    "output      "
   ]
  },
  {
   "cell_type": "code",
   "execution_count": 4,
   "id": "31fd11f1-03f3-4cb6-b198-f302e00f2199",
   "metadata": {},
   "outputs": [
    {
     "data": {
      "text/plain": [
       "['hyd', 'pune']"
      ]
     },
     "execution_count": 4,
     "metadata": {},
     "output_type": "execute_result"
    }
   ],
   "source": [
    "# Q6) input=['hyd','ben#galuru','pune','mu#mbai']\n",
    "#     output=[hyd,pune]\n",
    "\n",
    "\n",
    "input=['hyd','ben#galuru','pune','mu#mbai']\n",
    "# we need the elements which are not having #\n",
    "output=[]\n",
    "for i in input:\n",
    "    if '#' not in i:\n",
    "        output.append(i)\n",
    "output"
   ]
  },
  {
   "cell_type": "code",
   "execution_count": 5,
   "id": "02de9a6a-d8ed-4483-a8f7-88b8c9d0f979",
   "metadata": {},
   "outputs": [
    {
     "data": {
      "text/plain": [
       "['HAI', 'HOW', 'ARE', 'YOU']"
      ]
     },
     "execution_count": 5,
     "metadata": {},
     "output_type": "execute_result"
    }
   ],
   "source": [
    "# Q7) input = 'hai how are you'\n",
    "#     output=['HAI','HOW','ARE','YOU']\n",
    "\n",
    "\n",
    "input = 'hai how are you'\n",
    "output=[]\n",
    "l=input.split()\n",
    "for i in l:\n",
    "    output.append(i.upper())\n",
    "output    "
   ]
  },
  {
   "cell_type": "code",
   "execution_count": 1,
   "id": "ceb20269-f875-48f0-869d-e5d9ea1f22b7",
   "metadata": {},
   "outputs": [
    {
     "name": "stdout",
     "output_type": "stream",
     "text": [
      "virat.kohli@rcb.com\n",
      "rohit.sharma@mi.com\n",
      "ms.dhoni@csk.com\n"
     ]
    },
    {
     "data": {
      "text/plain": [
       "(['virat', 'rohit', 'ms'], ['kohli', 'sharma', 'dhoni'], ['rcb', 'mi', 'csk'])"
      ]
     },
     "execution_count": 1,
     "metadata": {},
     "output_type": "execute_result"
    }
   ],
   "source": [
    "# Q8) input='virat.kohli@rcb.com;rohit.sharma@mi.com;ms.dhoni@csk.com'\n",
    "#     fname=['virat','rohit'.'ms']\n",
    "#     sname=['kohli','sharma','dhoni']\n",
    "#     cname=['rcb','mi','csk']\n",
    "\n",
    "\n",
    "input='virat.kohli@rcb.com;rohit.sharma@mi.com;ms.dhoni@csk.com'\n",
    "l=input.split(';')\n",
    "fname=[]\n",
    "sname=[]\n",
    "cname=[]\n",
    "for i in l:\n",
    "    print(i)\n",
    "    id1=i.find('.')\n",
    "    id2=i.find('@')\n",
    "    id3=i.find('.',id1+1)\n",
    "    fname.append(i[:id1])\n",
    "    sname.append(i[id1+1:id2])\n",
    "    cname.append(i[id2+1:id3])\n",
    "fname,sname,cname    "
   ]
  },
  {
   "cell_type": "markdown",
   "id": "1d52f09f-8b0b-465b-ac8a-5d8ed0f24197",
   "metadata": {},
   "source": [
    "**word frequency**"
   ]
  },
  {
   "cell_type": "code",
   "execution_count": 9,
   "id": "d74b98b8-967b-4415-9a15-8a77ae38d801",
   "metadata": {},
   "outputs": [
    {
     "data": {
      "text/plain": [
       "['can:4', 'canner:3', 'you:3', 'not:1', 'with:1', 'but:1', 'the:1']"
      ]
     },
     "execution_count": 9,
     "metadata": {},
     "output_type": "execute_result"
    }
   ],
   "source": [
    "# Q9) input='can canner can you can not canner with you but you can the canner'\n",
    "#     output=['can'-4,'canner'-3,'you'-3,'not'-1,'with'-1,'but'-1,'the'-1]\n",
    "\n",
    "\n",
    "input='can canner can you can not canner with you but you can the canner'\n",
    "l=input.split()\n",
    "l1=[]\n",
    "counter=[]\n",
    "for i in l:  # we are getting element from l\n",
    "    if i not in l1:  # that element will present in l1 or not\n",
    "        counter.append(f'{i}:{l.count(i)}')\n",
    "        l1.append(i)  # s=s+i\n",
    "counter        "
   ]
  },
  {
   "cell_type": "code",
   "execution_count": 10,
   "id": "db9c812c-266a-42a6-99e4-de86db488fcc",
   "metadata": {},
   "outputs": [
    {
     "data": {
      "text/plain": [
       "'can canner can can canner can the canner'"
      ]
     },
     "execution_count": 10,
     "metadata": {},
     "output_type": "execute_result"
    }
   ],
   "source": [
    "# Q10) input = 'can canner can you can not canner with you but you can the canner'\n",
    "#      stopwords=['not','you','but','with']\n",
    "#      using stopwords remove those words from input\n",
    "#     output='can canner can can canner can canner'\n",
    "\n",
    "\n",
    "input='can canner can you can not canner with you but you can the canner'\n",
    "l=input.split()\n",
    "stopwords=['not','you','but','with']\n",
    "output=[]\n",
    "for i in l:\n",
    "    if i not in stopwords:\n",
    "        output.append(i)\n",
    "output        \n",
    "' '.join(output)                "
   ]
  },
  {
   "cell_type": "code",
   "execution_count": 1,
   "id": "b7a6ac6d-84f8-419e-ad9d-b87790d4a3f8",
   "metadata": {},
   "outputs": [
    {
     "name": "stdout",
     "output_type": "stream",
     "text": [
      "The most repeated word from string is 'can' and its count is: 4\n"
     ]
    }
   ],
   "source": [
    "# Q11) take a string find the most repeated word from string\n",
    "\n",
    "\n",
    "input='can canner can you can not canner with you but you can the canner'\n",
    "l1=input.split()\n",
    "count=0\n",
    "for i in l1:\n",
    "    if count<l1.count(i):\n",
    "        count=l1.count(i)\n",
    "        letter=i\n",
    "print(f\"The most repeated word from string is '{letter}' and its count is: {count}\")        "
   ]
  },
  {
   "cell_type": "code",
   "execution_count": 2,
   "id": "f21a2ccf-2e60-404c-8eb6-52f7f2da26f8",
   "metadata": {},
   "outputs": [
    {
     "name": "stdout",
     "output_type": "stream",
     "text": [
      "The longest length of the word from string is 'canner' and its count is: 6\n"
     ]
    }
   ],
   "source": [
    "# Q12) take a string find the longest length of the word from string\n",
    "\n",
    "\n",
    "input='can canner can you can not canner with you but you can the canner'\n",
    "l1=input.split()\n",
    "count=0\n",
    "for i in l1:\n",
    "    if len(i)>count:\n",
    "        longest=i\n",
    "        count=len(i)\n",
    "print(f\"The longest length of the word from string is '{longest}' and its count is: {count}\") "
   ]
  },
  {
   "cell_type": "code",
   "execution_count": 3,
   "id": "2817d733-b77d-4ee6-8fbc-db60ade3817b",
   "metadata": {},
   "outputs": [
    {
     "name": "stdout",
     "output_type": "stream",
     "text": [
      "The lowest length of the word from string is 'can' and its count is: 3\n"
     ]
    }
   ],
   "source": [
    "# Q13) take a string find the lowest length of the word from string\n",
    "\n",
    "input='can canner can you can not canner with you but you can the canner'\n",
    "l1=input.split()\n",
    "count=100\n",
    "for i in l1:\n",
    "    if len(i)<count:\n",
    "        lowest=i\n",
    "        count=len(i)\n",
    "print(f\"The lowest length of the word from string is '{lowest}' and its count is: {count}\") "
   ]
  },
  {
   "cell_type": "code",
   "execution_count": 10,
   "id": "3e5099a2-c6f5-4890-a582-f5b4579cf756",
   "metadata": {},
   "outputs": [
    {
     "name": "stdin",
     "output_type": "stream",
     "text": [
      "who is PM of india  modi\n",
      "what is the capital of india  delhi\n",
      "who is ICT MENS captain  rohit\n"
     ]
    },
    {
     "name": "stdout",
     "output_type": "stream",
     "text": [
      "total marks:30\n"
     ]
    }
   ],
   "source": [
    "# Q14) you have some qns list is there\n",
    "#      also you have answers list also there\n",
    "#     qns=['who is PM of india','what is the capital of india', 'who is ICT MENS captain']\n",
    "#    ans=['Modi','Delhi','Rohit']\n",
    "#    whenerver correct answer marks +10\n",
    "#    print you got total\n",
    "\n",
    "\n",
    "qns=['who is PM of india','what is the capital of india','who is ICT MENS captain']\n",
    "ans=['Modi','Delhi','Rohit']\n",
    "total_marks=0\n",
    "for i in range(len(qns)):\n",
    "    user_answer=input(qns[i] + \" \")\n",
    "    if user_answer.strip().lower()==ans[i].lower():\n",
    "        total_marks+=10\n",
    "print(f\"total marks:{total_marks}\")"
   ]
  },
  {
   "cell_type": "markdown",
   "id": "b658d15f-1311-467f-8aa6-59a234ca2a30",
   "metadata": {},
   "source": [
    "**extend**"
   ]
  },
  {
   "cell_type": "code",
   "execution_count": 16,
   "id": "14ca5fc5-e9af-4557-8b03-1e6917e6da94",
   "metadata": {},
   "outputs": [
    {
     "data": {
      "text/plain": [
       "[1, 2, 3, 4, 5, 'A', 'B', 'C', 'D']"
      ]
     },
     "execution_count": 16,
     "metadata": {},
     "output_type": "execute_result"
    }
   ],
   "source": [
    "l1=[1,2,3,4,5]\n",
    "l2=['A','B','C','D']\n",
    "l1.extend(l2)\n",
    "l1"
   ]
  },
  {
   "cell_type": "code",
   "execution_count": 17,
   "id": "ba1f987d-53cf-464e-85ff-4ec91d7846b5",
   "metadata": {},
   "outputs": [
    {
     "data": {
      "text/plain": [
       "['A', 'B', 'C', 'D', 1, 2, 3, 4, 5]"
      ]
     },
     "execution_count": 17,
     "metadata": {},
     "output_type": "execute_result"
    }
   ],
   "source": [
    "l1=[1,2,3,4,5]\n",
    "l2=['A','B','C','D']\n",
    "l2.extend(l1)\n",
    "l2"
   ]
  },
  {
   "cell_type": "code",
   "execution_count": 19,
   "id": "e8d09ad1-95f7-46b5-bb53-6e0cfa212333",
   "metadata": {},
   "outputs": [
    {
     "data": {
      "text/plain": [
       "[1, 2, 3, 4, 5, ['A', 'B', 'C', 'D']]"
      ]
     },
     "execution_count": 19,
     "metadata": {},
     "output_type": "execute_result"
    }
   ],
   "source": [
    "l1=[1,2,3,4,5]\n",
    "l2=['A','B','C','D']\n",
    "l1.append(l2)\n",
    "l1"
   ]
  },
  {
   "cell_type": "code",
   "execution_count": 20,
   "id": "d28f172f-b5a9-4c9d-9a31-d831f121769e",
   "metadata": {},
   "outputs": [
    {
     "name": "stdout",
     "output_type": "stream",
     "text": [
      "[1, 2, 3, 4, 5, 'A', 'B', 'C', 'D']\n",
      "[1, 2, 3, 4, 5]\n",
      "['A', 'B', 'C', 'D']\n",
      "l1 will be overwrite if we use extend\n",
      "[1, 2, 3, 4, 5, 'A', 'B', 'C', 'D']\n"
     ]
    }
   ],
   "source": [
    "l1=[1,2,3,4,5]\n",
    "l2=['A','B','C','D']\n",
    "print(l1+l2)\n",
    "print(l1)\n",
    "print(l2)\n",
    "print('l1 will be overwrite if we use extend')\n",
    "l1.extend(l2)\n",
    "print(l1)"
   ]
  },
  {
   "cell_type": "markdown",
   "id": "1f92e56b-76d7-4deb-9467-56cbcac80919",
   "metadata": {},
   "source": [
    "**index**\n",
    "\n",
    "- strings we have index and find\n",
    "\n",
    "- but in list we have only index\n",
    "\n",
    "- same as strings concepts"
   ]
  },
  {
   "cell_type": "code",
   "execution_count": 4,
   "id": "abb0d37f-459f-4690-bde3-a0d8e64eed54",
   "metadata": {},
   "outputs": [
    {
     "name": "stdout",
     "output_type": "stream",
     "text": [
      "8\n"
     ]
    }
   ],
   "source": [
    "l1=[10,20,30,40,50,'Apple','Banana','Cherry',40,50]\n",
    "il=l1.index(40)\n",
    "print(l1.index(40,il+1))"
   ]
  },
  {
   "cell_type": "markdown",
   "id": "9a7fac3a-9231-453e-bf84-805d39901f23",
   "metadata": {},
   "source": [
    "**insert**\n",
    "\n",
    "- difference between append and insert"
   ]
  },
  {
   "cell_type": "code",
   "execution_count": 21,
   "id": "ff16878f-3bda-42b1-bae5-b2b35bef7e54",
   "metadata": {},
   "outputs": [
    {
     "data": {
      "text/plain": [
       "[10, 20, 30, 40, 50, 'Apple', 100, 'Banana', 'Cherry', 40, 50]"
      ]
     },
     "execution_count": 21,
     "metadata": {},
     "output_type": "execute_result"
    }
   ],
   "source": [
    "l1=[10,20,30,40,50,'Apple','Banana','Cherry',40,50]\n",
    "# i want insert 100 after apple\n",
    "id=l1.index('Apple')\n",
    "l1.insert(id+1,100)\n",
    "l1"
   ]
  },
  {
   "cell_type": "code",
   "execution_count": 22,
   "id": "8cff552a-94cd-459f-83a0-cc939bb3b055",
   "metadata": {},
   "outputs": [
    {
     "data": {
      "text/plain": [
       "[10, 20, 30, 40, 50, 'Apple', 'Banana', 'Cherry', 40, 50, 100]"
      ]
     },
     "execution_count": 22,
     "metadata": {},
     "output_type": "execute_result"
    }
   ],
   "source": [
    "l1=[10,20,30,40,50,'Apple','Banana','Cherry',40,50]\n",
    "l1.append(100)\n",
    "l1"
   ]
  },
  {
   "cell_type": "markdown",
   "id": "8cd4c485-f71c-4c2d-9ed6-5f5769f0c604",
   "metadata": {},
   "source": [
    "**pop vs remove**"
   ]
  },
  {
   "cell_type": "code",
   "execution_count": 6,
   "id": "89324751-c87c-4907-9026-ce1aa34d9f8d",
   "metadata": {},
   "outputs": [
    {
     "data": {
      "text/plain": [
       "50"
      ]
     },
     "execution_count": 6,
     "metadata": {},
     "output_type": "execute_result"
    }
   ],
   "source": [
    "l1=[10,20,30,40,50,'Apple','Banana','Cherry',40,50]\n",
    "l1.pop()"
   ]
  },
  {
   "cell_type": "code",
   "execution_count": 7,
   "id": "b5320937-fec8-4156-b42d-fdf87eeaf6aa",
   "metadata": {},
   "outputs": [
    {
     "data": {
      "text/plain": [
       "[10, 20, 30, 40, 50, 'Banana', 'Cherry', 40, 50]"
      ]
     },
     "execution_count": 7,
     "metadata": {},
     "output_type": "execute_result"
    }
   ],
   "source": [
    "l1=[10,20,30,40,50,'Apple','Banana','Cherry',40,50]\n",
    "l1.pop(5)\n",
    "l1"
   ]
  },
  {
   "cell_type": "code",
   "execution_count": 8,
   "id": "46b5536e-379a-43e4-9732-078caa802d37",
   "metadata": {},
   "outputs": [
    {
     "data": {
      "text/plain": [
       "[10, 20, 30, 50, 'Apple', 'Banana', 'Cherry', 40, 50]"
      ]
     },
     "execution_count": 8,
     "metadata": {},
     "output_type": "execute_result"
    }
   ],
   "source": [
    "l1=[10,20,30,40,50,'Apple','Banana','Cherry',40,50]\n",
    "l1.remove(40)\n",
    "l1"
   ]
  },
  {
   "cell_type": "code",
   "execution_count": 9,
   "id": "b828f56e-31d6-48cc-b173-5730264c1362",
   "metadata": {},
   "outputs": [
    {
     "data": {
      "text/plain": [
       "[10, 20, 30, 40, 50, 'Banana', 'Cherry', 40, 50]"
      ]
     },
     "execution_count": 9,
     "metadata": {},
     "output_type": "execute_result"
    }
   ],
   "source": [
    "l1=[10,20,30,40,50,'Apple','Banana','Cherry',40,50]\n",
    "del(l1[5])\n",
    "l1"
   ]
  },
  {
   "cell_type": "markdown",
   "id": "f4247867-2044-43d2-af07-17345a43eb95",
   "metadata": {},
   "source": [
    "- if we want delete any element\n",
    "\n",
    "- pop : based on index\n",
    "\n",
    "- remove : based on value\n",
    "\n",
    "- del is an inbuilt function"
   ]
  },
  {
   "cell_type": "code",
   "execution_count": 23,
   "id": "cffcfb66-89b8-4724-af52-4bd785274c34",
   "metadata": {},
   "outputs": [
    {
     "name": "stdout",
     "output_type": "stream",
     "text": [
      "[10, 20, 30, 40, 50, 'Apple', 'Banana', 'Cherry', 40, 50]\n"
     ]
    },
    {
     "data": {
      "text/plain": [
       "[10, 20, 30, 40, 50, 'Banana', 'Cherry', 40, 50]"
      ]
     },
     "execution_count": 23,
     "metadata": {},
     "output_type": "execute_result"
    }
   ],
   "source": [
    "l1=[10,20,30,40,50,'Apple','Banana','Cherry',40,50]\n",
    "print(l1)\n",
    "del(l1[5])\n",
    "l1"
   ]
  },
  {
   "cell_type": "code",
   "execution_count": 24,
   "id": "d0ede334-c209-441e-8ac4-4e47929dc965",
   "metadata": {},
   "outputs": [
    {
     "data": {
      "text/plain": [
       "[10, 20, 30, 40, 50, 'Banana', 'Cherry', 40, 50]"
      ]
     },
     "execution_count": 24,
     "metadata": {},
     "output_type": "execute_result"
    }
   ],
   "source": [
    "l1=[10,20,30,40,50,'Apple','Banana','Cherry',40,50]\n",
    "del l1[5]  # del(l1[5])\n",
    "l1"
   ]
  },
  {
   "cell_type": "markdown",
   "id": "7a4d2b20-1ad6-4fae-8934-0bdf42f3069f",
   "metadata": {},
   "source": [
    "**reverse-reversed**\n",
    "\n",
    "- reversed is a method\n",
    "\n",
    "- reversed is an inbuilt function"
   ]
  },
  {
   "cell_type": "code",
   "execution_count": 10,
   "id": "3813798b-f197-4c87-be64-70826807f417",
   "metadata": {},
   "outputs": [
    {
     "data": {
      "text/plain": [
       "[50, 40, 30, 20, 10]"
      ]
     },
     "execution_count": 10,
     "metadata": {},
     "output_type": "execute_result"
    }
   ],
   "source": [
    "l1=[10,20,30,40,50]\n",
    "l1.reverse()\n",
    "l1"
   ]
  },
  {
   "cell_type": "code",
   "execution_count": 25,
   "id": "b025bbd8-c7b4-49e0-917d-501dc23a974d",
   "metadata": {},
   "outputs": [
    {
     "name": "stdout",
     "output_type": "stream",
     "text": [
      "[10, 20, 30, 40, 50]\n"
     ]
    }
   ],
   "source": [
    "l1=[10,20,30,40,50]\n",
    "reversed(l1)\n",
    "print(l1)"
   ]
  },
  {
   "cell_type": "markdown",
   "id": "1b9ae566-1b50-4427-9cc6-4c716416e3c5",
   "metadata": {},
   "source": [
    "**in place**\n",
    "\n",
    "- when we perform the operation some times the values will not overwrite\n",
    "\n",
    "- if we see **inplace** word or **inplace=True**\n",
    "\n",
    "- this indicates the output will be overwrite in corresponding variable"
   ]
  },
  {
   "cell_type": "markdown",
   "id": "0491f4cc-f9f1-485b-a726-eb3f6880cb55",
   "metadata": {},
   "source": [
    "**sort-sorted**"
   ]
  },
  {
   "cell_type": "code",
   "execution_count": 26,
   "id": "35de0376-421e-480f-b7e5-dbe8655d6dc9",
   "metadata": {},
   "outputs": [
    {
     "data": {
      "text/plain": [
       "[10, 20, 30, 40, 50]"
      ]
     },
     "execution_count": 26,
     "metadata": {},
     "output_type": "execute_result"
    }
   ],
   "source": [
    "l1=[20,10,40,30,50]\n",
    "l1.sort()\n",
    "l1"
   ]
  },
  {
   "cell_type": "code",
   "execution_count": 11,
   "id": "7e0710c9-7a31-4f91-b41b-00f5093cf886",
   "metadata": {},
   "outputs": [
    {
     "data": {
      "text/plain": [
       "[10, 20, 30, 40, 50]"
      ]
     },
     "execution_count": 11,
     "metadata": {},
     "output_type": "execute_result"
    }
   ],
   "source": [
    "l1=[20,10,40,30,50]\n",
    "sorted(l1)"
   ]
  },
  {
   "cell_type": "code",
   "execution_count": 27,
   "id": "e10bef7a-bced-4b03-bbce-1d95637359f5",
   "metadata": {},
   "outputs": [
    {
     "data": {
      "text/plain": [
       "['h', 'n', 'o', 'p', 't', 'y']"
      ]
     },
     "execution_count": 27,
     "metadata": {},
     "output_type": "execute_result"
    }
   ],
   "source": [
    "str1='python'\n",
    "sorted(str1)  # string lists"
   ]
  },
  {
   "cell_type": "code",
   "execution_count": null,
   "id": "44c40bca-bab7-4b0c-8278-b03017d96c9e",
   "metadata": {},
   "outputs": [],
   "source": [
    "str1.sort()  # it is not available"
   ]
  },
  {
   "cell_type": "markdown",
   "id": "3c5da902-1e95-42dc-9737-8d635f5f1091",
   "metadata": {},
   "source": [
    "- inbuilt functions applicable for any datatype\n",
    "\n",
    "- but methods works wrt data types"
   ]
  },
  {
   "cell_type": "code",
   "execution_count": null,
   "id": "9965711b-ccf9-4687-bfe9-365cbbc0482f",
   "metadata": {},
   "outputs": [],
   "source": []
  }
 ],
 "metadata": {
  "kernelspec": {
   "display_name": "Python 3 (ipykernel)",
   "language": "python",
   "name": "python3"
  },
  "language_info": {
   "codemirror_mode": {
    "name": "ipython",
    "version": 3
   },
   "file_extension": ".py",
   "mimetype": "text/x-python",
   "name": "python",
   "nbconvert_exporter": "python",
   "pygments_lexer": "ipython3",
   "version": "3.12.7"
  }
 },
 "nbformat": 4,
 "nbformat_minor": 5
}
