{
 "cells": [
  {
   "cell_type": "markdown",
   "id": "817e4ce2-ecc6-4a66-8466-d43b4daa18b4",
   "metadata": {},
   "source": [
    "- Basic representations\n",
    "\n",
    "- inbuilt functions\n",
    "\n",
    "    - type\n",
    "\n",
    "    - print\n",
    "\n",
    "    - min\n",
    "\n",
    "    - max\n",
    "\n",
    "    - len\n",
    "\n",
    "    - sum\n",
    "\n",
    "    - reversed\n",
    "\n",
    "    - sorted\n",
    "\n",
    "    - concatenation\n",
    "\n",
    "    - index\n",
    "\n",
    "    - in \n",
    "\n",
    "    - difference between index and in\n",
    "\n",
    "    - mutable vs immutable\n",
    "\n",
    "    - slice\n",
    "\n",
    "    - Methods    "
   ]
  },
  {
   "cell_type": "markdown",
   "id": "d2550e5b-32b6-44be-bb35-ea0cef5a2aa0",
   "metadata": {},
   "source": [
    "**Basic Representation**"
   ]
  },
  {
   "cell_type": "markdown",
   "id": "4c554e44-5b0e-4ab2-b664-b3b532b2b036",
   "metadata": {},
   "source": [
    "- Strings elements is in quotes\n",
    "\n",
    "- List elements is in square brackets\n",
    "\n",
    "- Tuple elements is in parentheses "
   ]
  },
  {
   "cell_type": "code",
   "execution_count": 1,
   "id": "d65ce434-e9f4-4d81-adba-582d85bf7b52",
   "metadata": {},
   "outputs": [
    {
     "data": {
      "text/plain": [
       "(10, 20, 30, 40)"
      ]
     },
     "execution_count": 1,
     "metadata": {},
     "output_type": "execute_result"
    }
   ],
   "source": [
    "tuple1=(10,20,30,40)\n",
    "tuple1"
   ]
  },
  {
   "cell_type": "code",
   "execution_count": 2,
   "id": "0e2de57e-58b1-49d2-bf99-3118e4cf2233",
   "metadata": {},
   "outputs": [
    {
     "data": {
      "text/plain": [
       "tuple"
      ]
     },
     "execution_count": 2,
     "metadata": {},
     "output_type": "execute_result"
    }
   ],
   "source": [
    "type(tuple1)\n",
    "# for strings ===== str\n",
    "# we will say strings ===== but type is str\n",
    "# we will say list ===== type also list\n",
    "# we will say tuple ===== type also tuple"
   ]
  },
  {
   "cell_type": "code",
   "execution_count": 3,
   "id": "ae36a9da-7200-465c-be35-63a6e294bfba",
   "metadata": {},
   "outputs": [
    {
     "data": {
      "text/plain": [
       "('A', 'B', 'C', 'D')"
      ]
     },
     "execution_count": 3,
     "metadata": {},
     "output_type": "execute_result"
    }
   ],
   "source": [
    "tuple2=('A','B','C','D')\n",
    "tuple2"
   ]
  },
  {
   "cell_type": "code",
   "execution_count": 4,
   "id": "2bc63d44-d3a0-4d48-a679-ca4d10c25d04",
   "metadata": {},
   "outputs": [
    {
     "data": {
      "text/plain": [
       "(10, 20, 30, 40, 'A', 'B', 'C', 'D')"
      ]
     },
     "execution_count": 4,
     "metadata": {},
     "output_type": "execute_result"
    }
   ],
   "source": [
    "tuple3=(10,20,30,40,'A','B','C','D')\n",
    "tuple3"
   ]
  },
  {
   "cell_type": "code",
   "execution_count": 1,
   "id": "795d58d6-77a4-4301-a408-13518e2bc72b",
   "metadata": {},
   "outputs": [
    {
     "data": {
      "text/plain": [
       "(10, 20, 30, 40, 'Apple', 'Banana', 'Cherry', True, False, 10.5, (20+30j))"
      ]
     },
     "execution_count": 1,
     "metadata": {},
     "output_type": "execute_result"
    }
   ],
   "source": [
    "tuple4=(10,20,30,40,'Apple','Banana','Cherry',True,False,10.5,20+30j)\n",
    "tuple4"
   ]
  },
  {
   "cell_type": "code",
   "execution_count": 1,
   "id": "9acb5ad9-bfb8-4479-8e2d-6a37399d7877",
   "metadata": {},
   "outputs": [
    {
     "data": {
      "text/plain": [
       "6"
      ]
     },
     "execution_count": 1,
     "metadata": {},
     "output_type": "execute_result"
    }
   ],
   "source": [
    "tuple1=(10,20,30,40,5,75)\n",
    "len(tuple1)"
   ]
  },
  {
   "cell_type": "code",
   "execution_count": 11,
   "id": "837c1ae4-dcef-4a57-b5f5-fd14f75e41e1",
   "metadata": {},
   "outputs": [
    {
     "data": {
      "text/plain": [
       "4"
      ]
     },
     "execution_count": 11,
     "metadata": {},
     "output_type": "execute_result"
    }
   ],
   "source": [
    "tuple2=('Apple','apple','Cherry','banana')\n",
    "len(tuple2)"
   ]
  },
  {
   "cell_type": "code",
   "execution_count": 2,
   "id": "bd36be6b-e191-4775-96a6-64c83178f63e",
   "metadata": {},
   "outputs": [
    {
     "data": {
      "text/plain": [
       "10"
      ]
     },
     "execution_count": 2,
     "metadata": {},
     "output_type": "execute_result"
    }
   ],
   "source": [
    "tuple3=(10,20,30,40,5,75,'Apple','apple','Cherry','banana')\n",
    "len(tuple3)"
   ]
  },
  {
   "cell_type": "code",
   "execution_count": 3,
   "id": "6420c325-34f0-4dfa-b153-df0d47429db2",
   "metadata": {},
   "outputs": [
    {
     "data": {
      "text/plain": [
       "(5, 'APple')"
      ]
     },
     "execution_count": 3,
     "metadata": {},
     "output_type": "execute_result"
    }
   ],
   "source": [
    "tuple1=(10,20,30,40,5,75)\n",
    "tuple2=('Apple','APple','Cherry','banana')\n",
    "#       65,112   65,80     67       98\n",
    "min(tuple1),min(tuple2)"
   ]
  },
  {
   "cell_type": "code",
   "execution_count": 2,
   "id": "6fd82a2b-7f74-4acf-b092-1bddb7d52d74",
   "metadata": {},
   "outputs": [
    {
     "ename": "TypeError",
     "evalue": "'<' not supported between instances of 'str' and 'int'",
     "output_type": "error",
     "traceback": [
      "\u001b[1;31m---------------------------------------------------------------------------\u001b[0m",
      "\u001b[1;31mTypeError\u001b[0m                                 Traceback (most recent call last)",
      "Cell \u001b[1;32mIn[2], line 2\u001b[0m\n\u001b[0;32m      1\u001b[0m tuple3\u001b[38;5;241m=\u001b[39m(\u001b[38;5;241m10\u001b[39m,\u001b[38;5;241m20\u001b[39m,\u001b[38;5;241m30\u001b[39m,\u001b[38;5;241m40\u001b[39m,\u001b[38;5;241m5\u001b[39m,\u001b[38;5;241m75\u001b[39m,\u001b[38;5;124m'\u001b[39m\u001b[38;5;124mApple\u001b[39m\u001b[38;5;124m'\u001b[39m,\u001b[38;5;124m'\u001b[39m\u001b[38;5;124mapple\u001b[39m\u001b[38;5;124m'\u001b[39m,\u001b[38;5;124m'\u001b[39m\u001b[38;5;124mCherry\u001b[39m\u001b[38;5;124m'\u001b[39m,\u001b[38;5;124m'\u001b[39m\u001b[38;5;124mbanana\u001b[39m\u001b[38;5;124m'\u001b[39m)\n\u001b[1;32m----> 2\u001b[0m \u001b[38;5;28;43mmin\u001b[39;49m\u001b[43m(\u001b[49m\u001b[43mtuple3\u001b[49m\u001b[43m)\u001b[49m\n",
      "\u001b[1;31mTypeError\u001b[0m: '<' not supported between instances of 'str' and 'int'"
     ]
    }
   ],
   "source": [
    "tuple3=(10,20,30,40,5,75,'Apple','apple','Cherry','banana')\n",
    "min(tuple3)"
   ]
  },
  {
   "cell_type": "code",
   "execution_count": 4,
   "id": "e181519a-3bd7-4beb-8482-a351be467b33",
   "metadata": {},
   "outputs": [
    {
     "data": {
      "text/plain": [
       "(75, 'banana')"
      ]
     },
     "execution_count": 4,
     "metadata": {},
     "output_type": "execute_result"
    }
   ],
   "source": [
    "tuple1=(10,20,30,40,5,75)\n",
    "tuple2=('Apple','apple','Cherry','banana')\n",
    "tuple3=(10,20,2,5,75,'Apple','apple','Cherry','banana')\n",
    "max(tuple1),max(tuple2)\n",
    "# max(tuple3)"
   ]
  },
  {
   "cell_type": "code",
   "execution_count": 5,
   "id": "57d28bdb-f85b-420f-bc4b-10d5031faa08",
   "metadata": {},
   "outputs": [
    {
     "data": {
      "text/plain": [
       "180"
      ]
     },
     "execution_count": 5,
     "metadata": {},
     "output_type": "execute_result"
    }
   ],
   "source": [
    "tuple1=(10,20,30,40,5,75)\n",
    "sum(tuple1)"
   ]
  },
  {
   "cell_type": "code",
   "execution_count": 62,
   "id": "66d3a965-a144-46bc-8ebd-a4772b58a0a4",
   "metadata": {},
   "outputs": [
    {
     "ename": "TypeError",
     "evalue": "unsupported operand type(s) for +: 'int' and 'str'",
     "output_type": "error",
     "traceback": [
      "\u001b[1;31m---------------------------------------------------------------------------\u001b[0m",
      "\u001b[1;31mTypeError\u001b[0m                                 Traceback (most recent call last)",
      "Cell \u001b[1;32mIn[62], line 2\u001b[0m\n\u001b[0;32m      1\u001b[0m tuple2\u001b[38;5;241m=\u001b[39m(\u001b[38;5;124m'\u001b[39m\u001b[38;5;124mApple\u001b[39m\u001b[38;5;124m'\u001b[39m,\u001b[38;5;124m'\u001b[39m\u001b[38;5;124mapple\u001b[39m\u001b[38;5;124m'\u001b[39m,\u001b[38;5;124m'\u001b[39m\u001b[38;5;124mCherry\u001b[39m\u001b[38;5;124m'\u001b[39m,\u001b[38;5;124m'\u001b[39m\u001b[38;5;124mbanana\u001b[39m\u001b[38;5;124m'\u001b[39m)\n\u001b[1;32m----> 2\u001b[0m \u001b[38;5;28;43msum\u001b[39;49m\u001b[43m(\u001b[49m\u001b[43mtuple2\u001b[49m\u001b[43m)\u001b[49m\n",
      "\u001b[1;31mTypeError\u001b[0m: unsupported operand type(s) for +: 'int' and 'str'"
     ]
    }
   ],
   "source": [
    "tuple2=('Apple','apple','Cherry','banana')\n",
    "sum(tuple2)"
   ]
  },
  {
   "cell_type": "code",
   "execution_count": 6,
   "id": "df86776d-cbac-4eff-ac08-e33edd5782b6",
   "metadata": {},
   "outputs": [
    {
     "data": {
      "text/plain": [
       "[5, 10, 20, 30, 40, 75]"
      ]
     },
     "execution_count": 6,
     "metadata": {},
     "output_type": "execute_result"
    }
   ],
   "source": [
    "tuple1=(10,20,30,40,5,75)\n",
    "sorted(tuple1)"
   ]
  },
  {
   "cell_type": "code",
   "execution_count": 64,
   "id": "48319583-4337-4a77-8044-90998ea32bd2",
   "metadata": {},
   "outputs": [
    {
     "data": {
      "text/plain": [
       "['Apple', 'Cherry', 'apple', 'banana']"
      ]
     },
     "execution_count": 64,
     "metadata": {},
     "output_type": "execute_result"
    }
   ],
   "source": [
    "tuple2=('Apple','apple','Cherry','banana')\n",
    "sorted(tuple2)"
   ]
  },
  {
   "cell_type": "code",
   "execution_count": 7,
   "id": "bcfeca28-4970-43a3-9bfe-f84049ba3322",
   "metadata": {},
   "outputs": [
    {
     "ename": "TypeError",
     "evalue": "'<' not supported between instances of 'str' and 'int'",
     "output_type": "error",
     "traceback": [
      "\u001b[1;31m------------------------------------------------\u001b[0m",
      "\u001b[1;31mTypeError\u001b[0m      Traceback (most recent call last)",
      "Cell \u001b[1;32mIn[7], line 2\u001b[0m\n\u001b[0;32m      1\u001b[0m tuple3\u001b[38;5;241m=\u001b[39m(\u001b[38;5;241m10\u001b[39m,\u001b[38;5;241m20\u001b[39m,\u001b[38;5;241m30\u001b[39m,\u001b[38;5;241m40\u001b[39m,\u001b[38;5;241m5\u001b[39m,\u001b[38;5;241m75\u001b[39m,\u001b[38;5;124m'\u001b[39m\u001b[38;5;124mApple\u001b[39m\u001b[38;5;124m'\u001b[39m,\u001b[38;5;124m'\u001b[39m\u001b[38;5;124mapple\u001b[39m\u001b[38;5;124m'\u001b[39m,\u001b[38;5;124m'\u001b[39m\u001b[38;5;124mCherry\u001b[39m\u001b[38;5;124m'\u001b[39m,\u001b[38;5;124m'\u001b[39m\u001b[38;5;124mbanana\u001b[39m\u001b[38;5;124m'\u001b[39m)\n\u001b[1;32m----> 2\u001b[0m \u001b[38;5;28;43msorted\u001b[39;49m\u001b[43m(\u001b[49m\u001b[43mtuple3\u001b[49m\u001b[43m)\u001b[49m  \u001b[38;5;66;03m# fail\u001b[39;00m\n",
      "\u001b[1;31mTypeError\u001b[0m: '<' not supported between instances of 'str' and 'int'"
     ]
    }
   ],
   "source": [
    "tuple3=(10,20,30,40,5,75,'Apple','apple','Cherry','banana')\n",
    "sorted(tuple3)  # fail"
   ]
  },
  {
   "cell_type": "code",
   "execution_count": 8,
   "id": "9fe32f09-d9f3-4f48-bb80-1bc9ca66a62f",
   "metadata": {},
   "outputs": [
    {
     "data": {
      "text/plain": [
       "([5, 10, 20, 30, 40, 75], [75, 40, 30, 20, 10, 5])"
      ]
     },
     "execution_count": 8,
     "metadata": {},
     "output_type": "execute_result"
    }
   ],
   "source": [
    "sorted(tuple1),sorted(tuple1,reverse=True)"
   ]
  },
  {
   "cell_type": "code",
   "execution_count": 9,
   "id": "c031ca76-8ef6-49dc-8b52-2eb82dce4d44",
   "metadata": {},
   "outputs": [
    {
     "data": {
      "text/plain": [
       "(75, 5, 40, 30, 20, 10)"
      ]
     },
     "execution_count": 9,
     "metadata": {},
     "output_type": "execute_result"
    }
   ],
   "source": [
    "# method-1 : apply tuple\n",
    "tuple(reversed(tuple1))"
   ]
  },
  {
   "cell_type": "code",
   "execution_count": 10,
   "id": "cecffab8-2f4f-407c-892a-f2090c26fcbd",
   "metadata": {},
   "outputs": [
    {
     "name": "stdout",
     "output_type": "stream",
     "text": [
      "75\n",
      "5\n",
      "40\n",
      "30\n",
      "20\n",
      "10\n"
     ]
    }
   ],
   "source": [
    "# method-2 : iterate though for loop\n",
    "tuple1=(10,20,30,40,5,75)\n",
    "for i in reversed(tuple1):\n",
    "    print(i)"
   ]
  },
  {
   "cell_type": "markdown",
   "id": "7c7f87e1-7e64-4942-9510-c4c180f97ff7",
   "metadata": {},
   "source": [
    "**Concatenation**"
   ]
  },
  {
   "cell_type": "code",
   "execution_count": 31,
   "id": "52596787-5d28-429a-861d-60a4f1e0fdd0",
   "metadata": {},
   "outputs": [
    {
     "data": {
      "text/plain": [
       "(1, 2, 3, 4, 'A', 'B', 'C', 'D')"
      ]
     },
     "execution_count": 31,
     "metadata": {},
     "output_type": "execute_result"
    }
   ],
   "source": [
    "tuple1=(1,2,3,4)\n",
    "tuple2=('A','B','C','D')\n",
    "tuple1+tuple2"
   ]
  },
  {
   "cell_type": "code",
   "execution_count": 32,
   "id": "9c4f353e-35be-4845-9fd7-6a23e345bc94",
   "metadata": {},
   "outputs": [
    {
     "name": "stdout",
     "output_type": "stream",
     "text": [
      "pythonpython\n",
      "pythonpython\n"
     ]
    }
   ],
   "source": [
    "print('python'*2)\n",
    "print('python'+'python')"
   ]
  },
  {
   "cell_type": "code",
   "execution_count": 37,
   "id": "047c6214-2cb2-4f49-b264-9fdfa06cb3d1",
   "metadata": {},
   "outputs": [
    {
     "name": "stdout",
     "output_type": "stream",
     "text": [
      "(1, 2, 3, 4, 1, 2, 3, 4)\n",
      "(1, 2, 3, 4, 1, 2, 3, 4)\n"
     ]
    }
   ],
   "source": [
    "print(tuple1+tuple1)\n",
    "print(tuple1*2)"
   ]
  },
  {
   "cell_type": "code",
   "execution_count": null,
   "id": "e2f9cb4a-ecfb-4035-bf89-ea6bf2700ba4",
   "metadata": {},
   "outputs": [],
   "source": [
    "tuple1*tuple1  # Fail different error\n",
    "tuple1-tuple1  # Fail unsupported operand\n",
    "tuple1/tuple1  # Fail unsupported operand"
   ]
  },
  {
   "cell_type": "markdown",
   "id": "46787e29-1935-4a14-a7a2-fa1231cac4a3",
   "metadata": {},
   "source": [
    "**index**"
   ]
  },
  {
   "cell_type": "code",
   "execution_count": 2,
   "id": "0454edf2-16e6-4d02-a114-d0edf82125fb",
   "metadata": {},
   "outputs": [
    {
     "data": {
      "text/plain": [
       "(10, 10)"
      ]
     },
     "execution_count": 2,
     "metadata": {},
     "output_type": "execute_result"
    }
   ],
   "source": [
    "# -6 -5 -4  -3  -2  -1\n",
    "# 10 20 30 'A' 'B' 'C'\n",
    "#  0  1  2  3   4   5\n",
    "tuple1=(10,20,30,'A','B','C')\n",
    "tuple1[0],tuple1[-6]"
   ]
  },
  {
   "cell_type": "code",
   "execution_count": null,
   "id": "faaf4129-74bb-473b-b273-bd73645f97e9",
   "metadata": {},
   "outputs": [],
   "source": [
    "# postive index of 10 is 0\n",
    "# negative index of 10 is -6\n",
    "# postive index is 0 and negative is -6 for 10"
   ]
  },
  {
   "cell_type": "code",
   "execution_count": 25,
   "id": "c9efeb7b-e437-4a57-bcee-4315a336ac1c",
   "metadata": {},
   "outputs": [
    {
     "data": {
      "text/plain": [
       "1"
      ]
     },
     "execution_count": 25,
     "metadata": {},
     "output_type": "execute_result"
    }
   ],
   "source": [
    "tuple1=(10,)\n",
    "tuple1[0]\n",
    "# inside tuple how many elements are there: 1"
   ]
  },
  {
   "cell_type": "code",
   "execution_count": 27,
   "id": "03867e63-08cc-4f53-8445-9da6ac603b64",
   "metadata": {},
   "outputs": [
    {
     "data": {
      "text/plain": [
       "10"
      ]
     },
     "execution_count": 27,
     "metadata": {},
     "output_type": "execute_result"
    }
   ],
   "source": [
    "tuple1=((10,),)\n",
    "# inside tuple how many elements are there: 1\n",
    "# (10)\n",
    "tuple1[0][0]"
   ]
  },
  {
   "cell_type": "code",
   "execution_count": 28,
   "id": "a3297796-10c5-4037-81fa-e497103c6e8f",
   "metadata": {},
   "outputs": [],
   "source": [
    "tuple1=((10,20),)  # package\n",
    "len(tuple1)"
   ]
  },
  {
   "cell_type": "code",
   "execution_count": 41,
   "id": "6f579f83-9d5b-4033-8213-245394f0c462",
   "metadata": {},
   "outputs": [
    {
     "data": {
      "text/plain": [
       "(1, 2)"
      ]
     },
     "execution_count": 41,
     "metadata": {},
     "output_type": "execute_result"
    }
   ],
   "source": [
    "tuple1=((10,20),)\n",
    "tuple2=(10,20)\n",
    "len(tuple1),len(tuple2)"
   ]
  },
  {
   "cell_type": "code",
   "execution_count": 70,
   "id": "9f71d6b0-61fb-4d9b-a145-1bf368a7513d",
   "metadata": {},
   "outputs": [
    {
     "data": {
      "text/plain": [
       "2"
      ]
     },
     "execution_count": 70,
     "metadata": {},
     "output_type": "execute_result"
    }
   ],
   "source": [
    "tuple1=(10,(20,))\n",
    "# i want 20\n",
    "len(tuple1)"
   ]
  },
  {
   "cell_type": "code",
   "execution_count": 38,
   "id": "9ccb74a2-2410-43f0-93b8-e83cb387743e",
   "metadata": {},
   "outputs": [
    {
     "data": {
      "text/plain": [
       "20"
      ]
     },
     "execution_count": 38,
     "metadata": {},
     "output_type": "execute_result"
    }
   ],
   "source": [
    "tuple1=(10,(20,))\n",
    "tuple1[1][0]"
   ]
  },
  {
   "cell_type": "code",
   "execution_count": 43,
   "id": "ca61896e-1c1a-4d7c-b048-4d7d06f5881d",
   "metadata": {},
   "outputs": [
    {
     "data": {
      "text/plain": [
       "'Cherry'"
      ]
     },
     "execution_count": 43,
     "metadata": {},
     "output_type": "execute_result"
    }
   ],
   "source": [
    "tuple1=(10,20,30,'A',('Banana','Cherry'))\n",
    "tuple1[4][1]"
   ]
  },
  {
   "cell_type": "code",
   "execution_count": 47,
   "id": "f0f6cd2e-b388-4ff2-8602-acdcae08eb2c",
   "metadata": {},
   "outputs": [
    {
     "data": {
      "text/plain": [
       "'Cherry'"
      ]
     },
     "execution_count": 47,
     "metadata": {},
     "output_type": "execute_result"
    }
   ],
   "source": [
    "tuple1=('A',('Apple','B',('Banana',),'C',('Cherry',)))\n",
    "tuple1[1][4][0]"
   ]
  },
  {
   "cell_type": "code",
   "execution_count": 49,
   "id": "c4f1ec7e-79ff-48c8-9715-cd2697b50a43",
   "metadata": {},
   "outputs": [
    {
     "data": {
      "text/plain": [
       "'Dragon fruit'"
      ]
     },
     "execution_count": 49,
     "metadata": {},
     "output_type": "execute_result"
    }
   ],
   "source": [
    "tuple1=('A',('Apple','B',('Banana','C',('Cherry','D',('Dragon fruit',)))))\n",
    "len(tuple1) # two elements are there 0,1\n",
    "len(tuple1[1]) # three elements 0,1,2 \n",
    "len(tuple1[1][2]) # three elements 0,1,2\n",
    "len(tuple1[1][2][2]) # three elements 0,1,2\n",
    "tuple1[1][2][2][2][0]"
   ]
  },
  {
   "cell_type": "code",
   "execution_count": 51,
   "id": "92fdd183-f06d-4934-a567-514dd0130522",
   "metadata": {},
   "outputs": [
    {
     "data": {
      "text/plain": [
       "'Bat'"
      ]
     },
     "execution_count": 51,
     "metadata": {},
     "output_type": "execute_result"
    }
   ],
   "source": [
    "tuple1=('Apple',('Kashmir',('India',('Cricket',('Bat',)))))\n",
    "tuple1[1][1][1][1][0]"
   ]
  },
  {
   "cell_type": "code",
   "execution_count": 52,
   "id": "64f8d418-65d3-4f52-83f2-60b724050288",
   "metadata": {},
   "outputs": [
    {
     "data": {
      "text/plain": [
       "'Vicky'"
      ]
     },
     "execution_count": 52,
     "metadata": {},
     "output_type": "execute_result"
    }
   ],
   "source": [
    "tuple1=('Orange',('Nagpur',('MH',('Shivaji',('Shambaji',('Vicky',))))))\n",
    "tuple1[1][1][1][1][1][0]"
   ]
  },
  {
   "cell_type": "code",
   "execution_count": 71,
   "id": "f66b3988-2dd2-4bdb-832e-4415847f2c5d",
   "metadata": {},
   "outputs": [
    {
     "data": {
      "text/plain": [
       "'Apple'"
      ]
     },
     "execution_count": 71,
     "metadata": {},
     "output_type": "execute_result"
    }
   ],
   "source": [
    "tuple1=((((((((('Apple',),),),),),),),),)\n",
    "tuple1[0][0][0][0][0][0][0][0][0]"
   ]
  },
  {
   "cell_type": "code",
   "execution_count": 73,
   "id": "4cebc974-5551-40f2-8bb7-08a80b2ccc9c",
   "metadata": {},
   "outputs": [],
   "source": [
    "str1='python'\n",
    "list1=['p','y','t','h','o','n']\n",
    "tuple1=('p','y','t','h','o','n')"
   ]
  },
  {
   "cell_type": "code",
   "execution_count": null,
   "id": "b3856c4d-bb10-4840-af4b-db8695707672",
   "metadata": {},
   "outputs": [],
   "source": [
    "#        0   1   2   3   4   5\n",
    "tuple1=('p','y','t','h','o','n')\n",
    "list1=['p','y','t','h','o','n']\n",
    "str1='python'"
   ]
  },
  {
   "cell_type": "markdown",
   "id": "5aa4c72d-af59-483b-b8ef-56c43d27f286",
   "metadata": {},
   "source": [
    "**in**"
   ]
  },
  {
   "cell_type": "code",
   "execution_count": 74,
   "id": "bfab1f90-060c-450d-b40c-5cb478f23745",
   "metadata": {},
   "outputs": [
    {
     "name": "stdout",
     "output_type": "stream",
     "text": [
      "p\n",
      "y\n",
      "t\n",
      "h\n",
      "o\n",
      "n\n"
     ]
    }
   ],
   "source": [
    "'p' in str1\n",
    "'p' in list1\n",
    "'p' in tuple1\n",
    "\n",
    "for i  in tuple1:\n",
    "    print(i)"
   ]
  },
  {
   "cell_type": "markdown",
   "id": "ff6c1522-7834-45ad-a496-9f17ac59c04b",
   "metadata": {},
   "source": [
    "**range vs in**\n",
    "\n",
    "- when we have use with index then go for range\n",
    "\n",
    "- when we have use with only element go for in"
   ]
  },
  {
   "cell_type": "markdown",
   "id": "60832005-6b54-4f2b-b9ab-d95f0ba16cf1",
   "metadata": {},
   "source": [
    "**mutable vs immutable**"
   ]
  },
  {
   "cell_type": "code",
   "execution_count": 75,
   "id": "a72c5d7c-d322-4212-af54-7946a49adff8",
   "metadata": {},
   "outputs": [
    {
     "ename": "TypeError",
     "evalue": "'tuple' object does not support item assignment",
     "output_type": "error",
     "traceback": [
      "\u001b[1;31m---------------------------------------------------------------------------\u001b[0m",
      "\u001b[1;31mTypeError\u001b[0m                                 Traceback (most recent call last)",
      "Cell \u001b[1;32mIn[75], line 2\u001b[0m\n\u001b[0;32m      1\u001b[0m tuple1\u001b[38;5;241m=\u001b[39m(\u001b[38;5;241m100\u001b[39m,\u001b[38;5;241m200\u001b[39m,\u001b[38;5;241m300\u001b[39m,\u001b[38;5;241m400\u001b[39m)\n\u001b[1;32m----> 2\u001b[0m \u001b[43mtuple1\u001b[49m\u001b[43m[\u001b[49m\u001b[38;5;241;43m0\u001b[39;49m\u001b[43m]\u001b[49m\u001b[38;5;241m=\u001b[39m\u001b[38;5;241m20\u001b[39m\n\u001b[0;32m      3\u001b[0m tuple1\n",
      "\u001b[1;31mTypeError\u001b[0m: 'tuple' object does not support item assignment"
     ]
    }
   ],
   "source": [
    "tuple1=(100,200,300,400)\n",
    "tuple1[0]=20\n",
    "tuple1"
   ]
  },
  {
   "cell_type": "markdown",
   "id": "e6667196-bf16-418d-ba34-ac1907004019",
   "metadata": {},
   "source": [
    "**tuple are immutable**"
   ]
  },
  {
   "cell_type": "markdown",
   "id": "9b503697-ba5c-4cdb-90d4-9b20dd8b8916",
   "metadata": {},
   "source": [
    "**slice**"
   ]
  },
  {
   "cell_type": "code",
   "execution_count": 76,
   "id": "eb648480-bb7d-412b-8a79-24a5b5839401",
   "metadata": {},
   "outputs": [
    {
     "data": {
      "text/plain": [
       "(10, 20, 30, 40, 50, 'A', 'B', 'C', 'D', 'E', 'apple', 'banana')"
      ]
     },
     "execution_count": 76,
     "metadata": {},
     "output_type": "execute_result"
    }
   ],
   "source": [
    "t1=(10,20,30,40,50,'A','B','C','D','E','apple','banana')\n",
    "t1[:]"
   ]
  },
  {
   "cell_type": "code",
   "execution_count": 77,
   "id": "c16a61a6-b3af-4d56-a991-71515e573902",
   "metadata": {},
   "outputs": [
    {
     "data": {
      "text/plain": [
       "(10, 20, 30, 40, 50, 'A', 'B', 'C', 'D', 'E', 'apple', 'banana')"
      ]
     },
     "execution_count": 77,
     "metadata": {},
     "output_type": "execute_result"
    }
   ],
   "source": [
    "t1=(10,20,30,40,50,'A','B','C','D','E','apple','banana')\n",
    "t1[::]"
   ]
  },
  {
   "cell_type": "code",
   "execution_count": 78,
   "id": "b6c872e5-2b67-4b89-bc44-5209e7356c53",
   "metadata": {},
   "outputs": [
    {
     "data": {
      "text/plain": [
       "('banana', 'apple', 'E', 'D', 'C', 'B', 'A', 50, 40, 30, 20, 10)"
      ]
     },
     "execution_count": 78,
     "metadata": {},
     "output_type": "execute_result"
    }
   ],
   "source": [
    "t1=(10,20,30,40,50,'A','B','C','D','E','apple','banana')\n",
    "t1[::-1]"
   ]
  },
  {
   "cell_type": "code",
   "execution_count": 80,
   "id": "c7ba2c1d-1651-4ea1-ae99-51aa1e1a355e",
   "metadata": {},
   "outputs": [
    {
     "data": {
      "text/plain": [
       "(30, 50, 'B', 'D')"
      ]
     },
     "execution_count": 80,
     "metadata": {},
     "output_type": "execute_result"
    }
   ],
   "source": [
    "t1=(10,20,30,40,50,'A','B','C','D','E','apple','banana')\n",
    "t1[2:10:2]"
   ]
  },
  {
   "cell_type": "code",
   "execution_count": 81,
   "id": "013864dc-010a-4187-93a1-033670021405",
   "metadata": {},
   "outputs": [
    {
     "data": {
      "text/plain": [
       "()"
      ]
     },
     "execution_count": 81,
     "metadata": {},
     "output_type": "execute_result"
    }
   ],
   "source": [
    "t1=(10,20,30,40,50,'A','B','C','D','E','apple','banana')\n",
    "t1[2:10:-2]"
   ]
  },
  {
   "cell_type": "code",
   "execution_count": 82,
   "id": "ae4dcd45-985e-41a7-a0a7-610d988c0929",
   "metadata": {},
   "outputs": [
    {
     "data": {
      "text/plain": [
       "()"
      ]
     },
     "execution_count": 82,
     "metadata": {},
     "output_type": "execute_result"
    }
   ],
   "source": [
    "t1=(10,20,30,40,50,'A','B','C','D','E','apple','banana')\n",
    "t1[2:-10:2]"
   ]
  },
  {
   "cell_type": "code",
   "execution_count": 83,
   "id": "76d11b27-aab4-4b15-b986-02cd60ae4c8f",
   "metadata": {},
   "outputs": [
    {
     "data": {
      "text/plain": [
       "()"
      ]
     },
     "execution_count": 83,
     "metadata": {},
     "output_type": "execute_result"
    }
   ],
   "source": [
    "t1=(10,20,30,40,50,'A','B','C','D','E','apple','banana')\n",
    "t1[-2:10:2]"
   ]
  },
  {
   "cell_type": "code",
   "execution_count": 84,
   "id": "8f23eb7b-5189-4a02-8f11-c1d39845a8b9",
   "metadata": {},
   "outputs": [
    {
     "data": {
      "text/plain": [
       "()"
      ]
     },
     "execution_count": 84,
     "metadata": {},
     "output_type": "execute_result"
    }
   ],
   "source": [
    "t1=(10,20,30,40,50,'A','B','C','D','E','apple','banana')\n",
    "t1[2:-10:-2]"
   ]
  },
  {
   "cell_type": "code",
   "execution_count": 85,
   "id": "5f517eca-a255-40d9-824c-0e0e4486871e",
   "metadata": {},
   "outputs": [
    {
     "data": {
      "text/plain": [
       "()"
      ]
     },
     "execution_count": 85,
     "metadata": {},
     "output_type": "execute_result"
    }
   ],
   "source": [
    "t1=(10,20,30,40,50,'A','B','C','D','E','apple','banana')\n",
    "t1[-2:10:-2]"
   ]
  },
  {
   "cell_type": "code",
   "execution_count": 86,
   "id": "818ff283-014d-46a6-aa1a-8b55500c4b89",
   "metadata": {},
   "outputs": [
    {
     "data": {
      "text/plain": [
       "()"
      ]
     },
     "execution_count": 86,
     "metadata": {},
     "output_type": "execute_result"
    }
   ],
   "source": [
    "t1=(10,20,30,40,50,'A','B','C','D','E','apple','banana')\n",
    "t1[-2:-10:2]"
   ]
  },
  {
   "cell_type": "code",
   "execution_count": 87,
   "id": "855ef48e-71e2-4dfa-b0ba-bf7fd1c2c81e",
   "metadata": {},
   "outputs": [
    {
     "data": {
      "text/plain": [
       "('apple', 'D', 'B', 50)"
      ]
     },
     "execution_count": 87,
     "metadata": {},
     "output_type": "execute_result"
    }
   ],
   "source": [
    "t1=(10,20,30,40,50,'A','B','C','D','E','apple','banana')\n",
    "t1[-2:-10:-2]"
   ]
  },
  {
   "cell_type": "code",
   "execution_count": 88,
   "id": "dfe9bfb7-5de8-43ea-ac02-6b6d8feb4a2a",
   "metadata": {},
   "outputs": [
    {
     "data": {
      "text/plain": [
       "()"
      ]
     },
     "execution_count": 88,
     "metadata": {},
     "output_type": "execute_result"
    }
   ],
   "source": [
    "t1=(10,20,30,40,50,'A','B','C','D','E','apple','banana')\n",
    "t1[10:2:2]"
   ]
  },
  {
   "cell_type": "code",
   "execution_count": 89,
   "id": "65afe57d-b835-4da9-9cb2-ac031367582e",
   "metadata": {},
   "outputs": [
    {
     "data": {
      "text/plain": [
       "('apple', 'D', 'B', 50)"
      ]
     },
     "execution_count": 89,
     "metadata": {},
     "output_type": "execute_result"
    }
   ],
   "source": [
    "t1=(10,20,30,40,50,'A','B','C','D','E','apple','banana')\n",
    "t1[10:2:-2]"
   ]
  },
  {
   "cell_type": "code",
   "execution_count": 90,
   "id": "48105e52-06d8-42b0-9a1f-0869d64c16b6",
   "metadata": {},
   "outputs": [
    {
     "data": {
      "text/plain": [
       "()"
      ]
     },
     "execution_count": 90,
     "metadata": {},
     "output_type": "execute_result"
    }
   ],
   "source": [
    "t1=(10,20,30,40,50,'A','B','C','D','E','apple','banana')\n",
    "t1[10:-2:2]"
   ]
  },
  {
   "cell_type": "code",
   "execution_count": 91,
   "id": "9d82b56a-9387-4328-9049-0b86a3a59fc7",
   "metadata": {},
   "outputs": [
    {
     "data": {
      "text/plain": [
       "()"
      ]
     },
     "execution_count": 91,
     "metadata": {},
     "output_type": "execute_result"
    }
   ],
   "source": [
    "t1=(10,20,30,40,50,'A','B','C','D','E','apple','banana')\n",
    "t1[-10:2:-2]"
   ]
  },
  {
   "cell_type": "code",
   "execution_count": 92,
   "id": "7b9bcd5c-4947-4ecb-8a98-5aea602b8ebb",
   "metadata": {},
   "outputs": [
    {
     "data": {
      "text/plain": [
       "()"
      ]
     },
     "execution_count": 92,
     "metadata": {},
     "output_type": "execute_result"
    }
   ],
   "source": [
    "t1=(10,20,30,40,50,'A','B','C','D','E','apple','banana')\n",
    "t1[-10:-2:-2]"
   ]
  },
  {
   "cell_type": "markdown",
   "id": "dc1af5a9-2288-4bec-a3da-a45540da5fdd",
   "metadata": {},
   "source": [
    "**methods**"
   ]
  },
  {
   "cell_type": "markdown",
   "id": "7fde9e24-f951-4fdf-bbf8-82a3ca432b08",
   "metadata": {},
   "source": [
    "- if we wants to know the tuple method"
   ]
  },
  {
   "cell_type": "code",
   "execution_count": 93,
   "id": "2ba3ce63-d7ce-4d0d-91ee-0d990ef45e74",
   "metadata": {},
   "outputs": [
    {
     "data": {
      "text/plain": [
       "['__add__',\n",
       " '__class__',\n",
       " '__class_getitem__',\n",
       " '__contains__',\n",
       " '__delattr__',\n",
       " '__dir__',\n",
       " '__doc__',\n",
       " '__eq__',\n",
       " '__format__',\n",
       " '__ge__',\n",
       " '__getattribute__',\n",
       " '__getitem__',\n",
       " '__getnewargs__',\n",
       " '__getstate__',\n",
       " '__gt__',\n",
       " '__hash__',\n",
       " '__init__',\n",
       " '__init_subclass__',\n",
       " '__iter__',\n",
       " '__le__',\n",
       " '__len__',\n",
       " '__lt__',\n",
       " '__mul__',\n",
       " '__ne__',\n",
       " '__new__',\n",
       " '__reduce__',\n",
       " '__reduce_ex__',\n",
       " '__repr__',\n",
       " '__rmul__',\n",
       " '__setattr__',\n",
       " '__sizeof__',\n",
       " '__str__',\n",
       " '__subclasshook__',\n",
       " 'count',\n",
       " 'index']"
      ]
     },
     "execution_count": 93,
     "metadata": {},
     "output_type": "execute_result"
    }
   ],
   "source": [
    "dir(())"
   ]
  },
  {
   "cell_type": "code",
   "execution_count": null,
   "id": "d7596336-7178-4483-97b3-215ba779941f",
   "metadata": {},
   "outputs": [],
   "source": [
    "'count'\n",
    "'index'"
   ]
  },
  {
   "cell_type": "markdown",
   "id": "03b2d41b-e86e-42fc-a6cd-d94b5d4d0520",
   "metadata": {},
   "source": [
    "- count\n",
    "\n",
    "- index"
   ]
  },
  {
   "cell_type": "code",
   "execution_count": 95,
   "id": "c9951b6d-7531-42a5-8871-5d2fd3186e14",
   "metadata": {},
   "outputs": [
    {
     "data": {
      "text/plain": [
       "2"
      ]
     },
     "execution_count": 95,
     "metadata": {},
     "output_type": "execute_result"
    }
   ],
   "source": [
    "t1=(10,20,30,'A','B','C',10)\n",
    "t1.count(10)"
   ]
  },
  {
   "cell_type": "code",
   "execution_count": 96,
   "id": "d3a18b35-1541-44af-897a-dba1ba866f27",
   "metadata": {},
   "outputs": [
    {
     "data": {
      "text/plain": [
       "2"
      ]
     },
     "execution_count": 96,
     "metadata": {},
     "output_type": "execute_result"
    }
   ],
   "source": [
    "l1=[10,20,30,'A','B','C',10]\n",
    "l1.count(10)"
   ]
  },
  {
   "cell_type": "code",
   "execution_count": 97,
   "id": "a673e7d9-7e11-4a0a-bd2a-9ed3ac1bbf0d",
   "metadata": {},
   "outputs": [
    {
     "data": {
      "text/plain": [
       "3"
      ]
     },
     "execution_count": 97,
     "metadata": {},
     "output_type": "execute_result"
    }
   ],
   "source": [
    "str1='ola ola ola'\n",
    "str1.count('l')"
   ]
  },
  {
   "cell_type": "markdown",
   "id": "15774dac-dfd7-4d54-a1ad-a1df7e68d34b",
   "metadata": {},
   "source": [
    "**index**\n",
    "\n",
    "- strings we have index and find\n",
    "\n",
    "- but in list we have only index\n",
    "\n",
    "- in tuple we have only index\n",
    "\n",
    "- same as strings concepts"
   ]
  },
  {
   "cell_type": "code",
   "execution_count": 98,
   "id": "535aca90-1e11-48df-8eff-bd9b10148448",
   "metadata": {},
   "outputs": [
    {
     "name": "stdout",
     "output_type": "stream",
     "text": [
      "8\n"
     ]
    }
   ],
   "source": [
    "t1=(10,20,30,40,50,'Apple','Banana','Cherry',40,50)\n",
    "it=t1.index(40)\n",
    "print(t1.index(40,it+1))"
   ]
  },
  {
   "cell_type": "code",
   "execution_count": null,
   "id": "1444c02f-5b47-483d-a69e-0e4b14d74077",
   "metadata": {},
   "outputs": [],
   "source": []
  }
 ],
 "metadata": {
  "kernelspec": {
   "display_name": "Python 3 (ipykernel)",
   "language": "python",
   "name": "python3"
  },
  "language_info": {
   "codemirror_mode": {
    "name": "ipython",
    "version": 3
   },
   "file_extension": ".py",
   "mimetype": "text/x-python",
   "name": "python",
   "nbconvert_exporter": "python",
   "pygments_lexer": "ipython3",
   "version": "3.12.7"
  }
 },
 "nbformat": 4,
 "nbformat_minor": 5
}
