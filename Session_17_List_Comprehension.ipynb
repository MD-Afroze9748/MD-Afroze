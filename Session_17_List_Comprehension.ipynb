{
 "cells": [
  {
   "cell_type": "markdown",
   "id": "8cfa3c63-5b94-41ea-b7af-3280b6c62fb2",
   "metadata": {},
   "source": [
    "## List comprehension\n",
    "\n",
    "- List comprehension a way to write list operations in a single line\n",
    "\n",
    "- when we apply for loop and if-else conditional statements then the code compilation become slow\n",
    "\n",
    "- which means it takes much time\n",
    "\n",
    "- in order to avoid the time complexity we will use list comprehension\n",
    "\n",
    "- List comprehension is a single line code"
   ]
  },
  {
   "cell_type": "markdown",
   "id": "a6346ff3-5789-4fd7-a4eb-586adf525cf0",
   "metadata": {},
   "source": [
    "**Case-1:Only for loop**"
   ]
  },
  {
   "cell_type": "code",
   "execution_count": 2,
   "id": "522a46bf-8d82-47a7-8199-9ecc79662150",
   "metadata": {},
   "outputs": [
    {
     "data": {
      "text/plain": [
       "[0, 1, 2, 3, 4, 5, 6, 7, 8, 9]"
      ]
     },
     "execution_count": 2,
     "metadata": {},
     "output_type": "execute_result"
    }
   ],
   "source": [
    "list1=[]\n",
    "for i in range(10):\n",
    "    list1.append(i)\n",
    "list1    "
   ]
  },
  {
   "cell_type": "code",
   "execution_count": null,
   "id": "60698e72-95d7-4037-8caa-b267066ed25b",
   "metadata": {},
   "outputs": [],
   "source": [
    "list1=[<code should write here>]\n",
    "# inside code no need of append\n",
    "list1=[<output var> <for loop>]"
   ]
  },
  {
   "cell_type": "code",
   "execution_count": 4,
   "id": "026118fd-38f6-410d-87f8-bae2fdd51895",
   "metadata": {},
   "outputs": [
    {
     "data": {
      "text/plain": [
       "[0, 1, 2, 3, 4, 5, 6, 7, 8, 9]"
      ]
     },
     "execution_count": 4,
     "metadata": {},
     "output_type": "execute_result"
    }
   ],
   "source": [
    "list1=[i for i in range(10)]\n",
    "list1"
   ]
  },
  {
   "cell_type": "markdown",
   "id": "65209ebf-e60b-4f4e-ba0a-e8b8984d9d3a",
   "metadata": {},
   "source": [
    "**dont give : after for loop**"
   ]
  },
  {
   "cell_type": "code",
   "execution_count": null,
   "id": "6f739e08-b38f-424d-849d-5e50103ef65d",
   "metadata": {},
   "outputs": [],
   "source": [
    "# Q1) input=['hyd','bengaluru','pune','mumbai']\n",
    "#     output=['Hyd','Bengaluru','Pune','Mumbai']\n",
    "\n",
    "# Q2) input=['hyd','bengaluru','pune','mumbai']\n",
    "#     output=['HYD','BENGALURU','PUNE','MUMBAI']\n",
    "\n",
    "# Q3) input=['hyd','bengaluru','pune','mumbai']\n",
    "#     multiply the indexes with 10\n",
    "\n",
    "# Q4) input=['hyd','bengaluru','pune','mumbai']\n",
    "#     calculate the sum of the indexes\n",
    "\n",
    "# Q5) sum of first 10 natural numbers answer save in a list"
   ]
  },
  {
   "cell_type": "code",
   "execution_count": 2,
   "id": "b84d3f42-393d-47b7-acbc-a92b66814605",
   "metadata": {},
   "outputs": [
    {
     "data": {
      "text/plain": [
       "['Hyd', 'Bengaluru', 'Pune', 'Mumbai']"
      ]
     },
     "execution_count": 2,
     "metadata": {},
     "output_type": "execute_result"
    }
   ],
   "source": [
    "# Q1) input=['hyd','bengaluru','pune','mumbai']\n",
    "#     output=['Hyd','Bengaluru','Pune','Mumbai']\n",
    "\n",
    "\n",
    "input=['hyd','bengaluru','pune','mumbai']\n",
    "output=[]\n",
    "for i in input:\n",
    "    output.append(i.capitalize())\n",
    "output"
   ]
  },
  {
   "cell_type": "code",
   "execution_count": 4,
   "id": "10a4d797-f06a-43a2-8410-2412c844b43a",
   "metadata": {},
   "outputs": [
    {
     "data": {
      "text/plain": [
       "['Hyd', 'Bengaluru', 'Pune', 'Mumbai']"
      ]
     },
     "execution_count": 4,
     "metadata": {},
     "output_type": "execute_result"
    }
   ],
   "source": [
    "input=['hyd','bengaluru','pune','mumbai']\n",
    "output=[i.capitalize() for i in output]\n",
    "output"
   ]
  },
  {
   "cell_type": "code",
   "execution_count": 5,
   "id": "7c7c7653-49c8-47a4-82fe-1afc9456e265",
   "metadata": {},
   "outputs": [
    {
     "data": {
      "text/plain": [
       "['HYD', 'BENGALURU', 'PUNE', 'MUMBAI']"
      ]
     },
     "execution_count": 5,
     "metadata": {},
     "output_type": "execute_result"
    }
   ],
   "source": [
    "# Q2) input=['hyd','bengaluru','pune','mumbai']\n",
    "#     output=['HYD','BENGALURU','PUNE','MUMBAI']\n",
    "\n",
    "\n",
    "input=['hyd','bengaluru','pune','mumbai']\n",
    "output=[] \n",
    "for i in input:\n",
    "    output.append(i.upper())\n",
    "output"
   ]
  },
  {
   "cell_type": "code",
   "execution_count": 6,
   "id": "7667702a-9caa-4d09-9214-259dcaad1abf",
   "metadata": {},
   "outputs": [
    {
     "data": {
      "text/plain": [
       "['HYD', 'BENGALURU', 'PUNE', 'MUMBAI']"
      ]
     },
     "execution_count": 6,
     "metadata": {},
     "output_type": "execute_result"
    }
   ],
   "source": [
    "input=['hyd','bengaluru','pune','mumbai']\n",
    "output=[i.upper() for i in input]\n",
    "output"
   ]
  },
  {
   "cell_type": "code",
   "execution_count": 7,
   "id": "be1e472c-52f4-4e35-a5f3-5ee67d8ec169",
   "metadata": {},
   "outputs": [
    {
     "data": {
      "text/plain": [
       "[0, 10, 20, 30]"
      ]
     },
     "execution_count": 7,
     "metadata": {},
     "output_type": "execute_result"
    }
   ],
   "source": [
    "# Q3) input=['hyd','bengaluru','pune','mumbai']\n",
    "#     multiply the indexes with 10\n",
    "\n",
    "# idea : get the indexes list first\n",
    "#        then multiply with 10\n",
    "\n",
    "input=['hyd','bengaluru','pune','mumbai']\n",
    "# for i in input:\n",
    "#    print(input.index(i)*10)\n",
    "\n",
    "[input.index(i)*10 for i in ['hyd','bengaluru','pune','mumbai']]\n",
    "[input.index(i)*10 for i in input]"
   ]
  },
  {
   "cell_type": "code",
   "execution_count": 11,
   "id": "56ab7dc2-ae48-4d8c-9488-098d83681107",
   "metadata": {},
   "outputs": [
    {
     "data": {
      "text/plain": [
       "60"
      ]
     },
     "execution_count": 11,
     "metadata": {},
     "output_type": "execute_result"
    }
   ],
   "source": [
    "# Q4) input=['hyd','bengaluru','pune','mumbai']\n",
    "#     calculate the sum of the indexes\n",
    "\n",
    "\n",
    "input=['hyd','bengaluru','pune','mumbai']\n",
    "output=[input.index(i)*10 for i in input]\n",
    "sum(output)"
   ]
  },
  {
   "cell_type": "code",
   "execution_count": 12,
   "id": "fc8e5e60-3579-4171-9909-5df3ff02ad5c",
   "metadata": {},
   "outputs": [
    {
     "name": "stdout",
     "output_type": "stream",
     "text": [
      "55\n"
     ]
    }
   ],
   "source": [
    "# Q5) sum of first 10 natural numbers answer save in a list\n",
    "\n",
    "\n",
    "summ=0\n",
    "for i in range(1,11):\n",
    "    summ=summ+i\n",
    "print(summ)"
   ]
  },
  {
   "cell_type": "markdown",
   "id": "9781be07-8585-49bc-b36e-7d2f43ce856a",
   "metadata": {},
   "source": [
    "**walrus operator**"
   ]
  },
  {
   "cell_type": "code",
   "execution_count": 13,
   "id": "ef91829c-3e5c-47fb-9a3a-67ea9a85de0d",
   "metadata": {},
   "outputs": [
    {
     "data": {
      "text/plain": [
       "55"
      ]
     },
     "execution_count": 13,
     "metadata": {},
     "output_type": "execute_result"
    }
   ],
   "source": [
    "summ=0\n",
    "#for i in range(1,11):\n",
    "#    summ=summ+i\n",
    "[summ:=summ+i for i in range(1,11)]\n",
    "summ"
   ]
  },
  {
   "cell_type": "markdown",
   "id": "a36911f9-3b6f-47e2-8802-e66cca714af0",
   "metadata": {},
   "source": [
    "**Case-2: for loop if condition**"
   ]
  },
  {
   "cell_type": "code",
   "execution_count": 17,
   "id": "db720eed-3596-45aa-9e81-26159154e815",
   "metadata": {},
   "outputs": [
    {
     "data": {
      "text/plain": [
       "['even:2', 'even:4', 'even:6', 'even:8']"
      ]
     },
     "execution_count": 17,
     "metadata": {},
     "output_type": "execute_result"
    }
   ],
   "source": [
    "# even number\n",
    "even_list=[]\n",
    "for i in range(1,10):\n",
    "    if i%2==0:\n",
    "        even_list.append(f'even:{i}')\n",
    "even_list        "
   ]
  },
  {
   "cell_type": "code",
   "execution_count": null,
   "id": "f4546416-8c5b-4c77-bb0f-1c11ea33aecc",
   "metadata": {},
   "outputs": [],
   "source": [
    "[<output> <if condition> <for loop>] ---- not working\n",
    "[<output> <for loop> <if condition>] ---- working"
   ]
  },
  {
   "cell_type": "code",
   "execution_count": 18,
   "id": "25337b66-b0cc-40d5-81ae-67254ebf6487",
   "metadata": {},
   "outputs": [
    {
     "data": {
      "text/plain": [
       "['even:2', 'even:4', 'even:6', 'even:8']"
      ]
     },
     "execution_count": 18,
     "metadata": {},
     "output_type": "execute_result"
    }
   ],
   "source": [
    "[f'even:{i}' for i in range(1,10) if i%2==0]"
   ]
  },
  {
   "cell_type": "code",
   "execution_count": null,
   "id": "a2c6fa4a-4fca-46a0-ac6c-9b32325a2c0f",
   "metadata": {},
   "outputs": [],
   "source": [
    "# Q6) input=['hyd','ben#galuru','pune','mu#mbai']\n",
    "#     output=[ben#galuru',mu#mbai']\n",
    "\n",
    "# Q7) input=['hyd','ben#galuru','pune','mu#mbai']\n",
    "#     output=[hyd,pune]"
   ]
  },
  {
   "cell_type": "code",
   "execution_count": 19,
   "id": "84699a99-ce8e-4ce3-a616-c3e54af2d267",
   "metadata": {},
   "outputs": [
    {
     "data": {
      "text/plain": [
       "['ben#galuru', 'mu#mbai']"
      ]
     },
     "execution_count": 19,
     "metadata": {},
     "output_type": "execute_result"
    }
   ],
   "source": [
    "# Q6) input=['hyd','ben#galuru','pune','mu#mbai']\n",
    "#     output=[ben#galuru',mu#mbai']\n",
    "\n",
    "\n",
    "input=['hyd','ben#galuru','pune','mu#mbai']\n",
    "output=[]\n",
    "for i in input:\n",
    "    if '#' in i:\n",
    "        output.append(i)\n",
    "output"
   ]
  },
  {
   "cell_type": "code",
   "execution_count": 20,
   "id": "cdf567cd-2b27-4c83-99e1-7ccac41cd142",
   "metadata": {},
   "outputs": [
    {
     "data": {
      "text/plain": [
       "['ben#galuru', 'mu#mbai']"
      ]
     },
     "execution_count": 20,
     "metadata": {},
     "output_type": "execute_result"
    }
   ],
   "source": [
    "input=['hyd','ben#galuru','pune','mu#mbai']\n",
    "output=[i for i in input if '#' in i]\n",
    "output"
   ]
  },
  {
   "cell_type": "code",
   "execution_count": 21,
   "id": "a6c5b67c-0902-4627-b623-5b750d64aaac",
   "metadata": {},
   "outputs": [
    {
     "data": {
      "text/plain": [
       "['hyd', 'pune']"
      ]
     },
     "execution_count": 21,
     "metadata": {},
     "output_type": "execute_result"
    }
   ],
   "source": [
    "# Q7) input=['hyd','ben#galuru','pune','mu#mbai']\n",
    "#     output=[hyd,pune]\n",
    "\n",
    "\n",
    "input=['hyd','ben#galuru','pune','mu#mbai']\n",
    "output=[i for i in input if '#' not in i]\n",
    "output"
   ]
  },
  {
   "cell_type": "markdown",
   "id": "da9ec747-d26b-4bf1-b082-fd1d1b43d054",
   "metadata": {},
   "source": [
    "**case-3: for-if-else**"
   ]
  },
  {
   "cell_type": "code",
   "execution_count": null,
   "id": "bd5299f5-44e6-4591-b6c8-9e5d9a16a1f4",
   "metadata": {},
   "outputs": [],
   "source": [
    "case-1: for loop: [<output> <for loop>]\n",
    "case-2: for-if: [<output> <for loop> <if cond>]\n",
    "case-3: for-if-else: [<if out> <if cond> else <else out> <for loop>]"
   ]
  },
  {
   "cell_type": "code",
   "execution_count": 22,
   "id": "58c655bc-bd2a-4662-accd-2dde12b69caa",
   "metadata": {},
   "outputs": [
    {
     "data": {
      "text/plain": [
       "['odd:1',\n",
       " 'even:2',\n",
       " 'odd:3',\n",
       " 'even:4',\n",
       " 'odd:5',\n",
       " 'even:6',\n",
       " 'odd:7',\n",
       " 'even:8',\n",
       " 'odd:9']"
      ]
     },
     "execution_count": 22,
     "metadata": {},
     "output_type": "execute_result"
    }
   ],
   "source": [
    "# even number\n",
    "# list1=[]\n",
    "# for i in range(1,10):\n",
    "#    if i%2==0:\n",
    "#        list1.append(f'even:{i}')\n",
    "#    else:\n",
    "#        list1.append(f'odd:{i}')\n",
    "# list1\n",
    "\n",
    "[f'even:{i}' if i%2==0 else f'odd:{i}' for i in range(1,10)]"
   ]
  },
  {
   "cell_type": "markdown",
   "id": "ca6b8875-2eab-4ca9-9abd-9d6a2b77c8d6",
   "metadata": {},
   "source": [
    "**case-4: for-if-elif-else**\n",
    "\n",
    "- in List Comprehension we dont have **elif** representation\n",
    "\n",
    "- elif also represent as **else+if**\n",
    "\n",
    "- in elif we have **elif condition** and **elif output**\n",
    "\n",
    "- else elif_output elif_condition    "
   ]
  },
  {
   "cell_type": "code",
   "execution_count": null,
   "id": "07b696c7-98df-4fa1-8832-a302ce70c601",
   "metadata": {},
   "outputs": [],
   "source": [
    "case-1: for loop: [<output> <for loop>]\n",
    "case-2: for-if: [<output> <for loop> <if cond>]\n",
    "case-3: for-if-else: [<if out> <if cond> else <else out> <for loop>]\n",
    "case-4: for-if-elif-else: [<if out> <if cond> else <elif out> <elif cond> else <else out> <for loop>]\n",
    "\n",
    "**Note**: instead of elif term write if"
   ]
  },
  {
   "cell_type": "code",
   "execution_count": 23,
   "id": "926f7003-e89a-486c-851b-0a174f6feb47",
   "metadata": {},
   "outputs": [
    {
     "name": "stdout",
     "output_type": "stream",
     "text": [
      "45: C grade\n",
      "55: C grade\n",
      "65: B grade\n",
      "75: B grade\n",
      "85: B grade\n",
      "95: A grade\n"
     ]
    }
   ],
   "source": [
    "# >85 A grade 60-85 B grade less than 60 C grade\n",
    "\n",
    "\n",
    "l=[45,55,65,75,85,95]\n",
    "for i in l:\n",
    "    if i>85:\n",
    "        print(f'{i}: A grade')\n",
    "    elif i>60:\n",
    "        print(f'{i}: B grade')\n",
    "    else:\n",
    "        print(f'{i}: C grade')"
   ]
  },
  {
   "cell_type": "code",
   "execution_count": 24,
   "id": "d03cf70a-c992-4ba0-bc25-94395456f858",
   "metadata": {},
   "outputs": [
    {
     "data": {
      "text/plain": [
       "['45: C grade',\n",
       " '55: C grade',\n",
       " '65: B grade',\n",
       " '75: B grade',\n",
       " '85: B grade',\n",
       " '95: A grade']"
      ]
     },
     "execution_count": 24,
     "metadata": {},
     "output_type": "execute_result"
    }
   ],
   "source": [
    "# [<if out> <if cond> else <elif out> <elif cond> else <else out> <for loop>]\n",
    "\n",
    "\n",
    "[f'{i}: A grade'if i>85 \\\n",
    "else\n",
    "f'{i}: B grade' if i>60 \\\n",
    "else f'{i}: C grade' \\\n",
    " for i in l]"
   ]
  },
  {
   "cell_type": "markdown",
   "id": "e637c699-cbe7-469a-af36-00078bc54d07",
   "metadata": {},
   "source": [
    "**screening paper question**"
   ]
  },
  {
   "cell_type": "code",
   "execution_count": 7,
   "id": "d33c1c8f-df0f-48f2-8241-f49032dda63d",
   "metadata": {},
   "outputs": [
    {
     "name": "stdout",
     "output_type": "stream",
     "text": [
      "76\n",
      "89\n",
      "53\n",
      "67\n",
      "90\n",
      "82\n",
      "99\n"
     ]
    }
   ],
   "source": [
    "# Q1) Filter the students who passes marks>=50\n",
    "\n",
    "marks=[45,76,89,53,67,90,82,49,33,99]\n",
    "for i in marks:\n",
    "   if i>=50:\n",
    "        print(i)"
   ]
  },
  {
   "cell_type": "code",
   "execution_count": 8,
   "id": "917f2ae4-d9c9-4b3c-9d14-7b89adf0572d",
   "metadata": {},
   "outputs": [
    {
     "data": {
      "text/plain": [
       "[76, 89, 53, 67, 90, 82, 99]"
      ]
     },
     "execution_count": 8,
     "metadata": {},
     "output_type": "execute_result"
    }
   ],
   "source": [
    "marks=[45,76,89,53,67,90,82,49,33,99]\n",
    "[i for i in marks if i>=50]"
   ]
  },
  {
   "cell_type": "code",
   "execution_count": 13,
   "id": "41b2810b-3148-431c-8a05-1be7a51daac3",
   "metadata": {},
   "outputs": [
    {
     "name": "stdout",
     "output_type": "stream",
     "text": [
      "45:F\n",
      "76:B\n",
      "89:A\n",
      "53:C\n",
      "67:C\n",
      "90:A\n",
      "82:B\n",
      "49:F\n",
      "33:F\n",
      "99:A\n"
     ]
    }
   ],
   "source": [
    "# Q2) calculate grades of all students\n",
    "# A: 85+  B: 70-84  C: 50-69  F: <50\n",
    "\n",
    "marks=[45,76,89,53,67,90,82,49,33,99]\n",
    "for i in marks:\n",
    "    if i>=85:\n",
    "        print(f'{i}:A')\n",
    "    elif i>=70:\n",
    "        print(f'{i}:B')\n",
    "    elif i>=50:\n",
    "        print(f'{i}:C')\n",
    "    else:\n",
    "        print(f'{i}:F')"
   ]
  },
  {
   "cell_type": "code",
   "execution_count": 15,
   "id": "334ed387-e117-494c-8950-02d5ff2b675f",
   "metadata": {},
   "outputs": [
    {
     "name": "stdout",
     "output_type": "stream",
     "text": [
      "['Marks=45: F grade.', 'Marks=76: B grade.', 'Marks=89: A grade.', 'Marks=53: C grade.', 'Marks=67: C grade.', 'Marks=90: A grade.', 'Marks=82: B grade.', 'Marks=49: F grade.', 'Marks=33: F grade.', 'Marks=99: A grade.']\n"
     ]
    }
   ],
   "source": [
    "marks=[45,76,89,53,67,90,82,49,33,99]\n",
    "grades_list=[f'Marks={i}: A grade.' if i>=85 else f'Marks={i}: B grade.' if i>=70 else f'Marks={i}: C grade.' if i>=50 else f'Marks={i}: F grade.' for i in marks]\n",
    "print(grades_list)"
   ]
  },
  {
   "cell_type": "code",
   "execution_count": 14,
   "id": "afe4b8a0-b0b1-4db1-bd7a-f7dbb7c368a2",
   "metadata": {},
   "outputs": [
    {
     "data": {
      "text/plain": [
       "['Marks=45: F grade.',\n",
       " 'Marks=76: B grade.',\n",
       " 'Marks=89: A grade.',\n",
       " 'Marks=53: C grade.',\n",
       " 'Marks=67: C grade.',\n",
       " 'Marks=90: A grade.',\n",
       " 'Marks=82: B grade.',\n",
       " 'Marks=49: F grade.',\n",
       " 'Marks=33: F grade.',\n",
       " 'Marks=99: A grade.']"
      ]
     },
     "execution_count": 14,
     "metadata": {},
     "output_type": "execute_result"
    }
   ],
   "source": [
    "marks=[45,76,89,53,67,90,82,49,33,99]\n",
    "[f'Marks={i}: A grade.' if i>=85\n",
    "else f'Marks={i}: B grade.' if i>=70\n",
    "else f'Marks={i}: C grade.' if i>=50\n",
    "else f'Marks={i}: F grade.' \n",
    "for i in marks]"
   ]
  },
  {
   "cell_type": "code",
   "execution_count": 16,
   "id": "88f81137-80fb-4e17-9557-f9f20ab4fcc0",
   "metadata": {},
   "outputs": [
    {
     "name": "stdout",
     "output_type": "stream",
     "text": [
      "50\n",
      "54\n",
      "38\n"
     ]
    }
   ],
   "source": [
    "# Q3) Add 5 grace marks to students who failed\n",
    "\n",
    "\n",
    "marks=[45,76,89,53,67,90,82,49,33,99]\n",
    "for i in marks:\n",
    "   if i<50:\n",
    "        print(i+5)"
   ]
  },
  {
   "cell_type": "code",
   "execution_count": 17,
   "id": "3f01aa93-0e54-4bc1-95b0-d8d03194f604",
   "metadata": {},
   "outputs": [
    {
     "data": {
      "text/plain": [
       "[50, 54, 38]"
      ]
     },
     "execution_count": 17,
     "metadata": {},
     "output_type": "execute_result"
    }
   ],
   "source": [
    "marks=[45,76,89,53,67,90,82,49,33,99]\n",
    "[i+5 for i in marks if i<50]"
   ]
  },
  {
   "cell_type": "code",
   "execution_count": null,
   "id": "2caaabd7-fb22-4031-9fc4-80478ac1728e",
   "metadata": {},
   "outputs": [],
   "source": [
    "# Q4) top 3"
   ]
  },
  {
   "cell_type": "code",
   "execution_count": 1,
   "id": "0a65f93c-bf5c-493c-a932-c2fcd5d08316",
   "metadata": {},
   "outputs": [
    {
     "name": "stdout",
     "output_type": "stream",
     "text": [
      "[99, 90, 89]\n"
     ]
    }
   ],
   "source": [
    "# Q4) identify top 3 scores\n",
    "\n",
    "\n",
    "marks=[45,76,89,53,67,90,82,49,33,99]\n",
    "top_3=[(max_val:=max(marks), marks.remove(max_val))[0] for i in range(3)]\n",
    "print(top_3)"
   ]
  },
  {
   "cell_type": "code",
   "execution_count": 18,
   "id": "754dead0-aaca-4ad5-929d-47f74889cc6e",
   "metadata": {},
   "outputs": [
    {
     "name": "stdout",
     "output_type": "stream",
     "text": [
      "99\n",
      "90\n",
      "89\n"
     ]
    }
   ],
   "source": [
    "marks=[45,76,89,53,67,90,82,49,33,99]\n",
    "max_val=max(marks)  # 99\n",
    "for i in range(3):\n",
    "    max_val=max(marks)     # 99 90 89\n",
    "    print(max_val)         # 99 90 89\n",
    "    marks.remove(max_val)  # 99 gone 90 89"
   ]
  },
  {
   "cell_type": "code",
   "execution_count": 22,
   "id": "c9db37f9-4478-4e7d-b6c3-ed2513149d0b",
   "metadata": {},
   "outputs": [
    {
     "data": {
      "text/plain": [
       "68.3"
      ]
     },
     "execution_count": 22,
     "metadata": {},
     "output_type": "execute_result"
    }
   ],
   "source": [
    "# Q5) Find the average marks of the class\n",
    "\n",
    "\n",
    "marks=[45,76,89,53,67,90,82,49,33,99]\n",
    "summ=0\n",
    "[summ:=summ+i for i in marks]\n",
    "summ/len(marks)"
   ]
  },
  {
   "cell_type": "markdown",
   "id": "17637c05-7594-4114-86c4-9db20c481d29",
   "metadata": {},
   "source": [
    "**distance between two points**"
   ]
  },
  {
   "cell_type": "code",
   "execution_count": null,
   "id": "8db4cb64-dc5b-4ae3-b92c-e57090ed8e4c",
   "metadata": {},
   "outputs": [],
   "source": [
    "# find the distance between l2 with all other points from l1\n",
    "# which is the maximum distance gives me that"
   ]
  },
  {
   "attachments": {
    "b9c59a28-e158-4bfe-9112-9d7df471b3f7.png": {
     "image/png": "[encoded data removed]"
    }
   },
   "cell_type": "markdown",
   "id": "68099536-9312-400f-a4ac-9fd66d21ec6f",
   "metadata": {},
   "source": [
    "![image.png](attachment:b9c59a28-e158-4bfe-9112-9d7df471b3f7.png)"
   ]
  },
  {
   "cell_type": "code",
   "execution_count": 23,
   "id": "6968a6c7-b88f-4f3d-8293-6b8adf675e84",
   "metadata": {},
   "outputs": [
    {
     "data": {
      "text/plain": [
       "28.284271247461902"
      ]
     },
     "execution_count": 23,
     "metadata": {},
     "output_type": "execute_result"
    }
   ],
   "source": [
    "import math\n",
    "l1=[10,20]  # [x1,y1]\n",
    "l2=[30,40]  # [x2,y2]\n",
    "########################################\n",
    "d1=l2[0]-l1[0]  # (x2-x1)^2= 30-10=20\n",
    "d1_square=math.pow(d1,2)\n",
    "d1_square\n",
    "#########################################\n",
    "d2=l2[1]-l1[1]  # (y2-y1)^2= 40-20=20\n",
    "d2_square=math.pow(d2,2)\n",
    "d2_square\n",
    "##########################################\n",
    "summ=d1_square+d2_square\n",
    "##########################################\n",
    "math.sqrt(summ)"
   ]
  },
  {
   "cell_type": "code",
   "execution_count": 24,
   "id": "ed9ba9a4-a088-4a05-9cf6-f5ac80b3fd69",
   "metadata": {},
   "outputs": [
    {
     "data": {
      "text/plain": [
       "28.284271247461902"
      ]
     },
     "execution_count": 24,
     "metadata": {},
     "output_type": "execute_result"
    }
   ],
   "source": [
    "math.sqrt(math.pow(l2[0]-l1[0],2)+math.pow(l2[1]-l1[1],2))"
   ]
  },
  {
   "cell_type": "code",
   "execution_count": 26,
   "id": "be80eb49-d236-44b4-90ae-b48be543c3f3",
   "metadata": {},
   "outputs": [
    {
     "name": "stdout",
     "output_type": "stream",
     "text": [
      "100\n",
      "100\n",
      "400\n",
      "500\n"
     ]
    },
    {
     "data": {
      "text/plain": [
       "22.360679774997898"
      ]
     },
     "execution_count": 26,
     "metadata": {},
     "output_type": "execute_result"
    }
   ],
   "source": [
    "import math\n",
    "l1=[10,20]\n",
    "l2=[20,40]\n",
    "co_diff=0\n",
    "for j in range(len(l2)):\n",
    "    co_diff+=pow(l2[j]-l1[j],2)\n",
    "    print(pow(l2[j]-l1[j],2))\n",
    "    print(co_diff)\n",
    "\n",
    "output=math.sqrt(co_diff)\n",
    "output"
   ]
  },
  {
   "cell_type": "code",
   "execution_count": null,
   "id": "14082415-e32d-4395-a318-ae2d3ea0ad1a",
   "metadata": {},
   "outputs": [],
   "source": [
    "# Q1) how to sort the list\n",
    "# Q2) how to find the maximum value of the list\n",
    "# Q3) how to find the minimum value of the list\n",
    "# Q4) how to find the second maximum value of the list\n",
    "# Q5) how to find the second minimum value of the list\n",
    "# Q6) how to find the longest word of a string\n",
    "# Q7) how to find the most repeated word of a string"
   ]
  }
 ],
 "metadata": {
  "kernelspec": {
   "display_name": "Python 3 (ipykernel)",
   "language": "python",
   "name": "python3"
  },
  "language_info": {
   "codemirror_mode": {
    "name": "ipython",
    "version": 3
   },
   "file_extension": ".py",
   "mimetype": "text/x-python",
   "name": "python",
   "nbconvert_exporter": "python",
   "pygments_lexer": "ipython3",
   "version": "3.12.7"
  }
 },
 "nbformat": 4,
 "nbformat_minor": 5
}
