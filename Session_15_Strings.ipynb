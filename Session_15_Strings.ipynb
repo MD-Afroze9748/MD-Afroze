{
 "cells": [
  {
   "cell_type": "markdown",
   "id": "3577e7e4-aff9-455c-85f5-6a7ddd0e7dc4",
   "metadata": {},
   "source": [
    "========================= Basic python =========================\n",
    "\n",
    "- Variable\n",
    "\n",
    "- Data types\n",
    "\n",
    "- Type conversion\n",
    "\n",
    "- Print\n",
    "\n",
    "- eval and input\n",
    "\n",
    "- Basic codes\n",
    "\n",
    "- Packages\n",
    "\n",
    "- conditional statements \n",
    "\n",
    "- try and except\n",
    "\n",
    "- functions\n",
    "\n",
    "- for loop\n",
    "\n",
    "- while loop\n",
    "\n",
    "========================= Intermediate Python =========================\n",
    "\n",
    "- Strings\n",
    "\n",
    "- Lists\n",
    "\n",
    "- List comprehension\n",
    "\n",
    "- Tuple ====== > You should\n",
    "\n",
    "- Sets  ====== > You should\n",
    "\n",
    "- Dictionary\n",
    "\n",
    "- Lambda functions\n",
    "\n",
    "- File handling\n",
    "\n",
    "========================== OOPS Concepts ========================="
   ]
  },
  {
   "cell_type": "markdown",
   "id": "d9ffe08a-7c32-4e47-a416-fddf4b55bcff",
   "metadata": {},
   "source": [
    "- Basic representations\n",
    "\n",
    "- Inbuilt functions\n",
    "\n",
    "    - print\n",
    "\n",
    "    - type\n",
    "\n",
    "    - len\n",
    "\n",
    "    - sum\n",
    "\n",
    "    - max\n",
    "\n",
    "    - min\n",
    "\n",
    "    - sorted\n",
    "\n",
    "    - reversed\n",
    "\n",
    "- concatenation\n",
    "\n",
    "- indexing\n",
    "\n",
    "- mutable or immutable concept\n",
    "\n",
    "- slice\n",
    "\n",
    "- methods"
   ]
  },
  {
   "cell_type": "markdown",
   "id": "752c761c-8bde-497e-bbb3-4cd1820c5740",
   "metadata": {},
   "source": [
    "**Basic Representation**"
   ]
  },
  {
   "cell_type": "code",
   "execution_count": 1,
   "id": "cfbf700e-9680-47cd-a408-72045851677e",
   "metadata": {},
   "outputs": [
    {
     "data": {
      "text/plain": [
       "'python'"
      ]
     },
     "execution_count": 1,
     "metadata": {},
     "output_type": "execute_result"
    }
   ],
   "source": [
    "name='python'\n",
    "name"
   ]
  },
  {
   "cell_type": "code",
   "execution_count": 2,
   "id": "a350e920-1222-4c1c-8924-321cd44415b5",
   "metadata": {},
   "outputs": [
    {
     "name": "stdout",
     "output_type": "stream",
     "text": [
      "python\n"
     ]
    }
   ],
   "source": [
    "print(name)"
   ]
  },
  {
   "cell_type": "code",
   "execution_count": 3,
   "id": "fc64550a-933d-4e7c-9db8-563374569b15",
   "metadata": {},
   "outputs": [
    {
     "data": {
      "text/plain": [
       "'python'"
      ]
     },
     "execution_count": 3,
     "metadata": {},
     "output_type": "execute_result"
    }
   ],
   "source": [
    "name=\"python\"\n",
    "name"
   ]
  },
  {
   "cell_type": "markdown",
   "id": "945f79aa-3044-4482-a9bb-9260d0abcbb3",
   "metadata": {},
   "source": [
    "- python by default gives output in **single quotes**\n",
    "\n",
    "- when we print the string the output display **without quotes**"
   ]
  },
  {
   "cell_type": "code",
   "execution_count": 1,
   "id": "d78d0898-f78f-4bb8-925e-2fedd0b5e0a3",
   "metadata": {},
   "outputs": [
    {
     "name": "stdout",
     "output_type": "stream",
     "text": [
      "I love 'python'\n"
     ]
    }
   ],
   "source": [
    "str1=\"I love 'python'\"\n",
    "print(str1)"
   ]
  },
  {
   "cell_type": "code",
   "execution_count": 2,
   "id": "75651f26-afc6-424b-8e35-b5f12862dd25",
   "metadata": {},
   "outputs": [
    {
     "name": "stdout",
     "output_type": "stream",
     "text": [
      "I love \"python\"\n"
     ]
    }
   ],
   "source": [
    "str2='I love \"python\"'\n",
    "print(str2)"
   ]
  },
  {
   "cell_type": "markdown",
   "id": "6f375029-5bdc-45fa-a67f-6efa6567b8af",
   "metadata": {},
   "source": [
    "**Doc string**\n",
    "\n",
    "- triple quotes also called as doc string\n",
    "\n",
    "- triple quotes means the user try to convey some information"
   ]
  },
  {
   "cell_type": "markdown",
   "id": "825a0bd6-e34d-4843-a89a-3ee4e14c1229",
   "metadata": {},
   "source": [
    "**type**"
   ]
  },
  {
   "cell_type": "code",
   "execution_count": 3,
   "id": "0eb31baf-01ad-4bc7-9fbd-76607a5473f2",
   "metadata": {},
   "outputs": [
    {
     "data": {
      "text/plain": [
       "str"
      ]
     },
     "execution_count": 3,
     "metadata": {},
     "output_type": "execute_result"
    }
   ],
   "source": [
    "name='python'\n",
    "type(name)"
   ]
  },
  {
   "cell_type": "code",
   "execution_count": null,
   "id": "a31813b5-392d-4f41-986e-1456e302604f",
   "metadata": {},
   "outputs": [],
   "source": [
    "print(<>)\n",
    "type(<>)\n",
    "eval(<>)\n",
    "input()\n",
    "len()\n",
    "sum()\n",
    "max()"
   ]
  },
  {
   "cell_type": "markdown",
   "id": "80181169-d230-41f4-b9ae-c9bc5db340cf",
   "metadata": {},
   "source": [
    "**len**"
   ]
  },
  {
   "cell_type": "code",
   "execution_count": 11,
   "id": "253cf402-e20c-47a3-aebb-9ab4ad2eac24",
   "metadata": {},
   "outputs": [
    {
     "data": {
      "text/plain": [
       "6"
      ]
     },
     "execution_count": 11,
     "metadata": {},
     "output_type": "execute_result"
    }
   ],
   "source": [
    "name='python'\n",
    "len(name)"
   ]
  },
  {
   "cell_type": "code",
   "execution_count": 12,
   "id": "7c1f86a2-8c41-43cd-bc50-e2565623a0e5",
   "metadata": {},
   "outputs": [
    {
     "data": {
      "text/plain": [
       "15"
      ]
     },
     "execution_count": 12,
     "metadata": {},
     "output_type": "execute_result"
    }
   ],
   "source": [
    "len('hai how are you')"
   ]
  },
  {
   "cell_type": "markdown",
   "id": "d5a557ce-e2a8-47a1-bde3-3065c72240b0",
   "metadata": {},
   "source": [
    "**max**"
   ]
  },
  {
   "cell_type": "code",
   "execution_count": 4,
   "id": "6aaf66d9-9ced-4404-9fda-ec3fac6a05a8",
   "metadata": {},
   "outputs": [
    {
     "data": {
      "text/plain": [
       "'y'"
      ]
     },
     "execution_count": 4,
     "metadata": {},
     "output_type": "execute_result"
    }
   ],
   "source": [
    "max('pyhon')"
   ]
  },
  {
   "cell_type": "code",
   "execution_count": 5,
   "id": "5c76dcda-15fb-4867-831c-e0b4c069f2e1",
   "metadata": {},
   "outputs": [
    {
     "name": "stdout",
     "output_type": "stream",
     "text": [
      "112 p\n",
      "121 y\n",
      "116 t\n",
      "104 h\n",
      "111 o\n",
      "110 n\n"
     ]
    }
   ],
   "source": [
    "for i in 'python':\n",
    "    print(ord(i),i)"
   ]
  },
  {
   "cell_type": "markdown",
   "id": "93fda858-c668-478e-9735-2ebb2acd3315",
   "metadata": {},
   "source": [
    "**min**"
   ]
  },
  {
   "cell_type": "code",
   "execution_count": 6,
   "id": "e45773ef-f385-41de-9dd6-06708e6df97a",
   "metadata": {},
   "outputs": [
    {
     "data": {
      "text/plain": [
       "'h'"
      ]
     },
     "execution_count": 6,
     "metadata": {},
     "output_type": "execute_result"
    }
   ],
   "source": [
    "min('python')"
   ]
  },
  {
   "cell_type": "markdown",
   "id": "3bac9385-9e59-4823-b2cf-6b488d9f51c4",
   "metadata": {},
   "source": [
    "**sum**"
   ]
  },
  {
   "cell_type": "code",
   "execution_count": 7,
   "id": "9e24e13b-b664-45ce-9292-bc5ed1e7935e",
   "metadata": {},
   "outputs": [
    {
     "ename": "TypeError",
     "evalue": "unsupported operand type(s) for +: 'int' and 'str'",
     "output_type": "error",
     "traceback": [
      "\u001b[1;31m---------------------------------------------------------------------------\u001b[0m",
      "\u001b[1;31mTypeError\u001b[0m                                 Traceback (most recent call last)",
      "Cell \u001b[1;32mIn[7], line 1\u001b[0m\n\u001b[1;32m----> 1\u001b[0m \u001b[38;5;28;43msum\u001b[39;49m\u001b[43m(\u001b[49m\u001b[38;5;124;43m'\u001b[39;49m\u001b[38;5;124;43mpython\u001b[39;49m\u001b[38;5;124;43m'\u001b[39;49m\u001b[43m)\u001b[49m\n",
      "\u001b[1;31mTypeError\u001b[0m: unsupported operand type(s) for +: 'int' and 'str'"
     ]
    }
   ],
   "source": [
    "sum('python')"
   ]
  },
  {
   "cell_type": "markdown",
   "id": "bc61d164-3d17-4829-8660-6850607dd6bc",
   "metadata": {},
   "source": [
    "**sorted**"
   ]
  },
  {
   "cell_type": "markdown",
   "id": "e83d27cc-d6d5-49ed-8a31-5af5d30e759d",
   "metadata": {},
   "source": [
    "- sorted means either ascending or descending order\n",
    "\n",
    "- ascending order : Small to Big\n",
    "\n",
    "- descending : Big to small"
   ]
  },
  {
   "cell_type": "code",
   "execution_count": 8,
   "id": "ca4e6fe8-6b25-4860-9513-b947e8aee60c",
   "metadata": {},
   "outputs": [
    {
     "data": {
      "text/plain": [
       "['h', 'n', 'o', 'p', 't', 'y']"
      ]
     },
     "execution_count": 8,
     "metadata": {},
     "output_type": "execute_result"
    }
   ],
   "source": [
    "sorted('python')\n",
    "# By default ascending\n",
    "# can i change the order?"
   ]
  },
  {
   "cell_type": "markdown",
   "id": "f59b9432-872b-4333-a197-968edabe98fe",
   "metadata": {},
   "source": [
    "**iterable** : Anything that can be print using loop\n",
    "\n",
    "/"
   ]
  },
  {
   "cell_type": "code",
   "execution_count": 9,
   "id": "33c03904-fdec-4efe-b686-acf13be6374c",
   "metadata": {},
   "outputs": [
    {
     "name": "stdout",
     "output_type": "stream",
     "text": [
      "30\n"
     ]
    }
   ],
   "source": [
    "def add(a,b):\n",
    "    print(a+b)\n",
    "add(10,20)      ########## Works  "
   ]
  },
  {
   "cell_type": "code",
   "execution_count": 10,
   "id": "f42c5786-8b3f-402a-bb5b-9d9d3a7186ae",
   "metadata": {},
   "outputs": [
    {
     "name": "stdout",
     "output_type": "stream",
     "text": [
      "30\n"
     ]
    }
   ],
   "source": [
    "def add(a,b):\n",
    "    print(a+b)\n",
    "add(a=10,b=20)  ########## Works    "
   ]
  },
  {
   "cell_type": "code",
   "execution_count": 12,
   "id": "f5d54c9d-4092-4865-a53b-3a0573be673e",
   "metadata": {},
   "outputs": [
    {
     "ename": "TypeError",
     "evalue": "add() got some positional-only arguments passed as keyword arguments: 'a'",
     "output_type": "error",
     "traceback": [
      "\u001b[1;31m---------------------------------------------------------------------------\u001b[0m",
      "\u001b[1;31mTypeError\u001b[0m                                 Traceback (most recent call last)",
      "Cell \u001b[1;32mIn[12], line 3\u001b[0m\n\u001b[0;32m      1\u001b[0m \u001b[38;5;28;01mdef\u001b[39;00m \u001b[38;5;21madd\u001b[39m(a,\u001b[38;5;241m/\u001b[39m,b):\n\u001b[0;32m      2\u001b[0m     \u001b[38;5;28mprint\u001b[39m(a\u001b[38;5;241m+\u001b[39mb)\n\u001b[1;32m----> 3\u001b[0m \u001b[43madd\u001b[49m\u001b[43m(\u001b[49m\u001b[43ma\u001b[49m\u001b[38;5;241;43m=\u001b[39;49m\u001b[38;5;241;43m10\u001b[39;49m\u001b[43m,\u001b[49m\u001b[43mb\u001b[49m\u001b[38;5;241;43m=\u001b[39;49m\u001b[38;5;241;43m20\u001b[39;49m\u001b[43m)\u001b[49m    \n",
      "\u001b[1;31mTypeError\u001b[0m: add() got some positional-only arguments passed as keyword arguments: 'a'"
     ]
    }
   ],
   "source": [
    "def add(a,/,b):\n",
    "    print(a+b)\n",
    "add(a=10,b=20)    /"
   ]
  },
  {
   "cell_type": "code",
   "execution_count": 13,
   "id": "c3ffaa85-5b89-4b7e-aee0-910dac2eabd6",
   "metadata": {},
   "outputs": [
    {
     "name": "stdout",
     "output_type": "stream",
     "text": [
      "30\n"
     ]
    }
   ],
   "source": [
    "def add(a,/,b):\n",
    "    print(a+b)\n",
    "add(10,b=20)"
   ]
  },
  {
   "cell_type": "code",
   "execution_count": 14,
   "id": "1bc60309-dd52-46b2-8915-db08a7b0340c",
   "metadata": {},
   "outputs": [
    {
     "ename": "SyntaxError",
     "evalue": "positional argument follows keyword argument (3787002837.py, line 3)",
     "output_type": "error",
     "traceback": [
      "\u001b[1;36m  Cell \u001b[1;32mIn[14], line 3\u001b[1;36m\u001b[0m\n\u001b[1;33m    add(a=10,20)\u001b[0m\n\u001b[1;37m               ^\u001b[0m\n\u001b[1;31mSyntaxError\u001b[0m\u001b[1;31m:\u001b[0m positional argument follows keyword argument\n"
     ]
    }
   ],
   "source": [
    "def add(a,/,b):\n",
    "    print(a+b)\n",
    "add(a=10,20)"
   ]
  },
  {
   "cell_type": "code",
   "execution_count": null,
   "id": "1e89865c-316c-4e7e-9b15-658c1edaef7e",
   "metadata": {},
   "outputs": [],
   "source": [
    "a,/,b\n",
    "a=10 b=10  === fail\n",
    "a=10 30    === fail\n",
    "10   b=30  === pass"
   ]
  },
  {
   "cell_type": "code",
   "execution_count": null,
   "id": "89075d3c-bad8-44cd-bc8a-dfc33f21b6d5",
   "metadata": {},
   "outputs": [],
   "source": [
    "def add(a,b):\n",
    "    print(a+b)\n",
    "add(10,20)      ########## Works  \n",
    "\n",
    "def add(a,b):\n",
    "    print(a+b)\n",
    "add(a=10,b=20)  ########## Works    \n",
    "\n",
    "def add(a,/,b):\n",
    "    print(a+b)\n",
    "add(a=10,b=20)  ########## F F  / a=10  b=20 \n",
    "\n",
    "def add(a,/,b):\n",
    "    print(a+b)\n",
    "add(10,b=20)  ##########  Pass   b=20\n",
    "\n",
    "def add(a,/,b):\n",
    "    print(a+b)\n",
    "add(a=10,20)    ===== slash before not working "
   ]
  },
  {
   "cell_type": "code",
   "execution_count": null,
   "id": "0d8e7050-76a0-47f2-a53a-de36e3f9d401",
   "metadata": {},
   "outputs": [],
   "source": [
    "(a,/,b)\n",
    "a=10  b=20  ====== > F\n",
    "a=10  20    ====== > F\n",
    "10    20    ====== > W\n",
    "10    b=20  ====== > W"
   ]
  },
  {
   "cell_type": "code",
   "execution_count": 13,
   "id": "8475c7a7-9ea9-4480-8820-a780f17c0197",
   "metadata": {},
   "outputs": [
    {
     "ename": "TypeError",
     "evalue": "sorted expected 1 argument, got 0",
     "output_type": "error",
     "traceback": [
      "\u001b[1;31m---------------------------------------------------------------------------\u001b[0m",
      "\u001b[1;31mTypeError\u001b[0m                                 Traceback (most recent call last)",
      "Cell \u001b[1;32mIn[13], line 1\u001b[0m\n\u001b[1;32m----> 1\u001b[0m \u001b[38;5;28;43msorted\u001b[39;49m\u001b[43m(\u001b[49m\u001b[43miterable\u001b[49m\u001b[38;5;241;43m=\u001b[39;49m\u001b[38;5;124;43m'\u001b[39;49m\u001b[38;5;124;43mpython\u001b[39;49m\u001b[38;5;124;43m'\u001b[39;49m\u001b[43m)\u001b[49m\n",
      "\u001b[1;31mTypeError\u001b[0m: sorted expected 1 argument, got 0"
     ]
    }
   ],
   "source": [
    "sorted(iterable='python')"
   ]
  },
  {
   "cell_type": "markdown",
   "id": "d9f80733-f49c-4067-b489-b267685a4f72",
   "metadata": {},
   "source": [
    "**Note:**\n",
    "\n",
    "- / before dont use argument name\n",
    "\n",
    "- / after you can use argument name, that is our wish\n",
    "\n",
    "- (*) indication no need maintain the order of the arguments"
   ]
  },
  {
   "cell_type": "code",
   "execution_count": 16,
   "id": "95a7ffe7-29f3-4bc4-bd95-d4d2458239c6",
   "metadata": {},
   "outputs": [
    {
     "name": "stdout",
     "output_type": "stream",
     "text": [
      "60\n"
     ]
    }
   ],
   "source": [
    "def add(a,/,*,b,c):\n",
    "    print(a+b+c)\n",
    "\n",
    "add(10,c=20,b=30)"
   ]
  },
  {
   "cell_type": "code",
   "execution_count": 17,
   "id": "55bc63db-1740-4437-ad1a-5d49d7d15d7e",
   "metadata": {},
   "outputs": [
    {
     "ename": "TypeError",
     "evalue": "add() missing 1 required keyword-only argument: 'b'",
     "output_type": "error",
     "traceback": [
      "\u001b[1;31m---------------------------------------------------------------------------\u001b[0m",
      "\u001b[1;31mTypeError\u001b[0m                                 Traceback (most recent call last)",
      "Cell \u001b[1;32mIn[17], line 1\u001b[0m\n\u001b[1;32m----> 1\u001b[0m \u001b[43madd\u001b[49m\u001b[43m(\u001b[49m\u001b[38;5;241;43m10\u001b[39;49m\u001b[43m,\u001b[49m\u001b[43mc\u001b[49m\u001b[38;5;241;43m=\u001b[39;49m\u001b[38;5;241;43m20\u001b[39;49m\u001b[43m)\u001b[49m\n",
      "\u001b[1;31mTypeError\u001b[0m: add() missing 1 required keyword-only argument: 'b'"
     ]
    }
   ],
   "source": [
    "add(10,c=20)"
   ]
  },
  {
   "cell_type": "code",
   "execution_count": 18,
   "id": "d5702cf8-7d3a-46fb-a126-0f4303c49ad8",
   "metadata": {},
   "outputs": [
    {
     "ename": "TypeError",
     "evalue": "add() takes 1 positional argument but 2 were given",
     "output_type": "error",
     "traceback": [
      "\u001b[1;31m---------------------------------------------------------------------------\u001b[0m",
      "\u001b[1;31mTypeError\u001b[0m                                 Traceback (most recent call last)",
      "Cell \u001b[1;32mIn[18], line 1\u001b[0m\n\u001b[1;32m----> 1\u001b[0m \u001b[43madd\u001b[49m\u001b[43m(\u001b[49m\u001b[38;5;241;43m10\u001b[39;49m\u001b[43m,\u001b[49m\u001b[38;5;241;43m20\u001b[39;49m\u001b[43m)\u001b[49m\n",
      "\u001b[1;31mTypeError\u001b[0m: add() takes 1 positional argument but 2 were given"
     ]
    }
   ],
   "source": [
    "add(10,20)"
   ]
  },
  {
   "cell_type": "code",
   "execution_count": 19,
   "id": "8e56f098-279b-42f1-9eb7-ad7c76d9aed5",
   "metadata": {},
   "outputs": [
    {
     "ename": "TypeError",
     "evalue": "add() takes 1 positional argument but 3 were given",
     "output_type": "error",
     "traceback": [
      "\u001b[1;31m---------------------------------------------------------------------------\u001b[0m",
      "\u001b[1;31mTypeError\u001b[0m                                 Traceback (most recent call last)",
      "Cell \u001b[1;32mIn[19], line 4\u001b[0m\n\u001b[0;32m      1\u001b[0m \u001b[38;5;28;01mdef\u001b[39;00m \u001b[38;5;21madd\u001b[39m(a,\u001b[38;5;241m/\u001b[39m,\u001b[38;5;241m*\u001b[39m,b,c):\n\u001b[0;32m      2\u001b[0m     \u001b[38;5;28mprint\u001b[39m(a\u001b[38;5;241m+\u001b[39mb\u001b[38;5;241m+\u001b[39mc)\n\u001b[1;32m----> 4\u001b[0m \u001b[43madd\u001b[49m\u001b[43m(\u001b[49m\u001b[38;5;241;43m10\u001b[39;49m\u001b[43m,\u001b[49m\u001b[38;5;241;43m20\u001b[39;49m\u001b[43m,\u001b[49m\u001b[38;5;241;43m30\u001b[39;49m\u001b[43m)\u001b[49m\n",
      "\u001b[1;31mTypeError\u001b[0m: add() takes 1 positional argument but 3 were given"
     ]
    }
   ],
   "source": [
    "def add(a,/,*,b,c):\n",
    "    print(a+b+c)\n",
    "\n",
    "add(10,20,30)"
   ]
  },
  {
   "cell_type": "markdown",
   "id": "918d3f0a-6255-4598-acd5-c36e1a4374ba",
   "metadata": {},
   "source": [
    "**Note**\n",
    "\n",
    "(*) indicates provide the argument name"
   ]
  },
  {
   "cell_type": "code",
   "execution_count": 21,
   "id": "f99f4113-cd78-47cb-a0fe-e6d4a8f7138b",
   "metadata": {},
   "outputs": [
    {
     "ename": "TypeError",
     "evalue": "sorted expected 1 argument, got 2",
     "output_type": "error",
     "traceback": [
      "\u001b[1;31m---------------------------------------------------------------------------\u001b[0m",
      "\u001b[1;31mTypeError\u001b[0m                                 Traceback (most recent call last)",
      "Cell \u001b[1;32mIn[21], line 1\u001b[0m\n\u001b[1;32m----> 1\u001b[0m \u001b[38;5;28;43msorted\u001b[39;49m\u001b[43m(\u001b[49m\u001b[38;5;124;43m'\u001b[39;49m\u001b[38;5;124;43mpython\u001b[39;49m\u001b[38;5;124;43m'\u001b[39;49m\u001b[43m,\u001b[49m\u001b[38;5;28;43;01mTrue\u001b[39;49;00m\u001b[43m)\u001b[49m\n\u001b[0;32m      3\u001b[0m \u001b[38;5;66;03m# / before dont use ==== correct\u001b[39;00m\n\u001b[0;32m      4\u001b[0m \u001b[38;5;66;03m# * after you should use === wrong\u001b[39;00m\n",
      "\u001b[1;31mTypeError\u001b[0m: sorted expected 1 argument, got 2"
     ]
    }
   ],
   "source": [
    "sorted('python',True)\n",
    "\n",
    "# / before dont use ==== correct\n",
    "# * after you should use === wrong"
   ]
  },
  {
   "cell_type": "code",
   "execution_count": 22,
   "id": "4e590277-ae8d-4d55-a55b-40365c5a4190",
   "metadata": {},
   "outputs": [
    {
     "data": {
      "text/plain": [
       "['y', 't', 'p', 'o', 'n', 'h']"
      ]
     },
     "execution_count": 22,
     "metadata": {},
     "output_type": "execute_result"
    }
   ],
   "source": [
    "sorted('python',reverse=True)"
   ]
  },
  {
   "cell_type": "code",
   "execution_count": null,
   "id": "73e50a57-3046-41c8-9660-f944f93b5e18",
   "metadata": {},
   "outputs": [],
   "source": [
    "sorted('python')  # W  by default reverse=False\n",
    "sorted(iterable='python')  # F\n",
    "sorted('python',reverse=True)  # W\n",
    "sorted(iterable='python',reverse=True) # F\n",
    "sorted('python',True)  # F"
   ]
  },
  {
   "cell_type": "markdown",
   "id": "874e1779-2cba-4a01-bfbe-721f7f6373ae",
   "metadata": {},
   "source": [
    "**reversed**"
   ]
  },
  {
   "cell_type": "code",
   "execution_count": 23,
   "id": "b6758ad6-68ce-43b5-895c-a43300f16086",
   "metadata": {},
   "outputs": [
    {
     "ename": "TypeError",
     "evalue": "reversed() takes no keyword arguments",
     "output_type": "error",
     "traceback": [
      "\u001b[1;31m---------------------------------------------------------------------------\u001b[0m",
      "\u001b[1;31mTypeError\u001b[0m                                 Traceback (most recent call last)",
      "Cell \u001b[1;32mIn[23], line 1\u001b[0m\n\u001b[1;32m----> 1\u001b[0m \u001b[38;5;28;43mreversed\u001b[39;49m\u001b[43m(\u001b[49m\u001b[43msequence\u001b[49m\u001b[38;5;241;43m=\u001b[39;49m\u001b[38;5;124;43m'\u001b[39;49m\u001b[38;5;124;43mAfroze\u001b[39;49m\u001b[38;5;124;43m'\u001b[39;49m\u001b[43m)\u001b[49m\n",
      "\u001b[1;31mTypeError\u001b[0m: reversed() takes no keyword arguments"
     ]
    }
   ],
   "source": [
    "reversed(sequence='Afroze')"
   ]
  },
  {
   "cell_type": "code",
   "execution_count": 25,
   "id": "e66fac05-87d0-4242-86b0-75f96ec206e8",
   "metadata": {},
   "outputs": [
    {
     "data": {
      "text/plain": [
       "<reversed at 0x205a749fa60>"
      ]
     },
     "execution_count": 25,
     "metadata": {},
     "output_type": "execute_result"
    }
   ],
   "source": [
    "ans=reversed('Afroze')\n",
    "ans"
   ]
  },
  {
   "cell_type": "markdown",
   "id": "a7e608c4-bec7-4dba-aaf2-18efe260e299",
   "metadata": {},
   "source": [
    "- Answer saved at address memory location\n",
    "\n",
    "- We can see the answer by using by for loop or list\n",
    "\n",
    "- Whenever we see less than greater than symbol answer\n",
    "\n",
    "- try to apply for loop or list"
   ]
  },
  {
   "cell_type": "code",
   "execution_count": 26,
   "id": "8c8f5869-1770-48e6-bd2f-2b5cd4213b2e",
   "metadata": {},
   "outputs": [
    {
     "name": "stdout",
     "output_type": "stream",
     "text": [
      "e\n",
      "z\n",
      "o\n",
      "r\n",
      "f\n",
      "A\n"
     ]
    }
   ],
   "source": [
    "for i in ans:\n",
    "    print(i)"
   ]
  },
  {
   "cell_type": "code",
   "execution_count": 27,
   "id": "d952fb48-41a6-4d51-a8e3-74e08538d1d2",
   "metadata": {},
   "outputs": [
    {
     "data": {
      "text/plain": [
       "['e', 'z', 'o', 'r', 'f', 'A']"
      ]
     },
     "execution_count": 27,
     "metadata": {},
     "output_type": "execute_result"
    }
   ],
   "source": [
    "ans=reversed('Afroze')\n",
    "list(ans)"
   ]
  },
  {
   "cell_type": "markdown",
   "id": "3d46a54f-e51b-438d-b08c-c420898b7aef",
   "metadata": {},
   "source": [
    "**Concatenation**"
   ]
  },
  {
   "cell_type": "code",
   "execution_count": 28,
   "id": "ce441e65-3155-421a-8c20-11c05b381309",
   "metadata": {},
   "outputs": [
    {
     "data": {
      "text/plain": [
       "'hellopthon'"
      ]
     },
     "execution_count": 28,
     "metadata": {},
     "output_type": "execute_result"
    }
   ],
   "source": [
    "str1='hello'\n",
    "str2='pthon'\n",
    "str1+str2"
   ]
  },
  {
   "cell_type": "code",
   "execution_count": null,
   "id": "66e221d5-8a3c-411d-b6a6-3d7c8f76b737",
   "metadata": {},
   "outputs": [],
   "source": [
    "str1-str2  # see the error\n",
    "str1*str2  # see the error\n",
    "str1/str2  # see the error"
   ]
  },
  {
   "cell_type": "code",
   "execution_count": 29,
   "id": "1703eb56-bd40-4387-8bda-e2e5672e6feb",
   "metadata": {},
   "outputs": [
    {
     "ename": "TypeError",
     "evalue": "unsupported operand type(s) for -: 'str' and 'str'",
     "output_type": "error",
     "traceback": [
      "\u001b[1;31m---------------------------------------------------------------------------\u001b[0m",
      "\u001b[1;31mTypeError\u001b[0m                                 Traceback (most recent call last)",
      "Cell \u001b[1;32mIn[29], line 1\u001b[0m\n\u001b[1;32m----> 1\u001b[0m \u001b[43mstr1\u001b[49m\u001b[38;5;241;43m-\u001b[39;49m\u001b[43mstr2\u001b[49m\n",
      "\u001b[1;31mTypeError\u001b[0m: unsupported operand type(s) for -: 'str' and 'str'"
     ]
    }
   ],
   "source": [
    "str1-str2"
   ]
  },
  {
   "cell_type": "code",
   "execution_count": 30,
   "id": "5f3ac1d6-a725-4c38-81a1-4960535eb245",
   "metadata": {},
   "outputs": [
    {
     "ename": "TypeError",
     "evalue": "can't multiply sequence by non-int of type 'str'",
     "output_type": "error",
     "traceback": [
      "\u001b[1;31m---------------------------------------------------------------------------\u001b[0m",
      "\u001b[1;31mTypeError\u001b[0m                                 Traceback (most recent call last)",
      "Cell \u001b[1;32mIn[30], line 1\u001b[0m\n\u001b[1;32m----> 1\u001b[0m \u001b[43mstr1\u001b[49m\u001b[38;5;241;43m*\u001b[39;49m\u001b[43mstr2\u001b[49m\n",
      "\u001b[1;31mTypeError\u001b[0m: can't multiply sequence by non-int of type 'str'"
     ]
    }
   ],
   "source": [
    "str1*str2"
   ]
  },
  {
   "cell_type": "code",
   "execution_count": 31,
   "id": "296537f3-1c60-4e68-962b-79d96066867d",
   "metadata": {},
   "outputs": [
    {
     "ename": "TypeError",
     "evalue": "unsupported operand type(s) for /: 'str' and 'str'",
     "output_type": "error",
     "traceback": [
      "\u001b[1;31m---------------------------------------------------------------------------\u001b[0m",
      "\u001b[1;31mTypeError\u001b[0m                                 Traceback (most recent call last)",
      "Cell \u001b[1;32mIn[31], line 1\u001b[0m\n\u001b[1;32m----> 1\u001b[0m \u001b[43mstr1\u001b[49m\u001b[38;5;241;43m/\u001b[39;49m\u001b[43mstr2\u001b[49m\n",
      "\u001b[1;31mTypeError\u001b[0m: unsupported operand type(s) for /: 'str' and 'str'"
     ]
    }
   ],
   "source": [
    "str1/str2"
   ]
  },
  {
   "cell_type": "code",
   "execution_count": null,
   "id": "50903b6b-89c4-4ded-a136-bc84ea883089",
   "metadata": {},
   "outputs": [],
   "source": [
    "str1-str2\n",
    "TypeError: unsupported operand type(s) for -: 'str' and 'str'\n",
    "\n",
    "str1*str2\n",
    "TypeError: can't multiply sequence by non-int of type 'str'\n",
    "\n",
    "str1/str2\n",
    "TypeError: unsupported operand type(s) for /: 'str' and 'str'"
   ]
  },
  {
   "cell_type": "code",
   "execution_count": 33,
   "id": "c4a37474-45f9-4d39-ae81-8e1ca31c5933",
   "metadata": {},
   "outputs": [
    {
     "data": {
      "text/plain": [
       "'pythonpythonpython'"
      ]
     },
     "execution_count": 33,
     "metadata": {},
     "output_type": "execute_result"
    }
   ],
   "source": [
    "str1(sequence)*3\n",
    "'python'*3"
   ]
  },
  {
   "cell_type": "code",
   "execution_count": 34,
   "id": "60209410-ab15-4cf9-9536-8bce49d9ad97",
   "metadata": {},
   "outputs": [
    {
     "data": {
      "text/plain": [
       "'hello python'"
      ]
     },
     "execution_count": 34,
     "metadata": {},
     "output_type": "execute_result"
    }
   ],
   "source": [
    "str1='hello '\n",
    "str2='python'\n",
    "str1+str2"
   ]
  },
  {
   "cell_type": "code",
   "execution_count": 35,
   "id": "5a911975-3c35-4ec4-b8ee-afd1efc807d3",
   "metadata": {},
   "outputs": [
    {
     "data": {
      "text/plain": [
       "'hello  python'"
      ]
     },
     "execution_count": 35,
     "metadata": {},
     "output_type": "execute_result"
    }
   ],
   "source": [
    "str1='hello '\n",
    "str2=' python'\n",
    "str1+str2"
   ]
  },
  {
   "cell_type": "code",
   "execution_count": 36,
   "id": "9439b506-1a3b-494e-9189-6ab54940fd01",
   "metadata": {},
   "outputs": [
    {
     "data": {
      "text/plain": [
       "'hello  python'"
      ]
     },
     "execution_count": 36,
     "metadata": {},
     "output_type": "execute_result"
    }
   ],
   "source": [
    "str1='hello '\n",
    "str2='python'\n",
    "str1+' '+str2"
   ]
  },
  {
   "cell_type": "markdown",
   "id": "26c80bc7-613e-4523-a334-f4fdf3c037d3",
   "metadata": {},
   "source": [
    "**index**"
   ]
  },
  {
   "cell_type": "code",
   "execution_count": 1,
   "id": "bf3e92d8-bd4f-4cf3-9c10-0c89dbad4221",
   "metadata": {},
   "outputs": [
    {
     "data": {
      "text/plain": [
       "'python'"
      ]
     },
     "execution_count": 1,
     "metadata": {},
     "output_type": "execute_result"
    }
   ],
   "source": [
    "str1='python'\n",
    "str1"
   ]
  },
  {
   "cell_type": "code",
   "execution_count": 3,
   "id": "44c5cc18-5d57-4eb7-9cf9-970f344488b4",
   "metadata": {},
   "outputs": [],
   "source": [
    "-6 -5 -4 -3 -2 -1\n",
    " p  y  t  h  o  n\n",
    " 0  1  2  3  4  5"
   ]
  },
  {
   "cell_type": "markdown",
   "id": "4a0ca332-457b-42c0-a718-55bad2d8ca79",
   "metadata": {},
   "source": [
    "- access the characters or elements use square bracket"
   ]
  },
  {
   "cell_type": "code",
   "execution_count": 4,
   "id": "bf1a2f42-2213-4c05-979e-08870149103a",
   "metadata": {},
   "outputs": [
    {
     "data": {
      "text/plain": [
       "('n', 'n')"
      ]
     },
     "execution_count": 4,
     "metadata": {},
     "output_type": "execute_result"
    }
   ],
   "source": [
    "str1[0],str1[-6]\n",
    "str1[1],str1[-5]\n",
    "str1[2],str1[-4]\n",
    "str1[3],str1[-3]\n",
    "str1[4],str1[-2]\n",
    "str1[5],str1[-1]"
   ]
  },
  {
   "cell_type": "code",
   "execution_count": null,
   "id": "13fcf331-d6d1-47fc-b52e-35aba13ce517",
   "metadata": {},
   "outputs": [],
   "source": [
    "str1[0]\n",
    "str1[1]\n",
    "str1[2]\n",
    "str1[3]\n",
    "str1[4]\n",
    "str1[5]\n",
    "\n",
    "str1[i]"
   ]
  },
  {
   "cell_type": "code",
   "execution_count": 2,
   "id": "e6e7f187-05bd-4bc2-95c4-7f872f49810f",
   "metadata": {},
   "outputs": [
    {
     "name": "stdout",
     "output_type": "stream",
     "text": [
      "p\n",
      "y\n",
      "t\n",
      "h\n",
      "o\n",
      "n\n"
     ]
    }
   ],
   "source": [
    "str1='python'\n",
    "n=len(str1)\n",
    "for i in range(0,n):\n",
    "    print(str1[i])"
   ]
  },
  {
   "cell_type": "code",
   "execution_count": 6,
   "id": "e91c5ef1-6ab8-4816-b871-e3331c570680",
   "metadata": {},
   "outputs": [
    {
     "name": "stdout",
     "output_type": "stream",
     "text": [
      "h\n",
      "e\n",
      "l\n",
      "l\n",
      "o\n",
      " \n",
      "h\n",
      "o\n",
      "w\n",
      " \n",
      "a\n",
      "r\n",
      "e\n",
      " \n",
      "y\n",
      "o\n",
      "u\n"
     ]
    }
   ],
   "source": [
    "str1='hello how are you'\n",
    "n=len(str1)\n",
    "for i in range(0,n):\n",
    "    print(str1[i])"
   ]
  },
  {
   "cell_type": "code",
   "execution_count": 1,
   "id": "ca7f3294-20ee-40d2-9b63-ffaeac644cc4",
   "metadata": {},
   "outputs": [
    {
     "name": "stdout",
     "output_type": "stream",
     "text": [
      "0 1 2 3 4 5 -6 -5 -4 -3 -2 -1 "
     ]
    }
   ],
   "source": [
    "first you need to print the numbers\n",
    "\n",
    "#-6 -5 -4 -3 -2 -1\n",
    "#p  y  t  h  o  n\n",
    "#0  1  2  3  4  5\n",
    "\n",
    "for i in range(0,6):print(i,end=' ')\n",
    "for i in range(-6,0):print(i,end=' ')    "
   ]
  },
  {
   "cell_type": "code",
   "execution_count": 12,
   "id": "0a2608f5-216c-4d75-a363-6465baa14be8",
   "metadata": {},
   "outputs": [
    {
     "name": "stdout",
     "output_type": "stream",
     "text": [
      "The positive index of p is: 0\n",
      "The positive index of y is: 1\n",
      "The positive index of t is: 2\n",
      "The positive index of h is: 3\n",
      "The positive index of o is: 4\n",
      "The positive index of n is: 5\n"
     ]
    }
   ],
   "source": [
    "# Q1) the positive index of p is 0\n",
    "# the positive index of y is 1\n",
    "# the positive index of t is 2\n",
    "\n",
    "\n",
    "str1='python'\n",
    "n=len(str1)\n",
    "for i in range(0,n):\n",
    "    print(f'The positive index of {str1[i]} is: {i}')"
   ]
  },
  {
   "cell_type": "code",
   "execution_count": 13,
   "id": "6f2d3a54-70b9-4cea-ab3a-12f87aa7b769",
   "metadata": {},
   "outputs": [
    {
     "name": "stdout",
     "output_type": "stream",
     "text": [
      "The negative index of p is: -6\n",
      "The negative index of y is: -5\n",
      "The negative index of t is: -4\n",
      "The negative index of h is: -3\n",
      "The negative index of o is: -2\n",
      "The negative index of n is: -1\n"
     ]
    }
   ],
   "source": [
    "# Q2) the negative index of p is -6\n",
    "# the negative index of y is -5\n",
    "# the negative index of t is -4\n",
    "\n",
    "\n",
    "str1='python'\n",
    "n=len(str1)\n",
    "for i in range(-6,0):\n",
    "    print(f'The negative index of {str1[i]} is: {i}')"
   ]
  },
  {
   "cell_type": "code",
   "execution_count": null,
   "id": "8a74ef41-6669-4407-9068-2eaac20cb44e",
   "metadata": {},
   "outputs": [],
   "source": [
    "for i in range(0,6)  # positive index\n",
    "for i in range(-6,0) # negative index"
   ]
  },
  {
   "cell_type": "code",
   "execution_count": 1,
   "id": "96683bb8-15ab-4a53-88ae-1d79de454b9b",
   "metadata": {},
   "outputs": [
    {
     "name": "stdout",
     "output_type": "stream",
     "text": [
      "The positive index is 0 ,negative index is -6 for: p\n",
      "The positive index is 1 ,negative index is -5 for: y\n",
      "The positive index is 2 ,negative index is -4 for: t\n",
      "The positive index is 3 ,negative index is -3 for: h\n",
      "The positive index is 4 ,negative index is -2 for: o\n",
      "The positive index is 5 ,negative index is -1 for: n\n"
     ]
    }
   ],
   "source": [
    "# Q3) the positive index is 0 and negative index is -6 for p\n",
    "\n",
    "\n",
    "str1='python'\n",
    "n=len(str1)\n",
    "for i in range(0,n):\n",
    "    print(f'The positive index is {i} ,negative index is {i-n} for: {str1[i]}')"
   ]
  },
  {
   "cell_type": "markdown",
   "id": "be67a30f-039c-436c-9c75-6d9606c14c00",
   "metadata": {},
   "source": [
    "**when to use in - when to use range operator**"
   ]
  },
  {
   "cell_type": "markdown",
   "id": "7fb9ffd2-1b1d-43e7-bb0e-3daeffd89d9c",
   "metadata": {},
   "source": [
    "- **in** operator directly access the elements\n",
    "\n",
    "- **range** operator access the elements using index or numbers\n",
    "\n",
    "- any problem statement if you need numbers then go for range\n",
    "\n",
    "- otherwise go for in operator directly                                                   "
   ]
  },
  {
   "cell_type": "code",
   "execution_count": 3,
   "id": "47071b74-7212-42a0-b841-928b074c4a01",
   "metadata": {},
   "outputs": [
    {
     "name": "stdout",
     "output_type": "stream",
     "text": [
      "p\n",
      "y\n",
      "t\n",
      "h\n",
      "o\n",
      "n\n"
     ]
    }
   ],
   "source": [
    "str1='python'\n",
    "for i in str1:\n",
    "    print(i)"
   ]
  },
  {
   "cell_type": "code",
   "execution_count": 5,
   "id": "b4fa2f3c-c977-4688-9216-fa2c67cd2ccc",
   "metadata": {},
   "outputs": [
    {
     "name": "stdout",
     "output_type": "stream",
     "text": [
      "0 p\n",
      "1 y\n",
      "2 t\n",
      "3 h\n",
      "4 o\n",
      "5 n\n"
     ]
    }
   ],
   "source": [
    "for i in range(0,6):\n",
    "    print(i,str1[i])"
   ]
  },
  {
   "cell_type": "code",
   "execution_count": 4,
   "id": "a7e62d15-7fa1-43ff-84b7-000c2422a13f",
   "metadata": {},
   "outputs": [
    {
     "name": "stdout",
     "output_type": "stream",
     "text": [
      "The index of 'a' is: 2\n",
      "The index of 'a' is: 6\n",
      "The index of 'a' is: 10\n"
     ]
    }
   ],
   "source": [
    "# Q4) write a program to find the indexes of 'a' in a given string\n",
    "#     str1='ola ola ola'\n",
    "\n",
    "\n",
    "str1='ola ola ola'\n",
    "for i in range(len(str1)):\n",
    "    if str1[i]=='a':\n",
    "        print(f\"The index of 'a' is: {i}\")"
   ]
  },
  {
   "cell_type": "code",
   "execution_count": 7,
   "id": "deca1886-063a-46a9-a333-cef98add61a0",
   "metadata": {},
   "outputs": [
    {
     "name": "stdout",
     "output_type": "stream",
     "text": [
      "2\n",
      "6\n",
      "10\n",
      "The number of 'a' are: 3\n",
      "The sum of all indexex of 'a' is: 18\n"
     ]
    }
   ],
   "source": [
    "# Q5) write a program to find the indexes of 'a' in a given string\n",
    "#     str1='ola ola ola'\n",
    "\n",
    "\n",
    "str1='ola ola ola'\n",
    "summ=0\n",
    "count=0\n",
    "for i in range(len(str1)):\n",
    "    if str1[i]=='a':\n",
    "        print(i)\n",
    "        summ=summ+i\n",
    "        count=count+1\n",
    "print(f\"The number of 'a' are: {count}\")        \n",
    "print(f\"The sum of all indexex of 'a' is: {summ}\")"
   ]
  },
  {
   "cell_type": "code",
   "execution_count": 8,
   "id": "fbd246bf-97b2-4176-ba4a-c66cc71ee0cf",
   "metadata": {},
   "outputs": [
    {
     "name": "stdout",
     "output_type": "stream",
     "text": [
      "The number of 'a' in a given string is: 3\n"
     ]
    }
   ],
   "source": [
    "# Q6) write a program to find the indexes of 'a' in a given string\n",
    "#     str1='ola ola ola'\n",
    "# in this problem we are counting number of 'a'\n",
    "# we are not using index\n",
    "\n",
    "\n",
    "str1='ola ola ola'\n",
    "count=0\n",
    "for i in str1:\n",
    "    if i=='a':\n",
    "        count=count+1\n",
    "print(f\"The number of 'a' in a given string is: {count}\")"
   ]
  },
  {
   "cell_type": "code",
   "execution_count": 9,
   "id": "01fcd875-1455-403a-9bf9-8455e74c00cb",
   "metadata": {},
   "outputs": [
    {
     "name": "stdout",
     "output_type": "stream",
     "text": [
      "a\n",
      "i\n",
      "o\n",
      "a\n",
      "e\n",
      "o\n",
      "u\n",
      "7\n"
     ]
    }
   ],
   "source": [
    "# Q7) write a program to find the vowels and its count in a given string\n",
    "#     str1='hai how are you'\n",
    "\n",
    "str1='hai how are you'\n",
    "str2='aeiou'\n",
    "count=0\n",
    "for i in str1:\n",
    "    if i in str2:\n",
    "        print(i)\n",
    "        count=count+1\n",
    "print(count)        "
   ]
  },
  {
   "cell_type": "code",
   "execution_count": 10,
   "id": "de56645e-8129-4ef6-9a4d-b22bf9bc496b",
   "metadata": {},
   "outputs": [
    {
     "name": "stdout",
     "output_type": "stream",
     "text": [
      "a\n",
      "e\n"
     ]
    }
   ],
   "source": [
    "# Q8) write a program to find the vowels which are repeating then print only one time\n",
    "#     example: helleo\n",
    "#     e is coming two times but we want to print only one time\n",
    "\n",
    "\n",
    "str1='aaae'\n",
    "str2=''\n",
    "for i in str1:\n",
    "    if i in 'aeiou' and i not in str2:\n",
    "        print(i)\n",
    "        str2=str2+i\n",
    "\n",
    "# i=a if a in aeiou then print a\n",
    "# i=a say i already seen"
   ]
  },
  {
   "cell_type": "markdown",
   "id": "8023437a-8d53-4f0f-8e40-4e0836df5387",
   "metadata": {},
   "source": [
    "**mutable-immutable**\n",
    "\n",
    "\n",
    "- mutable means change\n",
    "\n",
    "- immutable means can not change\n",
    "\n",
    "- we can not change the elements using index operations"
   ]
  },
  {
   "cell_type": "code",
   "execution_count": 11,
   "id": "6716e789-3e98-4a28-82e1-bb849fa82c48",
   "metadata": {},
   "outputs": [
    {
     "ename": "TypeError",
     "evalue": "'str' object does not support item assignment",
     "output_type": "error",
     "traceback": [
      "\u001b[1;31m---------------------------------------------------------------------------\u001b[0m",
      "\u001b[1;31mTypeError\u001b[0m                                 Traceback (most recent call last)",
      "Cell \u001b[1;32mIn[11], line 2\u001b[0m\n\u001b[0;32m      1\u001b[0m str1\u001b[38;5;241m=\u001b[39m\u001b[38;5;124m'\u001b[39m\u001b[38;5;124mhello\u001b[39m\u001b[38;5;124m'\u001b[39m\n\u001b[1;32m----> 2\u001b[0m \u001b[43mstr1\u001b[49m\u001b[43m[\u001b[49m\u001b[38;5;241;43m2\u001b[39;49m\u001b[43m]\u001b[49m\u001b[38;5;241m=\u001b[39m\u001b[38;5;124m'\u001b[39m\u001b[38;5;124mL\u001b[39m\u001b[38;5;124m'\u001b[39m\n",
      "\u001b[1;31mTypeError\u001b[0m: 'str' object does not support item assignment"
     ]
    }
   ],
   "source": [
    "str1='hello'\n",
    "str1[2]='L'"
   ]
  },
  {
   "cell_type": "code",
   "execution_count": 12,
   "id": "c955d417-2bba-4d0a-8df2-31d39e308f8d",
   "metadata": {},
   "outputs": [
    {
     "data": {
      "text/plain": [
       "[10, 200, 30]"
      ]
     },
     "execution_count": 12,
     "metadata": {},
     "output_type": "execute_result"
    }
   ],
   "source": [
    "l=[10,20,30]\n",
    "l[1]=200\n",
    "l"
   ]
  },
  {
   "cell_type": "markdown",
   "id": "c2e06db2-3697-4260-8081-803ab1599c1e",
   "metadata": {},
   "source": [
    "**slice**\n",
    "\n",
    "- slice means cut into pieces\n",
    "\n",
    "- it has similar analogy with for loop range\n",
    "\n",
    "- in the for loop range we have start,stop,step\n",
    "\n",
    "- range(start,stop,step) str[start:stop:step]"
   ]
  },
  {
   "cell_type": "code",
   "execution_count": null,
   "id": "5de2724a-c3be-4ad5-aa7c-4900a25958cc",
   "metadata": {},
   "outputs": [],
   "source": [
    "-17  -16  -15  -14  -13  -12  -11  -10  -9  -8  -7  -6  -5  -4  -3  -2  -1\n",
    "  h    e    l    l    o         h    o   w       a   r   e       y   o   u\n",
    "  0    1    2    3    4    5    6    7   8   9  10  11  12  13  14  15  16"
   ]
  },
  {
   "cell_type": "markdown",
   "id": "dfcfc6ab-279a-4463-a4c8-84d2776320f7",
   "metadata": {
    "jp-MarkdownHeadingCollapsed": true
   },
   "source": [
    "$case-1$\n",
    "\n",
    "**str[:stop]**\n",
    "\n",
    "- by default start=0\n",
    "\n",
    "- last=stop-1\n",
    "\n",
    "- by default step = postive direction 1"
   ]
  },
  {
   "cell_type": "code",
   "execution_count": 5,
   "id": "af89b737-114d-48c7-bcda-4ba3aa5b1d8e",
   "metadata": {},
   "outputs": [
    {
     "data": {
      "text/plain": [
       "'hello'"
      ]
     },
     "execution_count": 5,
     "metadata": {},
     "output_type": "execute_result"
    }
   ],
   "source": [
    "str1='hello how are you'\n",
    "str1[:5]\n",
    "# start=0  stop=5-1=4  step=1"
   ]
  },
  {
   "cell_type": "markdown",
   "id": "f702029c-07e7-4fd0-90b9-1892924a4150",
   "metadata": {},
   "source": [
    "$case-2$\n",
    "\n",
    "**str[start:]**\n",
    "\n",
    "- by default start = start value\n",
    "\n",
    "- last = last index\n",
    "\n",
    "- by default step = postive direction 1"
   ]
  },
  {
   "cell_type": "code",
   "execution_count": 6,
   "id": "c7945be0-67a8-454d-9169-51752480d178",
   "metadata": {},
   "outputs": [
    {
     "data": {
      "text/plain": [
       "'you'"
      ]
     },
     "execution_count": 6,
     "metadata": {},
     "output_type": "execute_result"
    }
   ],
   "source": [
    "str1[-3:]"
   ]
  },
  {
   "cell_type": "markdown",
   "id": "d4b8ccb4-bd65-4cda-a8cb-bf54d03606b3",
   "metadata": {},
   "source": [
    "$case-3$\n",
    "\n",
    "**str[start:stop]**\n",
    "\n",
    "- by default start = start value\n",
    "\n",
    "last=stop-1\n",
    "\n",
    "- by default step = postive direction 1 "
   ]
  },
  {
   "cell_type": "code",
   "execution_count": 7,
   "id": "76720d3a-64bd-47fb-814b-35dbbf438741",
   "metadata": {},
   "outputs": [
    {
     "data": {
      "text/plain": [
       "'are y'"
      ]
     },
     "execution_count": 7,
     "metadata": {},
     "output_type": "execute_result"
    }
   ],
   "source": [
    "# -17  -16  -15  -14  -13  -12  -11  -10  -9  -8  -7  -6  -5  -4  -3  -2  -1\n",
    "#   h    e    l    l    o         h    o   w       a   r   e       y   o   u\n",
    "#   0    1    2    3    4    5    6    7   8   9  10  11  12  13  14  15  16\n",
    "\n",
    "str1[10:15]   #  start=10  last=15-1=14  direction positive"
   ]
  },
  {
   "cell_type": "code",
   "execution_count": 8,
   "id": "21c112a1-b5bc-49f4-bff2-0047cb7717f2",
   "metadata": {},
   "outputs": [
    {
     "data": {
      "text/plain": [
       "'llo how '"
      ]
     },
     "execution_count": 8,
     "metadata": {},
     "output_type": "execute_result"
    }
   ],
   "source": [
    "str1[-15:10]"
   ]
  },
  {
   "cell_type": "code",
   "execution_count": 9,
   "id": "a33a08dd-8557-4af6-b4c5-eb25ec23fa00",
   "metadata": {},
   "outputs": [
    {
     "data": {
      "text/plain": [
       "''"
      ]
     },
     "execution_count": 9,
     "metadata": {},
     "output_type": "execute_result"
    }
   ],
   "source": [
    "str1[-10:2]"
   ]
  },
  {
   "cell_type": "code",
   "execution_count": 10,
   "id": "a931bb45-b1d8-4f66-bc2b-bf383411d3f8",
   "metadata": {},
   "outputs": [
    {
     "data": {
      "text/plain": [
       "'llo how are y'"
      ]
     },
     "execution_count": 10,
     "metadata": {},
     "output_type": "execute_result"
    }
   ],
   "source": [
    "str1[2:-2]"
   ]
  },
  {
   "cell_type": "code",
   "execution_count": null,
   "id": "3d671430-8a00-41fb-9126-9ae2e372e02d",
   "metadata": {},
   "outputs": [],
   "source": [
    "for i in range(2,-2):\n",
    "    print(i)    #  real line"
   ]
  },
  {
   "cell_type": "markdown",
   "id": "0c591052-a8a7-4a86-b345-6882f8201a0c",
   "metadata": {},
   "source": [
    "$case-4$\n",
    "\n",
    "**str[start:stop:step]**\n",
    "\n",
    "- by default start = start value\n",
    "\n",
    "- if step is negaive value\n",
    "\n",
    "    - last = stop-1\n",
    "\n",
    "- if step is negative value\n",
    "\n",
    "    - last = stop+1"
   ]
  },
  {
   "cell_type": "code",
   "execution_count": 11,
   "id": "697edce2-d1ba-4145-a139-301ac1f9a1ac",
   "metadata": {},
   "outputs": [
    {
     "data": {
      "text/plain": [
       "'lohwaey'"
      ]
     },
     "execution_count": 11,
     "metadata": {},
     "output_type": "execute_result"
    }
   ],
   "source": [
    "# -17  -16  -15  -14  -13  -12  -11  -10  -9  -8  -7  -6  -5  -4  -3  -2  -1\n",
    "#   h    e    l    l    o         h    o   w       a   r   e       y   o   u\n",
    "#   0    1    2    3    4    5    6    7   8   9  10  11  12  13  14  15  16\n",
    "\n",
    "str1[2:15:2]   #  start=2  last=15-1=14  step=2  direction positive  "
   ]
  },
  {
   "cell_type": "code",
   "execution_count": 12,
   "id": "06df6a04-c288-42cf-8ccf-e6260a8d8981",
   "metadata": {},
   "outputs": [
    {
     "data": {
      "text/plain": [
       "'lohwa'"
      ]
     },
     "execution_count": 12,
     "metadata": {},
     "output_type": "execute_result"
    }
   ],
   "source": [
    "str1[2:-5:2]"
   ]
  },
  {
   "cell_type": "code",
   "execution_count": 13,
   "id": "a6c0e28e-7244-4be0-808e-0d1fbf5a9253",
   "metadata": {},
   "outputs": [
    {
     "data": {
      "text/plain": [
       "''"
      ]
     },
     "execution_count": 13,
     "metadata": {},
     "output_type": "execute_result"
    }
   ],
   "source": [
    "str1[15:2:2]"
   ]
  },
  {
   "cell_type": "code",
   "execution_count": null,
   "id": "32e4ecd4-622f-49e4-a7ae-0150dfae4a55",
   "metadata": {},
   "outputs": [],
   "source": [
    "# -17  -16  -15  -14  -13  -12  -11  -10  -9  -8  -7  -6  -5  -4  -3  -2  -1\n",
    "#   h    e    l    l    o         h    o   w       a   r   e       y   o   u\n",
    "#   0    1    2    3    4    5    6    7   8   9  10  11  12  13  14  15  16"
   ]
  },
  {
   "cell_type": "code",
   "execution_count": 14,
   "id": "754ca01b-3991-43f6-9db4-847c136ddd8e",
   "metadata": {},
   "outputs": [
    {
     "data": {
      "text/plain": [
       "'llo how are you'"
      ]
     },
     "execution_count": 14,
     "metadata": {},
     "output_type": "execute_result"
    }
   ],
   "source": [
    "str1[2:150]"
   ]
  },
  {
   "cell_type": "code",
   "execution_count": 16,
   "id": "91236714-3a2d-4699-8476-952494b27ebd",
   "metadata": {},
   "outputs": [
    {
     "data": {
      "text/plain": [
       "'hello how are you'"
      ]
     },
     "execution_count": 16,
     "metadata": {},
     "output_type": "execute_result"
    }
   ],
   "source": [
    "str1[:]"
   ]
  },
  {
   "cell_type": "code",
   "execution_count": 17,
   "id": "0c7d6887-3661-4f5d-81b2-ddf437dfa5c1",
   "metadata": {},
   "outputs": [
    {
     "data": {
      "text/plain": [
       "'hello how are you'"
      ]
     },
     "execution_count": 17,
     "metadata": {},
     "output_type": "execute_result"
    }
   ],
   "source": [
    "str1[::]"
   ]
  },
  {
   "cell_type": "code",
   "execution_count": 18,
   "id": "36fe9a42-2df3-4d5d-b7c7-63600b7fedbb",
   "metadata": {},
   "outputs": [
    {
     "data": {
      "text/plain": [
       "'uoy era woh olleh'"
      ]
     },
     "execution_count": 18,
     "metadata": {},
     "output_type": "execute_result"
    }
   ],
   "source": [
    "str1[::-1]"
   ]
  },
  {
   "cell_type": "code",
   "execution_count": 1,
   "id": "27c5eb8f-3792-4f50-907d-5519723c3e29",
   "metadata": {},
   "outputs": [
    {
     "data": {
      "text/plain": [
       "54321"
      ]
     },
     "execution_count": 1,
     "metadata": {},
     "output_type": "execute_result"
    }
   ],
   "source": [
    "num=12345\n",
    "int(str(num)[::-1])"
   ]
  },
  {
   "cell_type": "code",
   "execution_count": 19,
   "id": "5699e742-2c23-4296-aaf2-c2419419497a",
   "metadata": {},
   "outputs": [
    {
     "data": {
      "text/plain": [
       "'lhay'"
      ]
     },
     "execution_count": 19,
     "metadata": {},
     "output_type": "execute_result"
    }
   ],
   "source": [
    "str1[2:15:4]"
   ]
  },
  {
   "cell_type": "markdown",
   "id": "c39ba601-d69b-43a3-a3ea-ce7f9197cd30",
   "metadata": {},
   "source": [
    "## Methods"
   ]
  },
  {
   "cell_type": "code",
   "execution_count": 2,
   "id": "de0bda96-3021-44cf-83eb-defd060b2bf7",
   "metadata": {},
   "outputs": [
    {
     "data": {
      "text/plain": [
       "['__add__',\n",
       " '__class__',\n",
       " '__contains__',\n",
       " '__delattr__',\n",
       " '__dir__',\n",
       " '__doc__',\n",
       " '__eq__',\n",
       " '__format__',\n",
       " '__ge__',\n",
       " '__getattribute__',\n",
       " '__getitem__',\n",
       " '__getnewargs__',\n",
       " '__getstate__',\n",
       " '__gt__',\n",
       " '__hash__',\n",
       " '__init__',\n",
       " '__init_subclass__',\n",
       " '__iter__',\n",
       " '__le__',\n",
       " '__len__',\n",
       " '__lt__',\n",
       " '__mod__',\n",
       " '__mul__',\n",
       " '__ne__',\n",
       " '__new__',\n",
       " '__reduce__',\n",
       " '__reduce_ex__',\n",
       " '__repr__',\n",
       " '__rmod__',\n",
       " '__rmul__',\n",
       " '__setattr__',\n",
       " '__sizeof__',\n",
       " '__str__',\n",
       " '__subclasshook__',\n",
       " 'capitalize',\n",
       " 'casefold',\n",
       " 'center',\n",
       " 'count',\n",
       " 'encode',\n",
       " 'endswith',\n",
       " 'expandtabs',\n",
       " 'find',\n",
       " 'format',\n",
       " 'format_map',\n",
       " 'index',\n",
       " 'isalnum',\n",
       " 'isalpha',\n",
       " 'isascii',\n",
       " 'isdecimal',\n",
       " 'isdigit',\n",
       " 'isidentifier',\n",
       " 'islower',\n",
       " 'isnumeric',\n",
       " 'isprintable',\n",
       " 'isspace',\n",
       " 'istitle',\n",
       " 'isupper',\n",
       " 'join',\n",
       " 'ljust',\n",
       " 'lower',\n",
       " 'lstrip',\n",
       " 'maketrans',\n",
       " 'partition',\n",
       " 'removeprefix',\n",
       " 'removesuffix',\n",
       " 'replace',\n",
       " 'rfind',\n",
       " 'rindex',\n",
       " 'rjust',\n",
       " 'rpartition',\n",
       " 'rsplit',\n",
       " 'rstrip',\n",
       " 'split',\n",
       " 'splitlines',\n",
       " 'startswith',\n",
       " 'strip',\n",
       " 'swapcase',\n",
       " 'title',\n",
       " 'translate',\n",
       " 'upper',\n",
       " 'zfill']"
      ]
     },
     "execution_count": 2,
     "metadata": {},
     "output_type": "execute_result"
    }
   ],
   "source": [
    "name='python'\n",
    "dir(name)   # dir('')"
   ]
  },
  {
   "cell_type": "markdown",
   "id": "8ae876b1-ee82-40c2-b1bc-309e7358db2e",
   "metadata": {},
   "source": [
    "**upper**"
   ]
  },
  {
   "cell_type": "code",
   "execution_count": 8,
   "id": "a52cec1d-7a8d-4f2b-94bf-7a376e94b53f",
   "metadata": {},
   "outputs": [
    {
     "data": {
      "text/plain": [
       "'WELCOME TO NARESHIT'"
      ]
     },
     "execution_count": 8,
     "metadata": {},
     "output_type": "execute_result"
    }
   ],
   "source": [
    "str1='welcome to nareshit'\n",
    "str1.upper()"
   ]
  },
  {
   "cell_type": "code",
   "execution_count": 20,
   "id": "c17393f8-0b44-48a6-8035-adbe24437cf0",
   "metadata": {},
   "outputs": [
    {
     "data": {
      "text/plain": [
       "'welcome to naresh it'"
      ]
     },
     "execution_count": 20,
     "metadata": {},
     "output_type": "execute_result"
    }
   ],
   "source": [
    "str1='WELCOME to Naresh IT'\n",
    "str1.lower()"
   ]
  },
  {
   "cell_type": "code",
   "execution_count": 21,
   "id": "3e0f008c-fa30-46b6-ae36-e0f95f4d4e6a",
   "metadata": {},
   "outputs": [
    {
     "data": {
      "text/plain": [
       "'welcome to naresh it'"
      ]
     },
     "execution_count": 21,
     "metadata": {},
     "output_type": "execute_result"
    }
   ],
   "source": [
    "str1='WELCOME to Naresh IT'\n",
    "str1.casefold()"
   ]
  },
  {
   "cell_type": "code",
   "execution_count": 22,
   "id": "853b480b-3bfd-41c4-84b8-6422bfe74b94",
   "metadata": {},
   "outputs": [
    {
     "data": {
      "text/plain": [
       "'Welcome To Nareshit'"
      ]
     },
     "execution_count": 22,
     "metadata": {},
     "output_type": "execute_result"
    }
   ],
   "source": [
    "str1='welcome to nareshit'\n",
    "str1.title()"
   ]
  },
  {
   "cell_type": "code",
   "execution_count": 23,
   "id": "a35c271d-72e8-48a5-b07d-8d3939202305",
   "metadata": {},
   "outputs": [
    {
     "data": {
      "text/plain": [
       "'Welcome to nareshit'"
      ]
     },
     "execution_count": 23,
     "metadata": {},
     "output_type": "execute_result"
    }
   ],
   "source": [
    "str1='welcome to nareshit'\n",
    "str1.capitalize()"
   ]
  },
  {
   "cell_type": "markdown",
   "id": "13a3cfd2-81cc-4be8-82a5-86e145707caa",
   "metadata": {},
   "source": [
    "**difference between methods and inbuilt functions**"
   ]
  },
  {
   "cell_type": "code",
   "execution_count": null,
   "id": "8c437226-7685-4ef9-965b-7b6cb8c2cca9",
   "metadata": {},
   "outputs": [],
   "source": [
    "######################### Inbuilt #########################\n",
    "len('python')\n",
    "max()\n",
    "min()\n",
    "type()\n",
    "print()\n",
    "sum()\n",
    "###########################################################\n",
    "str1.upper()\n",
    "str1.lower()\n",
    "str1.title()\n",
    "str1.capitalize()\n",
    "str1.casefold()"
   ]
  },
  {
   "cell_type": "markdown",
   "id": "9c6c0083-83c5-46a5-92f6-781e6bc2e3ab",
   "metadata": {},
   "source": [
    "**center**"
   ]
  },
  {
   "cell_type": "code",
   "execution_count": 24,
   "id": "d5618f04-f2a6-4bd1-b065-885720830190",
   "metadata": {},
   "outputs": [
    {
     "data": {
      "text/plain": [
       "'**pythonn***'"
      ]
     },
     "execution_count": 24,
     "metadata": {},
     "output_type": "execute_result"
    }
   ],
   "source": [
    "str1='pythonn'\n",
    "str1.center(12,'*')\n",
    "\n",
    "\n",
    "# 2stars + python(7) + 3stars\n",
    "# 3* + 7 + 2*\n",
    "# here 12 means the len of string becomes 12 characters\n",
    "# already 'pythonn' string has 7 characters\n",
    "# so remaining 5 characters padd as *"
   ]
  },
  {
   "cell_type": "code",
   "execution_count": null,
   "id": "528eb2f0-7c65-4991-8ccf-f788849d6af0",
   "metadata": {},
   "outputs": [],
   "source": [
    "# assume that i already have\n",
    "# string='***python'"
   ]
  },
  {
   "cell_type": "markdown",
   "id": "f240cf2b-c5dc-44ae-88f8-e0251a7537c4",
   "metadata": {},
   "source": [
    "**strip-lstrip-rstrip**\n",
    "\n",
    "\n",
    "- strip will remove the characters both left and right side\n",
    "\n",
    "- lstrip will remove the characters on left side\n",
    "\n",
    "- rstrip will remove the characters on right side"
   ]
  },
  {
   "cell_type": "code",
   "execution_count": 28,
   "id": "b5fed49f-001f-47a1-a747-7f0f43294407",
   "metadata": {},
   "outputs": [],
   "source": [
    "str1=' python '\n",
    "str2='***python****'\n",
    "str3='   python****'"
   ]
  },
  {
   "cell_type": "code",
   "execution_count": 29,
   "id": "f9a5ba6f-7d9f-4087-b1a4-2dec34cdb750",
   "metadata": {},
   "outputs": [
    {
     "data": {
      "text/plain": [
       "(' python ', 'python', 'python ', 'python')"
      ]
     },
     "execution_count": 29,
     "metadata": {},
     "output_type": "execute_result"
    }
   ],
   "source": [
    "str1,str1.strip(),str1.lstrip(),str1.strip()"
   ]
  },
  {
   "cell_type": "code",
   "execution_count": 30,
   "id": "864ff41d-0fc7-4493-97ec-23b747d3b968",
   "metadata": {},
   "outputs": [
    {
     "name": "stdout",
     "output_type": "stream",
     "text": [
      " python \n",
      "python\n",
      "python \n",
      " python\n"
     ]
    }
   ],
   "source": [
    "print(str1)\n",
    "print(str1.strip())\n",
    "print(str1.lstrip())\n",
    "print(str1.rstrip())"
   ]
  },
  {
   "cell_type": "code",
   "execution_count": 31,
   "id": "98f882e4-b595-47cd-adaf-2c0e2151d8c0",
   "metadata": {},
   "outputs": [
    {
     "data": {
      "text/plain": [
       "('***python****', 'python', 'python****', '***python')"
      ]
     },
     "execution_count": 31,
     "metadata": {},
     "output_type": "execute_result"
    }
   ],
   "source": [
    "str2,str2.strip('*'),str2.lstrip('*'),str2.rstrip('*')"
   ]
  },
  {
   "cell_type": "code",
   "execution_count": 32,
   "id": "d044d979-5c19-486a-9466-8dd155ce672a",
   "metadata": {},
   "outputs": [
    {
     "data": {
      "text/plain": [
       "'***python****'"
      ]
     },
     "execution_count": 32,
     "metadata": {},
     "output_type": "execute_result"
    }
   ],
   "source": [
    "str2.strip()"
   ]
  },
  {
   "cell_type": "code",
   "execution_count": 33,
   "id": "50cfe065-40c2-4cf5-8f93-3ca3c183a367",
   "metadata": {},
   "outputs": [
    {
     "data": {
      "text/plain": [
       "'python'"
      ]
     },
     "execution_count": 33,
     "metadata": {},
     "output_type": "execute_result"
    }
   ],
   "source": [
    "str3='   python****'\n",
    "str4=str3.strip()\n",
    "str4.rstrip('*')"
   ]
  },
  {
   "cell_type": "code",
   "execution_count": 34,
   "id": "69e0a641-6086-4cc7-b1b4-7511037e765e",
   "metadata": {},
   "outputs": [
    {
     "data": {
      "text/plain": [
       "'python'"
      ]
     },
     "execution_count": 34,
     "metadata": {},
     "output_type": "execute_result"
    }
   ],
   "source": [
    "str3='++++python****'\n",
    "str3.lstrip('+').rstrip('*')"
   ]
  },
  {
   "cell_type": "markdown",
   "id": "9d30cad8-de26-4896-8169-33a6d23d8390",
   "metadata": {},
   "source": [
    "**startswith**"
   ]
  },
  {
   "cell_type": "code",
   "execution_count": 2,
   "id": "df0f8adf-cd40-4b20-bfec-e6aa8a309cc2",
   "metadata": {},
   "outputs": [
    {
     "data": {
      "text/plain": [
       "True"
      ]
     },
     "execution_count": 2,
     "metadata": {},
     "output_type": "execute_result"
    }
   ],
   "source": [
    "str1='hello how are you'\n",
    "str1.startswith('h')"
   ]
  },
  {
   "cell_type": "code",
   "execution_count": 2,
   "id": "d80b3c64-95f2-43fe-8395-40d0ffdb0b3d",
   "metadata": {},
   "outputs": [
    {
     "data": {
      "text/plain": [
       "False"
      ]
     },
     "execution_count": 2,
     "metadata": {},
     "output_type": "execute_result"
    }
   ],
   "source": [
    "str1.startswith('H')"
   ]
  },
  {
   "cell_type": "code",
   "execution_count": 3,
   "id": "cdb9a189-a775-4c24-a0dd-ab229fd6ac60",
   "metadata": {},
   "outputs": [
    {
     "data": {
      "text/plain": [
       "True"
      ]
     },
     "execution_count": 3,
     "metadata": {},
     "output_type": "execute_result"
    }
   ],
   "source": [
    "str1.startswith('hello how are you')"
   ]
  },
  {
   "cell_type": "code",
   "execution_count": 4,
   "id": "ead6c812-a15d-4a6c-a82f-ec416df3f84c",
   "metadata": {},
   "outputs": [
    {
     "data": {
      "text/plain": [
       "True"
      ]
     },
     "execution_count": 4,
     "metadata": {},
     "output_type": "execute_result"
    }
   ],
   "source": [
    "str1.startswith(str1)"
   ]
  },
  {
   "cell_type": "code",
   "execution_count": 5,
   "id": "c8dde0c9-6879-4427-ad0a-cebbfa165399",
   "metadata": {},
   "outputs": [
    {
     "data": {
      "text/plain": [
       "True"
      ]
     },
     "execution_count": 5,
     "metadata": {},
     "output_type": "execute_result"
    }
   ],
   "source": [
    "str1.endswith('ou')"
   ]
  },
  {
   "cell_type": "code",
   "execution_count": 7,
   "id": "bc709431-0fad-46cd-9359-626806a72921",
   "metadata": {},
   "outputs": [
    {
     "data": {
      "text/plain": [
       "True"
      ]
     },
     "execution_count": 7,
     "metadata": {},
     "output_type": "execute_result"
    }
   ],
   "source": [
    "str1.endswith(str1)"
   ]
  },
  {
   "cell_type": "markdown",
   "id": "2a0cd89e-c39f-437b-8364-e515f1a8dd8d",
   "metadata": {},
   "source": [
    "**count**"
   ]
  },
  {
   "cell_type": "code",
   "execution_count": 8,
   "id": "0738531f-7aac-4ec0-b992-5ef75c06f295",
   "metadata": {},
   "outputs": [
    {
     "name": "stdout",
     "output_type": "stream",
     "text": [
      "3\n"
     ]
    }
   ],
   "source": [
    "str1='ola ola ola'\n",
    "# in the above string how many 'a' are available\n",
    "count=0\n",
    "for i in str1:\n",
    "    if i=='a':\n",
    "        count+=1  # count=count+1\n",
    "print(count)        "
   ]
  },
  {
   "cell_type": "code",
   "execution_count": 10,
   "id": "7eaed8c9-96ee-4876-8855-825e197db112",
   "metadata": {},
   "outputs": [
    {
     "name": "stdout",
     "output_type": "stream",
     "text": [
      "3\n"
     ]
    }
   ],
   "source": [
    "str1='ola ola ola'\n",
    "count=0\n",
    "for i in range(len(str1)):\n",
    "    if str1[i]=='a':\n",
    "        count+=1   # count=count+1\n",
    "print(count)        "
   ]
  },
  {
   "cell_type": "markdown",
   "id": "93a44943-c2e3-4200-b366-f1319f82e6a9",
   "metadata": {},
   "source": [
    "$case-1$"
   ]
  },
  {
   "cell_type": "code",
   "execution_count": 3,
   "id": "7d78370d-5f30-4826-8a34-f90164d37153",
   "metadata": {},
   "outputs": [
    {
     "data": {
      "text/plain": [
       "3"
      ]
     },
     "execution_count": 3,
     "metadata": {},
     "output_type": "execute_result"
    }
   ],
   "source": [
    "str1='ola ola ola'\n",
    "str1.count('a')"
   ]
  },
  {
   "cell_type": "code",
   "execution_count": 5,
   "id": "02850beb-8e7b-4e9f-aa17-b55f4b8c7aa5",
   "metadata": {},
   "outputs": [
    {
     "data": {
      "text/plain": [
       "2"
      ]
     },
     "execution_count": 5,
     "metadata": {},
     "output_type": "execute_result"
    }
   ],
   "source": [
    "str1='ola ola ola'\n",
    "str1.count('ola ')"
   ]
  },
  {
   "cell_type": "markdown",
   "id": "f7e2ef6b-6c42-42bd-8d34-e655901a9996",
   "metadata": {},
   "source": [
    "$case-2$"
   ]
  },
  {
   "cell_type": "code",
   "execution_count": 6,
   "id": "c9f5785d-5938-4930-b1e8-2ba4a91b5d0b",
   "metadata": {},
   "outputs": [
    {
     "data": {
      "text/plain": [
       "2"
      ]
     },
     "execution_count": 6,
     "metadata": {},
     "output_type": "execute_result"
    }
   ],
   "source": [
    "#   o    l    a         o    l    a        o   l   a\n",
    "#   0    1    2    3    4    5    6    7   8   9  10  \n",
    "str1.count('a',4)"
   ]
  },
  {
   "cell_type": "code",
   "execution_count": 7,
   "id": "5b8504d4-8115-49d8-a095-c00a53aa46cc",
   "metadata": {},
   "outputs": [
    {
     "data": {
      "text/plain": [
       "1"
      ]
     },
     "execution_count": 7,
     "metadata": {},
     "output_type": "execute_result"
    }
   ],
   "source": [
    "str1.count('a',7)"
   ]
  },
  {
   "cell_type": "code",
   "execution_count": 8,
   "id": "c2204f84-5a7f-4613-ab59-204cf6ab8368",
   "metadata": {},
   "outputs": [
    {
     "data": {
      "text/plain": [
       "0"
      ]
     },
     "execution_count": 8,
     "metadata": {},
     "output_type": "execute_result"
    }
   ],
   "source": [
    "str1.count('a',4,6)\n",
    "# start=4  last=stop-1=6-1=5  positive"
   ]
  },
  {
   "cell_type": "code",
   "execution_count": 9,
   "id": "63bbe3e2-bb2a-410a-ae85-ecf98b747e4e",
   "metadata": {},
   "outputs": [
    {
     "data": {
      "text/plain": [
       "0"
      ]
     },
     "execution_count": 9,
     "metadata": {},
     "output_type": "execute_result"
    }
   ],
   "source": [
    "str1.count('a',-1,-10)"
   ]
  },
  {
   "cell_type": "code",
   "execution_count": 10,
   "id": "31b950d4-a97f-42e0-9d40-0b09e3ae9823",
   "metadata": {},
   "outputs": [
    {
     "data": {
      "text/plain": [
       "2"
      ]
     },
     "execution_count": 10,
     "metadata": {},
     "output_type": "execute_result"
    }
   ],
   "source": [
    "str1.count('a',-10,-1)"
   ]
  },
  {
   "cell_type": "code",
   "execution_count": 11,
   "id": "8667407b-c5d7-42f2-9c12-610724f3c6d3",
   "metadata": {},
   "outputs": [
    {
     "data": {
      "text/plain": [
       "0"
      ]
     },
     "execution_count": 11,
     "metadata": {},
     "output_type": "execute_result"
    }
   ],
   "source": [
    "str1.count('z')"
   ]
  },
  {
   "cell_type": "code",
   "execution_count": 31,
   "id": "bf32bc2e-affd-4854-b906-4f956b635d4b",
   "metadata": {},
   "outputs": [],
   "source": [
    "# str1='ola ola ola'\n",
    "# count the number of substring: 'ola'\n",
    "# without using count method\n",
    "\n",
    "\n",
    "str1='ola ola ola'\n",
    "for i in str1:\n",
    "    if i=='ola'"
   ]
  },
  {
   "cell_type": "markdown",
   "id": "cba59af4-2a69-448d-a727-6b1c5268a0ed",
   "metadata": {},
   "source": [
    "**sliding window approach**\n",
    "\n",
    "\n",
    "- fix the slice value first : **str1[i:i+3]**\n",
    "\n",
    "- then increase the slice by 1 : **for i in range(len(str1))**\n",
    "\n",
    "- whenever it is equal to substring : **str1[i:i+3]=='ola'**\n",
    "\n",
    "- then update the count : **count=count+1**"
   ]
  },
  {
   "cell_type": "code",
   "execution_count": 12,
   "id": "67dc80d0-9a8d-47f2-8bad-09a3d1fa9965",
   "metadata": {},
   "outputs": [
    {
     "name": "stdout",
     "output_type": "stream",
     "text": [
      "4\n"
     ]
    }
   ],
   "source": [
    "# str1[i:i+3]=='ola'  logic\n",
    "# i=0 str1[0:3]=='ola'  True\n",
    "# i=1 str1[1:3]=='la ' not equal to 'ola' False\n",
    "\n",
    "str1='ola ola ola ola'\n",
    "count=0\n",
    "for i in range(len(str1)):\n",
    "    if str1[i:i+3]=='ola':\n",
    "        count=count+1\n",
    "print(count)        "
   ]
  },
  {
   "cell_type": "code",
   "execution_count": 13,
   "id": "c6cad7db-422c-42b9-ba66-6075b2659e81",
   "metadata": {},
   "outputs": [
    {
     "data": {
      "text/plain": [
       "4"
      ]
     },
     "execution_count": 13,
     "metadata": {},
     "output_type": "execute_result"
    }
   ],
   "source": [
    "str1.count('ola')"
   ]
  },
  {
   "cell_type": "markdown",
   "id": "f793095c-e064-483f-bc4d-4992ab073f58",
   "metadata": {},
   "source": [
    "**replace**"
   ]
  },
  {
   "cell_type": "code",
   "execution_count": 15,
   "id": "0f5bb2a5-b382-4966-84e6-569e04b81043",
   "metadata": {},
   "outputs": [
    {
     "ename": "TypeError",
     "evalue": "'str' object does not support item assignment",
     "output_type": "error",
     "traceback": [
      "\u001b[1;31m---------------------------------------------------------------------------\u001b[0m",
      "\u001b[1;31mTypeError\u001b[0m                                 Traceback (most recent call last)",
      "Cell \u001b[1;32mIn[15], line 2\u001b[0m\n\u001b[0;32m      1\u001b[0m str1\u001b[38;5;241m=\u001b[39m\u001b[38;5;124m'\u001b[39m\u001b[38;5;124mwelcome\u001b[39m\u001b[38;5;124m'\u001b[39m  \u001b[38;5;66;03m# 'welcome'\u001b[39;00m\n\u001b[1;32m----> 2\u001b[0m \u001b[43mstr1\u001b[49m\u001b[43m[\u001b[49m\u001b[38;5;241;43m2\u001b[39;49m\u001b[43m]\u001b[49m\u001b[38;5;241m=\u001b[39m\u001b[38;5;124m'\u001b[39m\u001b[38;5;124mL\u001b[39m\u001b[38;5;124m'\u001b[39m    \u001b[38;5;66;03m# error\u001b[39;00m\n",
      "\u001b[1;31mTypeError\u001b[0m: 'str' object does not support item assignment"
     ]
    }
   ],
   "source": [
    "str1='welcome'  # 'welcome'\n",
    "str1[2]='L'    # error"
   ]
  },
  {
   "cell_type": "code",
   "execution_count": 14,
   "id": "b942ee12-a889-42fb-bfbf-4e4a33baf1fd",
   "metadata": {},
   "outputs": [
    {
     "data": {
      "text/plain": [
       "'weLcome'"
      ]
     },
     "execution_count": 14,
     "metadata": {},
     "output_type": "execute_result"
    }
   ],
   "source": [
    "str1='welcome'\n",
    "str1.replace('l','L')"
   ]
  },
  {
   "cell_type": "code",
   "execution_count": 16,
   "id": "eb4bf9e6-94bb-4906-9af3-f9f8210f71f8",
   "metadata": {},
   "outputs": [
    {
     "data": {
      "text/plain": [
       "'weLLLcome'"
      ]
     },
     "execution_count": 16,
     "metadata": {},
     "output_type": "execute_result"
    }
   ],
   "source": [
    "# By default all the occurences\n",
    "str1='welllcome'\n",
    "str1.replace('l','L')"
   ]
  },
  {
   "cell_type": "code",
   "execution_count": 17,
   "id": "8543dd48-132f-4fa3-8685-1e6503cf7ceb",
   "metadata": {},
   "outputs": [
    {
     "data": {
      "text/plain": [
       "'weLllcome'"
      ]
     },
     "execution_count": 17,
     "metadata": {},
     "output_type": "execute_result"
    }
   ],
   "source": [
    "# here count=1 which indicates replace only one l\n",
    "str1='welllcome'\n",
    "str1.replace('l','L',1)"
   ]
  },
  {
   "cell_type": "code",
   "execution_count": 18,
   "id": "6ce64323-9bed-4f90-bfaa-e2075f1b7ce5",
   "metadata": {},
   "outputs": [
    {
     "data": {
      "text/plain": [
       "'welllcome'"
      ]
     },
     "execution_count": 18,
     "metadata": {},
     "output_type": "execute_result"
    }
   ],
   "source": [
    "str1.replace('z','Z')\n",
    "# substring not found\n",
    "# 'welcome'"
   ]
  },
  {
   "cell_type": "markdown",
   "id": "bef66d6d-9d06-45ee-a306-96a99033ad53",
   "metadata": {},
   "source": [
    "- By default it will replace all the occurences\n",
    "\n",
    "- The user can provide count which indicates how many letters can replace\n",
    "\n",
    "- If the substring not found it will return the original string itself "
   ]
  },
  {
   "cell_type": "code",
   "execution_count": 21,
   "id": "d1b4ef62-0885-4445-acf2-ef4f2518982d",
   "metadata": {},
   "outputs": [
    {
     "data": {
      "text/plain": [
       "'resta$t'"
      ]
     },
     "execution_count": 21,
     "metadata": {},
     "output_type": "execute_result"
    }
   ],
   "source": [
    "# replace 'r' with '$'\n",
    "# i want only second 'r'\n",
    "# 'resta$t'\n",
    "\n",
    "\n",
    "str1='restart'\n",
    "str2=str1[0:5]   # 'resta'\n",
    "str3=str1[5:]    # 'rt'\n",
    "str4=str3.replace('r','$')\n",
    "str2+str4"
   ]
  },
  {
   "cell_type": "code",
   "execution_count": 20,
   "id": "7017de99-d30a-45b0-a401-f66188550bac",
   "metadata": {},
   "outputs": [
    {
     "data": {
      "text/plain": [
       "'resta$t'"
      ]
     },
     "execution_count": 20,
     "metadata": {},
     "output_type": "execute_result"
    }
   ],
   "source": [
    "str1='restart'\n",
    "str1[::-1].replace('r','$',1)[::-1]"
   ]
  },
  {
   "cell_type": "code",
   "execution_count": 21,
   "id": "f6d55cdb-da1b-47ed-a4b4-47ec0bb0b937",
   "metadata": {},
   "outputs": [
    {
     "data": {
      "text/plain": [
       "'restart $estart'"
      ]
     },
     "execution_count": 21,
     "metadata": {},
     "output_type": "execute_result"
    }
   ],
   "source": [
    "str1='restart restart'  # third  'r'\n",
    "str2=str1[0:8]   # 'resta'\n",
    "str3=str1[8:]    # 'rt'\n",
    "str4=str3.replace('r','$',1)\n",
    "str2+str4"
   ]
  },
  {
   "cell_type": "markdown",
   "id": "fd094cd4-5c6e-4fe3-9e75-cd40da523323",
   "metadata": {},
   "source": [
    "**index**"
   ]
  },
  {
   "cell_type": "code",
   "execution_count": 22,
   "id": "6fab7572-1da0-4eb3-9959-28d5514184f6",
   "metadata": {},
   "outputs": [
    {
     "data": {
      "text/plain": [
       "(3, 0)"
      ]
     },
     "execution_count": 22,
     "metadata": {},
     "output_type": "execute_result"
    }
   ],
   "source": [
    "str1='restart restart'\n",
    "str1.index('t'),str1.index('r')\n",
    "# by default first string index will come"
   ]
  },
  {
   "cell_type": "code",
   "execution_count": 22,
   "id": "ce1b2c04-364e-4213-acee-e41bb8749609",
   "metadata": {},
   "outputs": [
    {
     "ename": "ValueError",
     "evalue": "substring not found",
     "output_type": "error",
     "traceback": [
      "\u001b[1;31m---------------------------------------------------------------------------\u001b[0m",
      "\u001b[1;31mValueError\u001b[0m                                Traceback (most recent call last)",
      "Cell \u001b[1;32mIn[22], line 2\u001b[0m\n\u001b[0;32m      1\u001b[0m str1\u001b[38;5;241m=\u001b[39m\u001b[38;5;124m'\u001b[39m\u001b[38;5;124mrestart\u001b[39m\u001b[38;5;124m'\u001b[39m\n\u001b[1;32m----> 2\u001b[0m \u001b[43mstr1\u001b[49m\u001b[38;5;241;43m.\u001b[39;49m\u001b[43mindex\u001b[49m\u001b[43m(\u001b[49m\u001b[38;5;124;43m'\u001b[39;49m\u001b[38;5;124;43mz\u001b[39;49m\u001b[38;5;124;43m'\u001b[39;49m\u001b[43m)\u001b[49m\n",
      "\u001b[1;31mValueError\u001b[0m: substring not found"
     ]
    }
   ],
   "source": [
    "str1='restart'\n",
    "str1.index('z')"
   ]
  },
  {
   "cell_type": "code",
   "execution_count": 23,
   "id": "91f67e3c-6b0c-401d-9124-59b29c714e06",
   "metadata": {},
   "outputs": [
    {
     "data": {
      "text/plain": [
       "0"
      ]
     },
     "execution_count": 23,
     "metadata": {},
     "output_type": "execute_result"
    }
   ],
   "source": [
    "str1='restart'\n",
    "str1.index('r')  # 0\n",
    "# second 'r' index is 5 this is i counted\n",
    "# i want to use index\n",
    "\n",
    "# already one 'r' index is 0\n",
    "# next 'r' i can find from index 1"
   ]
  },
  {
   "cell_type": "code",
   "execution_count": 24,
   "id": "9f89bdd4-1d5e-491d-9b71-2bf088e46525",
   "metadata": {},
   "outputs": [
    {
     "data": {
      "text/plain": [
       "5"
      ]
     },
     "execution_count": 24,
     "metadata": {},
     "output_type": "execute_result"
    }
   ],
   "source": [
    "str1='restart restart'\n",
    "str1.index('r',1)"
   ]
  },
  {
   "cell_type": "code",
   "execution_count": 25,
   "id": "bd6f8c48-4e59-4ddc-a34a-de0f936fc69d",
   "metadata": {},
   "outputs": [
    {
     "data": {
      "text/plain": [
       "8"
      ]
     },
     "execution_count": 25,
     "metadata": {},
     "output_type": "execute_result"
    }
   ],
   "source": [
    "str1='restart restart'\n",
    "str1.index('r',6)"
   ]
  },
  {
   "cell_type": "code",
   "execution_count": 26,
   "id": "97e6d916-47a7-4175-97a4-fc4e587398dc",
   "metadata": {},
   "outputs": [
    {
     "data": {
      "text/plain": [
       "13"
      ]
     },
     "execution_count": 26,
     "metadata": {},
     "output_type": "execute_result"
    }
   ],
   "source": [
    "str1='restart restart'\n",
    "str1.index('r',9)"
   ]
  },
  {
   "cell_type": "code",
   "execution_count": 30,
   "id": "b8f89b19-b2a6-4b39-ac81-ac396c5fd447",
   "metadata": {},
   "outputs": [],
   "source": [
    "str1='restart restart'\n",
    "i1=str1.index('r')       # 0\n",
    "i2=str1.index('r',i1+1)  # 1=0+1\n",
    "i3=str1.index('r',i2+1)  # 6=5+1\n",
    "i4=str1.index('r',i3+1)  # 9=8+1"
   ]
  },
  {
   "cell_type": "code",
   "execution_count": 29,
   "id": "480a0d97-f1a9-4116-aa77-65cfc7565677",
   "metadata": {},
   "outputs": [
    {
     "data": {
      "text/plain": [
       "13"
      ]
     },
     "execution_count": 29,
     "metadata": {},
     "output_type": "execute_result"
    }
   ],
   "source": [
    "str1='restart restart'\n",
    "str1.index('r')     # 0\n",
    "str1.index('r',1)  # 1=0+1\n",
    "str1.index('r',6)  # 6=5+1\n",
    "str1.index('r',9)  # 9=8+1"
   ]
  },
  {
   "cell_type": "code",
   "execution_count": 23,
   "id": "8b8f7b0f-e1bd-4114-ae52-9c667f8587ce",
   "metadata": {},
   "outputs": [
    {
     "name": "stdout",
     "output_type": "stream",
     "text": [
      "0 5 8 13\n"
     ]
    }
   ],
   "source": [
    "str1='restart restart'\n",
    "i1=str1.index('r')       # 0\n",
    "i2=str1.index('r',i1+1)  # 1=0+1\n",
    "i3=str1.index('r',i2+1)  # 6=5+1\n",
    "i4=str1.index('r',i3+1)  # 9=8+1\n",
    "print(i1,i2,i3,i4)"
   ]
  },
  {
   "cell_type": "markdown",
   "id": "ede1680c-57fe-4bd7-ad18-7ad1b9a50add",
   "metadata": {},
   "source": [
    "**find**\n",
    "\n",
    "\n",
    "- tell me the difference between index and find "
   ]
  },
  {
   "cell_type": "code",
   "execution_count": null,
   "id": "e8281142-8046-4546-a0e0-b4f68c8f7148",
   "metadata": {},
   "outputs": [],
   "source": [
    "str1='restart'\n",
    "str1=count('z')        # 0\n",
    "str1=replace('z','Z')  # 'restart'\n",
    "str1=index('z')        # error\n",
    "str1.find('z')         # -1"
   ]
  },
  {
   "cell_type": "code",
   "execution_count": 5,
   "id": "4a2bc704-cb50-4070-ba46-2ff7233124ce",
   "metadata": {},
   "outputs": [],
   "source": [
    "str1='virat.kohli@rcb.com'\n",
    "str2='rohit.sharma@mi.com'\n",
    "str3='ms.dhoni@csk.com'\n",
    "# extract the first name from str1: virat\n",
    "# extract second name from str1: kohli\n",
    "# extract company name from str1: rcb\n",
    "str4='a.b@c.com'\n",
    "\n",
    "# idea: try to get the trigger points\n",
    "str1='hello how'\n",
    "str1[0:5]\n",
    "# step-1: first extract . index\n",
    "# step-2: extract the @ index\n",
    "# step-3: extract the second . dot index"
   ]
  },
  {
   "cell_type": "code",
   "execution_count": 2,
   "id": "7cd4dae9-aafa-421d-a4e2-fad76a26f487",
   "metadata": {},
   "outputs": [],
   "source": [
    "str1='hello how'\n",
    "id1=str1.index('o')\n",
    "id2=str1.index('o',id1+1)"
   ]
  },
  {
   "cell_type": "code",
   "execution_count": 6,
   "id": "27acad59-c4cc-4e58-92c5-8dfbb749d84a",
   "metadata": {},
   "outputs": [
    {
     "name": "stdout",
     "output_type": "stream",
     "text": [
      "5\n",
      "virat\n"
     ]
    },
    {
     "data": {
      "text/plain": [
       "'virat'"
      ]
     },
     "execution_count": 6,
     "metadata": {},
     "output_type": "execute_result"
    }
   ],
   "source": [
    "str1='virat.kohli@rcb.com'\n",
    "first_dot=str1.index('.')\n",
    "print(first_dot)\n",
    "first_name=str1[:first_dot]\n",
    "print(first_name)\n",
    "##############################\n",
    "str2='rohit.sharma@mi.com'\n",
    "first_dot=str2.index('.')\n",
    "first_name"
   ]
  },
  {
   "cell_type": "code",
   "execution_count": 8,
   "id": "a4089da7-bb29-4efd-b8af-5e6e4b8f9d4d",
   "metadata": {},
   "outputs": [
    {
     "name": "stdout",
     "output_type": "stream",
     "text": [
      "5 15 11\n",
      "virat kohli rcb\n"
     ]
    }
   ],
   "source": [
    "str1='virat.kohli@rcb.com'\n",
    "first_dot=str1.index('.')\n",
    "second_dot=str1.index('.',first_dot+1)\n",
    "at_the_rate=str1.index('@')\n",
    "print(first_dot,second_dot,at_the_rate)\n",
    "first_name=str1[:first_dot]\n",
    "second_name=str1[first_dot+1:at_the_rate]\n",
    "cname=str1[at_the_rate+1:second_dot]\n",
    "print(first_name,second_name,cname)"
   ]
  },
  {
   "cell_type": "code",
   "execution_count": 9,
   "id": "98a666a7-8fd2-42f5-a515-823bfdd01fb0",
   "metadata": {},
   "outputs": [
    {
     "data": {
      "text/plain": [
       "('virat', 'kohli', 'rcb')"
      ]
     },
     "execution_count": 9,
     "metadata": {},
     "output_type": "execute_result"
    }
   ],
   "source": [
    "str1[:5],str1[5+1:11],str1[11+1:15]"
   ]
  },
  {
   "cell_type": "code",
   "execution_count": 10,
   "id": "078dc8f9-acf8-4c45-b08f-51822d932d9d",
   "metadata": {},
   "outputs": [
    {
     "name": "stdout",
     "output_type": "stream",
     "text": [
      "1 5 3\n",
      "a b c\n"
     ]
    }
   ],
   "source": [
    "def extract(str1):\n",
    "    first_dot=str1.index('.')\n",
    "    second_dot=str1.index('.',first_dot+1)\n",
    "    at_the_rate=str1.index('@')\n",
    "    print(first_dot,second_dot,at_the_rate)\n",
    "    first_name=str1[:first_dot]\n",
    "    second_name=str1[first_dot+1:at_the_rate]\n",
    "    cname=str1[at_the_rate+1:second_dot]\n",
    "    print(first_name,second_name,cname)\n",
    "extract('a.b@c.com')    "
   ]
  },
  {
   "cell_type": "markdown",
   "id": "e50d9706-290c-4f3e-aa80-de7b6b43d7fd",
   "metadata": {},
   "source": [
    "**split**"
   ]
  },
  {
   "cell_type": "markdown",
   "id": "cf3f197c-6f0c-4eca-ba0e-0b6cec7853e9",
   "metadata": {},
   "source": [
    "- split is used to convert a string to list of elements\n",
    "\n",
    "- by default it will split based on space"
   ]
  },
  {
   "cell_type": "code",
   "execution_count": 4,
   "id": "3127b738-38e0-4ad8-adf3-3a182f0217ca",
   "metadata": {},
   "outputs": [
    {
     "data": {
      "text/plain": [
       "['hai', 'how', 'are', 'you']"
      ]
     },
     "execution_count": 4,
     "metadata": {},
     "output_type": "execute_result"
    }
   ],
   "source": [
    "str1='hai how are you'\n",
    "str1.split()"
   ]
  },
  {
   "cell_type": "code",
   "execution_count": 6,
   "id": "6009897e-0a39-4669-8f6e-d8de5db48816",
   "metadata": {},
   "outputs": [
    {
     "data": {
      "text/plain": [
       "['hai how', 'are you']"
      ]
     },
     "execution_count": 6,
     "metadata": {},
     "output_type": "execute_result"
    }
   ],
   "source": [
    "str1='hai how,are you'\n",
    "str1.split(',')"
   ]
  },
  {
   "cell_type": "code",
   "execution_count": 8,
   "id": "2c200a91-bd60-4981-83da-a388d690bb46",
   "metadata": {},
   "outputs": [
    {
     "data": {
      "text/plain": [
       "['hai', 'how,are', 'you']"
      ]
     },
     "execution_count": 8,
     "metadata": {},
     "output_type": "execute_result"
    }
   ],
   "source": [
    "str1='hai how,are you'\n",
    "str1.split()"
   ]
  },
  {
   "cell_type": "code",
   "execution_count": 9,
   "id": "92e2ab64-77fe-4750-bf8e-9db5a21d11da",
   "metadata": {},
   "outputs": [
    {
     "data": {
      "text/plain": [
       "['hell', ' hai h', 'w are y', 'u']"
      ]
     },
     "execution_count": 9,
     "metadata": {},
     "output_type": "execute_result"
    }
   ],
   "source": [
    "str1='hello hai how are you'\n",
    "str1.split('o')\n",
    "# 'hell','hai h','w are y','u'"
   ]
  },
  {
   "cell_type": "markdown",
   "id": "f231fb67-2aed-4767-93e7-fd4698337884",
   "metadata": {},
   "source": [
    "**join**"
   ]
  },
  {
   "cell_type": "code",
   "execution_count": 11,
   "id": "910d2b29-5631-450f-834b-63bc87d149a4",
   "metadata": {},
   "outputs": [
    {
     "data": {
      "text/plain": [
       "'hai how are you'"
      ]
     },
     "execution_count": 11,
     "metadata": {},
     "output_type": "execute_result"
    }
   ],
   "source": [
    "str1='hai how are you'\n",
    "l=str1.split()\n",
    "l\n",
    "' '.join(l)"
   ]
  },
  {
   "cell_type": "code",
   "execution_count": 13,
   "id": "f8e0c104-5d5a-4593-b000-4a15b0c67d62",
   "metadata": {},
   "outputs": [
    {
     "data": {
      "text/plain": [
       "'hai how,are you'"
      ]
     },
     "execution_count": 13,
     "metadata": {},
     "output_type": "execute_result"
    }
   ],
   "source": [
    "str1='hai how,are you'\n",
    "l=str1.split(',')\n",
    "l\n",
    "','.join(l)"
   ]
  },
  {
   "cell_type": "code",
   "execution_count": 14,
   "id": "97ad13bf-c182-4b8e-a642-9dc3abaebf7d",
   "metadata": {},
   "outputs": [
    {
     "data": {
      "text/plain": [
       "'hello hai how are you'"
      ]
     },
     "execution_count": 14,
     "metadata": {},
     "output_type": "execute_result"
    }
   ],
   "source": [
    "str1='hello hai how are you'\n",
    "l=str1.split('o')\n",
    "l\n",
    "'o'.join(l)"
   ]
  },
  {
   "cell_type": "code",
   "execution_count": 1,
   "id": "952fef00-b007-4536-ae7d-ffa3bf93c2f2",
   "metadata": {},
   "outputs": [
    {
     "data": {
      "text/plain": [
       "['__add__',\n",
       " '__class__',\n",
       " '__contains__',\n",
       " '__delattr__',\n",
       " '__dir__',\n",
       " '__doc__',\n",
       " '__eq__',\n",
       " '__format__',\n",
       " '__ge__',\n",
       " '__getattribute__',\n",
       " '__getitem__',\n",
       " '__getnewargs__',\n",
       " '__getstate__',\n",
       " '__gt__',\n",
       " '__hash__',\n",
       " '__init__',\n",
       " '__init_subclass__',\n",
       " '__iter__',\n",
       " '__le__',\n",
       " '__len__',\n",
       " '__lt__',\n",
       " '__mod__',\n",
       " '__mul__',\n",
       " '__ne__',\n",
       " '__new__',\n",
       " '__reduce__',\n",
       " '__reduce_ex__',\n",
       " '__repr__',\n",
       " '__rmod__',\n",
       " '__rmul__',\n",
       " '__setattr__',\n",
       " '__sizeof__',\n",
       " '__str__',\n",
       " '__subclasshook__',\n",
       " 'capitalize',\n",
       " 'casefold',\n",
       " 'center',\n",
       " 'count',\n",
       " 'encode',\n",
       " 'endswith',\n",
       " 'expandtabs',\n",
       " 'find',\n",
       " 'format',\n",
       " 'format_map',\n",
       " 'index',\n",
       " 'isalnum',\n",
       " 'isalpha',\n",
       " 'isascii',\n",
       " 'isdecimal',\n",
       " 'isdigit',\n",
       " 'isidentifier',\n",
       " 'islower',\n",
       " 'isnumeric',\n",
       " 'isprintable',\n",
       " 'isspace',\n",
       " 'istitle',\n",
       " 'isupper',\n",
       " 'join',\n",
       " 'ljust',\n",
       " 'lower',\n",
       " 'lstrip',\n",
       " 'maketrans',\n",
       " 'partition',\n",
       " 'removeprefix',\n",
       " 'removesuffix',\n",
       " 'replace',\n",
       " 'rfind',\n",
       " 'rindex',\n",
       " 'rjust',\n",
       " 'rpartition',\n",
       " 'rsplit',\n",
       " 'rstrip',\n",
       " 'split',\n",
       " 'splitlines',\n",
       " 'startswith',\n",
       " 'strip',\n",
       " 'swapcase',\n",
       " 'title',\n",
       " 'translate',\n",
       " 'upper',\n",
       " 'zfill']"
      ]
     },
     "execution_count": 1,
     "metadata": {},
     "output_type": "execute_result"
    }
   ],
   "source": [
    "dir('')"
   ]
  },
  {
   "cell_type": "code",
   "execution_count": null,
   "id": "95cd5a2c-e41e-4a05-b957-5c3a7f111779",
   "metadata": {},
   "outputs": [],
   "source": [
    " 'isalnum'\n",
    " 'isalpha'\n",
    " 'isascii'\n",
    " 'isdecimal'\n",
    " 'isdigit'\n",
    " 'isidentifier'\n",
    " 'islower'\n",
    " 'isnumeric'\n",
    " 'isprintable'\n",
    " 'isspace'\n",
    " 'istitle'\n",
    " 'isupper'"
   ]
  },
  {
   "cell_type": "code",
   "execution_count": 1,
   "id": "3de2a1ce-6d21-48c4-a811-ef71ed971364",
   "metadata": {},
   "outputs": [
    {
     "data": {
      "text/plain": [
       "True"
      ]
     },
     "execution_count": 1,
     "metadata": {},
     "output_type": "execute_result"
    }
   ],
   "source": [
    "str1='naresh'\n",
    "str1.isalnum()"
   ]
  },
  {
   "cell_type": "code",
   "execution_count": 2,
   "id": "71f3378a-3877-431e-a616-9b20dcd1e74a",
   "metadata": {},
   "outputs": [
    {
     "data": {
      "text/plain": [
       "True"
      ]
     },
     "execution_count": 2,
     "metadata": {},
     "output_type": "execute_result"
    }
   ],
   "source": [
    "str1='naresh'\n",
    "str1.isalpha()"
   ]
  },
  {
   "cell_type": "code",
   "execution_count": 3,
   "id": "bbcf0255-ec7c-4f14-bb26-8d827617745a",
   "metadata": {},
   "outputs": [
    {
     "data": {
      "text/plain": [
       "True"
      ]
     },
     "execution_count": 3,
     "metadata": {},
     "output_type": "execute_result"
    }
   ],
   "source": [
    "str1='naresh'\n",
    "str1.isascii()"
   ]
  },
  {
   "cell_type": "code",
   "execution_count": 4,
   "id": "02958280-0aba-4846-81ce-5936c87933f0",
   "metadata": {},
   "outputs": [
    {
     "data": {
      "text/plain": [
       "False"
      ]
     },
     "execution_count": 4,
     "metadata": {},
     "output_type": "execute_result"
    }
   ],
   "source": [
    "str1='naresh'\n",
    "str1.isdecimal()"
   ]
  },
  {
   "cell_type": "code",
   "execution_count": 5,
   "id": "5a6e09e2-1426-4615-9286-38a3535ca21c",
   "metadata": {},
   "outputs": [
    {
     "data": {
      "text/plain": [
       "False"
      ]
     },
     "execution_count": 5,
     "metadata": {},
     "output_type": "execute_result"
    }
   ],
   "source": [
    "str1='naresh'\n",
    "str1.isdigit()"
   ]
  },
  {
   "cell_type": "code",
   "execution_count": 6,
   "id": "f626009b-4c5a-40c3-9862-4eedd27eab58",
   "metadata": {},
   "outputs": [
    {
     "data": {
      "text/plain": [
       "True"
      ]
     },
     "execution_count": 6,
     "metadata": {},
     "output_type": "execute_result"
    }
   ],
   "source": [
    "str1='naresh'\n",
    "str1.isidentifier()"
   ]
  },
  {
   "cell_type": "code",
   "execution_count": 7,
   "id": "d94b1688-e4d6-433b-9d70-8c1065e3ebaf",
   "metadata": {},
   "outputs": [
    {
     "data": {
      "text/plain": [
       "True"
      ]
     },
     "execution_count": 7,
     "metadata": {},
     "output_type": "execute_result"
    }
   ],
   "source": [
    "str1='naresh'\n",
    "str1.islower()"
   ]
  },
  {
   "cell_type": "code",
   "execution_count": 8,
   "id": "78038393-53ce-4916-9f33-bd137701ce2f",
   "metadata": {},
   "outputs": [
    {
     "data": {
      "text/plain": [
       "False"
      ]
     },
     "execution_count": 8,
     "metadata": {},
     "output_type": "execute_result"
    }
   ],
   "source": [
    "str1='naresh'\n",
    "str1.isnumeric()"
   ]
  },
  {
   "cell_type": "code",
   "execution_count": 9,
   "id": "4d592404-860f-49f1-a72c-74bd36a895af",
   "metadata": {},
   "outputs": [
    {
     "data": {
      "text/plain": [
       "True"
      ]
     },
     "execution_count": 9,
     "metadata": {},
     "output_type": "execute_result"
    }
   ],
   "source": [
    "str1='naresh'\n",
    "str1.isprintable()"
   ]
  },
  {
   "cell_type": "code",
   "execution_count": 10,
   "id": "048fc796-8495-40cf-9dab-379a7df481a8",
   "metadata": {},
   "outputs": [
    {
     "data": {
      "text/plain": [
       "False"
      ]
     },
     "execution_count": 10,
     "metadata": {},
     "output_type": "execute_result"
    }
   ],
   "source": [
    "str1='naresh'\n",
    "str1.isspace()"
   ]
  },
  {
   "cell_type": "code",
   "execution_count": 11,
   "id": "d02a12b3-a118-46b9-a137-f2e3e9bb0fcc",
   "metadata": {},
   "outputs": [
    {
     "data": {
      "text/plain": [
       "False"
      ]
     },
     "execution_count": 11,
     "metadata": {},
     "output_type": "execute_result"
    }
   ],
   "source": [
    "str1='naresh'\n",
    "str1.istitle()"
   ]
  },
  {
   "cell_type": "code",
   "execution_count": 12,
   "id": "e9d503e8-32e0-47ea-b52d-7cd4d5d3c176",
   "metadata": {},
   "outputs": [
    {
     "data": {
      "text/plain": [
       "False"
      ]
     },
     "execution_count": 12,
     "metadata": {},
     "output_type": "execute_result"
    }
   ],
   "source": [
    "str1='naresh'\n",
    "str1.isupper()"
   ]
  },
  {
   "cell_type": "code",
   "execution_count": 4,
   "id": "f3a0ba0b-15f0-4884-8103-ba7ae753b335",
   "metadata": {},
   "outputs": [
    {
     "name": "stdin",
     "output_type": "stream",
     "text": [
      "Enter a number 1:  38\n",
      "Enter a number 2:  67\n"
     ]
    },
    {
     "name": "stdout",
     "output_type": "stream",
     "text": [
      "38 is lesser than 67\n"
     ]
    }
   ],
   "source": [
    "# how to find a greatest number\n",
    "try:\n",
    "    num1=eval(input(\"Enter a number 1: \"))\n",
    "    num2=eval(input(\"Enter a number 2: \"))\n",
    "    if num1==num2:\n",
    "        print(f\"Both the number {num1} and {num2} are equal\")\n",
    "    elif num1>num2:\n",
    "        print(f\"{num1} is greater than {num2}\")\n",
    "    elif num1<num2:\n",
    "        print(f\"{num1} is lesser than {num2}\")\n",
    "except Exception as e:\n",
    "    print(e)"
   ]
  },
  {
   "cell_type": "code",
   "execution_count": 6,
   "id": "5fd6703c-4ce3-4bf2-abbc-da0285a22412",
   "metadata": {},
   "outputs": [
    {
     "name": "stdout",
     "output_type": "stream",
     "text": [
      "123456\n"
     ]
    }
   ],
   "source": [
    "# 'the telephone number is 123456'\n",
    "# i want 123456\n",
    "# idea: split\n",
    "# when you split ==== list \n",
    "\n",
    "# iterate each letter apply isdigit if it is\n",
    "# true then keep in empty string\n",
    "\n",
    "str1='the telephone number is 123456'\n",
    "num=''\n",
    "for i in str1:\n",
    "    if i.isdigit():\n",
    "        num=num+i\n",
    "print(num)"
   ]
  }
 ],
 "metadata": {
  "kernelspec": {
   "display_name": "Python 3 (ipykernel)",
   "language": "python",
   "name": "python3"
  },
  "language_info": {
   "codemirror_mode": {
    "name": "ipython",
    "version": 3
   },
   "file_extension": ".py",
   "mimetype": "text/x-python",
   "name": "python",
   "nbconvert_exporter": "python",
   "pygments_lexer": "ipython3",
   "version": "3.12.7"
  }
 },
 "nbformat": 4,
 "nbformat_minor": 5
}
