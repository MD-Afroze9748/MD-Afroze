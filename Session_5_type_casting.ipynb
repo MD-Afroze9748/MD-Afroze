{
 "cells": [
  {
   "cell_type": "markdown",
   "id": "ffde8c3f-32c5-4c5c-8f51-16f4a6ea2307",
   "metadata": {},
   "source": [
    "**Type casting**\n",
    "\n",
    "- Convert one data type to another data type\n",
    "\n",
    "- we learned 4 data type \n",
    "\n",
    "    - integer:int\n",
    "\n",
    "    - float:float\n",
    "\n",
    "    - boolean:bool\n",
    "\n",
    "    - string:str"
   ]
  },
  {
   "cell_type": "markdown",
   "id": "ac5c1c83-40f6-4bf8-bef7-91c427a6e951",
   "metadata": {},
   "source": [
    "**int to other data types**"
   ]
  },
  {
   "cell_type": "code",
   "execution_count": 1,
   "id": "dee4ff4d-0282-4020-b3ae-640850935f64",
   "metadata": {},
   "outputs": [
    {
     "data": {
      "text/plain": [
       "int"
      ]
     },
     "execution_count": 1,
     "metadata": {},
     "output_type": "execute_result"
    }
   ],
   "source": [
    "number=100\n",
    "type(number)"
   ]
  },
  {
   "cell_type": "code",
   "execution_count": 2,
   "id": "499950ff-daaa-4bef-af86-0a48e2d9a6ed",
   "metadata": {},
   "outputs": [
    {
     "data": {
      "text/plain": [
       "float"
      ]
     },
     "execution_count": 2,
     "metadata": {},
     "output_type": "execute_result"
    }
   ],
   "source": [
    "float_number=float(number)\n",
    "type(float_number)"
   ]
  },
  {
   "cell_type": "code",
   "execution_count": 3,
   "id": "b6d9bca7-53c5-48fa-97e4-39ace7f895d5",
   "metadata": {},
   "outputs": [
    {
     "data": {
      "text/plain": [
       "bool"
      ]
     },
     "execution_count": 3,
     "metadata": {},
     "output_type": "execute_result"
    }
   ],
   "source": [
    "bool_number=bool(number)\n",
    "type(bool_number)"
   ]
  },
  {
   "cell_type": "code",
   "execution_count": 4,
   "id": "9eb5310c-dac5-424f-8f2d-0c171ff3475c",
   "metadata": {},
   "outputs": [
    {
     "data": {
      "text/plain": [
       "str"
      ]
     },
     "execution_count": 4,
     "metadata": {},
     "output_type": "execute_result"
    }
   ],
   "source": [
    "str_number=str(number)\n",
    "type(str_number)"
   ]
  },
  {
   "cell_type": "code",
   "execution_count": 5,
   "id": "95256c23-e081-4b5f-a4be-05bc6626d803",
   "metadata": {},
   "outputs": [
    {
     "data": {
      "text/plain": [
       "(100.0, True, '100')"
      ]
     },
     "execution_count": 5,
     "metadata": {},
     "output_type": "execute_result"
    }
   ],
   "source": [
    "float(100),bool(100),str(100)"
   ]
  },
  {
   "cell_type": "code",
   "execution_count": 6,
   "id": "f84196fe-e3f8-4696-8eb1-2c39f96b4874",
   "metadata": {},
   "outputs": [
    {
     "name": "stdout",
     "output_type": "stream",
     "text": [
      "100.0\n",
      "True\n",
      "100\n"
     ]
    }
   ],
   "source": [
    "print(float(100))\n",
    "print(bool(100))\n",
    "print(str(100))"
   ]
  },
  {
   "cell_type": "code",
   "execution_count": 7,
   "id": "2fc3b737-b451-4c8a-ae9e-0e7cd897017d",
   "metadata": {},
   "outputs": [
    {
     "name": "stdout",
     "output_type": "stream",
     "text": [
      "-100.0\n",
      "True\n",
      "-100\n"
     ]
    }
   ],
   "source": [
    "print(float(-100))\n",
    "print(bool(-100))\n",
    "print(str(-100))"
   ]
  },
  {
   "cell_type": "markdown",
   "id": "33509077-0db5-448c-ba2c-be8789ec0416",
   "metadata": {},
   "source": [
    "- zero means off\n",
    "\n",
    "- False means off"
   ]
  },
  {
   "cell_type": "code",
   "execution_count": 8,
   "id": "452a4bef-d047-44f3-9e6d-8f07bde43d3d",
   "metadata": {},
   "outputs": [
    {
     "name": "stdout",
     "output_type": "stream",
     "text": [
      "0.0\n",
      "False\n",
      "0\n"
     ]
    }
   ],
   "source": [
    "print(float(0))\n",
    "print(bool(0))\n",
    "print(str(0))"
   ]
  },
  {
   "cell_type": "markdown",
   "id": "2c4efa8e-162e-489b-b28e-0b8e6b153892",
   "metadata": {},
   "source": [
    "**float to other data types**"
   ]
  },
  {
   "cell_type": "code",
   "execution_count": 10,
   "id": "6a9159d0-0ceb-453b-901f-b40f858a3f2b",
   "metadata": {},
   "outputs": [
    {
     "data": {
      "text/plain": [
       "100"
      ]
     },
     "execution_count": 10,
     "metadata": {},
     "output_type": "execute_result"
    }
   ],
   "source": [
    "number=100.5\n",
    "int(number)"
   ]
  },
  {
   "cell_type": "code",
   "execution_count": 11,
   "id": "e777726b-1230-4e92-909c-3452bfbd843c",
   "metadata": {},
   "outputs": [
    {
     "data": {
      "text/plain": [
       "True"
      ]
     },
     "execution_count": 11,
     "metadata": {},
     "output_type": "execute_result"
    }
   ],
   "source": [
    "bool(number)"
   ]
  },
  {
   "cell_type": "code",
   "execution_count": 12,
   "id": "05f40625-9bae-430d-a2ec-b84642422059",
   "metadata": {},
   "outputs": [
    {
     "data": {
      "text/plain": [
       "'100.5'"
      ]
     },
     "execution_count": 12,
     "metadata": {},
     "output_type": "execute_result"
    }
   ],
   "source": [
    "str(number)"
   ]
  },
  {
   "cell_type": "code",
   "execution_count": 13,
   "id": "275bfc8b-8376-4aeb-89a4-ee8e437b81c4",
   "metadata": {},
   "outputs": [
    {
     "name": "stdout",
     "output_type": "stream",
     "text": [
      "100\n",
      "True\n",
      "100.5\n"
     ]
    }
   ],
   "source": [
    "n1=int(100.5)\n",
    "n2=bool(100.5)\n",
    "n3=str(100.5)\n",
    "print(n1)\n",
    "print(n2)\n",
    "print(n3)"
   ]
  },
  {
   "cell_type": "code",
   "execution_count": 14,
   "id": "6bb5eca1-84e0-4001-b8d5-5b2b372f9d9f",
   "metadata": {},
   "outputs": [
    {
     "name": "stdout",
     "output_type": "stream",
     "text": [
      "0\n",
      "False\n",
      "0.0\n"
     ]
    }
   ],
   "source": [
    "n1=int(0.0)\n",
    "n2=bool(0.0)\n",
    "n3=str(0.0)\n",
    "print(n1)\n",
    "print(n2)\n",
    "print(n3)"
   ]
  },
  {
   "cell_type": "code",
   "execution_count": null,
   "id": "8fc581ed-ee79-4d86-8479-ea0d50f1b330",
   "metadata": {},
   "outputs": [],
   "source": [
    "int('apple') # fail\n",
    "float('apple') # fail\n",
    "bool('apple') # works"
   ]
  },
  {
   "cell_type": "code",
   "execution_count": 17,
   "id": "54508277-084e-4091-b861-b97e9a40e65f",
   "metadata": {},
   "outputs": [
    {
     "data": {
      "text/plain": [
       "True"
      ]
     },
     "execution_count": 17,
     "metadata": {},
     "output_type": "execute_result"
    }
   ],
   "source": [
    "bool('apple')"
   ]
  },
  {
   "cell_type": "markdown",
   "id": "d97775e7-13b7-459c-a77a-c6736a899141",
   "metadata": {},
   "source": [
    "- True : ON something is present\n",
    "\n",
    "- False : Off that is not present"
   ]
  },
  {
   "cell_type": "code",
   "execution_count": 18,
   "id": "87f52b0a-289b-47e3-b40e-e56bf8defc65",
   "metadata": {},
   "outputs": [
    {
     "data": {
      "text/plain": [
       "True"
      ]
     },
     "execution_count": 18,
     "metadata": {},
     "output_type": "execute_result"
    }
   ],
   "source": [
    "bool('0')"
   ]
  },
  {
   "cell_type": "code",
   "execution_count": 19,
   "id": "d508ee72-d4a8-4018-8c3f-a40abe1e502f",
   "metadata": {},
   "outputs": [
    {
     "data": {
      "text/plain": [
       "False"
      ]
     },
     "execution_count": 19,
     "metadata": {},
     "output_type": "execute_result"
    }
   ],
   "source": [
    "bool('')"
   ]
  },
  {
   "cell_type": "code",
   "execution_count": 20,
   "id": "7fa4c4f1-dee8-41fe-b818-fefad2357e53",
   "metadata": {},
   "outputs": [
    {
     "data": {
      "text/plain": [
       "5"
      ]
     },
     "execution_count": 20,
     "metadata": {},
     "output_type": "execute_result"
    }
   ],
   "source": [
    "len('apple')"
   ]
  },
  {
   "cell_type": "code",
   "execution_count": 21,
   "id": "86397e99-7025-4fe9-afcf-712fc2356007",
   "metadata": {},
   "outputs": [
    {
     "data": {
      "text/plain": [
       "1"
      ]
     },
     "execution_count": 21,
     "metadata": {},
     "output_type": "execute_result"
    }
   ],
   "source": [
    "len('0')"
   ]
  },
  {
   "cell_type": "code",
   "execution_count": 22,
   "id": "ba50afac-8283-458f-9841-dc3f21122bf1",
   "metadata": {},
   "outputs": [
    {
     "data": {
      "text/plain": [
       "3"
      ]
     },
     "execution_count": 22,
     "metadata": {},
     "output_type": "execute_result"
    }
   ],
   "source": [
    "len('   ')"
   ]
  },
  {
   "cell_type": "markdown",
   "id": "89aa2030-16cc-44fb-86ca-abaf71d65411",
   "metadata": {},
   "source": [
    "- for number 0 and 0.0 boolean conversion gives **False**\n",
    "\n",
    "- for strings empty boolean conversion gives **False**"
   ]
  },
  {
   "cell_type": "code",
   "execution_count": 23,
   "id": "055e86c3-6f67-4f0e-a993-463b24c1a79b",
   "metadata": {},
   "outputs": [
    {
     "data": {
      "text/plain": [
       "10"
      ]
     },
     "execution_count": 23,
     "metadata": {},
     "output_type": "execute_result"
    }
   ],
   "source": [
    "float('10') # works 10.0\n",
    "bool('10')  # works True\n",
    "int('10')   # works 10"
   ]
  },
  {
   "cell_type": "markdown",
   "id": "c80e3f0f-d777-47dd-854c-0224a72f9b12",
   "metadata": {},
   "source": [
    "**object not callable**\n",
    "\n",
    "- python magic\n",
    "\n",
    "- either you need open new notebook \n",
    "\n",
    "- or go to kernel and restart "
   ]
  },
  {
   "cell_type": "code",
   "execution_count": 24,
   "id": "e8b08ab6-1361-42fc-90a7-60c16f883526",
   "metadata": {},
   "outputs": [
    {
     "data": {
      "text/plain": [
       "(10.0, True, 10)"
      ]
     },
     "execution_count": 24,
     "metadata": {},
     "output_type": "execute_result"
    }
   ],
   "source": [
    "float('10'),bool('10'),int('10')"
   ]
  },
  {
   "cell_type": "code",
   "execution_count": null,
   "id": "05206ec7-3003-4194-8c94-d329c35fd3f3",
   "metadata": {},
   "outputs": [],
   "source": [
    "float('10.5')  # W  10.5\n",
    "bool('10.5')   # W  True\n",
    "int('10.5')    # F"
   ]
  },
  {
   "cell_type": "markdown",
   "id": "680d3c36-8b6a-4033-ada7-4298bc2f4326",
   "metadata": {},
   "source": [
    "**float is the boss**"
   ]
  },
  {
   "cell_type": "code",
   "execution_count": null,
   "id": "973bd63f-6857-4cd9-a1e1-c26494e7f40c",
   "metadata": {},
   "outputs": [],
   "source": [
    "float('10') # W\n",
    "float('10.5') # W\n",
    "\n",
    "int('10') # W\n",
    "int('10.5') # F"
   ]
  },
  {
   "cell_type": "markdown",
   "id": "096c7375-6a09-4a60-a98f-2eb7a5d586c4",
   "metadata": {},
   "source": [
    "**boolean other data types**"
   ]
  },
  {
   "cell_type": "code",
   "execution_count": 25,
   "id": "fa6d6589-2878-4aa3-965f-6d4d8766d308",
   "metadata": {},
   "outputs": [
    {
     "name": "stdout",
     "output_type": "stream",
     "text": [
      "1\n",
      "1.0\n",
      "True\n",
      "0\n",
      "0.0\n",
      "False\n"
     ]
    }
   ],
   "source": [
    "print(int(True))    # W  1\n",
    "print(float(True))  # W  1.0\n",
    "print(str(True))    # W  'True'\n",
    "print(int(False))   # W  0\n",
    "print(float(False)) # W  0.0\n",
    "print(str(False))   # W  'False'"
   ]
  },
  {
   "cell_type": "code",
   "execution_count": null,
   "id": "54b4d280-caad-43d2-80ba-a7b38a36431b",
   "metadata": {},
   "outputs": [],
   "source": [
    "float(10)      # W  10.0\n",
    "str(10)        # W '10'\n",
    "bool(10)       # W  True\n",
    "int(10.5)      # W  10\n",
    "str(10.5)      # W '10.5'\n",
    "bool(10.5)     # W  True\n",
    "int('apple')   #  Fail\n",
    "float('apple') #  Fail\n",
    "bool('apple')  # W  True\n",
    "int('10')      # W  10\n",
    "float('10')    # W  10.0\n",
    "bool('10')     # W  True  \n",
    "int('10.5')    #  Fail\n",
    "float('10.5')  # W  10.5\n",
    "bool('10.5')   # W   True\n",
    "int(True)      # W   1\n",
    "int(False)     # W  0\n",
    "float(True)    # W  1.0\n",
    "float(False)   # W  0.0\n",
    "str(True)      # W 'True'\n",
    "str(False)     # False\n",
    "bool(0)        # False\n",
    "bool(0.0)      # False\n",
    "bool('')       # False"
   ]
  }
 ],
 "metadata": {
  "kernelspec": {
   "display_name": "Python 3 (ipykernel)",
   "language": "python",
   "name": "python3"
  },
  "language_info": {
   "codemirror_mode": {
    "name": "ipython",
    "version": 3
   },
   "file_extension": ".py",
   "mimetype": "text/x-python",
   "name": "python",
   "nbconvert_exporter": "python",
   "pygments_lexer": "ipython3",
   "version": "3.12.7"
  }
 },
 "nbformat": 4,
 "nbformat_minor": 5
}
