{
 "cells": [
  {
   "cell_type": "markdown",
   "id": "9bf641a5-0be8-4139-bfe9-89daa0609ad4",
   "metadata": {},
   "source": [
    "- variables\n",
    "\n",
    "- eval input\n",
    "\n",
    "- basic python questions\n",
    "\n",
    "- packages\n",
    "\n",
    "- if-else\n",
    "\n",
    "- try-except"
   ]
  },
  {
   "cell_type": "markdown",
   "id": "b03bbc58-86be-46a0-9bc3-71e389f85466",
   "metadata": {},
   "source": [
    "**try-except**\n",
    "\n",
    "- try and except is a concept of exception handling\n",
    "\n",
    "- there are two blocks\n",
    "\n",
    "    - 1.try block\n",
    "\n",
    "    - 2.except block\n",
    "\n",
    "- original code will run under try block\n",
    "\n",
    "- if any error occurs in try block, the error will catch by except block\n",
    "\n",
    "- usecase-1: The code should catch the errors automatically\n",
    "\n",
    "- usecase-2: The code should continue even though we got the error"
   ]
  },
  {
   "cell_type": "code",
   "execution_count": 1,
   "id": "362980dc-386d-4631-846c-d1af44ff8c3d",
   "metadata": {},
   "outputs": [
    {
     "ename": "ZeroDivisionError",
     "evalue": "division by zero",
     "output_type": "error",
     "traceback": [
      "\u001b[1;31m---------------------------------------------------------------------------\u001b[0m",
      "\u001b[1;31mZeroDivisionError\u001b[0m                         Traceback (most recent call last)",
      "Cell \u001b[1;32mIn[1], line 3\u001b[0m\n\u001b[0;32m      1\u001b[0m a\u001b[38;5;241m=\u001b[39m\u001b[38;5;241m10\u001b[39m\n\u001b[0;32m      2\u001b[0m b\u001b[38;5;241m=\u001b[39m\u001b[38;5;241m0\u001b[39m\n\u001b[1;32m----> 3\u001b[0m c\u001b[38;5;241m=\u001b[39m\u001b[43ma\u001b[49m\u001b[38;5;241;43m/\u001b[39;49m\u001b[43mb\u001b[49m\n\u001b[0;32m      4\u001b[0m                \u001b[38;5;66;03m# this is not a important line\u001b[39;00m\n\u001b[0;32m      5\u001b[0m                \u001b[38;5;66;03m# even though we are getting error nothing will happend\u001b[39;00m\n\u001b[0;32m      6\u001b[0m                \u001b[38;5;66;03m# my python code should not stop here\u001b[39;00m\n\u001b[0;32m      7\u001b[0m                \u001b[38;5;66;03m# I want to create a log in that i want catch\u001b[39;00m\n\u001b[0;32m      8\u001b[0m \u001b[38;5;28mprint\u001b[39m(\u001b[38;5;124m'\u001b[39m\u001b[38;5;124mhello\u001b[39m\u001b[38;5;124m'\u001b[39m)\n",
      "\u001b[1;31mZeroDivisionError\u001b[0m: division by zero"
     ]
    }
   ],
   "source": [
    "a=10\n",
    "b=0\n",
    "c=a/b\n",
    "               # this is not a important line\n",
    "               # even though we are getting error nothing will happend\n",
    "               # my python code should not stop here\n",
    "               # I want to create a log in that i want catch\n",
    "print('hello')"
   ]
  },
  {
   "cell_type": "code",
   "execution_count": 2,
   "id": "b4c326f6-448a-4477-a723-34afc3d6bd13",
   "metadata": {},
   "outputs": [
    {
     "name": "stdout",
     "output_type": "stream",
     "text": [
      "error coming in try block\n",
      "zero division error\n"
     ]
    }
   ],
   "source": [
    "try:\n",
    "    a=10\n",
    "    b=0\n",
    "    c=a/b  # we will get error\n",
    "except:\n",
    "    print('error coming in try block')\n",
    "    print('zero division error')"
   ]
  },
  {
   "cell_type": "code",
   "execution_count": 3,
   "id": "3e04ef38-f11b-403a-8164-b3218ae06414",
   "metadata": {},
   "outputs": [
    {
     "name": "stdout",
     "output_type": "stream",
     "text": [
      "1.0\n"
     ]
    }
   ],
   "source": [
    "try:\n",
    "    a=10\n",
    "    b=10\n",
    "    c=a/b  # we will get error\n",
    "    print(c)\n",
    "except:\n",
    "    print('error coming in try block')\n",
    "    print('zero division error')"
   ]
  },
  {
   "cell_type": "markdown",
   "id": "f71da533-389c-49ac-8035-bc6eec9660ae",
   "metadata": {},
   "source": [
    "**Note:**\n",
    "\n",
    "- Except block will run when we got the error in try block\n",
    "\n",
    "- if code is correct only try block executed"
   ]
  },
  {
   "cell_type": "markdown",
   "id": "f2daee3e-ddfe-463b-8103-ee0893208c3d",
   "metadata": {},
   "source": [
    "- syntax error\n",
    "\n",
    "- attribute error\n",
    "\n",
    "- name error\n",
    "\n",
    "- type error\n",
    "\n",
    "- indentation error\n",
    "\n",
    "- module not found error\n",
    "\n",
    "- zero division error\n",
    "\n",
    "- object not callable error"
   ]
  },
  {
   "cell_type": "code",
   "execution_count": 1,
   "id": "678145a6-dcc2-40e4-90c2-a2f1bebaf080",
   "metadata": {},
   "outputs": [
    {
     "ename": "SyntaxError",
     "evalue": "incomplete input (1116166254.py, line 4)",
     "output_type": "error",
     "traceback": [
      "\u001b[1;36m  Cell \u001b[1;32mIn[1], line 4\u001b[1;36m\u001b[0m\n\u001b[1;33m    print(c\u001b[0m\n\u001b[1;37m           ^\u001b[0m\n\u001b[1;31mSyntaxError\u001b[0m\u001b[1;31m:\u001b[0m incomplete input\n"
     ]
    }
   ],
   "source": [
    "a=10\n",
    "b=20\n",
    "c=a+b\n",
    "print(c"
   ]
  },
  {
   "cell_type": "markdown",
   "id": "32bde8a8-744d-45c4-a62c-e2ab1e6bd46e",
   "metadata": {},
   "source": [
    "- syntax error will not catch\n",
    "\n",
    "- minimum expectation every one should write a code without syntax error "
   ]
  },
  {
   "cell_type": "code",
   "execution_count": 2,
   "id": "773d5ba0-b680-447a-8c9f-c17276379214",
   "metadata": {},
   "outputs": [
    {
     "ename": "ModuleNotFoundError",
     "evalue": "No module named 'nareshit'",
     "output_type": "error",
     "traceback": [
      "\u001b[1;31m---------------------------------------------------------------------------\u001b[0m",
      "\u001b[1;31mModuleNotFoundError\u001b[0m                       Traceback (most recent call last)",
      "Cell \u001b[1;32mIn[2], line 1\u001b[0m\n\u001b[1;32m----> 1\u001b[0m \u001b[38;5;28;01mimport\u001b[39;00m \u001b[38;5;21;01mnareshit\u001b[39;00m\n",
      "\u001b[1;31mModuleNotFoundError\u001b[0m: No module named 'nareshit'"
     ]
    }
   ],
   "source": [
    "import nareshit"
   ]
  },
  {
   "cell_type": "code",
   "execution_count": 3,
   "id": "1d03dcec-4c27-42a6-b08a-076bad0787a6",
   "metadata": {},
   "outputs": [
    {
     "ename": "AttributeError",
     "evalue": "module 'random' has no attribute 'pushpa'",
     "output_type": "error",
     "traceback": [
      "\u001b[1;31m---------------------------------------------------------------------------\u001b[0m",
      "\u001b[1;31mAttributeError\u001b[0m                            Traceback (most recent call last)",
      "Cell \u001b[1;32mIn[3], line 2\u001b[0m\n\u001b[0;32m      1\u001b[0m \u001b[38;5;28;01mimport\u001b[39;00m \u001b[38;5;21;01mrandom\u001b[39;00m\n\u001b[1;32m----> 2\u001b[0m \u001b[43mrandom\u001b[49m\u001b[38;5;241;43m.\u001b[39;49m\u001b[43mpushpa\u001b[49m\n",
      "\u001b[1;31mAttributeError\u001b[0m: module 'random' has no attribute 'pushpa'"
     ]
    }
   ],
   "source": [
    "import random\n",
    "random.pushpa"
   ]
  },
  {
   "cell_type": "code",
   "execution_count": 4,
   "id": "2f90cd36-d5ee-4d1a-bf50-b888a1a600dc",
   "metadata": {},
   "outputs": [
    {
     "ename": "NameError",
     "evalue": "name 'num1' is not defined",
     "output_type": "error",
     "traceback": [
      "\u001b[1;31m---------------------------------------------------------------------------\u001b[0m",
      "\u001b[1;31mNameError\u001b[0m                                 Traceback (most recent call last)",
      "Cell \u001b[1;32mIn[4], line 1\u001b[0m\n\u001b[1;32m----> 1\u001b[0m c\u001b[38;5;241m=\u001b[39m\u001b[43mnum1\u001b[49m\u001b[38;5;241m+\u001b[39mnum2\n",
      "\u001b[1;31mNameError\u001b[0m: name 'num1' is not defined"
     ]
    }
   ],
   "source": [
    "c=num1+num2"
   ]
  },
  {
   "cell_type": "code",
   "execution_count": 5,
   "id": "432321af-d887-4f3e-985e-5006a84d33c8",
   "metadata": {},
   "outputs": [
    {
     "ename": "TypeError",
     "evalue": "can't multiply sequence by non-int of type 'str'",
     "output_type": "error",
     "traceback": [
      "\u001b[1;31m---------------------------------------------------------------------------\u001b[0m",
      "\u001b[1;31mTypeError\u001b[0m                                 Traceback (most recent call last)",
      "Cell \u001b[1;32mIn[5], line 1\u001b[0m\n\u001b[1;32m----> 1\u001b[0m \u001b[38;5;124;43m'\u001b[39;49m\u001b[38;5;124;43m10\u001b[39;49m\u001b[38;5;124;43m'\u001b[39;49m\u001b[38;5;241;43m*\u001b[39;49m\u001b[38;5;124;43m'\u001b[39;49m\u001b[38;5;124;43m10\u001b[39;49m\u001b[38;5;124;43m'\u001b[39;49m\n",
      "\u001b[1;31mTypeError\u001b[0m: can't multiply sequence by non-int of type 'str'"
     ]
    }
   ],
   "source": [
    "'10'*'10'"
   ]
  },
  {
   "cell_type": "code",
   "execution_count": 6,
   "id": "63103fa3-8ad1-4d2e-9cd6-e165a56a3062",
   "metadata": {},
   "outputs": [
    {
     "ename": "IndentationError",
     "evalue": "expected an indented block after 'if' statement on line 1 (147298954.py, line 2)",
     "output_type": "error",
     "traceback": [
      "\u001b[1;36m  Cell \u001b[1;32mIn[6], line 2\u001b[1;36m\u001b[0m\n\u001b[1;33m    a=10\u001b[0m\n\u001b[1;37m    ^\u001b[0m\n\u001b[1;31mIndentationError\u001b[0m\u001b[1;31m:\u001b[0m expected an indented block after 'if' statement on line 1\n"
     ]
    }
   ],
   "source": [
    "if True:\n",
    "a=10    "
   ]
  },
  {
   "cell_type": "code",
   "execution_count": 7,
   "id": "c3661677-7789-455b-9889-42082158bf82",
   "metadata": {},
   "outputs": [
    {
     "ename": "TypeError",
     "evalue": "'module' object is not callable. Did you mean: 'random.random(...)'?",
     "output_type": "error",
     "traceback": [
      "\u001b[1;31m---------------------------------------------------------------------------\u001b[0m",
      "\u001b[1;31mTypeError\u001b[0m                                 Traceback (most recent call last)",
      "Cell \u001b[1;32mIn[7], line 1\u001b[0m\n\u001b[1;32m----> 1\u001b[0m \u001b[43mrandom\u001b[49m\u001b[43m(\u001b[49m\u001b[43m)\u001b[49m\n",
      "\u001b[1;31mTypeError\u001b[0m: 'module' object is not callable. Did you mean: 'random.random(...)'?"
     ]
    }
   ],
   "source": [
    "random()"
   ]
  },
  {
   "cell_type": "code",
   "execution_count": 8,
   "id": "ae4d42a9-1477-49d0-8d5e-398ff12f9290",
   "metadata": {},
   "outputs": [
    {
     "name": "stdin",
     "output_type": "stream",
     "text": [
      "enter n1: 100\n",
      "enter n2: 10\n"
     ]
    },
    {
     "name": "stdout",
     "output_type": "stream",
     "text": [
      "the div is: 10.0\n"
     ]
    }
   ],
   "source": [
    "n1=eval(input('enter n1:'))\n",
    "n2=eval(input('enter n2:'))\n",
    "div=n1/n2\n",
    "print('the div is:',div)"
   ]
  },
  {
   "cell_type": "code",
   "execution_count": 10,
   "id": "2468d3c7-f2e9-4162-be9d-e23bc72518bb",
   "metadata": {},
   "outputs": [
    {
     "name": "stdin",
     "output_type": "stream",
     "text": [
      "enter n1: hello\n"
     ]
    },
    {
     "name": "stdout",
     "output_type": "stream",
     "text": [
      "name 'hello' is not defined\n"
     ]
    }
   ],
   "source": [
    "try:\n",
    "    n1=eval(input('enter n1:'))\n",
    "    n2=eval(input('enter n2:'))\n",
    "    div=n1/n2\n",
    "    print('the div is:',div)\n",
    "except Exception as e:\n",
    "    print(e)"
   ]
  },
  {
   "cell_type": "code",
   "execution_count": 11,
   "id": "80ee8f1e-1d77-40de-bcec-2c3d76798fd0",
   "metadata": {},
   "outputs": [
    {
     "name": "stdout",
     "output_type": "stream",
     "text": [
      "No module named 'nareshit'\n"
     ]
    }
   ],
   "source": [
    "try:\n",
    "    import nareshit\n",
    "except Exception as e:\n",
    "    print(e)"
   ]
  },
  {
   "cell_type": "code",
   "execution_count": 12,
   "id": "642ade34-7527-4140-84cf-6ebeda0b3c40",
   "metadata": {},
   "outputs": [
    {
     "name": "stdout",
     "output_type": "stream",
     "text": [
      "module 'random' has no attribute 'pushpa'\n"
     ]
    }
   ],
   "source": [
    "try:\n",
    "    import random\n",
    "    random.pushpa\n",
    "except Exception as e:\n",
    "    print(e)"
   ]
  },
  {
   "cell_type": "code",
   "execution_count": 13,
   "id": "10f66b63-35d8-4261-bbb4-25970366ca90",
   "metadata": {},
   "outputs": [
    {
     "name": "stdin",
     "output_type": "stream",
     "text": [
      "enter n1: hello\n"
     ]
    },
    {
     "ename": "NameError",
     "evalue": "name 'hello' is not defined",
     "output_type": "error",
     "traceback": [
      "\u001b[1;31m---------------------------------------------------------------------------\u001b[0m",
      "\u001b[1;31mNameError\u001b[0m                                 Traceback (most recent call last)",
      "Cell \u001b[1;32mIn[13], line 1\u001b[0m\n\u001b[1;32m----> 1\u001b[0m \u001b[38;5;28;43meval\u001b[39;49m\u001b[43m(\u001b[49m\u001b[38;5;28;43minput\u001b[39;49m\u001b[43m(\u001b[49m\u001b[38;5;124;43m'\u001b[39;49m\u001b[38;5;124;43menter n1:\u001b[39;49m\u001b[38;5;124;43m'\u001b[39;49m\u001b[43m)\u001b[49m\u001b[43m)\u001b[49m\n",
      "File \u001b[1;32m<string>:1\u001b[0m\n",
      "\u001b[1;31mNameError\u001b[0m: name 'hello' is not defined"
     ]
    }
   ],
   "source": [
    "eval(input('enter n1:'))"
   ]
  },
  {
   "cell_type": "code",
   "execution_count": 14,
   "id": "b723f3a2-66cd-4fac-8a5e-36d465000cc8",
   "metadata": {},
   "outputs": [
    {
     "name": "stdout",
     "output_type": "stream",
     "text": [
      "unsupported operand type(s) for /: 'int' and 'str'\n"
     ]
    }
   ],
   "source": [
    "try:\n",
    "    a=1\n",
    "    b='a'\n",
    "    c=a/b\n",
    "except Exception as e:\n",
    "    print(e)"
   ]
  },
  {
   "cell_type": "markdown",
   "id": "c1cffe63-f256-48a6-a83c-3af5558dc7b2",
   "metadata": {},
   "source": [
    "- step-1: are you able to write the code without silly mistakes\n",
    "\n",
    "- step-2: are you able to understand the logic\n",
    "\n",
    "- step-3: are you able to implement the logic"
   ]
  },
  {
   "cell_type": "code",
   "execution_count": 15,
   "id": "77a3f54f-aaf8-47cd-94ac-aeaec415dff4",
   "metadata": {},
   "outputs": [
    {
     "name": "stdin",
     "output_type": "stream",
     "text": [
      "enter the number: 20\n"
     ]
    },
    {
     "name": "stdout",
     "output_type": "stream",
     "text": [
      "20 is an even\n"
     ]
    }
   ],
   "source": [
    "n1=eval(input('enter the number:'))\n",
    "if n1%2==0:\n",
    "    print(f'{n1} is an even')\n",
    "else:\n",
    "    print(f'{n1} is an odd')"
   ]
  },
  {
   "cell_type": "code",
   "execution_count": 18,
   "id": "48c67445-0851-45d6-b7ff-7ba0810915f3",
   "metadata": {},
   "outputs": [
    {
     "name": "stdin",
     "output_type": "stream",
     "text": [
      "enter the number: 45\n"
     ]
    },
    {
     "name": "stdout",
     "output_type": "stream",
     "text": [
      "name 'n21' is not defined\n",
      "a+b: 30\n"
     ]
    }
   ],
   "source": [
    "try:\n",
    "    n1=eval(input('enter the number:'))\n",
    "    if n1%2==0:\n",
    "        print(f'{n21} is an even')\n",
    "    else:\n",
    "        print(f'{n21} is an odd')\n",
    "except Exception as e:\n",
    "    print(e)\n",
    "    a=10\n",
    "    b=20\n",
    "    print('a+b:',a+b)"
   ]
  },
  {
   "cell_type": "code",
   "execution_count": 19,
   "id": "62a7b5ca-ccd2-47f3-890e-9dfca131877e",
   "metadata": {},
   "outputs": [
    {
     "name": "stdin",
     "output_type": "stream",
     "text": [
      "enter the number: 20\n"
     ]
    },
    {
     "name": "stdout",
     "output_type": "stream",
     "text": [
      "20 is even number\n"
     ]
    }
   ],
   "source": [
    "try:\n",
    "    n1=eval(input('enter the number:'))\n",
    "    if n1%2==0:\n",
    "        print(f'{n1} is even number')\n",
    "    else:\n",
    "        print(f'{n1} is odd number')\n",
    "except Exception as e:\n",
    "    print(e)"
   ]
  },
  {
   "cell_type": "code",
   "execution_count": null,
   "id": "f4a9b561-e7dc-482e-8df8-1dbd592e797b",
   "metadata": {},
   "outputs": [],
   "source": [
    "basic qns : 7-8 practice\n",
    "if-else : 7-8 practice\n",
    "\n",
    "every code should write with try-except"
   ]
  },
  {
   "cell_type": "code",
   "execution_count": null,
   "id": "a239495c-432a-4a37-bf34-a86bd07580e1",
   "metadata": {},
   "outputs": [],
   "source": [
    "# 1)wap ask the user enter 3 numbers n1,n2,n3 from keyboard\n",
    "# calculate average\n",
    "\n",
    "# 2)wap ask the user enter name age city\n",
    "# print my name is python im 10 years old and came from hyd\n",
    "\n",
    "# 3)wap ask the user to enter radius of a circle calculate area of the circle\n",
    "# var: radius   var: pi=3.14\n",
    "# formula: pi*radius*radius\n",
    "# print the answers using f string and format\n",
    "\n",
    "# 4)wap ask the user enter breadth and height of a right angle triangle\n",
    "# calculate the area\n",
    "# var1: breadth   var2: height\n",
    "# formula: 0.5*breadth*height\n",
    "\n",
    "# 5)wap ask the user enter the bill amount and tip amount\n",
    "# calculate total bill\n",
    "# var1: bill amount   var2: tip amount\n",
    "# formula\n",
    "\n",
    "# 6)wap ask the user enter the bill amount and tip percentage\n",
    "# take tip percentage as 10\n",
    "# calculate total bill= bill amount+bill amount*tip per/100\n",
    "# var1: bill amount   var2: tip amount\n",
    "# formula\n",
    "\n",
    "# 7)wap ask the user enter the length and breadth of a rectangle calculate area\n",
    "# var1: length   var2: breadth\n",
    "# formula: length*breadth\n",
    "\n",
    "# 8)wap ask the user take the radius and calculate volume of sphere\n",
    "# formula: pi*r**3(pi*r*r*r)\n",
    "\n",
    "# 9)wap ask the user enter amount in dollars convert into rupees\n",
    "# 1$=85rs\n",
    "\n",
    "# 10)wap ask the user enter weight in kgs convert into pounds\n",
    "# 1kg=2.2pounds"
   ]
  },
  {
   "cell_type": "code",
   "execution_count": 1,
   "id": "441d29db-29ad-40b5-b28b-29c3e50dc9b8",
   "metadata": {},
   "outputs": [
    {
     "name": "stdin",
     "output_type": "stream",
     "text": [
      "Enter the first number:  25\n",
      "Enter the second number:  15\n",
      "Enter the third number:  10\n"
     ]
    },
    {
     "name": "stdout",
     "output_type": "stream",
     "text": [
      "The Average of 25,15 and 10 is: 16.67\n"
     ]
    }
   ],
   "source": [
    "# 1)wap ask the user enter 3 numbers n1,n2,n3 from keyboard\n",
    "# calculate average\n",
    "\n",
    "try:\n",
    "    n1=eval(input(\"Enter the first number: \"))\n",
    "    n2=eval(input(\"Enter the second number: \"))\n",
    "    n3=eval(input(\"Enter the third number: \"))\n",
    "    avg=(n1+n2+n3)/3\n",
    "    avg1=round(avg,2)\n",
    "    print(f\"The Average of {n1},{n2} and {n3} is: {avg1}\")\n",
    "except Exception as e:\n",
    "    print(e)"
   ]
  },
  {
   "cell_type": "code",
   "execution_count": 3,
   "id": "1178984a-dd26-44f2-ac65-da96f3d3e4da",
   "metadata": {},
   "outputs": [
    {
     "name": "stdin",
     "output_type": "stream",
     "text": [
      "Enter your name:  MD Afroze\n",
      "Enter your age:  20\n",
      "Enter your city:  Hyderabad\n"
     ]
    },
    {
     "name": "stdout",
     "output_type": "stream",
     "text": [
      "my name is MD Afroze i am 20 years old and came from Hyderabad\n"
     ]
    }
   ],
   "source": [
    "# 2)wap ask the user enter name age city\n",
    "# print my name is python im 10 years old and came from hyd\n",
    "\n",
    "try:\n",
    "    name=input(\"Enter your name: \")\n",
    "    age=eval(input(\"Enter your age: \"))\n",
    "    city=input(\"Enter your city: \")\n",
    "    print(f\"my name is {name} i am {age} years old and came from {city}\")\n",
    "except Exception as e:\n",
    "    print(e)"
   ]
  },
  {
   "cell_type": "code",
   "execution_count": 4,
   "id": "03d25d70-1792-4fd7-969d-868a38f2169a",
   "metadata": {},
   "outputs": [
    {
     "name": "stdin",
     "output_type": "stream",
     "text": [
      "Enter the radius of a circle:  15\n"
     ]
    },
    {
     "name": "stdout",
     "output_type": "stream",
     "text": [
      "The area of a circle for radius 15 is: 706.5\n"
     ]
    }
   ],
   "source": [
    "# 3)wap ask the user to enter radius of a circle calculate area of the circle\n",
    "# var: radius   var: pi=3.14\n",
    "# formula: pi*radius*radius\n",
    "# print the answers using f string and format\n",
    "\n",
    "try:\n",
    "    radius=eval(input(\"Enter the radius of a circle: \"))\n",
    "    pi=3.14\n",
    "    area=pi*radius*radius\n",
    "    print(f\"The area of a circle for radius {radius} is: {area}\")\n",
    "except Exception as e:\n",
    "    print(e)"
   ]
  },
  {
   "cell_type": "code",
   "execution_count": 5,
   "id": "6a47743f-c039-4e42-8fe4-1060de0ed303",
   "metadata": {},
   "outputs": [
    {
     "name": "stdin",
     "output_type": "stream",
     "text": [
      "Enter the breadth of a right angle triangle:  10\n",
      "Enter the height of a right angle triangle:  5\n"
     ]
    },
    {
     "name": "stdout",
     "output_type": "stream",
     "text": [
      "The area of a right angle triangle for breadth 10 and height 5 is: 25.0\n"
     ]
    }
   ],
   "source": [
    "# 4)wap ask the user enter breadth and height of a right angle triangle\n",
    "# calculate the area\n",
    "# var1: breadth   var2: height\n",
    "# formula: 0.5*breadth*height\n",
    "\n",
    "try:\n",
    "    breadth=eval(input(\"Enter the breadth of a right angle triangle: \"))\n",
    "    height=eval(input(\"Enter the height of a right angle triangle: \"))\n",
    "    area=0.5*breadth*height\n",
    "    print(f\"The area of a right angle triangle for breadth {breadth} and height {height} is: {area}\")\n",
    "except Exception as e:\n",
    "    print(e)"
   ]
  },
  {
   "cell_type": "code",
   "execution_count": 6,
   "id": "8c0edb2b-7d54-4370-af90-6c2736bccd9b",
   "metadata": {},
   "outputs": [
    {
     "name": "stdin",
     "output_type": "stream",
     "text": [
      "Enter the bill amount:  500\n",
      "Enter the tip amount:  100\n"
     ]
    },
    {
     "name": "stdout",
     "output_type": "stream",
     "text": [
      "The total bill is: 600\n"
     ]
    }
   ],
   "source": [
    "# 5)wap ask the user enter the bill amount and tip amount\n",
    "# calculate total bill\n",
    "# var1: bill amount   var2: tip amount\n",
    "# formula\n",
    "\n",
    "try:\n",
    "    bill_amount=eval(input(\"Enter the bill amount: \"))\n",
    "    tip_amount=eval(input(\"Enter the tip amount: \"))\n",
    "    total_bill=bill_amount+tip_amount\n",
    "    print(f\"The total bill is: {total_bill}\")\n",
    "except Exception as e:\n",
    "    print(e)"
   ]
  },
  {
   "cell_type": "code",
   "execution_count": 7,
   "id": "db93d23f-bc30-4f06-af6c-c4bac9182773",
   "metadata": {},
   "outputs": [
    {
     "name": "stdin",
     "output_type": "stream",
     "text": [
      "Enter the bill amount:  1000\n",
      "Enter the tip percentage:  20\n"
     ]
    },
    {
     "name": "stdout",
     "output_type": "stream",
     "text": [
      "The bill amount is: 1000\n",
      "The tip percentage is: 20\n",
      "The total bill is: 1100\n"
     ]
    }
   ],
   "source": [
    "# 6)wap ask the user enter the bill amount and tip percentage\n",
    "# take tip percentage as 10\n",
    "# calculate total bill= bill amount+bill amount*tip per/100\n",
    "# var1: bill amount   var2: tip amount\n",
    "# formula\n",
    "\n",
    "try:\n",
    "    bill_amount=eval(input(\"Enter the bill amount: \"))\n",
    "    tip_per=eval(input(\"Enter the tip percentage: \"))\n",
    "    total_amount=bill_amount*tip_per/100\n",
    "    total_bill=bill_amount+tip_amount\n",
    "    print(f\"The bill amount is: {bill_amount}\")\n",
    "    print(f\"The tip percentage is: {tip_per}\")\n",
    "    print(f\"The total bill is: {total_bill}\")\n",
    "except Exception as e:\n",
    "    print(e)"
   ]
  },
  {
   "cell_type": "code",
   "execution_count": 8,
   "id": "f89e41ed-001b-4094-94fd-0881a73b860f",
   "metadata": {},
   "outputs": [
    {
     "name": "stdin",
     "output_type": "stream",
     "text": [
      "Enter the length of a Rectangle:  20\n",
      "Enter the breadth of a Rectangle:  15\n"
     ]
    },
    {
     "name": "stdout",
     "output_type": "stream",
     "text": [
      "The area of rectangle for breadth 15 and length 20 is: 300\n"
     ]
    }
   ],
   "source": [
    "# 7)wap ask the user enter the length and breadth of a rectangle calculate area\n",
    "# var1: length   var2: breadth\n",
    "# formula: length*breadth\n",
    "\n",
    "try:\n",
    "    length=eval(input(\"Enter the length of a Rectangle: \"))\n",
    "    breadth=eval(input(\"Enter the breadth of a Rectangle: \"))\n",
    "    area=length*breadth\n",
    "    print(f\"The area of rectangle for breadth {breadth} and length {length} is: {area}\")\n",
    "except Exception as e:\n",
    "    print(e)"
   ]
  },
  {
   "cell_type": "code",
   "execution_count": 10,
   "id": "e331ba81-70ba-4c8b-ba61-fd5f58bcc193",
   "metadata": {},
   "outputs": [
    {
     "name": "stdin",
     "output_type": "stream",
     "text": [
      "Enter the radius of a circle:  35\n"
     ]
    },
    {
     "name": "stdout",
     "output_type": "stream",
     "text": [
      "The volume of a sphere for radius 35 is: 179503.3333333333\n"
     ]
    }
   ],
   "source": [
    "# 8)wap ask the user take the radius and calculate volume of sphere\n",
    "# formula: pi*r**3(pi*r*r*r)\n",
    "\n",
    "try:\n",
    "    radius=eval(input(\"Enter the radius of a circle: \"))\n",
    "    pi=3.14\n",
    "    volume=4/3*pi*radius**3\n",
    "    print(f\"The volume of a sphere for radius {radius} is: {volume}\")\n",
    "except Exception as e:\n",
    "    print(e)"
   ]
  },
  {
   "cell_type": "code",
   "execution_count": null,
   "id": "b743d03d-21ac-4aff-aa6a-775ba776c5e0",
   "metadata": {},
   "outputs": [],
   "source": [
    "# 9)wap ask the user enter amount in dollars convert into rupees\n",
    "# 1$=85rs\n",
    "\n",
    "try:\n",
    "    dollar=eval(input(\"Enter The Amount in Dollar: \"))\n",
    "    rupees=dollar*85\n",
    "    print(f\"The Amount in dollar {dollar} and rupees is {rupees} INR\")\n",
    "except Exception as e:\n",
    "    print(e)"
   ]
  },
  {
   "cell_type": "code",
   "execution_count": null,
   "id": "6fa97572-085c-4692-8e51-a3f69cba21d0",
   "metadata": {},
   "outputs": [],
   "source": [
    "# 10)wap ask the user enter weight in kgs convert into pounds\n",
    "# 1kg=2.2pounds\n",
    "\n",
    "try:\n",
    "    kg=eval(input(\"Enter the weight in kg: \"))\n",
    "    pounds=kg*2.2\n",
    "    print(f\"The weight in kg {kg} and pound is {pounds}\")\n",
    "except Exception as e:\n",
    "    print(e)"
   ]
  }
 ],
 "metadata": {
  "kernelspec": {
   "display_name": "Python 3 (ipykernel)",
   "language": "python",
   "name": "python3"
  },
  "language_info": {
   "codemirror_mode": {
    "name": "ipython",
    "version": 3
   },
   "file_extension": ".py",
   "mimetype": "text/x-python",
   "name": "python",
   "nbconvert_exporter": "python",
   "pygments_lexer": "ipython3",
   "version": "3.12.7"
  }
 },
 "nbformat": 4,
 "nbformat_minor": 5
}
