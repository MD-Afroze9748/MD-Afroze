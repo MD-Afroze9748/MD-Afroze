{
 "cells": [
  {
   "cell_type": "code",
   "execution_count": null,
   "id": "0bb29f70-77e9-48b4-95f3-9a7f1edef9c3",
   "metadata": {},
   "outputs": [],
   "source": [
    "likith is good python developer\n",
    "he created a addition code "
   ]
  },
  {
   "cell_type": "code",
   "execution_count": 1,
   "id": "a18f06be-8ff7-4ecf-88b1-9916da334205",
   "metadata": {},
   "outputs": [
    {
     "data": {
      "text/plain": [
       "30"
      ]
     },
     "execution_count": 1,
     "metadata": {},
     "output_type": "execute_result"
    }
   ],
   "source": [
    "n1=10\n",
    "n2=20\n",
    "add=n1+n2\n",
    "add"
   ]
  },
  {
   "cell_type": "code",
   "execution_count": null,
   "id": "0815641c-77ec-43d4-ab8a-301b9500e362",
   "metadata": {},
   "outputs": [],
   "source": [
    "he thought that he only created a addition code\n",
    "on one is created\n",
    "\n",
    "i will give this free to entire world \n",
    "\n",
    "he went anaconda organization\n",
    "\n",
    "who ever install your software that python code also\n",
    "should automatically in their laptop\n",
    "\n",
    "anaconda : okay great\n",
    "\n",
    "make that python code as package\n",
    "\n",
    "package : python code\n",
    "          python OOPS concept\n",
    "\n",
    "packages module"
   ]
  },
  {
   "cell_type": "code",
   "execution_count": null,
   "id": "afac6ec5-37ea-496f-82b0-047ee9808570",
   "metadata": {},
   "outputs": [],
   "source": [
    "green color line \n",
    "max 5 min\n",
    "packages are downloaded in your laptop\n",
    "\n",
    "package name: addition"
   ]
  },
  {
   "cell_type": "code",
   "execution_count": null,
   "id": "41fe51b7-1cde-4c8d-ae67-55820156aa60",
   "metadata": {},
   "outputs": [],
   "source": [
    "#syntax\n",
    "\n",
    "import <package name>"
   ]
  },
  {
   "cell_type": "code",
   "execution_count": null,
   "id": "8f870aa4-561e-4ffb-add2-55ef4e993052",
   "metadata": {},
   "outputs": [],
   "source": [
    "package name : random\n",
    "package name : math\n",
    "package name : time\n",
    "package name : keyword\n",
    "package name : pandas\n",
    "package name : numpy\n",
    "package name : cv2"
   ]
  },
  {
   "cell_type": "code",
   "execution_count": 1,
   "id": "2b6c0699-48e2-4f0b-b0d1-3fd8fb8d1ba9",
   "metadata": {},
   "outputs": [],
   "source": [
    "import random"
   ]
  },
  {
   "cell_type": "code",
   "execution_count": 2,
   "id": "70db86fd-ed0e-4e02-b180-df92cdb4fc0e",
   "metadata": {},
   "outputs": [],
   "source": [
    "import math"
   ]
  },
  {
   "cell_type": "code",
   "execution_count": 3,
   "id": "26420252-90d7-4657-b2ac-7fbbb00720e7",
   "metadata": {},
   "outputs": [],
   "source": [
    "import time"
   ]
  },
  {
   "cell_type": "code",
   "execution_count": 4,
   "id": "03ca27d3-a4f7-49ed-b066-cab99fe23976",
   "metadata": {},
   "outputs": [],
   "source": [
    "import keyword"
   ]
  },
  {
   "cell_type": "code",
   "execution_count": 5,
   "id": "f36bd886-406a-4b54-950e-f0f1d8453413",
   "metadata": {},
   "outputs": [],
   "source": [
    "import pandas"
   ]
  },
  {
   "cell_type": "code",
   "execution_count": 6,
   "id": "8e72d561-ef56-41f0-80be-1762f6b01ba5",
   "metadata": {},
   "outputs": [],
   "source": [
    "import numpy"
   ]
  },
  {
   "cell_type": "code",
   "execution_count": 7,
   "id": "794a0d4b-e446-4565-9ead-8d170c4b4f30",
   "metadata": {},
   "outputs": [],
   "source": [
    "import cv2"
   ]
  },
  {
   "cell_type": "code",
   "execution_count": 8,
   "id": "e463dc69-b467-4416-a018-a95821aecb0e",
   "metadata": {},
   "outputs": [
    {
     "ename": "ModuleNotFoundError",
     "evalue": "No module named 'addition'",
     "output_type": "error",
     "traceback": [
      "\u001b[1;31m---------------------------------------------------------------------------\u001b[0m",
      "\u001b[1;31mModuleNotFoundError\u001b[0m                       Traceback (most recent call last)",
      "Cell \u001b[1;32mIn[8], line 1\u001b[0m\n\u001b[1;32m----> 1\u001b[0m \u001b[38;5;28;01mimport\u001b[39;00m \u001b[38;5;21;01maddition\u001b[39;00m\n",
      "\u001b[1;31mModuleNotFoundError\u001b[0m: No module named 'addition'"
     ]
    }
   ],
   "source": [
    "import addition"
   ]
  },
  {
   "cell_type": "markdown",
   "id": "c9046ace-dfcf-4ed5-9218-7c20d879a10c",
   "metadata": {},
   "source": [
    "- with this addition name no package available in your laptop\n",
    "\n",
    "- for you cv2 also not available in your laptop\n",
    "\n",
    "- whenever you got error always share two screenshots\n",
    "\n",
    "    - the code lines which you written\n",
    "\n",
    "    - error screenshot till last line\n",
    "\n",
    "    - error information always at last line only"
   ]
  },
  {
   "cell_type": "code",
   "execution_count": 9,
   "id": "36d96fb4-5593-4271-9153-9b6af9801cb2",
   "metadata": {},
   "outputs": [],
   "source": [
    "import random"
   ]
  },
  {
   "cell_type": "code",
   "execution_count": 10,
   "id": "006e6c39-dd6e-44f3-a0ea-8f8a615399ab",
   "metadata": {},
   "outputs": [
    {
     "data": {
      "text/plain": [
       "<module 'random' from 'C:\\\\Users\\\\mdafroze\\\\anaconda3\\\\Lib\\\\random.py'>"
      ]
     },
     "execution_count": 10,
     "metadata": {},
     "output_type": "execute_result"
    }
   ],
   "source": [
    "random"
   ]
  },
  {
   "cell_type": "markdown",
   "id": "e3eadb76-3d4f-42e2-8316-025e2f67f6d4",
   "metadata": {},
   "source": [
    "- package or module is a python code only\n",
    "\n",
    "- many packages will automatically install while anaconda installation\n",
    "\n",
    "- if any module not available\n",
    "\n",
    "     - **Module not Found error**\n",
    "\n",
    "- how we call the package: **import packagename**"
   ]
  },
  {
   "cell_type": "code",
   "execution_count": 11,
   "id": "baa25080-f53b-4b49-a10c-6b5aae347443",
   "metadata": {},
   "outputs": [],
   "source": [
    "import random"
   ]
  },
  {
   "cell_type": "markdown",
   "id": "c05bced0-f744-4b4e-ac9c-9ee0618ec043",
   "metadata": {},
   "source": [
    "- random also have many sub function \n",
    "\n",
    "- these are called as methods\n",
    "\n",
    "- in order to see the available methods\n",
    "\n",
    "    - dir(packagename)"
   ]
  },
  {
   "cell_type": "code",
   "execution_count": 8,
   "id": "5c070752-d3b0-476a-9551-37289fc35cb2",
   "metadata": {},
   "outputs": [
    {
     "data": {
      "text/plain": [
       "['BPF',\n",
       " 'LOG4',\n",
       " 'NV_MAGICCONST',\n",
       " 'RECIP_BPF',\n",
       " 'Random',\n",
       " 'SG_MAGICCONST',\n",
       " 'SystemRandom',\n",
       " 'TWOPI',\n",
       " '_ONE',\n",
       " '_Sequence',\n",
       " '__all__',\n",
       " '__builtins__',\n",
       " '__cached__',\n",
       " '__doc__',\n",
       " '__file__',\n",
       " '__loader__',\n",
       " '__name__',\n",
       " '__package__',\n",
       " '__spec__',\n",
       " '_accumulate',\n",
       " '_acos',\n",
       " '_bisect',\n",
       " '_ceil',\n",
       " '_cos',\n",
       " '_e',\n",
       " '_exp',\n",
       " '_fabs',\n",
       " '_floor',\n",
       " '_index',\n",
       " '_inst',\n",
       " '_isfinite',\n",
       " '_lgamma',\n",
       " '_log',\n",
       " '_log2',\n",
       " '_os',\n",
       " '_pi',\n",
       " '_random',\n",
       " '_repeat',\n",
       " '_sha512',\n",
       " '_sin',\n",
       " '_sqrt',\n",
       " '_test',\n",
       " '_test_generator',\n",
       " '_urandom',\n",
       " '_warn',\n",
       " 'betavariate',\n",
       " 'binomialvariate',\n",
       " 'choice',\n",
       " 'choices',\n",
       " 'expovariate',\n",
       " 'gammavariate',\n",
       " 'gauss',\n",
       " 'getrandbits',\n",
       " 'getstate',\n",
       " 'lognormvariate',\n",
       " 'normalvariate',\n",
       " 'paretovariate',\n",
       " 'randbytes',\n",
       " 'randint',\n",
       " 'random',\n",
       " 'randrange',\n",
       " 'sample',\n",
       " 'seed',\n",
       " 'setstate',\n",
       " 'shuffle',\n",
       " 'triangular',\n",
       " 'uniform',\n",
       " 'vonmisesvariate',\n",
       " 'weibullvariate']"
      ]
     },
     "execution_count": 8,
     "metadata": {},
     "output_type": "execute_result"
    }
   ],
   "source": [
    "# step-1: import packagename\n",
    "# step-2: dir(packagename)\n",
    "\n",
    "import random\n",
    "dir (random)"
   ]
  },
  {
   "cell_type": "code",
   "execution_count": 17,
   "id": "1dd832e9-ad46-4b07-86ce-d6e66307b1fd",
   "metadata": {},
   "outputs": [
    {
     "data": {
      "text/plain": [
       "['__doc__',\n",
       " '__loader__',\n",
       " '__name__',\n",
       " '__package__',\n",
       " '__spec__',\n",
       " 'acos',\n",
       " 'acosh',\n",
       " 'asin',\n",
       " 'asinh',\n",
       " 'atan',\n",
       " 'atan2',\n",
       " 'atanh',\n",
       " 'cbrt',\n",
       " 'ceil',\n",
       " 'comb',\n",
       " 'copysign',\n",
       " 'cos',\n",
       " 'cosh',\n",
       " 'degrees',\n",
       " 'dist',\n",
       " 'e',\n",
       " 'erf',\n",
       " 'erfc',\n",
       " 'exp',\n",
       " 'exp2',\n",
       " 'expm1',\n",
       " 'fabs',\n",
       " 'factorial',\n",
       " 'floor',\n",
       " 'fmod',\n",
       " 'frexp',\n",
       " 'fsum',\n",
       " 'gamma',\n",
       " 'gcd',\n",
       " 'hypot',\n",
       " 'inf',\n",
       " 'isclose',\n",
       " 'isfinite',\n",
       " 'isinf',\n",
       " 'isnan',\n",
       " 'isqrt',\n",
       " 'lcm',\n",
       " 'ldexp',\n",
       " 'lgamma',\n",
       " 'log',\n",
       " 'log10',\n",
       " 'log1p',\n",
       " 'log2',\n",
       " 'modf',\n",
       " 'nan',\n",
       " 'nextafter',\n",
       " 'perm',\n",
       " 'pi',\n",
       " 'pow',\n",
       " 'prod',\n",
       " 'radians',\n",
       " 'remainder',\n",
       " 'sin',\n",
       " 'sinh',\n",
       " 'sqrt',\n",
       " 'sumprod',\n",
       " 'tan',\n",
       " 'tanh',\n",
       " 'tau',\n",
       " 'trunc',\n",
       " 'ulp']"
      ]
     },
     "execution_count": 17,
     "metadata": {},
     "output_type": "execute_result"
    }
   ],
   "source": [
    "import math\n",
    "dir(math)"
   ]
  },
  {
   "cell_type": "code",
   "execution_count": 20,
   "id": "32280972-0374-4707-a598-e99af2b35334",
   "metadata": {},
   "outputs": [
    {
     "data": {
      "text/plain": [
       "['__all__',\n",
       " '__builtins__',\n",
       " '__cached__',\n",
       " '__doc__',\n",
       " '__file__',\n",
       " '__loader__',\n",
       " '__name__',\n",
       " '__package__',\n",
       " '__spec__',\n",
       " 'iskeyword',\n",
       " 'issoftkeyword',\n",
       " 'kwlist',\n",
       " 'softkwlist']"
      ]
     },
     "execution_count": 20,
     "metadata": {},
     "output_type": "execute_result"
    }
   ],
   "source": [
    "import keyword\n",
    "dir(keyword)"
   ]
  },
  {
   "cell_type": "code",
   "execution_count": 21,
   "id": "bad5a07f-b759-49c9-aed8-c623d4ecf8b3",
   "metadata": {},
   "outputs": [
    {
     "data": {
      "text/plain": [
       "['__add__',\n",
       " '__class__',\n",
       " '__class_getitem__',\n",
       " '__contains__',\n",
       " '__delattr__',\n",
       " '__delitem__',\n",
       " '__dir__',\n",
       " '__doc__',\n",
       " '__eq__',\n",
       " '__format__',\n",
       " '__ge__',\n",
       " '__getattribute__',\n",
       " '__getitem__',\n",
       " '__getstate__',\n",
       " '__gt__',\n",
       " '__hash__',\n",
       " '__iadd__',\n",
       " '__imul__',\n",
       " '__init__',\n",
       " '__init_subclass__',\n",
       " '__iter__',\n",
       " '__le__',\n",
       " '__len__',\n",
       " '__lt__',\n",
       " '__mul__',\n",
       " '__ne__',\n",
       " '__new__',\n",
       " '__reduce__',\n",
       " '__reduce_ex__',\n",
       " '__repr__',\n",
       " '__reversed__',\n",
       " '__rmul__',\n",
       " '__setattr__',\n",
       " '__setitem__',\n",
       " '__sizeof__',\n",
       " '__str__',\n",
       " '__subclasshook__',\n",
       " 'append',\n",
       " 'clear',\n",
       " 'copy',\n",
       " 'count',\n",
       " 'extend',\n",
       " 'index',\n",
       " 'insert',\n",
       " 'pop',\n",
       " 'remove',\n",
       " 'reverse',\n",
       " 'sort']"
      ]
     },
     "execution_count": 21,
     "metadata": {},
     "output_type": "execute_result"
    }
   ],
   "source": [
    "import keyword\n",
    "dir(keyword.kwlist)"
   ]
  },
  {
   "cell_type": "code",
   "execution_count": 22,
   "id": "910dfd9e-56c6-47cc-a839-a4d15d200e71",
   "metadata": {},
   "outputs": [
    {
     "data": {
      "text/plain": [
       "35"
      ]
     },
     "execution_count": 22,
     "metadata": {},
     "output_type": "execute_result"
    }
   ],
   "source": [
    "import keyword\n",
    "len(keyword.kwlist)"
   ]
  },
  {
   "cell_type": "code",
   "execution_count": null,
   "id": "d75be01d-11aa-43d5-9bfd-47854c8294ed",
   "metadata": {},
   "outputs": [],
   "source": [
    "# method : randint\n",
    "# qn : what is randint\n",
    "#     package name : random\n",
    "#     method name  : randint\n",
    "\n",
    "#    module name    : random\n",
    "#    attribute name : randint\n",
    "\n",
    "#    uncle name :\n",
    "#       gf name"
   ]
  },
  {
   "cell_type": "code",
   "execution_count": 12,
   "id": "fb812f5e-aa0e-4891-a609-1f6e8fd7ae41",
   "metadata": {},
   "outputs": [
    {
     "data": {
      "text/plain": [
       "<bound method Random.randint of <random.Random object at 0x0000023D557A7DB0>>"
      ]
     },
     "execution_count": 12,
     "metadata": {},
     "output_type": "execute_result"
    }
   ],
   "source": [
    "# step-3: packagename.methodname\n",
    "random.randint"
   ]
  },
  {
   "cell_type": "code",
   "execution_count": 13,
   "id": "940eb1bb-d5d6-4af0-9b89-e4a067aadd4c",
   "metadata": {},
   "outputs": [
    {
     "data": {
      "text/plain": [
       "<bound method Random.randint of <random.Random object at 0x0000023D557A7DB0>>"
      ]
     },
     "execution_count": 13,
     "metadata": {},
     "output_type": "execute_result"
    }
   ],
   "source": [
    "# step-1: import package name\n",
    "# step-2: dir(package name)\n",
    "# step-3: packagename.methodname\n",
    "\n",
    "import random\n",
    "dir (random)   # i want to call randint\n",
    "random.randint"
   ]
  },
  {
   "cell_type": "code",
   "execution_count": 10,
   "id": "1bc7ac90-4616-4779-9c79-38213ee94e84",
   "metadata": {},
   "outputs": [
    {
     "name": "stdout",
     "output_type": "stream",
     "text": [
      "Help on method randint in module random:\n",
      "\n",
      "randint(a, b) method of random.Random instance\n",
      "    Return random integer in range [a, b], including both end points.\n",
      "\n"
     ]
    }
   ],
   "source": [
    "help(random.randint)"
   ]
  },
  {
   "cell_type": "code",
   "execution_count": 11,
   "id": "18156c67-2d93-418e-98d0-827bb1ea8a28",
   "metadata": {},
   "outputs": [
    {
     "data": {
      "text/plain": [
       "15"
      ]
     },
     "execution_count": 11,
     "metadata": {},
     "output_type": "execute_result"
    }
   ],
   "source": [
    "random.randint(10,20) # a=10 b=20 10 11 12 13 14 15 16 17 18 19 20"
   ]
  },
  {
   "cell_type": "code",
   "execution_count": 17,
   "id": "1f7e4eb3-ede1-4e68-993f-26d9b12d47dc",
   "metadata": {},
   "outputs": [
    {
     "name": "stdout",
     "output_type": "stream",
     "text": [
      "Help on method randint in module random:\n",
      "\n",
      "randint(a, b) method of random.Random instance\n",
      "    Return random integer in range [a, b], including both end points.\n",
      "\n"
     ]
    },
    {
     "data": {
      "text/plain": [
       "2"
      ]
     },
     "execution_count": 17,
     "metadata": {},
     "output_type": "execute_result"
    }
   ],
   "source": [
    "import random\n",
    "dir (random)\n",
    "help(random.randint)\n",
    "random.randint(1,10)"
   ]
  },
  {
   "cell_type": "code",
   "execution_count": 18,
   "id": "0133d916-97d2-4c6c-9629-2aaa135bc526",
   "metadata": {},
   "outputs": [
    {
     "name": "stdout",
     "output_type": "stream",
     "text": [
      "Help on method randint in module random:\n",
      "\n",
      "randint(a, b) method of random.Random instance\n",
      "    Return random integer in range [a, b], including both end points.\n",
      "\n"
     ]
    },
    {
     "data": {
      "text/plain": [
       "16"
      ]
     },
     "execution_count": 18,
     "metadata": {},
     "output_type": "execute_result"
    }
   ],
   "source": [
    "import random\n",
    "dir (random)\n",
    "help(random.randint)\n",
    "random.randint(1,20)"
   ]
  },
  {
   "cell_type": "code",
   "execution_count": 14,
   "id": "2d6d8a01-24ed-4915-96fd-8899ec3c2d23",
   "metadata": {},
   "outputs": [
    {
     "ename": "TypeError",
     "evalue": "Random.randint() missing 2 required positional arguments: 'a' and 'b'",
     "output_type": "error",
     "traceback": [
      "\u001b[1;31m---------------------------------------------------------------------------\u001b[0m",
      "\u001b[1;31mTypeError\u001b[0m                                 Traceback (most recent call last)",
      "Cell \u001b[1;32mIn[14], line 2\u001b[0m\n\u001b[0;32m      1\u001b[0m \u001b[38;5;28;01mimport\u001b[39;00m \u001b[38;5;21;01mrandom\u001b[39;00m\n\u001b[1;32m----> 2\u001b[0m \u001b[43mrandom\u001b[49m\u001b[38;5;241;43m.\u001b[39;49m\u001b[43mrandint\u001b[49m\u001b[43m(\u001b[49m\u001b[43m)\u001b[49m\n\u001b[0;32m      4\u001b[0m \u001b[38;5;66;03m# take your cursor inside the bracket apply shift+tab\u001b[39;00m\n\u001b[0;32m      5\u001b[0m \u001b[38;5;66;03m# help function only return\u001b[39;00m\n\u001b[0;32m      6\u001b[0m \u001b[38;5;66;03m# the top name : Doc string\u001b[39;00m\n",
      "\u001b[1;31mTypeError\u001b[0m: Random.randint() missing 2 required positional arguments: 'a' and 'b'"
     ]
    }
   ],
   "source": [
    "import random\n",
    "random.randint()\n",
    "\n",
    "# take your cursor inside the bracket apply shift+tab\n",
    "# help function only return\n",
    "# the top name : Doc string"
   ]
  },
  {
   "cell_type": "code",
   "execution_count": 15,
   "id": "4b9bc92f-4440-4337-a065-ef1a786a267d",
   "metadata": {},
   "outputs": [
    {
     "ename": "TypeError",
     "evalue": "Random.randint() missing 2 required positional arguments: 'a' and 'b'",
     "output_type": "error",
     "traceback": [
      "\u001b[1;31m---------------------------------------------------------------------------\u001b[0m",
      "\u001b[1;31mTypeError\u001b[0m                                 Traceback (most recent call last)",
      "Cell \u001b[1;32mIn[15], line 2\u001b[0m\n\u001b[0;32m      1\u001b[0m \u001b[38;5;28;01mimport\u001b[39;00m \u001b[38;5;21;01mrandom\u001b[39;00m\n\u001b[1;32m----> 2\u001b[0m \u001b[43mrandom\u001b[49m\u001b[38;5;241;43m.\u001b[39;49m\u001b[43mrandint\u001b[49m\u001b[43m(\u001b[49m\u001b[43m)\u001b[49m\n",
      "\u001b[1;31mTypeError\u001b[0m: Random.randint() missing 2 required positional arguments: 'a' and 'b'"
     ]
    }
   ],
   "source": [
    "import random\n",
    "random.randint()"
   ]
  },
  {
   "cell_type": "code",
   "execution_count": null,
   "id": "0dce84e2-6ef6-4e29-b4bf-ca1f34eabe56",
   "metadata": {},
   "outputs": [],
   "source": [
    "# package name : random\n",
    "# method name  : random \n",
    "\n",
    "# package name : math\n",
    "# method name  : sqrt\n",
    "\n",
    "# package name : math \n",
    "# method name  : pow \n",
    "\n",
    "# package name : math\n",
    "# method name  : pi \n",
    "\n",
    "# package name : math\n",
    "# method name  : sin "
   ]
  },
  {
   "cell_type": "code",
   "execution_count": null,
   "id": "3d55bbe6-d2e5-4401-b7b5-2ad2f6001017",
   "metadata": {},
   "outputs": [],
   "source": [
    "# import packages one time is enough"
   ]
  },
  {
   "cell_type": "code",
   "execution_count": 29,
   "id": "5f66cb92-1842-43ce-8e3f-171348b3c433",
   "metadata": {},
   "outputs": [
    {
     "name": "stdout",
     "output_type": "stream",
     "text": [
      "Help on built-in function sqrt in module math:\n",
      "\n",
      "sqrt(x, /)\n",
      "    Return the square root of x.\n",
      "\n"
     ]
    }
   ],
   "source": [
    "import math\n",
    "help(math.sqrt)"
   ]
  },
  {
   "cell_type": "code",
   "execution_count": 32,
   "id": "8e339995-d7f8-4bbe-96e1-915291d0d8f2",
   "metadata": {},
   "outputs": [
    {
     "name": "stdout",
     "output_type": "stream",
     "text": [
      "Help on built-in function pow in module math:\n",
      "\n",
      "pow(x, y, /)\n",
      "    Return x**y (x to the power of y).\n",
      "\n"
     ]
    }
   ],
   "source": [
    "import math\n",
    "help(math.pow)"
   ]
  },
  {
   "cell_type": "code",
   "execution_count": 18,
   "id": "53db71e4-bd6e-4d30-b0d7-4552a19d4047",
   "metadata": {},
   "outputs": [
    {
     "name": "stdout",
     "output_type": "stream",
     "text": [
      "Help on float object:\n",
      "\n",
      "class float(object)\n",
      " |  float(x=0, /)\n",
      " |\n",
      " |  Convert a string or number to a floating-point number, if possible.\n",
      " |\n",
      " |  Methods defined here:\n",
      " |\n",
      " |  __abs__(self, /)\n",
      " |      abs(self)\n",
      " |\n",
      " |  __add__(self, value, /)\n",
      " |      Return self+value.\n",
      " |\n",
      " |  __bool__(self, /)\n",
      " |      True if self else False\n",
      " |\n",
      " |  __ceil__(self, /)\n",
      " |      Return the ceiling as an Integral.\n",
      " |\n",
      " |  __divmod__(self, value, /)\n",
      " |      Return divmod(self, value).\n",
      " |\n",
      " |  __eq__(self, value, /)\n",
      " |      Return self==value.\n",
      " |\n",
      " |  __float__(self, /)\n",
      " |      float(self)\n",
      " |\n",
      " |  __floor__(self, /)\n",
      " |      Return the floor as an Integral.\n",
      " |\n",
      " |  __floordiv__(self, value, /)\n",
      " |      Return self//value.\n",
      " |\n",
      " |  __format__(self, format_spec, /)\n",
      " |      Formats the float according to format_spec.\n",
      " |\n",
      " |  __ge__(self, value, /)\n",
      " |      Return self>=value.\n",
      " |\n",
      " |  __getnewargs__(self, /)\n",
      " |\n",
      " |  __gt__(self, value, /)\n",
      " |      Return self>value.\n",
      " |\n",
      " |  __hash__(self, /)\n",
      " |      Return hash(self).\n",
      " |\n",
      " |  __int__(self, /)\n",
      " |      int(self)\n",
      " |\n",
      " |  __le__(self, value, /)\n",
      " |      Return self<=value.\n",
      " |\n",
      " |  __lt__(self, value, /)\n",
      " |      Return self<value.\n",
      " |\n",
      " |  __mod__(self, value, /)\n",
      " |      Return self%value.\n",
      " |\n",
      " |  __mul__(self, value, /)\n",
      " |      Return self*value.\n",
      " |\n",
      " |  __ne__(self, value, /)\n",
      " |      Return self!=value.\n",
      " |\n",
      " |  __neg__(self, /)\n",
      " |      -self\n",
      " |\n",
      " |  __pos__(self, /)\n",
      " |      +self\n",
      " |\n",
      " |  __pow__(self, value, mod=None, /)\n",
      " |      Return pow(self, value, mod).\n",
      " |\n",
      " |  __radd__(self, value, /)\n",
      " |      Return value+self.\n",
      " |\n",
      " |  __rdivmod__(self, value, /)\n",
      " |      Return divmod(value, self).\n",
      " |\n",
      " |  __repr__(self, /)\n",
      " |      Return repr(self).\n",
      " |\n",
      " |  __rfloordiv__(self, value, /)\n",
      " |      Return value//self.\n",
      " |\n",
      " |  __rmod__(self, value, /)\n",
      " |      Return value%self.\n",
      " |\n",
      " |  __rmul__(self, value, /)\n",
      " |      Return value*self.\n",
      " |\n",
      " |  __round__(self, ndigits=None, /)\n",
      " |      Return the Integral closest to x, rounding half toward even.\n",
      " |\n",
      " |      When an argument is passed, work like built-in round(x, ndigits).\n",
      " |\n",
      " |  __rpow__(self, value, mod=None, /)\n",
      " |      Return pow(value, self, mod).\n",
      " |\n",
      " |  __rsub__(self, value, /)\n",
      " |      Return value-self.\n",
      " |\n",
      " |  __rtruediv__(self, value, /)\n",
      " |      Return value/self.\n",
      " |\n",
      " |  __sub__(self, value, /)\n",
      " |      Return self-value.\n",
      " |\n",
      " |  __truediv__(self, value, /)\n",
      " |      Return self/value.\n",
      " |\n",
      " |  __trunc__(self, /)\n",
      " |      Return the Integral closest to x between 0 and x.\n",
      " |\n",
      " |  as_integer_ratio(self, /)\n",
      " |      Return a pair of integers, whose ratio is exactly equal to the original float.\n",
      " |\n",
      " |      The ratio is in lowest terms and has a positive denominator.  Raise\n",
      " |      OverflowError on infinities and a ValueError on NaNs.\n",
      " |\n",
      " |      >>> (10.0).as_integer_ratio()\n",
      " |      (10, 1)\n",
      " |      >>> (0.0).as_integer_ratio()\n",
      " |      (0, 1)\n",
      " |      >>> (-.25).as_integer_ratio()\n",
      " |      (-1, 4)\n",
      " |\n",
      " |  conjugate(self, /)\n",
      " |      Return self, the complex conjugate of any float.\n",
      " |\n",
      " |  hex(self, /)\n",
      " |      Return a hexadecimal representation of a floating-point number.\n",
      " |\n",
      " |      >>> (-0.1).hex()\n",
      " |      '-0x1.999999999999ap-4'\n",
      " |      >>> 3.14159.hex()\n",
      " |      '0x1.921f9f01b866ep+1'\n",
      " |\n",
      " |  is_integer(self, /)\n",
      " |      Return True if the float is an integer.\n",
      " |\n",
      " |  ----------------------------------------------------------------------\n",
      " |  Class methods defined here:\n",
      " |\n",
      " |  __getformat__(typestr, /)\n",
      " |      You probably don't want to use this function.\n",
      " |\n",
      " |        typestr\n",
      " |          Must be 'double' or 'float'.\n",
      " |\n",
      " |      It exists mainly to be used in Python's test suite.\n",
      " |\n",
      " |      This function returns whichever of 'unknown', 'IEEE, big-endian' or 'IEEE,\n",
      " |      little-endian' best describes the format of floating-point numbers used by the\n",
      " |      C type named by typestr.\n",
      " |\n",
      " |  fromhex(string, /)\n",
      " |      Create a floating-point number from a hexadecimal string.\n",
      " |\n",
      " |      >>> float.fromhex('0x1.ffffp10')\n",
      " |      2047.984375\n",
      " |      >>> float.fromhex('-0x1p-1074')\n",
      " |      -5e-324\n",
      " |\n",
      " |  ----------------------------------------------------------------------\n",
      " |  Static methods defined here:\n",
      " |\n",
      " |  __new__(*args, **kwargs)\n",
      " |      Create and return a new object.  See help(type) for accurate signature.\n",
      " |\n",
      " |  ----------------------------------------------------------------------\n",
      " |  Data descriptors defined here:\n",
      " |\n",
      " |  imag\n",
      " |      the imaginary part of a complex number\n",
      " |\n",
      " |  real\n",
      " |      the real part of a complex number\n",
      "\n"
     ]
    }
   ],
   "source": [
    "import math\n",
    "help(math.pi)"
   ]
  },
  {
   "cell_type": "code",
   "execution_count": 34,
   "id": "0a920db3-6e64-44f9-878e-fb5b0755ad71",
   "metadata": {},
   "outputs": [
    {
     "name": "stdout",
     "output_type": "stream",
     "text": [
      "Help on built-in function sin in module math:\n",
      "\n",
      "sin(x, /)\n",
      "    Return the sine of x (measured in radians).\n",
      "\n"
     ]
    }
   ],
   "source": [
    "import math\n",
    "help(math.sin)"
   ]
  },
  {
   "cell_type": "code",
   "execution_count": 35,
   "id": "d91352d0-1411-4909-bb2b-19a7dae0c206",
   "metadata": {},
   "outputs": [
    {
     "data": {
      "text/plain": [
       "0.6770165859768611"
      ]
     },
     "execution_count": 35,
     "metadata": {},
     "output_type": "execute_result"
    }
   ],
   "source": [
    "import random\n",
    "random.random()"
   ]
  },
  {
   "cell_type": "code",
   "execution_count": 36,
   "id": "14cb3077-7df0-401b-87f6-e7c40592b863",
   "metadata": {},
   "outputs": [
    {
     "data": {
      "text/plain": [
       "5.0"
      ]
     },
     "execution_count": 36,
     "metadata": {},
     "output_type": "execute_result"
    }
   ],
   "source": [
    "import math\n",
    "math.sqrt(25)"
   ]
  },
  {
   "cell_type": "code",
   "execution_count": 37,
   "id": "ccdcef64-36c9-46f7-8adc-bc0d124f18f2",
   "metadata": {},
   "outputs": [
    {
     "data": {
      "text/plain": [
       "8.0"
      ]
     },
     "execution_count": 37,
     "metadata": {},
     "output_type": "execute_result"
    }
   ],
   "source": [
    "math.pow(2,3)  # 2 power 3"
   ]
  },
  {
   "cell_type": "code",
   "execution_count": 38,
   "id": "0ec43c73-83fc-4504-86e0-0e4bf4ce761e",
   "metadata": {},
   "outputs": [
    {
     "data": {
      "text/plain": [
       "3.141592653589793"
      ]
     },
     "execution_count": 38,
     "metadata": {},
     "output_type": "execute_result"
    }
   ],
   "source": [
    "math.pi  # constant values does not need brackets"
   ]
  },
  {
   "cell_type": "code",
   "execution_count": 39,
   "id": "9fd4fb54-7b14-4bc5-9544-015ce9eb92b6",
   "metadata": {},
   "outputs": [
    {
     "data": {
      "text/plain": [
       "2.718281828459045"
      ]
     },
     "execution_count": 39,
     "metadata": {},
     "output_type": "execute_result"
    }
   ],
   "source": [
    "math.e"
   ]
  },
  {
   "cell_type": "code",
   "execution_count": 41,
   "id": "8a92db80-f5af-4cd2-a1f1-ca4c95a42576",
   "metadata": {},
   "outputs": [
    {
     "data": {
      "text/plain": [
       "0.8939966636005579"
      ]
     },
     "execution_count": 41,
     "metadata": {},
     "output_type": "execute_result"
    }
   ],
   "source": [
    "math.sin(90)"
   ]
  },
  {
   "cell_type": "code",
   "execution_count": null,
   "id": "4bae8ff1-c13f-46bc-8f98-a810550400b1",
   "metadata": {},
   "outputs": [],
   "source": [
    "math.pie\n",
    "math.pi    # pi is a constant\n",
    "math.pi()  # constant does not need brackets"
   ]
  },
  {
   "cell_type": "code",
   "execution_count": 19,
   "id": "adf3ef36-4465-4f97-9a81-59b28f1488f8",
   "metadata": {},
   "outputs": [
    {
     "name": "stdout",
     "output_type": "stream",
     "text": [
      "hello\n",
      "bye\n"
     ]
    }
   ],
   "source": [
    "print('hello')\n",
    "print('bye')"
   ]
  },
  {
   "cell_type": "code",
   "execution_count": 43,
   "id": "66551d6c-c168-49f5-af61-a44e9c57e49d",
   "metadata": {},
   "outputs": [
    {
     "name": "stdout",
     "output_type": "stream",
     "text": [
      "hello\n",
      "bye\n"
     ]
    }
   ],
   "source": [
    "import time\n",
    "print(\"hello\")\n",
    "time.sleep(5)\n",
    "print('bye')"
   ]
  },
  {
   "cell_type": "code",
   "execution_count": null,
   "id": "16a9a8b5-c56d-44e0-8d12-857570734988",
   "metadata": {},
   "outputs": [],
   "source": [
    "package name : keyword\n",
    "method name : kwlist"
   ]
  },
  {
   "cell_type": "code",
   "execution_count": 45,
   "id": "8cb3d79d-f0fc-426a-8eb2-12e109aa24f2",
   "metadata": {},
   "outputs": [
    {
     "data": {
      "text/plain": [
       "['False',\n",
       " 'None',\n",
       " 'True',\n",
       " 'and',\n",
       " 'as',\n",
       " 'assert',\n",
       " 'async',\n",
       " 'await',\n",
       " 'break',\n",
       " 'class',\n",
       " 'continue',\n",
       " 'def',\n",
       " 'del',\n",
       " 'elif',\n",
       " 'else',\n",
       " 'except',\n",
       " 'finally',\n",
       " 'for',\n",
       " 'from',\n",
       " 'global',\n",
       " 'if',\n",
       " 'import',\n",
       " 'in',\n",
       " 'is',\n",
       " 'lambda',\n",
       " 'nonlocal',\n",
       " 'not',\n",
       " 'or',\n",
       " 'pass',\n",
       " 'raise',\n",
       " 'return',\n",
       " 'try',\n",
       " 'while',\n",
       " 'with',\n",
       " 'yield']"
      ]
     },
     "execution_count": 45,
     "metadata": {},
     "output_type": "execute_result"
    }
   ],
   "source": [
    "import keyword\n",
    "keyword.kwlist"
   ]
  },
  {
   "cell_type": "code",
   "execution_count": null,
   "id": "cdf66c3d-2450-45f5-8fe1-0865598b949f",
   "metadata": {},
   "outputs": [],
   "source": [
    "True\n",
    "False\n",
    "if\n",
    "else\n",
    "for\n",
    "while\n",
    "None\n",
    "elif\n",
    "and\n",
    "def\n",
    "or\n",
    "return\n",
    "class\n",
    "lambda\n",
    "try\n",
    "except\n",
    "continue\n",
    "break\n",
    "pass"
   ]
  },
  {
   "cell_type": "code",
   "execution_count": null,
   "id": "0b0f9e56-a98e-45eb-82d2-94ee1616fd3f",
   "metadata": {},
   "outputs": [],
   "source": [
    "randrange is not available\n",
    "cele\n",
    "sample method not understand\n",
    "how to do start and end"
   ]
  },
  {
   "cell_type": "code",
   "execution_count": 1,
   "id": "bf3ec458-b392-4678-ade9-71b34cd388a4",
   "metadata": {},
   "outputs": [
    {
     "ename": "AttributeError",
     "evalue": "module 'random' has no attribute 'randange'",
     "output_type": "error",
     "traceback": [
      "\u001b[1;31m---------------------------------------------------------------------------\u001b[0m",
      "\u001b[1;31mAttributeError\u001b[0m                            Traceback (most recent call last)",
      "Cell \u001b[1;32mIn[1], line 2\u001b[0m\n\u001b[0;32m      1\u001b[0m \u001b[38;5;28;01mimport\u001b[39;00m \u001b[38;5;21;01mrandom\u001b[39;00m\n\u001b[1;32m----> 2\u001b[0m \u001b[43mrandom\u001b[49m\u001b[38;5;241;43m.\u001b[39;49m\u001b[43mrandange\u001b[49m\n",
      "\u001b[1;31mAttributeError\u001b[0m: module 'random' has no attribute 'randange'"
     ]
    }
   ],
   "source": [
    "import random\n",
    "random.randange"
   ]
  },
  {
   "cell_type": "markdown",
   "id": "bf1bf630-de98-4a32-b046-ad536d73cf2a",
   "metadata": {},
   "source": [
    "**Attribute error**\n",
    "\n",
    "- the method we provided is no available in that package  "
   ]
  },
  {
   "cell_type": "code",
   "execution_count": 2,
   "id": "d1bb0d31-2ac0-4de7-a169-94269f3bf53e",
   "metadata": {},
   "outputs": [
    {
     "data": {
      "text/plain": [
       "<function math.ceil(x, /)>"
      ]
     },
     "execution_count": 2,
     "metadata": {},
     "output_type": "execute_result"
    }
   ],
   "source": [
    "import math\n",
    "math.ceil"
   ]
  },
  {
   "cell_type": "code",
   "execution_count": 3,
   "id": "e743b436-4368-40ef-89a1-e6883b4db66f",
   "metadata": {},
   "outputs": [
    {
     "name": "stdout",
     "output_type": "stream",
     "text": [
      "Help on method choice in module random:\n",
      "\n",
      "choice(seq) method of random.Random instance\n",
      "    Choose a random element from a non-empty sequence.\n",
      "\n"
     ]
    }
   ],
   "source": [
    "help(random.choice)"
   ]
  },
  {
   "cell_type": "code",
   "execution_count": 4,
   "id": "a4c97734-1ca6-4f4a-98af-abbb34f1d44c",
   "metadata": {},
   "outputs": [
    {
     "data": {
      "text/plain": [
       "'C'"
      ]
     },
     "execution_count": 4,
     "metadata": {},
     "output_type": "execute_result"
    }
   ],
   "source": [
    "random.choice(['A','B','C'])"
   ]
  },
  {
   "cell_type": "code",
   "execution_count": 5,
   "id": "7f4bb83f-0b8d-4383-bd66-70f788274d7c",
   "metadata": {},
   "outputs": [
    {
     "name": "stdout",
     "output_type": "stream",
     "text": [
      "Help on method sample in module random:\n",
      "\n",
      "sample(population, k, *, counts=None) method of random.Random instance\n",
      "    Chooses k unique random elements from a population sequence.\n",
      "\n",
      "    Returns a new list containing elements from the population while\n",
      "    leaving the original population unchanged.  The resulting list is\n",
      "    in selection order so that all sub-slices will also be valid random\n",
      "    samples.  This allows raffle winners (the sample) to be partitioned\n",
      "    into grand prize and second place winners (the subslices).\n",
      "\n",
      "    Members of the population need not be hashable or unique.  If the\n",
      "    population contains repeats, then each occurrence is a possible\n",
      "    selection in the sample.\n",
      "\n",
      "    Repeated elements can be specified one at a time or with the optional\n",
      "    counts parameter.  For example:\n",
      "\n",
      "        sample(['red', 'blue'], counts=[4, 2], k=5)\n",
      "\n",
      "    is equivalent to:\n",
      "\n",
      "        sample(['red', 'red', 'red', 'red', 'blue', 'blue'], k=5)\n",
      "\n",
      "    To choose a sample from a range of integers, use range() for the\n",
      "    population argument.  This is especially fast and space efficient\n",
      "    for sampling from a large population:\n",
      "\n",
      "        sample(range(10000000), 60)\n",
      "\n"
     ]
    }
   ],
   "source": [
    "help(random.sample)"
   ]
  },
  {
   "cell_type": "code",
   "execution_count": 6,
   "id": "a2af2e71-1e9a-4af9-9f1d-4be9eb7b9725",
   "metadata": {},
   "outputs": [
    {
     "data": {
      "text/plain": [
       "['red', 'blue', 'blue']"
      ]
     },
     "execution_count": 6,
     "metadata": {},
     "output_type": "execute_result"
    }
   ],
   "source": [
    "random.sample(['red','red','red','red','blue','blue'],k=3)"
   ]
  },
  {
   "cell_type": "code",
   "execution_count": 7,
   "id": "03b4986e-c4f8-4b3a-8e43-4eee0bdc5aab",
   "metadata": {},
   "outputs": [
    {
     "name": "stdout",
     "output_type": "stream",
     "text": [
      "hai\n"
     ]
    }
   ],
   "source": [
    "import time\n",
    "time.sleep(5)\n",
    "print('hai')"
   ]
  },
  {
   "cell_type": "code",
   "execution_count": null,
   "id": "32f6d5c5-2f83-4519-bfe8-4658df1915a5",
   "metadata": {},
   "outputs": [],
   "source": [
    "some time we need to check how much time is taking to execute the code lines\n",
    "time.time()   hyd    10am\n",
    "time.time()   delhi  6pm next"
   ]
  },
  {
   "cell_type": "code",
   "execution_count": 8,
   "id": "2aa11da2-7c7c-4df5-a401-775b982e74d8",
   "metadata": {},
   "outputs": [
    {
     "name": "stdout",
     "output_type": "stream",
     "text": [
      "5.0006773471832275\n"
     ]
    }
   ],
   "source": [
    "start=time.time()\n",
    "time.sleep(5)\n",
    "end=time.time()\n",
    "print(end-start)"
   ]
  },
  {
   "cell_type": "code",
   "execution_count": 9,
   "id": "f23a7706-2b71-4385-815e-8eb4efd33b5c",
   "metadata": {},
   "outputs": [
    {
     "data": {
      "text/plain": [
       "4"
      ]
     },
     "execution_count": 9,
     "metadata": {},
     "output_type": "execute_result"
    }
   ],
   "source": [
    "import random\n",
    "random.randint(1,10)"
   ]
  },
  {
   "cell_type": "code",
   "execution_count": 10,
   "id": "0a661518-2d44-4f5c-8bf4-54e4931c96f1",
   "metadata": {},
   "outputs": [
    {
     "data": {
      "text/plain": [
       "1"
      ]
     },
     "execution_count": 10,
     "metadata": {},
     "output_type": "execute_result"
    }
   ],
   "source": [
    "from random import randint\n",
    "randint(1,10)"
   ]
  },
  {
   "cell_type": "code",
   "execution_count": 11,
   "id": "d6b72950-e8fa-4714-a5b3-a784dbbd40c7",
   "metadata": {},
   "outputs": [
    {
     "data": {
      "text/plain": [
       "5.0"
      ]
     },
     "execution_count": 11,
     "metadata": {},
     "output_type": "execute_result"
    }
   ],
   "source": [
    "import math\n",
    "math.sqrt(25)"
   ]
  },
  {
   "cell_type": "code",
   "execution_count": 12,
   "id": "25a8b3fc-e544-472f-9129-1843997d0bba",
   "metadata": {},
   "outputs": [
    {
     "data": {
      "text/plain": [
       "5.0"
      ]
     },
     "execution_count": 12,
     "metadata": {},
     "output_type": "execute_result"
    }
   ],
   "source": [
    "from math import sqrt\n",
    "sqrt(25)"
   ]
  },
  {
   "cell_type": "code",
   "execution_count": 10,
   "id": "ba7e9761-8aad-4837-aba3-caf511000ae0",
   "metadata": {},
   "outputs": [
    {
     "data": {
      "text/plain": [
       "9"
      ]
     },
     "execution_count": 10,
     "metadata": {},
     "output_type": "execute_result"
    }
   ],
   "source": [
    "from random import randint as rt\n",
    "rt(1,10)"
   ]
  },
  {
   "cell_type": "code",
   "execution_count": 9,
   "id": "e012b6bb-aac4-400a-b149-7d2b9ef5ee4b",
   "metadata": {},
   "outputs": [],
   "source": [
    "import random\n",
    "random.randint(1,10)\n",
    "\n",
    "from random import randint\n",
    "randint(1,10)\n",
    "\n",
    "from random import randint as rt\n",
    "rt(1,10)"
   ]
  },
  {
   "cell_type": "code",
   "execution_count": 14,
   "id": "aa500752-7fc5-4883-b18e-69288333f29e",
   "metadata": {},
   "outputs": [],
   "source": [
    "import cv2  # coputer vision"
   ]
  },
  {
   "cell_type": "code",
   "execution_count": 1,
   "id": "42a5e642-9c73-4bd5-924c-c712b87ad2d2",
   "metadata": {},
   "outputs": [],
   "source": [
    "import wordcloud  # pasting the words on the cloud"
   ]
  },
  {
   "cell_type": "markdown",
   "id": "8241c938-a3f3-405a-9473-590e81a0ba48",
   "metadata": {},
   "source": [
    "**module not found error**\n",
    "\n",
    "- whenever packages are not there we need to install\n",
    "\n",
    "- 90% the install name and import name both are same\n",
    "\n",
    "- always reference as pypi.org\n",
    "\n",
    "- syntax is : pip install packagename\n",
    "\n",
    "    - pip install wordcloud\n",
    "\n",
    "    - pip install cv2(we are not sure)\n",
    "\n",
    "- we can install the packages in **anaconda prompt**\n",
    "\n",
    "- or we can install inside jupyter notebook (not recomended)\n",
    "\n",
    "- inorder to install the packages we need internet\n",
    "\n",
    "- if internet not sufficient or not available the will get http error"
   ]
  },
  {
   "cell_type": "code",
   "execution_count": 2,
   "id": "c8523e12-cc09-40f3-9f7b-cc9671d38c69",
   "metadata": {},
   "outputs": [],
   "source": [
    "import wordcloud"
   ]
  },
  {
   "cell_type": "code",
   "execution_count": 3,
   "id": "3c4a6826-327f-4b21-be9a-a79d9ad56dc9",
   "metadata": {},
   "outputs": [
    {
     "name": "stdout",
     "output_type": "stream",
     "text": [
      "Requirement already satisfied: opencv-python in c:\\users\\mdafroze\\anaconda3\\lib\\site-packages (4.11.0.86)\n",
      "Requirement already satisfied: numpy>=1.21.2 in c:\\users\\mdafroze\\anaconda3\\lib\\site-packages (from opencv-python) (1.26.4)\n",
      "Note: you may need to restart the kernel to use updated packages.\n"
     ]
    }
   ],
   "source": [
    "pip install opencv-python"
   ]
  },
  {
   "cell_type": "code",
   "execution_count": null,
   "id": "b51cb66c-983f-4b2c-b47f-3fb0a98a9f6e",
   "metadata": {},
   "outputs": [],
   "source": [
    "# if you are getting error in jupiter notebook\n",
    "# add ! mark\n",
    "\n",
    "!pip install opencv-python"
   ]
  },
  {
   "cell_type": "code",
   "execution_count": 4,
   "id": "c2219ffd-f58b-4873-9040-47479bdff17b",
   "metadata": {},
   "outputs": [
    {
     "name": "stdout",
     "output_type": "stream",
     "text": [
      "aiobotocore @ file:///C:/b/abs_a0zxrsvpwx/croot/aiobotocore_1714464454692/work\n",
      "aiohappyeyeballs @ file:///C:/b/abs_b505trsapr/croot/aiohappyeyeballs_1725434036096/work\n",
      "aiohttp @ file:///C:/b/abs_13j6efxjb7/croot/aiohttp_1725529348885/work\n",
      "aioitertools @ file:///tmp/build/80754af9/aioitertools_1607109665762/work\n",
      "aiosignal @ file:///tmp/build/80754af9/aiosignal_1637843061372/work\n",
      "alabaster @ file:///C:/b/abs_45ba4vacaj/croot/alabaster_1718201502252/work\n",
      "altair @ file:///C:/Users/dev-admin/perseverance-python-buildout/croot/altair_1699497320503/work\n",
      "anaconda-anon-usage @ file:///C:/b/abs_c3w_h1zzjg/croot/anaconda-anon-usage_1710965204622/work\n",
      "anaconda-catalogs @ file:///C:/Users/dev-admin/perseverance-python-buildout/croot/anaconda-catalogs_1701816586117/work\n",
      "anaconda-client @ file:///C:/b/abs_34txutm0ue/croot/anaconda-client_1708640705294/work\n",
      "anaconda-cloud-auth @ file:///C:/b/abs_b02evi84gh/croot/anaconda-cloud-auth_1713991445770/work\n",
      "anaconda-navigator @ file:///C:/b/abs_a5gzce6vy0/croot/anaconda-navigator_1727709729163/work\n",
      "anaconda-project @ file:///C:/b/abs_95s0l9dwvd/croot/anaconda-project_1706049257687/work\n",
      "annotated-types @ file:///C:/b/abs_0dmaoyhhj3/croot/annotated-types_1709542968311/work\n",
      "anyio @ file:///C:/b/abs_847uobe7ea/croot/anyio_1706220224037/work\n",
      "appdirs==1.4.4\n",
      "archspec @ file:///croot/archspec_1709217642129/work\n",
      "argon2-cffi @ file:///opt/conda/conda-bld/argon2-cffi_1645000214183/work\n",
      "argon2-cffi-bindings @ file:///C:/Users/dev-admin/perseverance-python-buildout/croot/argon2-cffi-bindings_1699549801117/work\n",
      "arrow @ file:///C:/Users/dev-admin/perseverance-python-buildout/croot/arrow_1699549851004/work\n",
      "astroid @ file:///C:/Users/dev-admin/perseverance-python-buildout/croot/astroid_1699480418189/work\n",
      "astropy @ file:///C:/b/abs_5egnt0gyqe/croot/astropy_1726174619184/work\n",
      "astropy-iers-data @ file:///C:/b/abs_ecdfv0_ea2/croot/astropy-iers-data_1726000550777/work\n",
      "asttokens==2.4.1\n",
      "async-lru @ file:///C:/Users/dev-admin/perseverance-python-buildout/croot/async-lru_1701796859357/work\n",
      "atomicwrites==1.4.0\n",
      "attrs @ file:///C:/Users/dev-admin/perseverance-python-buildout/croot/attrs_1699473735254/work\n",
      "Automat @ file:///tmp/build/80754af9/automat_1600298431173/work\n",
      "autopep8 @ file:///croot/autopep8_1708962882016/work\n",
      "Babel @ file:///C:/Users/dev-admin/perseverance-python-buildout/croot/babel_1699475785740/work\n",
      "bcrypt @ file:///C:/Users/dev-admin/perseverance-python-buildout/croot/bcrypt_1699483842258/work\n",
      "beautifulsoup4 @ file:///C:/b/abs_d5wytg_p0w/croot/beautifulsoup4-split_1718029833749/work\n",
      "binaryornot @ file:///tmp/build/80754af9/binaryornot_1617751525010/work\n",
      "black @ file:///C:/b/abs_3arhghl9_x/croot/black_1725573890945/work\n",
      "bleach @ file:///opt/conda/conda-bld/bleach_1641577558959/work\n",
      "blinker @ file:///C:/Users/dev-admin/perseverance-python-buildout/croot/blinker_1699474692786/work\n",
      "bokeh @ file:///C:/b/abs_b40zi4jp_s/croot/bokeh_1727914495891/work\n",
      "boltons @ file:///C:/Users/dev-admin/perseverance-python-buildout/croot/boltons_1699480450092/work\n",
      "botocore @ file:///C:/b/abs_0dkeqep0ox/croot/botocore_1714460586193/work\n",
      "Bottleneck @ file:///C:/b/abs_f7un855idq/croot/bottleneck_1709069969633/work\n",
      "Brotli @ file:///C:/b/abs_3d36mno480/croot/brotli-split_1714483178642/work\n",
      "cachetools @ file:///C:/b/abs_792zbtc0ua/croot/cachetools_1713977157919/work\n",
      "certifi @ file:///C:/b/abs_1fw_exq1si/croot/certifi_1725551736618/work/certifi\n",
      "cffi @ file:///C:/b/abs_90yq4lmu83/croot/cffi_1726856448345/work\n",
      "chardet @ file:///C:/Users/dev-admin/perseverance-python-buildout/croot/chardet_1699498892802/work\n",
      "charset-normalizer @ file:///croot/charset-normalizer_1721748349566/work\n",
      "click @ file:///C:/Users/dev-admin/perseverance-python-buildout/croot/click_1699473800648/work\n",
      "cloudpickle @ file:///C:/b/abs_8abv3sva4p/croot/cloudpickle_1721657372632/work\n",
      "colorama @ file:///C:/Users/dev-admin/perseverance-python-buildout/croot/colorama_1699472650914/work\n",
      "colorcet @ file:///C:/b/abs_7ep0mfawez/croot/colorcet_1709758405232/work\n",
      "comm==0.2.2\n",
      "conda @ file:///C:/b/abs_85jnuwc__u/croot/conda_1729193917673/work\n",
      "conda-build @ file:///C:/b/abs_afd1hjce19/croot/conda-build_1726839930400/work\n",
      "conda-content-trust @ file:///C:/b/abs_bdfatn_wzf/croot/conda-content-trust_1714483201909/work\n",
      "conda-libmamba-solver @ file:///croot/conda-libmamba-solver_1727775630457/work/src\n",
      "conda-pack @ file:///C:/b/abs_0cu91sbau5/croot/conda-pack_1710258097566/work\n",
      "conda-package-handling @ file:///C:/b/abs_831_pypuuz/croot/conda-package-handling_1718138287790/work\n",
      "conda-repo-cli @ file:///C:/b/abs_67rnnns_lt/croot/conda-repo-cli_1727366919559/work\n",
      "conda-token @ file:///croot/conda-token_1718995751285/work\n",
      "conda_index @ file:///C:/b/abs_45v3w98im_/croot/conda-index_1719338245731/work\n",
      "conda_package_streaming @ file:///C:/b/abs_fe6zb0_j8_/croot/conda-package-streaming_1718136098642/work\n",
      "constantly @ file:///C:/b/abs_cbuavw4443/croot/constantly_1703165617403/work\n",
      "contourpy @ file:///C:/Users/dev-admin/perseverance-python-buildout/croot/contourpy_1701817388761/work\n",
      "cookiecutter @ file:///C:/b/abs_66untpu1ub/croot/cookiecutter_1711059869779/work\n",
      "cryptography @ file:///C:/b/abs_35g500qir4/croot/cryptography_1724940575116/work\n",
      "cssselect @ file:///C:/b/abs_71gnjab7b0/croot/cssselect_1707339955530/work\n",
      "cycler @ file:///tmp/build/80754af9/cycler_1637851556182/work\n",
      "cytoolz @ file:///C:/b/abs_d43s8lnb60/croot/cytoolz_1701723636699/work\n",
      "dask @ file:///C:/b/abs_12bk4i_z1j/croot/dask-core_1725464350376/work\n",
      "dask-expr @ file:///C:/b/abs_d8e1rqubql/croot/dask-expr_1725523012670/work\n",
      "datashader @ file:///C:/b/abs_37m05texdf/croot/datashader_1720534925330/work\n",
      "debugpy==1.8.1\n",
      "decorator==5.1.1\n",
      "defusedxml @ file:///tmp/build/80754af9/defusedxml_1615228127516/work\n",
      "diff-match-patch @ file:///Users/ktietz/demo/mc3/conda-bld/diff-match-patch_1630511840874/work\n",
      "dill @ file:///C:/b/abs_f79eg27d2q/croot/dill_1715094735295/work\n",
      "distributed @ file:///C:/b/abs_52ju83vjqr/croot/distributed_1725523030746/work\n",
      "distro @ file:///C:/b/abs_71xr36ua5r/croot/distro_1714488282676/work\n",
      "docstring-to-markdown @ file:///C:/Users/dev-admin/perseverance-python-buildout/croot/docstring-to-markdown_1699484265167/work\n",
      "docutils @ file:///C:/Users/dev-admin/perseverance-python-buildout/croot/docutils_1699474820579/work\n",
      "et-xmlfile @ file:///C:/Users/dev-admin/perseverance-python-buildout/croot/et_xmlfile_1699500373144/work\n",
      "executing==2.0.1\n",
      "fastjsonschema @ file:///C:/Users/dev-admin/perseverance-python-buildout/croot/python-fastjsonschema_1699475134300/work\n",
      "filelock @ file:///C:/Users/dev-admin/perseverance-python-buildout/croot/filelock_1701807523603/work\n",
      "flake8 @ file:///C:/b/abs_caud66drfv/croot/flake8_1708965316778/work\n",
      "Flask @ file:///C:/b/abs_f9w7doyu0h/croot/flask_1716545924884/work\n",
      "fonttools @ file:///C:/b/abs_f47gnfqnx0/croot/fonttools_1713551644747/work\n",
      "frozendict @ file:///C:/b/abs_2alamqss6p/croot/frozendict_1713194885124/work\n",
      "frozenlist @ file:///C:/Users/dev-admin/perseverance-python-buildout/croot/frozenlist_1699557027827/work\n",
      "fsspec @ file:///C:/b/abs_02vh2bpxfo/croot/fsspec_1724855601370/work\n",
      "gensim @ file:///C:/b/abs_efsh9stgvi/croot/gensim_1725376635600/work\n",
      "gitdb @ file:///tmp/build/80754af9/gitdb_1617117951232/work\n",
      "GitPython @ file:///C:/b/abs_2bkslnqz4i/croot/gitpython_1720455044865/work\n",
      "greenlet @ file:///C:/b/abs_a6c75ie0bc/croot/greenlet_1702060012174/work\n",
      "h11 @ file:///C:/b/abs_1czwoyexjf/croot/h11_1706652332846/work\n",
      "h5py @ file:///C:/b/abs_c4ha_1xv14/croot/h5py_1715094776210/work\n",
      "HeapDict @ file:///Users/ktietz/demo/mc3/conda-bld/heapdict_1630598515714/work\n",
      "holoviews @ file:///C:/b/abs_5f962ukrbq/croot/holoviews_1720534381286/work\n",
      "httpcore @ file:///C:/b/abs_55n7g233bw/croot/httpcore_1706728507241/work\n",
      "httpx @ file:///C:/b/abs_43e135shby/croot/httpx_1723474830126/work\n",
      "hvplot @ file:///C:/b/abs_b05v45vms6/croot/hvplot_1727775587313/work\n",
      "hyperlink @ file:///tmp/build/80754af9/hyperlink_1610130746837/work\n",
      "idna @ file:///C:/b/abs_aad84bnnw5/croot/idna_1714398896795/work\n",
      "imagecodecs @ file:///C:/Users/dev-admin/perseverance-python-buildout/croot/imagecodecs_1699481498787/work\n",
      "imageio @ file:///C:/b/abs_aeqerw_nps/croot/imageio_1707247365204/work\n",
      "imagesize @ file:///C:/Users/dev-admin/perseverance-python-buildout/croot/imagesize_1699476341924/work\n",
      "imbalanced-learn @ file:///C:/b/abs_43zx11b5ex/croot/imbalanced-learn_1718132243956/work\n",
      "importlib-metadata @ file:///C:/b/abs_c1egths604/croot/importlib_metadata-suite_1704813568388/work\n",
      "incremental @ file:///croot/incremental_1708639938299/work\n",
      "inflection @ file:///C:/Users/dev-admin/perseverance-python-buildout/croot/inflection_1699500974258/work\n",
      "iniconfig @ file:///home/linux1/recipes/ci/iniconfig_1610983019677/work\n",
      "intake @ file:///C:/b/abs_ebww2no2x2/croot/intake_1726109581477/work\n",
      "intervaltree @ file:///Users/ktietz/demo/mc3/conda-bld/intervaltree_1630511889664/work\n",
      "ipykernel==6.29.4\n",
      "ipython==8.24.0\n",
      "ipython-genutils @ file:///tmp/build/80754af9/ipython_genutils_1606773439826/work\n",
      "ipywidgets @ file:///C:/b/abs_4fgmepzmbu/croot/ipywidgets_1710961556913/work\n",
      "isort @ file:///C:/b/abs_50iy840e4z/croot/isort_1718291849200/work\n",
      "itemadapter @ file:///tmp/build/80754af9/itemadapter_1626442940632/work\n",
      "itemloaders @ file:///C:/b/abs_5e3azgv25z/croot/itemloaders_1708639993442/work\n",
      "itsdangerous @ file:///C:/b/abs_c4vwgdr5yn/croot/itsdangerous_1716533399914/work\n",
      "jaraco.classes @ file:///tmp/build/80754af9/jaraco.classes_1620983179379/work\n",
      "jedi==0.19.1\n",
      "jellyfish @ file:///C:/Users/dev-admin/perseverance-python-buildout/croot/jellyfish_1699558116601/work\n",
      "Jinja2 @ file:///C:/b/abs_92fccttino/croot/jinja2_1716993447201/work\n",
      "jmespath @ file:///C:/Users/dev-admin/perseverance-python-buildout/croot/jmespath_1701807551985/work\n",
      "joblib @ file:///C:/b/abs_f4b98l6lgk/croot/joblib_1718217224240/work\n",
      "json5 @ file:///tmp/build/80754af9/json5_1624432770122/work\n",
      "jsonpatch @ file:///C:/b/abs_4fdm88t7zi/croot/jsonpatch_1714483974578/work\n",
      "jsonpointer==2.1\n",
      "jsonschema @ file:///C:/b/abs_394_t6__xq/croot/jsonschema_1728486718320/work\n",
      "jsonschema-specifications @ file:///C:/Users/dev-admin/py312/jsonschema-specifications_1706803038066/work\n",
      "jupyter @ file:///C:/b/abs_03nm7xrhxz/croot/jupyter_1709837239940/work\n",
      "jupyter-console @ file:///C:/Users/dev-admin/perseverance-python-buildout/croot/jupyter_console_1707430148515/work\n",
      "jupyter-events @ file:///C:/b/abs_c2m9s5b5m5/croot/jupyter_events_1718738115254/work\n",
      "jupyter-lsp @ file:///C:/Users/dev-admin/perseverance-python-buildout/croot/jupyter-lsp-meta_1701806528286/work\n",
      "jupyter_client==8.6.2\n",
      "jupyter_core==5.7.2\n",
      "jupyter_server @ file:///C:/b/abs_9a333nh6yu/croot/jupyter_server_1718827092223/work\n",
      "jupyter_server_terminals @ file:///C:/Users/dev-admin/perseverance-python-buildout/croot/jupyter_server_terminals_1701798041635/work\n",
      "jupyterlab @ file:///C:/b/abs_88qjk9lo2r/croot/jupyterlab_1725895228333/work\n",
      "jupyterlab-pygments @ file:///tmp/build/80754af9/jupyterlab_pygments_1601490720602/work\n",
      "jupyterlab-widgets @ file:///tmp/build/80754af9/jupyterlab_widgets_1609884341231/work\n",
      "jupyterlab_server @ file:///C:/b/abs_fdi5r_tpjc/croot/jupyterlab_server_1725865372811/work\n",
      "keyring @ file:///C:/b/abs_78uoj9sw00/croot/keyring_1709632550180/work\n",
      "kiwisolver @ file:///C:/Users/dev-admin/perseverance-python-buildout/croot/kiwisolver_1699476425777/work\n",
      "lazy-object-proxy @ file:///C:/b/abs_19td_nzb6n/croot/lazy-object-proxy_1712908735070/work\n",
      "lazy_loader @ file:///C:/b/abs_3fs2i5w5p3/croot/lazy_loader_1718176758844/work\n",
      "lckr_jupyterlab_variableinspector @ file:///C:/Users/dev-admin/perseverance-python-buildout/croot/jupyterlab-variableinspector_1709167201477/work\n",
      "libarchive-c @ file:///croot/python-libarchive-c_1726069797193/work\n",
      "libmambapy @ file:///C:/b/abs_aam1usey89/croot/mamba-split_1725563515831/work/libmambapy\n",
      "linkify-it-py @ file:///C:/Users/dev-admin/perseverance-python-buildout/croot/linkify-it-py_1699558957411/work\n",
      "llvmlite @ file:///C:/b/abs_80rinyr2fr/croot/llvmlite_1720455223586/work\n",
      "lmdb @ file:///C:/Users/dev-admin/perseverance-python-buildout/croot/python-lmdb_1699495888630/work\n",
      "locket @ file:///C:/Users/dev-admin/perseverance-python-buildout/croot/locket_1699476508014/work\n",
      "lxml==5.2.1\n",
      "lz4 @ file:///C:/Users/dev-admin/perseverance-python-buildout/croot/lz4_1699559532268/work\n",
      "Markdown @ file:///C:/Users/dev-admin/perseverance-python-buildout/croot/markdown_1699503092856/work\n",
      "markdown-it-py @ file:///C:/Users/dev-admin/perseverance-python-buildout/croot/markdown-it-py_1699473886965/work\n",
      "MarkupSafe @ file:///C:/Users/dev-admin/perseverance-python-buildout/croot/markupsafe_1707425732791/work\n",
      "matplotlib==3.9.2\n",
      "matplotlib-inline==0.1.7\n",
      "mccabe @ file:///opt/conda/conda-bld/mccabe_1644221741721/work\n",
      "mdit-py-plugins @ file:///C:/Users/dev-admin/perseverance-python-buildout/croot/mdit-py-plugins_1699559788389/work\n",
      "mdurl @ file:///C:/Users/dev-admin/perseverance-python-buildout/croot/mdurl_1699473506455/work\n",
      "menuinst @ file:///C:/b/abs_76jwd47ck1/croot/menuinst_1723567618942/work\n",
      "mistune @ file:///C:/Users/dev-admin/perseverance-python-buildout/croot/mistune_1699559923704/work\n",
      "mkl-service==2.4.0\n",
      "mkl_fft @ file:///C:/b/abs_f55mv94vyg/croot/mkl_fft_1725370278455/work\n",
      "mkl_random @ file:///C:/b/abs_21ydbzdu8d/croot/mkl_random_1725370276095/work\n",
      "more-itertools @ file:///C:/b/abs_a2n4mhb8gn/croot/more-itertools_1727185463826/work\n",
      "mpmath @ file:///C:/Users/dev-admin/perseverance-python-buildout/croot/mpmath_1699484863771/work\n",
      "msgpack @ file:///C:/Users/dev-admin/perseverance-python-buildout/croot/msgpack-python_1699473924872/work\n",
      "multidict @ file:///C:/b/abs_44ido987fv/croot/multidict_1701097803486/work\n",
      "multipledispatch @ file:///C:/Users/dev-admin/perseverance-python-buildout/croot/multipledispatch_1699473951974/work\n",
      "mypy @ file:///C:/b/abs_b8k0j63oc7/croot/mypy-split_1725574346532/work\n",
      "mypy-extensions @ file:///C:/Users/dev-admin/perseverance-python-buildout/croot/mypy_extensions_1699482634516/work\n",
      "navigator-updater @ file:///C:/b/abs_22_3uaq2ey/croot/navigator-updater_1718030405023/work\n",
      "nbclient @ file:///C:/Users/dev-admin/perseverance-python-buildout/croot/nbclient_1701796752236/work\n",
      "nbconvert @ file:///C:/b/abs_ac6qnzi3no/croot/nbconvert_1728050663985/work\n",
      "nbformat @ file:///C:/b/abs_c2jkw46etm/croot/nbformat_1728050303821/work\n",
      "nest-asyncio==1.6.0\n",
      "networkx @ file:///C:/b/abs_36fmumtynt/croot/networkx_1720002497414/work\n",
      "nltk @ file:///C:/b/abs_3e10flry37/croot/nltk_1724427703710/work\n",
      "notebook @ file:///C:/b/abs_feeub5ouq6/croot/notebook_1727197380211/work\n",
      "notebook_shim @ file:///C:/Users/dev-admin/perseverance-python-buildout/croot/notebook-shim_1701806592322/work\n",
      "numba @ file:///C:/b/abs_51yyu3qucu/croot/numba_1720540987599/work\n",
      "numexpr @ file:///C:/Users/dev-admin/perseverance-python-buildout/croot/numexpr_1699503421264/work\n",
      "numpy @ file:///C:/b/abs_c1ywpu18ar/croot/numpy_and_numpy_base_1708638681471/work/dist/numpy-1.26.4-cp312-cp312-win_amd64.whl#sha256=becc06674317799ad0165a939a7613809d0bee9bd328a1e4308c57c39cacf08c\n",
      "numpydoc @ file:///C:/b/abs_bbspp5l8vu/croot/numpydoc_1718279185573/work\n",
      "opencv-python==4.11.0.86\n",
      "openpyxl @ file:///C:/b/abs_0e6ca21lac/croot/openpyxl_1721752965859/work\n",
      "overrides @ file:///C:/Users/dev-admin/perseverance-python-buildout/croot/overrides_1701806336503/work\n",
      "packaging @ file:///C:/b/abs_c3vlh0z4jw/croot/packaging_1720101866539/work\n",
      "pandas @ file:///C:/b/abs_9aotnvvz16/croot/pandas_1718308978393/work/dist/pandas-2.2.2-cp312-cp312-win_amd64.whl#sha256=93959056e02e9855025011adb18394296a58d49e72b9342733b7693a5267c790\n",
      "pandocfilters @ file:///opt/conda/conda-bld/pandocfilters_1643405455980/work\n",
      "panel @ file:///C:/b/abs_fas2lxv_bs/croot/panel_1728066386547/work\n",
      "param @ file:///C:/b/abs_b4yato0oux/croot/param_1719347953072/work\n",
      "paramiko @ file:///opt/conda/conda-bld/paramiko_1640109032755/work\n",
      "parsel @ file:///C:/b/abs_ebc3tzm_c4/croot/parsel_1707503517596/work\n",
      "parso==0.8.4\n",
      "partd @ file:///C:/Users/dev-admin/perseverance-python-buildout/croot/partd_1699482661603/work\n",
      "pathspec @ file:///C:/Users/dev-admin/perseverance-python-buildout/croot/pathspec_1699472481068/work\n",
      "patsy @ file:///C:/b/abs_21hy_wyj13/croot/patsy_1718378184379/work\n",
      "pexpect @ file:///tmp/build/80754af9/pexpect_1605563209008/work\n",
      "pickleshare @ file:///tmp/build/80754af9/pickleshare_1606932040724/work\n",
      "pillow @ file:///C:/b/abs_32o8er3uqp/croot/pillow_1721059447598/work\n",
      "pkce @ file:///C:/Users/dev-admin/perseverance-python-buildout/croot/pkce_1699482718905/work\n",
      "pkginfo @ file:///C:/b/abs_bciypal17m/croot/pkginfo_1715696027839/work\n",
      "platformdirs==4.2.2\n",
      "plotly @ file:///C:/b/abs_1014knmz1t/croot/plotly_1726245573566/work\n",
      "pluggy @ file:///C:/Users/dev-admin/perseverance-python-buildout/croot/pluggy_1699472504117/work\n",
      "ply @ file:///C:/Users/dev-admin/perseverance-python-buildout/croot/ply_1699473999871/work\n",
      "prometheus-client @ file:///C:/Users/dev-admin/perseverance-python-buildout/croot/prometheus_client_1699495496669/work\n",
      "prompt_toolkit==3.0.44\n",
      "Protego @ file:///tmp/build/80754af9/protego_1598657180827/work\n",
      "protobuf==4.25.3\n",
      "psutil==5.9.8\n",
      "ptyprocess @ file:///tmp/build/80754af9/ptyprocess_1609355006118/work/dist/ptyprocess-0.7.0-py2.py3-none-any.whl\n",
      "pure-eval==0.2.2\n",
      "py-cpuinfo @ file:///C:/Users/dev-admin/perseverance-python-buildout/croot/py-cpuinfo_1699495567147/work\n",
      "pyarrow @ file:///C:/b/abs_cbc4sg_1e0/croot/pyarrow_1721664257308/work/python\n",
      "pyasn1 @ file:///Users/ktietz/demo/mc3/conda-bld/pyasn1_1629708007385/work\n",
      "pyasn1-modules==0.2.8\n",
      "pycodestyle @ file:///C:/b/abs_e9pt4mahct/croot/pycodestyle_1701910643139/work\n",
      "pycosat @ file:///C:/b/abs_5csdern___/croot/pycosat_1714513102923/work\n",
      "pycparser @ file:///tmp/build/80754af9/pycparser_1636541352034/work\n",
      "pyct @ file:///C:/Users/dev-admin/perseverance-python-buildout/croot/pyct_1699542988857/work\n",
      "pycurl @ file:///C:/b/abs_2bemyov07c/croot/pycurl_1725370252605/work\n",
      "pydantic @ file:///C:/b/abs_b7acb4hnl_/croot/pydantic_1725040540545/work\n",
      "pydantic_core @ file:///C:/b/abs_3ax4s6v28p/croot/pydantic-core_1724790490828/work\n",
      "pydeck @ file:///C:/b/abs_ad9p880wi1/croot/pydeck_1706194121328/work\n",
      "PyDispatcher @ file:///C:/Users/dev-admin/perseverance-python-buildout/croot/pydispatcher_1699543033434/work\n",
      "pydocstyle @ file:///C:/Users/dev-admin/perseverance-python-buildout/croot/pydocstyle_1699495611004/work\n",
      "pyerfa @ file:///C:/b/abs_477fivsfe8/croot/pyerfa_1717700768172/work\n",
      "pyflakes @ file:///C:/b/abs_b6t1aazq2e/croot/pyflakes_1708963020907/work\n",
      "Pygments @ file:///C:/Users/dev-admin/perseverance-python-buildout/croot/pygments_1699474141968/work\n",
      "PyJWT @ file:///C:/b/abs_04qhgo75wz/croot/pyjwt_1715095119685/work\n",
      "pylint @ file:///C:/Users/dev-admin/perseverance-python-buildout/croot/pylint_1699495689806/work\n",
      "pylint-venv @ file:///C:/b/abs_3f6p_17zia/croot/pylint-venv_1709837680309/work\n",
      "pyls-spyder==0.4.0\n",
      "PyNaCl @ file:///C:/Users/dev-admin/perseverance-python-buildout/croot/pynacl_1699563077212/work\n",
      "pyodbc @ file:///C:/b/abs_cbgr1yn8qs/croot/pyodbc_1725560257385/work\n",
      "pyOpenSSL @ file:///C:/b/abs_61vvbgrloc/croot/pyopenssl_1723651600236/work\n",
      "pyparsing @ file:///C:/b/abs_520r19rysg/croot/pyparsing_1725041656021/work\n",
      "PyQt5==5.15.10\n",
      "PyQt5-sip @ file:///C:/Users/dev-admin/perseverance-python-buildout/croot/pyqt-split_1699478669290/work/pyqt_sip\n",
      "PyQtWebEngine==5.15.6\n",
      "PySocks @ file:///C:/Users/dev-admin/perseverance-python-buildout/croot/pysocks_1699473336188/work\n",
      "pytest @ file:///C:/b/abs_een_3z747j/croot/pytest_1717793253670/work\n",
      "python-dateutil @ file:///C:/b/abs_3au_koqnbs/croot/python-dateutil_1716495777160/work\n",
      "python-dotenv @ file:///C:/Users/dev-admin/perseverance-python-buildout/croot/python-dotenv_1699475097728/work\n",
      "python-json-logger @ file:///C:/Users/dev-admin/perseverance-python-buildout/croot/python-json-logger_1699543626759/work\n",
      "python-lsp-black @ file:///C:/b/abs_5dhen_5vga/croot/python-lsp-black_1709232962589/work\n",
      "python-lsp-jsonrpc @ file:///croot/python-lsp-jsonrpc_1708962872556/work\n",
      "python-lsp-server @ file:///C:/b/abs_2cdyzvcq4z/croot/python-lsp-server_1708971796975/work\n",
      "python-slugify @ file:///tmp/build/80754af9/python-slugify_1620405669636/work\n",
      "pytoolconfig @ file:///C:/b/abs_f2j_xsvrpn/croot/pytoolconfig_1701728751207/work\n",
      "pytz @ file:///C:/b/abs_6ap4tsz1ox/croot/pytz_1713974360290/work\n",
      "pyviz_comms @ file:///C:/b/abs_674gfmqoxa/croot/pyviz_comms_1711136872853/work\n",
      "PyWavelets @ file:///C:/b/abs_95ujr8_xu1/croot/pywavelets_1725657962149/work\n",
      "pywin32==306\n",
      "pywin32-ctypes @ file:///C:/b/abs_2cfx5l4nvi/croot/pywin32-ctypes_1709340246092/work\n",
      "pywinpty @ file:///C:/Users/dev-admin/perseverance-python-buildout/croot/pywinpty_1699496010557/work/target/wheels/pywinpty-2.0.10-cp312-none-win_amd64.whl#sha256=227f3f94f568f63ab3418c02875c4b429a0a3638e1a2917a22bb8e4ba1762179\n",
      "PyYAML @ file:///C:/Users/dev-admin/perseverance-python-buildout/croot/pyyaml_1699479991712/work\n",
      "pyzmq==26.0.3\n",
      "QDarkStyle @ file:///croot/qdarkstyle_1709231003551/work\n",
      "qstylizer @ file:///C:/Users/dev-admin/perseverance-python-buildout/croot/qstylizer_1699565338341/work/dist/qstylizer-0.2.2-py2.py3-none-any.whl#sha256=be2f7d956d89710f13dee80f2d594e794c2710f12576fe60ecee84dd1ad72180\n",
      "QtAwesome @ file:///C:/b/abs_e1w2vmh9q7/croot/qtawesome_1726169367822/work\n",
      "qtconsole @ file:///C:/b/abs_03f8rg9vl6/croot/qtconsole_1709231218069/work\n",
      "QtPy @ file:///C:/Users/dev-admin/perseverance-python-buildout/croot/qtpy_1701807198514/work\n",
      "queuelib @ file:///C:/Users/dev-admin/perseverance-python-buildout/croot/queuelib_1699543858829/work\n",
      "referencing @ file:///C:/Users/dev-admin/py312/referencing_1706802962559/work\n",
      "regex @ file:///C:/b/abs_5cm86yjgo3/croot/regex_1726670543261/work\n",
      "requests @ file:///C:/b/abs_9frifg92q2/croot/requests_1721410901096/work\n",
      "requests-file @ file:///Users/ktietz/demo/mc3/conda-bld/requests-file_1629455781986/work\n",
      "requests-toolbelt @ file:///C:/Users/dev-admin/perseverance-python-buildout/croot/requests-toolbelt_1699475466775/work\n",
      "rfc3339-validator @ file:///C:/Users/dev-admin/perseverance-python-buildout/croot/rfc3339-validator_1699543924991/work\n",
      "rfc3986-validator @ file:///C:/Users/dev-admin/perseverance-python-buildout/croot/rfc3986-validator_1699543955651/work\n",
      "rich @ file:///C:/b/abs_21nw9z7xby/croot/rich_1720637504376/work\n",
      "rope @ file:///C:/b/abs_a4uy0nuc8z/croot/rope_1708963217026/work\n",
      "rpds-py @ file:///C:/Users/dev-admin/perseverance-python-buildout/croot/rpds-py_1699565648947/work\n",
      "Rtree @ file:///C:/Users/dev-admin/perseverance-python-buildout/croot/rtree_1699565751755/work\n",
      "ruamel-yaml-conda @ file:///C:/Users/dev-admin/perseverance-python-buildout/croot/ruamel_yaml_1699543990032/work\n",
      "ruamel.yaml @ file:///C:/b/abs_0cunwx_ww6/croot/ruamel.yaml_1727980181547/work\n",
      "ruamel.yaml.clib @ file:///C:/b/abs_5fk8zi6n09/croot/ruamel.yaml.clib_1727769837359/work\n",
      "s3fs @ file:///C:/b/abs_ddtjx92ddb/croot/s3fs_1724924140381/work\n",
      "scikit-image @ file:///C:/b/abs_85dh_ywewv/croot/scikit-image_1726762076100/work\n",
      "scikit-learn @ file:///C:/b/abs_aajc9f7v6r/croot/scikit-learn_1722067652693/work/dist/scikit_learn-1.5.1-cp312-cp312-win_amd64.whl#sha256=96ed6defb86c154d2ff360afdbf0c37c33c4c729d4a15c9d8ada0b70fd817816\n",
      "scipy @ file:///C:/b/abs_efv75hqhju/croot/scipy_1717521501389/work/dist/scipy-1.13.1-cp312-cp312-win_amd64.whl#sha256=b29dba691773ea983857b31cad894f31623348583937b6f03783facfd7abc734\n",
      "Scrapy @ file:///C:/b/abs_b407wrcuij/croot/scrapy_1708714755460/work\n",
      "seaborn @ file:///C:/b/abs_ca2mi1rgmn/croot/seaborn_1718303534355/work\n",
      "semver @ file:///C:/b/abs_4bkbn3v6jp/croot/semver_1709243682483/work\n",
      "Send2Trash @ file:///C:/Users/dev-admin/perseverance-python-buildout/croot/send2trash_1701806400767/work\n",
      "service-identity @ file:///Users/ktietz/demo/mc3/conda-bld/service_identity_1629460757137/work\n",
      "setuptools==75.1.0\n",
      "sip @ file:///C:/Users/dev-admin/perseverance-python-buildout/croot/sip_1699475590677/work\n",
      "six @ file:///tmp/build/80754af9/six_1644875935023/work\n",
      "smart-open @ file:///C:/Users/dev-admin/perseverance-python-buildout/croot/smart_open_1699483216058/work\n",
      "smmap @ file:///tmp/build/80754af9/smmap_1611694433573/work\n",
      "sniffio @ file:///C:/b/abs_3akdewudo_/croot/sniffio_1705431337396/work\n",
      "snowballstemmer @ file:///tmp/build/80754af9/snowballstemmer_1637937080595/work\n",
      "sortedcontainers @ file:///tmp/build/80754af9/sortedcontainers_1623949099177/work\n",
      "soupsieve @ file:///C:/Users/dev-admin/perseverance-python-buildout/croot/soupsieve_1699496611169/work\n",
      "Sphinx @ file:///C:/b/abs_67j2y1kkd0/croot/sphinx_1718275396111/work\n",
      "sphinxcontrib-applehelp @ file:///home/ktietz/src/ci/sphinxcontrib-applehelp_1611920841464/work\n",
      "sphinxcontrib-devhelp @ file:///home/ktietz/src/ci/sphinxcontrib-devhelp_1611920923094/work\n",
      "sphinxcontrib-htmlhelp @ file:///tmp/build/80754af9/sphinxcontrib-htmlhelp_1623945626792/work\n",
      "sphinxcontrib-jsmath @ file:///home/ktietz/src/ci/sphinxcontrib-jsmath_1611920942228/work\n",
      "sphinxcontrib-qthelp @ file:///home/ktietz/src/ci/sphinxcontrib-qthelp_1611921055322/work\n",
      "sphinxcontrib-serializinghtml @ file:///C:/b/abs_91266tdnkr/croot/sphinxcontrib-serializinghtml_1718201501959/work\n",
      "spyder @ file:///C:/b/abs_2f04kjngiv/croot/spyder_1727197291220/work\n",
      "spyder-kernels @ file:///C:/b/abs_e5u6y4ldr2/croot/spyder-kernels_1707937767956/work\n",
      "SQLAlchemy @ file:///C:/b/abs_7duxw5rxx8/croot/sqlalchemy_1725885067126/work\n",
      "stack-data==0.6.3\n",
      "statsmodels @ file:///C:/b/abs_54b33xdukx/croot/statsmodels_1718381209933/work\n",
      "streamlit @ file:///C:/b/abs_84p_54gim8/croot/streamlit_1724335176234/work\n",
      "sympy @ file:///C:/b/abs_4e4p71hdj_/croot/sympy_1724938208509/work\n",
      "tables @ file:///C:/b/abs_92un5wtnqq/croot/pytables_1725380800658/work\n",
      "tabulate @ file:///C:/Users/dev-admin/perseverance-python-buildout/croot/tabulate_1701812852133/work\n",
      "tblib @ file:///Users/ktietz/demo/mc3/conda-bld/tblib_1629402031467/work\n",
      "tenacity @ file:///C:/b/abs_d2_havtscu/croot/tenacity_1721222514290/work\n",
      "terminado @ file:///C:/Users/dev-admin/perseverance-python-buildout/croot/terminado_1699545066607/work\n",
      "text-unidecode @ file:///Users/ktietz/demo/mc3/conda-bld/text-unidecode_1629401354553/work\n",
      "textdistance @ file:///tmp/build/80754af9/textdistance_1612461398012/work\n",
      "threadpoolctl @ file:///C:/b/abs_def0dwqlft/croot/threadpoolctl_1719407816649/work\n",
      "three-merge @ file:///tmp/build/80754af9/three-merge_1607553261110/work\n",
      "tifffile @ file:///C:/Users/dev-admin/perseverance-python-buildout/croot/tifffile_1699496794322/work\n",
      "tinycss2 @ file:///C:/Users/dev-admin/perseverance-python-buildout/croot/tinycss2_1699545185754/work\n",
      "tldextract @ file:///C:/b/abs_34gknp7o18/croot/tldextract_1723064394448/work\n",
      "toml @ file:///tmp/build/80754af9/toml_1616166611790/work\n",
      "tomli @ file:///C:/Users/dev-admin/perseverance-python-buildout/croot/tomli_1699472528897/work\n",
      "tomlkit @ file:///C:/Users/dev-admin/perseverance-python-buildout/croot/tomlkit_1699475633229/work\n",
      "toolz @ file:///C:/Users/dev-admin/perseverance-python-buildout/croot/toolz_1699474617784/work\n",
      "tornado @ file:///C:/b/abs_7bua0304mj/croot/tornado_1718740122405/work\n",
      "tqdm @ file:///C:/b/abs_77wju137gk/croot/tqdm_1724853945787/work\n",
      "traitlets==5.14.3\n",
      "truststore @ file:///C:/Users/dev-admin/perseverance-python-buildout/croot/truststore_1701881385424/work\n",
      "Twisted @ file:///C:/b/abs_e7yqd811in/croot/twisted_1708702883769/work\n",
      "twisted-iocpsupport @ file:///C:/Users/dev-admin/perseverance-python-buildout/croot/twisted-iocpsupport_1699496891011/work\n",
      "typing_extensions @ file:///C:/b/abs_0as9mdbkfl/croot/typing_extensions_1715268906610/work\n",
      "tzdata @ file:///croot/python-tzdata_1690578112552/work\n",
      "uc-micro-py @ file:///C:/Users/dev-admin/perseverance-python-buildout/croot/uc-micro-py_1699545612984/work\n",
      "ujson @ file:///C:/b/abs_c93a278xy4/croot/ujson_1717598062082/work\n",
      "unicodedata2 @ file:///C:/b/abs_b6apldlg7y/croot/unicodedata2_1713212998255/work\n",
      "Unidecode @ file:///C:/b/abs_4cczv71djp/croot/unidecode_1724790062151/work\n",
      "urllib3 @ file:///C:/b/abs_9a_f8h_bn2/croot/urllib3_1727769836930/work\n",
      "w3lib @ file:///C:/Users/dev-admin/perseverance-python-buildout/croot/w3lib_1709162573908/work\n",
      "watchdog @ file:///C:/b/abs_b3l_3s276z/croot/watchdog_1717166538403/work\n",
      "wcwidth==0.2.13\n",
      "webencodings @ file:///C:/Users/dev-admin/perseverance-python-buildout/croot/webencodings_1699497069416/work\n",
      "websocket-client @ file:///C:/b/abs_5dmnxxoci9/croot/websocket-client_1715878351319/work\n",
      "Werkzeug @ file:///C:/b/abs_8bittcw9jr/croot/werkzeug_1716533366070/work\n",
      "whatthepatch @ file:///C:/Users/dev-admin/perseverance-python-buildout/croot/whatthepatch_1699497134590/work\n",
      "wheel==0.44.0\n",
      "widgetsnbextension @ file:///C:/b/abs_538o2crz7f/croot/widgetsnbextension_1710960099872/work\n",
      "win-inet-pton @ file:///C:/Users/dev-admin/perseverance-python-buildout/croot/win_inet_pton_1699472992992/work\n",
      "wordcloud==1.9.4\n",
      "wrapt @ file:///C:/Users/dev-admin/perseverance-python-buildout/croot/wrapt_1699480231633/work\n",
      "xarray @ file:///C:/Users/dev-admin/perseverance-python-buildout/croot/xarray_1699480274069/work\n",
      "xlwings @ file:///C:/b/abs_bc7ro1xk70/croot/xlwings_1725400109105/work\n",
      "xyzservices @ file:///C:/Users/dev-admin/perseverance-python-buildout/croot/xyzservices_1699548906163/work\n",
      "yapf @ file:///C:/b/abs_8aidayep18/croot/yapf_1708964372649/work\n",
      "yarl @ file:///C:/b/abs_00rcuicx5k/croot/yarl_1726015884215/work\n",
      "zict @ file:///C:/Users/dev-admin/perseverance-python-buildout/croot/zict_1699548979005/work\n",
      "zipp @ file:///C:/Users/dev-admin/perseverance-python-buildout/croot/zipp_1707493775475/work\n",
      "zope.interface @ file:///C:/Users/dev-admin/perseverance-python-buildout/croot/zope.interface_1699497164709/work\n",
      "zstandard @ file:///C:/b/abs_82dff2ths3/croot/zstandard_1728569207191/work\n",
      "Note: you may need to restart the kernel to use updated packages.\n"
     ]
    }
   ],
   "source": [
    "pip freeze"
   ]
  },
  {
   "cell_type": "code",
   "execution_count": null,
   "id": "608a79d1-7622-413a-91e0-708e53a81dd9",
   "metadata": {},
   "outputs": [],
   "source": [
    "n1=50  # hard core\n",
    "n1=eval(input('number'))  # user from keyboard\n",
    "n1=random.randint(1,100)  # random num"
   ]
  },
  {
   "cell_type": "code",
   "execution_count": 5,
   "id": "9110269b-d331-43bf-a728-50470f3ee0c4",
   "metadata": {},
   "outputs": [
    {
     "data": {
      "text/plain": [
       "300"
      ]
     },
     "execution_count": 5,
     "metadata": {},
     "output_type": "execute_result"
    }
   ],
   "source": [
    "n1=100\n",
    "n2=200\n",
    "add=n1+n2\n",
    "add"
   ]
  },
  {
   "cell_type": "code",
   "execution_count": 6,
   "id": "4bc0c4f4-0adb-4cf7-a1fc-4c283ff027b3",
   "metadata": {},
   "outputs": [
    {
     "name": "stdin",
     "output_type": "stream",
     "text": [
      "enter number1: 100\n",
      "enter number2: 200\n"
     ]
    },
    {
     "data": {
      "text/plain": [
       "300"
      ]
     },
     "execution_count": 6,
     "metadata": {},
     "output_type": "execute_result"
    }
   ],
   "source": [
    "n1=eval(input('enter number1:'))\n",
    "n2=eval(input('enter number2:'))\n",
    "add=n1+n2\n",
    "add"
   ]
  },
  {
   "cell_type": "code",
   "execution_count": 11,
   "id": "b60ef017-d04a-4c3d-bacd-97c4295c6573",
   "metadata": {},
   "outputs": [
    {
     "name": "stdout",
     "output_type": "stream",
     "text": [
      "221 224\n"
     ]
    },
    {
     "data": {
      "text/plain": [
       "445"
      ]
     },
     "execution_count": 11,
     "metadata": {},
     "output_type": "execute_result"
    }
   ],
   "source": [
    "n1=random.randint(50,250)\n",
    "n2=random.randint(50,250)\n",
    "print(n1,n2)\n",
    "add=n1+n2\n",
    "add"
   ]
  },
  {
   "cell_type": "code",
   "execution_count": null,
   "id": "05e949ca-53be-4cee-9009-eeabb35f876c",
   "metadata": {},
   "outputs": [],
   "source": [
    "n1=100\n",
    "n2=200\n",
    "add=n1+n2"
   ]
  }
 ],
 "metadata": {
  "kernelspec": {
   "display_name": "Python 3 (ipykernel)",
   "language": "python",
   "name": "python3"
  },
  "language_info": {
   "codemirror_mode": {
    "name": "ipython",
    "version": 3
   },
   "file_extension": ".py",
   "mimetype": "text/x-python",
   "name": "python",
   "nbconvert_exporter": "python",
   "pygments_lexer": "ipython3",
   "version": "3.12.7"
  }
 },
 "nbformat": 4,
 "nbformat_minor": 5
}
