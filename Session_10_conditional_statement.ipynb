{
 "cells": [
  {
   "cell_type": "markdown",
   "id": "42473c9d-2845-452e-b83b-8ba79819da07",
   "metadata": {},
   "source": [
    "**Conditional statements**"
   ]
  },
  {
   "cell_type": "markdown",
   "id": "d5a5c09c-5398-47e2-ae5e-cc5b3224b993",
   "metadata": {},
   "source": [
    "- conditional statements are used to execute the code based on some condition\n",
    "\n",
    "- assume a statement\n",
    "\n",
    "  - if rain comes i will stay at hostel\n",
    "\n",
    "  - if rain comes i will stay at hostel otherwise i will go to play cricket\n",
    "\n",
    "  - if rain comes i will stay at hostel otherwise i will go to ground but if omkar sir call i will go to NareshIT\n",
    "\n",
    "- if rain comes i will stay at hostel else i will go to play cricket\n",
    "\n",
    "- **if**\n",
    "\n",
    "- **if-else**\n",
    "    \n",
    "- **if-elif-else**"
   ]
  },
  {
   "cell_type": "markdown",
   "id": "b8543ba3-b26c-428b-aea7-b0e6e3cbed14",
   "metadata": {},
   "source": [
    "**case-1:if**"
   ]
  },
  {
   "cell_type": "code",
   "execution_count": null,
   "id": "15d80359-a79d-4635-a750-6bdbbbc61d03",
   "metadata": {},
   "outputs": [],
   "source": [
    "if <condition>:\n",
    "    # write your code here\n",
    "    \n",
    "# whenever the condition is True\n",
    "# then python will go inside the if area then the lines will be execute"
   ]
  },
  {
   "cell_type": "code",
   "execution_count": 1,
   "id": "cede8dee-b8a5-437f-8cc5-f2dcb1874bf7",
   "metadata": {},
   "outputs": [
    {
     "name": "stdout",
     "output_type": "stream",
     "text": [
      "False\n",
      "True\n",
      "False\n",
      "False\n",
      "True\n",
      "True\n"
     ]
    }
   ],
   "source": [
    "num=10 # assignment 10 is a value stored in a variable name\n",
    "print(num==100) # F # condition check num value equal to 10 or not\n",
    "print(num==10) # T\n",
    "print(num>10)  # F\n",
    "print(num<10)  # F\n",
    "print(num>=10) # T\n",
    "print(num<=10) # T"
   ]
  },
  {
   "cell_type": "code",
   "execution_count": 2,
   "id": "a6e5a550-204c-403d-9e9d-b99e450267c5",
   "metadata": {},
   "outputs": [
    {
     "name": "stdout",
     "output_type": "stream",
     "text": [
      "hello\n"
     ]
    }
   ],
   "source": [
    "if 100>10:\n",
    "    print(\"hello\")\n",
    "    \n",
    "# step-1: 100>10  True\n",
    "# step-2: hello"
   ]
  },
  {
   "cell_type": "markdown",
   "id": "58131341-be49-451f-afa5-7e92cbe8a1e6",
   "metadata": {},
   "source": [
    "**mistake-1**\n",
    "\n",
    "**indentation error**\n",
    "\n",
    "- whenever a line starts with keyword at last : will be there\n",
    "\n",
    "- whenever : there then we have indentation "
   ]
  },
  {
   "cell_type": "code",
   "execution_count": 3,
   "id": "67bff350-f61a-4bf5-86b9-3e89301847ca",
   "metadata": {},
   "outputs": [
    {
     "name": "stdout",
     "output_type": "stream",
     "text": [
      "hello\n"
     ]
    }
   ],
   "source": [
    "if 100>10:\n",
    "    print(\"hello\")"
   ]
  },
  {
   "cell_type": "markdown",
   "id": "844d2bef-7b65-4258-9b86-336589073e83",
   "metadata": {},
   "source": [
    "**mistake-2**"
   ]
  },
  {
   "cell_type": "code",
   "execution_count": 4,
   "id": "640ea45d-9923-422c-93a1-ee90c5d2380e",
   "metadata": {},
   "outputs": [
    {
     "ename": "SyntaxError",
     "evalue": "expected ':' (4173596931.py, line 1)",
     "output_type": "error",
     "traceback": [
      "\u001b[1;36m  Cell \u001b[1;32mIn[4], line 1\u001b[1;36m\u001b[0m\n\u001b[1;33m    if 100>10\u001b[0m\n\u001b[1;37m             ^\u001b[0m\n\u001b[1;31mSyntaxError\u001b[0m\u001b[1;31m:\u001b[0m expected ':'\n"
     ]
    }
   ],
   "source": [
    "if 100>10\n",
    "    print(\"hello\")"
   ]
  },
  {
   "cell_type": "code",
   "execution_count": null,
   "id": "b949633d-da4a-4f7d-9618-41fca01b3877",
   "metadata": {},
   "outputs": [],
   "source": [
    "if 100<10:\n",
    "    print(\"hello\")\n",
    "    \n",
    "# step-1: 100<10 False    "
   ]
  },
  {
   "cell_type": "code",
   "execution_count": 5,
   "id": "6b4237a7-0cca-4bbe-b209-122055691901",
   "metadata": {},
   "outputs": [
    {
     "data": {
      "text/plain": [
       "True"
      ]
     },
     "execution_count": 5,
     "metadata": {},
     "output_type": "execute_result"
    }
   ],
   "source": [
    "100>10"
   ]
  },
  {
   "cell_type": "code",
   "execution_count": 9,
   "id": "431c6419-8061-415b-b400-8810d62ea408",
   "metadata": {},
   "outputs": [
    {
     "name": "stdout",
     "output_type": "stream",
     "text": [
      "hello\n"
     ]
    }
   ],
   "source": [
    "if True:\n",
    "    print(\"hello\")"
   ]
  },
  {
   "cell_type": "code",
   "execution_count": 10,
   "id": "47706a54-cabb-4c6a-88e6-9809e95d07c2",
   "metadata": {},
   "outputs": [],
   "source": [
    "if False:\n",
    "    print(\"hello\")"
   ]
  },
  {
   "cell_type": "code",
   "execution_count": 11,
   "id": "d0f28750-68e6-4e33-8aa3-42db79b16a19",
   "metadata": {},
   "outputs": [
    {
     "data": {
      "text/plain": [
       "True"
      ]
     },
     "execution_count": 11,
     "metadata": {},
     "output_type": "execute_result"
    }
   ],
   "source": [
    "bool(100)"
   ]
  },
  {
   "cell_type": "code",
   "execution_count": 12,
   "id": "8bf6170c-2d2a-480f-a1ee-620b659a60ab",
   "metadata": {},
   "outputs": [
    {
     "name": "stdout",
     "output_type": "stream",
     "text": [
      "hello\n",
      "hello\n",
      "hello\n"
     ]
    }
   ],
   "source": [
    "if bool(100):\n",
    "    print(\"hello\")\n",
    "    \n",
    "if 100>10:\n",
    "    print(\"hello\")\n",
    "\n",
    "if True:\n",
    "    print(\"hello\")"
   ]
  },
  {
   "cell_type": "code",
   "execution_count": 13,
   "id": "9da50f40-7c3b-4eaa-bdb9-2a4e9ae8e668",
   "metadata": {},
   "outputs": [
    {
     "name": "stdout",
     "output_type": "stream",
     "text": [
      "hello\n",
      "hai\n",
      "im with condition bye\n",
      "im with out condition bye\n"
     ]
    }
   ],
   "source": [
    "#################################\n",
    "if 100>10:\n",
    "    print(\"hello\")\n",
    "    print(\"hai\")\n",
    "    print(\"im with condition bye\")\n",
    "###################################\n",
    "print(\"im with out condition bye\")"
   ]
  },
  {
   "cell_type": "code",
   "execution_count": 14,
   "id": "83c5fa1a-cdfb-4f02-87ee-4abb3d8de865",
   "metadata": {},
   "outputs": [
    {
     "data": {
      "text/plain": [
       "True"
      ]
     },
     "execution_count": 14,
     "metadata": {},
     "output_type": "execute_result"
    }
   ],
   "source": [
    "100>10  # mask\n",
    "True    # face"
   ]
  },
  {
   "cell_type": "code",
   "execution_count": 15,
   "id": "38dbe609-9967-4ad0-8893-f4250938b9cf",
   "metadata": {},
   "outputs": [
    {
     "name": "stdout",
     "output_type": "stream",
     "text": [
      "im with out condition bye\n"
     ]
    }
   ],
   "source": [
    "#################################\n",
    "if 100<10:\n",
    "    print(\"hello\")\n",
    "    print(\"hai\")\n",
    "    print(\"im with condition bye\")\n",
    "###################################\n",
    "print(\"im with out condition bye\")"
   ]
  },
  {
   "cell_type": "code",
   "execution_count": 18,
   "id": "6c7476ca-c741-450f-a5cd-f1ea31feca5f",
   "metadata": {},
   "outputs": [
    {
     "name": "stdout",
     "output_type": "stream",
     "text": [
      "1\n",
      "2\n",
      "im with out condition bye\n"
     ]
    }
   ],
   "source": [
    "print(1)\n",
    "print(2)\n",
    "#################################\n",
    "if 100<10:\n",
    "    print(\"hello\")\n",
    "    print(\"hai\")\n",
    "    print(\"im with condition bye\")\n",
    "###################################\n",
    "print(\"im with out condition bye\")"
   ]
  },
  {
   "cell_type": "code",
   "execution_count": 19,
   "id": "8500f44c-945b-4310-be2d-14a6d0d7a1d2",
   "metadata": {},
   "outputs": [
    {
     "name": "stdout",
     "output_type": "stream",
     "text": [
      "hello\n",
      "hai\n",
      "im with condition bye\n",
      "1\n",
      "2\n",
      "im with out condition bye\n"
     ]
    }
   ],
   "source": [
    "if 100>10:\n",
    "    print(\"hello\")\n",
    "    print(\"hai\")\n",
    "    print(\"im with condition bye\")\n",
    "###################################\n",
    "print(1)\n",
    "print(2)\n",
    "###################################\n",
    "if 100<10:\n",
    "    print(\"hello\")\n",
    "    print(\"hai\")\n",
    "    print(\"im with condition bye\")\n",
    "###################################\n",
    "print(\"im with out condition bye\")"
   ]
  },
  {
   "cell_type": "code",
   "execution_count": null,
   "id": "e3e2fdf1-a2ab-441f-bdeb-f8e2930bbb03",
   "metadata": {},
   "outputs": [],
   "source": [
    "if <condition>:\n",
    "    <write your code here>"
   ]
  },
  {
   "cell_type": "markdown",
   "id": "2d1e9ce8-da46-4523-bfe8-fb18e0aefc72",
   "metadata": {},
   "source": [
    "**case-2:if-else**"
   ]
  },
  {
   "cell_type": "markdown",
   "id": "1cc00029-7104-4d18-b836-277e699e0d31",
   "metadata": {},
   "source": [
    "\n",
    "- if condition is True then if statement will execute\n",
    "\n",
    "- if condition is False then else statements will execute\n",
    "\n",
    "- one condition two outputs\n",
    "\n",
    "- if needs condition but not else"
   ]
  },
  {
   "cell_type": "code",
   "execution_count": null,
   "id": "f585f910-75ad-408d-8ef6-f9b90c6a320c",
   "metadata": {},
   "outputs": [],
   "source": [
    "# syntax\n",
    "if <condition>:\n",
    "    <write your code here>\n",
    "else:\n",
    "    <write your code here>"
   ]
  },
  {
   "cell_type": "code",
   "execution_count": 22,
   "id": "edfb9f4d-ef74-4148-9d0f-2792365ae1ca",
   "metadata": {},
   "outputs": [
    {
     "name": "stdout",
     "output_type": "stream",
     "text": [
      "hello\n"
     ]
    }
   ],
   "source": [
    "print(\"hello\")"
   ]
  },
  {
   "cell_type": "code",
   "execution_count": 1,
   "id": "429b4a27-25ac-4100-870b-db36ffccaa78",
   "metadata": {},
   "outputs": [
    {
     "name": "stdout",
     "output_type": "stream",
     "text": [
      "hello\n"
     ]
    }
   ],
   "source": [
    "friend=\"yes\"\n",
    "if friend==\"yes\":  # if \"yes\"==\"yes\"\n",
    "    print(\"hello\")"
   ]
  },
  {
   "cell_type": "code",
   "execution_count": 2,
   "id": "80bf7a4e-0412-4311-83a4-99ee45f09312",
   "metadata": {},
   "outputs": [
    {
     "name": "stdout",
     "output_type": "stream",
     "text": [
      "30\n"
     ]
    }
   ],
   "source": [
    "a=10\n",
    "b=20\n",
    "c=a+b\n",
    "print(c)"
   ]
  },
  {
   "cell_type": "code",
   "execution_count": 3,
   "id": "60ca3a4f-6b4d-417a-8115-8e226327d802",
   "metadata": {},
   "outputs": [
    {
     "name": "stdout",
     "output_type": "stream",
     "text": [
      "30\n"
     ]
    }
   ],
   "source": [
    "if 100>10:\n",
    "    a=10\n",
    "    b=20\n",
    "    c=a+b\n",
    "    print(c)"
   ]
  },
  {
   "cell_type": "code",
   "execution_count": 4,
   "id": "d2f4ad38-40a2-4969-8de4-38dd6023e413",
   "metadata": {},
   "outputs": [
    {
     "name": "stdout",
     "output_type": "stream",
     "text": [
      "positive number\n"
     ]
    }
   ],
   "source": [
    "if 100>0:\n",
    "    print(\"positive number\")\n",
    "else:\n",
    "    print(\"negative number\")"
   ]
  },
  {
   "cell_type": "code",
   "execution_count": 5,
   "id": "a981e0c5-cc3b-4370-a0d0-11ed2e6f289c",
   "metadata": {},
   "outputs": [
    {
     "name": "stdout",
     "output_type": "stream",
     "text": [
      "positive number\n"
     ]
    }
   ],
   "source": [
    "n=100\n",
    "if n>0:\n",
    "    print(\"positive number\")\n",
    "else:\n",
    "    print(\"negative number\")"
   ]
  },
  {
   "cell_type": "code",
   "execution_count": 6,
   "id": "75f2814b-880a-46b7-95f7-cbe4402ae474",
   "metadata": {},
   "outputs": [
    {
     "name": "stdin",
     "output_type": "stream",
     "text": [
      "Enter the number:  -100\n"
     ]
    },
    {
     "name": "stdout",
     "output_type": "stream",
     "text": [
      "negative number\n"
     ]
    }
   ],
   "source": [
    "n=eval(input(\"Enter the number: \"))\n",
    "if n>0:\n",
    "    print(\"positive number\")\n",
    "else:\n",
    "    print(\"negative number\")\n",
    "\n",
    "# n=-100\n",
    "# if -100>0  F\n",
    "# else negative"
   ]
  },
  {
   "cell_type": "code",
   "execution_count": 10,
   "id": "df251608-8888-4461-b3f1-a80e3f02d6db",
   "metadata": {},
   "outputs": [
    {
     "name": "stdout",
     "output_type": "stream",
     "text": [
      "5 is a positive number\n"
     ]
    }
   ],
   "source": [
    "import random\n",
    "n=random.randint(-100,100)\n",
    "if n>0:\n",
    "    print(f\"{n} is a positive number\")\n",
    "else:\n",
    "    print(f\"{n} is a negative number\")"
   ]
  },
  {
   "cell_type": "code",
   "execution_count": null,
   "id": "3491290f-4427-44e5-b1cf-8b845281671a",
   "metadata": {},
   "outputs": [],
   "source": [
    "if 100>0:\n",
    "    print(\"Positive number\")\n",
    "else:\n",
    "    print(\"Negative number\")\n",
    "########################################\n",
    "n=100\n",
    "if n>0:\n",
    "    print(\"Positive number\")\n",
    "else:\n",
    "    print(\"Negative number\")\n",
    "########################################\n",
    "n=eval(input(\"Enter the number: \"))\n",
    "if n>0:\n",
    "    print(\"Positive number\")\n",
    "else:\n",
    "    print(\"Negative number\")\n",
    "########################################\n",
    "import random\n",
    "n=random.randint(-100,100)\n",
    "if n>0:\n",
    "    print(f\"{n} is a Positive number\")\n",
    "else:\n",
    "    print(f\"{n} is a Negative number\")"
   ]
  },
  {
   "cell_type": "code",
   "execution_count": 2,
   "id": "aaa7adfc-56c7-48d2-a6b2-662d0c5a1ce5",
   "metadata": {},
   "outputs": [
    {
     "name": "stdout",
     "output_type": "stream",
     "text": [
      "Hello\n",
      "positive number\n",
      "condition is True\n"
     ]
    }
   ],
   "source": [
    "print(\"Hello\")\n",
    "if 100>0:\n",
    "    print(\"positive number\")\n",
    "    print(\"condition is True\")\n",
    "else :\n",
    "    print(\"Negative number\")\n",
    "    print(\"condition is False\")"
   ]
  },
  {
   "cell_type": "code",
   "execution_count": 1,
   "id": "d911d621-db0a-4bb1-9bcb-301c5936b15a",
   "metadata": {},
   "outputs": [
    {
     "name": "stdout",
     "output_type": "stream",
     "text": [
      "Hello\n",
      "Negative number\n",
      "condition is False\n"
     ]
    }
   ],
   "source": [
    "print(\"Hello\")\n",
    "if 100<0:\n",
    "    print(\"positive number\")\n",
    "    print(\"condition is True\")\n",
    "else :\n",
    "    print(\"Negative number\")\n",
    "    print(\"condition is False\")\n",
    "\n",
    "# Hello\n",
    "# if 100<0  F stop\n",
    "# else\n",
    "# neg F"
   ]
  },
  {
   "cell_type": "code",
   "execution_count": null,
   "id": "4cf43001-d5b8-4de3-a4ec-938f84617a73",
   "metadata": {},
   "outputs": [],
   "source": [
    "print(\"Hello\")\n",
    "##################################\n",
    "if 100<0:\n",
    "    print(\"positive number\")\n",
    "    print(\"condition is True\")\n",
    "else:\n",
    "    print(\"negative number\")\n",
    "    print(\"condition is False\")\n",
    "###################################\n",
    "print(\"bye\")"
   ]
  },
  {
   "cell_type": "code",
   "execution_count": 2,
   "id": "029b2660-aeb7-48a4-a7e8-b512d5c93982",
   "metadata": {},
   "outputs": [
    {
     "ename": "SyntaxError",
     "evalue": "invalid syntax (2568100102.py, line 7)",
     "output_type": "error",
     "traceback": [
      "\u001b[1;36m  Cell \u001b[1;32mIn[2], line 7\u001b[1;36m\u001b[0m\n\u001b[1;33m    else:\u001b[0m\n\u001b[1;37m    ^\u001b[0m\n\u001b[1;31mSyntaxError\u001b[0m\u001b[1;31m:\u001b[0m invalid syntax\n"
     ]
    }
   ],
   "source": [
    "print(\"Hello\")\n",
    "##################################\n",
    "if 100>0:\n",
    "    print(\"positive number\")\n",
    "    print(\"condition is True\")\n",
    "print(\"why you are in middle\")    \n",
    "else:\n",
    "    print(\"negative number\")\n",
    "    print(\"condition is False\")\n",
    "print(\"bye\")\n",
    "\n",
    "# if-else should come together"
   ]
  },
  {
   "cell_type": "code",
   "execution_count": 3,
   "id": "70b628f2-fda1-4280-9208-b255b2319d1d",
   "metadata": {},
   "outputs": [
    {
     "name": "stdout",
     "output_type": "stream",
     "text": [
      "Hello\n",
      "positive number\n",
      "this is middle\n"
     ]
    }
   ],
   "source": [
    "print(\"Hello\")\n",
    "if 100>0:\n",
    "    print(\"positive number\")\n",
    "    print(\"this is middle\")    \n",
    "else:\n",
    "    print(\"negative number\")"
   ]
  },
  {
   "cell_type": "code",
   "execution_count": 4,
   "id": "e6593d81-7c64-4696-af4f-31fb84896c21",
   "metadata": {},
   "outputs": [
    {
     "name": "stdin",
     "output_type": "stream",
     "text": [
      "Enter the first number 100\n",
      "Enter the secoond number 200\n"
     ]
    },
    {
     "name": "stdout",
     "output_type": "stream",
     "text": [
      "200 is greater\n"
     ]
    }
   ],
   "source": [
    "#Q1) wap ask the user enter two numbers\n",
    "# find the greatest number\n",
    "\n",
    "# idea\n",
    "# n1=eval(input())\n",
    "# n2=eval(input())\n",
    "# if <cond>:\n",
    "#     print()\n",
    "# else:\n",
    "#     print()\n",
    "\n",
    "Number1=eval(input(\"Enter the first number\"))\n",
    "Number2=eval(input(\"Enter the secoond number\"))\n",
    "if Number1>Number2 :\n",
    "    print(f\"{Number1} is greater\")\n",
    "else :\n",
    "    print(f\"{Number2} is greater\")"
   ]
  },
  {
   "cell_type": "code",
   "execution_count": 5,
   "id": "625d4e58-f86f-40f7-9a50-48841e319bd8",
   "metadata": {},
   "outputs": [
    {
     "name": "stdout",
     "output_type": "stream",
     "text": [
      "n2:83 is a greater number\n"
     ]
    }
   ],
   "source": [
    "import random\n",
    "n1=random.randint(1,100)\n",
    "n2=random.randint(1,100)\n",
    "if n1>n2:\n",
    "    print(f\"n1:{n1} is a greater number\")\n",
    "else:\n",
    "    print(f\"n2:{n2} is a greater number\")"
   ]
  },
  {
   "cell_type": "code",
   "execution_count": 6,
   "id": "ae386a92-b388-4381-949d-65ca6301431a",
   "metadata": {},
   "outputs": [
    {
     "name": "stdin",
     "output_type": "stream",
     "text": [
      "Enter the distance:  30\n",
      "Enter the charge per km:  10\n"
     ]
    },
    {
     "name": "stdout",
     "output_type": "stream",
     "text": [
      "The total charge is:300 INR\n"
     ]
    }
   ],
   "source": [
    "#Q2) wap ask the user enter distance\n",
    "# if distance greater than 25km\n",
    "# then ask the charge per km\n",
    "# then calculate total charge \n",
    "# otherwise print free ride\n",
    "\n",
    "# step-1: enter the distance\n",
    "# step-2: if distance>25\n",
    "# step-3:    ask the charge per km\n",
    "# step-4:    calculate the total charge\n",
    "# step-5: else\n",
    "# step-6:    free ride\n",
    "\n",
    "Distance=eval(input(\"Enter the distance in km: \"))\n",
    "if Distance>25 :\n",
    "    charge=eval(input(\"Enter the charge per km: \"))\n",
    "    total_charge=Distance*charge\n",
    "    print(f\"The total charge is:{total_charge} INR\",)\n",
    "else :\n",
    "    print(\"free ride\")"
   ]
  },
  {
   "cell_type": "code",
   "execution_count": 11,
   "id": "5e179277-6408-42bc-8be3-65aa3d6216a8",
   "metadata": {},
   "outputs": [
    {
     "name": "stdin",
     "output_type": "stream",
     "text": [
      "Enter the Distance in km:  25\n",
      "Enter the govt free Distance in km:  25\n"
     ]
    },
    {
     "name": "stdout",
     "output_type": "stream",
     "text": [
      "free ride\n"
     ]
    }
   ],
   "source": [
    "#Q3) wap ask the user enter distance : 50km\n",
    "#    enter the free_distance (assume that 25Km)\n",
    "# if distance greater than free distance \n",
    "    # then ask the charge per km : 10rs\n",
    "    # distance_covered=distance-free_distance : 50-25=25km \n",
    "    # then calculate total charge \n",
    "# otherwise print free ride\n",
    "\n",
    "# step-1: enter the distance\n",
    "# step-2: enter the free_distance\n",
    "# step-3: if distance>free_distance\n",
    "# step-4:    ask the charge per km\n",
    "# step-5:    calculate the total charge on actual distance\n",
    "# step-6: else\n",
    "# step-7:    free ride\n",
    "\n",
    "travel_distance=eval(input(\"Enter the Distance in km: \"))\n",
    "free_distance=eval(input(\"Enter the govt free Distance in km: \"))\n",
    "if travel_distance>free_distance:\n",
    "    actual_distance=travel_distance-free_distance\n",
    "    print(f\"the actual distance covered is {actual_distance} km\")\n",
    "    charge=eval(input(\"Enter the charge per km: \"))\n",
    "    total_charge=actual_distance*charge\n",
    "    print(f\"The total charge is:{total_charge} INR\",)\n",
    "else :\n",
    "    print(\"free ride\")"
   ]
  },
  {
   "cell_type": "code",
   "execution_count": 12,
   "id": "e8aff185-68bf-4788-83a1-d7f05f2b3c33",
   "metadata": {},
   "outputs": [
    {
     "name": "stdin",
     "output_type": "stream",
     "text": [
      "Enter the distance in km: 90\n",
      "enter the charge per km: 10\n"
     ]
    },
    {
     "name": "stdout",
     "output_type": "stream",
     "text": [
      "The total charge is:900 INR\n"
     ]
    }
   ],
   "source": [
    "distance=eval(input(\"Enter the distance in km:\"))\n",
    "if distance<25:\n",
    "    print(\"free ride\")\n",
    "else:\n",
    "    charge=eval(input(\"enter the charge per km:\"))\n",
    "    total_charge=distance*charge\n",
    "    print(f\"The total charge is:{total_charge} INR\")"
   ]
  },
  {
   "cell_type": "code",
   "execution_count": 17,
   "id": "4e2ae2a5-6718-4bb5-9256-fdcf978512b2",
   "metadata": {},
   "outputs": [
    {
     "name": "stdout",
     "output_type": "stream",
     "text": [
      "7\n"
     ]
    },
    {
     "name": "stdin",
     "output_type": "stream",
     "text": [
      "Enter the number between 1 to 10: 7\n"
     ]
    },
    {
     "name": "stdout",
     "output_type": "stream",
     "text": [
      "Lucky: you won\n"
     ]
    }
   ],
   "source": [
    "#Q4) wap ask the user enter a number from keyboard n1\n",
    "#    ask the user get a random number between 1,10  n2\n",
    "# if n1 equal to n2 print you lost\n",
    "\n",
    "# step-1: n1=eval(input)\n",
    "# step-2: n2=random.randint\n",
    "# step-3: if n1==n2\n",
    "# step-4:    print lucky won\n",
    "# step-5: else:\n",
    "# step-6:   print double lucky lost\n",
    "\n",
    "import random\n",
    "n1=random.randint(1,10)\n",
    "print(n1)\n",
    "n2=eval(input(\"Enter the number between 1 to 10:\"))\n",
    "if n1==n2:\n",
    "    print(\"Lucky: you won\")\n",
    "else:\n",
    "    print(\"Lucky Lucky: you lost better luck next time\")"
   ]
  },
  {
   "cell_type": "code",
   "execution_count": 18,
   "id": "17758c21-9bda-438e-9e70-cfbbccaaed14",
   "metadata": {},
   "outputs": [
    {
     "name": "stdin",
     "output_type": "stream",
     "text": [
      "Enter the course Name:  Data Science\n",
      "Enter the Institute Name:  veda\n"
     ]
    },
    {
     "name": "stdout",
     "output_type": "stream",
     "text": [
      "Khatam Zindagi\n"
     ]
    }
   ],
   "source": [
    "# Q5) course name=Data science\n",
    "#     Insti name=Naresh It\n",
    "\n",
    "# Ask the user enter course_name\n",
    "# Ask the user enter inst_name\n",
    "# if course_name equal to data_science and inst_name naresh_it\n",
    "# then print you are at safe place\n",
    "# otherwise\n",
    "# print khatam zindagi\n",
    "\n",
    "# step-1: course_name=input()\n",
    "# step-2: inst_name=input()\n",
    "# step-3: if course_name==\"data_science\" &(and) inst_name==\"naresh_it\":\n",
    "# step-4:    print(\"you are at safe place\")\n",
    "# step-5: else:\n",
    "# step-6:    print(\"khatam zindagi\")\n",
    "\n",
    "course_name=input(\"Enter the course Name: \")\n",
    "inst_name=input(\"Enter the Institute Name: \")\n",
    "if course_name==\"Data Science\" and inst_name==\"Naresh IT\":\n",
    "    print(\"you are in Safe Hands!\")\n",
    "else:\n",
    "    print(\"Khatam Zindagi\")"
   ]
  },
  {
   "cell_type": "code",
   "execution_count": 19,
   "id": "462b0122-3379-4c52-aed2-cf60cbf74f90",
   "metadata": {},
   "outputs": [
    {
     "name": "stdin",
     "output_type": "stream",
     "text": [
      "Enter the course Name:  Data Science\n",
      "Enter the Institute Name:  Naresh IT\n"
     ]
    },
    {
     "name": "stdout",
     "output_type": "stream",
     "text": [
      "you are in Safe Hands!\n"
     ]
    }
   ],
   "source": [
    "course_name=input(\"Enter the course Name: \")\n",
    "inst_name=input(\"Enter the Institute Name: \")\n",
    "if course_name==\"Data Science\" or inst_name==\"Naresh IT\":\n",
    "    print(\"you are in Safe Hands!\")\n",
    "else:\n",
    "    print(\"Khatam Zindagi\")"
   ]
  },
  {
   "cell_type": "code",
   "execution_count": 20,
   "id": "57199991-4d90-4f97-82b3-f70f9e32641b",
   "metadata": {},
   "outputs": [
    {
     "data": {
      "text/plain": [
       "'data science'"
      ]
     },
     "execution_count": 20,
     "metadata": {},
     "output_type": "execute_result"
    }
   ],
   "source": [
    "\"Data Science\".lower()"
   ]
  },
  {
   "cell_type": "code",
   "execution_count": 1,
   "id": "904d20fa-214d-4b42-b669-ae94cdd26099",
   "metadata": {},
   "outputs": [
    {
     "name": "stdin",
     "output_type": "stream",
     "text": [
      "Enter the number: 19\n"
     ]
    },
    {
     "name": "stdout",
     "output_type": "stream",
     "text": [
      "19 is an odd\n"
     ]
    }
   ],
   "source": [
    "# Q6) even-odd\n",
    "# ask the user enter a number\n",
    "# print if it is even number or odd number\n",
    "\n",
    "# idea: if any number divide by 2 then it gives\n",
    "# the remainder equal to zero then it is even number \n",
    "\n",
    "num=eval(input(\"Enter the number:\"))\n",
    "if num%2==0:\n",
    "    print(f\"{num} is an even\")\n",
    "else:\n",
    "    print(f\"{num} is an odd\")"
   ]
  },
  {
   "cell_type": "code",
   "execution_count": null,
   "id": "b0fdc809-790e-477e-a010-1e36575b4238",
   "metadata": {},
   "outputs": [],
   "source": [
    "modulus: %\n",
    "division: /\n",
    "floor division: //"
   ]
  },
  {
   "cell_type": "code",
   "execution_count": 21,
   "id": "fa943fe2-ae5c-475c-a9b7-d06ac307bfff",
   "metadata": {},
   "outputs": [
    {
     "data": {
      "text/plain": [
       "1"
      ]
     },
     "execution_count": 21,
     "metadata": {},
     "output_type": "execute_result"
    }
   ],
   "source": [
    "11%2  # reminder"
   ]
  },
  {
   "cell_type": "code",
   "execution_count": 22,
   "id": "2151eb49-4410-4b6e-a9af-40a6d4b336e7",
   "metadata": {},
   "outputs": [
    {
     "data": {
      "text/plain": [
       "5.5"
      ]
     },
     "execution_count": 22,
     "metadata": {},
     "output_type": "execute_result"
    }
   ],
   "source": [
    "11/2  # normal division"
   ]
  },
  {
   "cell_type": "code",
   "execution_count": 23,
   "id": "d8f0cdb1-7b1c-4122-94fd-71c122b322a2",
   "metadata": {},
   "outputs": [
    {
     "data": {
      "text/plain": [
       "5"
      ]
     },
     "execution_count": 23,
     "metadata": {},
     "output_type": "execute_result"
    }
   ],
   "source": [
    "11//2  # floor division (quotient) "
   ]
  },
  {
   "cell_type": "markdown",
   "id": "d65dd8f6-778c-4af7-8aca-af65ced15339",
   "metadata": {},
   "source": [
    "**if-elif-else**\n",
    "\n",
    "- whenever we have multiple conditions we will do **if-elif-else**\n",
    "\n",
    "- if single condition is there we will go if-else\n",
    "\n",
    "    - two answers\n",
    "\n",
    "    - if needs condition then else does not required any condition\n",
    "\n",
    "- if two condition are there we will go if-elif-else\n",
    "\n",
    "    - three answers\n",
    "\n",
    "    - if and elif need condition else does not require any condition\n",
    "\n",
    "- if three condition are there we will go if-elif-elif-else\n",
    "\n",
    "    - four answers\n",
    "\n",
    "    - if elif and elif need condition and else does not require any condition"
   ]
  },
  {
   "cell_type": "code",
   "execution_count": null,
   "id": "fdc21aa3-14ad-499f-8c89-0e55cbe2bf4c",
   "metadata": {},
   "outputs": [],
   "source": [
    "if <condition>:\n",
    "    <write your code here>\n",
    "elif <condition>:\n",
    "    <write your code here>\n",
    "elif <condition>:\n",
    "    <write your code here>\n",
    "else:\n",
    "    <write your code here>        "
   ]
  },
  {
   "cell_type": "code",
   "execution_count": 1,
   "id": "2e625ffc-a098-40a5-92d7-97cd1ab25b8a",
   "metadata": {},
   "outputs": [
    {
     "name": "stdin",
     "output_type": "stream",
     "text": [
      "Enter a number:  3\n"
     ]
    },
    {
     "name": "stdout",
     "output_type": "stream",
     "text": [
      "three\n"
     ]
    }
   ],
   "source": [
    "# wap ask the user enter a number \n",
    "# if number equal to one then print one\n",
    "# if number equal to two then print two\n",
    "# if number equal to three then print three\n",
    "# otherwise print enter a valid number\n",
    "\n",
    "\n",
    "num=eval(input(\"Enter a number: \"))\n",
    "if num==1:\n",
    "    print(\"one\")\n",
    "elif num==2:\n",
    "    print(\"two\")\n",
    "elif num==3:\n",
    "    print(\"three\")\n",
    "else:\n",
    "    print(\"Enter a valid number\")"
   ]
  },
  {
   "cell_type": "code",
   "execution_count": 1,
   "id": "908a3a31-af38-47c5-80ea-b0420e7cd962",
   "metadata": {},
   "outputs": [
    {
     "name": "stdin",
     "output_type": "stream",
     "text": [
      "Enter the percentage of marks 36\n"
     ]
    },
    {
     "name": "stdout",
     "output_type": "stream",
     "text": [
      "D grade\n"
     ]
    }
   ],
   "source": [
    "# wap ask the user enter percentage of marks\n",
    "# if marks greater than 90 then print A grade\n",
    "# if marks between 70 to 90 then print B grade\n",
    "# if marks between 50 to 70 then print C grade\n",
    "# if marks between 35 to 50 then print D grade\n",
    "# otherwise print Fail\n",
    "\n",
    "\n",
    "per=eval(input(\"Enter the percentage of marks\"))\n",
    "if per>=90:\n",
    "    print(\"A grade\")\n",
    "elif per>70 and per<=90:\n",
    "    print(\"B grade\")\n",
    "elif per>50 and per<=70:\n",
    "    print(\"C grade\")\n",
    "elif per>35 and per<=50:\n",
    "    print(\"D grade\")\n",
    "else:\n",
    "    print(\"fail\")"
   ]
  },
  {
   "cell_type": "code",
   "execution_count": 2,
   "id": "f8a1c840-9137-4048-ae86-50c06e919985",
   "metadata": {},
   "outputs": [
    {
     "name": "stdin",
     "output_type": "stream",
     "text": [
      "Enter the percentage of marks 32\n"
     ]
    },
    {
     "name": "stdout",
     "output_type": "stream",
     "text": [
      "fail\n"
     ]
    }
   ],
   "source": [
    "# wap ask the user enter percentage of marks\n",
    "# if marks greater than 90 then print A grade\n",
    "# if marks between 70 to 90 then print B grade\n",
    "# if marks between 50 to 70 then print C grade\n",
    "# if marks between 35 to 50 then print D grade\n",
    "# otherwise print Fail\n",
    "\n",
    "per=eval(input(\"Enter the percentage of marks\"))\n",
    "if per>=90:\n",
    "    print(\"A grade\")\n",
    "elif per>=70:\n",
    "    print(\"B grade\")\n",
    "elif per>=50:\n",
    "    print(\"C grade\")\n",
    "elif per>=35:\n",
    "    print(\"D grade\")\n",
    "else:\n",
    "    print(\"fail\")"
   ]
  },
  {
   "cell_type": "code",
   "execution_count": null,
   "id": "86e0e523-a2f6-42c7-8661-04775caf3d73",
   "metadata": {},
   "outputs": [],
   "source": [
    "if-elif\n",
    "if fails === elif\n",
    "\n",
    "if-if\n",
    "if fail or pass === if"
   ]
  },
  {
   "cell_type": "code",
   "execution_count": 8,
   "id": "bd40e4ce-72f9-4162-abc9-c4ba60f46168",
   "metadata": {},
   "outputs": [
    {
     "name": "stdin",
     "output_type": "stream",
     "text": [
      "Enter your age 6\n"
     ]
    },
    {
     "name": "stdout",
     "output_type": "stream",
     "text": [
      "kid\n"
     ]
    }
   ],
   "source": [
    "# wap ask the user enter age\n",
    "# if age greater than 100 years unlucky\n",
    "# if age between 80 to 100 years old guy\n",
    "# if age between 60 to 80 years senior citizen\n",
    "# if age between 40 to 60 years middle age\n",
    "# if age between 20 to 40 years young\n",
    "# if age between 10 to 20 years teenage\n",
    "# otherwise print kid\n",
    "\n",
    "\n",
    "age=eval(input(\"Enter your age\"))\n",
    "if age>100:\n",
    "    print(\"unlucky\")\n",
    "elif age>=80:\n",
    "    print(\"old guy\")\n",
    "elif age>=60:\n",
    "    print(\"senior citizen\")\n",
    "elif age>=40:\n",
    "    print(\"middle age\")\n",
    "elif age>=20:\n",
    "    print(\"young\")\n",
    "elif age>=10:\n",
    "    print(\"teenage\")\n",
    "else:\n",
    "    print(\"kid\")"
   ]
  },
  {
   "cell_type": "code",
   "execution_count": 1,
   "id": "1b484944-f972-4896-bc26-5c7ffd8a48ad",
   "metadata": {},
   "outputs": [
    {
     "name": "stdin",
     "output_type": "stream",
     "text": [
      "Enter a gender:  male\n",
      "Enter a age:  30\n"
     ]
    },
    {
     "name": "stdout",
     "output_type": "stream",
     "text": [
      "middle age man\n"
     ]
    }
   ],
   "source": [
    "# wap ask the user enter gender\n",
    "# if gender equal to male\n",
    "#     ask the user enter age\n",
    "#     if age greater than 60 then print senior citizen\n",
    "#     if age between 30 and 60 then print middle age man\n",
    "#     if age between 15 to 30 then print young man\n",
    "#     otherwise print boy \n",
    "# if gender equal to female\n",
    "#     ask the user enter age\n",
    "#     if age greater than 60 then print senior citizen\n",
    "#     if age between 30 and 60 then print middle age woman\n",
    "#     if age between 15 to 30 then print young girl\n",
    "#     otherwise print girl\n",
    "#else:\n",
    "#     print enter a valid gender\n",
    "\n",
    "\n",
    "gender=input(\"Enter a gender: \")\n",
    "if gender=='male':\n",
    "    age=eval(input(\"Enter a age: \"))\n",
    "    if age>=60:\n",
    "        print(\"senior citizen\")\n",
    "    elif age>=30:\n",
    "        print(\"middle age man\")\n",
    "    elif age>=15:\n",
    "        print(\"young man\")\n",
    "    else:\n",
    "        print(\"boy\")\n",
    "\n",
    "elif gender=='female':\n",
    "    age=eval(input(\"Enter a age: \"))\n",
    "    if age>=60:\n",
    "        print(\"senior citizen\")\n",
    "    elif age>=30:\n",
    "        print(\"middle age woman\")\n",
    "    elif age>=15:\n",
    "        print(\"young girl\")\n",
    "    else:\n",
    "        print(\"girl\")\n",
    "else:\n",
    "    print(\"Enter a valid gender\")"
   ]
  },
  {
   "cell_type": "code",
   "execution_count": 13,
   "id": "c37d8834-ad1a-466a-ace3-1f9359512283",
   "metadata": {},
   "outputs": [
    {
     "name": "stdin",
     "output_type": "stream",
     "text": [
      "Enter the number:  -1\n"
     ]
    },
    {
     "name": "stdout",
     "output_type": "stream",
     "text": [
      "negative\n"
     ]
    }
   ],
   "source": [
    "# wap ask the user enter a number\n",
    "# if number greater than or equal to zero\n",
    "#     if number greate than zero then print positive\n",
    "#     otherwise print zero\n",
    "# else print negative number\n",
    "\n",
    "\n",
    "number=eval(input(\"Enter the number: \"))\n",
    "if number>=0:\n",
    "    if number>0:\n",
    "        print(\"positive\")\n",
    "    else:\n",
    "        print(\"zero\")\n",
    "else:\n",
    "    print(\"negative\")"
   ]
  },
  {
   "cell_type": "code",
   "execution_count": 3,
   "id": "ea5c2983-0fe2-47f3-9c4e-0e434762a014",
   "metadata": {},
   "outputs": [
    {
     "name": "stdout",
     "output_type": "stream",
     "text": [
      "Enter 1 for Addition\n",
      "Enter 2 for Subtraction\n",
      "Enter 3 for Multiplication\n",
      "Enter 4 for Division\n"
     ]
    },
    {
     "name": "stdin",
     "output_type": "stream",
     "text": [
      "Enter number between 1 to 4 4\n",
      "Enter first number: 4\n",
      "Enter second number: 2\n"
     ]
    },
    {
     "name": "stdout",
     "output_type": "stream",
     "text": [
      "The Division of n1:4 and n2:2 is : 2.0\n"
     ]
    }
   ],
   "source": [
    "# print some statements like below\n",
    "# enter 1 for addition\n",
    "# enter 2 for subtraction\n",
    "# enter 3 for multiplication\n",
    "# enter 4 for division\n",
    "# wap ask the user enter number between 1 to 4 : operation\n",
    "# if operation==1\n",
    "#    n1=eval()\n",
    "#    n2=eval()\n",
    "#    add=n1+n2\n",
    "#    print(add)\n",
    "# elif operation==2\n",
    "#    n1=eval()\n",
    "#    n2=eval()\n",
    "#    sub=n1-n2\n",
    "#    print(sub)\n",
    "# elif operation==3\n",
    "#    n1=eval()\n",
    "#    n2=eval()\n",
    "#    mul=n1*n2\n",
    "#    print(mul)\n",
    "# elif operation==4\n",
    "#    n1=eval()\n",
    "#    n2=eval()\n",
    "#    div=n1/n2\n",
    "#    print(div)\n",
    "# else:\n",
    "#     print enter a valid number\n",
    "\n",
    "print(\"Enter 1 for Addition\")\n",
    "print(\"Enter 2 for Subtraction\")\n",
    "print(\"Enter 3 for Multiplication\")\n",
    "print(\"Enter 4 for Division\")\n",
    "oper=eval(input(\"Enter number between 1 to 4\"))\n",
    "if oper==1:\n",
    "    n1=eval(input(\"Enter first number:\"))\n",
    "    n2=eval(input(\"Enter second number:\"))\n",
    "    add=n1+n2\n",
    "    print(f\"The Addition of n1:{n1} and n2:{n2} is : {add}\")\n",
    "elif oper==2:\n",
    "    n1=eval(input(\"Enter first number:\"))\n",
    "    n2=eval(input(\"Enter second number:\"))\n",
    "    sub=n1-n2\n",
    "    print(f\"The Subtraction of n1:{n1} and n2:{n2} is : {sub}\")\n",
    "elif oper==3:\n",
    "    n1=eval(input(\"Enter first number:\"))\n",
    "    n2=eval(input(\"Enter second number:\"))\n",
    "    mul=n1*n2\n",
    "    print(f\"The Multiplication of n1:{n1} and n2:{n2} is : {mul}\")\n",
    "elif oper==4:\n",
    "    n1=eval(input(\"Enter first number:\"))\n",
    "    n2=eval(input(\"Enter second number:\"))\n",
    "    div=n1/n2\n",
    "    print(f\"The Division of n1:{n1} and n2:{n2} is : {div}\")\n",
    "else:\n",
    "    print(\"Enter a valid number\")"
   ]
  }
 ],
 "metadata": {
  "kernelspec": {
   "display_name": "Python 3 (ipykernel)",
   "language": "python",
   "name": "python3"
  },
  "language_info": {
   "codemirror_mode": {
    "name": "ipython",
    "version": 3
   },
   "file_extension": ".py",
   "mimetype": "text/x-python",
   "name": "python",
   "nbconvert_exporter": "python",
   "pygments_lexer": "ipython3",
   "version": "3.12.7"
  }
 },
 "nbformat": 4,
 "nbformat_minor": 5
}
